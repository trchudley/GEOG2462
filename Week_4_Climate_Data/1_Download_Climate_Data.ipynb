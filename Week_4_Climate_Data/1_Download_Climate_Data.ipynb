{
  "cells": [
    {
      "cell_type": "markdown",
      "metadata": {
        "id": "view-in-github",
        "colab_type": "text"
      },
      "source": [
        "<a href=\"https://colab.research.google.com/github/trchudley/GEOG2462/blob/main/Week_4_Climate_Data/1_Download_Climate_Data.ipynb\" target=\"_parent\"><img src=\"https://colab.research.google.com/assets/colab-badge.svg\" alt=\"Open In Colab\"/></a>"
      ]
    },
    {
      "cell_type": "markdown",
      "id": "40009b08-8f39-446b-b45a-369721de165d",
      "metadata": {
        "id": "40009b08-8f39-446b-b45a-369721de165d"
      },
      "source": [
        "# Download and visualise ERA5 climate data"
      ]
    },
    {
      "cell_type": "markdown",
      "id": "bOCCZlOX-alB",
      "metadata": {
        "id": "bOCCZlOX-alB"
      },
      "source": [
        "## Import GEE and relevant tools"
      ]
    },
    {
      "cell_type": "markdown",
      "id": "0fc4b98d-10d2-4e9f-bb12-9adadb7e5b92",
      "metadata": {
        "id": "0fc4b98d-10d2-4e9f-bb12-9adadb7e5b92"
      },
      "source": [
        "As usual, we begin by importing the relevant packages and initialising our connection to Google Earth Engine:"
      ]
    },
    {
      "cell_type": "code",
      "execution_count": null,
      "id": "Ei7kdCOi-XKC",
      "metadata": {
        "id": "Ei7kdCOi-XKC"
      },
      "outputs": [],
      "source": [
        "import ee\n",
        "import geemap\n",
        "import pandas as pd\n",
        "import matplotlib.pyplot as plt\n",
        "from google.colab import drive\n",
        "\n",
        "ee.Authenticate()  # Trigger the authentication flow.\n",
        "ee.Initialize(project='ee-trchudley')    # Change to your own default project name."
      ]
    },
    {
      "cell_type": "markdown",
      "id": "3hKMJgqwB-sY",
      "metadata": {
        "id": "3hKMJgqwB-sY"
      },
      "source": [
        "## ERA5 data"
      ]
    },
    {
      "cell_type": "markdown",
      "id": "d917aed4-c9c5-48d1-8d16-bacfd2321870",
      "metadata": {
        "id": "d917aed4-c9c5-48d1-8d16-bacfd2321870"
      },
      "source": [
        "This week, we will be doing something slightly different. To supplement our Landsat observational data, we will be downloading a time-series of monthly climate data. The climate dataset we will be using is ERA5: the fifth generation atmospheric reanalysis of the global climate by the European Centre for Medium-Range Weather Forecasts (ECMWF). This is a _reanalysis_ dataset, combining contemporaneous observations and numerical modelling to provide a historical set of 'maps without gaps' from January 1940 to present. If you haven't encountered reanalysis data before, I would recommend reading the following short websites (including a short video!) to get a handle on things:\n",
        "\n",
        " - https://climate.copernicus.eu/climate-reanalysis\n",
        " - https://climatedataguide.ucar.edu/climate-data/atmospheric-reanalysis-overview-comparison-tables\n",
        "\n",
        "It is worth keeping in mind the pros and cons of using reanalysis data. It is useful as it can provide a known dataset over any region of interest you like, even where observational data is poor. However, the further you get from observational data, the more your are relying on model accuracy. Global reanalyses are often run on the scale of tens of kilometres, meaning that it will not properly account for local topography and other fine-scale aspects of weather and climate. Generally, finding local observational data or high-resolution model runs might be prefereable for local studies; however, this approach will work for now as it will provide a consistent baseline dataset for our projects. If you can easily find local data for your project though, all the better!\n",
        "\n",
        "We will be using the [ERA5-Land](https://www.ecmwf.int/en/era5-land) monthly aggregated dataset, which has a spatial resolution of 9 km. It is handily [also provided by Google Earth Engine](https://developers.google.com/earth-engine/datasets/catalog/ECMWF_ERA5_LAND_MONTHLY_AGGR), meaning we can use the same principles and interface to interact with the data as we have already been doing.\n",
        "\n",
        "A quick example from the Earth Engine docucmentation shows how we can visualise the data (note the spatial resolution) - however, for the rest of the notebook we will focus on extracting time-series at a single point.\n"
      ]
    },
    {
      "cell_type": "code",
      "execution_count": null,
      "id": "eUQr7ekwCD6K",
      "metadata": {
        "id": "eUQr7ekwCD6K"
      },
      "outputs": [],
      "source": [
        "dataset = ee.ImageCollection('ECMWF/ERA5_LAND/MONTHLY_AGGR').first();\n",
        "\n",
        "visualization = {\n",
        "  'bands': ['temperature_2m'], 'min': 250, 'max': 320,\n",
        "  'palette': [\n",
        "    '000080', '0000d9', '4000ff', '8000ff', '0080ff', '00ffff',\n",
        "    '00ff80', '80ff00', 'daff00', 'ffff00', 'fff500', 'ffda00',\n",
        "    'ffb000', 'ffa400', 'ff4f00', 'ff2500', 'ff0a00', 'ff00ff',\n",
        "  ]\n",
        "};\n",
        "\n",
        "Map = geemap.Map()  # Create empty map\n",
        "Map.setCenter(70, 45, 3);\n",
        "Map.addLayer(\n",
        "    dataset, visualization, 'Air temperature [K] at 2m height', True, 0.8\n",
        "    )\n",
        "Map"
      ]
    },
    {
      "cell_type": "markdown",
      "id": "YjZZ3POgC5gq",
      "metadata": {
        "id": "YjZZ3POgC5gq"
      },
      "source": [
        "You might have noticed that we needed to scale the temperature data between 250 and 320! This is because the temperature data is provided in Kelvin (0 K = −273.15 °C)."
      ]
    },
    {
      "cell_type": "markdown",
      "id": "5D-cW5IeJvjY",
      "metadata": {
        "id": "5D-cW5IeJvjY"
      },
      "source": [
        "## Download ERA5 time series at a point"
      ]
    },
    {
      "cell_type": "markdown",
      "id": "8ee72c75-c1d9-4345-8b8c-6d6002e8a5ae",
      "metadata": {
        "id": "8ee72c75-c1d9-4345-8b8c-6d6002e8a5ae"
      },
      "source": [
        "We will start in a familiar way: by setting a desired location in latitude and longitude. For now, we'll use the same location as last week, in case comparing time-series reveals something interesting..."
      ]
    },
    {
      "cell_type": "code",
      "execution_count": null,
      "id": "AmfQrOAi-Ruy",
      "metadata": {
        "id": "AmfQrOAi-Ruy"
      },
      "outputs": [],
      "source": [
        "# Location - editable\n",
        "latitude = 41.017           # Degrees of latitude\n",
        "longitude = -123.611        # Degrees of longitude\n",
        "location_name = 'hoopa'     # recognisable name, to create a useful file name\n",
        "\n",
        "# Create a point geometry at the specified location\n",
        "point = ee.Geometry.Point(longitude, latitude)\n"
      ]
    },
    {
      "cell_type": "markdown",
      "id": "6YX-xPchBIKa",
      "metadata": {
        "id": "6YX-xPchBIKa"
      },
      "source": [
        "We will also have to decide what variables we are interested in. For now, I will select only the 2 m air temperature (generally considered the 'surface' air temperature in meteorology), and the total sum precipitation over the month. There are an inordinate amount of options you could add to this list if you would like (e.g. for doing an NDSI project, it might be useful to have snowfall...). A complete catalogue of variables, including useful descriptions of what the data actually represents (units, meanings, etc) can be found on the [Earth Engine documentation](https://developers.google.com/earth-engine/datasets/catalog/ECMWF_ERA5_LAND_MONTHLY_AGGR#bands).\n",
        "\n",
        "> **Tasks:**\n",
        "> 1. Take a look at the documentation linked above and read the 'temperature_2m' and 'total_precipitation_sum' (search the page using `ctrl+f` to save yourself time). What are the weaknesses in using a 9 km resolution dataset for this assessment?\n",
        "> 2. Are there any other variables that might be useful for the project you have in mind?"
      ]
    },
    {
      "cell_type": "code",
      "execution_count": null,
      "id": "be781f2d-66f3-4527-ac51-e689a9e48b21",
      "metadata": {
        "id": "be781f2d-66f3-4527-ac51-e689a9e48b21"
      },
      "outputs": [],
      "source": [
        "# Names of the variables we want to download -- add more if you like!\n",
        "variables = [\n",
        "    'temperature_2m',\n",
        "    'total_precipitation_sum',\n",
        "    ]"
      ]
    },
    {
      "cell_type": "markdown",
      "id": "c92cc9cf-33da-44d5-9708-055b87fc9063",
      "metadata": {
        "id": "c92cc9cf-33da-44d5-9708-055b87fc9063"
      },
      "source": [
        "Now that we have our variables, we can search through the dataset in a way that might look vaguely familiar. We are once again selecting an image collection (this time, the ERA5 option), and filtering to chosen dates and variables. Note that, even though this is a modelling product, Earth Engine still stores and thinks of the dataset as an image (hence, the documentation above referring to 'bands' rather than 'variables'). This is quite a handy way to take advantage of Earth Engine, which is nominally for remote sensing data and image analysis, for modelling purposes! To make things easy, I haven't given you an option for dates - I've set (or 'hard-coded') it to return a dataset from 2013 - 2024, seeing as that is our period of interest over the Landsat 8 record.\n",
        "\n",
        "Finally, a function 'maps' through the dataset, using a `reduceRegion` function to find the variable values at the pixel that overlaps our study point. It sets these values (along with the year and date) as properties of the image in the image collection - for example, as well as a metadata number for 'cloud cover', it will now have one for temperature at our point."
      ]
    },
    {
      "cell_type": "code",
      "execution_count": null,
      "id": "aZPhdZjk-Ulu",
      "metadata": {
        "id": "aZPhdZjk-Ulu"
      },
      "outputs": [],
      "source": [
        "\n",
        "# Define the dataset as the ERA5 monthly mean data\n",
        "dataset = ee.ImageCollection('ECMWF/ERA5_LAND/MONTHLY_AGGR')\n",
        "\n",
        "# Filter the dataset to the desired time range\n",
        "dataset = dataset.filter(ee.Filter.date('2013-01-01', '2023-12-31'))\n",
        "\n",
        "# Select only the relevant variables\n",
        "dataset = dataset.select(variables)\n",
        "\n",
        "# Go through the collection, finding the nearest values to the set lat/lon\n",
        "dataset = dataset.map(\n",
        "    lambda image: image.set(\n",
        "        'era5',\n",
        "        image.reduceRegion(\n",
        "            reducer=ee.Reducer.first(),\n",
        "            geometry=point,\n",
        "            scale=image.projection().nominalScale()  # Use native resolution\n",
        "        ).set('year', image.date().get('year')).set('month', image.date().get('month'))\n",
        "    )\n",
        ")\n"
      ]
    },
    {
      "cell_type": "markdown",
      "id": "6919ba87-aa2b-4ecc-92e4-a9b65c970fdd",
      "metadata": {
        "id": "6919ba87-aa2b-4ecc-92e4-a9b65c970fdd"
      },
      "source": [
        "We can now extract this data and turn it into a `Pandas` dataframe/table (recall last week). Don't worry too much about what is going on in this cell - just note that once you run it, it produces a nice and sensible table with all of our data!"
      ]
    },
    {
      "cell_type": "code",
      "execution_count": null,
      "id": "808860c6-6ca9-41a8-8926-fc9672e28527",
      "metadata": {
        "id": "808860c6-6ca9-41a8-8926-fc9672e28527"
      },
      "outputs": [],
      "source": [
        "# Get this data as a dictionary, and turn it into a Pandas dataframe (table)\n",
        "era5_dict = dataset.aggregate_array('era5').getInfo()\n",
        "era5 = pd.DataFrame(era5_dict)\n",
        "\n",
        "# Construct a proper 'date' column from the year and month data.\n",
        "dates = pd.to_datetime(dict(year=era5.year, month=era5.month, day=15))\n",
        "\n",
        "# Drop the 'year' and 'month' columns and insert the 'date' column instead as the first column.\n",
        "era5.drop(labels=['year', 'month'], axis=1,inplace = True)\n",
        "era5.insert(0, 'date', dates)\n",
        "\n",
        "# Visualise table\n",
        "era5"
      ]
    },
    {
      "cell_type": "markdown",
      "id": "0e44dfeb-f8ad-4113-80d5-0099ae53e94c",
      "metadata": {
        "id": "0e44dfeb-f8ad-4113-80d5-0099ae53e94c"
      },
      "source": [
        "We're going to do some things to make things human-readable. First, we'll convert the temperature from Kelvin to Celcius by subtracting 274.15 degrees. Second, we will convert the total monthly rainfall from metres to mm by multiplying by 1000.\n",
        "\n",
        "If you've included any additional variables, this is the point where you might want to introduce some corrections of your own, after consulting with the documentation."
      ]
    },
    {
      "cell_type": "code",
      "execution_count": null,
      "id": "60c7d3b7-d1ca-4f08-ad64-c50d7e45c415",
      "metadata": {
        "id": "60c7d3b7-d1ca-4f08-ad64-c50d7e45c415"
      },
      "outputs": [],
      "source": [
        "# Create new 'corrected' table as a copy of the first.\n",
        "era5_corr = era5.copy()\n",
        "\n",
        "# Transition temperature from Kelvin to Celcius\n",
        "era5_corr['temperature_2m'] = era5_corr['temperature_2m'] - 274.15\n",
        "\n",
        "# Transition total rainfall from m to mm\n",
        "era5_corr['total_precipitation_sum'] = era5_corr['total_precipitation_sum'] * 1000\n",
        "\n",
        "# Visualise new table\n",
        "era5_corr"
      ]
    },
    {
      "cell_type": "markdown",
      "id": "285d4295-8636-46c2-a293-1bacbdc7c960",
      "metadata": {
        "id": "285d4295-8636-46c2-a293-1bacbdc7c960"
      },
      "source": [
        "Let's now use the `matplotlib` package to visualise this data. As with last week, don't worry too much about what's going on here (unless you want to!) - we'll export the data to your Google Drive so you can create figures and perform analyses using your preferred software (Excel, etc.)."
      ]
    },
    {
      "cell_type": "code",
      "execution_count": null,
      "id": "39c2CmllERI7",
      "metadata": {
        "id": "39c2CmllERI7"
      },
      "outputs": [],
      "source": [
        "fig, axes = plt.subplots(nrows=2, layout='constrained', figsize=(8, 5))\n",
        "\n",
        "# For the first axis...\n",
        "ax = axes[0]\n",
        "# Plot the temperature in red on the first axis\n",
        "era5_corr.plot('date', 'temperature_2m', ax=ax, color='tab:red', legend=False)\n",
        "# Set the y axis label\n",
        "ax.set_ylabel('2 m Temperature [˚C]')\n",
        "\n",
        "# For the second axis...\n",
        "ax = axes[1]\n",
        "# Plot the total monthly precipitaiton in blue on the second axis\n",
        "era5_corr.plot('date', 'total_precipitation_sum', ax=ax, color='tab:blue', legend=False)\n",
        "# Set the y axis label ('\\n' forces a line break to fit it on the axis)\n",
        "ax.set_ylabel('Total Monthly\\nPrecipitation [mm]')\n",
        "# Set the y lower limit to zero\n",
        "ax.set_ylim(0, None)\n",
        "\n",
        "for ax in axes:  # Loop through both axes, applying the same rules to both\n",
        "\n",
        "  # Apply a grid\n",
        "  ax.grid()\n",
        "\n",
        "  # Set the x axis limits between 2013 and 2024\n",
        "  ax.set_xlim(pd.to_datetime('2013-01-01'), pd.to_datetime('2024-01-01'))\n",
        "\n",
        "  # Set the x axis label to 'Date'\n",
        "  ax.set_xlabel('Date')\n"
      ]
    },
    {
      "cell_type": "markdown",
      "id": "c69bd431-b4ba-4753-82de-7ed237eb22c0",
      "metadata": {
        "id": "c69bd431-b4ba-4753-82de-7ed237eb22c0"
      },
      "source": [
        "Regardless of what software you choose to plot the data, it's clear we've got a good dataset to analyse and find potential explanations for the trends and events we've observed in our remote sensing data!\n",
        "\n",
        "Last week, we saw potential high wildfire years in 2020 and 2023. It's interesting to compare this to our data here. Neuther of those years seem to have particularly high mean monthly temperatures through the summer. However, there is quite low precipitation in the 2020-2023 period. A look at the literature may reveal studies that investigate which are stronger controls - and perhaps the solution might lie in other variables. For instance, the Google Earth Engine documentation shows there is a `temperature_2m_max` variable. Maximum temperature might be more important control than mean temperature for initiating wildfires."
      ]
    },
    {
      "cell_type": "markdown",
      "id": "k4RnoNKOKuGC",
      "metadata": {
        "id": "k4RnoNKOKuGC"
      },
      "source": [
        "## Export data to Google Drive"
      ]
    },
    {
      "cell_type": "markdown",
      "id": "5e11e7c4-c302-4130-b567-647d971d9e01",
      "metadata": {
        "id": "5e11e7c4-c302-4130-b567-647d971d9e01"
      },
      "source": [
        "We can export the data to our Google Drive from Colaboratory in the same way as last week. First, we must 'mount' our Google Drive onto Colab:"
      ]
    },
    {
      "cell_type": "code",
      "execution_count": null,
      "id": "Ts947qGwHQ29",
      "metadata": {
        "id": "Ts947qGwHQ29"
      },
      "outputs": [],
      "source": [
        "drive.mount('/content/drive')"
      ]
    },
    {
      "cell_type": "markdown",
      "id": "0286407d-bfd8-4ccb-823e-10ea0adc141c",
      "metadata": {
        "id": "0286407d-bfd8-4ccb-823e-10ea0adc141c"
      },
      "source": [
        "Then, we can select what top-level folder within our Google Drive we would like to store the csv in:"
      ]
    },
    {
      "cell_type": "code",
      "execution_count": null,
      "id": "pqjwCPDELWkN",
      "metadata": {
        "id": "pqjwCPDELWkN"
      },
      "outputs": [],
      "source": [
        "# You can edit this variable\n",
        "folder = 'scires_project_2A'"
      ]
    },
    {
      "cell_type": "markdown",
      "id": "053fccff-e5a1-4488-b81a-913732c5ad66",
      "metadata": {
        "id": "053fccff-e5a1-4488-b81a-913732c5ad66"
      },
      "source": [
        "Then, we automatically construct a file name based on the location name from earlier, and export a `csv` file there. This csv file can be opened in other software for analysis."
      ]
    },
    {
      "cell_type": "code",
      "execution_count": null,
      "id": "JxhxjD1QLwH-",
      "metadata": {
        "id": "JxhxjD1QLwH-"
      },
      "outputs": [],
      "source": [
        "# Construct the filename automatically\n",
        "filename = location_name + '_era5.csv'\n",
        "\n",
        "# Print out filename for reference\n",
        "print(\"The image will be saved to your Google Drive at:\\n\" + folder + '/' + filename + '\\n')\n",
        "\n",
        "# Export the pandas dataframe to a csv file\n",
        "era5_corr.to_csv(f'/content/drive/My Drive/{folder}/{filename}', index=False)\n",
        "\n",
        "print('Saved.')"
      ]
    },
    {
      "cell_type": "markdown",
      "id": "ca8331cb-5eaa-4127-a1ad-7a25a880fb0e",
      "metadata": {
        "id": "ca8331cb-5eaa-4127-a1ad-7a25a880fb0e"
      },
      "source": [
        "Once again, this will now be in your Google Drive folder of choice. You can download, visualise, and perform further analysis to your liking. You may wish to compare extremes or changes in NDI identified from approaches outlines in Weeks 2-3 to extremes or changes visible in the climate data."
      ]
    }
  ],
  "metadata": {
    "colab": {
      "provenance": [],
      "include_colab_link": true
    },
    "kernelspec": {
      "display_name": "Python (geospatial)",
      "language": "python",
      "name": "geospatial"
    },
    "language_info": {
      "codemirror_mode": {
        "name": "ipython",
        "version": 3
      },
      "file_extension": ".py",
      "mimetype": "text/x-python",
      "name": "python",
      "nbconvert_exporter": "python",
      "pygments_lexer": "ipython3",
      "version": "3.10.9"
    }
  },
  "nbformat": 4,
  "nbformat_minor": 5
}
