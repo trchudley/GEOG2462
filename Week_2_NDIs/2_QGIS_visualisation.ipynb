{
  "cells": [
    {
      "cell_type": "markdown",
      "id": "3f6726bd-c08a-4348-b548-bda9362db1ca",
      "metadata": {
        "id": "3f6726bd-c08a-4348-b548-bda9362db1ca"
      },
      "source": [
        "# Visualising NDI in a map format in QGIS."
      ]
    },
    {
      "cell_type": "markdown",
      "source": [
        "This set of instructions assumes you're familiar with the QGIS instructions from last week, and that you've downloaded the data produced in the first NDI notebook from Google Drive to somewhere sensible.\n",
        "\n",
        "Open up QGIS as you did last week through the 'Geography QGIS' option in AppsAnywhere. It is best to start a new project for a new region, as Peru will have a different default UTM projection to Durham. (remember to save frequently again!)\n",
        "\n",
        "Add the Landsat image to the project (the one ending `_image.tif`). This should look familiar to last week - an RGB image of the region of interest, as you produced using Google Earth Engine. You can once again mess around with the visualisation properties. Try bands 6-4-3 to see what this false-colour visualisation does to highlight snow and ice in contrast to vegetation.\n"
      ],
      "metadata": {
        "id": "ztqQ9-mO-KyB"
      },
      "id": "ztqQ9-mO-KyB"
    },
    {
      "cell_type": "markdown",
      "source": [
        "[image of false-colour vis]"
      ],
      "metadata": {
        "id": "MFPvA54JAc0n"
      },
      "id": "MFPvA54JAc0n"
    },
    {
      "cell_type": "markdown",
      "source": [
        "Once you've got a (false-) colour visualisation you're happy with, add the NDSI image to the project (the one ending `_NSDI.tif`).\n",
        "\n",
        "This is a single-band image, so should appear as a greyscale image when visualised. It is more typical to visualise NDI as a colour scale centred around zero, so we will do that now.\n",
        "\n",
        "Open up the layer properties for the NDSI image (in the layer panel, right click > properties, or double click on the layer). Go to the `symbology` tab and you will see the default greyscale settings. Change the `Render type` dropdown bar to `Singelband pseudocolor`. You now have a couple options to mess with.\n",
        "\n",
        "The first is the `Min` and `Max` values. You can start by setting these to -1 and +1, but if your NDI values are particularly clustered around zero, you could try compressing this to e.g. -0.4 and 0.4. Make sure the absolute negative and positive values are the same, so that is is centred on zero.\n",
        "\n",
        "The second is the colour scale. Have an explore of these to your heart's content - there are more avaible under the `More color scales` option. As we are displaying a diverging colour scale (centred on zero), it makes sense to choose a diverging colour bar (e.g. red-blue, purple-green, with a white/grey/etc middle). Try and pick one that is (i) colour-blind friendly (no red-green!) and (ii) communicates something about the NDI value you are showing. As we are currently looking at ice, a red-blue colour scale makes sense, with blue denoting ice. brown-green is commonly used in NDVI studies. Note the `Invert Color Ramp` option in the drop-down menu, which can be used to make blue-red into red-blue if so desired (and vice versa)."
      ],
      "metadata": {
        "id": "jRj45paiAbWh"
      },
      "id": "jRj45paiAbWh"
    },
    {
      "cell_type": "markdown",
      "source": [
        "[image of colour ramp properties]"
      ],
      "metadata": {
        "id": "iz3BfEwJDy7v"
      },
      "id": "iz3BfEwJDy7v"
    },
    {
      "cell_type": "markdown",
      "source": [
        "Once you're happy with this, we can add the KML file. Either go through the toolbar (`Layer` > `Add Layer` > `Add Vector Layer`) or drag and drop the file into the QGIS main window. You may have a small pop-up appear - just click `Add Layers` and move on.\n",
        "\n",
        "The vector outline will appear as a thin line of possibly random visualisation parameters. We can choose the visualisation of this as well. Open up the layer settings, go to `Symbology` again, and this time ensure the top drop-down list is set to `Single Symbol`. Whilst there's plenty of items to mess around with here, for now just choose a suitable option from the defaults."
      ],
      "metadata": {
        "id": "ZRfyiwHQD8kq"
      },
      "id": "ZRfyiwHQD8kq"
    },
    {
      "cell_type": "markdown",
      "source": [
        "[image of symbol properties]"
      ],
      "metadata": {
        "id": "zPw_v1PtE_yN"
      },
      "id": "zPw_v1PtE_yN"
    },
    {
      "cell_type": "markdown",
      "source": [
        "Now we can make a map of showing the above data. Create a new map in the usual way (`Project` > `New Layout`). Click the background and, in the `Item properties`, choose an appropriate page size - for now, I'm using A5.\n",
        "\n",
        "Create a new map using the `Add Map` tool. Tip: hold down the `Shift` key as you click and drag to create the map, and it will maintain a square shape, just like our region of interest.\n",
        "\n",
        "Use the `Move item content` to pan and zoom the map to your desired outline. Tip: hold the `Shift` key and your zooming (using the mouse wheel) will be slower and more manageable.\n",
        "\n",
        "You can also add any more visual flare, as discussed last week, at this point. Ensure this map is showing the (false-)colour image rather than the NDI. You do this by visualising the correct layers in the main QGIS window (i.e. have the image ticked, but the NDI and vector layer unticked).\n",
        "\n",
        "As previously, lock this map down by ticking `Lock layers` and `Lock styles for layers` in the map `Item properties`."
      ],
      "metadata": {
        "id": "EqIpxXNRE_0c"
      },
      "id": "EqIpxXNRE_0c"
    },
    {
      "cell_type": "markdown",
      "source": [
        "[image of map at this point]"
      ],
      "metadata": {
        "id": "B-Y4h5MPE_3i"
      },
      "id": "B-Y4h5MPE_3i"
    },
    {
      "cell_type": "markdown",
      "source": [
        "After you've done this, we can duplicate the map simply by copy and pasting the map item, either by right clicking or selecting the map and hitting `ctrl+C` and `ctrl+V`.\n",
        "\n",
        "Click on this new map to select it, and then untick the `Lock layers` and `Lock styles for layers` in the `Item properties` window. Return to the main QGIS window, and visualise the NDI and vector file instead of the main image. Return _back_ to the map window, and retick the `Lock layers` and `Lock styles for layers` options to lock the map again."
      ],
      "metadata": {
        "id": "wuD1eaGeGVhU"
      },
      "id": "wuD1eaGeGVhU"
    },
    {
      "cell_type": "markdown",
      "source": [
        "[image of map at this point]"
      ],
      "metadata": {
        "id": "hQF0UOkbHgao"
      },
      "id": "hQF0UOkbHgao"
    },
    {
      "cell_type": "markdown",
      "source": [
        "As previously, you can decorate the maps at this point following last week. Add a scale bar and north arrow. It doesn't matter which map object these are tied to, as both maps should show the same thing.\n",
        "\n",
        "We can also add a legend at this point. Click the `Add Legend` button in the left toolbar (it looks like a tiny legend with yellow, red, and green icons). Click anywhere on the page to add it.\n",
        "\n",
        "This might look a bit of a mess now, as all of our layers have been added with their default names!"
      ],
      "metadata": {
        "id": "t3ehvvf0HiRi"
      },
      "id": "t3ehvvf0HiRi"
    },
    {
      "cell_type": "markdown",
      "source": [
        "[image of messy legend]"
      ],
      "metadata": {
        "id": "t6kXB6zuIMk-"
      },
      "id": "t6kXB6zuIMk-"
    },
    {
      "cell_type": "markdown",
      "source": [
        "We can solve this, once again, in the item properties. Click the legend and scroll down through the item properties until you reach the `Legend Items`. Untick the `Auto Update` box to break the automatic link to your QGIS project and allow you to edit the items.\n",
        "\n",
        "From here, you can remove items by highlighting them in the list and clicking the big red minus button. Do this for the `_image` layer. You can also edit the names of the layers by double clicking on them in the list. Rename them to something more informative and human-friendly!"
      ],
      "metadata": {
        "id": "-VHHtEhmIOsE"
      },
      "id": "-VHHtEhmIOsE"
    },
    {
      "cell_type": "markdown",
      "source": [
        "[image of the final map]"
      ],
      "metadata": {
        "id": "V_CSEbqPJwEV"
      },
      "id": "V_CSEbqPJwEV"
    },
    {
      "cell_type": "markdown",
      "source": [
        "You might wish to alter the page size again to properly bound your map (altering the `Width` and `Height` sizes rather than just selecting a default page size such as A4).\n",
        "\n",
        "As previously, you can `Export as image` in the top toolbar."
      ],
      "metadata": {
        "id": "DWbV_AD7JyVm"
      },
      "id": "DWbV_AD7JyVm"
    }
  ],
  "metadata": {
    "kernelspec": {
      "display_name": "Python 3 (ipykernel)",
      "language": "python",
      "name": "python3"
    },
    "language_info": {
      "codemirror_mode": {
        "name": "ipython",
        "version": 3
      },
      "file_extension": ".py",
      "mimetype": "text/x-python",
      "name": "python",
      "nbconvert_exporter": "python",
      "pygments_lexer": "ipython3",
      "version": "3.10.12"
    },
    "colab": {
      "provenance": []
    }
  },
  "nbformat": 4,
  "nbformat_minor": 5
}