{
  "cells": [
    {
      "cell_type": "markdown",
      "id": "3f6726bd-c08a-4348-b548-bda9362db1ca",
      "metadata": {
        "id": "3f6726bd-c08a-4348-b548-bda9362db1ca"
      },
      "source": [
        "# Visualising NDI in a map format in QGIS."
      ]
    },
    {
      "cell_type": "markdown",
      "id": "ztqQ9-mO-KyB",
      "metadata": {
        "id": "ztqQ9-mO-KyB"
      },
      "source": [
        "This set of instructions assumes you're familiar with the QGIS instructions from last week, and that you've downloaded the data produced in the first NDI notebook from Google Drive to somewhere sensible.\n",
        "\n",
        "Open up QGIS as you did last week through the 'Geography QGIS' option in AppsAnywhere. It is best to start a new project for a new region, as Peru will have a different default UTM projection to Durham. (remember to save frequently again!)\n",
        "\n",
        "Add the Landsat image to the project (the one ending `_image.tif`). This should look familiar to last week - an RGB image of the region of interest, as you produced using Google Earth Engine."
      ]
    },
    {
      "cell_type": "markdown",
      "id": "39307e68-0d9c-4cf2-a988-daa9567f57cb",
      "metadata": {
        "id": "39307e68-0d9c-4cf2-a988-daa9567f57cb"
      },
      "source": [
        "![image](https://github.com/trchudley/GEOG2462/blob/main/_images/w2_1.png?raw=true)"
      ]
    },
    {
      "cell_type": "markdown",
      "id": "ab9ab96e-7527-4c9a-ac94-cec02be244d5",
      "metadata": {
        "id": "ab9ab96e-7527-4c9a-ac94-cec02be244d5"
      },
      "source": [
        "You can once again mess around with the visualisation properties. Try bands 6-4-3 to see what this false-colour visualisation does to highlight snow and ice in contrast to vegetation."
      ]
    },
    {
      "cell_type": "markdown",
      "id": "MFPvA54JAc0n",
      "metadata": {
        "id": "MFPvA54JAc0n"
      },
      "source": [
        "![image](https://github.com/trchudley/GEOG2462/blob/main/_images/w2_2.png?raw=true)\n",
        "\n",
        "![image](https://github.com/trchudley/GEOG2462/blob/main/_images/w2_3.png?raw=true)"
      ]
    },
    {
      "cell_type": "markdown",
      "id": "f4d70cfa-30d7-47da-9f43-167272a6979e",
      "metadata": {
        "id": "f4d70cfa-30d7-47da-9f43-167272a6979e"
      },
      "source": [
        "Once you've got a (false-) colour visualisation you're happy with, add the NDSI image to the project (the one ending `_NSDI.tif`)."
      ]
    },
    {
      "cell_type": "markdown",
      "id": "3b084723-9cd8-40d8-8c93-9495f26b5655",
      "metadata": {
        "id": "3b084723-9cd8-40d8-8c93-9495f26b5655"
      },
      "source": [
        "![image](https://github.com/trchudley/GEOG2462/blob/main/_images/w2_4.png?raw=true)"
      ]
    },
    {
      "cell_type": "markdown",
      "id": "jRj45paiAbWh",
      "metadata": {
        "id": "jRj45paiAbWh"
      },
      "source": [
        "This is a single-band image, so should, by default, appear as a greyscale image when visualised. It is more typical to visualise NDI as a colour scale centred around zero, so we will do that now.\n",
        "\n",
        "Open up the layer properties for the NDSI image (in the layer panel, right click > properties, or double click on the layer). Go to the `symbology` tab and you will see the default greyscale settings. Change the `Render type` dropdown bar to `Singelband pseudocolor`. You now have a couple options to mess with."
      ]
    },
    {
      "cell_type": "markdown",
      "id": "9c0fb76b-437e-49e9-9dd1-4cdc08786f5b",
      "metadata": {
        "id": "9c0fb76b-437e-49e9-9dd1-4cdc08786f5b"
      },
      "source": [
        "![image](https://github.com/trchudley/GEOG2462/blob/main/_images/w2_5.png?raw=true)"
      ]
    },
    {
      "cell_type": "markdown",
      "id": "8d3499dd-cacc-4f38-ad78-ffb55270f3c2",
      "metadata": {
        "id": "8d3499dd-cacc-4f38-ad78-ffb55270f3c2"
      },
      "source": [
        "The first are the `Min` and `Max` values. You can start by setting these to -1 and +1, but if your NDI values are particularly clustered around zero, you could try compressing this to e.g. -0.4 and 0.4. Make sure the absolute negative and positive values are the same, so that is is centred on zero.\n",
        "\n",
        "The second is the colour scale. Have an explore of these to your heart's content - there are more avaible under the `More color scales` option. As we are displaying a diverging colour scale (centred on zero), it makes sense to choose a diverging colour bar (e.g. red-blue, purple-green, with a white/grey/etc middle). Try and pick one that is (i) colour-blind friendly (no red-green!) and (ii) communicates something about the NDI value you are showing. As we are currently looking at ice, a red-blue colour scale makes sense, with blue denoting ice. brown-green is commonly used in NDVI studies. Note the `Invert Color Ramp` option in the drop-down menu, which can be used to make blue-red into red-blue if so desired (and vice versa)."
      ]
    },
    {
      "cell_type": "markdown",
      "id": "iz3BfEwJDy7v",
      "metadata": {
        "id": "iz3BfEwJDy7v"
      },
      "source": [
        "![image](https://github.com/trchudley/GEOG2462/blob/main/_images/w2_6.png?raw=true)"
      ]
    },
    {
      "cell_type": "markdown",
      "id": "ZRfyiwHQD8kq",
      "metadata": {
        "id": "ZRfyiwHQD8kq"
      },
      "source": [
        "Once you're happy with this, we can add the SHP/KML file (depending on what you've chosen to download). If you've got a shapefile, remember you need to download _all_ the associated files (.shx, .shp, .prj, .fix, .dbf, .cpg), Either go through the toolbar (`Layer` > `Add Layer` > `Add Vector Layer`) and select the SHP/KML file, or drag and drop the SHP/KML file into the QGIS main window. You may have a small pop-up appear - just click `Add Layers` and move on. The vector outline will appear as a thin line of possibly random visualisation parameters."
      ]
    },
    {
      "cell_type": "markdown",
      "id": "6914f652-eab6-427f-b6fd-1c260b04f745",
      "metadata": {
        "id": "6914f652-eab6-427f-b6fd-1c260b04f745"
      },
      "source": [
        "![image](https://github.com/trchudley/GEOG2462/blob/main/_images/w2_7.png?raw=true)"
      ]
    },
    {
      "cell_type": "markdown",
      "id": "e3a67a78-7c3e-4d3e-94da-acfc7c64a7cd",
      "metadata": {
        "id": "e3a67a78-7c3e-4d3e-94da-acfc7c64a7cd"
      },
      "source": [
        "We can choose the visualisation of this as well. Open up the layer settings, go to `Symbology` again, and this time ensure the top drop-down list is set to `Single Symbol`. Whilst there's plenty of items to mess around with here, for now just choose a suitable option from the defaults."
      ]
    },
    {
      "cell_type": "markdown",
      "id": "zPw_v1PtE_yN",
      "metadata": {
        "id": "zPw_v1PtE_yN"
      },
      "source": [
        "![image](https://github.com/trchudley/GEOG2462/blob/main/_images/w2_9.png?raw=true)\n",
        "\n",
        "![image](https://github.com/trchudley/GEOG2462/blob/main/_images/w2_10.png?raw=true)"
      ]
    },
    {
      "cell_type": "markdown",
      "id": "EqIpxXNRE_0c",
      "metadata": {
        "id": "EqIpxXNRE_0c"
      },
      "source": [
        "Now we can make a map of showing the above data. Create a new map in the usual way (`Project` > `New Layout`). Click the background and, in the `Item properties`, choose an appropriate page size - for now, I'm using A5.\n",
        "\n",
        "Create a new map using the `Add Map` tool. Tip: hold down the `Shift` key as you click and drag to create the map, and it will maintain a square shape, just like our region of interest. Ensure this map is showing the (false-)colour image rather than the NDI. You do this by visualising the correct layers in the main QGIS window (i.e. have the image ticked, but the NDI and vector layer unticked). As previously, lock this map down by ticking `Lock layers` and `Lock styles for layers` in the map `Item properties`.\n",
        "\n",
        "Use the `Move item content` to pan and zoom the map to your desired outline. Tip: hold the `Shift` key and your zooming (using the mouse wheel) will be slower and more manageable."
      ]
    },
    {
      "cell_type": "markdown",
      "id": "92eb67fe-87c8-4459-975e-41998d4e47cf",
      "metadata": {
        "id": "92eb67fe-87c8-4459-975e-41998d4e47cf"
      },
      "source": [
        "![image](https://github.com/trchudley/GEOG2462/blob/main/_images/w2_11.png?raw=true)"
      ]
    },
    {
      "cell_type": "markdown",
      "id": "57189424-1500-4963-aa41-8a7740a801a6",
      "metadata": {
        "id": "57189424-1500-4963-aa41-8a7740a801a6"
      },
      "source": [
        "You can also add any more visual flare, as discussed last week, at this point. Add a title, scale bar, and north arrow.\n"
      ]
    },
    {
      "cell_type": "markdown",
      "id": "B-Y4h5MPE_3i",
      "metadata": {
        "id": "B-Y4h5MPE_3i"
      },
      "source": [
        "![image](https://github.com/trchudley/GEOG2462/blob/main/_images/w2_12.png?raw=true)"
      ]
    },
    {
      "cell_type": "markdown",
      "id": "wuD1eaGeGVhU",
      "metadata": {
        "id": "wuD1eaGeGVhU"
      },
      "source": [
        "After you've done this, we can duplicate the map simply by copy and pasting the map item, either by right clicking or selecting the map and hitting `ctrl+C` and `ctrl+V`."
      ]
    },
    {
      "cell_type": "markdown",
      "id": "ef39583c-94cd-46c7-8e6b-259f3c4f3d4e",
      "metadata": {
        "id": "ef39583c-94cd-46c7-8e6b-259f3c4f3d4e"
      },
      "source": [
        "![image](https://github.com/trchudley/GEOG2462/blob/main/_images/w2_14.png?raw=true)"
      ]
    },
    {
      "cell_type": "markdown",
      "id": "504aa805-9219-4f41-af6d-465e88a346a6",
      "metadata": {
        "id": "504aa805-9219-4f41-af6d-465e88a346a6"
      },
      "source": [
        "Click on this new map to select it, and then untick the `Lock layers` and `Lock styles for layers` in the `Item properties` window. Return to the main QGIS window, and visualise the NDI and vector file instead of the main image. Return _back_ to the map window, and retick the `Lock layers` and `Lock styles for layers` options to lock the map again."
      ]
    },
    {
      "cell_type": "markdown",
      "id": "hQF0UOkbHgao",
      "metadata": {
        "id": "hQF0UOkbHgao"
      },
      "source": [
        "![image](https://github.com/trchudley/GEOG2462/blob/main/_images/w2_15.png?raw=true)"
      ]
    },
    {
      "cell_type": "markdown",
      "id": "t3ehvvf0HiRi",
      "metadata": {
        "id": "t3ehvvf0HiRi"
      },
      "source": [
        "Now, we will need to add a legend to communicate what our NDSI colours show. Click the `Add Legend` button in the left toolbar (it looks like a tiny legend with yellow, red, and green icons). Click anywhere on the page to add it.\n",
        "\n",
        "This might look a bit of a mess now, as all of our layers have been added with their default names!"
      ]
    },
    {
      "cell_type": "markdown",
      "id": "t6kXB6zuIMk-",
      "metadata": {
        "id": "t6kXB6zuIMk-"
      },
      "source": [
        "![image](https://github.com/trchudley/GEOG2462/blob/main/_images/w2_16.png?raw=true)"
      ]
    },
    {
      "cell_type": "markdown",
      "id": "-VHHtEhmIOsE",
      "metadata": {
        "id": "-VHHtEhmIOsE"
      },
      "source": [
        "We can solve this, once again, in the item properties. Click the legend and scroll down through the item properties until you reach the `Legend Items`. Untick the `Auto Update` box to break the automatic link to your QGIS project and allow you to edit the items.\n",
        "\n",
        "From here, you can remove items by highlighting them in the list and clicking the big red minus button. Do this for the `_image` layer. You can also edit the names of the layers by double clicking on them in the list. Rename them to something more informative and human-friendly!"
      ]
    },
    {
      "cell_type": "markdown",
      "id": "V_CSEbqPJwEV",
      "metadata": {
        "id": "V_CSEbqPJwEV"
      },
      "source": [
        "![image](https://github.com/trchudley/GEOG2462/blob/main/_images/w2_17.png?raw=true)"
      ]
    },
    {
      "cell_type": "markdown",
      "id": "DWbV_AD7JyVm",
      "metadata": {
        "id": "DWbV_AD7JyVm"
      },
      "source": [
        "In the above image, I have also altered the page size again to properly bound the map (altering the `Width` and `Height` sizes rather than just selecting a default page size such as A4).\n",
        "\n",
        "As previously, you can `Export as image` in the top toolbar."
      ]
    },
    {
      "cell_type": "markdown",
      "id": "870d1c5e-61d9-408e-a824-52d6629a031a",
      "metadata": {
        "id": "870d1c5e-61d9-408e-a824-52d6629a031a"
      },
      "source": [
        "![image](https://github.com/trchudley/GEOG2462/blob/main/_images/week_2_map.png?raw=true)"
      ]
    }
  ],
  "metadata": {
    "colab": {
      "provenance": []
    },
    "kernelspec": {
      "display_name": "Python 3 (ipykernel)",
      "language": "python",
      "name": "python3"
    },
    "language_info": {
      "codemirror_mode": {
        "name": "ipython",
        "version": 3
      },
      "file_extension": ".py",
      "mimetype": "text/x-python",
      "name": "python",
      "nbconvert_exporter": "python",
      "pygments_lexer": "ipython3",
      "version": "3.10.12"
    }
  },
  "nbformat": 4,
  "nbformat_minor": 5
}