{
  "nbformat": 4,
  "nbformat_minor": 0,
  "metadata": {
    "colab": {
      "provenance": [],
      "authorship_tag": "ABX9TyNwb0w9HIPm6G8lf5MYb4K9",
      "include_colab_link": true
    },
    "kernelspec": {
      "name": "python3",
      "display_name": "Python 3"
    },
    "language_info": {
      "name": "python"
    }
  },
  "cells": [
    {
      "cell_type": "markdown",
      "metadata": {
        "id": "view-in-github",
        "colab_type": "text"
      },
      "source": [
        "<a href=\"https://colab.research.google.com/github/trchudley/GEOG2462/blob/main/Week_2_NDIs/3_Summary_and_Actions.ipynb\" target=\"_parent\"><img src=\"https://colab.research.google.com/assets/colab-badge.svg\" alt=\"Open In Colab\"/></a>"
      ]
    },
    {
      "cell_type": "markdown",
      "source": [
        "# Week 2 Summary and Actions"
      ],
      "metadata": {
        "id": "-_gYt0X4LA5w"
      }
    },
    {
      "cell_type": "markdown",
      "source": [
        "This week, we learned how to:\n",
        "\n",
        "1. Calculate NDI for a Landsat 8 image using Python and Google Earth Engine.\n",
        "2. Use histograms to select sensible thresholds to partition the NDI output into a mask of classified land type.\n",
        "3. Convert this mask into vector polygon data, filtering out small/noisy polygons.\n",
        "4. Export this data to Google Drive.\n",
        "5. Plot this data in QGIS.\n",
        "\n",
        "We did this for the Quelcayya Ice Cap in 2023, showing how we can use these methods to classify ice extent. There are two tasks you can do now:\n",
        "\n",
        "**Task 1: Multitemporal Assessment of Ice Cap Change**\n",
        "\n",
        "1. Return to the NDI script and classify ice extent for Quelcayya Ice Cap in 2013, the earliest year of the Landsat 8 record. You will need to change the dates of interest to find a good image, and may need to select a new NDSI threshold as well.\n",
        "2. Export the new vector outline to your Google Drive, and add it to the map you produced in this session (make the new outline a different colour, and add it to the legend). Can you see how the QIC has changed in the last ten years?\n",
        "3. As part of the script, we automatically output the estimated size of QIC. What are the values for 2013 and 2023? How much ice area has been lost in absolute and percentage terms?\n",
        "\n",
        "**Task 2: Transferring this knowledge elsewhere**\n",
        "\n",
        "Last week, you were given the task of thinking about where and what your project might be on. Now is the time to see whether this can be put into action.\n",
        "\n",
        "1. Return to the NDI script, and try and perform an NDI classification using your new study region. You will have to choose and implement the appropriate NDI type.\n",
        "2. If appropriate, try and classify the image using thresholding. You may need to switch from `gt` to `lt` (greater than to less than) at this point, highlighted in the script.\n",
        "3. Construct a map of the new classification in QGIS.\n",
        "4. If you have time, perform this for multiple years/time periods to see if you can identify change."
      ],
      "metadata": {
        "id": "DM0hHe_ELFBX"
      }
    },
    {
      "cell_type": "code",
      "source": [],
      "metadata": {
        "id": "gbZI09IOLHqP"
      },
      "execution_count": null,
      "outputs": []
    }
  ]
}