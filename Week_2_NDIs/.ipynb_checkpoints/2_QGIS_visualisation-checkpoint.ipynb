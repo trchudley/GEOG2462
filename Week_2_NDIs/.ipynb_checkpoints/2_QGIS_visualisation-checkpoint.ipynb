{
 "cells": [
  {
   "cell_type": "markdown",
   "id": "3f6726bd-c08a-4348-b548-bda9362db1ca",
   "metadata": {},
   "source": [
    "# Visualising NDI in a map format in QGIS."
   ]
  },
  {
   "cell_type": "code",
   "execution_count": null,
   "id": "c4da350e-80d7-4459-a1f0-cc1c1e3c2c73",
   "metadata": {},
   "outputs": [],
   "source": []
  }
 ],
 "metadata": {
  "kernelspec": {
   "display_name": "Python 3 (ipykernel)",
   "language": "python",
   "name": "python3"
  },
  "language_info": {
   "codemirror_mode": {
    "name": "ipython",
    "version": 3
   },
   "file_extension": ".py",
   "mimetype": "text/x-python",
   "name": "python",
   "nbconvert_exporter": "python",
   "pygments_lexer": "ipython3",
   "version": "3.10.12"
  }
 },
 "nbformat": 4,
 "nbformat_minor": 5
}
