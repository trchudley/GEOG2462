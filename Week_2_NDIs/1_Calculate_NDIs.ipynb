{
  "cells": [
    {
      "cell_type": "markdown",
      "id": "d0217af6-bfa4-4f09-8179-b262aaea3eb6",
      "metadata": {
        "id": "d0217af6-bfa4-4f09-8179-b262aaea3eb6"
      },
      "source": [
        "<a target=\"_blank\" href=\"https://colab.research.google.com/github/trchudley/GEOG2462/blob/main/Week_2_NDIs/1_Calculate_NDIs.ipynb\">\n",
        "  <img src=\"https://colab.research.google.com/assets/colab-badge.svg\" alt=\"Open In Colab\"/>\n",
        "</a>"
      ]
    },
    {
      "cell_type": "markdown",
      "id": "0c4e9125-7321-4e43-a018-bf7da4c3d708",
      "metadata": {
        "id": "0c4e9125-7321-4e43-a018-bf7da4c3d708"
      },
      "source": [
        "# Calculate a normalised difference index in Google Earth Engine"
      ]
    },
    {
      "cell_type": "markdown",
      "id": "60585cf3-13c8-43e8-896d-2de33b1cdc96",
      "metadata": {
        "id": "60585cf3-13c8-43e8-896d-2de33b1cdc96"
      },
      "source": [
        "## Log in to Google Earth Engine"
      ]
    },
    {
      "cell_type": "markdown",
      "id": "67eb1f70-9ad4-4b98-a192-91ed49e869e2",
      "metadata": {
        "id": "67eb1f70-9ad4-4b98-a192-91ed49e869e2"
      },
      "source": [
        "Same as last week, we must log in to Google Earth Engine. Note that we are importing an additional library this week - `geemap`'s 'chart' library."
      ]
    },
    {
      "cell_type": "code",
      "execution_count": 1,
      "id": "c06194c5-7698-4f92-b1f0-23f17466c65a",
      "metadata": {
        "id": "c06194c5-7698-4f92-b1f0-23f17466c65a"
      },
      "outputs": [],
      "source": [
        "import ee\n",
        "import geemap\n",
        "import geemap.chart as chart\n",
        "import time\n",
        "\n",
        "ee.Authenticate()  # Trigger the authentication flow.\n",
        "ee.Initialize(project='ee-trchudley')    # Change to your own default project name."
      ]
    },
    {
      "cell_type": "markdown",
      "id": "bd586952-ae7f-4c0b-b6dc-cc6096b8dca9",
      "metadata": {
        "id": "bd586952-ae7f-4c0b-b6dc-cc6096b8dca9"
      },
      "source": [
        "## Search for a scene"
      ]
    },
    {
      "cell_type": "markdown",
      "id": "211690c7-f8a8-4446-98bf-563908690d94",
      "metadata": {
        "id": "211690c7-f8a8-4446-98bf-563908690d94"
      },
      "source": [
        "Again, as last week, we will outline some search parameters. This week, we will look at Quelcayya Ice Cap (QIC), in Peru, with the aim of extracting an outline of the ice cap.\n",
        "\n",
        "One note that I am considering this week that we didn't last week is the _time period_ over which we are searching. When extracting glacier boundaries, we want to do this at the end of the ablation season (i.e. the summer), so that we are not misclassifying snow. This is generally considered to be August-September in the Northern hemisphere. QIC is a little different as it sits in the tropics - instead, we choose the end of the dry season, which is nominally ~September. We will search for the least cloudy image between mid August and end September."
      ]
    },
    {
      "cell_type": "code",
      "execution_count": 104,
      "id": "654e83c6-d9b0-4e4d-b328-8f8f00f72948",
      "metadata": {
        "colab": {
          "base_uri": "https://localhost:8080/",
          "height": 17
        },
        "id": "654e83c6-d9b0-4e4d-b328-8f8f00f72948",
        "outputId": "1afccd72-3bd3-4a87-bf78-cb60059abf1a"
      },
      "outputs": [
        {
          "output_type": "display_data",
          "data": {
            "text/plain": [
              "<IPython.core.display.HTML object>"
            ],
            "text/html": [
              "\n",
              "            <style>\n",
              "                .geemap-dark {\n",
              "                    --jp-widgets-color: white;\n",
              "                    --jp-widgets-label-color: white;\n",
              "                    --jp-ui-font-color1: white;\n",
              "                    --jp-layout-color2: #454545;\n",
              "                    background-color: #383838;\n",
              "                }\n",
              "                    \n",
              "                .geemap-dark .jupyter-button {\n",
              "                    --jp-layout-color3: #383838;\n",
              "                }\n",
              "                \n",
              "                .geemap-colab {\n",
              "                    background-color: var(--colab-primary-surface-color, white);\n",
              "                }\n",
              "                    \n",
              "                .geemap-colab .jupyter-button {\n",
              "                    --jp-layout-color3: var(--colab-primary-surface-color, white);\n",
              "                }\n",
              "            </style>\n",
              "            "
            ]
          },
          "metadata": {}
        }
      ],
      "source": [
        "\n",
        "# Location - editable\n",
        "latitude = -13.922           # Degrees of latitude\n",
        "longitude = -70.821          # Degrees of longitude\n",
        "size = 15000                 # Size of AOI, in metres\n",
        "location_name = 'quelcayya'  # recognisable name, to create a useful file name\n",
        "\n",
        "# Dates - editable\n",
        "date_start = '2023-08-15'\n",
        "date_end = '2023-09-30'\n",
        "\n",
        "# Set up location geometry\n",
        "point = ee.Geometry.Point(longitude, latitude)  # Create a point\n",
        "region = point.buffer(size/2).bounds()  # Buffer the point to a 2D shape\n"
      ]
    },
    {
      "cell_type": "markdown",
      "id": "69e92748-a218-426b-b948-a25b5dbd203b",
      "metadata": {
        "id": "69e92748-a218-426b-b948-a25b5dbd203b"
      },
      "source": [
        "Let's check we've got a good area. I had to increase the `size` parameter from 10 km to 15 km relative to last week's example to properly capture the full extent of the ice cap. You can explore increasing this as much as you like. The 'swath width' (width of the scene) of Landsat is 185 km, so we can go much larger. However, I wouldn't recommend it -"
      ]
    },
    {
      "cell_type": "code",
      "execution_count": 4,
      "id": "f70f3594-b59e-470c-b948-03598ebed13e",
      "metadata": {
        "colab": {
          "base_uri": "https://localhost:8080/",
          "height": 621,
          "referenced_widgets": [
            "8d63c2793eb94ab39730fc156b23dc37",
            "34fed9e2a9a34ed1bf8bb3813069391e",
            "5c84aa0855e64850a6bc6d4969cddf66",
            "0cac6655a5624527b7ad2f7ab207e39e",
            "2bd10f32374d4439803eb9ddd627e43a",
            "d9f9f23189544f2aae0c36496efca7bf",
            "732afebd667a42c2a5c48404b0a5e6fd",
            "f8e2d7ad438d4235ba38509975990f1d",
            "3dc372b4bfc746439af640be135c90b6",
            "23ddb573d8334d75bd9af9c3e99f6fd2",
            "0fe5c06886b44b628af12340e003052e",
            "006af1d74993438583f6907bdac9aa5c",
            "886f16cc1a1c4362b0b790897f9a8d6f",
            "ec8f11429132477bbc438b2d3a762007",
            "e11882a777024d4783d096d8b5300a96",
            "b8f91dc7776d4a53adcabc2f923064c1",
            "9561e6c028614fcfae7724f069ee1c20",
            "b510a148a9914a43b332f830ca62cce2",
            "4e31d4e4726b44e583918f4118f40bdd",
            "f0b80240e24e4ed5aea12b459a884880",
            "dd8622c395ec4e32b68273572b61a53e",
            "b407a83e1beb4de09fb7bf2d91b61401",
            "045986eba4fb4887b77299660de8eb03",
            "a69921c14c6c4a09a0870c71b1b6fa64",
            "fcd7f7d28a864167ae175ba5e9cbe04a"
          ]
        },
        "id": "f70f3594-b59e-470c-b948-03598ebed13e",
        "outputId": "2b9e0f04-76ca-48e2-ae84-d1713a0ff40d"
      },
      "outputs": [
        {
          "output_type": "display_data",
          "data": {
            "text/plain": [
              "<IPython.core.display.HTML object>"
            ],
            "text/html": [
              "\n",
              "            <style>\n",
              "                .geemap-dark {\n",
              "                    --jp-widgets-color: white;\n",
              "                    --jp-widgets-label-color: white;\n",
              "                    --jp-ui-font-color1: white;\n",
              "                    --jp-layout-color2: #454545;\n",
              "                    background-color: #383838;\n",
              "                }\n",
              "                    \n",
              "                .geemap-dark .jupyter-button {\n",
              "                    --jp-layout-color3: #383838;\n",
              "                }\n",
              "                \n",
              "                .geemap-colab {\n",
              "                    background-color: var(--colab-primary-surface-color, white);\n",
              "                }\n",
              "                    \n",
              "                .geemap-colab .jupyter-button {\n",
              "                    --jp-layout-color3: var(--colab-primary-surface-color, white);\n",
              "                }\n",
              "            </style>\n",
              "            "
            ]
          },
          "metadata": {}
        },
        {
          "output_type": "display_data",
          "data": {
            "text/plain": [
              "Map(center=[0, 0], controls=(WidgetControl(options=['position', 'transparent_bg'], widget=SearchDataGUI(childr…"
            ],
            "application/vnd.jupyter.widget-view+json": {
              "version_major": 2,
              "version_minor": 0,
              "model_id": "8d63c2793eb94ab39730fc156b23dc37"
            }
          },
          "metadata": {
            "application/vnd.jupyter.widget-view+json": {
              "colab": {
                "custom_widget_manager": {
                  "url": "https://ssl.gstatic.com/colaboratory-static/widgets/colab-cdn-widget-manager/b3e629b1971e1542/manager.min.js"
                }
              }
            }
          }
        }
      ],
      "source": [
        "Map = geemap.Map()  # Create an empty Map\n",
        "Map.addLayer(region, {}, \"Search Region\")  # Add our AOI\n",
        "Map.centerObject(region, zoom=12)  # Centre our map on the region of interest\n",
        "Map"
      ]
    },
    {
      "cell_type": "markdown",
      "id": "e015f6fb-9e6c-4fd6-9e62-efc4362b4c95",
      "metadata": {
        "id": "e015f6fb-9e6c-4fd6-9e62-efc4362b4c95"
      },
      "source": [
        "As with last week, we can find the least cloudy image in our search window:"
      ]
    },
    {
      "cell_type": "code",
      "execution_count": 136,
      "id": "719edcac-a07e-4ef1-a91c-0057565dc61d",
      "metadata": {
        "colab": {
          "base_uri": "https://localhost:8080/",
          "height": 86
        },
        "id": "719edcac-a07e-4ef1-a91c-0057565dc61d",
        "outputId": "8a3611e9-92be-4a06-e4fe-068422d0a036"
      },
      "outputs": [
        {
          "output_type": "display_data",
          "data": {
            "text/plain": [
              "<IPython.core.display.HTML object>"
            ],
            "text/html": [
              "\n",
              "            <style>\n",
              "                .geemap-dark {\n",
              "                    --jp-widgets-color: white;\n",
              "                    --jp-widgets-label-color: white;\n",
              "                    --jp-ui-font-color1: white;\n",
              "                    --jp-layout-color2: #454545;\n",
              "                    background-color: #383838;\n",
              "                }\n",
              "                    \n",
              "                .geemap-dark .jupyter-button {\n",
              "                    --jp-layout-color3: #383838;\n",
              "                }\n",
              "                \n",
              "                .geemap-colab {\n",
              "                    background-color: var(--colab-primary-surface-color, white);\n",
              "                }\n",
              "                    \n",
              "                .geemap-colab .jupyter-button {\n",
              "                    --jp-layout-color3: var(--colab-primary-surface-color, white);\n",
              "                }\n",
              "            </style>\n",
              "            "
            ]
          },
          "metadata": {}
        },
        {
          "output_type": "stream",
          "name": "stdout",
          "text": [
            "Selected image on date 2023-08-19\n"
          ]
        },
        {
          "output_type": "execute_result",
          "data": {
            "text/plain": [
              "<ee.image.Image at 0x7d5ff4067280>"
            ],
            "text/html": [
              "<div><style>:root {\n",
              "  --font-color-primary: var(--jp-content-font-color0, rgba(0, 0, 0, 1));\n",
              "  --font-color-secondary: var(--jp-content-font-color2, rgba(0, 0, 0, 0.6));\n",
              "  --font-color-accent: rgba(123, 31, 162, 1);\n",
              "  --border-color: var(--jp-border-color2, #e0e0e0);\n",
              "  --background-color: var(--jp-layout-color0, white);\n",
              "  --background-color-row-even: var(--jp-layout-color1, white);\n",
              "  --background-color-row-odd: var(--jp-layout-color2, #eeeeee);\n",
              "}\n",
              "\n",
              "html[theme=\"dark\"],\n",
              "body[data-theme=\"dark\"],\n",
              "body.vscode-dark {\n",
              "  --font-color-primary: rgba(255, 255, 255, 1);\n",
              "  --font-color-secondary: rgba(255, 255, 255, 0.6);\n",
              "  --font-color-accent: rgb(173, 132, 190);\n",
              "  --border-color: #2e2e2e;\n",
              "  --background-color: #111111;\n",
              "  --background-color-row-even: #111111;\n",
              "  --background-color-row-odd: #313131;\n",
              "}\n",
              "\n",
              ".ee {\n",
              "  padding: 1em;\n",
              "  line-height: 1.5em;\n",
              "  min-width: 300px;\n",
              "  max-width: 1200px;\n",
              "  overflow-y: scroll;\n",
              "  max-height: 600px;\n",
              "  border: 1px solid var(--border-color);\n",
              "  font-family: monospace;\n",
              "}\n",
              "\n",
              ".ee li {\n",
              "  list-style-type: none;\n",
              "}\n",
              "\n",
              ".ee ul {\n",
              "  padding-left: 1.5em !important;\n",
              "  margin: 0;\n",
              "}\n",
              "\n",
              ".ee > ul {\n",
              "  padding-left: 0 !important;\n",
              "}\n",
              "\n",
              ".ee-open,\n",
              ".ee-shut {\n",
              "  color: var(--font-color-secondary);\n",
              "  cursor: pointer;\n",
              "  margin: 0;\n",
              "}\n",
              "\n",
              ".ee-open:hover,\n",
              ".ee-shut:hover {\n",
              "  color: var(--font-color-primary);\n",
              "}\n",
              "\n",
              ".ee-k {\n",
              "  color: var(--font-color-accent);\n",
              "  margin-right: 6px;\n",
              "}\n",
              "\n",
              ".ee-v {\n",
              "  color: var(--font-color-primary);\n",
              "}\n",
              "\n",
              ".ee-toggle {\n",
              "  display: none;\n",
              "}\n",
              "\n",
              ".ee-shut + ul {\n",
              "  display: none;\n",
              "}\n",
              "\n",
              ".ee-open + ul {\n",
              "  display: block;\n",
              "}\n",
              "\n",
              ".ee-shut::before {\n",
              "  display: inline-block;\n",
              "  content: \"▼\";\n",
              "  margin-right: 6px;\n",
              "  transform: rotate(-90deg);\n",
              "  transition: transform 0.2s;\n",
              "}\n",
              "\n",
              ".ee-open::before {\n",
              "  transform: rotate(0deg);\n",
              "  display: inline-block;\n",
              "  content: \"▼\";\n",
              "  margin-right: 6px;\n",
              "  transition: transform 0.2s;\n",
              "}\n",
              "</style><div class='ee'><ul><li><label class='ee-shut'>Image LANDSAT/LC08/C02/T1_TOA/LC08_003070_20230819 (17 bands)<input type='checkbox' class='ee-toggle'></label><ul><li><span class='ee-k'>type:</span><span class='ee-v'>Image</span></li><li><span class='ee-k'>id:</span><span class='ee-v'>LANDSAT/LC08/C02/T1_TOA/LC08_003070_20230819</span></li><li><span class='ee-k'>version:</span><span class='ee-v'>1704392645861019</span></li><li><label class='ee-shut'>bands: List (17 elements)<input type='checkbox' class='ee-toggle'></label><ul><li><label class='ee-shut'>0: \"B1\", float, EPSG:32619, 503x502 px<input type='checkbox' class='ee-toggle'></label><ul><li><span class='ee-k'>id:</span><span class='ee-v'>B1</span></li><li><span class='ee-k'>crs:</span><span class='ee-v'>EPSG:32619</span></li><li><label class='ee-shut'>crs_transform: [30, 0, 192285, 0, -30, -1483485]<input type='checkbox' class='ee-toggle'></label><ul><li><span class='ee-k'>0:</span><span class='ee-v'>30</span></li><li><span class='ee-k'>1:</span><span class='ee-v'>0</span></li><li><span class='ee-k'>2:</span><span class='ee-v'>192285</span></li><li><span class='ee-k'>3:</span><span class='ee-v'>0</span></li><li><span class='ee-k'>4:</span><span class='ee-v'>-30</span></li><li><span class='ee-k'>5:</span><span class='ee-v'>-1483485</span></li></ul></li><li><label class='ee-shut'>data_type: float<input type='checkbox' class='ee-toggle'></label><ul><li><span class='ee-k'>type:</span><span class='ee-v'>PixelType</span></li><li><span class='ee-k'>precision:</span><span class='ee-v'>float</span></li></ul></li><li><label class='ee-shut'>dimensions: [503, 502]<input type='checkbox' class='ee-toggle'></label><ul><li><span class='ee-k'>0:</span><span class='ee-v'>503</span></li><li><span class='ee-k'>1:</span><span class='ee-v'>502</span></li></ul></li><li><label class='ee-shut'>origin: [3448, 1628]<input type='checkbox' class='ee-toggle'></label><ul><li><span class='ee-k'>0:</span><span class='ee-v'>3448</span></li><li><span class='ee-k'>1:</span><span class='ee-v'>1628</span></li></ul></li></ul></li><li><label class='ee-shut'>1: \"B2\", float, EPSG:32619, 503x502 px<input type='checkbox' class='ee-toggle'></label><ul><li><span class='ee-k'>id:</span><span class='ee-v'>B2</span></li><li><span class='ee-k'>crs:</span><span class='ee-v'>EPSG:32619</span></li><li><label class='ee-shut'>crs_transform: [30, 0, 192285, 0, -30, -1483485]<input type='checkbox' class='ee-toggle'></label><ul><li><span class='ee-k'>0:</span><span class='ee-v'>30</span></li><li><span class='ee-k'>1:</span><span class='ee-v'>0</span></li><li><span class='ee-k'>2:</span><span class='ee-v'>192285</span></li><li><span class='ee-k'>3:</span><span class='ee-v'>0</span></li><li><span class='ee-k'>4:</span><span class='ee-v'>-30</span></li><li><span class='ee-k'>5:</span><span class='ee-v'>-1483485</span></li></ul></li><li><label class='ee-shut'>data_type: float<input type='checkbox' class='ee-toggle'></label><ul><li><span class='ee-k'>type:</span><span class='ee-v'>PixelType</span></li><li><span class='ee-k'>precision:</span><span class='ee-v'>float</span></li></ul></li><li><label class='ee-shut'>dimensions: [503, 502]<input type='checkbox' class='ee-toggle'></label><ul><li><span class='ee-k'>0:</span><span class='ee-v'>503</span></li><li><span class='ee-k'>1:</span><span class='ee-v'>502</span></li></ul></li><li><label class='ee-shut'>origin: [3448, 1628]<input type='checkbox' class='ee-toggle'></label><ul><li><span class='ee-k'>0:</span><span class='ee-v'>3448</span></li><li><span class='ee-k'>1:</span><span class='ee-v'>1628</span></li></ul></li></ul></li><li><label class='ee-shut'>2: \"B3\", float, EPSG:32619, 503x502 px<input type='checkbox' class='ee-toggle'></label><ul><li><span class='ee-k'>id:</span><span class='ee-v'>B3</span></li><li><span class='ee-k'>crs:</span><span class='ee-v'>EPSG:32619</span></li><li><label class='ee-shut'>crs_transform: [30, 0, 192285, 0, -30, -1483485]<input type='checkbox' class='ee-toggle'></label><ul><li><span class='ee-k'>0:</span><span class='ee-v'>30</span></li><li><span class='ee-k'>1:</span><span class='ee-v'>0</span></li><li><span class='ee-k'>2:</span><span class='ee-v'>192285</span></li><li><span class='ee-k'>3:</span><span class='ee-v'>0</span></li><li><span class='ee-k'>4:</span><span class='ee-v'>-30</span></li><li><span class='ee-k'>5:</span><span class='ee-v'>-1483485</span></li></ul></li><li><label class='ee-shut'>data_type: float<input type='checkbox' class='ee-toggle'></label><ul><li><span class='ee-k'>type:</span><span class='ee-v'>PixelType</span></li><li><span class='ee-k'>precision:</span><span class='ee-v'>float</span></li></ul></li><li><label class='ee-shut'>dimensions: [503, 502]<input type='checkbox' class='ee-toggle'></label><ul><li><span class='ee-k'>0:</span><span class='ee-v'>503</span></li><li><span class='ee-k'>1:</span><span class='ee-v'>502</span></li></ul></li><li><label class='ee-shut'>origin: [3448, 1628]<input type='checkbox' class='ee-toggle'></label><ul><li><span class='ee-k'>0:</span><span class='ee-v'>3448</span></li><li><span class='ee-k'>1:</span><span class='ee-v'>1628</span></li></ul></li></ul></li><li><label class='ee-shut'>3: \"B4\", float, EPSG:32619, 503x502 px<input type='checkbox' class='ee-toggle'></label><ul><li><span class='ee-k'>id:</span><span class='ee-v'>B4</span></li><li><span class='ee-k'>crs:</span><span class='ee-v'>EPSG:32619</span></li><li><label class='ee-shut'>crs_transform: [30, 0, 192285, 0, -30, -1483485]<input type='checkbox' class='ee-toggle'></label><ul><li><span class='ee-k'>0:</span><span class='ee-v'>30</span></li><li><span class='ee-k'>1:</span><span class='ee-v'>0</span></li><li><span class='ee-k'>2:</span><span class='ee-v'>192285</span></li><li><span class='ee-k'>3:</span><span class='ee-v'>0</span></li><li><span class='ee-k'>4:</span><span class='ee-v'>-30</span></li><li><span class='ee-k'>5:</span><span class='ee-v'>-1483485</span></li></ul></li><li><label class='ee-shut'>data_type: float<input type='checkbox' class='ee-toggle'></label><ul><li><span class='ee-k'>type:</span><span class='ee-v'>PixelType</span></li><li><span class='ee-k'>precision:</span><span class='ee-v'>float</span></li></ul></li><li><label class='ee-shut'>dimensions: [503, 502]<input type='checkbox' class='ee-toggle'></label><ul><li><span class='ee-k'>0:</span><span class='ee-v'>503</span></li><li><span class='ee-k'>1:</span><span class='ee-v'>502</span></li></ul></li><li><label class='ee-shut'>origin: [3448, 1628]<input type='checkbox' class='ee-toggle'></label><ul><li><span class='ee-k'>0:</span><span class='ee-v'>3448</span></li><li><span class='ee-k'>1:</span><span class='ee-v'>1628</span></li></ul></li></ul></li><li><label class='ee-shut'>4: \"B5\", float, EPSG:32619, 503x502 px<input type='checkbox' class='ee-toggle'></label><ul><li><span class='ee-k'>id:</span><span class='ee-v'>B5</span></li><li><span class='ee-k'>crs:</span><span class='ee-v'>EPSG:32619</span></li><li><label class='ee-shut'>crs_transform: [30, 0, 192285, 0, -30, -1483485]<input type='checkbox' class='ee-toggle'></label><ul><li><span class='ee-k'>0:</span><span class='ee-v'>30</span></li><li><span class='ee-k'>1:</span><span class='ee-v'>0</span></li><li><span class='ee-k'>2:</span><span class='ee-v'>192285</span></li><li><span class='ee-k'>3:</span><span class='ee-v'>0</span></li><li><span class='ee-k'>4:</span><span class='ee-v'>-30</span></li><li><span class='ee-k'>5:</span><span class='ee-v'>-1483485</span></li></ul></li><li><label class='ee-shut'>data_type: float<input type='checkbox' class='ee-toggle'></label><ul><li><span class='ee-k'>type:</span><span class='ee-v'>PixelType</span></li><li><span class='ee-k'>precision:</span><span class='ee-v'>float</span></li></ul></li><li><label class='ee-shut'>dimensions: [503, 502]<input type='checkbox' class='ee-toggle'></label><ul><li><span class='ee-k'>0:</span><span class='ee-v'>503</span></li><li><span class='ee-k'>1:</span><span class='ee-v'>502</span></li></ul></li><li><label class='ee-shut'>origin: [3448, 1628]<input type='checkbox' class='ee-toggle'></label><ul><li><span class='ee-k'>0:</span><span class='ee-v'>3448</span></li><li><span class='ee-k'>1:</span><span class='ee-v'>1628</span></li></ul></li></ul></li><li><label class='ee-shut'>5: \"B6\", float, EPSG:32619, 503x502 px<input type='checkbox' class='ee-toggle'></label><ul><li><span class='ee-k'>id:</span><span class='ee-v'>B6</span></li><li><span class='ee-k'>crs:</span><span class='ee-v'>EPSG:32619</span></li><li><label class='ee-shut'>crs_transform: [30, 0, 192285, 0, -30, -1483485]<input type='checkbox' class='ee-toggle'></label><ul><li><span class='ee-k'>0:</span><span class='ee-v'>30</span></li><li><span class='ee-k'>1:</span><span class='ee-v'>0</span></li><li><span class='ee-k'>2:</span><span class='ee-v'>192285</span></li><li><span class='ee-k'>3:</span><span class='ee-v'>0</span></li><li><span class='ee-k'>4:</span><span class='ee-v'>-30</span></li><li><span class='ee-k'>5:</span><span class='ee-v'>-1483485</span></li></ul></li><li><label class='ee-shut'>data_type: float<input type='checkbox' class='ee-toggle'></label><ul><li><span class='ee-k'>type:</span><span class='ee-v'>PixelType</span></li><li><span class='ee-k'>precision:</span><span class='ee-v'>float</span></li></ul></li><li><label class='ee-shut'>dimensions: [503, 502]<input type='checkbox' class='ee-toggle'></label><ul><li><span class='ee-k'>0:</span><span class='ee-v'>503</span></li><li><span class='ee-k'>1:</span><span class='ee-v'>502</span></li></ul></li><li><label class='ee-shut'>origin: [3448, 1628]<input type='checkbox' class='ee-toggle'></label><ul><li><span class='ee-k'>0:</span><span class='ee-v'>3448</span></li><li><span class='ee-k'>1:</span><span class='ee-v'>1628</span></li></ul></li></ul></li><li><label class='ee-shut'>6: \"B7\", float, EPSG:32619, 503x502 px<input type='checkbox' class='ee-toggle'></label><ul><li><span class='ee-k'>id:</span><span class='ee-v'>B7</span></li><li><span class='ee-k'>crs:</span><span class='ee-v'>EPSG:32619</span></li><li><label class='ee-shut'>crs_transform: [30, 0, 192285, 0, -30, -1483485]<input type='checkbox' class='ee-toggle'></label><ul><li><span class='ee-k'>0:</span><span class='ee-v'>30</span></li><li><span class='ee-k'>1:</span><span class='ee-v'>0</span></li><li><span class='ee-k'>2:</span><span class='ee-v'>192285</span></li><li><span class='ee-k'>3:</span><span class='ee-v'>0</span></li><li><span class='ee-k'>4:</span><span class='ee-v'>-30</span></li><li><span class='ee-k'>5:</span><span class='ee-v'>-1483485</span></li></ul></li><li><label class='ee-shut'>data_type: float<input type='checkbox' class='ee-toggle'></label><ul><li><span class='ee-k'>type:</span><span class='ee-v'>PixelType</span></li><li><span class='ee-k'>precision:</span><span class='ee-v'>float</span></li></ul></li><li><label class='ee-shut'>dimensions: [503, 502]<input type='checkbox' class='ee-toggle'></label><ul><li><span class='ee-k'>0:</span><span class='ee-v'>503</span></li><li><span class='ee-k'>1:</span><span class='ee-v'>502</span></li></ul></li><li><label class='ee-shut'>origin: [3448, 1628]<input type='checkbox' class='ee-toggle'></label><ul><li><span class='ee-k'>0:</span><span class='ee-v'>3448</span></li><li><span class='ee-k'>1:</span><span class='ee-v'>1628</span></li></ul></li></ul></li><li><label class='ee-shut'>7: \"B8\", float, EPSG:32619, 1004x1004 px<input type='checkbox' class='ee-toggle'></label><ul><li><span class='ee-k'>id:</span><span class='ee-v'>B8</span></li><li><span class='ee-k'>crs:</span><span class='ee-v'>EPSG:32619</span></li><li><label class='ee-shut'>crs_transform: [15, 0, 192292.5, 0, -15, -1483492.5]<input type='checkbox' class='ee-toggle'></label><ul><li><span class='ee-k'>0:</span><span class='ee-v'>15</span></li><li><span class='ee-k'>1:</span><span class='ee-v'>0</span></li><li><span class='ee-k'>2:</span><span class='ee-v'>192292.5</span></li><li><span class='ee-k'>3:</span><span class='ee-v'>0</span></li><li><span class='ee-k'>4:</span><span class='ee-v'>-15</span></li><li><span class='ee-k'>5:</span><span class='ee-v'>-1483492.5</span></li></ul></li><li><label class='ee-shut'>data_type: float<input type='checkbox' class='ee-toggle'></label><ul><li><span class='ee-k'>type:</span><span class='ee-v'>PixelType</span></li><li><span class='ee-k'>precision:</span><span class='ee-v'>float</span></li></ul></li><li><label class='ee-shut'>dimensions: [1004, 1004]<input type='checkbox' class='ee-toggle'></label><ul><li><span class='ee-k'>0:</span><span class='ee-v'>1004</span></li><li><span class='ee-k'>1:</span><span class='ee-v'>1004</span></li></ul></li><li><label class='ee-shut'>origin: [6896, 3255]<input type='checkbox' class='ee-toggle'></label><ul><li><span class='ee-k'>0:</span><span class='ee-v'>6896</span></li><li><span class='ee-k'>1:</span><span class='ee-v'>3255</span></li></ul></li></ul></li><li><label class='ee-shut'>8: \"B9\", float, EPSG:32619, 503x502 px<input type='checkbox' class='ee-toggle'></label><ul><li><span class='ee-k'>id:</span><span class='ee-v'>B9</span></li><li><span class='ee-k'>crs:</span><span class='ee-v'>EPSG:32619</span></li><li><label class='ee-shut'>crs_transform: [30, 0, 192285, 0, -30, -1483485]<input type='checkbox' class='ee-toggle'></label><ul><li><span class='ee-k'>0:</span><span class='ee-v'>30</span></li><li><span class='ee-k'>1:</span><span class='ee-v'>0</span></li><li><span class='ee-k'>2:</span><span class='ee-v'>192285</span></li><li><span class='ee-k'>3:</span><span class='ee-v'>0</span></li><li><span class='ee-k'>4:</span><span class='ee-v'>-30</span></li><li><span class='ee-k'>5:</span><span class='ee-v'>-1483485</span></li></ul></li><li><label class='ee-shut'>data_type: float<input type='checkbox' class='ee-toggle'></label><ul><li><span class='ee-k'>type:</span><span class='ee-v'>PixelType</span></li><li><span class='ee-k'>precision:</span><span class='ee-v'>float</span></li></ul></li><li><label class='ee-shut'>dimensions: [503, 502]<input type='checkbox' class='ee-toggle'></label><ul><li><span class='ee-k'>0:</span><span class='ee-v'>503</span></li><li><span class='ee-k'>1:</span><span class='ee-v'>502</span></li></ul></li><li><label class='ee-shut'>origin: [3448, 1628]<input type='checkbox' class='ee-toggle'></label><ul><li><span class='ee-k'>0:</span><span class='ee-v'>3448</span></li><li><span class='ee-k'>1:</span><span class='ee-v'>1628</span></li></ul></li></ul></li><li><label class='ee-shut'>9: \"B10\", float, EPSG:32619, 503x502 px<input type='checkbox' class='ee-toggle'></label><ul><li><span class='ee-k'>id:</span><span class='ee-v'>B10</span></li><li><span class='ee-k'>crs:</span><span class='ee-v'>EPSG:32619</span></li><li><label class='ee-shut'>crs_transform: [30, 0, 192285, 0, -30, -1483485]<input type='checkbox' class='ee-toggle'></label><ul><li><span class='ee-k'>0:</span><span class='ee-v'>30</span></li><li><span class='ee-k'>1:</span><span class='ee-v'>0</span></li><li><span class='ee-k'>2:</span><span class='ee-v'>192285</span></li><li><span class='ee-k'>3:</span><span class='ee-v'>0</span></li><li><span class='ee-k'>4:</span><span class='ee-v'>-30</span></li><li><span class='ee-k'>5:</span><span class='ee-v'>-1483485</span></li></ul></li><li><label class='ee-shut'>data_type: float<input type='checkbox' class='ee-toggle'></label><ul><li><span class='ee-k'>type:</span><span class='ee-v'>PixelType</span></li><li><span class='ee-k'>precision:</span><span class='ee-v'>float</span></li></ul></li><li><label class='ee-shut'>dimensions: [503, 502]<input type='checkbox' class='ee-toggle'></label><ul><li><span class='ee-k'>0:</span><span class='ee-v'>503</span></li><li><span class='ee-k'>1:</span><span class='ee-v'>502</span></li></ul></li><li><label class='ee-shut'>origin: [3448, 1628]<input type='checkbox' class='ee-toggle'></label><ul><li><span class='ee-k'>0:</span><span class='ee-v'>3448</span></li><li><span class='ee-k'>1:</span><span class='ee-v'>1628</span></li></ul></li></ul></li><li><label class='ee-shut'>10: \"B11\", float, EPSG:32619, 503x502 px<input type='checkbox' class='ee-toggle'></label><ul><li><span class='ee-k'>id:</span><span class='ee-v'>B11</span></li><li><span class='ee-k'>crs:</span><span class='ee-v'>EPSG:32619</span></li><li><label class='ee-shut'>crs_transform: [30, 0, 192285, 0, -30, -1483485]<input type='checkbox' class='ee-toggle'></label><ul><li><span class='ee-k'>0:</span><span class='ee-v'>30</span></li><li><span class='ee-k'>1:</span><span class='ee-v'>0</span></li><li><span class='ee-k'>2:</span><span class='ee-v'>192285</span></li><li><span class='ee-k'>3:</span><span class='ee-v'>0</span></li><li><span class='ee-k'>4:</span><span class='ee-v'>-30</span></li><li><span class='ee-k'>5:</span><span class='ee-v'>-1483485</span></li></ul></li><li><label class='ee-shut'>data_type: float<input type='checkbox' class='ee-toggle'></label><ul><li><span class='ee-k'>type:</span><span class='ee-v'>PixelType</span></li><li><span class='ee-k'>precision:</span><span class='ee-v'>float</span></li></ul></li><li><label class='ee-shut'>dimensions: [503, 502]<input type='checkbox' class='ee-toggle'></label><ul><li><span class='ee-k'>0:</span><span class='ee-v'>503</span></li><li><span class='ee-k'>1:</span><span class='ee-v'>502</span></li></ul></li><li><label class='ee-shut'>origin: [3448, 1628]<input type='checkbox' class='ee-toggle'></label><ul><li><span class='ee-k'>0:</span><span class='ee-v'>3448</span></li><li><span class='ee-k'>1:</span><span class='ee-v'>1628</span></li></ul></li></ul></li><li><label class='ee-shut'>11: \"QA_PIXEL\", unsigned int16, EPSG:32619, 503x502 px<input type='checkbox' class='ee-toggle'></label><ul><li><span class='ee-k'>id:</span><span class='ee-v'>QA_PIXEL</span></li><li><span class='ee-k'>crs:</span><span class='ee-v'>EPSG:32619</span></li><li><label class='ee-shut'>crs_transform: [30, 0, 192285, 0, -30, -1483485]<input type='checkbox' class='ee-toggle'></label><ul><li><span class='ee-k'>0:</span><span class='ee-v'>30</span></li><li><span class='ee-k'>1:</span><span class='ee-v'>0</span></li><li><span class='ee-k'>2:</span><span class='ee-v'>192285</span></li><li><span class='ee-k'>3:</span><span class='ee-v'>0</span></li><li><span class='ee-k'>4:</span><span class='ee-v'>-30</span></li><li><span class='ee-k'>5:</span><span class='ee-v'>-1483485</span></li></ul></li><li><label class='ee-shut'>data_type: unsigned int16<input type='checkbox' class='ee-toggle'></label><ul><li><span class='ee-k'>type:</span><span class='ee-v'>PixelType</span></li><li><span class='ee-k'>max:</span><span class='ee-v'>65535</span></li><li><span class='ee-k'>min:</span><span class='ee-v'>0</span></li><li><span class='ee-k'>precision:</span><span class='ee-v'>int</span></li></ul></li><li><label class='ee-shut'>dimensions: [503, 502]<input type='checkbox' class='ee-toggle'></label><ul><li><span class='ee-k'>0:</span><span class='ee-v'>503</span></li><li><span class='ee-k'>1:</span><span class='ee-v'>502</span></li></ul></li><li><label class='ee-shut'>origin: [3448, 1628]<input type='checkbox' class='ee-toggle'></label><ul><li><span class='ee-k'>0:</span><span class='ee-v'>3448</span></li><li><span class='ee-k'>1:</span><span class='ee-v'>1628</span></li></ul></li></ul></li><li><label class='ee-shut'>12: \"QA_RADSAT\", unsigned int16, EPSG:32619, 503x502 px<input type='checkbox' class='ee-toggle'></label><ul><li><span class='ee-k'>id:</span><span class='ee-v'>QA_RADSAT</span></li><li><span class='ee-k'>crs:</span><span class='ee-v'>EPSG:32619</span></li><li><label class='ee-shut'>crs_transform: [30, 0, 192285, 0, -30, -1483485]<input type='checkbox' class='ee-toggle'></label><ul><li><span class='ee-k'>0:</span><span class='ee-v'>30</span></li><li><span class='ee-k'>1:</span><span class='ee-v'>0</span></li><li><span class='ee-k'>2:</span><span class='ee-v'>192285</span></li><li><span class='ee-k'>3:</span><span class='ee-v'>0</span></li><li><span class='ee-k'>4:</span><span class='ee-v'>-30</span></li><li><span class='ee-k'>5:</span><span class='ee-v'>-1483485</span></li></ul></li><li><label class='ee-shut'>data_type: unsigned int16<input type='checkbox' class='ee-toggle'></label><ul><li><span class='ee-k'>type:</span><span class='ee-v'>PixelType</span></li><li><span class='ee-k'>max:</span><span class='ee-v'>65535</span></li><li><span class='ee-k'>min:</span><span class='ee-v'>0</span></li><li><span class='ee-k'>precision:</span><span class='ee-v'>int</span></li></ul></li><li><label class='ee-shut'>dimensions: [503, 502]<input type='checkbox' class='ee-toggle'></label><ul><li><span class='ee-k'>0:</span><span class='ee-v'>503</span></li><li><span class='ee-k'>1:</span><span class='ee-v'>502</span></li></ul></li><li><label class='ee-shut'>origin: [3448, 1628]<input type='checkbox' class='ee-toggle'></label><ul><li><span class='ee-k'>0:</span><span class='ee-v'>3448</span></li><li><span class='ee-k'>1:</span><span class='ee-v'>1628</span></li></ul></li></ul></li><li><label class='ee-shut'>13: \"SAA\", signed int16, EPSG:32619, 503x502 px<input type='checkbox' class='ee-toggle'></label><ul><li><span class='ee-k'>id:</span><span class='ee-v'>SAA</span></li><li><span class='ee-k'>crs:</span><span class='ee-v'>EPSG:32619</span></li><li><label class='ee-shut'>crs_transform: [30, 0, 192285, 0, -30, -1483485]<input type='checkbox' class='ee-toggle'></label><ul><li><span class='ee-k'>0:</span><span class='ee-v'>30</span></li><li><span class='ee-k'>1:</span><span class='ee-v'>0</span></li><li><span class='ee-k'>2:</span><span class='ee-v'>192285</span></li><li><span class='ee-k'>3:</span><span class='ee-v'>0</span></li><li><span class='ee-k'>4:</span><span class='ee-v'>-30</span></li><li><span class='ee-k'>5:</span><span class='ee-v'>-1483485</span></li></ul></li><li><label class='ee-shut'>data_type: signed int16<input type='checkbox' class='ee-toggle'></label><ul><li><span class='ee-k'>type:</span><span class='ee-v'>PixelType</span></li><li><span class='ee-k'>max:</span><span class='ee-v'>32767</span></li><li><span class='ee-k'>min:</span><span class='ee-v'>-32768</span></li><li><span class='ee-k'>precision:</span><span class='ee-v'>int</span></li></ul></li><li><label class='ee-shut'>dimensions: [503, 502]<input type='checkbox' class='ee-toggle'></label><ul><li><span class='ee-k'>0:</span><span class='ee-v'>503</span></li><li><span class='ee-k'>1:</span><span class='ee-v'>502</span></li></ul></li><li><label class='ee-shut'>origin: [3448, 1628]<input type='checkbox' class='ee-toggle'></label><ul><li><span class='ee-k'>0:</span><span class='ee-v'>3448</span></li><li><span class='ee-k'>1:</span><span class='ee-v'>1628</span></li></ul></li></ul></li><li><label class='ee-shut'>14: \"SZA\", signed int16, EPSG:32619, 503x502 px<input type='checkbox' class='ee-toggle'></label><ul><li><span class='ee-k'>id:</span><span class='ee-v'>SZA</span></li><li><span class='ee-k'>crs:</span><span class='ee-v'>EPSG:32619</span></li><li><label class='ee-shut'>crs_transform: [30, 0, 192285, 0, -30, -1483485]<input type='checkbox' class='ee-toggle'></label><ul><li><span class='ee-k'>0:</span><span class='ee-v'>30</span></li><li><span class='ee-k'>1:</span><span class='ee-v'>0</span></li><li><span class='ee-k'>2:</span><span class='ee-v'>192285</span></li><li><span class='ee-k'>3:</span><span class='ee-v'>0</span></li><li><span class='ee-k'>4:</span><span class='ee-v'>-30</span></li><li><span class='ee-k'>5:</span><span class='ee-v'>-1483485</span></li></ul></li><li><label class='ee-shut'>data_type: signed int16<input type='checkbox' class='ee-toggle'></label><ul><li><span class='ee-k'>type:</span><span class='ee-v'>PixelType</span></li><li><span class='ee-k'>max:</span><span class='ee-v'>32767</span></li><li><span class='ee-k'>min:</span><span class='ee-v'>-32768</span></li><li><span class='ee-k'>precision:</span><span class='ee-v'>int</span></li></ul></li><li><label class='ee-shut'>dimensions: [503, 502]<input type='checkbox' class='ee-toggle'></label><ul><li><span class='ee-k'>0:</span><span class='ee-v'>503</span></li><li><span class='ee-k'>1:</span><span class='ee-v'>502</span></li></ul></li><li><label class='ee-shut'>origin: [3448, 1628]<input type='checkbox' class='ee-toggle'></label><ul><li><span class='ee-k'>0:</span><span class='ee-v'>3448</span></li><li><span class='ee-k'>1:</span><span class='ee-v'>1628</span></li></ul></li></ul></li><li><label class='ee-shut'>15: \"VAA\", signed int16, EPSG:32619, 503x502 px<input type='checkbox' class='ee-toggle'></label><ul><li><span class='ee-k'>id:</span><span class='ee-v'>VAA</span></li><li><span class='ee-k'>crs:</span><span class='ee-v'>EPSG:32619</span></li><li><label class='ee-shut'>crs_transform: [30, 0, 192285, 0, -30, -1483485]<input type='checkbox' class='ee-toggle'></label><ul><li><span class='ee-k'>0:</span><span class='ee-v'>30</span></li><li><span class='ee-k'>1:</span><span class='ee-v'>0</span></li><li><span class='ee-k'>2:</span><span class='ee-v'>192285</span></li><li><span class='ee-k'>3:</span><span class='ee-v'>0</span></li><li><span class='ee-k'>4:</span><span class='ee-v'>-30</span></li><li><span class='ee-k'>5:</span><span class='ee-v'>-1483485</span></li></ul></li><li><label class='ee-shut'>data_type: signed int16<input type='checkbox' class='ee-toggle'></label><ul><li><span class='ee-k'>type:</span><span class='ee-v'>PixelType</span></li><li><span class='ee-k'>max:</span><span class='ee-v'>32767</span></li><li><span class='ee-k'>min:</span><span class='ee-v'>-32768</span></li><li><span class='ee-k'>precision:</span><span class='ee-v'>int</span></li></ul></li><li><label class='ee-shut'>dimensions: [503, 502]<input type='checkbox' class='ee-toggle'></label><ul><li><span class='ee-k'>0:</span><span class='ee-v'>503</span></li><li><span class='ee-k'>1:</span><span class='ee-v'>502</span></li></ul></li><li><label class='ee-shut'>origin: [3448, 1628]<input type='checkbox' class='ee-toggle'></label><ul><li><span class='ee-k'>0:</span><span class='ee-v'>3448</span></li><li><span class='ee-k'>1:</span><span class='ee-v'>1628</span></li></ul></li></ul></li><li><label class='ee-shut'>16: \"VZA\", signed int16, EPSG:32619, 503x502 px<input type='checkbox' class='ee-toggle'></label><ul><li><span class='ee-k'>id:</span><span class='ee-v'>VZA</span></li><li><span class='ee-k'>crs:</span><span class='ee-v'>EPSG:32619</span></li><li><label class='ee-shut'>crs_transform: [30, 0, 192285, 0, -30, -1483485]<input type='checkbox' class='ee-toggle'></label><ul><li><span class='ee-k'>0:</span><span class='ee-v'>30</span></li><li><span class='ee-k'>1:</span><span class='ee-v'>0</span></li><li><span class='ee-k'>2:</span><span class='ee-v'>192285</span></li><li><span class='ee-k'>3:</span><span class='ee-v'>0</span></li><li><span class='ee-k'>4:</span><span class='ee-v'>-30</span></li><li><span class='ee-k'>5:</span><span class='ee-v'>-1483485</span></li></ul></li><li><label class='ee-shut'>data_type: signed int16<input type='checkbox' class='ee-toggle'></label><ul><li><span class='ee-k'>type:</span><span class='ee-v'>PixelType</span></li><li><span class='ee-k'>max:</span><span class='ee-v'>32767</span></li><li><span class='ee-k'>min:</span><span class='ee-v'>-32768</span></li><li><span class='ee-k'>precision:</span><span class='ee-v'>int</span></li></ul></li><li><label class='ee-shut'>dimensions: [503, 502]<input type='checkbox' class='ee-toggle'></label><ul><li><span class='ee-k'>0:</span><span class='ee-v'>503</span></li><li><span class='ee-k'>1:</span><span class='ee-v'>502</span></li></ul></li><li><label class='ee-shut'>origin: [3448, 1628]<input type='checkbox' class='ee-toggle'></label><ul><li><span class='ee-k'>0:</span><span class='ee-v'>3448</span></li><li><span class='ee-k'>1:</span><span class='ee-v'>1628</span></li></ul></li></ul></li></ul></li><li><label class='ee-shut'>properties: Object (112 properties)<input type='checkbox' class='ee-toggle'></label><ul><li><span class='ee-k'>CLOUD_COVER:</span><span class='ee-v'>1.49</span></li><li><span class='ee-k'>CLOUD_COVER_LAND:</span><span class='ee-v'>1.49</span></li><li><span class='ee-k'>COLLECTION_CATEGORY:</span><span class='ee-v'>T1</span></li><li><span class='ee-k'>COLLECTION_NUMBER:</span><span class='ee-v'>2</span></li><li><span class='ee-k'>DATA_SOURCE_ELEVATION:</span><span class='ee-v'>GLS2000</span></li><li><span class='ee-k'>DATA_SOURCE_TIRS_STRAY_LIGHT_CORRECTION:</span><span class='ee-v'>TIRS</span></li><li><span class='ee-k'>DATE_ACQUIRED:</span><span class='ee-v'>2023-08-19</span></li><li><span class='ee-k'>DATE_PRODUCT_GENERATED:</span><span class='ee-v'>1693002541000</span></li><li><span class='ee-k'>DATUM:</span><span class='ee-v'>WGS84</span></li><li><span class='ee-k'>EARTH_SUN_DISTANCE:</span><span class='ee-v'>1.0121286</span></li><li><span class='ee-k'>ELLIPSOID:</span><span class='ee-v'>WGS84</span></li><li><span class='ee-k'>GEOMETRIC_RMSE_MODEL:</span><span class='ee-v'>4.652</span></li><li><span class='ee-k'>GEOMETRIC_RMSE_MODEL_X:</span><span class='ee-v'>3.192</span></li><li><span class='ee-k'>GEOMETRIC_RMSE_MODEL_Y:</span><span class='ee-v'>3.384</span></li><li><span class='ee-k'>GEOMETRIC_RMSE_VERIFY:</span><span class='ee-v'>2.758</span></li><li><span class='ee-k'>GRID_CELL_SIZE_PANCHROMATIC:</span><span class='ee-v'>15</span></li><li><span class='ee-k'>GRID_CELL_SIZE_REFLECTIVE:</span><span class='ee-v'>30</span></li><li><span class='ee-k'>GRID_CELL_SIZE_THERMAL:</span><span class='ee-v'>30</span></li><li><span class='ee-k'>GROUND_CONTROL_POINTS_MODEL:</span><span class='ee-v'>898</span></li><li><span class='ee-k'>GROUND_CONTROL_POINTS_VERIFY:</span><span class='ee-v'>283</span></li><li><span class='ee-k'>GROUND_CONTROL_POINTS_VERSION:</span><span class='ee-v'>5</span></li><li><span class='ee-k'>IMAGE_QUALITY_OLI:</span><span class='ee-v'>9</span></li><li><span class='ee-k'>IMAGE_QUALITY_TIRS:</span><span class='ee-v'>9</span></li><li><span class='ee-k'>K1_CONSTANT_BAND_10:</span><span class='ee-v'>774.8853</span></li><li><span class='ee-k'>K1_CONSTANT_BAND_11:</span><span class='ee-v'>480.8883</span></li><li><span class='ee-k'>K2_CONSTANT_BAND_10:</span><span class='ee-v'>1321.0789</span></li><li><span class='ee-k'>K2_CONSTANT_BAND_11:</span><span class='ee-v'>1201.1442</span></li><li><span class='ee-k'>LANDSAT_PRODUCT_ID:</span><span class='ee-v'>LC08_L1TP_003070_20230819_20230825_02_T1</span></li><li><span class='ee-k'>LANDSAT_SCENE_ID:</span><span class='ee-v'>LC80030702023231LGN00</span></li><li><span class='ee-k'>MAP_PROJECTION:</span><span class='ee-v'>UTM</span></li><li><span class='ee-k'>NADIR_OFFNADIR:</span><span class='ee-v'>NADIR</span></li><li><span class='ee-k'>ORIENTATION:</span><span class='ee-v'>NORTH_UP</span></li><li><span class='ee-k'>PANCHROMATIC_LINES:</span><span class='ee-v'>15441</span></li><li><span class='ee-k'>PANCHROMATIC_SAMPLES:</span><span class='ee-v'>15181</span></li><li><span class='ee-k'>PROCESSING_LEVEL:</span><span class='ee-v'>L1TP</span></li><li><span class='ee-k'>PROCESSING_SOFTWARE_VERSION:</span><span class='ee-v'>LPGS_16.3.0</span></li><li><span class='ee-k'>RADIANCE_ADD_BAND_1:</span><span class='ee-v'>-61.28321</span></li><li><span class='ee-k'>RADIANCE_ADD_BAND_10:</span><span class='ee-v'>0.1</span></li><li><span class='ee-k'>RADIANCE_ADD_BAND_11:</span><span class='ee-v'>0.1</span></li><li><span class='ee-k'>RADIANCE_ADD_BAND_2:</span><span class='ee-v'>-62.75475</span></li><li><span class='ee-k'>RADIANCE_ADD_BAND_3:</span><span class='ee-v'>-57.82797</span></li><li><span class='ee-k'>RADIANCE_ADD_BAND_4:</span><span class='ee-v'>-48.7638</span></li><li><span class='ee-k'>RADIANCE_ADD_BAND_5:</span><span class='ee-v'>-29.84101</span></li><li><span class='ee-k'>RADIANCE_ADD_BAND_6:</span><span class='ee-v'>-7.42119</span></li><li><span class='ee-k'>RADIANCE_ADD_BAND_7:</span><span class='ee-v'>-2.50134</span></li><li><span class='ee-k'>RADIANCE_ADD_BAND_8:</span><span class='ee-v'>-55.1872</span></li><li><span class='ee-k'>RADIANCE_ADD_BAND_9:</span><span class='ee-v'>-11.66254</span></li><li><span class='ee-k'>RADIANCE_MULT_BAND_1:</span><span class='ee-v'>0.012257</span></li><li><span class='ee-k'>RADIANCE_MULT_BAND_10:</span><span class='ee-v'>0.0003342</span></li><li><span class='ee-k'>RADIANCE_MULT_BAND_11:</span><span class='ee-v'>0.0003342</span></li><li><span class='ee-k'>RADIANCE_MULT_BAND_2:</span><span class='ee-v'>0.012551</span></li><li><span class='ee-k'>RADIANCE_MULT_BAND_3:</span><span class='ee-v'>0.011566</span></li><li><span class='ee-k'>RADIANCE_MULT_BAND_4:</span><span class='ee-v'>0.0097528</span></li><li><span class='ee-k'>RADIANCE_MULT_BAND_5:</span><span class='ee-v'>0.0059682</span></li><li><span class='ee-k'>RADIANCE_MULT_BAND_6:</span><span class='ee-v'>0.0014842</span></li><li><span class='ee-k'>RADIANCE_MULT_BAND_7:</span><span class='ee-v'>0.00050027</span></li><li><span class='ee-k'>RADIANCE_MULT_BAND_8:</span><span class='ee-v'>0.011037</span></li><li><span class='ee-k'>RADIANCE_MULT_BAND_9:</span><span class='ee-v'>0.0023325</span></li><li><span class='ee-k'>REFLECTANCE_ADD_BAND_1:</span><span class='ee-v'>-0.1</span></li><li><span class='ee-k'>REFLECTANCE_ADD_BAND_2:</span><span class='ee-v'>-0.1</span></li><li><span class='ee-k'>REFLECTANCE_ADD_BAND_3:</span><span class='ee-v'>-0.1</span></li><li><span class='ee-k'>REFLECTANCE_ADD_BAND_4:</span><span class='ee-v'>-0.1</span></li><li><span class='ee-k'>REFLECTANCE_ADD_BAND_5:</span><span class='ee-v'>-0.1</span></li><li><span class='ee-k'>REFLECTANCE_ADD_BAND_6:</span><span class='ee-v'>-0.1</span></li><li><span class='ee-k'>REFLECTANCE_ADD_BAND_7:</span><span class='ee-v'>-0.1</span></li><li><span class='ee-k'>REFLECTANCE_ADD_BAND_8:</span><span class='ee-v'>-0.1</span></li><li><span class='ee-k'>REFLECTANCE_ADD_BAND_9:</span><span class='ee-v'>-0.1</span></li><li><span class='ee-k'>REFLECTANCE_MULT_BAND_1:</span><span class='ee-v'>2e-05</span></li><li><span class='ee-k'>REFLECTANCE_MULT_BAND_2:</span><span class='ee-v'>2e-05</span></li><li><span class='ee-k'>REFLECTANCE_MULT_BAND_3:</span><span class='ee-v'>2e-05</span></li><li><span class='ee-k'>REFLECTANCE_MULT_BAND_4:</span><span class='ee-v'>2e-05</span></li><li><span class='ee-k'>REFLECTANCE_MULT_BAND_5:</span><span class='ee-v'>2e-05</span></li><li><span class='ee-k'>REFLECTANCE_MULT_BAND_6:</span><span class='ee-v'>2e-05</span></li><li><span class='ee-k'>REFLECTANCE_MULT_BAND_7:</span><span class='ee-v'>2e-05</span></li><li><span class='ee-k'>REFLECTANCE_MULT_BAND_8:</span><span class='ee-v'>2e-05</span></li><li><span class='ee-k'>REFLECTANCE_MULT_BAND_9:</span><span class='ee-v'>2e-05</span></li><li><span class='ee-k'>REFLECTIVE_LINES:</span><span class='ee-v'>7721</span></li><li><span class='ee-k'>REFLECTIVE_SAMPLES:</span><span class='ee-v'>7591</span></li><li><span class='ee-k'>REQUEST_ID:</span><span class='ee-v'>1778725_00024</span></li><li><span class='ee-k'>RESAMPLING_OPTION:</span><span class='ee-v'>CUBIC_CONVOLUTION</span></li><li><span class='ee-k'>ROLL_ANGLE:</span><span class='ee-v'>-0.001</span></li><li><span class='ee-k'>SATURATION_BAND_1:</span><span class='ee-v'>Y</span></li><li><span class='ee-k'>SATURATION_BAND_2:</span><span class='ee-v'>N</span></li><li><span class='ee-k'>SATURATION_BAND_3:</span><span class='ee-v'>N</span></li><li><span class='ee-k'>SATURATION_BAND_4:</span><span class='ee-v'>N</span></li><li><span class='ee-k'>SATURATION_BAND_5:</span><span class='ee-v'>N</span></li><li><span class='ee-k'>SATURATION_BAND_6:</span><span class='ee-v'>Y</span></li><li><span class='ee-k'>SATURATION_BAND_7:</span><span class='ee-v'>Y</span></li><li><span class='ee-k'>SATURATION_BAND_8:</span><span class='ee-v'>N</span></li><li><span class='ee-k'>SATURATION_BAND_9:</span><span class='ee-v'>N</span></li><li><span class='ee-k'>SCENE_CENTER_TIME:</span><span class='ee-v'>14:46:59.7196120Z</span></li><li><span class='ee-k'>SENSOR_ID:</span><span class='ee-v'>OLI_TIRS</span></li><li><span class='ee-k'>SPACECRAFT_ID:</span><span class='ee-v'>LANDSAT_8</span></li><li><span class='ee-k'>STATION_ID:</span><span class='ee-v'>LGN</span></li><li><span class='ee-k'>SUN_AZIMUTH:</span><span class='ee-v'>48.95310317</span></li><li><span class='ee-k'>SUN_ELEVATION:</span><span class='ee-v'>49.75473261</span></li><li><span class='ee-k'>TARGET_WRS_PATH:</span><span class='ee-v'>3</span></li><li><span class='ee-k'>TARGET_WRS_ROW:</span><span class='ee-v'>70</span></li><li><span class='ee-k'>THERMAL_LINES:</span><span class='ee-v'>7721</span></li><li><span class='ee-k'>THERMAL_SAMPLES:</span><span class='ee-v'>7591</span></li><li><span class='ee-k'>TIRS_SSM_MODEL:</span><span class='ee-v'>FINAL</span></li><li><span class='ee-k'>TIRS_SSM_POSITION_STATUS:</span><span class='ee-v'>ESTIMATED</span></li><li><span class='ee-k'>TRUNCATION_OLI:</span><span class='ee-v'>UPPER</span></li><li><span class='ee-k'>UTM_ZONE:</span><span class='ee-v'>19</span></li><li><span class='ee-k'>WRS_PATH:</span><span class='ee-v'>3</span></li><li><span class='ee-k'>WRS_ROW:</span><span class='ee-v'>70</span></li><li><span class='ee-k'>WRS_TYPE:</span><span class='ee-v'>2</span></li><li><span class='ee-k'>system:asset_size:</span><span class='ee-v'>1323120971</span></li><li><label class='ee-shut'>system:footprint: Polygon (11 vertices)<input type='checkbox' class='ee-toggle'></label><ul><li><span class='ee-k'>type:</span><span class='ee-v'>Polygon</span></li><li><label class='ee-shut'>coordinates: List (1 element)<input type='checkbox' class='ee-toggle'></label><ul><li><label class='ee-shut'>0: List (11 elements)<input type='checkbox' class='ee-toggle'></label><ul><li><label class='ee-shut'>0: [-70.88997069406413, -13.989465550599332]<input type='checkbox' class='ee-toggle'></label><ul><li><span class='ee-k'>0:</span><span class='ee-v'>-70.88997069406413</span></li><li><span class='ee-k'>1:</span><span class='ee-v'>-13.989465550599332</span></li></ul></li><li><label class='ee-shut'>1: [-70.85543175952773, -13.989465550599332]<input type='checkbox' class='ee-toggle'></label><ul><li><span class='ee-k'>0:</span><span class='ee-v'>-70.85543175952773</span></li><li><span class='ee-k'>1:</span><span class='ee-v'>-13.989465550599332</span></li></ul></li><li><label class='ee-shut'>2: [-70.82089282499133, -13.98946555059933]<input type='checkbox' class='ee-toggle'></label><ul><li><span class='ee-k'>0:</span><span class='ee-v'>-70.82089282499133</span></li><li><span class='ee-k'>1:</span><span class='ee-v'>-13.98946555059933</span></li></ul></li><li><label class='ee-shut'>3: [-70.78635389045493, -13.98946555059933]<input type='checkbox' class='ee-toggle'></label><ul><li><span class='ee-k'>0:</span><span class='ee-v'>-70.78635389045493</span></li><li><span class='ee-k'>1:</span><span class='ee-v'>-13.98946555059933</span></li></ul></li><li><label class='ee-shut'>4: [-70.75181495591853, -13.989465550599332]<input type='checkbox' class='ee-toggle'></label><ul><li><span class='ee-k'>0:</span><span class='ee-v'>-70.75181495591853</span></li><li><span class='ee-k'>1:</span><span class='ee-v'>-13.989465550599332</span></li></ul></li><li><label class='ee-shut'>5: [-70.75181495591853, -13.85450850536386]<input type='checkbox' class='ee-toggle'></label><ul><li><span class='ee-k'>0:</span><span class='ee-v'>-70.75181495591853</span></li><li><span class='ee-k'>1:</span><span class='ee-v'>-13.85450850536386</span></li></ul></li><li><label class='ee-shut'>6: [-70.78635389045493, -13.85450850536386]<input type='checkbox' class='ee-toggle'></label><ul><li><span class='ee-k'>0:</span><span class='ee-v'>-70.78635389045493</span></li><li><span class='ee-k'>1:</span><span class='ee-v'>-13.85450850536386</span></li></ul></li><li><label class='ee-shut'>7: [-70.82089282499133, -13.85450850536386]<input type='checkbox' class='ee-toggle'></label><ul><li><span class='ee-k'>0:</span><span class='ee-v'>-70.82089282499133</span></li><li><span class='ee-k'>1:</span><span class='ee-v'>-13.85450850536386</span></li></ul></li><li><label class='ee-shut'>8: [-70.85543175952773, -13.85450850536386]<input type='checkbox' class='ee-toggle'></label><ul><li><span class='ee-k'>0:</span><span class='ee-v'>-70.85543175952773</span></li><li><span class='ee-k'>1:</span><span class='ee-v'>-13.85450850536386</span></li></ul></li><li><label class='ee-shut'>9: [-70.88997069406413, -13.85450850536386]<input type='checkbox' class='ee-toggle'></label><ul><li><span class='ee-k'>0:</span><span class='ee-v'>-70.88997069406413</span></li><li><span class='ee-k'>1:</span><span class='ee-v'>-13.85450850536386</span></li></ul></li><li><label class='ee-shut'>10: [-70.88997069406413, -13.989465550599332]<input type='checkbox' class='ee-toggle'></label><ul><li><span class='ee-k'>0:</span><span class='ee-v'>-70.88997069406413</span></li><li><span class='ee-k'>1:</span><span class='ee-v'>-13.989465550599332</span></li></ul></li></ul></li></ul></li></ul></li><li><span class='ee-k'>system:index:</span><span class='ee-v'>LC08_003070_20230819</span></li><li><span class='ee-k'>system:time_end:</span><span class='ee-v'>1692456419719</span></li><li><span class='ee-k'>system:time_start:</span><span class='ee-v'>1692456419719</span></li></ul></li></ul></li></ul></div><script>function toggleHeader() {\n",
              "    const parent = this.parentElement;\n",
              "    parent.className = parent.className === \"ee-open\" ? \"ee-shut\" : \"ee-open\";\n",
              "}\n",
              "\n",
              "for (let c of document.getElementsByClassName(\"ee-toggle\")) {\n",
              "    c.onclick = toggleHeader;\n",
              "}</script></div>"
            ]
          },
          "metadata": {},
          "execution_count": 136
        }
      ],
      "source": [
        "# Get Landsat 8 image collection\n",
        "landsat8_collection = ee.ImageCollection(\"LANDSAT/LC08/C02/T1_TOA\")\n",
        "\n",
        "# Filter to desired region and date bounds\n",
        "landsat8_collection = landsat8_collection.filterBounds(region)\n",
        "landsat8_collection = landsat8_collection.filterDate(date_start, date_end)\n",
        "\n",
        "# Get the least cloudy image in the collection, and clip it to our search region\n",
        "image = landsat8_collection.sort('CLOUD_COVER').first()\n",
        "image = image.clip(region)\n",
        "\n",
        "# Print out date, for reference\n",
        "date = image.get('DATE_ACQUIRED').getInfo()\n",
        "print(f'Selected image on date {date}')\n",
        "\n",
        "image"
      ]
    },
    {
      "cell_type": "markdown",
      "id": "289287fd-7e82-44ea-b1db-dd47b7776d27",
      "metadata": {
        "id": "289287fd-7e82-44ea-b1db-dd47b7776d27"
      },
      "source": [
        "And below, we visualise it to make sure it's good quality. Note I have increased the `max_reflectance` value to 0.8, so that we can see features of the snow and ice. This has the side effect of making the bare ground look much darker."
      ]
    },
    {
      "cell_type": "code",
      "execution_count": 106,
      "id": "f99d39b9-b7ec-4953-82ca-e9599e309e5e",
      "metadata": {
        "colab": {
          "base_uri": "https://localhost:8080/",
          "height": 621,
          "referenced_widgets": [
            "60983655222d4544ab195e6742f14169",
            "a793720cc03141cf84676ca119a9e68a",
            "0e2f62b2a56643368b24df0eb62eb22a",
            "96dfb3e1f4b1487494461d8755a1c467",
            "e597df286e894193b6eeb633636625d6",
            "5d21e5f2ecd04d988dd6c964080793d9",
            "6469855d244a4a64bef61733fdd93098",
            "4200330d44134c11b6391095a78338e8",
            "8c392d099eeb41049084f7c863d5ebb5",
            "bed2cd4ee1e94f79b64665b68b90cee6",
            "8fec28a31e5044c69824faf0dfe12ab7",
            "ba7d11cf74294fc493bba6b6bc7289dc",
            "e323228fb13d4ea48c86b3b9866164c9",
            "8d875e9446974927a2d848e2082d0b9f",
            "cd8e2d9be4144063b037df03ba58d230",
            "3a3dd69d747d47b4bb444ae76f861bb0",
            "878d91c0ffdf41b0810ffd80a43fb2b8",
            "0fe18bf2ed9a4d3db3c1e468996dc54e",
            "3ec2f7a63a2c4425b4d241961ae5f55b",
            "b99db6d3e2db48869465a199d3aa77b7",
            "c5f9bd0f216c471ea1f1ce05509c7e79",
            "6560438f0b144fe39d4fa1e6b76e932c",
            "b0c662cc8d1d45e98da00579f32e9438",
            "ee296f595325428da7bdbe2fab4d76a9",
            "20972cfab1ad47829a731b33e650d1e4"
          ]
        },
        "id": "f99d39b9-b7ec-4953-82ca-e9599e309e5e",
        "outputId": "231d106e-9b35-4632-ac5c-a16630527e1a"
      },
      "outputs": [
        {
          "output_type": "display_data",
          "data": {
            "text/plain": [
              "<IPython.core.display.HTML object>"
            ],
            "text/html": [
              "\n",
              "            <style>\n",
              "                .geemap-dark {\n",
              "                    --jp-widgets-color: white;\n",
              "                    --jp-widgets-label-color: white;\n",
              "                    --jp-ui-font-color1: white;\n",
              "                    --jp-layout-color2: #454545;\n",
              "                    background-color: #383838;\n",
              "                }\n",
              "                    \n",
              "                .geemap-dark .jupyter-button {\n",
              "                    --jp-layout-color3: #383838;\n",
              "                }\n",
              "                \n",
              "                .geemap-colab {\n",
              "                    background-color: var(--colab-primary-surface-color, white);\n",
              "                }\n",
              "                    \n",
              "                .geemap-colab .jupyter-button {\n",
              "                    --jp-layout-color3: var(--colab-primary-surface-color, white);\n",
              "                }\n",
              "            </style>\n",
              "            "
            ]
          },
          "metadata": {}
        },
        {
          "output_type": "display_data",
          "data": {
            "text/plain": [
              "Map(center=[-13.921983704624434, -70.82089282499103], controls=(WidgetControl(options=['position', 'transparen…"
            ],
            "application/vnd.jupyter.widget-view+json": {
              "version_major": 2,
              "version_minor": 0,
              "model_id": "60983655222d4544ab195e6742f14169"
            }
          },
          "metadata": {
            "application/vnd.jupyter.widget-view+json": {
              "colab": {
                "custom_widget_manager": {
                  "url": "https://ssl.gstatic.com/colaboratory-static/widgets/colab-cdn-widget-manager/b3e629b1971e1542/manager.min.js"
                }
              }
            }
          }
        }
      ],
      "source": [
        "\n",
        "Map = geemap.Map()  # Create empty map\n",
        "\n",
        "max_reflectance = 0.80 # Set the upper limit of reflectance to visualise.\n",
        "                       # Play with this value (between 0-1) to see what it\n",
        "                       # does. It will need to be higher for snowy/icy\n",
        "                       # scenes\n",
        "\n",
        "visParams = {'bands': ['B4', 'B3', 'B2'], 'max': max_reflectance}\n",
        "Map.addLayer(image, visParams, 'Colour Composite Image')\n",
        "\n",
        "Map.centerObject(region, zoom=12)\n",
        "Map"
      ]
    },
    {
      "cell_type": "markdown",
      "id": "d06b6253-d87a-4688-8a1d-55975cc2d09f",
      "metadata": {
        "id": "d06b6253-d87a-4688-8a1d-55975cc2d09f"
      },
      "source": [
        "# Calculating a normalised difference index"
      ]
    },
    {
      "cell_type": "markdown",
      "id": "562d72b5-0816-4ecb-8bae-6f3e8e400df6",
      "metadata": {
        "id": "562d72b5-0816-4ecb-8bae-6f3e8e400df6"
      },
      "source": [
        "Recall from the lecture slides last week that a normalised difference index takes the form\n",
        "\n",
        "$$NDI = \\frac{r_{high} - r_{low}}{r_{high} + r_{low}}$$\n",
        "\n",
        "Where $r_{high}$ is a band that has characteristically high reflectance for our surface of interest, and $r_{low}$ has characteristically low reflectance. From this principle, there are a number of useful normalised difference indices we can use (and more I'm sure you can find):\n",
        "\n",
        "| Name | Equation |\n",
        "| ---- | -------- |\n",
        "| Normalised Difference Vegetation Index | $$NDVI = \\frac{NIR_{B5} - Red_{B4}}{NIR_{B5} + Red_{B4}}$$ |\n",
        "| Normalised Difference Snow Index | $$NDSI = \\frac{Green_{B3} - SWIR_{B6}}{Green_{B3} + SWIR_{B6}}$$ |\n",
        "| Normalised Difference Water Index | $$NDWI = \\frac{Green_{B3} - NIR_{B5}}{Green_{B3} + NIR_{B5}}$$ |\n",
        "| Normalised Difference Built-up Index | $$NDBI = \\frac{SWIR_{B6} - NIR_{B5}}{SWIR_{B6} + NIR_{B5}}$$ |\n",
        "| Normalised Difference Snow Index (ice) | $$NDWI_{ice} = \\frac{Red_{B4} - Blue_{B2}}{Red_{B4} + Blue_{B2}}$$ |\n",
        "| Normalised Burn Ratio | $$NBR = \\frac{NIR_{B05} - SWIR_{B6}}{NIR_{B5} + SWIR_{B6}}$$ |\n",
        "\n",
        "I have included the relevant Landsat 8/9 bands as subscript in the equations - note this won't be the same if you start using, e.g., Landsat 1-7 or Sentinel-2 in the future.\n",
        "\n",
        "Google Earth Engine has a [fantastically useful function](https://developers.google.com/earth-engine/apidocs/ee-image-normalizeddifference) to help us simplify this: `ee.Image.normalizedDifference(['r_high', 'r_low'])` (note the American spelling of 'normalized'). This takes the name of two bands - $r_{high}$ and $r_{low}$ - and produces an NDI product.\n",
        "\n",
        "All we have to do is make sure we know the correct names of the bands, which are as follows (they are also listed, with detailed information, [here](https://developers.google.com/earth-engine/datasets/catalog/LANDSAT_LC08_C02_T1_TOA#bands):"
      ]
    },
    {
      "cell_type": "code",
      "execution_count": 8,
      "id": "7b736007-2857-4cc0-a97c-043d818cdc8e",
      "metadata": {
        "colab": {
          "base_uri": "https://localhost:8080/",
          "height": 321
        },
        "id": "7b736007-2857-4cc0-a97c-043d818cdc8e",
        "outputId": "4759e2a7-5542-4a4c-93d9-4da8a7b861ae"
      },
      "outputs": [
        {
          "output_type": "display_data",
          "data": {
            "text/plain": [
              "<IPython.core.display.HTML object>"
            ],
            "text/html": [
              "\n",
              "            <style>\n",
              "                .geemap-dark {\n",
              "                    --jp-widgets-color: white;\n",
              "                    --jp-widgets-label-color: white;\n",
              "                    --jp-ui-font-color1: white;\n",
              "                    --jp-layout-color2: #454545;\n",
              "                    background-color: #383838;\n",
              "                }\n",
              "                    \n",
              "                .geemap-dark .jupyter-button {\n",
              "                    --jp-layout-color3: #383838;\n",
              "                }\n",
              "                \n",
              "                .geemap-colab {\n",
              "                    background-color: var(--colab-primary-surface-color, white);\n",
              "                }\n",
              "                    \n",
              "                .geemap-colab .jupyter-button {\n",
              "                    --jp-layout-color3: var(--colab-primary-surface-color, white);\n",
              "                }\n",
              "            </style>\n",
              "            "
            ]
          },
          "metadata": {}
        },
        {
          "output_type": "execute_result",
          "data": {
            "text/plain": [
              "['B1',\n",
              " 'B2',\n",
              " 'B3',\n",
              " 'B4',\n",
              " 'B5',\n",
              " 'B6',\n",
              " 'B7',\n",
              " 'B8',\n",
              " 'B9',\n",
              " 'B10',\n",
              " 'B11',\n",
              " 'QA_PIXEL',\n",
              " 'QA_RADSAT',\n",
              " 'SAA',\n",
              " 'SZA',\n",
              " 'VAA',\n",
              " 'VZA']"
            ]
          },
          "metadata": {},
          "execution_count": 8
        }
      ],
      "source": [
        "image.bandNames().getInfo()"
      ]
    },
    {
      "cell_type": "markdown",
      "id": "96f9e518-88d2-4fca-96ec-d7fe5e4ed652",
      "metadata": {
        "id": "96f9e518-88d2-4fca-96ec-d7fe5e4ed652"
      },
      "source": [
        "As we're currently looking at an ice cap, it makes sense to calculate NDSI for now. Consulting the table above, this means using the green band (band 3) and the short-wave infrared (SWIR) band (band 6). Let's do this now:"
      ]
    },
    {
      "cell_type": "code",
      "execution_count": 107,
      "id": "318f7f8c-2bef-4873-8593-b7507e7e4d82",
      "metadata": {
        "colab": {
          "base_uri": "https://localhost:8080/",
          "height": 68
        },
        "id": "318f7f8c-2bef-4873-8593-b7507e7e4d82",
        "outputId": "ad63f933-2b46-442a-e3ac-05fbbafc37d8"
      },
      "outputs": [
        {
          "output_type": "display_data",
          "data": {
            "text/plain": [
              "<IPython.core.display.HTML object>"
            ],
            "text/html": [
              "\n",
              "            <style>\n",
              "                .geemap-dark {\n",
              "                    --jp-widgets-color: white;\n",
              "                    --jp-widgets-label-color: white;\n",
              "                    --jp-ui-font-color1: white;\n",
              "                    --jp-layout-color2: #454545;\n",
              "                    background-color: #383838;\n",
              "                }\n",
              "                    \n",
              "                .geemap-dark .jupyter-button {\n",
              "                    --jp-layout-color3: #383838;\n",
              "                }\n",
              "                \n",
              "                .geemap-colab {\n",
              "                    background-color: var(--colab-primary-surface-color, white);\n",
              "                }\n",
              "                    \n",
              "                .geemap-colab .jupyter-button {\n",
              "                    --jp-layout-color3: var(--colab-primary-surface-color, white);\n",
              "                }\n",
              "            </style>\n",
              "            "
            ]
          },
          "metadata": {}
        },
        {
          "output_type": "execute_result",
          "data": {
            "text/plain": [
              "<ee.image.Image at 0x7d5ff5c72080>"
            ],
            "text/html": [
              "<div><style>:root {\n",
              "  --font-color-primary: var(--jp-content-font-color0, rgba(0, 0, 0, 1));\n",
              "  --font-color-secondary: var(--jp-content-font-color2, rgba(0, 0, 0, 0.6));\n",
              "  --font-color-accent: rgba(123, 31, 162, 1);\n",
              "  --border-color: var(--jp-border-color2, #e0e0e0);\n",
              "  --background-color: var(--jp-layout-color0, white);\n",
              "  --background-color-row-even: var(--jp-layout-color1, white);\n",
              "  --background-color-row-odd: var(--jp-layout-color2, #eeeeee);\n",
              "}\n",
              "\n",
              "html[theme=\"dark\"],\n",
              "body[data-theme=\"dark\"],\n",
              "body.vscode-dark {\n",
              "  --font-color-primary: rgba(255, 255, 255, 1);\n",
              "  --font-color-secondary: rgba(255, 255, 255, 0.6);\n",
              "  --font-color-accent: rgb(173, 132, 190);\n",
              "  --border-color: #2e2e2e;\n",
              "  --background-color: #111111;\n",
              "  --background-color-row-even: #111111;\n",
              "  --background-color-row-odd: #313131;\n",
              "}\n",
              "\n",
              ".ee {\n",
              "  padding: 1em;\n",
              "  line-height: 1.5em;\n",
              "  min-width: 300px;\n",
              "  max-width: 1200px;\n",
              "  overflow-y: scroll;\n",
              "  max-height: 600px;\n",
              "  border: 1px solid var(--border-color);\n",
              "  font-family: monospace;\n",
              "}\n",
              "\n",
              ".ee li {\n",
              "  list-style-type: none;\n",
              "}\n",
              "\n",
              ".ee ul {\n",
              "  padding-left: 1.5em !important;\n",
              "  margin: 0;\n",
              "}\n",
              "\n",
              ".ee > ul {\n",
              "  padding-left: 0 !important;\n",
              "}\n",
              "\n",
              ".ee-open,\n",
              ".ee-shut {\n",
              "  color: var(--font-color-secondary);\n",
              "  cursor: pointer;\n",
              "  margin: 0;\n",
              "}\n",
              "\n",
              ".ee-open:hover,\n",
              ".ee-shut:hover {\n",
              "  color: var(--font-color-primary);\n",
              "}\n",
              "\n",
              ".ee-k {\n",
              "  color: var(--font-color-accent);\n",
              "  margin-right: 6px;\n",
              "}\n",
              "\n",
              ".ee-v {\n",
              "  color: var(--font-color-primary);\n",
              "}\n",
              "\n",
              ".ee-toggle {\n",
              "  display: none;\n",
              "}\n",
              "\n",
              ".ee-shut + ul {\n",
              "  display: none;\n",
              "}\n",
              "\n",
              ".ee-open + ul {\n",
              "  display: block;\n",
              "}\n",
              "\n",
              ".ee-shut::before {\n",
              "  display: inline-block;\n",
              "  content: \"▼\";\n",
              "  margin-right: 6px;\n",
              "  transform: rotate(-90deg);\n",
              "  transition: transform 0.2s;\n",
              "}\n",
              "\n",
              ".ee-open::before {\n",
              "  transform: rotate(0deg);\n",
              "  display: inline-block;\n",
              "  content: \"▼\";\n",
              "  margin-right: 6px;\n",
              "  transition: transform 0.2s;\n",
              "}\n",
              "</style><div class='ee'><ul><li><label class='ee-shut'>Image (1 band)<input type='checkbox' class='ee-toggle'></label><ul><li><span class='ee-k'>type:</span><span class='ee-v'>Image</span></li><li><label class='ee-shut'>bands: List (1 element)<input type='checkbox' class='ee-toggle'></label><ul><li><label class='ee-shut'>0: \"NDSI\", float, EPSG:32619, 503x502 px<input type='checkbox' class='ee-toggle'></label><ul><li><span class='ee-k'>id:</span><span class='ee-v'>NDSI</span></li><li><span class='ee-k'>crs:</span><span class='ee-v'>EPSG:32619</span></li><li><label class='ee-shut'>crs_transform: [30, 0, 192285, 0, -30, -1483485]<input type='checkbox' class='ee-toggle'></label><ul><li><span class='ee-k'>0:</span><span class='ee-v'>30</span></li><li><span class='ee-k'>1:</span><span class='ee-v'>0</span></li><li><span class='ee-k'>2:</span><span class='ee-v'>192285</span></li><li><span class='ee-k'>3:</span><span class='ee-v'>0</span></li><li><span class='ee-k'>4:</span><span class='ee-v'>-30</span></li><li><span class='ee-k'>5:</span><span class='ee-v'>-1483485</span></li></ul></li><li><label class='ee-shut'>data_type: float<input type='checkbox' class='ee-toggle'></label><ul><li><span class='ee-k'>type:</span><span class='ee-v'>PixelType</span></li><li><span class='ee-k'>max:</span><span class='ee-v'>1</span></li><li><span class='ee-k'>min:</span><span class='ee-v'>-1</span></li><li><span class='ee-k'>precision:</span><span class='ee-v'>float</span></li></ul></li><li><label class='ee-shut'>dimensions: [503, 502]<input type='checkbox' class='ee-toggle'></label><ul><li><span class='ee-k'>0:</span><span class='ee-v'>503</span></li><li><span class='ee-k'>1:</span><span class='ee-v'>502</span></li></ul></li><li><label class='ee-shut'>origin: [3448, 1628]<input type='checkbox' class='ee-toggle'></label><ul><li><span class='ee-k'>0:</span><span class='ee-v'>3448</span></li><li><span class='ee-k'>1:</span><span class='ee-v'>1628</span></li></ul></li></ul></li></ul></li><li><label class='ee-shut'>properties: Object (1 property)<input type='checkbox' class='ee-toggle'></label><ul><li><label class='ee-shut'>system:footprint: Polygon (11 vertices)<input type='checkbox' class='ee-toggle'></label><ul><li><span class='ee-k'>type:</span><span class='ee-v'>Polygon</span></li><li><label class='ee-shut'>coordinates: List (1 element)<input type='checkbox' class='ee-toggle'></label><ul><li><label class='ee-shut'>0: List (11 elements)<input type='checkbox' class='ee-toggle'></label><ul><li><label class='ee-shut'>0: [-70.88997069406413, -13.989465550599332]<input type='checkbox' class='ee-toggle'></label><ul><li><span class='ee-k'>0:</span><span class='ee-v'>-70.88997069406413</span></li><li><span class='ee-k'>1:</span><span class='ee-v'>-13.989465550599332</span></li></ul></li><li><label class='ee-shut'>1: [-70.85543175952773, -13.989465550599332]<input type='checkbox' class='ee-toggle'></label><ul><li><span class='ee-k'>0:</span><span class='ee-v'>-70.85543175952773</span></li><li><span class='ee-k'>1:</span><span class='ee-v'>-13.989465550599332</span></li></ul></li><li><label class='ee-shut'>2: [-70.82089282499133, -13.98946555059933]<input type='checkbox' class='ee-toggle'></label><ul><li><span class='ee-k'>0:</span><span class='ee-v'>-70.82089282499133</span></li><li><span class='ee-k'>1:</span><span class='ee-v'>-13.98946555059933</span></li></ul></li><li><label class='ee-shut'>3: [-70.78635389045493, -13.98946555059933]<input type='checkbox' class='ee-toggle'></label><ul><li><span class='ee-k'>0:</span><span class='ee-v'>-70.78635389045493</span></li><li><span class='ee-k'>1:</span><span class='ee-v'>-13.98946555059933</span></li></ul></li><li><label class='ee-shut'>4: [-70.75181495591853, -13.989465550599332]<input type='checkbox' class='ee-toggle'></label><ul><li><span class='ee-k'>0:</span><span class='ee-v'>-70.75181495591853</span></li><li><span class='ee-k'>1:</span><span class='ee-v'>-13.989465550599332</span></li></ul></li><li><label class='ee-shut'>5: [-70.75181495591853, -13.85450850536386]<input type='checkbox' class='ee-toggle'></label><ul><li><span class='ee-k'>0:</span><span class='ee-v'>-70.75181495591853</span></li><li><span class='ee-k'>1:</span><span class='ee-v'>-13.85450850536386</span></li></ul></li><li><label class='ee-shut'>6: [-70.78635389045493, -13.85450850536386]<input type='checkbox' class='ee-toggle'></label><ul><li><span class='ee-k'>0:</span><span class='ee-v'>-70.78635389045493</span></li><li><span class='ee-k'>1:</span><span class='ee-v'>-13.85450850536386</span></li></ul></li><li><label class='ee-shut'>7: [-70.82089282499133, -13.85450850536386]<input type='checkbox' class='ee-toggle'></label><ul><li><span class='ee-k'>0:</span><span class='ee-v'>-70.82089282499133</span></li><li><span class='ee-k'>1:</span><span class='ee-v'>-13.85450850536386</span></li></ul></li><li><label class='ee-shut'>8: [-70.85543175952773, -13.85450850536386]<input type='checkbox' class='ee-toggle'></label><ul><li><span class='ee-k'>0:</span><span class='ee-v'>-70.85543175952773</span></li><li><span class='ee-k'>1:</span><span class='ee-v'>-13.85450850536386</span></li></ul></li><li><label class='ee-shut'>9: [-70.88997069406413, -13.85450850536386]<input type='checkbox' class='ee-toggle'></label><ul><li><span class='ee-k'>0:</span><span class='ee-v'>-70.88997069406413</span></li><li><span class='ee-k'>1:</span><span class='ee-v'>-13.85450850536386</span></li></ul></li><li><label class='ee-shut'>10: [-70.88997069406413, -13.989465550599332]<input type='checkbox' class='ee-toggle'></label><ul><li><span class='ee-k'>0:</span><span class='ee-v'>-70.88997069406413</span></li><li><span class='ee-k'>1:</span><span class='ee-v'>-13.989465550599332</span></li></ul></li></ul></li></ul></li></ul></li></ul></li></ul></li></ul></div><script>function toggleHeader() {\n",
              "    const parent = this.parentElement;\n",
              "    parent.className = parent.className === \"ee-open\" ? \"ee-shut\" : \"ee-open\";\n",
              "}\n",
              "\n",
              "for (let c of document.getElementsByClassName(\"ee-toggle\")) {\n",
              "    c.onclick = toggleHeader;\n",
              "}</script></div>"
            ]
          },
          "metadata": {},
          "execution_count": 107
        }
      ],
      "source": [
        "\n",
        "type_of_ndi = 'NDSI'  # type of NDI calculated, for filename purposes\n",
        "r_high = 'B3'  # relevant band name for r_high\n",
        "r_low = 'B6'   # relevant band name for r_low\n",
        "\n",
        "ndi = image.normalizedDifference([r_high, r_low]).rename(type_of_ndi)\n",
        "\n",
        "ndi"
      ]
    },
    {
      "cell_type": "markdown",
      "id": "e31e9a8d-7413-4962-ad30-c5815d53e225",
      "metadata": {
        "id": "e31e9a8d-7413-4962-ad30-c5815d53e225"
      },
      "source": [
        "Now, we can visualise the product. Note that I have visualised both the NDSI and the colour image - click the 🔧 symbol in the top right, and then the ☰ button, to open a menu where you can toggle the NDWI on an off to compare the two."
      ]
    },
    {
      "cell_type": "code",
      "execution_count": 108,
      "id": "84ddf96c-4fc0-431c-9a5d-6c2c216cc48d",
      "metadata": {
        "colab": {
          "base_uri": "https://localhost:8080/",
          "height": 621,
          "referenced_widgets": [
            "a7b489c1efe64deaa2b7ec3b8dbc5ea0",
            "c6309e6dfdbd4ae287705ed405f09967",
            "d38f548444dd47caa321ee7b2584eacd",
            "a7136c52a34a416280386e42475168fe",
            "1f7c282fbb1944fb9324fec489b22ba2",
            "939231b7ee69449fa1e8ab458c6703c1",
            "6c369b4fc8ca47fd8f1e9f6f81f3be55",
            "f470ed71fe5148c68ce63dab8e4f86e7",
            "c456be3d69964a4a80ff84a58c5ebfce",
            "1936247ad13f434590d8daa713e2e6e3",
            "2d048778e8284213a0d7617bd3635740",
            "b02686864b874299aa45e8ca3341ad7e",
            "4a395c1e81dd4ee78d23546d60be2642",
            "6a3bba24cc1643a3b36451be9a41de73",
            "6986779b42404a12a538f5e92b2d999a",
            "7c5496ebd0b34323bd99de4ef9d569c4",
            "12895e51a27e4394abb639c0106cfd25",
            "133797c70dd047cc80358d5b96f7d791",
            "ae5543e80d8648c49e3f7b05406ccc8f",
            "51f228823ae2406eaadae79aa940d037",
            "d9d75753c85a4169badcc16869bdff9e",
            "2907ec048fa947599044d52bd0b36e6c",
            "223a1fd92edc4935bad04b7307a846fa",
            "4f4cbd16f3fe4d23a6f7408426e6b714",
            "b0218577664f4399bd2e470529008e8d",
            "c3c32087d7604ca6aa113a5df4e19b91"
          ]
        },
        "id": "84ddf96c-4fc0-431c-9a5d-6c2c216cc48d",
        "outputId": "fce9c242-3ea6-48fc-a7e0-2bfd6fb49959"
      },
      "outputs": [
        {
          "output_type": "display_data",
          "data": {
            "text/plain": [
              "<IPython.core.display.HTML object>"
            ],
            "text/html": [
              "\n",
              "            <style>\n",
              "                .geemap-dark {\n",
              "                    --jp-widgets-color: white;\n",
              "                    --jp-widgets-label-color: white;\n",
              "                    --jp-ui-font-color1: white;\n",
              "                    --jp-layout-color2: #454545;\n",
              "                    background-color: #383838;\n",
              "                }\n",
              "                    \n",
              "                .geemap-dark .jupyter-button {\n",
              "                    --jp-layout-color3: #383838;\n",
              "                }\n",
              "                \n",
              "                .geemap-colab {\n",
              "                    background-color: var(--colab-primary-surface-color, white);\n",
              "                }\n",
              "                    \n",
              "                .geemap-colab .jupyter-button {\n",
              "                    --jp-layout-color3: var(--colab-primary-surface-color, white);\n",
              "                }\n",
              "            </style>\n",
              "            "
            ]
          },
          "metadata": {}
        },
        {
          "output_type": "display_data",
          "data": {
            "text/plain": [
              "Map(center=[-13.921983704624434, -70.82089282499103], controls=(WidgetControl(options=['position', 'transparen…"
            ],
            "application/vnd.jupyter.widget-view+json": {
              "version_major": 2,
              "version_minor": 0,
              "model_id": "a7b489c1efe64deaa2b7ec3b8dbc5ea0"
            }
          },
          "metadata": {
            "application/vnd.jupyter.widget-view+json": {
              "colab": {
                "custom_widget_manager": {
                  "url": "https://ssl.gstatic.com/colaboratory-static/widgets/colab-cdn-widget-manager/b3e629b1971e1542/manager.min.js"
                }
              }
            }
          }
        }
      ],
      "source": [
        "\n",
        "Map = geemap.Map() # Create empty map\n",
        "\n",
        "# Display colour image\n",
        "max_reflectance = 0.80\n",
        "visParams = {'bands': ['B4', 'B3', 'B2'], 'max': max_reflectance}\n",
        "Map.addLayer(image, visParams, 'True Colour')\n",
        "\n",
        "# Display NDI\n",
        "visParams = {'bands': [type_of_ndi], 'min': -1, 'max': 1, 'palette': ['red', 'white', 'blue']}\n",
        "Map.addLayer(ndi, visParams, type_of_ndi)\n",
        "\n",
        "Map.centerObject(region, zoom=12)\n",
        "Map\n"
      ]
    },
    {
      "cell_type": "markdown",
      "id": "392c9033-e20f-4d7f-a23d-b5c77845b420",
      "metadata": {
        "id": "392c9033-e20f-4d7f-a23d-b5c77845b420"
      },
      "source": [
        "Have a zoom around and see what you think. Overall, this is a good product - there's clear boundaries and not much confusion over shaded areas, etc. However, it's clear that the NDSI is also picking up lakes/water as ice. This is an established weakness of NDSI.\n",
        "\n",
        "> **Task:**\n",
        ">\n",
        "> 1. Go back and calculate NDWI instead of NDSI. Is NDWI better at differentiating water and ice?\n",
        ">\n",
        "> 2. Based on the bands used, why do you think this is?\n",
        ">\n",
        "> 3. Have an explore of other NDIs as well (e.g. NDVI).\n",
        "\n",
        "After you have explored this, return to calculating the NDSI and ensure the cells have run so that the `ndi` variable is storing the NDSI."
      ]
    },
    {
      "cell_type": "markdown",
      "id": "157a01a1-a154-4b70-b464-c8f0942d940d",
      "metadata": {
        "id": "157a01a1-a154-4b70-b464-c8f0942d940d"
      },
      "source": [
        "# Thresholding"
      ]
    },
    {
      "cell_type": "markdown",
      "source": [
        "One common use of NDIs is to _threshold_ the data, extracting a binary mask of identified features. For instance, we might say that anything with an NDVI value above 0.4 is vegetation. In order to do this, we need to choose a sensible threshold.\n",
        "\n",
        "A good way to begin manually identifying a threshold is to construct a histogram of the computed NDI values in the scene. The short script below samples 10,000 pixels within the NDI scene and presents them as a histogram. Take a look at the code and then run it to see the histogram:"
      ],
      "metadata": {
        "id": "6JiP7sbdUtuO"
      },
      "id": "6JiP7sbdUtuO"
    },
    {
      "cell_type": "code",
      "execution_count": 109,
      "id": "203585f9-b68c-4a25-bcb0-f46d36361761",
      "metadata": {
        "colab": {
          "base_uri": "https://localhost:8080/",
          "height": 553,
          "referenced_widgets": [
            "df52f9d398534fab867cacc74b98e657",
            "27cb26d6ba7b496d8d3a674ce587ec92",
            "51ecb3eeb42c4341a3e937f3654f30f3",
            "c0e8beaab57b4ea49f2f937d83c702b8",
            "c91913eb5ff54f87a2d8e9f1bc3db29d",
            "d4eac044a80743a888cb4a2cb470e09f",
            "ee2bf2ec217f42c59b48020826fb9e44",
            "44402c6f34da4569b3534514a7c921dc",
            "18c4f8cc4fb8439ea780dd852b0bdef0",
            "1b4cf1b380ea415385bb2d5eee0fbf7f",
            "4fa27b298df24681bdd01d6760aa977e",
            "b3a753c9684b41a2acad7ec38db5251d",
            "9d2c04041a3240ef9baf0d8c95feedb4",
            "411fdcc75a4c4658b13644ae0efb26e9",
            "5d057481630742fc943fefee967729ed"
          ]
        },
        "id": "203585f9-b68c-4a25-bcb0-f46d36361761",
        "outputId": "1a2936c8-50f5-4233-db0f-1b65bc6028c3"
      },
      "outputs": [
        {
          "output_type": "display_data",
          "data": {
            "text/plain": [
              "<IPython.core.display.HTML object>"
            ],
            "text/html": [
              "\n",
              "            <style>\n",
              "                .geemap-dark {\n",
              "                    --jp-widgets-color: white;\n",
              "                    --jp-widgets-label-color: white;\n",
              "                    --jp-ui-font-color1: white;\n",
              "                    --jp-layout-color2: #454545;\n",
              "                    background-color: #383838;\n",
              "                }\n",
              "                    \n",
              "                .geemap-dark .jupyter-button {\n",
              "                    --jp-layout-color3: #383838;\n",
              "                }\n",
              "                \n",
              "                .geemap-colab {\n",
              "                    background-color: var(--colab-primary-surface-color, white);\n",
              "                }\n",
              "                    \n",
              "                .geemap-colab .jupyter-button {\n",
              "                    --jp-layout-color3: var(--colab-primary-surface-color, white);\n",
              "                }\n",
              "            </style>\n",
              "            "
            ]
          },
          "metadata": {}
        },
        {
          "output_type": "display_data",
          "data": {
            "text/plain": [
              "VBox(children=(Figure(axes=[Axis(label='Pixel count', orientation='vertical', scale=LinearScale()), Axis(label…"
            ],
            "application/vnd.jupyter.widget-view+json": {
              "version_major": 2,
              "version_minor": 0,
              "model_id": "df52f9d398534fab867cacc74b98e657"
            }
          },
          "metadata": {
            "application/vnd.jupyter.widget-view+json": {
              "colab": {
                "custom_widget_manager": {
                  "url": "https://ssl.gstatic.com/colaboratory-static/widgets/colab-cdn-widget-manager/b3e629b1971e1542/manager.min.js"
                }
              }
            }
          }
        }
      ],
      "source": [
        "\n",
        "# Sample 10,000 pixels within the NDI image\n",
        "sample_pixels = ndi.sample(region, numPixels=10000)\n",
        "\n",
        "# Set labels for the graph\n",
        "labels = {\n",
        "    \"title\": 'Distribution of NDI values within image',\n",
        "    \"xlabel\": f'{type_of_ndi} values',\n",
        "    \"ylabel\": 'Pixel count',\n",
        "}\n",
        "\n",
        "# Construct the histogram\n",
        "chart.feature_histogram(sample_pixels, type_of_ndi, **labels)"
      ]
    },
    {
      "cell_type": "markdown",
      "source": [
        "We can see that the data has a _strongly bimodal_ distribution, with lots of land surface with NDSI values <0.1 and glaciated surface with NDI values >0.85.\n",
        "\n",
        "As a result, our choice of threshold here is not too important - anything between 0 and 0.8 would probably result in a reasonable ice surface mask. Choosing a value closer to 0.85 will result in less noise, however, so let's do that:"
      ],
      "metadata": {
        "id": "iiLNFxk0aH0M"
      },
      "id": "iiLNFxk0aH0M"
    },
    {
      "cell_type": "code",
      "execution_count": 110,
      "id": "ef6917d6-1281-4d79-bf8e-2da76efe8b92",
      "metadata": {
        "colab": {
          "base_uri": "https://localhost:8080/",
          "height": 17
        },
        "id": "ef6917d6-1281-4d79-bf8e-2da76efe8b92",
        "outputId": "878bdc2c-faf7-490f-c5d8-f41b9560fe9e"
      },
      "outputs": [
        {
          "output_type": "display_data",
          "data": {
            "text/plain": [
              "<IPython.core.display.HTML object>"
            ],
            "text/html": [
              "\n",
              "            <style>\n",
              "                .geemap-dark {\n",
              "                    --jp-widgets-color: white;\n",
              "                    --jp-widgets-label-color: white;\n",
              "                    --jp-ui-font-color1: white;\n",
              "                    --jp-layout-color2: #454545;\n",
              "                    background-color: #383838;\n",
              "                }\n",
              "                    \n",
              "                .geemap-dark .jupyter-button {\n",
              "                    --jp-layout-color3: #383838;\n",
              "                }\n",
              "                \n",
              "                .geemap-colab {\n",
              "                    background-color: var(--colab-primary-surface-color, white);\n",
              "                }\n",
              "                    \n",
              "                .geemap-colab .jupyter-button {\n",
              "                    --jp-layout-color3: var(--colab-primary-surface-color, white);\n",
              "                }\n",
              "            </style>\n",
              "            "
            ]
          },
          "metadata": {}
        }
      ],
      "source": [
        "# manually set a threshold\n",
        "threshold = 0.8\n",
        "\n",
        "# threshold the image to where greater than threshold.\n",
        "# note that you could change from greater than to less than by\n",
        "# changing 'gt' to 'lt'.\n",
        "ndi_threshold = ndi.gt(threshold)\n",
        "\n",
        "# 'Mask' the data, showing only regions beyond the threshold.\n",
        "ndi_threshold = ndi_threshold.updateMask(ndi_threshold.neq(0))\n"
      ]
    },
    {
      "cell_type": "markdown",
      "source": [
        "The above cell creates a new image where values greater than the threshold are set to 1, and values beneath the threshold are set to 0 (and in the background, values of zero are 'masked', so that they are transparent in future visualisations).\n",
        "\n",
        "We can visualise this data semi-transparent over the original data to see how we've done:"
      ],
      "metadata": {
        "id": "OkPxHO_Bc2ZB"
      },
      "id": "OkPxHO_Bc2ZB"
    },
    {
      "cell_type": "code",
      "source": [
        "\n",
        "Map = geemap.Map() # Create empty map\n",
        "\n",
        "# Display colour image\n",
        "max_reflectance = 0.80\n",
        "visParams = {'bands': ['B4', 'B3', 'B2'], 'max': max_reflectance}\n",
        "Map.addLayer(image, visParams, 'True Colour')\n",
        "\n",
        "# Display NDI\n",
        "visParams = {'bands': [type_of_ndi], 'palette': ['white', 'cyan'], 'opacity': 0.3}\n",
        "Map.addLayer(ndi_threshold, visParams, type_of_ndi)\n",
        "\n",
        "Map.centerObject(region, zoom=12)\n",
        "Map\n"
      ],
      "metadata": {
        "colab": {
          "base_uri": "https://localhost:8080/",
          "height": 621,
          "referenced_widgets": [
            "c939590b2313476381b7d0e2a57f579f",
            "3a5e5da26f27439bad2fd822a5080f94",
            "20907fc820ea4ec6b807c5bac1bc4c9d",
            "873df0b8dcbe4e1580d70f39d2e2aa19",
            "c53eab19364444379f754036dcb04a76",
            "334ff40bd44942cba795ac94d0c8bb78",
            "d3b240f350984dff81a45388d590fc65",
            "b71f181e4e96439ea10cd5e6bc0f82a1",
            "a62d6cb9be6847c0bd56f3b9b7e2bb88",
            "1e2fc1d26212471a98c70d5bc8076588",
            "25e02d272b6142c890c6b5f9ee645741",
            "b16c15cdfbdc4c24ae4e070aa9b21f87",
            "943bd7db458e43b19a9576b25a7eb34b",
            "0407580271634324af953cc3971e9be5",
            "a35ae8c8c6024e81ae09c7542531bcfd",
            "26fbc5b526854e4bbca54072e18025c5",
            "4954288c6b714392a24b5a3033c56756",
            "98e9880a728a4241a23cbc7e8ffd3060",
            "4110d3e56f754a1db41a2a3b10d2124f",
            "7121691017b24104b84bb99dab1e0ac0",
            "7dd65f9a4ffa4dd587031f5c66791b88",
            "ad95773502be430e84103a7a044fefb9",
            "ba5323333b44411eb497010d245354a3",
            "43a9bb0f42e9496ab71dbfa8991b60b2",
            "b1e1e0f4a59f4c7dae9e943715d09f21",
            "7c483998e54b463a910ea2aa856d52df"
          ]
        },
        "id": "jeAtC5lsb3k8",
        "outputId": "a534597a-782e-460d-9d69-d189c77a2377"
      },
      "id": "jeAtC5lsb3k8",
      "execution_count": 112,
      "outputs": [
        {
          "output_type": "display_data",
          "data": {
            "text/plain": [
              "<IPython.core.display.HTML object>"
            ],
            "text/html": [
              "\n",
              "            <style>\n",
              "                .geemap-dark {\n",
              "                    --jp-widgets-color: white;\n",
              "                    --jp-widgets-label-color: white;\n",
              "                    --jp-ui-font-color1: white;\n",
              "                    --jp-layout-color2: #454545;\n",
              "                    background-color: #383838;\n",
              "                }\n",
              "                    \n",
              "                .geemap-dark .jupyter-button {\n",
              "                    --jp-layout-color3: #383838;\n",
              "                }\n",
              "                \n",
              "                .geemap-colab {\n",
              "                    background-color: var(--colab-primary-surface-color, white);\n",
              "                }\n",
              "                    \n",
              "                .geemap-colab .jupyter-button {\n",
              "                    --jp-layout-color3: var(--colab-primary-surface-color, white);\n",
              "                }\n",
              "            </style>\n",
              "            "
            ]
          },
          "metadata": {}
        },
        {
          "output_type": "display_data",
          "data": {
            "text/plain": [
              "Map(center=[-13.921983704624434, -70.82089282499103], controls=(WidgetControl(options=['position', 'transparen…"
            ],
            "application/vnd.jupyter.widget-view+json": {
              "version_major": 2,
              "version_minor": 0,
              "model_id": "c939590b2313476381b7d0e2a57f579f"
            }
          },
          "metadata": {
            "application/vnd.jupyter.widget-view+json": {
              "colab": {
                "custom_widget_manager": {
                  "url": "https://ssl.gstatic.com/colaboratory-static/widgets/colab-cdn-widget-manager/b3e629b1971e1542/manager.min.js"
                }
              }
            }
          }
        }
      ]
    },
    {
      "cell_type": "markdown",
      "source": [
        "Not bad.\n",
        "<!-- Now that we have a clear mask of snow vs bedrock, we could even begin to calculate quantiative statistics, such as the total area that is snow. We will calculate this in km3: -->"
      ],
      "metadata": {
        "id": "oj9m0isxdP1f"
      },
      "id": "oj9m0isxdP1f"
    },
    {
      "cell_type": "markdown",
      "source": [
        " We could choose to export this image for visualisation, but it is better I think to export this as _vector_ data rather than _raster_ data (recall last year's course).\n",
        "\n",
        "We can do this simply with Earth Engine's `.reduceToVectors()` tool. Alongside this, I've written some code to also extract the _area_ of each vector polygon. You'll see what this does in the next step."
      ],
      "metadata": {
        "id": "hCK9VnL8wegv"
      },
      "id": "hCK9VnL8wegv"
    },
    {
      "cell_type": "code",
      "source": [
        "\n",
        "# Calculate the area of each pixel in km2, and add it as a band to the NDI image\n",
        "ndi_and_area = ndi_threshold.addBands(ndi_threshold.multiply(30*30).divide(1e6))\n",
        "\n",
        "# Use the `reduceToVectors()` function to produce vectors, also calculating\n",
        "# the total area using the `sum()` function to sum the pixel areas.\n",
        "vectors = ndi_and_area.reduceToVectors(\n",
        "  scale=30,\n",
        "  geometryType = 'polygon',\n",
        "  eightConnected = False,\n",
        "  reducer = ee.Reducer.sum(),\n",
        ")\n",
        "\n",
        "# Extra line to rename the area column to `area_km2`.\n",
        "vectors = vectors.map(lambda feature: feature.set('area_km2', feature.get('sum')).set('sum', None).set('label', None))\n"
      ],
      "metadata": {
        "colab": {
          "base_uri": "https://localhost:8080/",
          "height": 17
        },
        "id": "yrbJG1BzdkPa",
        "outputId": "85f5768a-d9f7-43a2-86eb-47f523de6fc7"
      },
      "id": "yrbJG1BzdkPa",
      "execution_count": 113,
      "outputs": [
        {
          "output_type": "display_data",
          "data": {
            "text/plain": [
              "<IPython.core.display.HTML object>"
            ],
            "text/html": [
              "\n",
              "            <style>\n",
              "                .geemap-dark {\n",
              "                    --jp-widgets-color: white;\n",
              "                    --jp-widgets-label-color: white;\n",
              "                    --jp-ui-font-color1: white;\n",
              "                    --jp-layout-color2: #454545;\n",
              "                    background-color: #383838;\n",
              "                }\n",
              "                    \n",
              "                .geemap-dark .jupyter-button {\n",
              "                    --jp-layout-color3: #383838;\n",
              "                }\n",
              "                \n",
              "                .geemap-colab {\n",
              "                    background-color: var(--colab-primary-surface-color, white);\n",
              "                }\n",
              "                    \n",
              "                .geemap-colab .jupyter-button {\n",
              "                    --jp-layout-color3: var(--colab-primary-surface-color, white);\n",
              "                }\n",
              "            </style>\n",
              "            "
            ]
          },
          "metadata": {}
        }
      ]
    },
    {
      "cell_type": "markdown",
      "source": [
        "Let's visualise the vector layer over the top of the image:"
      ],
      "metadata": {
        "id": "X__nZWNwtNKR"
      },
      "id": "X__nZWNwtNKR"
    },
    {
      "cell_type": "code",
      "source": [
        "\n",
        "Map = geemap.Map() # Create empty map\n",
        "\n",
        "# Display colour image\n",
        "max_reflectance = 0.80\n",
        "visParams = {'bands': ['B4', 'B3', 'B2'], 'max': max_reflectance}\n",
        "Map.addLayer(image, visParams, 'True Colour')\n",
        "\n",
        "# Display NDI\n",
        "Map.addLayer(vectors, {'color': 'cyan'}, \"Identified Region\")  # Add our AOI\n",
        "\n",
        "Map.centerObject(region, zoom=12)\n",
        "Map\n"
      ],
      "metadata": {
        "colab": {
          "base_uri": "https://localhost:8080/",
          "height": 621,
          "referenced_widgets": [
            "e3125ee56d7e4fe2a7d273e19dce228d",
            "867cbd242afb4a4a92c7f1282f876550",
            "ca1d82aee1c340e5b37ab2431689a9e7",
            "ece4f2a6c80f4ec8b7ad8c6c02123af5",
            "130ca80a6c7d432e8ed114eaebddee8f",
            "c378beb6da4f439a9ab4b8a6dca131b7",
            "efe34e63f5094e0a952c48b8e2579334",
            "a468829248ef4c03ba7343a103387404",
            "02ec767ab6524cc4af06279e611baf0c",
            "aed456fdadd5486a97d229d681acc6b5",
            "a2d43d360e73422e980e0a5100a04d81",
            "7743e454f827429eb56d83817bf6e85f",
            "bc747e347a164402ba55027cdfa85bfc",
            "f999d71fd7fc441d8284e60ffd68059e",
            "7345248340904b26bc083c5b4e580cb3",
            "06d0124b8cc6429baf05bac9634b7620",
            "328f5fabe79a4dafa7e9ad84d5a65ba6",
            "df38b812ed0f401ab8843a91c696e197",
            "7769cbfa00af470297ea1bda6cfde0ac",
            "69b399545e424c91a04e40f4d768cd1a",
            "31339ec422c74a3ca909d81924a90da1",
            "bd7953ec02b44fcf94344b3e2ce1297e",
            "3cd54b63b2774fc1877bfb63eafe3795",
            "bb733e1e92554ab6a49fcfe399da0c5b",
            "c73a305cfec546909ee5c82da2547eee",
            "3208ab2997f6475da7673b0becca92b7"
          ]
        },
        "id": "VclYY5SUd1KS",
        "outputId": "ce396f3a-256d-4685-c4c1-033911886fe5"
      },
      "id": "VclYY5SUd1KS",
      "execution_count": 114,
      "outputs": [
        {
          "output_type": "display_data",
          "data": {
            "text/plain": [
              "<IPython.core.display.HTML object>"
            ],
            "text/html": [
              "\n",
              "            <style>\n",
              "                .geemap-dark {\n",
              "                    --jp-widgets-color: white;\n",
              "                    --jp-widgets-label-color: white;\n",
              "                    --jp-ui-font-color1: white;\n",
              "                    --jp-layout-color2: #454545;\n",
              "                    background-color: #383838;\n",
              "                }\n",
              "                    \n",
              "                .geemap-dark .jupyter-button {\n",
              "                    --jp-layout-color3: #383838;\n",
              "                }\n",
              "                \n",
              "                .geemap-colab {\n",
              "                    background-color: var(--colab-primary-surface-color, white);\n",
              "                }\n",
              "                    \n",
              "                .geemap-colab .jupyter-button {\n",
              "                    --jp-layout-color3: var(--colab-primary-surface-color, white);\n",
              "                }\n",
              "            </style>\n",
              "            "
            ]
          },
          "metadata": {}
        },
        {
          "output_type": "display_data",
          "data": {
            "text/plain": [
              "Map(center=[-13.921983704624434, -70.82089282499103], controls=(WidgetControl(options=['position', 'transparen…"
            ],
            "application/vnd.jupyter.widget-view+json": {
              "version_major": 2,
              "version_minor": 0,
              "model_id": "e3125ee56d7e4fe2a7d273e19dce228d"
            }
          },
          "metadata": {
            "application/vnd.jupyter.widget-view+json": {
              "colab": {
                "custom_widget_manager": {
                  "url": "https://ssl.gstatic.com/colaboratory-static/widgets/colab-cdn-widget-manager/b3e629b1971e1542/manager.min.js"
                }
              }
            }
          }
        }
      ]
    },
    {
      "cell_type": "markdown",
      "source": [
        "As we have calculated the area, we could even get quantative statistics:"
      ],
      "metadata": {
        "id": "LlKhigMXw_Ev"
      },
      "id": "LlKhigMXw_Ev"
    },
    {
      "cell_type": "code",
      "source": [
        "\n",
        "# Get total area of initial search region\n",
        "aoi_area_km2 = region.area(maxError=1).getInfo() / 1e6\n",
        "\n",
        "# Get total area of all vectors\n",
        "vector_area_km2 = vectors.aggregate_sum('area_km2').getInfo()\n",
        "\n",
        "# Print the results\n",
        "print(f'Total scene area: {aoi_area_km2:.2f} km2')\n",
        "print(f'Total classified area: {vector_area_km2:.2f} km2')\n"
      ],
      "metadata": {
        "id": "r7s0MihfxbVL",
        "outputId": "17b0b078-dec7-4387-8f34-38bd45bda15d",
        "colab": {
          "base_uri": "https://localhost:8080/",
          "height": 53
        }
      },
      "id": "r7s0MihfxbVL",
      "execution_count": 128,
      "outputs": [
        {
          "output_type": "display_data",
          "data": {
            "text/plain": [
              "<IPython.core.display.HTML object>"
            ],
            "text/html": [
              "\n",
              "            <style>\n",
              "                .geemap-dark {\n",
              "                    --jp-widgets-color: white;\n",
              "                    --jp-widgets-label-color: white;\n",
              "                    --jp-ui-font-color1: white;\n",
              "                    --jp-layout-color2: #454545;\n",
              "                    background-color: #383838;\n",
              "                }\n",
              "                    \n",
              "                .geemap-dark .jupyter-button {\n",
              "                    --jp-layout-color3: #383838;\n",
              "                }\n",
              "                \n",
              "                .geemap-colab {\n",
              "                    background-color: var(--colab-primary-surface-color, white);\n",
              "                }\n",
              "                    \n",
              "                .geemap-colab .jupyter-button {\n",
              "                    --jp-layout-color3: var(--colab-primary-surface-color, white);\n",
              "                }\n",
              "            </style>\n",
              "            "
            ]
          },
          "metadata": {}
        },
        {
          "output_type": "stream",
          "name": "stdout",
          "text": [
            "Total scene area: 223.76 km2\n",
            "Total classified area: 37.12 km2\n"
          ]
        }
      ]
    },
    {
      "cell_type": "markdown",
      "source": [
        "However, as you might have noticed in the map, we have a bit of noise going on!\n",
        "\n",
        "We can fix this by filtering the features only to those of a sufficiently large area. It would be nice to just have the ice cap, so let's set a fairly large theshold area of 0.5 km<sup>2</sup>."
      ],
      "metadata": {
        "id": "wY2PT9IotWpe"
      },
      "id": "wY2PT9IotWpe"
    },
    {
      "cell_type": "code",
      "source": [
        "# Set filter threshold value, in km2\n",
        "filter_threshold_km2 = 0.5\n",
        "\n",
        "# Filter polygons smaller than this chosen threshold\n",
        "vectors_filtered = vectors.filter(ee.Filter.gt('area_km2', filter_threshold_km2))\n",
        "\n",
        "vectors_filtered"
      ],
      "metadata": {
        "colab": {
          "base_uri": "https://localhost:8080/",
          "height": 68
        },
        "id": "OnCMcQPog_Cq",
        "outputId": "8cc2ac00-0915-495a-e870-02945840b1f7"
      },
      "id": "OnCMcQPog_Cq",
      "execution_count": 130,
      "outputs": [
        {
          "output_type": "display_data",
          "data": {
            "text/plain": [
              "<IPython.core.display.HTML object>"
            ],
            "text/html": [
              "\n",
              "            <style>\n",
              "                .geemap-dark {\n",
              "                    --jp-widgets-color: white;\n",
              "                    --jp-widgets-label-color: white;\n",
              "                    --jp-ui-font-color1: white;\n",
              "                    --jp-layout-color2: #454545;\n",
              "                    background-color: #383838;\n",
              "                }\n",
              "                    \n",
              "                .geemap-dark .jupyter-button {\n",
              "                    --jp-layout-color3: #383838;\n",
              "                }\n",
              "                \n",
              "                .geemap-colab {\n",
              "                    background-color: var(--colab-primary-surface-color, white);\n",
              "                }\n",
              "                    \n",
              "                .geemap-colab .jupyter-button {\n",
              "                    --jp-layout-color3: var(--colab-primary-surface-color, white);\n",
              "                }\n",
              "            </style>\n",
              "            "
            ]
          },
          "metadata": {}
        },
        {
          "output_type": "execute_result",
          "data": {
            "text/plain": [
              "<ee.featurecollection.FeatureCollection at 0x7d5ff3fe72e0>"
            ],
            "text/html": [
              "<div><style>:root {\n",
              "  --font-color-primary: var(--jp-content-font-color0, rgba(0, 0, 0, 1));\n",
              "  --font-color-secondary: var(--jp-content-font-color2, rgba(0, 0, 0, 0.6));\n",
              "  --font-color-accent: rgba(123, 31, 162, 1);\n",
              "  --border-color: var(--jp-border-color2, #e0e0e0);\n",
              "  --background-color: var(--jp-layout-color0, white);\n",
              "  --background-color-row-even: var(--jp-layout-color1, white);\n",
              "  --background-color-row-odd: var(--jp-layout-color2, #eeeeee);\n",
              "}\n",
              "\n",
              "html[theme=\"dark\"],\n",
              "body[data-theme=\"dark\"],\n",
              "body.vscode-dark {\n",
              "  --font-color-primary: rgba(255, 255, 255, 1);\n",
              "  --font-color-secondary: rgba(255, 255, 255, 0.6);\n",
              "  --font-color-accent: rgb(173, 132, 190);\n",
              "  --border-color: #2e2e2e;\n",
              "  --background-color: #111111;\n",
              "  --background-color-row-even: #111111;\n",
              "  --background-color-row-odd: #313131;\n",
              "}\n",
              "\n",
              ".ee {\n",
              "  padding: 1em;\n",
              "  line-height: 1.5em;\n",
              "  min-width: 300px;\n",
              "  max-width: 1200px;\n",
              "  overflow-y: scroll;\n",
              "  max-height: 600px;\n",
              "  border: 1px solid var(--border-color);\n",
              "  font-family: monospace;\n",
              "}\n",
              "\n",
              ".ee li {\n",
              "  list-style-type: none;\n",
              "}\n",
              "\n",
              ".ee ul {\n",
              "  padding-left: 1.5em !important;\n",
              "  margin: 0;\n",
              "}\n",
              "\n",
              ".ee > ul {\n",
              "  padding-left: 0 !important;\n",
              "}\n",
              "\n",
              ".ee-open,\n",
              ".ee-shut {\n",
              "  color: var(--font-color-secondary);\n",
              "  cursor: pointer;\n",
              "  margin: 0;\n",
              "}\n",
              "\n",
              ".ee-open:hover,\n",
              ".ee-shut:hover {\n",
              "  color: var(--font-color-primary);\n",
              "}\n",
              "\n",
              ".ee-k {\n",
              "  color: var(--font-color-accent);\n",
              "  margin-right: 6px;\n",
              "}\n",
              "\n",
              ".ee-v {\n",
              "  color: var(--font-color-primary);\n",
              "}\n",
              "\n",
              ".ee-toggle {\n",
              "  display: none;\n",
              "}\n",
              "\n",
              ".ee-shut + ul {\n",
              "  display: none;\n",
              "}\n",
              "\n",
              ".ee-open + ul {\n",
              "  display: block;\n",
              "}\n",
              "\n",
              ".ee-shut::before {\n",
              "  display: inline-block;\n",
              "  content: \"▼\";\n",
              "  margin-right: 6px;\n",
              "  transform: rotate(-90deg);\n",
              "  transition: transform 0.2s;\n",
              "}\n",
              "\n",
              ".ee-open::before {\n",
              "  transform: rotate(0deg);\n",
              "  display: inline-block;\n",
              "  content: \"▼\";\n",
              "  margin-right: 6px;\n",
              "  transition: transform 0.2s;\n",
              "}\n",
              "</style><div class='ee'><ul><li><label class='ee-shut'>FeatureCollection (1 element, 4 columns)<input type='checkbox' class='ee-toggle'></label><ul><li><span class='ee-k'>type:</span><span class='ee-v'>FeatureCollection</span></li><li><label class='ee-shut'>columns: Object (4 properties)<input type='checkbox' class='ee-toggle'></label><ul><li><span class='ee-k'>area_km2:</span><span class='ee-v'>Float</span></li><li><span class='ee-k'>label:</span><span class='ee-v'>Object</span></li><li><span class='ee-k'>sum:</span><span class='ee-v'>Object</span></li><li><span class='ee-k'>system:index:</span><span class='ee-v'>String</span></li></ul></li><li><label class='ee-shut'>features: List (1 element)<input type='checkbox' class='ee-toggle'></label><ul><li><label class='ee-shut'>0: Feature (Polygon, 1 property)<input type='checkbox' class='ee-toggle'></label><ul><li><span class='ee-k'>type:</span><span class='ee-v'>Feature</span></li><li><span class='ee-k'>id:</span><span class='ee-v'>+3541+2072</span></li><li><label class='ee-shut'>geometry: Polygon (1937 vertices)<input type='checkbox' class='ee-toggle'></label><ul><li><span class='ee-k'>type:</span><span class='ee-v'>Polygon</span></li><li><label class='ee-shut'>coordinates: List (26 elements)<input type='checkbox' class='ee-toggle'></label><ul><li><label class='ee-shut'>0: List (1937 elements)<input type='checkbox' class='ee-toggle'></label><ul><li><label class='ee-shut'>0: [-70.8510673861668, -13.970059433859436]<input type='checkbox' class='ee-toggle'></label><ul><li><span class='ee-k'>0:</span><span class='ee-v'>-70.8510673861668</span></li><li><span class='ee-k'>1:</span><span class='ee-v'>-13.970059433859436</span></li></ul></li><li><label class='ee-shut'>1: [-70.85134500590598, -13.970057318380842]<input type='checkbox' class='ee-toggle'></label><ul><li><span class='ee-k'>0:</span><span class='ee-v'>-70.85134500590598</span></li><li><span class='ee-k'>1:</span><span class='ee-v'>-13.970057318380842</span></li></ul></li><li><label class='ee-shut'>2: [-70.85134717230109, -13.97032843651824]<input type='checkbox' class='ee-toggle'></label><ul><li><span class='ee-k'>0:</span><span class='ee-v'>-70.85134717230109</span></li><li><span class='ee-k'>1:</span><span class='ee-v'>-13.97032843651824</span></li></ul></li><li><label class='ee-shut'>3: [-70.85162479231874, -13.970326320680318]<input type='checkbox' class='ee-toggle'></label><ul><li><span class='ee-k'>0:</span><span class='ee-v'>-70.85162479231874</span></li><li><span class='ee-k'>1:</span><span class='ee-v'>-13.970326320680318</span></li></ul></li><li><label class='ee-shut'>4: [-70.8516291258905, -13.970868556847318]<input type='checkbox' class='ee-toggle'></label><ul><li><span class='ee-k'>0:</span><span class='ee-v'>-70.8516291258905</span></li><li><span class='ee-k'>1:</span><span class='ee-v'>-13.970868556847318</span></li></ul></li><li><label class='ee-shut'>5: [-70.85135150522605, -13.97087067277507]<input type='checkbox' class='ee-toggle'></label><ul><li><span class='ee-k'>0:</span><span class='ee-v'>-70.85135150522605</span></li><li><span class='ee-k'>1:</span><span class='ee-v'>-13.97087067277507</span></li></ul></li><li><label class='ee-shut'>6: [-70.85135367176488, -13.971141790894501]<input type='checkbox' class='ee-toggle'></label><ul><li><span class='ee-k'>0:</span><span class='ee-v'>-70.85135367176488</span></li><li><span class='ee-k'>1:</span><span class='ee-v'>-13.971141790894501</span></li></ul></li><li><label class='ee-shut'>7: [-70.85079842964548, -13.971146021869659]<input type='checkbox' class='ee-toggle'></label><ul><li><span class='ee-k'>0:</span><span class='ee-v'>-70.85079842964548</span></li><li><span class='ee-k'>1:</span><span class='ee-v'>-13.971146021869659</span></li></ul></li><li><label class='ee-shut'>8: [-70.85080059557346, -13.971417140069939]<input type='checkbox' class='ee-toggle'></label><ul><li><span class='ee-k'>0:</span><span class='ee-v'>-70.85080059557346</span></li><li><span class='ee-k'>1:</span><span class='ee-v'>-13.971417140069939</span></li></ul></li><li><label class='ee-shut'>9: [-70.8502453526276, -13.971421369868303]<input type='checkbox' class='ee-toggle'></label><ul><li><span class='ee-k'>0:</span><span class='ee-v'>-70.8502453526276</span></li><li><span class='ee-k'>1:</span><span class='ee-v'>-13.971421369868303</span></li></ul></li><li><label class='ee-shut'>10: [-70.8502475179537, -13.971692488149431]<input type='checkbox' class='ee-toggle'></label><ul><li><span class='ee-k'>0:</span><span class='ee-v'>-70.8502475179537</span></li><li><span class='ee-k'>1:</span><span class='ee-v'>-13.971692488149431</span></li></ul></li><li><label class='ee-shut'>11: [-70.85052513977698, -13.97169037336254]<input type='checkbox' class='ee-toggle'></label><ul><li><span class='ee-k'>0:</span><span class='ee-v'>-70.85052513977698</span></li><li><span class='ee-k'>1:</span><span class='ee-v'>-13.97169037336254</span></li></ul></li><li><label class='ee-shut'>12: [-70.85052947121972, -13.972232609808016]<input type='checkbox' class='ee-toggle'></label><ul><li><span class='ee-k'>0:</span><span class='ee-v'>-70.85052947121972</span></li><li><span class='ee-k'>1:</span><span class='ee-v'>-13.972232609808016</span></li></ul></li><li><label class='ee-shut'>13: [-70.85025184874965, -13.972234724675756]<input type='checkbox' class='ee-toggle'></label><ul><li><span class='ee-k'>0:</span><span class='ee-v'>-70.85025184874965</span></li><li><span class='ee-k'>1:</span><span class='ee-v'>-13.972234724675756</span></li></ul></li><li><label class='ee-shut'>14: [-70.8502540142105, -13.972505842938919]<input type='checkbox' class='ee-toggle'></label><ul><li><span class='ee-k'>0:</span><span class='ee-v'>-70.8502540142105</span></li><li><span class='ee-k'>1:</span><span class='ee-v'>-13.972505842938919</span></li></ul></li><li><label class='ee-shut'>15: [-70.84997639137214, -13.972507957528181]<input type='checkbox' class='ee-toggle'></label><ul><li><span class='ee-k'>0:</span><span class='ee-v'>-70.84997639137214</span></li><li><span class='ee-k'>1:</span><span class='ee-v'>-13.972507957528181</span></li></ul></li><li><label class='ee-shut'>16: [-70.8499742262257, -13.972236839229087]<input type='checkbox' class='ee-toggle'></label><ul><li><span class='ee-k'>0:</span><span class='ee-v'>-70.8499742262257</span></li><li><span class='ee-k'>1:</span><span class='ee-v'>-13.972236839229087</span></li></ul></li><li><label class='ee-shut'>17: [-70.8496966036658, -13.972238953468008]<input type='checkbox' class='ee-toggle'></label><ul><li><span class='ee-k'>0:</span><span class='ee-v'>-70.8496966036658</span></li><li><span class='ee-k'>1:</span><span class='ee-v'>-13.972238953468008</span></li></ul></li><li><label class='ee-shut'>18: [-70.84969010949308, -13.971425598400042]<input type='checkbox' class='ee-toggle'></label><ul><li><span class='ee-k'>0:</span><span class='ee-v'>-70.84969010949308</span></li><li><span class='ee-k'>1:</span><span class='ee-v'>-13.971425598400042</span></li></ul></li><li><label class='ee-shut'>19: [-70.84941248784948, -13.971427712189804]<input type='checkbox' class='ee-toggle'></label><ul><li><span class='ee-k'>0:</span><span class='ee-v'>-70.84941248784948</span></li><li><span class='ee-k'>1:</span><span class='ee-v'>-13.971427712189804</span></li></ul></li><li><label class='ee-shut'>20: [-70.84940815928134, -13.970885475367036]<input type='checkbox' class='ee-toggle'></label><ul><li><span class='ee-k'>0:</span><span class='ee-v'>-70.84940815928134</span></li><li><span class='ee-k'>1:</span><span class='ee-v'>-13.970885475367036</span></li></ul></li><li><label class='ee-shut'>21: [-70.84968578026918, -13.970883361658121]<input type='checkbox' class='ee-toggle'></label><ul><li><span class='ee-k'>0:</span><span class='ee-v'>-70.84968578026918</span></li><li><span class='ee-k'>1:</span><span class='ee-v'>-13.970883361658121</span></li></ul></li><li><label class='ee-shut'>22: [-70.8496836157336, -13.970612243278177]<input type='checkbox' class='ee-toggle'></label><ul><li><span class='ee-k'>0:</span><span class='ee-v'>-70.8496836157336</span></li><li><span class='ee-k'>1:</span><span class='ee-v'>-13.970612243278177</span></li></ul></li><li><label class='ee-shut'>23: [-70.84940599506915, -13.970614356942177]<input type='checkbox' class='ee-toggle'></label><ul><li><span class='ee-k'>0:</span><span class='ee-v'>-70.84940599506915</span></li><li><span class='ee-k'>1:</span><span class='ee-v'>-13.970614356942177</span></li></ul></li><li><label class='ee-shut'>24: [-70.84939950270204, -13.969801001631666]<input type='checkbox' class='ee-toggle'></label><ul><li><span class='ee-k'>0:</span><span class='ee-v'>-70.84939950270204</span></li><li><span class='ee-k'>1:</span><span class='ee-v'>-13.969801001631666</span></li></ul></li><li><label class='ee-shut'>25: [-70.84912188296286, -13.969803114846506]<input type='checkbox' class='ee-toggle'></label><ul><li><span class='ee-k'>0:</span><span class='ee-v'>-70.84912188296286</span></li><li><span class='ee-k'>1:</span><span class='ee-v'>-13.969803114846506</span></li></ul></li><li><label class='ee-shut'>26: [-70.84912404671691, -13.970074233334248]<input type='checkbox' class='ee-toggle'></label><ul><li><span class='ee-k'>0:</span><span class='ee-v'>-70.84912404671691</span></li><li><span class='ee-k'>1:</span><span class='ee-v'>-13.970074233334248</span></li></ul></li><li><label class='ee-shut'>27: [-70.84884642660943, -13.970076346279594]<input type='checkbox' class='ee-toggle'></label><ul><li><span class='ee-k'>0:</span><span class='ee-v'>-70.84884642660943</span></li><li><span class='ee-k'>1:</span><span class='ee-v'>-13.970076346279594</span></li></ul></li><li><label class='ee-shut'>28: [-70.848848590085, -13.970347464803268]<input type='checkbox' class='ee-toggle'></label><ul><li><span class='ee-k'>0:</span><span class='ee-v'>-70.848848590085</span></li><li><span class='ee-k'>1:</span><span class='ee-v'>-13.970347464803268</span></li></ul></li><li><label class='ee-shut'>29: [-70.8482933490795, -13.970351689822595]<input type='checkbox' class='ee-toggle'></label><ul><li><span class='ee-k'>0:</span><span class='ee-v'>-70.8482933490795</span></li><li><span class='ee-k'>1:</span><span class='ee-v'>-13.970351689822595</span></li></ul></li><li><label class='ee-shut'>30: [-70.84829551195321, -13.970622808418133]<input type='checkbox' class='ee-toggle'></label><ul><li><span class='ee-k'>0:</span><span class='ee-v'>-70.84829551195321</span></li><li><span class='ee-k'>1:</span><span class='ee-v'>-13.970622808418133</span></li></ul></li><li><label class='ee-shut'>31: [-70.84774027011228, -13.970627032260667]<input type='checkbox' class='ee-toggle'></label><ul><li><span class='ee-k'>0:</span><span class='ee-v'>-70.84774027011228</span></li><li><span class='ee-k'>1:</span><span class='ee-v'>-13.970627032260667</span></li></ul></li><li><label class='ee-shut'>32: [-70.84774243238411, -13.970898150937055]<input type='checkbox' class='ee-toggle'></label><ul><li><span class='ee-k'>0:</span><span class='ee-v'>-70.84774243238411</span></li><li><span class='ee-k'>1:</span><span class='ee-v'>-13.970898150937055</span></li></ul></li><li><label class='ee-shut'>33: [-70.84746481107288, -13.97090026242713]<input type='checkbox' class='ee-toggle'></label><ul><li><span class='ee-k'>0:</span><span class='ee-v'>-70.84746481107288</span></li><li><span class='ee-k'>1:</span><span class='ee-v'>-13.97090026242713</span></li></ul></li><li><label class='ee-shut'>34: [-70.84746697306625, -13.971171381139449]<input type='checkbox' class='ee-toggle'></label><ul><li><span class='ee-k'>0:</span><span class='ee-v'>-70.84746697306625</span></li><li><span class='ee-k'>1:</span><span class='ee-v'>-13.971171381139449</span></li></ul></li><li><label class='ee-shut'>35: [-70.84718935137771, -13.971173492351047]<input type='checkbox' class='ee-toggle'></label><ul><li><span class='ee-k'>0:</span><span class='ee-v'>-70.84718935137771</span></li><li><span class='ee-k'>1:</span><span class='ee-v'>-13.971173492351047</span></li></ul></li><li><label class='ee-shut'>36: [-70.8471915130926, -13.971444611108282]<input type='checkbox' class='ee-toggle'></label><ul><li><span class='ee-k'>0:</span><span class='ee-v'>-70.8471915130926</span></li><li><span class='ee-k'>1:</span><span class='ee-v'>-13.971444611108282</span></li></ul></li><li><label class='ee-shut'>37: [-70.84691389104475, -13.971446722041403]<input type='checkbox' class='ee-toggle'></label><ul><li><span class='ee-k'>0:</span><span class='ee-v'>-70.84691389104475</span></li><li><span class='ee-k'>1:</span><span class='ee-v'>-13.971446722041403</span></li></ul></li><li><label class='ee-shut'>38: [-70.84691172965326, -13.971175603248234]<input type='checkbox' class='ee-toggle'></label><ul><li><span class='ee-k'>0:</span><span class='ee-v'>-70.84691172965326</span></li><li><span class='ee-k'>1:</span><span class='ee-v'>-13.971175603248234</span></li></ul></li><li><label class='ee-shut'>39: [-70.84663410787489, -13.971177713831011]<input type='checkbox' class='ee-toggle'></label><ul><li><span class='ee-k'>0:</span><span class='ee-v'>-70.84663410787489</span></li><li><span class='ee-k'>1:</span><span class='ee-v'>-13.971177713831011</span></li></ul></li><li><label class='ee-shut'>40: [-70.8466319468607, -13.970906594983944]<input type='checkbox' class='ee-toggle'></label><ul><li><span class='ee-k'>0:</span><span class='ee-v'>-70.8466319468607</span></li><li><span class='ee-k'>1:</span><span class='ee-v'>-13.970906594983944</span></li></ul></li><li><label class='ee-shut'>41: [-70.84635432536082, -13.970908705207394]<input type='checkbox' class='ee-toggle'></label><ul><li><span class='ee-k'>0:</span><span class='ee-v'>-70.84635432536082</span></li><li><span class='ee-k'>1:</span><span class='ee-v'>-13.970908705207394</span></li></ul></li><li><label class='ee-shut'>42: [-70.84635216471493, -13.970637586315412]<input type='checkbox' class='ee-toggle'></label><ul><li><span class='ee-k'>0:</span><span class='ee-v'>-70.84635216471493</span></li><li><span class='ee-k'>1:</span><span class='ee-v'>-13.970637586315412</span></li></ul></li><li><label class='ee-shut'>43: [-70.84607454350251, -13.970639696179536]<input type='checkbox' class='ee-toggle'></label><ul><li><span class='ee-k'>0:</span><span class='ee-v'>-70.84607454350251</span></li><li><span class='ee-k'>1:</span><span class='ee-v'>-13.970639696179536</span></li></ul></li><li><label class='ee-shut'>44: [-70.84607238322494, -13.970368577233653]<input type='checkbox' class='ee-toggle'></label><ul><li><span class='ee-k'>0:</span><span class='ee-v'>-70.84607238322494</span></li><li><span class='ee-k'>1:</span><span class='ee-v'>-13.970368577233653</span></li></ul></li><li><label class='ee-shut'>45: [-70.84579476228201, -13.970370686738452]<input type='checkbox' class='ee-toggle'></label><ul><li><span class='ee-k'>0:</span><span class='ee-v'>-70.84579476228201</span></li><li><span class='ee-k'>1:</span><span class='ee-v'>-13.970370686738452</span></li></ul></li><li><label class='ee-shut'>46: [-70.84579044251737, -13.969828448747874]<input type='checkbox' class='ee-toggle'></label><ul><li><span class='ee-k'>0:</span><span class='ee-v'>-70.84579044251737</span></li><li><span class='ee-k'>1:</span><span class='ee-v'>-13.969828448747874</span></li></ul></li><li><label class='ee-shut'>47: [-70.8455128221853, -13.96983055784843]<input type='checkbox' class='ee-toggle'></label><ul><li><span class='ee-k'>0:</span><span class='ee-v'>-70.8455128221853</span></li><li><span class='ee-k'>1:</span><span class='ee-v'>-13.96983055784843</span></li></ul></li><li><label class='ee-shut'>48: [-70.84551066268925, -13.969559438803733]<input type='checkbox' class='ee-toggle'></label><ul><li><span class='ee-k'>0:</span><span class='ee-v'>-70.84551066268925</span></li><li><span class='ee-k'>1:</span><span class='ee-v'>-13.969559438803733</span></li></ul></li><li><label class='ee-shut'>49: [-70.84523304263566, -13.969561547544965]<input type='checkbox' class='ee-toggle'></label><ul><li><span class='ee-k'>0:</span><span class='ee-v'>-70.84523304263566</span></li><li><span class='ee-k'>1:</span><span class='ee-v'>-13.969561547544965</span></li></ul></li><li><label class='ee-shut'>50: [-70.8452308835169, -13.969290428446369]<input type='checkbox' class='ee-toggle'></label><ul><li><span class='ee-k'>0:</span><span class='ee-v'>-70.8452308835169</span></li><li><span class='ee-k'>1:</span><span class='ee-v'>-13.969290428446369</span></li></ul></li><li><label class='ee-shut'>51: [-70.8449532637328, -13.969292536828274]<input type='checkbox' class='ee-toggle'></label><ul><li><span class='ee-k'>0:</span><span class='ee-v'>-70.8449532637328</span></li><li><span class='ee-k'>1:</span><span class='ee-v'>-13.969292536828274</span></li></ul></li><li><label class='ee-shut'>52: [-70.84495110499135, -13.969021417684761]<input type='checkbox' class='ee-toggle'></label><ul><li><span class='ee-k'>0:</span><span class='ee-v'>-70.84495110499135</span></li><li><span class='ee-k'>1:</span><span class='ee-v'>-13.969021417684761</span></li></ul></li><li><label class='ee-shut'>53: [-70.84467348548573, -13.96902352570734]<input type='checkbox' class='ee-toggle'></label><ul><li><span class='ee-k'>0:</span><span class='ee-v'>-70.84467348548573</span></li><li><span class='ee-k'>1:</span><span class='ee-v'>-13.96902352570734</span></li></ul></li><li><label class='ee-shut'>54: [-70.84466053591159, -13.967396810459997]<input type='checkbox' class='ee-toggle'></label><ul><li><span class='ee-k'>0:</span><span class='ee-v'>-70.84466053591159</span></li><li><span class='ee-k'>1:</span><span class='ee-v'>-13.967396810459997</span></li></ul></li><li><label class='ee-shut'>55: [-70.84438291831039, -13.967398917907653]<input type='checkbox' class='ee-toggle'></label><ul><li><span class='ee-k'>0:</span><span class='ee-v'>-70.84438291831039</span></li><li><span class='ee-k'>1:</span><span class='ee-v'>-13.967398917907653</span></li></ul></li><li><label class='ee-shut'>56: [-70.84437644512232, -13.966585560072877]<input type='checkbox' class='ee-toggle'></label><ul><li><span class='ee-k'>0:</span><span class='ee-v'>-70.84437644512232</span></li><li><span class='ee-k'>1:</span><span class='ee-v'>-13.966585560072877</span></li></ul></li><li><label class='ee-shut'>57: [-70.84409882844639, -13.966587667080358]<input type='checkbox' class='ee-toggle'></label><ul><li><span class='ee-k'>0:</span><span class='ee-v'>-70.84409882844639</span></li><li><span class='ee-k'>1:</span><span class='ee-v'>-13.966587667080358</span></li></ul></li><li><label class='ee-shut'>58: [-70.84409667113326, -13.966316547748201]<input type='checkbox' class='ee-toggle'></label><ul><li><span class='ee-k'>0:</span><span class='ee-v'>-70.84409667113326</span></li><li><span class='ee-k'>1:</span><span class='ee-v'>-13.966316547748201</span></li></ul></li><li><label class='ee-shut'>59: [-70.84354143829344, -13.96632076072112]<input type='checkbox' class='ee-toggle'></label><ul><li><span class='ee-k'>0:</span><span class='ee-v'>-70.84354143829344</span></li><li><span class='ee-k'>1:</span><span class='ee-v'>-13.96632076072112</span></li></ul></li><li><label class='ee-shut'>60: [-70.8435435949508, -13.966591880134125]<input type='checkbox' class='ee-toggle'></label><ul><li><span class='ee-k'>0:</span><span class='ee-v'>-70.8435435949508</span></li><li><span class='ee-k'>1:</span><span class='ee-v'>-13.966591880134125</span></li></ul></li><li><label class='ee-shut'>61: [-70.84298836128454, -13.966596091930251]<input type='checkbox' class='ee-toggle'></label><ul><li><span class='ee-k'>0:</span><span class='ee-v'>-70.84298836128454</span></li><li><span class='ee-k'>1:</span><span class='ee-v'>-13.966596091930251</span></li></ul></li><li><label class='ee-shut'>62: [-70.84298620526498, -13.966324972427413]<input type='checkbox' class='ee-toggle'></label><ul><li><span class='ee-k'>0:</span><span class='ee-v'>-70.84298620526498</span></li><li><span class='ee-k'>1:</span><span class='ee-v'>-13.966324972427413</span></li></ul></li><li><label class='ee-shut'>63: [-70.84270858868786, -13.966327077799962]<input type='checkbox' class='ee-toggle'></label><ul><li><span class='ee-k'>0:</span><span class='ee-v'>-70.84270858868786</span></li><li><span class='ee-k'>1:</span><span class='ee-v'>-13.966327077799962</span></li></ul></li><li><label class='ee-shut'>64: [-70.84270427743925, -13.965784838695471]<input type='checkbox' class='ee-toggle'></label><ul><li><span class='ee-k'>0:</span><span class='ee-v'>-70.84270427743925</span></li><li><span class='ee-k'>1:</span><span class='ee-v'>-13.965784838695471</span></li></ul></li><li><label class='ee-shut'>65: [-70.84214904543487, -13.965789048326657]<input type='checkbox' class='ee-toggle'></label><ul><li><span class='ee-k'>0:</span><span class='ee-v'>-70.84214904543487</span></li><li><span class='ee-k'>1:</span><span class='ee-v'>-13.965789048326657</span></li></ul></li><li><label class='ee-shut'>66: [-70.84214689052921, -13.96551792868009]<input type='checkbox' class='ee-toggle'></label><ul><li><span class='ee-k'>0:</span><span class='ee-v'>-70.84214689052921</span></li><li><span class='ee-k'>1:</span><span class='ee-v'>-13.96551792868009</span></li></ul></li><li><label class='ee-shut'>67: [-70.84131404315146, -13.96552424062955]<input type='checkbox' class='ee-toggle'></label><ul><li><span class='ee-k'>0:</span><span class='ee-v'>-70.84131404315146</span></li><li><span class='ee-k'>1:</span><span class='ee-v'>-13.96552424062955</span></li></ul></li><li><label class='ee-shut'>68: [-70.84131619708694, -13.965795360410866]<input type='checkbox' class='ee-toggle'></label><ul><li><span class='ee-k'>0:</span><span class='ee-v'>-70.84131619708694</span></li><li><span class='ee-k'>1:</span><span class='ee-v'>-13.965795360410866</span></li></ul></li><li><label class='ee-shut'>69: [-70.84076096462441, -13.965799566879982]<input type='checkbox' class='ee-toggle'></label><ul><li><span class='ee-k'>0:</span><span class='ee-v'>-70.84076096462441</span></li><li><span class='ee-k'>1:</span><span class='ee-v'>-13.965799566879982</span></li></ul></li><li><label class='ee-shut'>70: [-70.84075881133572, -13.965528447017817]<input type='checkbox' class='ee-toggle'></label><ul><li><span class='ee-k'>0:</span><span class='ee-v'>-70.84075881133572</span></li><li><span class='ee-k'>1:</span><span class='ee-v'>-13.965528447017817</span></li></ul></li><li><label class='ee-shut'>71: [-70.84020357934033, -13.965532652130477]<input type='checkbox' class='ee-toggle'></label><ul><li><span class='ee-k'>0:</span><span class='ee-v'>-70.84020357934033</span></li><li><span class='ee-k'>1:</span><span class='ee-v'>-13.965532652130477</span></li></ul></li><li><label class='ee-shut'>72: [-70.84020573197324, -13.965803772082474]<input type='checkbox' class='ee-toggle'></label><ul><li><span class='ee-k'>0:</span><span class='ee-v'>-70.84020573197324</span></li><li><span class='ee-k'>1:</span><span class='ee-v'>-13.965803772082474</span></li></ul></li><li><label class='ee-shut'>73: [-70.83965049914241, -13.96580797601834]<input type='checkbox' class='ee-toggle'></label><ul><li><span class='ee-k'>0:</span><span class='ee-v'>-70.83965049914241</span></li><li><span class='ee-k'>1:</span><span class='ee-v'>-13.96580797601834</span></li></ul></li><li><label class='ee-shut'>74: [-70.83964834715628, -13.965536855985496]<input type='checkbox' class='ee-toggle'></label><ul><li><span class='ee-k'>0:</span><span class='ee-v'>-70.83964834715628</span></li><li><span class='ee-k'>1:</span><span class='ee-v'>-13.965536855985496</span></li></ul></li><li><label class='ee-shut'>75: [-70.83937073099239, -13.965538957432406]<input type='checkbox' class='ee-toggle'></label><ul><li><span class='ee-k'>0:</span><span class='ee-v'>-70.83937073099239</span></li><li><span class='ee-k'>1:</span><span class='ee-v'>-13.965538957432406</span></li></ul></li><li><label class='ee-shut'>76: [-70.83936857937458, -13.965267837354647]<input type='checkbox' class='ee-toggle'></label><ul><li><span class='ee-k'>0:</span><span class='ee-v'>-70.83936857937458</span></li><li><span class='ee-k'>1:</span><span class='ee-v'>-13.965267837354647</span></li></ul></li><li><label class='ee-shut'>77: [-70.83964619521507, -13.96526573594367]<input type='checkbox' class='ee-toggle'></label><ul><li><span class='ee-k'>0:</span><span class='ee-v'>-70.83964619521507</span></li><li><span class='ee-k'>1:</span><span class='ee-v'>-13.96526573594367</span></li></ul></li><li><label class='ee-shut'>78: [-70.8396418914674, -13.964723495851032]<input type='checkbox' class='ee-toggle'></label><ul><li><span class='ee-k'>0:</span><span class='ee-v'>-70.8396418914674</span></li><li><span class='ee-k'>1:</span><span class='ee-v'>-13.964723495851032</span></li></ul></li><li><label class='ee-shut'>79: [-70.83936427628267, -13.96472559717218]<input type='checkbox' class='ee-toggle'></label><ul><li><span class='ee-k'>0:</span><span class='ee-v'>-70.83936427628267</span></li><li><span class='ee-k'>1:</span><span class='ee-v'>-13.96472559717218</span></li></ul></li><li><label class='ee-shut'>80: [-70.83936212479959, -13.964454477076453]<input type='checkbox' class='ee-toggle'></label><ul><li><span class='ee-k'>0:</span><span class='ee-v'>-70.83936212479959</span></li><li><span class='ee-k'>1:</span><span class='ee-v'>-13.964454477076453</span></li></ul></li><li><label class='ee-shut'>81: [-70.83908450989334, -13.964456578038273]<input type='checkbox' class='ee-toggle'></label><ul><li><span class='ee-k'>0:</span><span class='ee-v'>-70.83908450989334</span></li><li><span class='ee-k'>1:</span><span class='ee-v'>-13.964456578038273</span></li></ul></li><li><label class='ee-shut'>82: [-70.83908666104404, -13.964727698178915]<input type='checkbox' class='ee-toggle'></label><ul><li><span class='ee-k'>0:</span><span class='ee-v'>-70.83908666104404</span></li><li><span class='ee-k'>1:</span><span class='ee-v'>-13.964727698178915</span></li></ul></li><li><label class='ee-shut'>83: [-70.83880904576948, -13.964729798871241]<input type='checkbox' class='ee-toggle'></label><ul><li><span class='ee-k'>0:</span><span class='ee-v'>-70.83880904576948</span></li><li><span class='ee-k'>1:</span><span class='ee-v'>-13.964729798871241</span></li></ul></li><li><label class='ee-shut'>84: [-70.8388111966417, -13.965000919047815]<input type='checkbox' class='ee-toggle'></label><ul><li><span class='ee-k'>0:</span><span class='ee-v'>-70.8388111966417</span></li><li><span class='ee-k'>1:</span><span class='ee-v'>-13.965000919047815</span></li></ul></li><li><label class='ee-shut'>85: [-70.83908881224863, -13.964998818319556]<input type='checkbox' class='ee-toggle'></label><ul><li><span class='ee-k'>0:</span><span class='ee-v'>-70.83908881224863</span></li><li><span class='ee-k'>1:</span><span class='ee-v'>-13.964998818319556</span></li></ul></li><li><label class='ee-shut'>86: [-70.83909096349815, -13.965269938442232]<input type='checkbox' class='ee-toggle'></label><ul><li><span class='ee-k'>0:</span><span class='ee-v'>-70.83909096349815</span></li><li><span class='ee-k'>1:</span><span class='ee-v'>-13.965269938442232</span></li></ul></li><li><label class='ee-shut'>87: [-70.83881334756782, -13.965272039224388]<input type='checkbox' class='ee-toggle'></label><ul><li><span class='ee-k'>0:</span><span class='ee-v'>-70.83881334756782</span></li><li><span class='ee-k'>1:</span><span class='ee-v'>-13.965272039224388</span></li></ul></li><li><label class='ee-shut'>88: [-70.83881549853885, -13.965543159382996]<input type='checkbox' class='ee-toggle'></label><ul><li><span class='ee-k'>0:</span><span class='ee-v'>-70.83881549853885</span></li><li><span class='ee-k'>1:</span><span class='ee-v'>-13.965543159382996</span></li></ul></li><li><label class='ee-shut'>89: [-70.83853788224022, -13.965545259886676]<input type='checkbox' class='ee-toggle'></label><ul><li><span class='ee-k'>0:</span><span class='ee-v'>-70.83853788224022</span></li><li><span class='ee-k'>1:</span><span class='ee-v'>-13.965545259886676</span></li></ul></li><li><label class='ee-shut'>90: [-70.83854003292379, -13.9658163800902]<input type='checkbox' class='ee-toggle'></label><ul><li><span class='ee-k'>0:</span><span class='ee-v'>-70.83854003292379</span></li><li><span class='ee-k'>1:</span><span class='ee-v'>-13.9658163800902</span></li></ul></li><li><label class='ee-shut'>91: [-70.83826241625684, -13.9658184803154]<input type='checkbox' class='ee-toggle'></label><ul><li><span class='ee-k'>0:</span><span class='ee-v'>-70.83826241625684</span></li><li><span class='ee-k'>1:</span><span class='ee-v'>-13.9658184803154</span></li></ul></li><li><label class='ee-shut'>92: [-70.83825811557242, -13.965276239818522]<input type='checkbox' class='ee-toggle'></label><ul><li><span class='ee-k'>0:</span><span class='ee-v'>-70.83825811557242</span></li><li><span class='ee-k'>1:</span><span class='ee-v'>-13.965276239818522</span></li></ul></li><li><label class='ee-shut'>93: [-70.83798049950735, -13.965278339639482]<input type='checkbox' class='ee-toggle'></label><ul><li><span class='ee-k'>0:</span><span class='ee-v'>-70.83798049950735</span></li><li><span class='ee-k'>1:</span><span class='ee-v'>-13.965278339639482</span></li></ul></li><li><label class='ee-shut'>94: [-70.83797404980123, -13.964464978723484]<input type='checkbox' class='ee-toggle'></label><ul><li><span class='ee-k'>0:</span><span class='ee-v'>-70.83797404980123</span></li><li><span class='ee-k'>1:</span><span class='ee-v'>-13.964464978723484</span></li></ul></li><li><label class='ee-shut'>95: [-70.83769643466142, -13.96446707810427]<input type='checkbox' class='ee-toggle'></label><ul><li><span class='ee-k'>0:</span><span class='ee-v'>-70.83769643466142</span></li><li><span class='ee-k'>1:</span><span class='ee-v'>-13.96446707810427</span></li></ul></li><li><label class='ee-shut'>96: [-70.83769213572872, -13.963924837382812]<input type='checkbox' class='ee-toggle'></label><ul><li><span class='ee-k'>0:</span><span class='ee-v'>-70.83769213572872</span></li><li><span class='ee-k'>1:</span><span class='ee-v'>-13.963924837382812</span></li></ul></li><li><label class='ee-shut'>97: [-70.83741452119078, -13.963926936359355]<input type='checkbox' class='ee-toggle'></label><ul><li><span class='ee-k'>0:</span><span class='ee-v'>-70.83741452119078</span></li><li><span class='ee-k'>1:</span><span class='ee-v'>-13.963926936359355</span></li></ul></li><li><label class='ee-shut'>98: [-70.83741667031128, -13.964198056769492]<input type='checkbox' class='ee-toggle'></label><ul><li><span class='ee-k'>0:</span><span class='ee-v'>-70.83741667031128</span></li><li><span class='ee-k'>1:</span><span class='ee-v'>-13.964198056769492</span></li></ul></li><li><label class='ee-shut'>99: [-70.83713905540503, -13.96420015547654]<input type='checkbox' class='ee-toggle'></label><ul><li><span class='ee-k'>0:</span><span class='ee-v'>-70.83713905540503</span></li><li><span class='ee-k'>1:</span><span class='ee-v'>-13.96420015547654</span></li></ul></li><li><label class='ee-shut'>100: [-70.83714120423808, -13.964471275913626]<input type='checkbox' class='ee-toggle'></label><ul><li><span class='ee-k'>0:</span><span class='ee-v'>-70.83714120423808</span></li><li><span class='ee-k'>1:</span><span class='ee-v'>-13.964471275913626</span></li></ul></li><li><label class='ee-shut'>101: [-70.83686358896352, -13.964473374351181]<input type='checkbox' class='ee-toggle'></label><ul><li><span class='ee-k'>0:</span><span class='ee-v'>-70.83686358896352</span></li><li><span class='ee-k'>1:</span><span class='ee-v'>-13.964473374351181</span></li></ul></li><li><label class='ee-shut'>102: [-70.83686573752708, -13.964744494833182]<input type='checkbox' class='ee-toggle'></label><ul><li><span class='ee-k'>0:</span><span class='ee-v'>-70.83686573752708</span></li><li><span class='ee-k'>1:</span><span class='ee-v'>-13.964744494833182</span></li></ul></li><li><label class='ee-shut'>103: [-70.83658812187522, -13.964746592983275]<input type='checkbox' class='ee-toggle'></label><ul><li><span class='ee-k'>0:</span><span class='ee-v'>-70.83658812187522</span></li><li><span class='ee-k'>1:</span><span class='ee-v'>-13.964746592983275</span></li></ul></li><li><label class='ee-shut'>104: [-70.83658382544881, -13.96420435192944]<input type='checkbox' class='ee-toggle'></label><ul><li><span class='ee-k'>0:</span><span class='ee-v'>-70.83658382544881</span></li><li><span class='ee-k'>1:</span><span class='ee-v'>-13.96420435192944</span></li></ul></li><li><label class='ee-shut'>105: [-70.8360285953219, -13.9642085471247]<input type='checkbox' class='ee-toggle'></label><ul><li><span class='ee-k'>0:</span><span class='ee-v'>-70.8360285953219</span></li><li><span class='ee-k'>1:</span><span class='ee-v'>-13.9642085471247</span></li></ul></li><li><label class='ee-shut'>106: [-70.83603074286138, -13.964479667741449]<input type='checkbox' class='ee-toggle'></label><ul><li><span class='ee-k'>0:</span><span class='ee-v'>-70.83603074286138</span></li><li><span class='ee-k'>1:</span><span class='ee-v'>-13.964479667741449</span></li></ul></li><li><label class='ee-shut'>107: [-70.83575312739818, -13.964481764903395]<input type='checkbox' class='ee-toggle'></label><ul><li><span class='ee-k'>0:</span><span class='ee-v'>-70.83575312739818</span></li><li><span class='ee-k'>1:</span><span class='ee-v'>-13.964481764903395</span></li></ul></li><li><label class='ee-shut'>108: [-70.83575527465916, -13.964752885556075]<input type='checkbox' class='ee-toggle'></label><ul><li><span class='ee-k'>0:</span><span class='ee-v'>-70.83575527465916</span></li><li><span class='ee-k'>1:</span><span class='ee-v'>-13.964752885556075</span></li></ul></li><li><label class='ee-shut'>109: [-70.83492242702988, -13.964759175272235]<input type='checkbox' class='ee-toggle'></label><ul><li><span class='ee-k'>0:</span><span class='ee-v'>-70.83492242702988</span></li><li><span class='ee-k'>1:</span><span class='ee-v'>-13.964759175272235</span></li></ul></li><li><label class='ee-shut'>110: [-70.83492028073907, -13.96448805449379]<input type='checkbox' class='ee-toggle'></label><ul><li><span class='ee-k'>0:</span><span class='ee-v'>-70.83492028073907</span></li><li><span class='ee-k'>1:</span><span class='ee-v'>-13.96448805449379</span></li></ul></li><li><label class='ee-shut'>111: [-70.83436504940843, -13.964492245970023]<input type='checkbox' class='ee-toggle'></label><ul><li><span class='ee-k'>0:</span><span class='ee-v'>-70.83436504940843</span></li><li><span class='ee-k'>1:</span><span class='ee-v'>-13.964492245970023</span></li></ul></li><li><label class='ee-shut'>112: [-70.83436719505245, -13.964763366829317]<input type='checkbox' class='ee-toggle'></label><ul><li><span class='ee-k'>0:</span><span class='ee-v'>-70.83436719505245</span></li><li><span class='ee-k'>1:</span><span class='ee-v'>-13.964763366829317</span></li></ul></li><li><label class='ee-shut'>113: [-70.83408957898737, -13.964765462140734]<input type='checkbox' class='ee-toggle'></label><ul><li><span class='ee-k'>0:</span><span class='ee-v'>-70.83408957898737</span></li><li><span class='ee-k'>1:</span><span class='ee-v'>-13.964765462140734</span></li></ul></li><li><label class='ee-shut'>114: [-70.83409172435292, -13.96503658303596]<input type='checkbox' class='ee-toggle'></label><ul><li><span class='ee-k'>0:</span><span class='ee-v'>-70.83409172435292</span></li><li><span class='ee-k'>1:</span><span class='ee-v'>-13.96503658303596</span></li></ul></li><li><label class='ee-shut'>115: [-70.83381410791954, -13.965038678068899]<input type='checkbox' class='ee-toggle'></label><ul><li><span class='ee-k'>0:</span><span class='ee-v'>-70.83381410791954</span></li><li><span class='ee-k'>1:</span><span class='ee-v'>-13.965038678068899</span></li></ul></li><li><label class='ee-shut'>116: [-70.83381196288637, -13.964767557128758]<input type='checkbox' class='ee-toggle'></label><ul><li><span class='ee-k'>0:</span><span class='ee-v'>-70.83381196288637</span></li><li><span class='ee-k'>1:</span><span class='ee-v'>-13.964767557128758</span></li></ul></li><li><label class='ee-shut'>117: [-70.83325673053164, -13.964771746152591]<input type='checkbox' class='ee-toggle'></label><ul><li><span class='ee-k'>0:</span><span class='ee-v'>-70.83325673053164</span></li><li><span class='ee-k'>1:</span><span class='ee-v'>-13.964771746152591</span></li></ul></li><li><label class='ee-shut'>118: [-70.83325244189363, -13.96422950408366]<input type='checkbox' class='ee-toggle'></label><ul><li><span class='ee-k'>0:</span><span class='ee-v'>-70.83325244189363</span></li><li><span class='ee-k'>1:</span><span class='ee-v'>-13.96422950408366</span></li></ul></li><li><label class='ee-shut'>119: [-70.83297482629568, -13.964231598038621]<input type='checkbox' class='ee-toggle'></label><ul><li><span class='ee-k'>0:</span><span class='ee-v'>-70.83297482629568</span></li><li><span class='ee-k'>1:</span><span class='ee-v'>-13.964231598038621</span></li></ul></li><li><label class='ee-shut'>120: [-70.83297268236744, -13.963960476954748]<input type='checkbox' class='ee-toggle'></label><ul><li><span class='ee-k'>0:</span><span class='ee-v'>-70.83297268236744</span></li><li><span class='ee-k'>1:</span><span class='ee-v'>-13.963960476954748</span></li></ul></li><li><label class='ee-shut'>121: [-70.83269506705696, -13.963962570550384]<input type='checkbox' class='ee-toggle'></label><ul><li><span class='ee-k'>0:</span><span class='ee-v'>-70.83269506705696</span></li><li><span class='ee-k'>1:</span><span class='ee-v'>-13.963962570550384</span></li></ul></li><li><label class='ee-shut'>122: [-70.83269721065281, -13.964233691679171]<input type='checkbox' class='ee-toggle'></label><ul><li><span class='ee-k'>0:</span><span class='ee-v'>-70.83269721065281</span></li><li><span class='ee-k'>1:</span><span class='ee-v'>-13.964233691679171</span></li></ul></li><li><label class='ee-shut'>123: [-70.83214197924133, -13.964237877999075]<input type='checkbox' class='ee-toggle'></label><ul><li><span class='ee-k'>0:</span><span class='ee-v'>-70.83214197924133</span></li><li><span class='ee-k'>1:</span><span class='ee-v'>-13.964237877999075</span></li></ul></li><li><label class='ee-shut'>124: [-70.83213983628326, -13.96396675678944]<input type='checkbox' class='ee-toggle'></label><ul><li><span class='ee-k'>0:</span><span class='ee-v'>-70.83213983628326</span></li><li><span class='ee-k'>1:</span><span class='ee-v'>-13.96396675678944</span></li></ul></li><li><label class='ee-shut'>125: [-70.83186222082904, -13.96396884943286]<input type='checkbox' class='ee-toggle'></label><ul><li><span class='ee-k'>0:</span><span class='ee-v'>-70.83186222082904</span></li><li><span class='ee-k'>1:</span><span class='ee-v'>-13.96396884943286</span></li></ul></li><li><label class='ee-shut'>126: [-70.83185793570344, -13.963426606905788]<input type='checkbox' class='ee-toggle'></label><ul><li><span class='ee-k'>0:</span><span class='ee-v'>-70.83185793570344</span></li><li><span class='ee-k'>1:</span><span class='ee-v'>-13.963426606905788</span></li></ul></li><li><label class='ee-shut'>127: [-70.83213555051087, -13.963424514343217]<input type='checkbox' class='ee-toggle'></label><ul><li><span class='ee-k'>0:</span><span class='ee-v'>-70.83213555051087</span></li><li><span class='ee-k'>1:</span><span class='ee-v'>-13.963424514343217</span></li></ul></li><li><label class='ee-shut'>128: [-70.83212697951407, -13.962340029378906]<input type='checkbox' class='ee-toggle'></label><ul><li><span class='ee-k'>0:</span><span class='ee-v'>-70.83212697951407</span></li><li><span class='ee-k'>1:</span><span class='ee-v'>-13.962340029378906</span></li></ul></li><li><label class='ee-shut'>129: [-70.83184936600021, -13.962342121770797]<input type='checkbox' class='ee-toggle'></label><ul><li><span class='ee-k'>0:</span><span class='ee-v'>-70.83184936600021</span></li><li><span class='ee-k'>1:</span><span class='ee-v'>-13.962342121770797</span></li></ul></li><li><label class='ee-shut'>130: [-70.8318515083564, -13.962613243061284]<input type='checkbox' class='ee-toggle'></label><ul><li><span class='ee-k'>0:</span><span class='ee-v'>-70.8318515083564</span></li><li><span class='ee-k'>1:</span><span class='ee-v'>-13.962613243061284</span></li></ul></li><li><label class='ee-shut'>131: [-70.83157389448321, -13.962615335183681]<input type='checkbox' class='ee-toggle'></label><ul><li><span class='ee-k'>0:</span><span class='ee-v'>-70.83157389448321</span></li><li><span class='ee-k'>1:</span><span class='ee-v'>-13.962615335183681</span></li></ul></li><li><label class='ee-shut'>132: [-70.83157603656093, -13.962886456510098]<input type='checkbox' class='ee-toggle'></label><ul><li><span class='ee-k'>0:</span><span class='ee-v'>-70.83157603656093</span></li><li><span class='ee-k'>1:</span><span class='ee-v'>-13.962886456510098</span></li></ul></li><li><label class='ee-shut'>133: [-70.83129842231045, -13.96288854835402]<input type='checkbox' class='ee-toggle'></label><ul><li><span class='ee-k'>0:</span><span class='ee-v'>-70.83129842231045</span></li><li><span class='ee-k'>1:</span><span class='ee-v'>-13.96288854835402</span></li></ul></li><li><label class='ee-shut'>134: [-70.83130270595383, -13.96343079107872]<input type='checkbox' class='ee-toggle'></label><ul><li><span class='ee-k'>0:</span><span class='ee-v'>-70.83130270595383</span></li><li><span class='ee-k'>1:</span><span class='ee-v'>-13.96343079107872</span></li></ul></li><li><label class='ee-shut'>135: [-70.83046986099255, -13.96343706495758]<input type='checkbox' class='ee-toggle'></label><ul><li><span class='ee-k'>0:</span><span class='ee-v'>-70.83046986099255</span></li><li><span class='ee-k'>1:</span><span class='ee-v'>-13.96343706495758</span></li></ul></li><li><label class='ee-shut'>136: [-70.83047200191143, -13.96370818643671]<input type='checkbox' class='ee-toggle'></label><ul><li><span class='ee-k'>0:</span><span class='ee-v'>-70.83047200191143</span></li><li><span class='ee-k'>1:</span><span class='ee-v'>-13.96370818643671</span></li></ul></li><li><label class='ee-shut'>137: [-70.83019438650213, -13.96371027713977]<input type='checkbox' class='ee-toggle'></label><ul><li><span class='ee-k'>0:</span><span class='ee-v'>-70.83019438650213</span></li><li><span class='ee-k'>1:</span><span class='ee-v'>-13.96371027713977</span></li></ul></li><li><label class='ee-shut'>138: [-70.83018796485939, -13.962896912558646]<input type='checkbox' class='ee-toggle'></label><ul><li><span class='ee-k'>0:</span><span class='ee-v'>-70.83018796485939</span></li><li><span class='ee-k'>1:</span><span class='ee-v'>-13.962896912558646</span></li></ul></li><li><label class='ee-shut'>139: [-70.82991035038432, -13.962899002821532]<input type='checkbox' class='ee-toggle'></label><ul><li><span class='ee-k'>0:</span><span class='ee-v'>-70.82991035038432</span></li><li><span class='ee-k'>1:</span><span class='ee-v'>-13.962899002821532</span></li></ul></li><li><label class='ee-shut'>140: [-70.82990179012239, -13.961814516446866]<input type='checkbox' class='ee-toggle'></label><ul><li><span class='ee-k'>0:</span><span class='ee-v'>-70.82990179012239</span></li><li><span class='ee-k'>1:</span><span class='ee-v'>-13.961814516446866</span></li></ul></li><li><label class='ee-shut'>141: [-70.83017940330387, -13.961812426363643]<input type='checkbox' class='ee-toggle'></label><ul><li><span class='ee-k'>0:</span><span class='ee-v'>-70.83017940330387</span></li><li><span class='ee-k'>1:</span><span class='ee-v'>-13.961812426363643</span></li></ul></li><li><label class='ee-shut'>142: [-70.83017298262233, -13.96099906163879]<input type='checkbox' class='ee-toggle'></label><ul><li><span class='ee-k'>0:</span><span class='ee-v'>-70.83017298262233</span></li><li><span class='ee-k'>1:</span><span class='ee-v'>-13.96099906163879</span></li></ul></li><li><label class='ee-shut'>143: [-70.83045059477973, -13.960996971357938]<input type='checkbox' class='ee-toggle'></label><ul><li><span class='ee-k'>0:</span><span class='ee-v'>-70.83045059477973</span></li><li><span class='ee-k'>1:</span><span class='ee-v'>-13.960996971357938</span></li></ul></li><li><label class='ee-shut'>144: [-70.83044845431898, -13.960725849815924]<input type='checkbox' class='ee-toggle'></label><ul><li><span class='ee-k'>0:</span><span class='ee-v'>-70.83044845431898</span></li><li><span class='ee-k'>1:</span><span class='ee-v'>-13.960725849815924</span></li></ul></li><li><label class='ee-shut'>145: [-70.83072606611707, -13.960723759265578]<input type='checkbox' class='ee-toggle'></label><ul><li><span class='ee-k'>0:</span><span class='ee-v'>-70.83072606611707</span></li><li><span class='ee-k'>1:</span><span class='ee-v'>-13.960723759265578</span></li></ul></li><li><label class='ee-shut'>146: [-70.83072178468353, -13.960181516244434]<input type='checkbox' class='ee-toggle'></label><ul><li><span class='ee-k'>0:</span><span class='ee-v'>-70.83072178468353</span></li><li><span class='ee-k'>1:</span><span class='ee-v'>-13.960181516244434</span></li></ul></li><li><label class='ee-shut'>147: [-70.83099939578092, -13.960179425460526]<input type='checkbox' class='ee-toggle'></label><ul><li><span class='ee-k'>0:</span><span class='ee-v'>-70.83099939578092</span></li><li><span class='ee-k'>1:</span><span class='ee-v'>-13.960179425460526</span></li></ul></li><li><label class='ee-shut'>148: [-70.83099511388028, -13.95963718249328]<input type='checkbox' class='ee-toggle'></label><ul><li><span class='ee-k'>0:</span><span class='ee-v'>-70.83099511388028</span></li><li><span class='ee-k'>1:</span><span class='ee-v'>-13.95963718249328</span></li></ul></li><li><label class='ee-shut'>149: [-70.83127272428597, -13.95963509147581]<input type='checkbox' class='ee-toggle'></label><ul><li><span class='ee-k'>0:</span><span class='ee-v'>-70.83127272428597</span></li><li><span class='ee-k'>1:</span><span class='ee-v'>-13.95963509147581</span></li></ul></li><li><label class='ee-shut'>150: [-70.83126844191818, -13.959092848571448]<input type='checkbox' class='ee-toggle'></label><ul><li><span class='ee-k'>0:</span><span class='ee-v'>-70.83126844191818</span></li><li><span class='ee-k'>1:</span><span class='ee-v'>-13.959092848571448</span></li></ul></li><li><label class='ee-shut'>151: [-70.83182366129226, -13.959088665754972]<input type='checkbox' class='ee-toggle'></label><ul><li><span class='ee-k'>0:</span><span class='ee-v'>-70.83182366129226</span></li><li><span class='ee-k'>1:</span><span class='ee-v'>-13.959088665754972</span></li></ul></li><li><label class='ee-shut'>152: [-70.83181937781058, -13.95854642299434]<input type='checkbox' class='ee-toggle'></label><ul><li><span class='ee-k'>0:</span><span class='ee-v'>-70.83181937781058</span></li><li><span class='ee-k'>1:</span><span class='ee-v'>-13.95854642299434</span></li></ul></li><li><label class='ee-shut'>153: [-70.83237459571141, -13.958542239072937]<input type='checkbox' class='ee-toggle'></label><ul><li><span class='ee-k'>0:</span><span class='ee-v'>-70.83237459571141</span></li><li><span class='ee-k'>1:</span><span class='ee-v'>-13.958542239072937</span></li></ul></li><li><label class='ee-shut'>154: [-70.83237031111581, -13.957999996465018]<input type='checkbox' class='ee-toggle'></label><ul><li><span class='ee-k'>0:</span><span class='ee-v'>-70.83237031111581</span></li><li><span class='ee-k'>1:</span><span class='ee-v'>-13.957999996465018</span></li></ul></li><li><label class='ee-shut'>155: [-70.83264791934758, -13.957997904109058]<input type='checkbox' class='ee-toggle'></label><ul><li><span class='ee-k'>0:</span><span class='ee-v'>-70.83264791934758</span></li><li><span class='ee-k'>1:</span><span class='ee-v'>-13.957997904109058</span></li></ul></li><li><label class='ee-shut'>156: [-70.83264577679375, -13.95772678283654]<input type='checkbox' class='ee-toggle'></label><ul><li><span class='ee-k'>0:</span><span class='ee-v'>-70.83264577679375</span></li><li><span class='ee-k'>1:</span><span class='ee-v'>-13.95772678283654</span></li></ul></li><li><label class='ee-shut'>157: [-70.8329233846572, -13.957724690211085]<input type='checkbox' class='ee-toggle'></label><ul><li><span class='ee-k'>0:</span><span class='ee-v'>-70.8329233846572</span></li><li><span class='ee-k'>1:</span><span class='ee-v'>-13.957724690211085</span></li></ul></li><li><label class='ee-shut'>158: [-70.83291695630406, -13.956911326474378]<input type='checkbox' class='ee-toggle'></label><ul><li><span class='ee-k'>0:</span><span class='ee-v'>-70.83291695630406</span></li><li><span class='ee-k'>1:</span><span class='ee-v'>-13.956911326474378</span></li></ul></li><li><label class='ee-shut'>159: [-70.83263934941976, -13.956913418974068]<input type='checkbox' class='ee-toggle'></label><ul><li><span class='ee-k'>0:</span><span class='ee-v'>-70.83263934941976</span></li><li><span class='ee-k'>1:</span><span class='ee-v'>-13.956913418974068</span></li></ul></li><li><label class='ee-shut'>160: [-70.83263720704561, -13.9566422976746]<input type='checkbox' class='ee-toggle'></label><ul><li><span class='ee-k'>0:</span><span class='ee-v'>-70.83263720704561</span></li><li><span class='ee-k'>1:</span><span class='ee-v'>-13.9566422976746</span></li></ul></li><li><label class='ee-shut'>161: [-70.83291481361549, -13.956640205219825]<input type='checkbox' class='ee-toggle'></label><ul><li><span class='ee-k'>0:</span><span class='ee-v'>-70.83291481361549</span></li><li><span class='ee-k'>1:</span><span class='ee-v'>-13.956640205219825</span></li></ul></li><li><label class='ee-shut'>162: [-70.83290838581031, -13.955826841411254]<input type='checkbox' class='ee-toggle'></label><ul><li><span class='ee-k'>0:</span><span class='ee-v'>-70.83290838581031</span></li><li><span class='ee-k'>1:</span><span class='ee-v'>-13.955826841411254</span></li></ul></li><li><label class='ee-shut'>163: [-70.8331859913561, -13.955824748767832]<input type='checkbox' class='ee-toggle'></label><ul><li><span class='ee-k'>0:</span><span class='ee-v'>-70.8331859913561</span></li><li><span class='ee-k'>1:</span><span class='ee-v'>-13.955824748767832</span></li></ul></li><li><label class='ee-shut'>164: [-70.83317956299396, -13.955011385022141]<input type='checkbox' class='ee-toggle'></label><ul><li><span class='ee-k'>0:</span><span class='ee-v'>-70.83317956299396</span></li><li><span class='ee-k'>1:</span><span class='ee-v'>-13.955011385022141</span></li></ul></li><li><label class='ee-shut'>165: [-70.83345716752467, -13.955009292190075]<input type='checkbox' class='ee-toggle'></label><ul><li><span class='ee-k'>0:</span><span class='ee-v'>-70.83345716752467</span></li><li><span class='ee-k'>1:</span><span class='ee-v'>-13.955009292190075</span></li></ul></li><li><label class='ee-shut'>166: [-70.83345502450373, -13.954738170971455]<input type='checkbox' class='ee-toggle'></label><ul><li><span class='ee-k'>0:</span><span class='ee-v'>-70.83345502450373</span></li><li><span class='ee-k'>1:</span><span class='ee-v'>-13.954738170971455</span></li></ul></li><li><label class='ee-shut'>167: [-70.83373262866613, -13.954736077860911]<input type='checkbox' class='ee-toggle'></label><ul><li><span class='ee-k'>0:</span><span class='ee-v'>-70.83373262866613</span></li><li><span class='ee-k'>1:</span><span class='ee-v'>-13.954736077860911</span></li></ul></li><li><label class='ee-shut'>168: [-70.83372834211221, -13.954193835486553]<input type='checkbox' class='ee-toggle'></label><ul><li><span class='ee-k'>0:</span><span class='ee-v'>-70.83372834211221</span></li><li><span class='ee-k'>1:</span><span class='ee-v'>-13.954193835486553</span></li></ul></li><li><label class='ee-shut'>169: [-70.83345073860558, -13.95419592851625]<input type='checkbox' class='ee-toggle'></label><ul><li><span class='ee-k'>0:</span><span class='ee-v'>-70.83345073860558</span></li><li><span class='ee-k'>1:</span><span class='ee-v'>-13.95419592851625</span></li></ul></li><li><label class='ee-shut'>170: [-70.83344431009971, -13.953382564779542]<input type='checkbox' class='ee-toggle'></label><ul><li><span class='ee-k'>0:</span><span class='ee-v'>-70.83344431009971</span></li><li><span class='ee-k'>1:</span><span class='ee-v'>-13.953382564779542</span></li></ul></li><li><label class='ee-shut'>171: [-70.8328891048831, -13.953386749626208]<input type='checkbox' class='ee-toggle'></label><ul><li><span class='ee-k'>0:</span><span class='ee-v'>-70.8328891048831</span></li><li><span class='ee-k'>1:</span><span class='ee-v'>-13.953386749626208</span></li></ul></li><li><label class='ee-shut'>172: [-70.83288696278741, -13.953115628290808]<input type='checkbox' class='ee-toggle'></label><ul><li><span class='ee-k'>0:</span><span class='ee-v'>-70.83288696278741</span></li><li><span class='ee-k'>1:</span><span class='ee-v'>-13.953115628290808</span></li></ul></li><li><label class='ee-shut'>173: [-70.83205415560029, -13.953121903059]<input type='checkbox' class='ee-toggle'></label><ul><li><span class='ee-k'>0:</span><span class='ee-v'>-70.83205415560029</span></li><li><span class='ee-k'>1:</span><span class='ee-v'>-13.953121903059</span></li></ul></li><li><label class='ee-shut'>174: [-70.8320520145197, -13.952850781579869]<input type='checkbox' class='ee-toggle'></label><ul><li><span class='ee-k'>0:</span><span class='ee-v'>-70.8320520145197</span></li><li><span class='ee-k'>1:</span><span class='ee-v'>-13.952850781579869</span></li></ul></li><li><label class='ee-shut'>175: [-70.83177441235156, -13.952852872498525]<input type='checkbox' class='ee-toggle'></label><ul><li><span class='ee-k'>0:</span><span class='ee-v'>-70.83177441235156</span></li><li><span class='ee-k'>1:</span><span class='ee-v'>-13.952852872498525</span></li></ul></li><li><label class='ee-shut'>176: [-70.83177227164828, -13.952581750974478]<input type='checkbox' class='ee-toggle'></label><ul><li><span class='ee-k'>0:</span><span class='ee-v'>-70.83177227164828</span></li><li><span class='ee-k'>1:</span><span class='ee-v'>-13.952581750974478</span></li></ul></li><li><label class='ee-shut'>177: [-70.83149466975863, -13.952583841533807]<input type='checkbox' class='ee-toggle'></label><ul><li><span class='ee-k'>0:</span><span class='ee-v'>-70.83149466975863</span></li><li><span class='ee-k'>1:</span><span class='ee-v'>-13.952583841533807</span></li></ul></li><li><label class='ee-shut'>178: [-70.83149252942364, -13.952312719955861]<input type='checkbox' class='ee-toggle'></label><ul><li><span class='ee-k'>0:</span><span class='ee-v'>-70.83149252942364</span></li><li><span class='ee-k'>1:</span><span class='ee-v'>-13.952312719955861</span></li></ul></li><li><label class='ee-shut'>179: [-70.83121492781247, -13.952314810155864]<input type='checkbox' class='ee-toggle'></label><ul><li><span class='ee-k'>0:</span><span class='ee-v'>-70.83121492781247</span></li><li><span class='ee-k'>1:</span><span class='ee-v'>-13.952314810155864</span></li></ul></li><li><label class='ee-shut'>180: [-70.83121278784579, -13.952043688533003]<input type='checkbox' class='ee-toggle'></label><ul><li><span class='ee-k'>0:</span><span class='ee-v'>-70.83121278784579</span></li><li><span class='ee-k'>1:</span><span class='ee-v'>-13.952043688533003</span></li></ul></li><li><label class='ee-shut'>181: [-70.83093518651309, -13.952045778373678]<input type='checkbox' class='ee-toggle'></label><ul><li><span class='ee-k'>0:</span><span class='ee-v'>-70.83093518651309</span></li><li><span class='ee-k'>1:</span><span class='ee-v'>-13.952045778373678</span></li></ul></li><li><label class='ee-shut'>182: [-70.83092662838914, -13.950961291666637]<input type='checkbox' class='ee-toggle'></label><ul><li><span class='ee-k'>0:</span><span class='ee-v'>-70.83092662838914</span></li><li><span class='ee-k'>1:</span><span class='ee-v'>-13.950961291666637</span></li></ul></li><li><label class='ee-shut'>183: [-70.8306490283051, -13.950963381022223]<input type='checkbox' class='ee-toggle'></label><ul><li><span class='ee-k'>0:</span><span class='ee-v'>-70.8306490283051</span></li><li><span class='ee-k'>1:</span><span class='ee-v'>-13.950963381022223</span></li></ul></li><li><label class='ee-shut'>184: [-70.83064688921877, -13.950692259282581]<input type='checkbox' class='ee-toggle'></label><ul><li><span class='ee-k'>0:</span><span class='ee-v'>-70.83064688921877</span></li><li><span class='ee-k'>1:</span><span class='ee-v'>-13.950692259282581</span></li></ul></li><li><label class='ee-shut'>185: [-70.83036928941321, -13.950694348278843]<input type='checkbox' class='ee-toggle'></label><ul><li><span class='ee-k'>0:</span><span class='ee-v'>-70.83036928941321</span></li><li><span class='ee-k'>1:</span><span class='ee-v'>-13.950694348278843</span></li></ul></li><li><label class='ee-shut'>186: [-70.83037142818512, -13.950965470054417]<input type='checkbox' class='ee-toggle'></label><ul><li><span class='ee-k'>0:</span><span class='ee-v'>-70.83037142818512</span></li><li><span class='ee-k'>1:</span><span class='ee-v'>-13.950965470054417</span></li></ul></li><li><label class='ee-shut'>187: [-70.83009382801124, -13.9509675587722]<input type='checkbox' class='ee-toggle'></label><ul><li><span class='ee-k'>0:</span><span class='ee-v'>-70.83009382801124</span></li><li><span class='ee-k'>1:</span><span class='ee-v'>-13.9509675587722</span></li></ul></li><li><label class='ee-shut'>188: [-70.83009596650467, -13.951238680592692]<input type='checkbox' class='ee-toggle'></label><ul><li><span class='ee-k'>0:</span><span class='ee-v'>-70.83009596650467</span></li><li><span class='ee-k'>1:</span><span class='ee-v'>-13.951238680592692</span></li></ul></li><li><label class='ee-shut'>189: [-70.8298183659625, -13.951240769031996]<input type='checkbox' class='ee-toggle'></label><ul><li><span class='ee-k'>0:</span><span class='ee-v'>-70.8298183659625</span></li><li><span class='ee-k'>1:</span><span class='ee-v'>-13.951240769031996</span></li></ul></li><li><label class='ee-shut'>190: [-70.82981622779245, -13.950969647175572]<input type='checkbox' class='ee-toggle'></label><ul><li><span class='ee-k'>0:</span><span class='ee-v'>-70.82981622779245</span></li><li><span class='ee-k'>1:</span><span class='ee-v'>-13.950969647175572</span></li></ul></li><li><label class='ee-shut'>191: [-70.82926102722013, -13.950973823039087]<input type='checkbox' class='ee-toggle'></label><ul><li><span class='ee-k'>0:</span><span class='ee-v'>-70.82926102722013</span></li><li><span class='ee-k'>1:</span><span class='ee-v'>-13.950973823039087</span></li></ul></li><li><label class='ee-shut'>192: [-70.82925888975076, -13.950702701092832]<input type='checkbox' class='ee-toggle'></label><ul><li><span class='ee-k'>0:</span><span class='ee-v'>-70.82925888975076</span></li><li><span class='ee-k'>1:</span><span class='ee-v'>-13.950702701092832</span></li></ul></li><li><label class='ee-shut'>193: [-70.829536489736, -13.950700613363194]<input type='checkbox' class='ee-toggle'></label><ul><li><span class='ee-k'>0:</span><span class='ee-v'>-70.829536489736</span></li><li><span class='ee-k'>1:</span><span class='ee-v'>-13.950700613363194</span></li></ul></li><li><label class='ee-shut'>194: [-70.82953221427627, -13.950158369533566]<input type='checkbox' class='ee-toggle'></label><ul><li><span class='ee-k'>0:</span><span class='ee-v'>-70.82953221427627</span></li><li><span class='ee-k'>1:</span><span class='ee-v'>-13.950158369533566</span></li></ul></li><li><label class='ee-shut'>195: [-70.82925461493782, -13.950160457182355]<input type='checkbox' class='ee-toggle'></label><ul><li><span class='ee-k'>0:</span><span class='ee-v'>-70.82925461493782</span></li><li><span class='ee-k'>1:</span><span class='ee-v'>-13.950160457182355</span></li></ul></li><li><label class='ee-shut'>196: [-70.82925034031354, -13.949618213244928]<input type='checkbox' class='ee-toggle'></label><ul><li><span class='ee-k'>0:</span><span class='ee-v'>-70.82925034031354</span></li><li><span class='ee-k'>1:</span><span class='ee-v'>-13.949618213244928</span></li></ul></li><li><label class='ee-shut'>197: [-70.82952793900519, -13.949616125685973]<input type='checkbox' class='ee-toggle'></label><ul><li><span class='ee-k'>0:</span><span class='ee-v'>-70.82952793900519</span></li><li><span class='ee-k'>1:</span><span class='ee-v'>-13.949616125685973</span></li></ul></li><li><label class='ee-shut'>198: [-70.82952366391376, -13.949073881802445]<input type='checkbox' class='ee-toggle'></label><ul><li><span class='ee-k'>0:</span><span class='ee-v'>-70.82952366391376</span></li><li><span class='ee-k'>1:</span><span class='ee-v'>-13.949073881802445</span></li></ul></li><li><label class='ee-shut'>199: [-70.82980126191372, -13.949071794009928]<input type='checkbox' class='ee-toggle'></label><ul><li><span class='ee-k'>0:</span><span class='ee-v'>-70.82980126191372</span></li><li><span class='ee-k'>1:</span><span class='ee-v'>-13.949071794009928</span></li></ul></li><li><label class='ee-shut'>200: [-70.82979271097629, -13.94798730635067]<input type='checkbox' class='ee-toggle'></label><ul><li><span class='ee-k'>0:</span><span class='ee-v'>-70.82979271097629</span></li><li><span class='ee-k'>1:</span><span class='ee-v'>-13.94798730635067</span></li></ul></li><li><label class='ee-shut'>201: [-70.83034790424531, -13.94798313015478]<input type='checkbox' class='ee-toggle'></label><ul><li><span class='ee-k'>0:</span><span class='ee-v'>-70.83034790424531</span></li><li><span class='ee-k'>1:</span><span class='ee-v'>-13.94798313015478</span></li></ul></li><li><label class='ee-shut'>202: [-70.83034362776151, -13.947440886450917]<input type='checkbox' class='ee-toggle'></label><ul><li><span class='ee-k'>0:</span><span class='ee-v'>-70.83034362776151</span></li><li><span class='ee-k'>1:</span><span class='ee-v'>-13.947440886450917</span></li></ul></li><li><label class='ee-shut'>203: [-70.83006603180074, -13.947442974620728]<input type='checkbox' class='ee-toggle'></label><ul><li><span class='ee-k'>0:</span><span class='ee-v'>-70.83006603180074</span></li><li><span class='ee-k'>1:</span><span class='ee-v'>-13.947442974620728</span></li></ul></li><li><label class='ee-shut'>204: [-70.83005961838656, -13.946629608898743]<input type='checkbox' class='ee-toggle'></label><ul><li><span class='ee-k'>0:</span><span class='ee-v'>-70.83005961838656</span></li><li><span class='ee-k'>1:</span><span class='ee-v'>-13.946629608898743</span></li></ul></li><li><label class='ee-shut'>205: [-70.82978202335104, -13.946631696628378]<input type='checkbox' class='ee-toggle'></label><ul><li><span class='ee-k'>0:</span><span class='ee-v'>-70.82978202335104</span></li><li><span class='ee-k'>1:</span><span class='ee-v'>-13.946631696628378</span></li></ul></li><li><label class='ee-shut'>206: [-70.82977988596254, -13.946360574664157]<input type='checkbox' class='ee-toggle'></label><ul><li><span class='ee-k'>0:</span><span class='ee-v'>-70.82977988596254</span></li><li><span class='ee-k'>1:</span><span class='ee-v'>-13.946360574664157</span></li></ul></li><li><label class='ee-shut'>207: [-70.82950229120551, -13.946362662034467]<input type='checkbox' class='ee-toggle'></label><ul><li><span class='ee-k'>0:</span><span class='ee-v'>-70.82950229120551</span></li><li><span class='ee-k'>1:</span><span class='ee-v'>-13.946362662034467</span></li></ul></li><li><label class='ee-shut'>208: [-70.82949374339422, -13.94527817394402]<input type='checkbox' class='ee-toggle'></label><ul><li><span class='ee-k'>0:</span><span class='ee-v'>-70.82949374339422</span></li><li><span class='ee-k'>1:</span><span class='ee-v'>-13.94527817394402</span></li></ul></li><li><label class='ee-shut'>209: [-70.82921614988584, -13.94528026082924]<input type='checkbox' class='ee-toggle'></label><ul><li><span class='ee-k'>0:</span><span class='ee-v'>-70.82921614988584</span></li><li><span class='ee-k'>1:</span><span class='ee-v'>-13.94528026082924</span></li></ul></li><li><label class='ee-shut'>210: [-70.8292140133777, -13.945009138748237]<input type='checkbox' class='ee-toggle'></label><ul><li><span class='ee-k'>0:</span><span class='ee-v'>-70.8292140133777</span></li><li><span class='ee-k'>1:</span><span class='ee-v'>-13.945009138748237</span></li></ul></li><li><label class='ee-shut'>211: [-70.82838123355324, -13.945015397382686]<input type='checkbox' class='ee-toggle'></label><ul><li><span class='ee-k'>0:</span><span class='ee-v'>-70.82838123355324</span></li><li><span class='ee-k'>1:</span><span class='ee-v'>-13.945015397382686</span></li></ul></li><li><label class='ee-shut'>212: [-70.82838336909121, -13.945286519589454]<input type='checkbox' class='ee-toggle'></label><ul><li><span class='ee-k'>0:</span><span class='ee-v'>-70.82838336909121</span></li><li><span class='ee-k'>1:</span><span class='ee-v'>-13.945286519589454</span></li></ul></li><li><label class='ee-shut'>213: [-70.82810577540317, -13.945288605208049]<input type='checkbox' class='ee-toggle'></label><ul><li><span class='ee-k'>0:</span><span class='ee-v'>-70.82810577540317</span></li><li><span class='ee-k'>1:</span><span class='ee-v'>-13.945288605208049</span></li></ul></li><li><label class='ee-shut'>214: [-70.82810791066268, -13.945559727450748]<input type='checkbox' class='ee-toggle'></label><ul><li><span class='ee-k'>0:</span><span class='ee-v'>-70.82810791066268</span></li><li><span class='ee-k'>1:</span><span class='ee-v'>-13.945559727450748</span></li></ul></li><li><label class='ee-shut'>215: [-70.82699753414983, -13.945568066942721]<input type='checkbox' class='ee-toggle'></label><ul><li><span class='ee-k'>0:</span><span class='ee-v'>-70.82699753414983</span></li><li><span class='ee-k'>1:</span><span class='ee-v'>-13.945568066942721</span></li></ul></li><li><label class='ee-shut'>216: [-70.82699540018389, -13.945296944529343]<input type='checkbox' class='ee-toggle'></label><ul><li><span class='ee-k'>0:</span><span class='ee-v'>-70.82699540018389</span></li><li><span class='ee-k'>1:</span><span class='ee-v'>-13.945296944529343</span></li></ul></li><li><label class='ee-shut'>217: [-70.82644021230476, -13.945301112290052]<input type='checkbox' class='ee-toggle'></label><ul><li><span class='ee-k'>0:</span><span class='ee-v'>-70.82644021230476</span></li><li><span class='ee-k'>1:</span><span class='ee-v'>-13.945301112290052</span></li></ul></li><li><label class='ee-shut'>218: [-70.8264423456239, -13.94557223478428]<input type='checkbox' class='ee-toggle'></label><ul><li><span class='ee-k'>0:</span><span class='ee-v'>-70.8264423456239</span></li><li><span class='ee-k'>1:</span><span class='ee-v'>-13.94557223478428</span></li></ul></li><li><label class='ee-shut'>219: [-70.82616475128907, -13.945574318237934]<input type='checkbox' class='ee-toggle'></label><ul><li><span class='ee-k'>0:</span><span class='ee-v'>-70.82616475128907</span></li><li><span class='ee-k'>1:</span><span class='ee-v'>-13.945574318237934</span></li></ul></li><li><label class='ee-shut'>220: [-70.82616261829332, -13.945303195698791]<input type='checkbox' class='ee-toggle'></label><ul><li><span class='ee-k'>0:</span><span class='ee-v'>-70.82616261829332</span></li><li><span class='ee-k'>1:</span><span class='ee-v'>-13.945303195698791</span></li></ul></li><li><label class='ee-shut'>221: [-70.82560743013572, -13.945307361564057]<input type='checkbox' class='ee-toggle'></label><ul><li><span class='ee-k'>0:</span><span class='ee-v'>-70.82560743013572</span></li><li><span class='ee-k'>1:</span><span class='ee-v'>-13.945307361564057</span></li></ul></li><li><label class='ee-shut'>222: [-70.82560529783167, -13.945036238935081]<input type='checkbox' class='ee-toggle'></label><ul><li><span class='ee-k'>0:</span><span class='ee-v'>-70.82560529783167</span></li><li><span class='ee-k'>1:</span><span class='ee-v'>-13.945036238935081</span></li></ul></li><li><label class='ee-shut'>223: [-70.82505011014118, -13.945040403452873]<input type='checkbox' class='ee-toggle'></label><ul><li><span class='ee-k'>0:</span><span class='ee-v'>-70.82505011014118</span></li><li><span class='ee-k'>1:</span><span class='ee-v'>-13.945040403452873</span></li></ul></li><li><label class='ee-shut'>224: [-70.82505224179843, -13.945311526162698]<input type='checkbox' class='ee-toggle'></label><ul><li><span class='ee-k'>0:</span><span class='ee-v'>-70.82505224179843</span></li><li><span class='ee-k'>1:</span><span class='ee-v'>-13.945311526162698</span></li></ul></li><li><label class='ee-shut'>225: [-70.82477464756242, -13.945313607990402]<input type='checkbox' class='ee-toggle'></label><ul><li><span class='ee-k'>0:</span><span class='ee-v'>-70.82477464756242</span></li><li><span class='ee-k'>1:</span><span class='ee-v'>-13.945313607990402</span></li></ul></li><li><label class='ee-shut'>226: [-70.8247682536956, -13.94450023970822]<input type='checkbox' class='ee-toggle'></label><ul><li><span class='ee-k'>0:</span><span class='ee-v'>-70.8247682536956</span></li><li><span class='ee-k'>1:</span><span class='ee-v'>-13.94450023970822</span></li></ul></li><li><label class='ee-shut'>227: [-70.82449066038484, -13.944502321095749]<input type='checkbox' class='ee-toggle'></label><ul><li><span class='ee-k'>0:</span><span class='ee-v'>-70.82449066038484</span></li><li><span class='ee-k'>1:</span><span class='ee-v'>-13.944502321095749</span></li></ul></li><li><label class='ee-shut'>228: [-70.8244842679104, -13.943688952633902]<input type='checkbox' class='ee-toggle'></label><ul><li><span class='ee-k'>0:</span><span class='ee-v'>-70.8244842679104</span></li><li><span class='ee-k'>1:</span><span class='ee-v'>-13.943688952633902</span></li></ul></li><li><label class='ee-shut'>229: [-70.82476186025097, -13.943686871372137]<input type='checkbox' class='ee-toggle'></label><ul><li><span class='ee-k'>0:</span><span class='ee-v'>-70.82476186025097</span></li><li><span class='ee-k'>1:</span><span class='ee-v'>-13.943686871372137</span></li></ul></li><li><label class='ee-shut'>230: [-70.82475759817613, -13.94314462578181]<input type='checkbox' class='ee-toggle'></label><ul><li><span class='ee-k'>0:</span><span class='ee-v'>-70.82475759817613</span></li><li><span class='ee-k'>1:</span><span class='ee-v'>-13.94314462578181</span></li></ul></li><li><label class='ee-shut'>231: [-70.825035189825, -13.943142544295466]<input type='checkbox' class='ee-toggle'></label><ul><li><span class='ee-k'>0:</span><span class='ee-v'>-70.825035189825</span></li><li><span class='ee-k'>1:</span><span class='ee-v'>-13.943142544295466</span></li></ul></li><li><label class='ee-shut'>232: [-70.82503305853605, -13.942871421531743]<input type='checkbox' class='ee-toggle'></label><ul><li><span class='ee-k'>0:</span><span class='ee-v'>-70.82503305853605</span></li><li><span class='ee-k'>1:</span><span class='ee-v'>-13.942871421531743</span></li></ul></li><li><label class='ee-shut'>233: [-70.8244778758402, -13.942875584109174]<input type='checkbox' class='ee-toggle'></label><ul><li><span class='ee-k'>0:</span><span class='ee-v'>-70.8244778758402</span></li><li><span class='ee-k'>1:</span><span class='ee-v'>-13.942875584109174</span></li></ul></li><li><label class='ee-shut'>234: [-70.82448000648236, -13.943146706962729]<input type='checkbox' class='ee-toggle'></label><ul><li><span class='ee-k'>0:</span><span class='ee-v'>-70.82448000648236</span></li><li><span class='ee-k'>1:</span><span class='ee-v'>-13.943146706962729</span></li></ul></li><li><label class='ee-shut'>235: [-70.82420241474367, -13.94314878781127]<input type='checkbox' class='ee-toggle'></label><ul><li><span class='ee-k'>0:</span><span class='ee-v'>-70.82420241474367</span></li><li><span class='ee-k'>1:</span><span class='ee-v'>-13.94314878781127</span></li></ul></li><li><label class='ee-shut'>236: [-70.82419602392211, -13.942335419133828]<input type='checkbox' class='ee-toggle'></label><ul><li><span class='ee-k'>0:</span><span class='ee-v'>-70.82419602392211</span></li><li><span class='ee-k'>1:</span><span class='ee-v'>-13.942335419133828</span></li></ul></li><li><label class='ee-shut'>237: [-70.82391843310869, -13.942337499542194]<input type='checkbox' class='ee-toggle'></label><ul><li><span class='ee-k'>0:</span><span class='ee-v'>-70.82391843310869</span></li><li><span class='ee-k'>1:</span><span class='ee-v'>-13.942337499542194</span></li></ul></li><li><label class='ee-shut'>238: [-70.82391417343236, -13.941795253637459]<input type='checkbox' class='ee-toggle'></label><ul><li><span class='ee-k'>0:</span><span class='ee-v'>-70.82391417343236</span></li><li><span class='ee-k'>1:</span><span class='ee-v'>-13.941795253637459</span></li></ul></li><li><label class='ee-shut'>239: [-70.82335899296432, -13.941799413349264]<input type='checkbox' class='ee-toggle'></label><ul><li><span class='ee-k'>0:</span><span class='ee-v'>-70.82335899296432</span></li><li><span class='ee-k'>1:</span><span class='ee-v'>-13.941799413349264</span></li></ul></li><li><label class='ee-shut'>240: [-70.82336112213324, -13.942070536391462]<input type='checkbox' class='ee-toggle'></label><ul><li><span class='ee-k'>0:</span><span class='ee-v'>-70.82336112213324</span></li><li><span class='ee-k'>1:</span><span class='ee-v'>-13.942070536391462</span></li></ul></li><li><label class='ee-shut'>241: [-70.82308353150846, -13.942072615820665]<input type='checkbox' class='ee-toggle'></label><ul><li><span class='ee-k'>0:</span><span class='ee-v'>-70.82308353150846</span></li><li><span class='ee-k'>1:</span><span class='ee-v'>-13.942072615820665</span></li></ul></li><li><label class='ee-shut'>242: [-70.82308566038992, -13.942343738889814]<input type='checkbox' class='ee-toggle'></label><ul><li><span class='ee-k'>0:</span><span class='ee-v'>-70.82308566038992</span></li><li><span class='ee-k'>1:</span><span class='ee-v'>-13.942343738889814</span></li></ul></li><li><label class='ee-shut'>243: [-70.82280806939683, -13.94234581804054]<input type='checkbox' class='ee-toggle'></label><ul><li><span class='ee-k'>0:</span><span class='ee-v'>-70.82280806939683</span></li><li><span class='ee-k'>1:</span><span class='ee-v'>-13.94234581804054</span></li></ul></li><li><label class='ee-shut'>244: [-70.82281019800878, -13.942616941154604]<input type='checkbox' class='ee-toggle'></label><ul><li><span class='ee-k'>0:</span><span class='ee-v'>-70.82281019800878</span></li><li><span class='ee-k'>1:</span><span class='ee-v'>-13.942616941154604</span></li></ul></li><li><label class='ee-shut'>245: [-70.82253260664739, -13.942619020026852]<input type='checkbox' class='ee-toggle'></label><ul><li><span class='ee-k'>0:</span><span class='ee-v'>-70.82253260664739</span></li><li><span class='ee-k'>1:</span><span class='ee-v'>-13.942619020026852</span></li></ul></li><li><label class='ee-shut'>246: [-70.82253473497188, -13.94289014317685]<input type='checkbox' class='ee-toggle'></label><ul><li><span class='ee-k'>0:</span><span class='ee-v'>-70.82253473497188</span></li><li><span class='ee-k'>1:</span><span class='ee-v'>-13.94289014317685</span></li></ul></li><li><label class='ee-shut'>247: [-70.82225714324218, -13.942892221779603]<input type='checkbox' class='ee-toggle'></label><ul><li><span class='ee-k'>0:</span><span class='ee-v'>-70.82225714324218</span></li><li><span class='ee-k'>1:</span><span class='ee-v'>-13.942892221779603</span></li></ul></li><li><label class='ee-shut'>248: [-70.8222613993971, -13.943434468133496]<input type='checkbox' class='ee-toggle'></label><ul><li><span class='ee-k'>0:</span><span class='ee-v'>-70.8222613993971</span></li><li><span class='ee-k'>1:</span><span class='ee-v'>-13.943434468133496</span></li></ul></li><li><label class='ee-shut'>249: [-70.82170621450038, -13.943438624557468]<input type='checkbox' class='ee-toggle'></label><ul><li><span class='ee-k'>0:</span><span class='ee-v'>-70.82170621450038</span></li><li><span class='ee-k'>1:</span><span class='ee-v'>-13.943438624557468</span></li></ul></li><li><label class='ee-shut'>250: [-70.82170834198945, -13.943709747806281]<input type='checkbox' class='ee-toggle'></label><ul><li><span class='ee-k'>0:</span><span class='ee-v'>-70.82170834198945</span></li><li><span class='ee-k'>1:</span><span class='ee-v'>-13.943709747806281</span></li></ul></li><li><label class='ee-shut'>251: [-70.82115315626628, -13.943713903053458]<input type='checkbox' class='ee-toggle'></label><ul><li><span class='ee-k'>0:</span><span class='ee-v'>-70.82115315626628</span></li><li><span class='ee-k'>1:</span><span class='ee-v'>-13.943713903053458</span></li></ul></li><li><label class='ee-shut'>252: [-70.82115528316245, -13.94398502638312]<input type='checkbox' class='ee-toggle'></label><ul><li><span class='ee-k'>0:</span><span class='ee-v'>-70.82115528316245</span></li><li><span class='ee-k'>1:</span><span class='ee-v'>-13.94398502638312</span></li></ul></li><li><label class='ee-shut'>253: [-70.82032250325716, -13.943991256999116]<input type='checkbox' class='ee-toggle'></label><ul><li><span class='ee-k'>0:</span><span class='ee-v'>-70.82032250325716</span></li><li><span class='ee-k'>1:</span><span class='ee-v'>-13.943991256999116</span></li></ul></li><li><label class='ee-shut'>254: [-70.82032037733116, -13.94372013354369]<input type='checkbox' class='ee-toggle'></label><ul><li><span class='ee-k'>0:</span><span class='ee-v'>-70.82032037733116</span></li><li><span class='ee-k'>1:</span><span class='ee-v'>-13.94372013354369</span></li></ul></li><li><label class='ee-shut'>255: [-70.81976519114086, -13.943724285619815]<input type='checkbox' class='ee-toggle'></label><ul><li><span class='ee-k'>0:</span><span class='ee-v'>-70.81976519114086</span></li><li><span class='ee-k'>1:</span><span class='ee-v'>-13.943724285619815</span></li></ul></li><li><label class='ee-shut'>256: [-70.81976094072616, -13.94318203852032]<input type='checkbox' class='ee-toggle'></label><ul><li><span class='ee-k'>0:</span><span class='ee-v'>-70.81976094072616</span></li><li><span class='ee-k'>1:</span><span class='ee-v'>-13.94318203852032</span></li></ul></li><li><label class='ee-shut'>257: [-70.82003853319249, -13.943179962720311]<input type='checkbox' class='ee-toggle'></label><ul><li><span class='ee-k'>0:</span><span class='ee-v'>-70.82003853319249</span></li><li><span class='ee-k'>1:</span><span class='ee-v'>-13.943179962720311</span></li></ul></li><li><label class='ee-shut'>258: [-70.82003215694162, -13.942366592147424]<input type='checkbox' class='ee-toggle'></label><ul><li><span class='ee-k'>0:</span><span class='ee-v'>-70.82003215694162</span></li><li><span class='ee-k'>1:</span><span class='ee-v'>-13.942366592147424</span></li></ul></li><li><label class='ee-shut'>259: [-70.8205873397902, -13.942362439855703]<input type='checkbox' class='ee-toggle'></label><ul><li><span class='ee-k'>0:</span><span class='ee-v'>-70.8205873397902</span></li><li><span class='ee-k'>1:</span><span class='ee-v'>-13.942362439855703</span></li></ul></li><li><label class='ee-shut'>260: [-70.82057458462944, -13.940735699042305]<input type='checkbox' class='ee-toggle'></label><ul><li><span class='ee-k'>0:</span><span class='ee-v'>-70.82057458462944</span></li><li><span class='ee-k'>1:</span><span class='ee-v'>-13.940735699042305</span></li></ul></li><li><label class='ee-shut'>261: [-70.82085217404149, -13.940733622667375]<input type='checkbox' class='ee-toggle'></label><ul><li><span class='ee-k'>0:</span><span class='ee-v'>-70.82085217404149</span></li><li><span class='ee-k'>1:</span><span class='ee-v'>-13.940733622667375</span></li></ul></li><li><label class='ee-shut'>262: [-70.82085004801668, -13.940462499220933]<input type='checkbox' class='ee-toggle'></label><ul><li><span class='ee-k'>0:</span><span class='ee-v'>-70.82085004801668</span></li><li><span class='ee-k'>1:</span><span class='ee-v'>-13.940462499220933</span></li></ul></li><li><label class='ee-shut'>263: [-70.82057245891903, -13.940464575550948]<input type='checkbox' class='ee-toggle'></label><ul><li><span class='ee-k'>0:</span><span class='ee-v'>-70.82057245891903</span></li><li><span class='ee-k'>1:</span><span class='ee-v'>-13.940464575550948</span></li></ul></li><li><label class='ee-shut'>264: [-70.82056820765094, -13.939922328550267]<input type='checkbox' class='ee-toggle'></label><ul><li><span class='ee-k'>0:</span><span class='ee-v'>-70.82056820765094</span></li><li><span class='ee-k'>1:</span><span class='ee-v'>-13.939922328550267</span></li></ul></li><li><label class='ee-shut'>265: [-70.82001303062344, -13.939926480087403]<input type='checkbox' class='ee-toggle'></label><ul><li><span class='ee-k'>0:</span><span class='ee-v'>-70.82001303062344</span></li><li><span class='ee-k'>1:</span><span class='ee-v'>-13.939926480087403</span></li></ul></li><li><label class='ee-shut'>266: [-70.82001515558825, -13.940197603668592]<input type='checkbox' class='ee-toggle'></label><ul><li><span class='ee-k'>0:</span><span class='ee-v'>-70.82001515558825</span></li><li><span class='ee-k'>1:</span><span class='ee-v'>-13.940197603668592</span></li></ul></li><li><label class='ee-shut'>267: [-70.81973756667925, -13.94019967901046]<input type='checkbox' class='ee-toggle'></label><ul><li><span class='ee-k'>0:</span><span class='ee-v'>-70.81973756667925</span></li><li><span class='ee-k'>1:</span><span class='ee-v'>-13.94019967901046</span></li></ul></li><li><label class='ee-shut'>268: [-70.81973969136557, -13.940470802627582]<input type='checkbox' class='ee-toggle'></label><ul><li><span class='ee-k'>0:</span><span class='ee-v'>-70.81973969136557</span></li><li><span class='ee-k'>1:</span><span class='ee-v'>-13.940470802627582</span></li></ul></li><li><label class='ee-shut'>269: [-70.81918451277502, -13.940474952439953]<input type='checkbox' class='ee-toggle'></label><ul><li><span class='ee-k'>0:</span><span class='ee-v'>-70.81918451277502</span></li><li><span class='ee-k'>1:</span><span class='ee-v'>-13.940474952439953</span></li></ul></li><li><label class='ee-shut'>270: [-70.81918663685947, -13.940746076137923]<input type='checkbox' class='ee-toggle'></label><ul><li><span class='ee-k'>0:</span><span class='ee-v'>-70.81918663685947</span></li><li><span class='ee-k'>1:</span><span class='ee-v'>-13.940746076137923</span></li></ul></li><li><label class='ee-shut'>271: [-70.81890904716893, -13.940748150608425]<input type='checkbox' class='ee-toggle'></label><ul><li><span class='ee-k'>0:</span><span class='ee-v'>-70.81890904716893</span></li><li><span class='ee-k'>1:</span><span class='ee-v'>-13.940748150608425</span></li></ul></li><li><label class='ee-shut'>272: [-70.81891117097491, -13.941019274342327]<input type='checkbox' class='ee-toggle'></label><ul><li><span class='ee-k'>0:</span><span class='ee-v'>-70.81891117097491</span></li><li><span class='ee-k'>1:</span><span class='ee-v'>-13.941019274342327</span></li></ul></li><li><label class='ee-shut'>273: [-70.81863358091607, -13.941021348543336]<input type='checkbox' class='ee-toggle'></label><ul><li><span class='ee-k'>0:</span><span class='ee-v'>-70.81863358091607</span></li><li><span class='ee-k'>1:</span><span class='ee-v'>-13.941021348543336</span></li></ul></li><li><label class='ee-shut'>274: [-70.81863570444357, -13.94129247231317]<input type='checkbox' class='ee-toggle'></label><ul><li><span class='ee-k'>0:</span><span class='ee-v'>-70.81863570444357</span></li><li><span class='ee-k'>1:</span><span class='ee-v'>-13.94129247231317</span></li></ul></li><li><label class='ee-shut'>275: [-70.81835811400742, -13.941294546235701]<input type='checkbox' class='ee-toggle'></label><ul><li><span class='ee-k'>0:</span><span class='ee-v'>-70.81835811400742</span></li><li><span class='ee-k'>1:</span><span class='ee-v'>-13.941294546235701</span></li></ul></li><li><label class='ee-shut'>276: [-70.81836448389822, -13.942107917644021]<input type='checkbox' class='ee-toggle'></label><ul><li><span class='ee-k'>0:</span><span class='ee-v'>-70.81836448389822</span></li><li><span class='ee-k'>1:</span><span class='ee-v'>-13.942107917644021</span></li></ul></li><li><label class='ee-shut'>277: [-70.818086892447, -13.942109991377905]<input type='checkbox' class='ee-toggle'></label><ul><li><span class='ee-k'>0:</span><span class='ee-v'>-70.818086892447</span></li><li><span class='ee-k'>1:</span><span class='ee-v'>-13.942109991377905</span></li></ul></li><li><label class='ee-shut'>278: [-70.81809113862164, -13.942652239034356]<input type='checkbox' class='ee-toggle'></label><ul><li><span class='ee-k'>0:</span><span class='ee-v'>-70.81809113862164</span></li><li><span class='ee-k'>1:</span><span class='ee-v'>-13.942652239034356</span></li></ul></li><li><label class='ee-shut'>279: [-70.81753595429984, -13.942656385711606]<input type='checkbox' class='ee-toggle'></label><ul><li><span class='ee-k'>0:</span><span class='ee-v'>-70.81753595429984</span></li><li><span class='ee-k'>1:</span><span class='ee-v'>-13.942656385711606</span></li></ul></li><li><label class='ee-shut'>280: [-70.81753807680326, -13.942927509616188]<input type='checkbox' class='ee-toggle'></label><ul><li><span class='ee-k'>0:</span><span class='ee-v'>-70.81753807680326</span></li><li><span class='ee-k'>1:</span><span class='ee-v'>-13.942927509616188</span></li></ul></li><li><label class='ee-shut'>281: [-70.8172604842471, -13.942929582523623]<input type='checkbox' class='ee-toggle'></label><ul><li><span class='ee-k'>0:</span><span class='ee-v'>-70.8172604842471</span></li><li><span class='ee-k'>1:</span><span class='ee-v'>-13.942929582523623</span></li></ul></li><li><label class='ee-shut'>282: [-70.81726472875089, -13.94347183039567]<input type='checkbox' class='ee-toggle'></label><ul><li><span class='ee-k'>0:</span><span class='ee-v'>-70.81726472875089</span></li><li><span class='ee-k'>1:</span><span class='ee-v'>-13.94347183039567</span></li></ul></li><li><label class='ee-shut'>283: [-70.81698713550301, -13.943473903069542]<input type='checkbox' class='ee-toggle'></label><ul><li><span class='ee-k'>0:</span><span class='ee-v'>-70.81698713550301</span></li><li><span class='ee-k'>1:</span><span class='ee-v'>-13.943473903069542</span></li></ul></li><li><label class='ee-shut'>284: [-70.8169892574944, -13.943745027037007]<input type='checkbox' class='ee-toggle'></label><ul><li><span class='ee-k'>0:</span><span class='ee-v'>-70.8169892574944</span></li><li><span class='ee-k'>1:</span><span class='ee-v'>-13.943745027037007</span></li></ul></li><li><label class='ee-shut'>285: [-70.8167116638872, -13.943747099441383]<input type='checkbox' class='ee-toggle'></label><ul><li><span class='ee-k'>0:</span><span class='ee-v'>-70.8167116638872</span></li><li><span class='ee-k'>1:</span><span class='ee-v'>-13.943747099441383</span></li></ul></li><li><label class='ee-shut'>286: [-70.81671378560011, -13.94401822344478]<input type='checkbox' class='ee-toggle'></label><ul><li><span class='ee-k'>0:</span><span class='ee-v'>-70.81671378560011</span></li><li><span class='ee-k'>1:</span><span class='ee-v'>-13.94401822344478</span></li></ul></li><li><label class='ee-shut'>287: [-70.81643619161562, -13.944020295570681]<input type='checkbox' class='ee-toggle'></label><ul><li><span class='ee-k'>0:</span><span class='ee-v'>-70.81643619161562</span></li><li><span class='ee-k'>1:</span><span class='ee-v'>-13.944020295570681</span></li></ul></li><li><label class='ee-shut'>288: [-70.81643407022611, -13.943749171522368]<input type='checkbox' class='ee-toggle'></label><ul><li><span class='ee-k'>0:</span><span class='ee-v'>-70.81643407022611</span></li><li><span class='ee-k'>1:</span><span class='ee-v'>-13.943749171522368</span></li></ul></li><li><label class='ee-shut'>289: [-70.8161564765201, -13.943751243297925]<input type='checkbox' class='ee-toggle'></label><ul><li><span class='ee-k'>0:</span><span class='ee-v'>-70.8161564765201</span></li><li><span class='ee-k'>1:</span><span class='ee-v'>-13.943751243297925</span></li></ul></li><li><label class='ee-shut'>290: [-70.81615223452262, -13.943208995102484]<input type='checkbox' class='ee-toggle'></label><ul><li><span class='ee-k'>0:</span><span class='ee-v'>-70.81615223452262</span></li><li><span class='ee-k'>1:</span><span class='ee-v'>-13.943208995102484</span></li></ul></li><li><label class='ee-shut'>291: [-70.81587464141849, -13.943211066473799]<input type='checkbox' class='ee-toggle'></label><ul><li><span class='ee-k'>0:</span><span class='ee-v'>-70.81587464141849</span></li><li><span class='ee-k'>1:</span><span class='ee-v'>-13.943211066473799</span></li></ul></li><li><label class='ee-shut'>292: [-70.81587252081052, -13.94293994232667]<input type='checkbox' class='ee-toggle'></label><ul><li><span class='ee-k'>0:</span><span class='ee-v'>-70.81587252081052</span></li><li><span class='ee-k'>1:</span><span class='ee-v'>-13.94293994232667</span></li></ul></li><li><label class='ee-shut'>293: [-70.81615011358227, -13.942937871000272]<input type='checkbox' class='ee-toggle'></label><ul><li><span class='ee-k'>0:</span><span class='ee-v'>-70.81615011358227</span></li><li><span class='ee-k'>1:</span><span class='ee-v'>-13.942937871000272</span></li></ul></li><li><label class='ee-shut'>294: [-70.81614163031493, -13.941853374519559]<input type='checkbox' class='ee-toggle'></label><ul><li><span class='ee-k'>0:</span><span class='ee-v'>-70.81614163031493</span></li><li><span class='ee-k'>1:</span><span class='ee-v'>-13.941853374519559</span></li></ul></li><li><label class='ee-shut'>295: [-70.81586403882777, -13.941855445675278]<input type='checkbox' class='ee-toggle'></label><ul><li><span class='ee-k'>0:</span><span class='ee-v'>-70.81586403882777</span></li><li><span class='ee-k'>1:</span><span class='ee-v'>-13.941855445675278</span></li></ul></li><li><label class='ee-shut'>296: [-70.81585555757266, -13.94077094892507]<input type='checkbox' class='ee-toggle'></label><ul><li><span class='ee-k'>0:</span><span class='ee-v'>-70.81585555757266</span></li><li><span class='ee-k'>1:</span><span class='ee-v'>-13.94077094892507</span></li></ul></li><li><label class='ee-shut'>297: [-70.81613314776625, -13.940768877931049]<input type='checkbox' class='ee-toggle'></label><ul><li><span class='ee-k'>0:</span><span class='ee-v'>-70.81613314776625</span></li><li><span class='ee-k'>1:</span><span class='ee-v'>-13.940768877931049</span></li></ul></li><li><label class='ee-shut'>298: [-70.81610982450111, -13.937786511800606]<input type='checkbox' class='ee-toggle'></label><ul><li><span class='ee-k'>0:</span><span class='ee-v'>-70.81610982450111</span></li><li><span class='ee-k'>1:</span><span class='ee-v'>-13.937786511800606</span></li></ul></li><li><label class='ee-shut'>299: [-70.81638741108347, -13.937784440959298]<input type='checkbox' class='ee-toggle'></label><ul><li><span class='ee-k'>0:</span><span class='ee-v'>-70.81638741108347</span></li><li><span class='ee-k'>1:</span><span class='ee-v'>-13.937784440959298</span></li></ul></li><li><label class='ee-shut'>300: [-70.81638105017582, -13.936971068365201]<input type='checkbox' class='ee-toggle'></label><ul><li><span class='ee-k'>0:</span><span class='ee-v'>-70.81638105017582</span></li><li><span class='ee-k'>1:</span><span class='ee-v'>-13.936971068365201</span></li></ul></li><li><label class='ee-shut'>301: [-70.81610346456364, -13.936973139089728]<input type='checkbox' class='ee-toggle'></label><ul><li><span class='ee-k'>0:</span><span class='ee-v'>-70.81610346456364</span></li><li><span class='ee-k'>1:</span><span class='ee-v'>-13.936973139089728</span></li></ul></li><li><label class='ee-shut'>302: [-70.81610134467432, -13.936702014843787]<input type='checkbox' class='ee-toggle'></label><ul><li><span class='ee-k'>0:</span><span class='ee-v'>-70.81610134467432</span></li><li><span class='ee-k'>1:</span><span class='ee-v'>-13.936702014843787</span></li></ul></li><li><label class='ee-shut'>303: [-70.81526858853844, -13.936708224987177]<input type='checkbox' class='ee-toggle'></label><ul><li><span class='ee-k'>0:</span><span class='ee-v'>-70.81526858853844</span></li><li><span class='ee-k'>1:</span><span class='ee-v'>-13.936708224987177</span></li></ul></li><li><label class='ee-shut'>304: [-70.8152707074486, -13.936979349367867]<input type='checkbox' class='ee-toggle'></label><ul><li><span class='ee-k'>0:</span><span class='ee-v'>-70.8152707074486</span></li><li><span class='ee-k'>1:</span><span class='ee-v'>-13.936979349367867</span></li></ul></li><li><label class='ee-shut'>305: [-70.81416036400273, -13.936987625304035]<input type='checkbox' class='ee-toggle'></label><ul><li><span class='ee-k'>0:</span><span class='ee-v'>-70.81416036400273</span></li><li><span class='ee-k'>1:</span><span class='ee-v'>-13.936987625304035</span></li></ul></li><li><label class='ee-shut'>306: [-70.81416248166424, -13.937258749846421]<input type='checkbox' class='ee-toggle'></label><ul><li><span class='ee-k'>0:</span><span class='ee-v'>-70.81416248166424</span></li><li><span class='ee-k'>1:</span><span class='ee-v'>-13.937258749846421</span></li></ul></li><li><label class='ee-shut'>307: [-70.81388489536933, -13.937260818082615]<input type='checkbox' class='ee-toggle'></label><ul><li><span class='ee-k'>0:</span><span class='ee-v'>-70.81388489536933</span></li><li><span class='ee-k'>1:</span><span class='ee-v'>-13.937260818082615</span></li></ul></li><li><label class='ee-shut'>308: [-70.81388701276134, -13.937531942651951]<input type='checkbox' class='ee-toggle'></label><ul><li><span class='ee-k'>0:</span><span class='ee-v'>-70.81388701276134</span></li><li><span class='ee-k'>1:</span><span class='ee-v'>-13.937531942651951</span></li></ul></li><li><label class='ee-shut'>309: [-70.81333183937203, -13.937536078261957]<input type='checkbox' class='ee-toggle'></label><ul><li><span class='ee-k'>0:</span><span class='ee-v'>-70.81333183937203</span></li><li><span class='ee-k'>1:</span><span class='ee-v'>-13.937536078261957</span></li></ul></li><li><label class='ee-shut'>310: [-70.81334030680206, -13.93862057682676]<input type='checkbox' class='ee-toggle'></label><ul><li><span class='ee-k'>0:</span><span class='ee-v'>-70.81334030680206</span></li><li><span class='ee-k'>1:</span><span class='ee-v'>-13.93862057682676</span></li></ul></li><li><label class='ee-shut'>311: [-70.81278513064595, -13.93862471150252]<input type='checkbox' class='ee-toggle'></label><ul><li><span class='ee-k'>0:</span><span class='ee-v'>-70.81278513064595</span></li><li><span class='ee-k'>1:</span><span class='ee-v'>-13.93862471150252</span></li></ul></li><li><label class='ee-shut'>312: [-70.81278724696895, -13.938895836206601]<input type='checkbox' class='ee-toggle'></label><ul><li><span class='ee-k'>0:</span><span class='ee-v'>-70.81278724696895</span></li><li><span class='ee-k'>1:</span><span class='ee-v'>-13.938895836206601</span></li></ul></li><li><label class='ee-shut'>313: [-70.81250965850013, -13.93889790311329]<input type='checkbox' class='ee-toggle'></label><ul><li><span class='ee-k'>0:</span><span class='ee-v'>-70.81250965850013</span></li><li><span class='ee-k'>1:</span><span class='ee-v'>-13.93889790311329</span></li></ul></li><li><label class='ee-shut'>314: [-70.81251177454466, -13.939169027862288]<input type='checkbox' class='ee-toggle'></label><ul><li><span class='ee-k'>0:</span><span class='ee-v'>-70.81251177454466</span></li><li><span class='ee-k'>1:</span><span class='ee-v'>-13.939169027862288</span></li></ul></li><li><label class='ee-shut'>315: [-70.81195659682547, -13.939173160813281]<input type='checkbox' class='ee-toggle'></label><ul><li><span class='ee-k'>0:</span><span class='ee-v'>-70.81195659682547</span></li><li><span class='ee-k'>1:</span><span class='ee-v'>-13.939173160813281</span></li></ul></li><li><label class='ee-shut'>316: [-70.81195871226814, -13.939444285634146]<input type='checkbox' class='ee-toggle'></label><ul><li><span class='ee-k'>0:</span><span class='ee-v'>-70.81195871226814</span></li><li><span class='ee-k'>1:</span><span class='ee-v'>-13.939444285634146</span></li></ul></li><li><label class='ee-shut'>317: [-70.81168112301778, -13.939446351669467]<input type='checkbox' class='ee-toggle'></label><ul><li><span class='ee-k'>0:</span><span class='ee-v'>-70.81168112301778</span></li><li><span class='ee-k'>1:</span><span class='ee-v'>-13.939446351669467</span></li></ul></li><li><label class='ee-shut'>318: [-70.81168323818196, -13.939717476526264]<input type='checkbox' class='ee-toggle'></label><ul><li><span class='ee-k'>0:</span><span class='ee-v'>-70.81168323818196</span></li><li><span class='ee-k'>1:</span><span class='ee-v'>-13.939717476526264</span></li></ul></li><li><label class='ee-shut'>319: [-70.81140564856328, -13.939719542301075]<input type='checkbox' class='ee-toggle'></label><ul><li><span class='ee-k'>0:</span><span class='ee-v'>-70.81140564856328</span></li><li><span class='ee-k'>1:</span><span class='ee-v'>-13.939719542301075</span></li></ul></li><li><label class='ee-shut'>320: [-70.811407763449, -13.939990667184821]<input type='checkbox' class='ee-toggle'></label><ul><li><span class='ee-k'>0:</span><span class='ee-v'>-70.811407763449</span></li><li><span class='ee-k'>1:</span><span class='ee-v'>-13.939990667184821</span></li></ul></li><li><label class='ee-shut'>321: [-70.81113017346202, -13.939992732681153]<input type='checkbox' class='ee-toggle'></label><ul><li><span class='ee-k'>0:</span><span class='ee-v'>-70.81113017346202</span></li><li><span class='ee-k'>1:</span><span class='ee-v'>-13.939992732681153</span></li></ul></li><li><label class='ee-shut'>322: [-70.81113228806026, -13.940263857609816]<input type='checkbox' class='ee-toggle'></label><ul><li><span class='ee-k'>0:</span><span class='ee-v'>-70.81113228806026</span></li><li><span class='ee-k'>1:</span><span class='ee-v'>-13.940263857609816</span></li></ul></li><li><label class='ee-shut'>323: [-70.81085469770497, -13.94026592282767]<input type='checkbox' class='ee-toggle'></label><ul><li><span class='ee-k'>0:</span><span class='ee-v'>-70.81085469770497</span></li><li><span class='ee-k'>1:</span><span class='ee-v'>-13.94026592282767</span></li></ul></li><li><label class='ee-shut'>324: [-70.81084835499719, -13.939452547906937]<input type='checkbox' class='ee-toggle'></label><ul><li><span class='ee-k'>0:</span><span class='ee-v'>-70.81084835499719</span></li><li><span class='ee-k'>1:</span><span class='ee-v'>-13.939452547906937</span></li></ul></li><li><label class='ee-shut'>325: [-70.8111259443823, -13.939450482805864]<input type='checkbox' class='ee-toggle'></label><ul><li><span class='ee-k'>0:</span><span class='ee-v'>-70.8111259443823</span></li><li><span class='ee-k'>1:</span><span class='ee-v'>-13.939450482805864</span></li></ul></li><li><label class='ee-shut'>326: [-70.81112171548226, -13.938908232912608]<input type='checkbox' class='ee-toggle'></label><ul><li><span class='ee-k'>0:</span><span class='ee-v'>-70.81112171548226</span></li><li><span class='ee-k'>1:</span><span class='ee-v'>-13.938908232912608</span></li></ul></li><li><label class='ee-shut'>327: [-70.81084412674393, -13.938910297923849]<input type='checkbox' class='ee-toggle'></label><ul><li><span class='ee-k'>0:</span><span class='ee-v'>-70.81084412674393</span></li><li><span class='ee-k'>1:</span><span class='ee-v'>-13.938910297923849</span></li></ul></li><li><label class='ee-shut'>328: [-70.81084201268467, -13.938639172923322]<input type='checkbox' class='ee-toggle'></label><ul><li><span class='ee-k'>0:</span><span class='ee-v'>-70.81084201268467</span></li><li><span class='ee-k'>1:</span><span class='ee-v'>-13.938639172923322</span></li></ul></li><li><label class='ee-shut'>329: [-70.81056442422482, -13.938641237575238]<input type='checkbox' class='ee-toggle'></label><ul><li><span class='ee-k'>0:</span><span class='ee-v'>-70.81056442422482</span></li><li><span class='ee-k'>1:</span><span class='ee-v'>-13.938641237575238</span></li></ul></li><li><label class='ee-shut'>330: [-70.8105665379607, -13.938912362611699]<input type='checkbox' class='ee-toggle'></label><ul><li><span class='ee-k'>0:</span><span class='ee-v'>-70.8105665379607</span></li><li><span class='ee-k'>1:</span><span class='ee-v'>-13.938912362611699</span></li></ul></li><li><label class='ee-shut'>331: [-70.8097337713325, -13.938918554797766]<input type='checkbox' class='ee-toggle'></label><ul><li><span class='ee-k'>0:</span><span class='ee-v'>-70.8097337713325</span></li><li><span class='ee-k'>1:</span><span class='ee-v'>-13.938918554797766</span></li></ul></li><li><label class='ee-shut'>332: [-70.80973165856682, -13.938647429635543]<input type='checkbox' class='ee-toggle'></label><ul><li><span class='ee-k'>0:</span><span class='ee-v'>-70.80973165856682</span></li><li><span class='ee-k'>1:</span><span class='ee-v'>-13.938647429635543</span></li></ul></li><li><label class='ee-shut'>333: [-70.81000924717038, -13.938645365926858]<input type='checkbox' class='ee-toggle'></label><ul><li><span class='ee-k'>0:</span><span class='ee-v'>-70.81000924717038</span></li><li><span class='ee-k'>1:</span><span class='ee-v'>-13.938645365926858</span></li></ul></li><li><label class='ee-shut'>334: [-70.81000502112698, -13.93810311565631]<input type='checkbox' class='ee-toggle'></label><ul><li><span class='ee-k'>0:</span><span class='ee-v'>-70.81000502112698</span></li><li><span class='ee-k'>1:</span><span class='ee-v'>-13.93810311565631</span></li></ul></li><li><label class='ee-shut'>335: [-70.81028260903886, -13.938101051723045]<input type='checkbox' class='ee-toggle'></label><ul><li><span class='ee-k'>0:</span><span class='ee-v'>-70.81028260903886</span></li><li><span class='ee-k'>1:</span><span class='ee-v'>-13.938101051723045</span></li></ul></li><li><label class='ee-shut'>336: [-70.81027204311737, -13.936745426145487]<input type='checkbox' class='ee-toggle'></label><ul><li><span class='ee-k'>0:</span><span class='ee-v'>-70.81027204311737</span></li><li><span class='ee-k'>1:</span><span class='ee-v'>-13.936745426145487</span></li></ul></li><li><label class='ee-shut'>337: [-70.80999445683145, -13.93674748987214]<input type='checkbox' class='ee-toggle'></label><ul><li><span class='ee-k'>0:</span><span class='ee-v'>-70.80999445683145</span></li><li><span class='ee-k'>1:</span><span class='ee-v'>-13.93674748987214</span></li></ul></li><li><label class='ee-shut'>338: [-70.80998600620889, -13.935662989133412]<input type='checkbox' class='ee-toggle'></label><ul><li><span class='ee-k'>0:</span><span class='ee-v'>-70.80998600620889</span></li><li><span class='ee-k'>1:</span><span class='ee-v'>-13.935662989133412</span></li></ul></li><li><label class='ee-shut'>339: [-70.80970842117162, -13.935665052374974]<input type='checkbox' class='ee-toggle'></label><ul><li><span class='ee-k'>0:</span><span class='ee-v'>-70.80970842117162</span></li><li><span class='ee-k'>1:</span><span class='ee-v'>-13.935665052374974</span></li></ul></li><li><label class='ee-shut'>340: [-70.80968941282022, -13.933224924962746]<input type='checkbox' class='ee-toggle'></label><ul><li><span class='ee-k'>0:</span><span class='ee-v'>-70.80968941282022</span></li><li><span class='ee-k'>1:</span><span class='ee-v'>-13.933224924962746</span></li></ul></li><li><label class='ee-shut'>341: [-70.80996699494693, -13.933222862089494]<input type='checkbox' class='ee-toggle'></label><ul><li><span class='ee-k'>0:</span><span class='ee-v'>-70.80996699494693</span></li><li><span class='ee-k'>1:</span><span class='ee-v'>-13.933222862089494</span></li></ul></li><li><label class='ee-shut'>342: [-70.8099606586711, -13.932409486297395]<input type='checkbox' class='ee-toggle'></label><ul><li><span class='ee-k'>0:</span><span class='ee-v'>-70.8099606586711</span></li><li><span class='ee-k'>1:</span><span class='ee-v'>-13.932409486297395</span></li></ul></li><li><label class='ee-shut'>343: [-70.80968307751455, -13.9324115490359]<input type='checkbox' class='ee-toggle'></label><ul><li><span class='ee-k'>0:</span><span class='ee-v'>-70.80968307751455</span></li><li><span class='ee-k'>1:</span><span class='ee-v'>-13.9324115490359</span></li></ul></li><li><label class='ee-shut'>344: [-70.80967885421101, -13.931869298397041]<input type='checkbox' class='ee-toggle'></label><ul><li><span class='ee-k'>0:</span><span class='ee-v'>-70.80967885421101</span></li><li><span class='ee-k'>1:</span><span class='ee-v'>-13.931869298397041</span></li></ul></li><li><label class='ee-shut'>345: [-70.80940127365633, -13.931871360740287]<input type='checkbox' class='ee-toggle'></label><ul><li><span class='ee-k'>0:</span><span class='ee-v'>-70.80940127365633</span></li><li><span class='ee-k'>1:</span><span class='ee-v'>-13.931871360740287</span></li></ul></li><li><label class='ee-shut'>346: [-70.80939916239085, -13.931600235362469]<input type='checkbox' class='ee-toggle'></label><ul><li><span class='ee-k'>0:</span><span class='ee-v'>-70.80939916239085</span></li><li><span class='ee-k'>1:</span><span class='ee-v'>-13.931600235362469</span></li></ul></li><li><label class='ee-shut'>347: [-70.80912158211466, -13.93160229735537]<input type='checkbox' class='ee-toggle'></label><ul><li><span class='ee-k'>0:</span><span class='ee-v'>-70.80912158211466</span></li><li><span class='ee-k'>1:</span><span class='ee-v'>-13.93160229735537</span></li></ul></li><li><label class='ee-shut'>348: [-70.80911947121746, -13.931331171932635]<input type='checkbox' class='ee-toggle'></label><ul><li><span class='ee-k'>0:</span><span class='ee-v'>-70.80911947121746</span></li><li><span class='ee-k'>1:</span><span class='ee-v'>-13.931331171932635</span></li></ul></li><li><label class='ee-shut'>349: [-70.80884189121974, -13.931333233566212]<input type='checkbox' class='ee-toggle'></label><ul><li><span class='ee-k'>0:</span><span class='ee-v'>-70.80884189121974</span></li><li><span class='ee-k'>1:</span><span class='ee-v'>-13.931333233566212</span></li></ul></li><li><label class='ee-shut'>350: [-70.80883978069986, -13.931062108089579]<input type='checkbox' class='ee-toggle'></label><ul><li><span class='ee-k'>0:</span><span class='ee-v'>-70.80883978069986</span></li><li><span class='ee-k'>1:</span><span class='ee-v'>-13.931062108089579</span></li></ul></li><li><label class='ee-shut'>351: [-70.8071743017107, -13.93107447099198]<input type='checkbox' class='ee-toggle'></label><ul><li><span class='ee-k'>0:</span><span class='ee-v'>-70.8071743017107</span></li><li><span class='ee-k'>1:</span><span class='ee-v'>-13.93107447099198</span></li></ul></li><li><label class='ee-shut'>352: [-70.80717641029023, -13.931345596711159]<input type='checkbox' class='ee-toggle'></label><ul><li><span class='ee-k'>0:</span><span class='ee-v'>-70.80717641029023</span></li><li><span class='ee-k'>1:</span><span class='ee-v'>-13.931345596711159</span></li></ul></li><li><label class='ee-shut'>353: [-70.80662124962106, -13.931349715226226]<input type='checkbox' class='ee-toggle'></label><ul><li><span class='ee-k'>0:</span><span class='ee-v'>-70.80662124962106</span></li><li><span class='ee-k'>1:</span><span class='ee-v'>-13.931349715226226</span></li></ul></li><li><label class='ee-shut'>354: [-70.8066233576077, -13.931620841026254]<input type='checkbox' class='ee-toggle'></label><ul><li><span class='ee-k'>0:</span><span class='ee-v'>-70.8066233576077</span></li><li><span class='ee-k'>1:</span><span class='ee-v'>-13.931620841026254</span></li></ul></li><li><label class='ee-shut'>355: [-70.80551303442783, -13.931629074445159]<input type='checkbox' class='ee-toggle'></label><ul><li><span class='ee-k'>0:</span><span class='ee-v'>-70.80551303442783</span></li><li><span class='ee-k'>1:</span><span class='ee-v'>-13.931629074445159</span></li></ul></li><li><label class='ee-shut'>356: [-70.80551514116581, -13.9319002003979]<input type='checkbox' class='ee-toggle'></label><ul><li><span class='ee-k'>0:</span><span class='ee-v'>-70.80551514116581</span></li><li><span class='ee-k'>1:</span><span class='ee-v'>-13.9319002003979</span></li></ul></li><li><label class='ee-shut'>357: [-70.80440481596473, -13.931908428929969]<input type='checkbox' class='ee-toggle'></label><ul><li><span class='ee-k'>0:</span><span class='ee-v'>-70.80440481596473</span></li><li><span class='ee-k'>1:</span><span class='ee-v'>-13.931908428929969</span></li></ul></li><li><label class='ee-shut'>358: [-70.80440692145406, -13.932179555044407]<input type='checkbox' class='ee-toggle'></label><ul><li><span class='ee-k'>0:</span><span class='ee-v'>-70.80440692145406</span></li><li><span class='ee-k'>1:</span><span class='ee-v'>-13.932179555044407</span></li></ul></li><li><label class='ee-shut'>359: [-70.80357417611594, -13.93218572325444]<input type='checkbox' class='ee-toggle'></label><ul><li><span class='ee-k'>0:</span><span class='ee-v'>-70.80357417611594</span></li><li><span class='ee-k'>1:</span><span class='ee-v'>-13.93218572325444</span></li></ul></li><li><label class='ee-shut'>360: [-70.80357628068, -13.932456849485659]<input type='checkbox' class='ee-toggle'></label><ul><li><span class='ee-k'>0:</span><span class='ee-v'>-70.80357628068</span></li><li><span class='ee-k'>1:</span><span class='ee-v'>-13.932456849485659</span></li></ul></li><li><label class='ee-shut'>361: [-70.8030211162469, -13.932460960122501]<input type='checkbox' class='ee-toggle'></label><ul><li><span class='ee-k'>0:</span><span class='ee-v'>-70.8030211162469</span></li><li><span class='ee-k'>1:</span><span class='ee-v'>-13.932460960122501</span></li></ul></li><li><label class='ee-shut'>362: [-70.80301901232961, -13.932189833810433]<input type='checkbox' class='ee-toggle'></label><ul><li><span class='ee-k'>0:</span><span class='ee-v'>-70.80301901232961</span></li><li><span class='ee-k'>1:</span><span class='ee-v'>-13.932189833810433</span></li></ul></li><li><label class='ee-shut'>363: [-70.80329659424973, -13.932187778689642]<input type='checkbox' class='ee-toggle'></label><ul><li><span class='ee-k'>0:</span><span class='ee-v'>-70.80329659424973</span></li><li><span class='ee-k'>1:</span><span class='ee-v'>-13.932187778689642</span></li></ul></li><li><label class='ee-shut'>364: [-70.80329449005397, -13.931916652404524]<input type='checkbox' class='ee-toggle'></label><ul><li><span class='ee-k'>0:</span><span class='ee-v'>-70.80329449005397</span></li><li><span class='ee-k'>1:</span><span class='ee-v'>-13.931916652404524</span></li></ul></li><li><label class='ee-shut'>365: [-70.80357207159679, -13.931914597005255]<input type='checkbox' class='ee-toggle'></label><ul><li><span class='ee-k'>0:</span><span class='ee-v'>-70.80357207159679</span></li><li><span class='ee-k'>1:</span><span class='ee-v'>-13.931914597005255</span></li></ul></li><li><label class='ee-shut'>366: [-70.80356996713154, -13.931643470765053]<input type='checkbox' class='ee-toggle'></label><ul><li><span class='ee-k'>0:</span><span class='ee-v'>-70.80356996713154</span></li><li><span class='ee-k'>1:</span><span class='ee-v'>-13.931643470765053</span></li></ul></li><li><label class='ee-shut'>367: [-70.80384754830605, -13.931641415096289]<input type='checkbox' class='ee-toggle'></label><ul><li><span class='ee-k'>0:</span><span class='ee-v'>-70.80384754830605</span></li><li><span class='ee-k'>1:</span><span class='ee-v'>-13.931641415096289</span></li></ul></li><li><label class='ee-shut'>368: [-70.80384544356232, -13.931370288883036]<input type='checkbox' class='ee-toggle'></label><ul><li><span class='ee-k'>0:</span><span class='ee-v'>-70.80384544356232</span></li><li><span class='ee-k'>1:</span><span class='ee-v'>-13.931370288883036</span></li></ul></li><li><label class='ee-shut'>369: [-70.80412302436852, -13.931368232935796]<input type='checkbox' class='ee-toggle'></label><ul><li><span class='ee-k'>0:</span><span class='ee-v'>-70.80412302436852</span></li><li><span class='ee-k'>1:</span><span class='ee-v'>-13.931368232935796</span></li></ul></li><li><label class='ee-shut'>370: [-70.80411881436004, -13.930825980572171]<input type='checkbox' class='ee-toggle'></label><ul><li><span class='ee-k'>0:</span><span class='ee-v'>-70.80411881436004</span></li><li><span class='ee-k'>1:</span><span class='ee-v'>-13.930825980572171</span></li></ul></li><li><label class='ee-shut'>371: [-70.80384123419165, -13.930828036438564]<input type='checkbox' class='ee-toggle'></label><ul><li><span class='ee-k'>0:</span><span class='ee-v'>-70.80384123419165</span></li><li><span class='ee-k'>1:</span><span class='ee-v'>-13.930828036438564</span></li></ul></li><li><label class='ee-shut'>372: [-70.80383702500961, -13.930285783967143]<input type='checkbox' class='ee-toggle'></label><ul><li><span class='ee-k'>0:</span><span class='ee-v'>-70.80383702500961</span></li><li><span class='ee-k'>1:</span><span class='ee-v'>-13.930285783967143</span></li></ul></li><li><label class='ee-shut'>373: [-70.80355944545208, -13.930287839429294]<input type='checkbox' class='ee-toggle'></label><ul><li><span class='ee-k'>0:</span><span class='ee-v'>-70.80355944545208</span></li><li><span class='ee-k'>1:</span><span class='ee-v'>-13.930287839429294</span></li></ul></li><li><label class='ee-shut'>374: [-70.80355734125632, -13.930016713144177]<input type='checkbox' class='ee-toggle'></label><ul><li><span class='ee-k'>0:</span><span class='ee-v'>-70.80355734125632</span></li><li><span class='ee-k'>1:</span><span class='ee-v'>-13.930016713144177</span></li></ul></li><li><label class='ee-shut'>375: [-70.80272460326643, -13.930022877500438]<input type='checkbox' class='ee-toggle'></label><ul><li><span class='ee-k'>0:</span><span class='ee-v'>-70.80272460326643</span></li><li><span class='ee-k'>1:</span><span class='ee-v'>-13.930022877500438</span></li></ul></li><li><label class='ee-shut'>376: [-70.80272250008576, -13.929751751089555]<input type='checkbox' class='ee-toggle'></label><ul><li><span class='ee-k'>0:</span><span class='ee-v'>-70.80272250008576</span></li><li><span class='ee-k'>1:</span><span class='ee-v'>-13.929751751089555</span></li></ul></li><li><label class='ee-shut'>377: [-70.80244492099534, -13.929753805204234]<input type='checkbox' class='ee-toggle'></label><ul><li><span class='ee-k'>0:</span><span class='ee-v'>-70.80244492099534</span></li><li><span class='ee-k'>1:</span><span class='ee-v'>-13.929753805204234</span></li></ul></li><li><label class='ee-shut'>378: [-70.80244281817401, -13.929482678739452]<input type='checkbox' class='ee-toggle'></label><ul><li><span class='ee-k'>0:</span><span class='ee-v'>-70.80244281817401</span></li><li><span class='ee-k'>1:</span><span class='ee-v'>-13.929482678739452</span></li></ul></li><li><label class='ee-shut'>379: [-70.80188766049623, -13.929486785935746]<input type='checkbox' class='ee-toggle'></label><ul><li><span class='ee-k'>0:</span><span class='ee-v'>-70.80188766049623</span></li><li><span class='ee-k'>1:</span><span class='ee-v'>-13.929486785935746</span></li></ul></li><li><label class='ee-shut'>380: [-70.8018771503242, -13.928131153099802]<input type='checkbox' class='ee-toggle'></label><ul><li><span class='ee-k'>0:</span><span class='ee-v'>-70.8018771503242</span></li><li><span class='ee-k'>1:</span><span class='ee-v'>-13.928131153099802</span></li></ul></li><li><label class='ee-shut'>381: [-70.8015995730394, -13.928133206019721]<input type='checkbox' class='ee-toggle'></label><ul><li><span class='ee-k'>0:</span><span class='ee-v'>-70.8015995730394</span></li><li><span class='ee-k'>1:</span><span class='ee-v'>-13.928133206019721</span></li></ul></li><li><label class='ee-shut'>382: [-70.80159747145774, -13.92786207938426]<input type='checkbox' class='ee-toggle'></label><ul><li><span class='ee-k'>0:</span><span class='ee-v'>-70.80159747145774</span></li><li><span class='ee-k'>1:</span><span class='ee-v'>-13.92786207938426</span></li></ul></li><li><label class='ee-shut'>383: [-70.80131989445141, -13.927864131944853]<input type='checkbox' class='ee-toggle'></label><ul><li><span class='ee-k'>0:</span><span class='ee-v'>-70.80131989445141</span></li><li><span class='ee-k'>1:</span><span class='ee-v'>-13.927864131944853</span></li></ul></li><li><label class='ee-shut'>384: [-70.80132199570069, -13.928135258616246]<input type='checkbox' class='ee-toggle'></label><ul><li><span class='ee-k'>0:</span><span class='ee-v'>-70.80132199570069</span></li><li><span class='ee-k'>1:</span><span class='ee-v'>-13.928135258616246</span></li></ul></li><li><label class='ee-shut'>385: [-70.80104441832606, -13.92813731089836]<input type='checkbox' class='ee-toggle'></label><ul><li><span class='ee-k'>0:</span><span class='ee-v'>-70.80104441832606</span></li><li><span class='ee-k'>1:</span><span class='ee-v'>-13.92813731089836</span></li></ul></li><li><label class='ee-shut'>386: [-70.8010423173912, -13.927866184191034]<input type='checkbox' class='ee-toggle'></label><ul><li><span class='ee-k'>0:</span><span class='ee-v'>-70.8010423173912</span></li><li><span class='ee-k'>1:</span><span class='ee-v'>-13.927866184191034</span></li></ul></li><li><label class='ee-shut'>387: [-70.80076474029504, -13.927868236122807]<input type='checkbox' class='ee-toggle'></label><ul><li><span class='ee-k'>0:</span><span class='ee-v'>-70.80076474029504</span></li><li><span class='ee-k'>1:</span><span class='ee-v'>-13.927868236122807</span></li></ul></li><li><label class='ee-shut'>388: [-70.80076263973746, -13.927597109361582]<input type='checkbox' class='ee-toggle'></label><ul><li><span class='ee-k'>0:</span><span class='ee-v'>-70.80076263973746</span></li><li><span class='ee-k'>1:</span><span class='ee-v'>-13.927597109361582</span></li></ul></li><li><label class='ee-shut'>389: [-70.8004850629108, -13.927599160934028]<input type='checkbox' class='ee-toggle'></label><ul><li><span class='ee-k'>0:</span><span class='ee-v'>-70.8004850629108</span></li><li><span class='ee-k'>1:</span><span class='ee-v'>-13.927599160934028</span></li></ul></li><li><label class='ee-shut'>390: [-70.80048296272152, -13.927328034127887]<input type='checkbox' class='ee-toggle'></label><ul><li><span class='ee-k'>0:</span><span class='ee-v'>-70.80048296272152</span></li><li><span class='ee-k'>1:</span><span class='ee-v'>-13.927328034127887</span></li></ul></li><li><label class='ee-shut'>391: [-70.80020538617333, -13.927330085341007]<input type='checkbox' class='ee-toggle'></label><ul><li><span class='ee-k'>0:</span><span class='ee-v'>-70.80020538617333</span></li><li><span class='ee-k'>1:</span><span class='ee-v'>-13.927330085341007</span></li></ul></li><li><label class='ee-shut'>392: [-70.80020118656735, -13.92678783162991]<input type='checkbox' class='ee-toggle'></label><ul><li><span class='ee-k'>0:</span><span class='ee-v'>-70.80020118656735</span></li><li><span class='ee-k'>1:</span><span class='ee-v'>-13.92678783162991</span></li></ul></li><li><label class='ee-shut'>393: [-70.79992361063002, -13.926789882438788]<input type='checkbox' class='ee-toggle'></label><ul><li><span class='ee-k'>0:</span><span class='ee-v'>-70.79992361063002</span></li><li><span class='ee-k'>1:</span><span class='ee-v'>-13.926789882438788</span></li></ul></li><li><label class='ee-shut'>394: [-70.79992151122228, -13.926518755533833]<input type='checkbox' class='ee-toggle'></label><ul><li><span class='ee-k'>0:</span><span class='ee-v'>-70.79992151122228</span></li><li><span class='ee-k'>1:</span><span class='ee-v'>-13.926518755533833</span></li></ul></li><li><label class='ee-shut'>395: [-70.79964393555446, -13.926520805992368]<input type='checkbox' class='ee-toggle'></label><ul><li><span class='ee-k'>0:</span><span class='ee-v'>-70.79964393555446</span></li><li><span class='ee-k'>1:</span><span class='ee-v'>-13.926520805992368</span></li></ul></li><li><label class='ee-shut'>396: [-70.79964183651502, -13.926249679033512]<input type='checkbox' class='ee-toggle'></label><ul><li><span class='ee-k'>0:</span><span class='ee-v'>-70.79964183651502</span></li><li><span class='ee-k'>1:</span><span class='ee-v'>-13.926249679033512</span></li></ul></li><li><label class='ee-shut'>397: [-70.80019698715002, -13.92624557788288]<input type='checkbox' class='ee-toggle'></label><ul><li><span class='ee-k'>0:</span><span class='ee-v'>-70.80019698715002</span></li><li><span class='ee-k'>1:</span><span class='ee-v'>-13.92624557788288</span></li></ul></li><li><label class='ee-shut'>398: [-70.80019278790336, -13.925703324117887]<input type='checkbox' class='ee-toggle'></label><ul><li><span class='ee-k'>0:</span><span class='ee-v'>-70.80019278790336</span></li><li><span class='ee-k'>1:</span><span class='ee-v'>-13.925703324117887</span></li></ul></li><li><label class='ee-shut'>399: [-70.79936006381936, -13.925709475125181]<input type='checkbox' class='ee-toggle'></label><ul><li><span class='ee-k'>0:</span><span class='ee-v'>-70.79936006381936</span></li><li><span class='ee-k'>1:</span><span class='ee-v'>-13.925709475125181</span></li></ul></li><li><label class='ee-shut'>400: [-70.79935796523809, -13.925438348103444]<input type='checkbox' class='ee-toggle'></label><ul><li><span class='ee-k'>0:</span><span class='ee-v'>-70.79935796523809</span></li><li><span class='ee-k'>1:</span><span class='ee-v'>-13.925438348103444</span></li></ul></li><li><label class='ee-shut'>401: [-70.799080390774, -13.925440397762479]<input type='checkbox' class='ee-toggle'></label><ul><li><span class='ee-k'>0:</span><span class='ee-v'>-70.799080390774</span></li><li><span class='ee-k'>1:</span><span class='ee-v'>-13.925440397762479</span></li></ul></li><li><label class='ee-shut'>402: [-70.79907829256102, -13.925169270695827]<input type='checkbox' class='ee-toggle'></label><ul><li><span class='ee-k'>0:</span><span class='ee-v'>-70.79907829256102</span></li><li><span class='ee-k'>1:</span><span class='ee-v'>-13.925169270695827</span></li></ul></li><li><label class='ee-shut'>403: [-70.7988007183754, -13.925171320004518]<input type='checkbox' class='ee-toggle'></label><ul><li><span class='ee-k'>0:</span><span class='ee-v'>-70.7988007183754</span></li><li><span class='ee-k'>1:</span><span class='ee-v'>-13.925171320004518</span></li></ul></li><li><label class='ee-shut'>404: [-70.79879442496717, -13.924357938651848]<input type='checkbox' class='ee-toggle'></label><ul><li><span class='ee-k'>0:</span><span class='ee-v'>-70.79879442496717</span></li><li><span class='ee-k'>1:</span><span class='ee-v'>-13.924357938651848</span></li></ul></li><li><label class='ee-shut'>405: [-70.79796170506036, -13.924364084287218]<input type='checkbox' class='ee-toggle'></label><ul><li><span class='ee-k'>0:</span><span class='ee-v'>-70.79796170506036</span></li><li><span class='ee-k'>1:</span><span class='ee-v'>-13.924364084287218</span></li></ul></li><li><label class='ee-shut'>406: [-70.797963801854, -13.924635211533534]<input type='checkbox' class='ee-toggle'></label><ul><li><span class='ee-k'>0:</span><span class='ee-v'>-70.797963801854</span></li><li><span class='ee-k'>1:</span><span class='ee-v'>-13.924635211533534</span></li></ul></li><li><label class='ee-shut'>407: [-70.79740865438107, -13.924639307132576]<input type='checkbox' class='ee-toggle'></label><ul><li><span class='ee-k'>0:</span><span class='ee-v'>-70.79740865438107</span></li><li><span class='ee-k'>1:</span><span class='ee-v'>-13.924639307132576</span></li></ul></li><li><label class='ee-shut'>408: [-70.79741494307315, -13.925452689087118]<input type='checkbox' class='ee-toggle'></label><ul><li><span class='ee-k'>0:</span><span class='ee-v'>-70.79741494307315</span></li><li><span class='ee-k'>1:</span><span class='ee-v'>-13.925452689087118</span></li></ul></li><li><label class='ee-shut'>409: [-70.79713736830364, -13.925454736536297]<input type='checkbox' class='ee-toggle'></label><ul><li><span class='ee-k'>0:</span><span class='ee-v'>-70.79713736830364</span></li><li><span class='ee-k'>1:</span><span class='ee-v'>-13.925454736536297</span></li></ul></li><li><label class='ee-shut'>410: [-70.79713946429777, -13.92572586389041]<input type='checkbox' class='ee-toggle'></label><ul><li><span class='ee-k'>0:</span><span class='ee-v'>-70.79713946429777</span></li><li><span class='ee-k'>1:</span><span class='ee-v'>-13.92572586389041</span></li></ul></li><li><label class='ee-shut'>411: [-70.79686188915994, -13.925727911061111]<input type='checkbox' class='ee-toggle'></label><ul><li><span class='ee-k'>0:</span><span class='ee-v'>-70.79686188915994</span></li><li><span class='ee-k'>1:</span><span class='ee-v'>-13.925727911061111</span></li></ul></li><li><label class='ee-shut'>412: [-70.79686817645064, -13.926541293195315]<input type='checkbox' class='ee-toggle'></label><ul><li><span class='ee-k'>0:</span><span class='ee-v'>-70.79686817645064</span></li><li><span class='ee-k'>1:</span><span class='ee-v'>-13.926541293195315</span></li></ul></li><li><label class='ee-shut'>413: [-70.79659060028874, -13.926543340177371]<input type='checkbox' class='ee-toggle'></label><ul><li><span class='ee-k'>0:</span><span class='ee-v'>-70.79659060028874</span></li><li><span class='ee-k'>1:</span><span class='ee-v'>-13.926543340177371</span></li></ul></li><li><label class='ee-shut'>414: [-70.79659479139667, -13.927085594975429]<input type='checkbox' class='ee-toggle'></label><ul><li><span class='ee-k'>0:</span><span class='ee-v'>-70.79659479139667</span></li><li><span class='ee-k'>1:</span><span class='ee-v'>-13.927085594975429</span></li></ul></li><li><label class='ee-shut'>415: [-70.79631721455203, -13.927087641732903]<input type='checkbox' class='ee-toggle'></label><ul><li><span class='ee-k'>0:</span><span class='ee-v'>-70.79631721455203</span></li><li><span class='ee-k'>1:</span><span class='ee-v'>-13.927087641732903</span></li></ul></li><li><label class='ee-shut'>416: [-70.79632350057612, -13.92790102401084]<input type='checkbox' class='ee-toggle'></label><ul><li><span class='ee-k'>0:</span><span class='ee-v'>-70.79632350057612</span></li><li><span class='ee-k'>1:</span><span class='ee-v'>-13.92790102401084</span></li></ul></li><li><label class='ee-shut'>417: [-70.7960459227164, -13.927903070570686]<input type='checkbox' class='ee-toggle'></label><ul><li><span class='ee-k'>0:</span><span class='ee-v'>-70.7960459227164</span></li><li><span class='ee-k'>1:</span><span class='ee-v'>-13.927903070570686</span></li></ul></li><li><label class='ee-shut'>418: [-70.79604382764752, -13.927631943108775]<input type='checkbox' class='ee-toggle'></label><ul><li><span class='ee-k'>0:</span><span class='ee-v'>-70.79604382764752</span></li><li><span class='ee-k'>1:</span><span class='ee-v'>-13.927631943108775</span></li></ul></li><li><label class='ee-shut'>419: [-70.79576625006628, -13.927633989309296]<input type='checkbox' class='ee-toggle'></label><ul><li><span class='ee-k'>0:</span><span class='ee-v'>-70.79576625006628</span></li><li><span class='ee-k'>1:</span><span class='ee-v'>-13.927633989309296</span></li></ul></li><li><label class='ee-shut'>420: [-70.79576834480277, -13.927905116816122]<input type='checkbox' class='ee-toggle'></label><ul><li><span class='ee-k'>0:</span><span class='ee-v'>-70.79576834480277</span></li><li><span class='ee-k'>1:</span><span class='ee-v'>-13.927905116816122</span></li></ul></li><li><label class='ee-shut'>421: [-70.79549076685322, -13.927907162738165]<input type='checkbox' class='ee-toggle'></label><ul><li><span class='ee-k'>0:</span><span class='ee-v'>-70.79549076685322</span></li><li><span class='ee-k'>1:</span><span class='ee-v'>-13.927907162738165</span></li></ul></li><li><label class='ee-shut'>422: [-70.79549286131123, -13.928178290280924]<input type='checkbox' class='ee-toggle'></label><ul><li><span class='ee-k'>0:</span><span class='ee-v'>-70.79549286131123</span></li><li><span class='ee-k'>1:</span><span class='ee-v'>-13.928178290280924</span></li></ul></li><li><label class='ee-shut'>423: [-70.79521528299337, -13.928180335933472]<input type='checkbox' class='ee-toggle'></label><ul><li><span class='ee-k'>0:</span><span class='ee-v'>-70.79521528299337</span></li><li><span class='ee-k'>1:</span><span class='ee-v'>-13.928180335933472</span></li></ul></li><li><label class='ee-shut'>424: [-70.79522156567572, -13.928993718633615]<input type='checkbox' class='ee-toggle'></label><ul><li><span class='ee-k'>0:</span><span class='ee-v'>-70.79522156567572</span></li><li><span class='ee-k'>1:</span><span class='ee-v'>-13.928993718633615</span></li></ul></li><li><label class='ee-shut'>425: [-70.79494398634276, -13.928995764097518]<input type='checkbox' class='ee-toggle'></label><ul><li><span class='ee-k'>0:</span><span class='ee-v'>-70.79494398634276</span></li><li><span class='ee-k'>1:</span><span class='ee-v'>-13.928995764097518</span></li></ul></li><li><label class='ee-shut'>426: [-70.79494817437845, -13.92953801928185]<input type='checkbox' class='ee-toggle'></label><ul><li><span class='ee-k'>0:</span><span class='ee-v'>-70.79494817437845</span></li><li><span class='ee-k'>1:</span><span class='ee-v'>-13.92953801928185</span></li></ul></li><li><label class='ee-shut'>427: [-70.7946705943448, -13.92954006451219]<input type='checkbox' class='ee-toggle'></label><ul><li><span class='ee-k'>0:</span><span class='ee-v'>-70.7946705943448</span></li><li><span class='ee-k'>1:</span><span class='ee-v'>-13.92954006451219</span></li></ul></li><li><label class='ee-shut'>428: [-70.79467478191336, -13.930082319750422]<input type='checkbox' class='ee-toggle'></label><ul><li><span class='ee-k'>0:</span><span class='ee-v'>-70.79467478191336</span></li><li><span class='ee-k'>1:</span><span class='ee-v'>-13.930082319750422</span></li></ul></li><li><label class='ee-shut'>429: [-70.79439720119699, -13.9300843647472]<input type='checkbox' class='ee-toggle'></label><ul><li><span class='ee-k'>0:</span><span class='ee-v'>-70.79439720119699</span></li><li><span class='ee-k'>1:</span><span class='ee-v'>-13.9300843647472</span></li></ul></li><li><label class='ee-shut'>430: [-70.79439301427522, -13.929542109419137]<input type='checkbox' class='ee-toggle'></label><ul><li><span class='ee-k'>0:</span><span class='ee-v'>-70.79439301427522</span></li><li><span class='ee-k'>1:</span><span class='ee-v'>-13.929542109419137</span></li></ul></li><li><label class='ee-shut'>431: [-70.793560273788, -13.929548242253514]<input type='checkbox' class='ee-toggle'></label><ul><li><span class='ee-k'>0:</span><span class='ee-v'>-70.793560273788</span></li><li><span class='ee-k'>1:</span><span class='ee-v'>-13.929548242253514</span></li></ul></li><li><label class='ee-shut'>432: [-70.79355399665724, -13.928734858843702]<input type='checkbox' class='ee-toggle'></label><ul><li><span class='ee-k'>0:</span><span class='ee-v'>-70.79355399665724</span></li><li><span class='ee-k'>1:</span><span class='ee-v'>-13.928734858843702</span></li></ul></li><li><label class='ee-shut'>433: [-70.79383157589139, -13.92873281500575]<input type='checkbox' class='ee-toggle'></label><ul><li><span class='ee-k'>0:</span><span class='ee-v'>-70.79383157589139</span></li><li><span class='ee-k'>1:</span><span class='ee-v'>-13.92873281500575</span></li></ul></li><li><label class='ee-shut'>434: [-70.79381483625319, -13.926563792633484]<input type='checkbox' class='ee-toggle'></label><ul><li><span class='ee-k'>0:</span><span class='ee-v'>-70.79381483625319</span></li><li><span class='ee-k'>1:</span><span class='ee-v'>-13.926563792633484</span></li></ul></li><li><label class='ee-shut'>435: [-70.79409241285528, -13.9265617488135]<input type='checkbox' class='ee-toggle'></label><ul><li><span class='ee-k'>0:</span><span class='ee-v'>-70.79409241285528</span></li><li><span class='ee-k'>1:</span><span class='ee-v'>-13.9265617488135</span></li></ul></li><li><label class='ee-shut'>436: [-70.79407148910703, -13.923850470681977]<input type='checkbox' class='ee-toggle'></label><ul><li><span class='ee-k'>0:</span><span class='ee-v'>-70.79407148910703</span></li><li><span class='ee-k'>1:</span><span class='ee-v'>-13.923850470681977</span></li></ul></li><li><label class='ee-shut'>437: [-70.79434906243924, -13.923848426960806]<input type='checkbox' class='ee-toggle'></label><ul><li><span class='ee-k'>0:</span><span class='ee-v'>-70.79434906243924</span></li><li><span class='ee-k'>1:</span><span class='ee-v'>-13.923848426960806</span></li></ul></li><li><label class='ee-shut'>438: [-70.79433232407665, -13.921679404337011]<input type='checkbox' class='ee-toggle'></label><ul><li><span class='ee-k'>0:</span><span class='ee-v'>-70.79433232407665</span></li><li><span class='ee-k'>1:</span><span class='ee-v'>-13.921679404337011</span></li></ul></li><li><label class='ee-shut'>439: [-70.79405475334057, -13.921681447725804]<input type='checkbox' class='ee-toggle'></label><ul><li><span class='ee-k'>0:</span><span class='ee-v'>-70.79405475334057</span></li><li><span class='ee-k'>1:</span><span class='ee-v'>-13.921681447725804</span></li></ul></li><li><label class='ee-shut'>440: [-70.79405684514856, -13.921952575618906]<input type='checkbox' class='ee-toggle'></label><ul><li><span class='ee-k'>0:</span><span class='ee-v'>-70.79405684514856</span></li><li><span class='ee-k'>1:</span><span class='ee-v'>-13.921952575618906</span></li></ul></li><li><label class='ee-shut'>441: [-70.79350170288588, -13.921956661552077]<input type='checkbox' class='ee-toggle'></label><ul><li><span class='ee-k'>0:</span><span class='ee-v'>-70.79350170288588</span></li><li><span class='ee-k'>1:</span><span class='ee-v'>-13.921956661552077</span></li></ul></li><li><label class='ee-shut'>442: [-70.79350588536099, -13.922498917482013]<input type='checkbox' class='ee-toggle'></label><ul><li><span class='ee-k'>0:</span><span class='ee-v'>-70.79350588536099</span></li><li><span class='ee-k'>1:</span><span class='ee-v'>-13.922498917482013</span></li></ul></li><li><label class='ee-shut'>443: [-70.793228313511, -13.92250096005334]<input type='checkbox' class='ee-toggle'></label><ul><li><span class='ee-k'>0:</span><span class='ee-v'>-70.793228313511</span></li><li><span class='ee-k'>1:</span><span class='ee-v'>-13.92250096005334</span></li></ul></li><li><label class='ee-shut'>444: [-70.79323040449253, -13.922772088045257]<input type='checkbox' class='ee-toggle'></label><ul><li><span class='ee-k'>0:</span><span class='ee-v'>-70.79323040449253</span></li><li><span class='ee-k'>1:</span><span class='ee-v'>-13.922772088045257</span></li></ul></li><li><label class='ee-shut'>445: [-70.79295283227422, -13.922774130347088]<input type='checkbox' class='ee-toggle'></label><ul><li><span class='ee-k'>0:</span><span class='ee-v'>-70.79295283227422</span></li><li><span class='ee-k'>1:</span><span class='ee-v'>-13.922774130347088</span></li></ul></li><li><label class='ee-shut'>446: [-70.79295492297729, -13.923045258374938]<input type='checkbox' class='ee-toggle'></label><ul><li><span class='ee-k'>0:</span><span class='ee-v'>-70.79295492297729</span></li><li><span class='ee-k'>1:</span><span class='ee-v'>-13.923045258374938</span></li></ul></li><li><label class='ee-shut'>447: [-70.79267735039966, -13.923047300398292]<input type='checkbox' class='ee-toggle'></label><ul><li><span class='ee-k'>0:</span><span class='ee-v'>-70.79267735039966</span></li><li><span class='ee-k'>1:</span><span class='ee-v'>-13.923047300398292</span></li></ul></li><li><label class='ee-shut'>448: [-70.79267944081525, -13.923318428471058]<input type='checkbox' class='ee-toggle'></label><ul><li><span class='ee-k'>0:</span><span class='ee-v'>-70.79267944081525</span></li><li><span class='ee-k'>1:</span><span class='ee-v'>-13.923318428471058</span></li></ul></li><li><label class='ee-shut'>449: [-70.79240186786932, -13.923320470215934]<input type='checkbox' class='ee-toggle'></label><ul><li><span class='ee-k'>0:</span><span class='ee-v'>-70.79240186786932</span></li><li><span class='ee-k'>1:</span><span class='ee-v'>-13.923320470215934</span></li></ul></li><li><label class='ee-shut'>450: [-70.79240395801541, -13.92359159831565]<input type='checkbox' class='ee-toggle'></label><ul><li><span class='ee-k'>0:</span><span class='ee-v'>-70.79240395801541</span></li><li><span class='ee-k'>1:</span><span class='ee-v'>-13.92359159831565</span></li></ul></li><li><label class='ee-shut'>451: [-70.79184881133303, -13.923595680952003]<input type='checkbox' class='ee-toggle'></label><ul><li><span class='ee-k'>0:</span><span class='ee-v'>-70.79184881133303</span></li><li><span class='ee-k'>1:</span><span class='ee-v'>-13.923595680952003</span></li></ul></li><li><label class='ee-shut'>452: [-70.79185090087725, -13.923866809132566]<input type='checkbox' class='ee-toggle'></label><ul><li><span class='ee-k'>0:</span><span class='ee-v'>-70.79185090087725</span></li><li><span class='ee-k'>1:</span><span class='ee-v'>-13.923866809132566</span></li></ul></li><li><label class='ee-shut'>453: [-70.7915733271408, -13.92386885001506]<input type='checkbox' class='ee-toggle'></label><ul><li><span class='ee-k'>0:</span><span class='ee-v'>-70.7915733271408</span></li><li><span class='ee-k'>1:</span><span class='ee-v'>-13.92386885001506</span></li></ul></li><li><label class='ee-shut'>454: [-70.79157541640656, -13.924139978231556]<input type='checkbox' class='ee-toggle'></label><ul><li><span class='ee-k'>0:</span><span class='ee-v'>-70.79157541640656</span></li><li><span class='ee-k'>1:</span><span class='ee-v'>-13.924139978231556</span></li></ul></li><li><label class='ee-shut'>455: [-70.79074269397547, -13.92414609911834]<input type='checkbox' class='ee-toggle'></label><ul><li><span class='ee-k'>0:</span><span class='ee-v'>-70.79074269397547</span></li><li><span class='ee-k'>1:</span><span class='ee-v'>-13.92414609911834</span></li></ul></li><li><label class='ee-shut'>456: [-70.79075104759795, -13.925230612397549]<input type='checkbox' class='ee-toggle'></label><ul><li><span class='ee-k'>0:</span><span class='ee-v'>-70.79075104759795</span></li><li><span class='ee-k'>1:</span><span class='ee-v'>-13.925230612397549</span></li></ul></li><li><label class='ee-shut'>457: [-70.79047347207384, -13.925232652229013]<input type='checkbox' class='ee-toggle'></label><ul><li><span class='ee-k'>0:</span><span class='ee-v'>-70.79047347207384</span></li><li><span class='ee-k'>1:</span><span class='ee-v'>-13.925232652229013</span></li></ul></li><li><label class='ee-shut'>458: [-70.79048391348883, -13.926588293895398]<input type='checkbox' class='ee-toggle'></label><ul><li><span class='ee-k'>0:</span><span class='ee-v'>-70.79048391348883</span></li><li><span class='ee-k'>1:</span><span class='ee-v'>-13.926588293895398</span></li></ul></li><li><label class='ee-shut'>459: [-70.7907614906299, -13.92658625385732]<input type='checkbox' class='ee-toggle'></label><ul><li><span class='ee-k'>0:</span><span class='ee-v'>-70.7907614906299</span></li><li><span class='ee-k'>1:</span><span class='ee-v'>-13.92658625385732</span></li></ul></li><li><label class='ee-shut'>460: [-70.79076775698987, -13.927399638659521]<input type='checkbox' class='ee-toggle'></label><ul><li><span class='ee-k'>0:</span><span class='ee-v'>-70.79076775698987</span></li><li><span class='ee-k'>1:</span><span class='ee-v'>-13.927399638659521</span></li></ul></li><li><label class='ee-shut'>461: [-70.7910453350562, -13.927397598181269]<input type='checkbox' class='ee-toggle'></label><ul><li><span class='ee-k'>0:</span><span class='ee-v'>-70.7910453350562</span></li><li><span class='ee-k'>1:</span><span class='ee-v'>-13.927397598181269</span></li></ul></li><li><label class='ee-shut'>462: [-70.79105160279059, -13.928210982803806]<input type='checkbox' class='ee-toggle'></label><ul><li><span class='ee-k'>0:</span><span class='ee-v'>-70.79105160279059</span></li><li><span class='ee-k'>1:</span><span class='ee-v'>-13.928210982803806</span></li></ul></li><li><label class='ee-shut'>463: [-70.79077402375407, -13.928213023407823]<input type='checkbox' class='ee-toggle'></label><ul><li><span class='ee-k'>0:</span><span class='ee-v'>-70.79077402375407</span></li><li><span class='ee-k'>1:</span><span class='ee-v'>-13.928213023407823</span></li></ul></li><li><label class='ee-shut'>464: [-70.79077193478476, -13.927941895164377]<input type='checkbox' class='ee-toggle'></label><ul><li><span class='ee-k'>0:</span><span class='ee-v'>-70.79077193478476</span></li><li><span class='ee-k'>1:</span><span class='ee-v'>-13.927941895164377</span></li></ul></li><li><label class='ee-shut'>465: [-70.79049435602671, -13.927943935400084]<input type='checkbox' class='ee-toggle'></label><ul><li><span class='ee-k'>0:</span><span class='ee-v'>-70.79049435602671</span></li><li><span class='ee-k'>1:</span><span class='ee-v'>-13.927943935400084</span></li></ul></li><li><label class='ee-shut'>466: [-70.79049226742572, -13.927672807111723]<input type='checkbox' class='ee-toggle'></label><ul><li><span class='ee-k'>0:</span><span class='ee-v'>-70.79049226742572</span></li><li><span class='ee-k'>1:</span><span class='ee-v'>-13.927672807111723</span></li></ul></li><li><label class='ee-shut'>467: [-70.79021468894615, -13.927674846997087]<input type='checkbox' class='ee-toggle'></label><ul><li><span class='ee-k'>0:</span><span class='ee-v'>-70.79021468894615</span></li><li><span class='ee-k'>1:</span><span class='ee-v'>-13.927674846997087</span></li></ul></li><li><label class='ee-shut'>468: [-70.79021260072244, -13.927403718663811]<input type='checkbox' class='ee-toggle'></label><ul><li><span class='ee-k'>0:</span><span class='ee-v'>-70.79021260072244</span></li><li><span class='ee-k'>1:</span><span class='ee-v'>-13.927403718663811</span></li></ul></li><li><label class='ee-shut'>469: [-70.78965744426638, -13.927407797401477]<input type='checkbox' class='ee-toggle'></label><ul><li><span class='ee-k'>0:</span><span class='ee-v'>-70.78965744426638</span></li><li><span class='ee-k'>1:</span><span class='ee-v'>-13.927407797401477</span></li></ul></li><li><label class='ee-shut'>470: [-70.78966161947412, -13.927950054229726]<input type='checkbox' class='ee-toggle'></label><ul><li><span class='ee-k'>0:</span><span class='ee-v'>-70.78966161947412</span></li><li><span class='ee-k'>1:</span><span class='ee-v'>-13.927950054229726</span></li></ul></li><li><label class='ee-shut'>471: [-70.78993919837589, -13.92794801493725]<input type='checkbox' class='ee-toggle'></label><ul><li><span class='ee-k'>0:</span><span class='ee-v'>-70.78993919837589</span></li><li><span class='ee-k'>1:</span><span class='ee-v'>-13.92794801493725</span></li></ul></li><li><label class='ee-shut'>472: [-70.78994128636604, -13.92821914330646]<input type='checkbox' class='ee-toggle'></label><ul><li><span class='ee-k'>0:</span><span class='ee-v'>-70.78994128636604</span></li><li><span class='ee-k'>1:</span><span class='ee-v'>-13.92821914330646</span></li></ul></li><li><label class='ee-shut'>473: [-70.78938612788876, -13.92822322165785]<input type='checkbox' class='ee-toggle'></label><ul><li><span class='ee-k'>0:</span><span class='ee-v'>-70.78938612788876</span></li><li><span class='ee-k'>1:</span><span class='ee-v'>-13.92822322165785</span></li></ul></li><li><label class='ee-shut'>474: [-70.78938195323798, -13.92768096474875]<input type='checkbox' class='ee-toggle'></label><ul><li><span class='ee-k'>0:</span><span class='ee-v'>-70.78938195323798</span></li><li><span class='ee-k'>1:</span><span class='ee-v'>-13.92768096474875</span></li></ul></li><li><label class='ee-shut'>475: [-70.78910437457874, -13.927683003376474]<input type='checkbox' class='ee-toggle'></label><ul><li><span class='ee-k'>0:</span><span class='ee-v'>-70.78910437457874</span></li><li><span class='ee-k'>1:</span><span class='ee-v'>-13.927683003376474</span></li></ul></li><li><label class='ee-shut'>476: [-70.78909811390513, -13.926869617846638]<input type='checkbox' class='ee-toggle'></label><ul><li><span class='ee-k'>0:</span><span class='ee-v'>-70.78909811390513</span></li><li><span class='ee-k'>1:</span><span class='ee-v'>-13.926869617846638</span></li></ul></li><li><label class='ee-shut'>477: [-70.78882053617116, -13.926871656025202]<input type='checkbox' class='ee-toggle'></label><ul><li><span class='ee-k'>0:</span><span class='ee-v'>-70.78882053617116</span></li><li><span class='ee-k'>1:</span><span class='ee-v'>-13.926871656025202</span></li></ul></li><li><label class='ee-shut'>478: [-70.78881844969018, -13.926600527467347]<input type='checkbox' class='ee-toggle'></label><ul><li><span class='ee-k'>0:</span><span class='ee-v'>-70.78881844969018</span></li><li><span class='ee-k'>1:</span><span class='ee-v'>-13.926600527467347</span></li></ul></li><li><label class='ee-shut'>479: [-70.7885408722347, -13.926602565286586]<input type='checkbox' class='ee-toggle'></label><ul><li><span class='ee-k'>0:</span><span class='ee-v'>-70.7885408722347</span></li><li><span class='ee-k'>1:</span><span class='ee-v'>-13.926602565286586</span></li></ul></li><li><label class='ee-shut'>480: [-70.78853670006326, -13.926060308063077]<input type='checkbox' class='ee-toggle'></label><ul><li><span class='ee-k'>0:</span><span class='ee-v'>-70.78853670006326</span></li><li><span class='ee-k'>1:</span><span class='ee-v'>-13.926060308063077</span></li></ul></li><li><label class='ee-shut'>481: [-70.78881427687196, -13.926058270324686]<input type='checkbox' class='ee-toggle'></label><ul><li><span class='ee-k'>0:</span><span class='ee-v'>-70.78881427687196</span></li><li><span class='ee-k'>1:</span><span class='ee-v'>-13.926058270324686</span></li></ul></li><li><label class='ee-shut'>482: [-70.78881219052573, -13.925787141739882]<input type='checkbox' class='ee-toggle'></label><ul><li><span class='ee-k'>0:</span><span class='ee-v'>-70.78881219052573</span></li><li><span class='ee-k'>1:</span><span class='ee-v'>-13.925787141739882</span></li></ul></li><li><label class='ee-shut'>483: [-70.78964491972113, -13.925781026746046]<input type='checkbox' class='ee-toggle'></label><ul><li><span class='ee-k'>0:</span><span class='ee-v'>-70.78964491972113</span></li><li><span class='ee-k'>1:</span><span class='ee-v'>-13.925781026746046</span></li></ul></li><li><label class='ee-shut'>484: [-70.78963657091361, -13.924696512855983]<input type='checkbox' class='ee-toggle'></label><ul><li><span class='ee-k'>0:</span><span class='ee-v'>-70.78963657091361</span></li><li><span class='ee-k'>1:</span><span class='ee-v'>-13.924696512855983</span></li></ul></li><li><label class='ee-shut'>485: [-70.78991414592568, -13.92469447405758]<input type='checkbox' class='ee-toggle'></label><ul><li><span class='ee-k'>0:</span><span class='ee-v'>-70.78991414592568</span></li><li><span class='ee-k'>1:</span><span class='ee-v'>-13.92469447405758</span></li></ul></li><li><label class='ee-shut'>486: [-70.78990997114015, -13.924152217157465]<input type='checkbox' class='ee-toggle'></label><ul><li><span class='ee-k'>0:</span><span class='ee-v'>-70.78990997114015</span></li><li><span class='ee-k'>1:</span><span class='ee-v'>-13.924152217157465</span></li></ul></li><li><label class='ee-shut'>487: [-70.78963239677488, -13.924154255875019]<input type='checkbox' class='ee-toggle'></label><ul><li><span class='ee-k'>0:</span><span class='ee-v'>-70.78963239677488</span></li><li><span class='ee-k'>1:</span><span class='ee-v'>-13.924154255875019</span></li></ul></li><li><label class='ee-shut'>488: [-70.78963030977287, -13.923883127371061]<input type='checkbox' class='ee-toggle'></label><ul><li><span class='ee-k'>0:</span><span class='ee-v'>-70.78963030977287</span></li><li><span class='ee-k'>1:</span><span class='ee-v'>-13.923883127371061</span></li></ul></li><li><label class='ee-shut'>489: [-70.78935273568607, -13.92388516572929]<input type='checkbox' class='ee-toggle'></label><ul><li><span class='ee-k'>0:</span><span class='ee-v'>-70.78935273568607</span></li><li><span class='ee-k'>1:</span><span class='ee-v'>-13.92388516572929</span></li></ul></li><li><label class='ee-shut'>490: [-70.78935482236467, -13.92415629426918]<input type='checkbox' class='ee-toggle'></label><ul><li><span class='ee-k'>0:</span><span class='ee-v'>-70.78935482236467</span></li><li><span class='ee-k'>1:</span><span class='ee-v'>-13.92415629426918</span></li></ul></li><li><label class='ee-shut'>491: [-70.78907724790058, -13.924158332357912]<input type='checkbox' class='ee-toggle'></label><ul><li><span class='ee-k'>0:</span><span class='ee-v'>-70.78907724790058</span></li><li><span class='ee-k'>1:</span><span class='ee-v'>-13.924158332357912</span></li></ul></li><li><label class='ee-shut'>492: [-70.78908142074576, -13.924700589500574]<input type='checkbox' class='ee-toggle'></label><ul><li><span class='ee-k'>0:</span><span class='ee-v'>-70.78908142074576</span></li><li><span class='ee-k'>1:</span><span class='ee-v'>-13.924700589500574</span></li></ul></li><li><label class='ee-shut'>493: [-70.78852627040722, -13.924704664887523]<input type='checkbox' class='ee-toggle'></label><ul><li><span class='ee-k'>0:</span><span class='ee-v'>-70.78852627040722</span></li><li><span class='ee-k'>1:</span><span class='ee-v'>-13.924704664887523</span></li></ul></li><li><label class='ee-shut'>494: [-70.7885283562504, -13.92497579353521]<input type='checkbox' class='ee-toggle'></label><ul><li><span class='ee-k'>0:</span><span class='ee-v'>-70.7885283562504</span></li><li><span class='ee-k'>1:</span><span class='ee-v'>-13.92497579353521</span></li></ul></li><li><label class='ee-shut'>495: [-70.78825078069036, -13.924977830797493]<input type='checkbox' class='ee-toggle'></label><ul><li><span class='ee-k'>0:</span><span class='ee-v'>-70.78825078069036</span></li><li><span class='ee-k'>1:</span><span class='ee-v'>-13.924977830797493</span></li></ul></li><li><label class='ee-shut'>496: [-70.78825286624607, -13.925248959481113]<input type='checkbox' class='ee-toggle'></label><ul><li><span class='ee-k'>0:</span><span class='ee-v'>-70.78825286624607</span></li><li><span class='ee-k'>1:</span><span class='ee-v'>-13.925248959481113</span></li></ul></li><li><label class='ee-shut'>497: [-70.78797529031772, -13.92525099646492]<input type='checkbox' class='ee-toggle'></label><ul><li><span class='ee-k'>0:</span><span class='ee-v'>-70.78797529031772</span></li><li><span class='ee-k'>1:</span><span class='ee-v'>-13.92525099646492</span></li></ul></li><li><label class='ee-shut'>498: [-70.78797946093508, -13.92579325389504]<input type='checkbox' class='ee-toggle'></label><ul><li><span class='ee-k'>0:</span><span class='ee-v'>-70.78797946093508</span></li><li><span class='ee-k'>1:</span><span class='ee-v'>-13.92579325389504</span></li></ul></li><li><label class='ee-shut'>499: [-70.78770188431503, -13.925795290645285]<input type='checkbox' class='ee-toggle'></label><ul><li><span class='ee-k'>0:</span><span class='ee-v'>-70.78770188431503</span></li><li><span class='ee-k'>1:</span><span class='ee-v'>-13.925795290645285</span></li></ul></li><li><label class='ee-shut'>500: [-70.78770396936768, -13.926066419391786]<input type='checkbox' class='ee-toggle'></label><ul><li><span class='ee-k'>0:</span><span class='ee-v'>-70.78770396936768</span></li><li><span class='ee-k'>1:</span><span class='ee-v'>-13.926066419391786</span></li></ul></li><li><label class='ee-shut'>501: [-70.78798154631113, -13.926064382596627]<input type='checkbox' class='ee-toggle'></label><ul><li><span class='ee-k'>0:</span><span class='ee-v'>-70.78798154631113</span></li><li><span class='ee-k'>1:</span><span class='ee-v'>-13.926064382596627</span></li></ul></li><li><label class='ee-shut'>502: [-70.78798363172311, -13.926335511298213]<input type='checkbox' class='ee-toggle'></label><ul><li><span class='ee-k'>0:</span><span class='ee-v'>-70.78798363172311</span></li><li><span class='ee-k'>1:</span><span class='ee-v'>-13.926335511298213</span></li></ul></li><li><label class='ee-shut'>503: [-70.7874284771535, -13.92633958465497]<input type='checkbox' class='ee-toggle'></label><ul><li><span class='ee-k'>0:</span><span class='ee-v'>-70.7874284771535</span></li><li><span class='ee-k'>1:</span><span class='ee-v'>-13.92633958465497</span></li></ul></li><li><label class='ee-shut'>504: [-70.78742639237933, -13.926068455872535]<input type='checkbox' class='ee-toggle'></label><ul><li><span class='ee-k'>0:</span><span class='ee-v'>-70.78742639237933</span></li><li><span class='ee-k'>1:</span><span class='ee-v'>-13.926068455872535</span></li></ul></li><li><label class='ee-shut'>505: [-70.78714881534604, -13.92607049202989]<input type='checkbox' class='ee-toggle'></label><ul><li><span class='ee-k'>0:</span><span class='ee-v'>-70.78714881534604</span></li><li><span class='ee-k'>1:</span><span class='ee-v'>-13.92607049202989</span></li></ul></li><li><label class='ee-shut'>506: [-70.78715089979684, -13.92634162085724]<input type='checkbox' class='ee-toggle'></label><ul><li><span class='ee-k'>0:</span><span class='ee-v'>-70.78715089979684</span></li><li><span class='ee-k'>1:</span><span class='ee-v'>-13.92634162085724</span></li></ul></li><li><label class='ee-shut'>507: [-70.78659574494876, -13.92634569230957]<input type='checkbox' class='ee-toggle'></label><ul><li><span class='ee-k'>0:</span><span class='ee-v'>-70.78659574494876</span></li><li><span class='ee-k'>1:</span><span class='ee-v'>-13.92634569230957</span></li></ul></li><li><label class='ee-shut'>508: [-70.78659782879767, -13.926616821208786]<input type='checkbox' class='ee-toggle'></label><ul><li><span class='ee-k'>0:</span><span class='ee-v'>-70.78659782879767</span></li><li><span class='ee-k'>1:</span><span class='ee-v'>-13.926616821208786</span></li></ul></li><li><label class='ee-shut'>509: [-70.78687540655858, -13.926614785599401]<input type='checkbox' class='ee-toggle'></label><ul><li><span class='ee-k'>0:</span><span class='ee-v'>-70.78687540655858</span></li><li><span class='ee-k'>1:</span><span class='ee-v'>-13.926614785599401</span></li></ul></li><li><label class='ee-shut'>510: [-70.7868774907758, -13.9268859144537]<input type='checkbox' class='ee-toggle'></label><ul><li><span class='ee-k'>0:</span><span class='ee-v'>-70.7868774907758</span></li><li><span class='ee-k'>1:</span><span class='ee-v'>-13.9268859144537</span></li></ul></li><li><label class='ee-shut'>511: [-70.78715506882418, -13.926883878476009]<input type='checkbox' class='ee-toggle'></label><ul><li><span class='ee-k'>0:</span><span class='ee-v'>-70.78715506882418</span></li><li><span class='ee-k'>1:</span><span class='ee-v'>-13.926883878476009</span></li></ul></li><li><label class='ee-shut'>512: [-70.78715923803117, -13.92742613607681]<input type='checkbox' class='ee-toggle'></label><ul><li><span class='ee-k'>0:</span><span class='ee-v'>-70.78715923803117</span></li><li><span class='ee-k'>1:</span><span class='ee-v'>-13.92742613607681</span></li></ul></li><li><label class='ee-shut'>513: [-70.786881659336, -13.92742817213535]<input type='checkbox' class='ee-toggle'></label><ul><li><span class='ee-k'>0:</span><span class='ee-v'>-70.786881659336</span></li><li><span class='ee-k'>1:</span><span class='ee-v'>-13.92742817213535</span></li></ul></li><li><label class='ee-shut'>514: [-70.78688374368798, -13.9276993009627]<input type='checkbox' class='ee-toggle'></label><ul><li><span class='ee-k'>0:</span><span class='ee-v'>-70.78688374368798</span></li><li><span class='ee-k'>1:</span><span class='ee-v'>-13.9276993009627</span></li></ul></li><li><label class='ee-shut'>515: [-70.78660616462452, -13.927701336742764]<input type='checkbox' class='ee-toggle'></label><ul><li><span class='ee-k'>0:</span><span class='ee-v'>-70.78660616462452</span></li><li><span class='ee-k'>1:</span><span class='ee-v'>-13.927701336742764</span></li></ul></li><li><label class='ee-shut'>516: [-70.78661241697075, -13.92851472332363]<input type='checkbox' class='ee-toggle'></label><ul><li><span class='ee-k'>0:</span><span class='ee-v'>-70.78661241697075</span></li><li><span class='ee-k'>1:</span><span class='ee-v'>-13.92851472332363</span></li></ul></li><li><label class='ee-shut'>517: [-70.7863348368922, -13.928516758906063]<input type='checkbox' class='ee-toggle'></label><ul><li><span class='ee-k'>0:</span><span class='ee-v'>-70.7863348368922</span></li><li><span class='ee-k'>1:</span><span class='ee-v'>-13.928516758906063</span></li></ul></li><li><label class='ee-shut'>518: [-70.78633692076805, -13.928787887796295]<input type='checkbox' class='ee-toggle'></label><ul><li><span class='ee-k'>0:</span><span class='ee-v'>-70.78633692076805</span></li><li><span class='ee-k'>1:</span><span class='ee-v'>-13.928787887796295</span></li></ul></li><li><label class='ee-shut'>519: [-70.78605934033017, -13.928789923100252]<input type='checkbox' class='ee-toggle'></label><ul><li><span class='ee-k'>0:</span><span class='ee-v'>-70.78605934033017</span></li><li><span class='ee-k'>1:</span><span class='ee-v'>-13.928789923100252</span></li></ul></li><li><label class='ee-shut'>520: [-70.78606350756985, -13.929332180943598]<input type='checkbox' class='ee-toggle'></label><ul><li><span class='ee-k'>0:</span><span class='ee-v'>-70.78606350756985</span></li><li><span class='ee-k'>1:</span><span class='ee-v'>-13.929332180943598</span></li></ul></li><li><label class='ee-shut'>521: [-70.78634108866352, -13.92933014554981]<input type='checkbox' class='ee-toggle'></label><ul><li><span class='ee-k'>0:</span><span class='ee-v'>-70.78634108866352</span></li><li><span class='ee-k'>1:</span><span class='ee-v'>-13.92933014554981</span></li></ul></li><li><label class='ee-shut'>522: [-70.7863431726831, -13.929601274422076]<input type='checkbox' class='ee-toggle'></label><ul><li><span class='ee-k'>0:</span><span class='ee-v'>-70.7863431726831</span></li><li><span class='ee-k'>1:</span><span class='ee-v'>-13.929601274422076</span></li></ul></li><li><label class='ee-shut'>523: [-70.78662075404627, -13.929599238668963]<input type='checkbox' class='ee-toggle'></label><ul><li><span class='ee-k'>0:</span><span class='ee-v'>-70.78662075404627</span></li><li><span class='ee-k'>1:</span><span class='ee-v'>-13.929599238668963</span></li></ul></li><li><label class='ee-shut'>524: [-70.786624922858, -13.930141496305698]<input type='checkbox' class='ee-toggle'></label><ul><li><span class='ee-k'>0:</span><span class='ee-v'>-70.786624922858</span></li><li><span class='ee-k'>1:</span><span class='ee-v'>-13.930141496305698</span></li></ul></li><li><label class='ee-shut'>525: [-70.78690250483201, -13.930139460157324]<input type='checkbox' class='ee-toggle'></label><ul><li><span class='ee-k'>0:</span><span class='ee-v'>-70.78690250483201</span></li><li><span class='ee-k'>1:</span><span class='ee-v'>-13.930139460157324</span></li></ul></li><li><label class='ee-shut'>526: [-70.78691084427906, -13.93122397519723]<input type='checkbox' class='ee-toggle'></label><ul><li><span class='ee-k'>0:</span><span class='ee-v'>-70.78691084427906</span></li><li><span class='ee-k'>1:</span><span class='ee-v'>-13.93122397519723</span></li></ul></li><li><label class='ee-shut'>527: [-70.78663326101149, -13.9312260115073]<input type='checkbox' class='ee-toggle'></label><ul><li><span class='ee-k'>0:</span><span class='ee-v'>-70.78663326101149</span></li><li><span class='ee-k'>1:</span><span class='ee-v'>-13.9312260115073</span></li></ul></li><li><label class='ee-shut'>528: [-70.7866353456599, -13.931497140289734]<input type='checkbox' class='ee-toggle'></label><ul><li><span class='ee-k'>0:</span><span class='ee-v'>-70.7866353456599</span></li><li><span class='ee-k'>1:</span><span class='ee-v'>-13.931497140289734</span></li></ul></li><li><label class='ee-shut'>529: [-70.78635776202401, -13.931499176330309]<input type='checkbox' class='ee-toggle'></label><ul><li><span class='ee-k'>0:</span><span class='ee-v'>-70.78635776202401</span></li><li><span class='ee-k'>1:</span><span class='ee-v'>-13.931499176330309</span></li></ul></li><li><label class='ee-shut'>530: [-70.78635984639395, -13.931770305148676]<input type='checkbox' class='ee-toggle'></label><ul><li><span class='ee-k'>0:</span><span class='ee-v'>-70.78635984639395</span></li><li><span class='ee-k'>1:</span><span class='ee-v'>-13.931770305148676</span></li></ul></li><li><label class='ee-shut'>531: [-70.78608226238974, -13.931772340910772]<input type='checkbox' class='ee-toggle'></label><ul><li><span class='ee-k'>0:</span><span class='ee-v'>-70.78608226238974</span></li><li><span class='ee-k'>1:</span><span class='ee-v'>-13.931772340910772</span></li></ul></li><li><label class='ee-shut'>532: [-70.78607809434158, -13.931230083184207]<input type='checkbox' class='ee-toggle'></label><ul><li><span class='ee-k'>0:</span><span class='ee-v'>-70.78607809434158</span></li><li><span class='ee-k'>1:</span><span class='ee-v'>-13.931230083184207</span></li></ul></li><li><label class='ee-shut'>533: [-70.78580051093924, -13.931232118551046]<input type='checkbox' class='ee-toggle'></label><ul><li><span class='ee-k'>0:</span><span class='ee-v'>-70.78580051093924</span></li><li><span class='ee-k'>1:</span><span class='ee-v'>-13.931232118551046</span></li></ul></li><li><label class='ee-shut'>534: [-70.78579842730592, -13.930960989633864]<input type='checkbox' class='ee-toggle'></label><ul><li><span class='ee-k'>0:</span><span class='ee-v'>-70.78579842730592</span></li><li><span class='ee-k'>1:</span><span class='ee-v'>-13.930960989633864</span></li></ul></li><li><label class='ee-shut'>535: [-70.78552084419105, -13.930963024641375]<input type='checkbox' class='ee-toggle'></label><ul><li><span class='ee-k'>0:</span><span class='ee-v'>-70.78552084419105</span></li><li><span class='ee-k'>1:</span><span class='ee-v'>-13.930963024641375</span></li></ul></li><li><label class='ee-shut'>536: [-70.78551876091707, -13.930691895679278]<input type='checkbox' class='ee-toggle'></label><ul><li><span class='ee-k'>0:</span><span class='ee-v'>-70.78551876091707</span></li><li><span class='ee-k'>1:</span><span class='ee-v'>-13.930691895679278</span></li></ul></li><li><label class='ee-shut'>537: [-70.78524117808067, -13.930693930336448]<input type='checkbox' class='ee-toggle'></label><ul><li><span class='ee-k'>0:</span><span class='ee-v'>-70.78524117808067</span></li><li><span class='ee-k'>1:</span><span class='ee-v'>-13.930693930336448</span></li></ul></li><li><label class='ee-shut'>538: [-70.78523701232321, -13.930151672313437]<input type='checkbox' class='ee-toggle'></label><ul><li><span class='ee-k'>0:</span><span class='ee-v'>-70.78523701232321</span></li><li><span class='ee-k'>1:</span><span class='ee-v'>-13.930151672313437</span></li></ul></li><li><label class='ee-shut'>539: [-70.78495943008869, -13.930153706557382]<input type='checkbox' class='ee-toggle'></label><ul><li><span class='ee-k'>0:</span><span class='ee-v'>-70.78495943008869</span></li><li><span class='ee-k'>1:</span><span class='ee-v'>-13.930153706557382</span></li></ul></li><li><label class='ee-shut'>540: [-70.78495734759623, -13.92988257749647]<input type='checkbox' class='ee-toggle'></label><ul><li><span class='ee-k'>0:</span><span class='ee-v'>-70.78495734759623</span></li><li><span class='ee-k'>1:</span><span class='ee-v'>-13.92988257749647</span></li></ul></li><li><label class='ee-shut'>541: [-70.78467976564019, -13.92988461139007]<input type='checkbox' class='ee-toggle'></label><ul><li><span class='ee-k'>0:</span><span class='ee-v'>-70.78467976564019</span></li><li><span class='ee-k'>1:</span><span class='ee-v'>-13.92988461139007</span></li></ul></li><li><label class='ee-shut'>542: [-70.78468184780027, -13.930155740495898]<input type='checkbox' class='ee-toggle'></label><ul><li><span class='ee-k'>0:</span><span class='ee-v'>-70.78468184780027</span></li><li><span class='ee-k'>1:</span><span class='ee-v'>-13.930155740495898</span></li></ul></li><li><label class='ee-shut'>543: [-70.78440426546693, -13.930157774120005]<input type='checkbox' class='ee-toggle'></label><ul><li><span class='ee-k'>0:</span><span class='ee-v'>-70.78440426546693</span></li><li><span class='ee-k'>1:</span><span class='ee-v'>-13.930157774120005</span></li></ul></li><li><label class='ee-shut'>544: [-70.78440634735752, -13.930428903252782]<input type='checkbox' class='ee-toggle'></label><ul><li><span class='ee-k'>0:</span><span class='ee-v'>-70.78440634735752</span></li><li><span class='ee-k'>1:</span><span class='ee-v'>-13.930428903252782</span></li></ul></li><li><label class='ee-shut'>545: [-70.78412876465588, -13.93043093659841]<input type='checkbox' class='ee-toggle'></label><ul><li><span class='ee-k'>0:</span><span class='ee-v'>-70.78412876465588</span></li><li><span class='ee-k'>1:</span><span class='ee-v'>-13.93043093659841</span></li></ul></li><li><label class='ee-shut'>546: [-70.784130846259, -13.930702065776105]<input type='checkbox' class='ee-toggle'></label><ul><li><span class='ee-k'>0:</span><span class='ee-v'>-70.784130846259</span></li><li><span class='ee-k'>1:</span><span class='ee-v'>-13.930702065776105</span></li></ul></li><li><label class='ee-shut'>547: [-70.78385326319803, -13.930704098843256]<input type='checkbox' class='ee-toggle'></label><ul><li><span class='ee-k'>0:</span><span class='ee-v'>-70.78385326319803</span></li><li><span class='ee-k'>1:</span><span class='ee-v'>-13.930704098843256</span></li></ul></li><li><label class='ee-shut'>548: [-70.78385742589225, -13.93124635725254]<input type='checkbox' class='ee-toggle'></label><ul><li><span class='ee-k'>0:</span><span class='ee-v'>-70.78385742589225</span></li><li><span class='ee-k'>1:</span><span class='ee-v'>-13.93124635725254</span></li></ul></li><li><label class='ee-shut'>549: [-70.78357984213957, -13.931248390095112]<input type='checkbox' class='ee-toggle'></label><ul><li><span class='ee-k'>0:</span><span class='ee-v'>-70.78357984213957</span></li><li><span class='ee-k'>1:</span><span class='ee-v'>-13.931248390095112</span></li></ul></li><li><label class='ee-shut'>550: [-70.78358192323066, -13.931519519326704]<input type='checkbox' class='ee-toggle'></label><ul><li><span class='ee-k'>0:</span><span class='ee-v'>-70.78358192323066</span></li><li><span class='ee-k'>1:</span><span class='ee-v'>-13.931519519326704</span></li></ul></li><li><label class='ee-shut'>551: [-70.78385950730673, -13.9315174864482]<input type='checkbox' class='ee-toggle'></label><ul><li><span class='ee-k'>0:</span><span class='ee-v'>-70.78385950730673</span></li><li><span class='ee-k'>1:</span><span class='ee-v'>-13.9315174864482</span></li></ul></li><li><label class='ee-shut'>552: [-70.78386158876611, -13.931788615643859]<input type='checkbox' class='ee-toggle'></label><ul><li><span class='ee-k'>0:</span><span class='ee-v'>-70.78386158876611</span></li><li><span class='ee-k'>1:</span><span class='ee-v'>-13.931788615643859</span></li></ul></li><li><label class='ee-shut'>553: [-70.78358400436666, -13.931790648558296]<input type='checkbox' class='ee-toggle'></label><ul><li><span class='ee-k'>0:</span><span class='ee-v'>-70.78358400436666</span></li><li><span class='ee-k'>1:</span><span class='ee-v'>-13.931790648558296</span></li></ul></li><li><label class='ee-shut'>554: [-70.78358608554758, -13.932061777780905]<input type='checkbox' class='ee-toggle'></label><ul><li><span class='ee-k'>0:</span><span class='ee-v'>-70.78358608554758</span></li><li><span class='ee-k'>1:</span><span class='ee-v'>-13.932061777780905</span></li></ul></li><li><label class='ee-shut'>555: [-70.78330850077083, -13.932063810425849]<input type='checkbox' class='ee-toggle'></label><ul><li><span class='ee-k'>0:</span><span class='ee-v'>-70.78330850077083</span></li><li><span class='ee-k'>1:</span><span class='ee-v'>-13.932063810425849</span></li></ul></li><li><label class='ee-shut'>556: [-70.78331058167326, -13.93233493968439]<input type='checkbox' class='ee-toggle'></label><ul><li><span class='ee-k'>0:</span><span class='ee-v'>-70.78331058167326</span></li><li><span class='ee-k'>1:</span><span class='ee-v'>-13.93233493968439</span></li></ul></li><li><label class='ee-shut'>557: [-70.78442092178639, -13.932326807047478]<input type='checkbox' class='ee-toggle'></label><ul><li><span class='ee-k'>0:</span><span class='ee-v'>-70.78442092178639</span></li><li><span class='ee-k'>1:</span><span class='ee-v'>-13.932326807047478</span></li></ul></li><li><label class='ee-shut'>558: [-70.78442300402732, -13.932597936135338]<input type='checkbox' class='ee-toggle'></label><ul><li><span class='ee-k'>0:</span><span class='ee-v'>-70.78442300402732</span></li><li><span class='ee-k'>1:</span><span class='ee-v'>-13.932597936135338</span></li></ul></li><li><label class='ee-shut'>559: [-70.78414541874751, -13.932599969813344]<input type='checkbox' class='ee-toggle'></label><ul><li><span class='ee-k'>0:</span><span class='ee-v'>-70.78414541874751</span></li><li><span class='ee-k'>1:</span><span class='ee-v'>-13.932599969813344</span></li></ul></li><li><label class='ee-shut'>560: [-70.78414750070098, -13.932871098937138]<input type='checkbox' class='ee-toggle'></label><ul><li><span class='ee-k'>0:</span><span class='ee-v'>-70.78414750070098</span></li><li><span class='ee-k'>1:</span><span class='ee-v'>-13.932871098937138</span></li></ul></li><li><label class='ee-shut'>561: [-70.78248198612057, -13.9328832945912]<input type='checkbox' class='ee-toggle'></label><ul><li><span class='ee-k'>0:</span><span class='ee-v'>-70.78248198612057</span></li><li><span class='ee-k'>1:</span><span class='ee-v'>-13.9328832945912</span></li></ul></li><li><label class='ee-shut'>562: [-70.78248614629051, -13.933425553314894]<input type='checkbox' class='ee-toggle'></label><ul><li><span class='ee-k'>0:</span><span class='ee-v'>-70.78248614629051</span></li><li><span class='ee-k'>1:</span><span class='ee-v'>-13.933425553314894</span></li></ul></li><li><label class='ee-shut'>563: [-70.78220855972612, -13.933427584899826]<input type='checkbox' class='ee-toggle'></label><ul><li><span class='ee-k'>0:</span><span class='ee-v'>-70.78220855972612</span></li><li><span class='ee-k'>1:</span><span class='ee-v'>-13.933427584899826</span></li></ul></li><li><label class='ee-shut'>564: [-70.78221895931554, -13.934783231794405]<input type='checkbox' class='ee-toggle'></label><ul><li><span class='ee-k'>0:</span><span class='ee-v'>-70.78221895931554</span></li><li><span class='ee-k'>1:</span><span class='ee-v'>-13.934783231794405</span></li></ul></li><li><label class='ee-shut'>565: [-70.78194137108926, -13.934785263262555]<input type='checkbox' class='ee-toggle'></label><ul><li><span class='ee-k'>0:</span><span class='ee-v'>-70.78194137108926</span></li><li><span class='ee-k'>1:</span><span class='ee-v'>-13.934785263262555</span></li></ul></li><li><label class='ee-shut'>566: [-70.78195385013484, -13.936412039577371]<input type='checkbox' class='ee-toggle'></label><ul><li><span class='ee-k'>0:</span><span class='ee-v'>-70.78195385013484</span></li><li><span class='ee-k'>1:</span><span class='ee-v'>-13.936412039577371</span></li></ul></li><li><label class='ee-shut'>567: [-70.7816762599143, -13.93641407098264]<input type='checkbox' class='ee-toggle'></label><ul><li><span class='ee-k'>0:</span><span class='ee-v'>-70.7816762599143</span></li><li><span class='ee-k'>1:</span><span class='ee-v'>-13.93641407098264</span></li></ul></li><li><label class='ee-shut'>568: [-70.78167833959503, -13.936685200384911]<input type='checkbox' class='ee-toggle'></label><ul><li><span class='ee-k'>0:</span><span class='ee-v'>-70.78167833959503</span></li><li><span class='ee-k'>1:</span><span class='ee-v'>-13.936685200384911</span></li></ul></li><li><label class='ee-shut'>569: [-70.78140074900618, -13.936687231511701]<input type='checkbox' class='ee-toggle'></label><ul><li><span class='ee-k'>0:</span><span class='ee-v'>-70.78140074900618</span></li><li><span class='ee-k'>1:</span><span class='ee-v'>-13.936687231511701</span></li></ul></li><li><label class='ee-shut'>570: [-70.78140698732074, -13.937500619808349]<input type='checkbox' class='ee-toggle'></label><ul><li><span class='ee-k'>0:</span><span class='ee-v'>-70.78140698732074</span></li><li><span class='ee-k'>1:</span><span class='ee-v'>-13.937500619808349</span></li></ul></li><li><label class='ee-shut'>571: [-70.78112939572577, -13.937502650746492]<input type='checkbox' class='ee-toggle'></label><ul><li><span class='ee-k'>0:</span><span class='ee-v'>-70.78112939572577</span></li><li><span class='ee-k'>1:</span><span class='ee-v'>-13.937502650746492</span></li></ul></li><li><label class='ee-shut'>572: [-70.7811314749304, -13.937773780211646]<input type='checkbox' class='ee-toggle'></label><ul><li><span class='ee-k'>0:</span><span class='ee-v'>-70.7811314749304</span></li><li><span class='ee-k'>1:</span><span class='ee-v'>-13.937773780211646</span></li></ul></li><li><label class='ee-shut'>573: [-70.78085388295814, -13.937775810871312]<input type='checkbox' class='ee-toggle'></label><ul><li><span class='ee-k'>0:</span><span class='ee-v'>-70.78085388295814</span></li><li><span class='ee-k'>1:</span><span class='ee-v'>-13.937775810871312</span></li></ul></li><li><label class='ee-shut'>574: [-70.78086427802904, -13.939131458286914]<input type='checkbox' class='ee-toggle'></label><ul><li><span class='ee-k'>0:</span><span class='ee-v'>-70.78086427802904</span></li><li><span class='ee-k'>1:</span><span class='ee-v'>-13.939131458286914</span></li></ul></li><li><label class='ee-shut'>575: [-70.7805866843949, -13.939133488838783]<input type='checkbox' class='ee-toggle'></label><ul><li><span class='ee-k'>0:</span><span class='ee-v'>-70.7805866843949</span></li><li><span class='ee-k'>1:</span><span class='ee-v'>-13.939133488838783</span></li></ul></li><li><label class='ee-shut'>576: [-70.78058460562147, -13.938862359328713]<input type='checkbox' class='ee-toggle'></label><ul><li><span class='ee-k'>0:</span><span class='ee-v'>-70.78058460562147</span></li><li><span class='ee-k'>1:</span><span class='ee-v'>-13.938862359328713</span></li></ul></li><li><label class='ee-shut'>577: [-70.77975182542872, -13.938868448963108]<input type='checkbox' class='ee-toggle'></label><ul><li><span class='ee-k'>0:</span><span class='ee-v'>-70.77975182542872</span></li><li><span class='ee-k'>1:</span><span class='ee-v'>-13.938868448963108</span></li></ul></li><li><label class='ee-shut'>578: [-70.77975390324096, -13.939139578598942]<input type='checkbox' class='ee-toggle'></label><ul><li><span class='ee-k'>0:</span><span class='ee-v'>-70.77975390324096</span></li><li><span class='ee-k'>1:</span><span class='ee-v'>-13.939139578598942</span></li></ul></li><li><label class='ee-shut'>579: [-70.77947630943613, -13.939141607884185]<input type='checkbox' class='ee-toggle'></label><ul><li><span class='ee-k'>0:</span><span class='ee-v'>-70.77947630943613</span></li><li><span class='ee-k'>1:</span><span class='ee-v'>-13.939141607884185</span></li></ul></li><li><label class='ee-shut'>580: [-70.77947838696092, -13.939412737555951]<input type='checkbox' class='ee-toggle'></label><ul><li><span class='ee-k'>0:</span><span class='ee-v'>-70.77947838696092</span></li><li><span class='ee-k'>1:</span><span class='ee-v'>-13.939412737555951</span></li></ul></li><li><label class='ee-shut'>581: [-70.77920079278778, -13.939414766562718]<input type='checkbox' class='ee-toggle'></label><ul><li><span class='ee-k'>0:</span><span class='ee-v'>-70.77920079278778</span></li><li><span class='ee-k'>1:</span><span class='ee-v'>-13.939414766562718</span></li></ul></li><li><label class='ee-shut'>582: [-70.77920287003408, -13.939685896270417]<input type='checkbox' class='ee-toggle'></label><ul><li><span class='ee-k'>0:</span><span class='ee-v'>-70.77920287003408</span></li><li><span class='ee-k'>1:</span><span class='ee-v'>-13.939685896270417</span></li></ul></li><li><label class='ee-shut'>583: [-70.7786476808973, -13.939689953421567]<input type='checkbox' class='ee-toggle'></label><ul><li><span class='ee-k'>0:</span><span class='ee-v'>-70.7786476808973</span></li><li><span class='ee-k'>1:</span><span class='ee-v'>-13.939689953421567</span></li></ul></li><li><label class='ee-shut'>584: [-70.77864975755071, -13.939961083201132]<input type='checkbox' class='ee-toggle'></label><ul><li><span class='ee-k'>0:</span><span class='ee-v'>-70.77864975755071</span></li><li><span class='ee-k'>1:</span><span class='ee-v'>-13.939961083201132</span></li></ul></li><li><label class='ee-shut'>585: [-70.77837216258706, -13.939963111345515]<input type='checkbox' class='ee-toggle'></label><ul><li><span class='ee-k'>0:</span><span class='ee-v'>-70.77837216258706</span></li><li><span class='ee-k'>1:</span><span class='ee-v'>-13.939963111345515</span></li></ul></li><li><label class='ee-shut'>586: [-70.77837423896199, -13.940234241161011]<input type='checkbox' class='ee-toggle'></label><ul><li><span class='ee-k'>0:</span><span class='ee-v'>-70.77837423896199</span></li><li><span class='ee-k'>1:</span><span class='ee-v'>-13.940234241161011</span></li></ul></li><li><label class='ee-shut'>587: [-70.77726385739162, -13.940242350747154]<input type='checkbox' class='ee-toggle'></label><ul><li><span class='ee-k'>0:</span><span class='ee-v'>-70.77726385739162</span></li><li><span class='ee-k'>1:</span><span class='ee-v'>-13.940242350747154</span></li></ul></li><li><label class='ee-shut'>588: [-70.77726593250891, -13.940513480715365]<input type='checkbox' class='ee-toggle'></label><ul><li><span class='ee-k'>0:</span><span class='ee-v'>-70.77726593250891</span></li><li><span class='ee-k'>1:</span><span class='ee-v'>-13.940513480715365</span></li></ul></li><li><label class='ee-shut'>589: [-70.77698833668288, -13.940515507359562]<input type='checkbox' class='ee-toggle'></label><ul><li><span class='ee-k'>0:</span><span class='ee-v'>-70.77698833668288</span></li><li><span class='ee-k'>1:</span><span class='ee-v'>-13.940515507359562</span></li></ul></li><li><label class='ee-shut'>590: [-70.77699663629863, -13.941600027349185]<input type='checkbox' class='ee-toggle'></label><ul><li><span class='ee-k'>0:</span><span class='ee-v'>-70.77699663629863</span></li><li><span class='ee-k'>1:</span><span class='ee-v'>-13.941600027349185</span></li></ul></li><li><label class='ee-shut'>591: [-70.77671903913412, -13.941602053840668]<input type='checkbox' class='ee-toggle'></label><ul><li><span class='ee-k'>0:</span><span class='ee-v'>-70.77671903913412</span></li><li><span class='ee-k'>1:</span><span class='ee-v'>-13.941602053840668</span></li></ul></li><li><label class='ee-shut'>592: [-70.77672318856021, -13.942144313884887]<input type='checkbox' class='ee-toggle'></label><ul><li><span class='ee-k'>0:</span><span class='ee-v'>-70.77672318856021</span></li><li><span class='ee-k'>1:</span><span class='ee-v'>-13.942144313884887</span></li></ul></li><li><label class='ee-shut'>593: [-70.77644559070399, -13.942146340142807]<input type='checkbox' class='ee-toggle'></label><ul><li><span class='ee-k'>0:</span><span class='ee-v'>-70.77644559070399</span></li><li><span class='ee-k'>1:</span><span class='ee-v'>-13.942146340142807</span></li></ul></li><li><label class='ee-shut'>594: [-70.77644973966297, -13.942688600231943]<input type='checkbox' class='ee-toggle'></label><ul><li><span class='ee-k'>0:</span><span class='ee-v'>-70.77644973966297</span></li><li><span class='ee-k'>1:</span><span class='ee-v'>-13.942688600231943</span></li></ul></li><li><label class='ee-shut'>595: [-70.77589454251321, -13.94269265196625]<input type='checkbox' class='ee-toggle'></label><ul><li><span class='ee-k'>0:</span><span class='ee-v'>-70.77589454251321</span></li><li><span class='ee-k'>1:</span><span class='ee-v'>-13.94269265196625</span></li></ul></li><li><label class='ee-shut'>596: [-70.77589661641778, -13.942963782087176]<input type='checkbox' class='ee-toggle'></label><ul><li><span class='ee-k'>0:</span><span class='ee-v'>-70.77589661641778</span></li><li><span class='ee-k'>1:</span><span class='ee-v'>-13.942963782087176</span></li></ul></li><li><label class='ee-shut'>597: [-70.77561901745662, -13.942965807518647]<input type='checkbox' class='ee-toggle'></label><ul><li><span class='ee-k'>0:</span><span class='ee-v'>-70.77561901745662</span></li><li><span class='ee-k'>1:</span><span class='ee-v'>-13.942965807518647</span></li></ul></li><li><label class='ee-shut'>598: [-70.77562109107373, -13.943236937675504]<input type='checkbox' class='ee-toggle'></label><ul><li><span class='ee-k'>0:</span><span class='ee-v'>-70.77562109107373</span></li><li><span class='ee-k'>1:</span><span class='ee-v'>-13.943236937675504</span></li></ul></li><li><label class='ee-shut'>599: [-70.77534349174427, -13.94323896283748]<input type='checkbox' class='ee-toggle'></label><ul><li><span class='ee-k'>0:</span><span class='ee-v'>-70.77534349174427</span></li><li><span class='ee-k'>1:</span><span class='ee-v'>-13.94323896283748</span></li></ul></li><li><label class='ee-shut'>600: [-70.7753455650829, -13.943510093021287]<input type='checkbox' class='ee-toggle'></label><ul><li><span class='ee-k'>0:</span><span class='ee-v'>-70.7753455650829</span></li><li><span class='ee-k'>1:</span><span class='ee-v'>-13.943510093021287</span></li></ul></li><li><label class='ee-shut'>601: [-70.77506796538512, -13.943512117904785]<input type='checkbox' class='ee-toggle'></label><ul><li><span class='ee-k'>0:</span><span class='ee-v'>-70.77506796538512</span></li><li><span class='ee-k'>1:</span><span class='ee-v'>-13.943512117904785</span></li></ul></li><li><label class='ee-shut'>602: [-70.77507211154135, -13.944054378344262]<input type='checkbox' class='ee-toggle'></label><ul><li><span class='ee-k'>0:</span><span class='ee-v'>-70.77507211154135</span></li><li><span class='ee-k'>1:</span><span class='ee-v'>-13.944054378344262</span></li></ul></li><li><label class='ee-shut'>603: [-70.77479451115188, -13.9440564029942]<input type='checkbox' class='ee-toggle'></label><ul><li><span class='ee-k'>0:</span><span class='ee-v'>-70.77479451115188</span></li><li><span class='ee-k'>1:</span><span class='ee-v'>-13.9440564029942</span></li></ul></li><li><label class='ee-shut'>604: [-70.77479658397847, -13.944327533240887]<input type='checkbox' class='ee-toggle'></label><ul><li><span class='ee-k'>0:</span><span class='ee-v'>-70.77479658397847</span></li><li><span class='ee-k'>1:</span><span class='ee-v'>-13.944327533240887</span></li></ul></li><li><label class='ee-shut'>605: [-70.77451898322069, -13.94432955762133]<input type='checkbox' class='ee-toggle'></label><ul><li><span class='ee-k'>0:</span><span class='ee-v'>-70.77451898322069</span></li><li><span class='ee-k'>1:</span><span class='ee-v'>-13.94432955762133</span></li></ul></li><li><label class='ee-shut'>606: [-70.77451276585484, -13.943516166719569]<input type='checkbox' class='ee-toggle'></label><ul><li><span class='ee-k'>0:</span><span class='ee-v'>-70.77451276585484</span></li><li><span class='ee-k'>1:</span><span class='ee-v'>-13.943516166719569</span></li></ul></li><li><label class='ee-shut'>607: [-70.77423516602232, -13.943518190659836]<input type='checkbox' class='ee-toggle'></label><ul><li><span class='ee-k'>0:</span><span class='ee-v'>-70.77423516602232</span></li><li><span class='ee-k'>1:</span><span class='ee-v'>-13.943518190659836</span></li></ul></li><li><label class='ee-shut'>608: [-70.77423102197714, -13.94297592994188]<input type='checkbox' class='ee-toggle'></label><ul><li><span class='ee-k'>0:</span><span class='ee-v'>-70.77423102197714</span></li><li><span class='ee-k'>1:</span><span class='ee-v'>-13.94297592994188</span></li></ul></li><li><label class='ee-shut'>609: [-70.77478622030368, -13.942971881926598]<input type='checkbox' class='ee-toggle'></label><ul><li><span class='ee-k'>0:</span><span class='ee-v'>-70.77478622030368</span></li><li><span class='ee-k'>1:</span><span class='ee-v'>-13.942971881926598</span></li></ul></li><li><label class='ee-shut'>610: [-70.7747717130149, -13.941073969813504]<input type='checkbox' class='ee-toggle'></label><ul><li><span class='ee-k'>0:</span><span class='ee-v'>-70.7747717130149</span></li><li><span class='ee-k'>1:</span><span class='ee-v'>-13.941073969813504</span></li></ul></li><li><label class='ee-shut'>611: [-70.77504930984705, -13.941071945612725]<input type='checkbox' class='ee-toggle'></label><ul><li><span class='ee-k'>0:</span><span class='ee-v'>-70.77504930984705</span></li><li><span class='ee-k'>1:</span><span class='ee-v'>-13.941071945612725</span></li></ul></li><li><label class='ee-shut'>612: [-70.77504723722707, -13.940800815330103]<input type='checkbox' class='ee-toggle'></label><ul><li><span class='ee-k'>0:</span><span class='ee-v'>-70.77504723722707</span></li><li><span class='ee-k'>1:</span><span class='ee-v'>-13.940800815330103</span></li></ul></li><li><label class='ee-shut'>613: [-70.7753248336909, -13.940798790850847]<input type='checkbox' class='ee-toggle'></label><ul><li><span class='ee-k'>0:</span><span class='ee-v'>-70.7753248336909</span></li><li><span class='ee-k'>1:</span><span class='ee-v'>-13.940798790850847</span></li></ul></li><li><label class='ee-shut'>614: [-70.77532276079245, -13.940527660604157]<input type='checkbox' class='ee-toggle'></label><ul><li><span class='ee-k'>0:</span><span class='ee-v'>-70.77532276079245</span></li><li><span class='ee-k'>1:</span><span class='ee-v'>-13.940527660604157</span></li></ul></li><li><label class='ee-shut'>615: [-70.77560035688798, -13.940525635855407]<input type='checkbox' class='ee-toggle'></label><ul><li><span class='ee-k'>0:</span><span class='ee-v'>-70.77560035688798</span></li><li><span class='ee-k'>1:</span><span class='ee-v'>-13.940525635855407</span></li></ul></li><li><label class='ee-shut'>616: [-70.77559828371105, -13.940254505635668]<input type='checkbox' class='ee-toggle'></label><ul><li><span class='ee-k'>0:</span><span class='ee-v'>-70.77559828371105</span></li><li><span class='ee-k'>1:</span><span class='ee-v'>-13.940254505635668</span></li></ul></li><li><label class='ee-shut'>617: [-70.77615347511158, -13.9402504552668]<input type='checkbox' class='ee-toggle'></label><ul><li><span class='ee-k'>0:</span><span class='ee-v'>-70.77615347511158</span></li><li><span class='ee-k'>1:</span><span class='ee-v'>-13.9402504552668</span></li></ul></li><li><label class='ee-shut'>618: [-70.77615140133278, -13.939979325127908]<input type='checkbox' class='ee-toggle'></label><ul><li><span class='ee-k'>0:</span><span class='ee-v'>-70.77615140133278</span></li><li><span class='ee-k'>1:</span><span class='ee-v'>-13.939979325127908</span></li></ul></li><li><label class='ee-shut'>619: [-70.77587380598285, -13.939981350424633]<input type='checkbox' class='ee-toggle'></label><ul><li><span class='ee-k'>0:</span><span class='ee-v'>-70.77587380598285</span></li><li><span class='ee-k'>1:</span><span class='ee-v'>-13.939981350424633</span></li></ul></li><li><label class='ee-shut'>620: [-70.77586965920679, -13.939439090048037]<input type='checkbox' class='ee-toggle'></label><ul><li><span class='ee-k'>0:</span><span class='ee-v'>-70.77586965920679</span></li><li><span class='ee-k'>1:</span><span class='ee-v'>-13.939439090048037</span></li></ul></li><li><label class='ee-shut'>621: [-70.77614725391891, -13.939437064823178]<input type='checkbox' class='ee-toggle'></label><ul><li><span class='ee-k'>0:</span><span class='ee-v'>-70.77614725391891</span></li><li><span class='ee-k'>1:</span><span class='ee-v'>-13.939437064823178</span></li></ul></li><li><label class='ee-shut'>622: [-70.77614518026587, -13.939165934666322]<input type='checkbox' class='ee-toggle'></label><ul><li><span class='ee-k'>0:</span><span class='ee-v'>-70.77614518026587</span></li><li><span class='ee-k'>1:</span><span class='ee-v'>-13.939165934666322</span></li></ul></li><li><label class='ee-shut'>623: [-70.77670036890858, -13.939161883363205]<input type='checkbox' class='ee-toggle'></label><ul><li><span class='ee-k'>0:</span><span class='ee-v'>-70.77670036890858</span></li><li><span class='ee-k'>1:</span><span class='ee-v'>-13.939161883363205</span></li></ul></li><li><label class='ee-shut'>624: [-70.77669829466265, -13.938890753278214]<input type='checkbox' class='ee-toggle'></label><ul><li><span class='ee-k'>0:</span><span class='ee-v'>-70.77669829466265</span></li><li><span class='ee-k'>1:</span><span class='ee-v'>-13.938890753278214</span></li></ul></li><li><label class='ee-shut'>625: [-70.77697588859324, -13.938888727190973]<input type='checkbox' class='ee-toggle'></label><ul><li><span class='ee-k'>0:</span><span class='ee-v'>-70.77697588859324</span></li><li><span class='ee-k'>1:</span><span class='ee-v'>-13.938888727190973</span></li></ul></li><li><label class='ee-shut'>626: [-70.77697381405986, -13.938617597141914]<input type='checkbox' class='ee-toggle'></label><ul><li><span class='ee-k'>0:</span><span class='ee-v'>-70.77697381405986</span></li><li><span class='ee-k'>1:</span><span class='ee-v'>-13.938617597141914</span></li></ul></li><li><label class='ee-shut'>627: [-70.77725140762213, -13.938615570785178]<input type='checkbox' class='ee-toggle'></label><ul><li><span class='ee-k'>0:</span><span class='ee-v'>-70.77725140762213</span></li><li><span class='ee-k'>1:</span><span class='ee-v'>-13.938615570785178</span></li></ul></li><li><label class='ee-shut'>628: [-70.77724933281925, -13.93834444077205]<input type='checkbox' class='ee-toggle'></label><ul><li><span class='ee-k'>0:</span><span class='ee-v'>-70.77724933281925</span></li><li><span class='ee-k'>1:</span><span class='ee-v'>-13.93834444077205</span></li></ul></li><li><label class='ee-shut'>629: [-70.77780451915329, -13.938340387187214]<input type='checkbox' class='ee-toggle'></label><ul><li><span class='ee-k'>0:</span><span class='ee-v'>-70.77780451915329</span></li><li><span class='ee-k'>1:</span><span class='ee-v'>-13.938340387187214</span></li></ul></li><li><label class='ee-shut'>630: [-70.77780244374854, -13.938069257245951]<input type='checkbox' class='ee-toggle'></label><ul><li><span class='ee-k'>0:</span><span class='ee-v'>-70.77780244374854</span></li><li><span class='ee-k'>1:</span><span class='ee-v'>-13.938069257245951</span></li></ul></li><li><label class='ee-shut'>631: [-70.7783576292651, -13.938065202475338]<input type='checkbox' class='ee-toggle'></label><ul><li><span class='ee-k'>0:</span><span class='ee-v'>-70.7783576292651</span></li><li><span class='ee-k'>1:</span><span class='ee-v'>-13.938065202475338</span></li></ul></li><li><label class='ee-shut'>632: [-70.7783555532495, -13.937794072605943]<input type='checkbox' class='ee-toggle'></label><ul><li><span class='ee-k'>0:</span><span class='ee-v'>-70.7783555532495</span></li><li><span class='ee-k'>1:</span><span class='ee-v'>-13.937794072605943</span></li></ul></li><li><label class='ee-shut'>633: [-70.77863314561701, -13.937792044793936]<input type='checkbox' class='ee-toggle'></label><ul><li><span class='ee-k'>0:</span><span class='ee-v'>-70.77863314561701</span></li><li><span class='ee-k'>1:</span><span class='ee-v'>-13.937792044793936</span></li></ul></li><li><label class='ee-shut'>634: [-70.77862899308275, -13.93724978512701]<input type='checkbox' class='ee-toggle'></label><ul><li><span class='ee-k'>0:</span><span class='ee-v'>-70.77862899308275</span></li><li><span class='ee-k'>1:</span><span class='ee-v'>-13.93724978512701</span></li></ul></li><li><label class='ee-shut'>635: [-70.77835140136202, -13.937251812858168]<input type='checkbox' class='ee-toggle'></label><ul><li><span class='ee-k'>0:</span><span class='ee-v'>-70.77835140136202</span></li><li><span class='ee-k'>1:</span><span class='ee-v'>-13.937251812858168</span></li></ul></li><li><label class='ee-shut'>636: [-70.77834932548116, -13.936980682979788]<input type='checkbox' class='ee-toggle'></label><ul><li><span class='ee-k'>0:</span><span class='ee-v'>-70.77834932548116</span></li><li><span class='ee-k'>1:</span><span class='ee-v'>-13.936980682979788</span></li></ul></li><li><label class='ee-shut'>637: [-70.7786269168785, -13.936978655284562]<input type='checkbox' class='ee-toggle'></label><ul><li><span class='ee-k'>0:</span><span class='ee-v'>-70.7786269168785</span></li><li><span class='ee-k'>1:</span><span class='ee-v'>-13.936978655284562</span></li></ul></li><li><label class='ee-shut'>638: [-70.77862484071916, -13.936707525433134]<input type='checkbox' class='ee-toggle'></label><ul><li><span class='ee-k'>0:</span><span class='ee-v'>-70.77862484071916</span></li><li><span class='ee-k'>1:</span><span class='ee-v'>-13.936707525433134</span></li></ul></li><li><label class='ee-shut'>639: [-70.7789024317482, -13.936705497468413]<input type='checkbox' class='ee-toggle'></label><ul><li><span class='ee-k'>0:</span><span class='ee-v'>-70.7789024317482</span></li><li><span class='ee-k'>1:</span><span class='ee-v'>-13.936705497468413</span></li></ul></li><li><label class='ee-shut'>640: [-70.77890035531037, -13.936434367652916]<input type='checkbox' class='ee-toggle'></label><ul><li><span class='ee-k'>0:</span><span class='ee-v'>-70.77890035531037</span></li><li><span class='ee-k'>1:</span><span class='ee-v'>-13.936434367652916</span></li></ul></li><li><label class='ee-shut'>641: [-70.77862276460475, -13.936436395581703]<input type='checkbox' class='ee-toggle'></label><ul><li><span class='ee-k'>0:</span><span class='ee-v'>-70.77862276460475</span></li><li><span class='ee-k'>1:</span><span class='ee-v'>-13.936436395581703</span></li></ul></li><li><label class='ee-shut'>642: [-70.77862068854422, -13.936165265721291]<input type='checkbox' class='ee-toggle'></label><ul><li><span class='ee-k'>0:</span><span class='ee-v'>-70.77862068854422</span></li><li><span class='ee-k'>1:</span><span class='ee-v'>-13.936165265721291</span></li></ul></li><li><label class='ee-shut'>643: [-70.77834309811706, -13.936167293290753]<input type='checkbox' class='ee-toggle'></label><ul><li><span class='ee-k'>0:</span><span class='ee-v'>-70.77834309811706</span></li><li><span class='ee-k'>1:</span><span class='ee-v'>-13.936167293290753</span></li></ul></li><li><label class='ee-shut'>644: [-70.77834102241587, -13.935896163385424]<input type='checkbox' class='ee-toggle'></label><ul><li><span class='ee-k'>0:</span><span class='ee-v'>-70.77834102241587</span></li><li><span class='ee-k'>1:</span><span class='ee-v'>-13.935896163385424</span></li></ul></li><li><label class='ee-shut'>645: [-70.7777858420736, -13.935900217491284]<input type='checkbox' class='ee-toggle'></label><ul><li><span class='ee-k'>0:</span><span class='ee-v'>-70.7777858420736</span></li><li><span class='ee-k'>1:</span><span class='ee-v'>-13.935900217491284</span></li></ul></li><li><label class='ee-shut'>646: [-70.77779206737156, -13.936713607449814]<input type='checkbox' class='ee-toggle'></label><ul><li><span class='ee-k'>0:</span><span class='ee-v'>-70.77779206737156</span></li><li><span class='ee-k'>1:</span><span class='ee-v'>-13.936713607449814</span></li></ul></li><li><label class='ee-shut'>647: [-70.77695929361974, -13.936719686618837]<input type='checkbox' class='ee-toggle'></label><ul><li><span class='ee-k'>0:</span><span class='ee-v'>-70.77695929361974</span></li><li><span class='ee-k'>1:</span><span class='ee-v'>-13.936719686618837</span></li></ul></li><li><label class='ee-shut'>648: [-70.77695514531653, -13.936177426403939]<input type='checkbox' class='ee-toggle'></label><ul><li><span class='ee-k'>0:</span><span class='ee-v'>-70.77695514531653</span></li><li><span class='ee-k'>1:</span><span class='ee-v'>-13.936177426403939</span></li></ul></li><li><label class='ee-shut'>649: [-70.77667755462888, -13.936179452077955]<input type='checkbox' class='ee-toggle'></label><ul><li><span class='ee-k'>0:</span><span class='ee-v'>-70.77667755462888</span></li><li><span class='ee-k'>1:</span><span class='ee-v'>-13.936179452077955</span></li></ul></li><li><label class='ee-shut'>650: [-70.77667548086804, -13.93590832193008]<input type='checkbox' class='ee-toggle'></label><ul><li><span class='ee-k'>0:</span><span class='ee-v'>-70.77667548086804</span></li><li><span class='ee-k'>1:</span><span class='ee-v'>-13.93590832193008</span></li></ul></li><li><label class='ee-shut'>651: [-70.77639789044987, -13.935910347244771]<input type='checkbox' class='ee-toggle'></label><ul><li><span class='ee-k'>0:</span><span class='ee-v'>-70.77639789044987</span></li><li><span class='ee-k'>1:</span><span class='ee-v'>-13.935910347244771</span></li></ul></li><li><label class='ee-shut'>652: [-70.77639581706633, -13.935639217042999]<input type='checkbox' class='ee-toggle'></label><ul><li><span class='ee-k'>0:</span><span class='ee-v'>-70.77639581706633</span></li><li><span class='ee-k'>1:</span><span class='ee-v'>-13.935639217042999</span></li></ul></li><li><label class='ee-shut'>653: [-70.77528545625601, -13.935647314986975]<input type='checkbox' class='ee-toggle'></label><ul><li><span class='ee-k'>0:</span><span class='ee-v'>-70.77528545625601</span></li><li><span class='ee-k'>1:</span><span class='ee-v'>-13.935647314986975</span></li></ul></li><li><label class='ee-shut'>654: [-70.77528338421097, -13.935376184614523]<input type='checkbox' class='ee-toggle'></label><ul><li><span class='ee-k'>0:</span><span class='ee-v'>-70.77528338421097</span></li><li><span class='ee-k'>1:</span><span class='ee-v'>-13.935376184614523</span></li></ul></li><li><label class='ee-shut'>655: [-70.77445061411528, -13.935382254638695]<input type='checkbox' class='ee-toggle'></label><ul><li><span class='ee-k'>0:</span><span class='ee-v'>-70.77445061411528</span></li><li><span class='ee-k'>1:</span><span class='ee-v'>-13.935382254638695</span></li></ul></li><li><label class='ee-shut'>656: [-70.77445268519016, -13.935653385127928]<input type='checkbox' class='ee-toggle'></label><ul><li><span class='ee-k'>0:</span><span class='ee-v'>-70.77445268519016</span></li><li><span class='ee-k'>1:</span><span class='ee-v'>-13.935653385127928</span></li></ul></li><li><label class='ee-shut'>657: [-70.77417509474503, -13.93565540788242]<input type='checkbox' class='ee-toggle'></label><ul><li><span class='ee-k'>0:</span><span class='ee-v'>-70.77417509474503</span></li><li><span class='ee-k'>1:</span><span class='ee-v'>-13.93565540788242</span></li></ul></li><li><label class='ee-shut'>658: [-70.77417302399355, -13.935384277348271]<input type='checkbox' class='ee-toggle'></label><ul><li><span class='ee-k'>0:</span><span class='ee-v'>-70.77417302399355</span></li><li><span class='ee-k'>1:</span><span class='ee-v'>-13.935384277348271</span></li></ul></li><li><label class='ee-shut'>659: [-70.77389543382691, -13.935386299734454]<input type='checkbox' class='ee-toggle'></label><ul><li><span class='ee-k'>0:</span><span class='ee-v'>-70.77389543382691</span></li><li><span class='ee-k'>1:</span><span class='ee-v'>-13.935386299734454</span></li></ul></li><li><label class='ee-shut'>660: [-70.77389336343475, -13.935115169155388]<input type='checkbox' class='ee-toggle'></label><ul><li><span class='ee-k'>0:</span><span class='ee-v'>-70.77389336343475</span></li><li><span class='ee-k'>1:</span><span class='ee-v'>-13.935115169155388</span></li></ul></li><li><label class='ee-shut'>661: [-70.7736157735466, -13.935117191191228]<input type='checkbox' class='ee-toggle'></label><ul><li><span class='ee-k'>0:</span><span class='ee-v'>-70.7736157735466</span></li><li><span class='ee-k'>1:</span><span class='ee-v'>-13.935117191191228</span></li></ul></li><li><label class='ee-shut'>662: [-70.77361370352274, -13.934846060558264]<input type='checkbox' class='ee-toggle'></label><ul><li><span class='ee-k'>0:</span><span class='ee-v'>-70.77361370352274</span></li><li><span class='ee-k'>1:</span><span class='ee-v'>-13.934846060558264</span></li></ul></li><li><label class='ee-shut'>663: [-70.77333611392204, -13.934848082234778]<input type='checkbox' class='ee-toggle'></label><ul><li><span class='ee-k'>0:</span><span class='ee-v'>-70.77333611392204</span></li><li><span class='ee-k'>1:</span><span class='ee-v'>-13.934848082234778</span></li></ul></li><li><label class='ee-shut'>664: [-70.7733340442665, -13.934576951556897]<input type='checkbox' class='ee-toggle'></label><ul><li><span class='ee-k'>0:</span><span class='ee-v'>-70.7733340442665</span></li><li><span class='ee-k'>1:</span><span class='ee-v'>-13.934576951556897</span></li></ul></li><li><label class='ee-shut'>665: [-70.77277886556816, -13.934580993885845]<input type='checkbox' class='ee-toggle'></label><ul><li><span class='ee-k'>0:</span><span class='ee-v'>-70.77277886556816</span></li><li><span class='ee-k'>1:</span><span class='ee-v'>-13.934580993885845</span></li></ul></li><li><label class='ee-shut'>666: [-70.7727809345769, -13.934852124644573]<input type='checkbox' class='ee-toggle'></label><ul><li><span class='ee-k'>0:</span><span class='ee-v'>-70.7727809345769</span></li><li><span class='ee-k'>1:</span><span class='ee-v'>-13.934852124644573</span></li></ul></li><li><label class='ee-shut'>667: [-70.77250334483247, -13.934854145368872]<input type='checkbox' class='ee-toggle'></label><ul><li><span class='ee-k'>0:</span><span class='ee-v'>-70.77250334483247</span></li><li><span class='ee-k'>1:</span><span class='ee-v'>-13.934854145368872</span></li></ul></li><li><label class='ee-shut'>668: [-70.77250541356274, -13.935125276163532]<input type='checkbox' class='ee-toggle'></label><ul><li><span class='ee-k'>0:</span><span class='ee-v'>-70.77250541356274</span></li><li><span class='ee-k'>1:</span><span class='ee-v'>-13.935125276163532</span></li></ul></li><li><label class='ee-shut'>669: [-70.77222782345898, -13.935127296618337]<input type='checkbox' class='ee-toggle'></label><ul><li><span class='ee-k'>0:</span><span class='ee-v'>-70.77222782345898</span></li><li><span class='ee-k'>1:</span><span class='ee-v'>-13.935127296618337</span></li></ul></li><li><label class='ee-shut'>670: [-70.7722216183731, -13.934313904099607]<input type='checkbox' class='ee-toggle'></label><ul><li><span class='ee-k'>0:</span><span class='ee-v'>-70.7722216183731</span></li><li><span class='ee-k'>1:</span><span class='ee-v'>-13.934313904099607</span></li></ul></li><li><label class='ee-shut'>671: [-70.7719440291946, -13.934315924114237]<input type='checkbox' class='ee-toggle'></label><ul><li><span class='ee-k'>0:</span><span class='ee-v'>-70.7719440291946</span></li><li><span class='ee-k'>1:</span><span class='ee-v'>-13.934315924114237</span></li></ul></li><li><label class='ee-shut'>672: [-70.77194196124587, -13.934044793220762]<input type='checkbox' class='ee-toggle'></label><ul><li><span class='ee-k'>0:</span><span class='ee-v'>-70.77194196124587</span></li><li><span class='ee-k'>1:</span><span class='ee-v'>-13.934044793220762</span></li></ul></li><li><label class='ee-shut'>673: [-70.77166437234585, -13.934046812876066]<input type='checkbox' class='ee-toggle'></label><ul><li><span class='ee-k'>0:</span><span class='ee-v'>-70.77166437234585</span></li><li><span class='ee-k'>1:</span><span class='ee-v'>-13.934046812876066</span></li></ul></li><li><label class='ee-shut'>674: [-70.77166230476543, -13.933775681937675]<input type='checkbox' class='ee-toggle'></label><ul><li><span class='ee-k'>0:</span><span class='ee-v'>-70.77166230476543</span></li><li><span class='ee-k'>1:</span><span class='ee-v'>-13.933775681937675</span></li></ul></li><li><label class='ee-shut'>675: [-70.77193989334205, -13.933773662318304]<input type='checkbox' class='ee-toggle'></label><ul><li><span class='ee-k'>0:</span><span class='ee-v'>-70.77193989334205</span></li><li><span class='ee-k'>1:</span><span class='ee-v'>-13.933773662318304</span></li></ul></li><li><label class='ee-shut'>676: [-70.77193575766017, -13.933231400504404]<input type='checkbox' class='ee-toggle'></label><ul><li><span class='ee-k'>0:</span><span class='ee-v'>-70.77193575766017</span></li><li><span class='ee-k'>1:</span><span class='ee-v'>-13.933231400504404</span></li></ul></li><li><label class='ee-shut'>677: [-70.77221334555408, -13.93322938065147]<input type='checkbox' class='ee-toggle'></label><ul><li><span class='ee-k'>0:</span><span class='ee-v'>-70.77221334555408</span></li><li><span class='ee-k'>1:</span><span class='ee-v'>-13.93322938065147</span></li></ul></li><li><label class='ee-shut'>678: [-70.77221127745264, -13.932958249766978]<input type='checkbox' class='ee-toggle'></label><ul><li><span class='ee-k'>0:</span><span class='ee-v'>-70.77221127745264</span></li><li><span class='ee-k'>1:</span><span class='ee-v'>-13.932958249766978</span></li></ul></li><li><label class='ee-shut'>679: [-70.77248886497823, -13.93295622964455]<input type='checkbox' class='ee-toggle'></label><ul><li><span class='ee-k'>0:</span><span class='ee-v'>-70.77248886497823</span></li><li><span class='ee-k'>1:</span><span class='ee-v'>-13.93295622964455</span></li></ul></li><li><label class='ee-shut'>680: [-70.77248679659832, -13.932685098795991]<input type='checkbox' class='ee-toggle'></label><ul><li><span class='ee-k'>0:</span><span class='ee-v'>-70.77248679659832</span></li><li><span class='ee-k'>1:</span><span class='ee-v'>-13.932685098795991</span></li></ul></li><li><label class='ee-shut'>681: [-70.7727643837556, -13.932683078395085]<input type='checkbox' class='ee-toggle'></label><ul><li><span class='ee-k'>0:</span><span class='ee-v'>-70.7727643837556</span></li><li><span class='ee-k'>1:</span><span class='ee-v'>-13.932683078395085</span></li></ul></li><li><label class='ee-shut'>682: [-70.7727623150972, -13.932411947582459]<input type='checkbox' class='ee-toggle'></label><ul><li><span class='ee-k'>0:</span><span class='ee-v'>-70.7727623150972</span></li><li><span class='ee-k'>1:</span><span class='ee-v'>-13.932411947582459</span></li></ul></li><li><label class='ee-shut'>683: [-70.77303990188618, -13.932409926912058]<input type='checkbox' class='ee-toggle'></label><ul><li><span class='ee-k'>0:</span><span class='ee-v'>-70.77303990188618</span></li><li><span class='ee-k'>1:</span><span class='ee-v'>-13.932409926912058</span></li></ul></li><li><label class='ee-shut'>684: [-70.77303783294929, -13.932138796135364]<input type='checkbox' class='ee-toggle'></label><ul><li><span class='ee-k'>0:</span><span class='ee-v'>-70.77303783294929</span></li><li><span class='ee-k'>1:</span><span class='ee-v'>-13.932138796135364</span></li></ul></li><li><label class='ee-shut'>685: [-70.77331541936996, -13.932136775177502]<input type='checkbox' class='ee-toggle'></label><ul><li><span class='ee-k'>0:</span><span class='ee-v'>-70.77331541936996</span></li><li><span class='ee-k'>1:</span><span class='ee-v'>-13.932136775177502</span></li></ul></li><li><label class='ee-shut'>686: [-70.77331128098416, -13.931594513695979]<input type='checkbox' class='ee-toggle'></label><ul><li><span class='ee-k'>0:</span><span class='ee-v'>-70.77331128098416</span></li><li><span class='ee-k'>1:</span><span class='ee-v'>-13.931594513695979</span></li></ul></li><li><label class='ee-shut'>687: [-70.77358886671313, -13.931592492504556]<input type='checkbox' class='ee-toggle'></label><ul><li><span class='ee-k'>0:</span><span class='ee-v'>-70.77358886671313</span></li><li><span class='ee-k'>1:</span><span class='ee-v'>-13.931592492504556</span></li></ul></li><li><label class='ee-shut'>688: [-70.77358058918693, -13.930507969622358]<input type='checkbox' class='ee-toggle'></label><ul><li><span class='ee-k'>0:</span><span class='ee-v'>-70.77358058918693</span></li><li><span class='ee-k'>1:</span><span class='ee-v'>-13.930507969622358</span></li></ul></li><li><label class='ee-shut'>689: [-70.77330300476054, -13.9305099906431]<input type='checkbox' class='ee-toggle'></label><ul><li><span class='ee-k'>0:</span><span class='ee-v'>-70.77330300476054</span></li><li><span class='ee-k'>1:</span><span class='ee-v'>-13.9305099906431</span></li></ul></li><li><label class='ee-shut'>690: [-70.77329679805769, -13.929696598286068]<input type='checkbox' class='ee-toggle'></label><ul><li><span class='ee-k'>0:</span><span class='ee-v'>-70.77329679805769</span></li><li><span class='ee-k'>1:</span><span class='ee-v'>-13.929696598286068</span></li></ul></li><li><label class='ee-shut'>691: [-70.77357438151392, -13.92969457739109]<input type='checkbox' class='ee-toggle'></label><ul><li><span class='ee-k'>0:</span><span class='ee-v'>-70.77357438151392</span></li><li><span class='ee-k'>1:</span><span class='ee-v'>-13.92969457739109</span></li></ul></li><li><label class='ee-shut'>692: [-70.77356817423615, -13.92888118509694]<input type='checkbox' class='ee-toggle'></label><ul><li><span class='ee-k'>0:</span><span class='ee-v'>-70.77356817423615</span></li><li><span class='ee-k'>1:</span><span class='ee-v'>-13.92888118509694</span></li></ul></li><li><label class='ee-shut'>693: [-70.77384575668627, -13.92887916400433]<input type='checkbox' class='ee-toggle'></label><ul><li><span class='ee-k'>0:</span><span class='ee-v'>-70.77384575668627</span></li><li><span class='ee-k'>1:</span><span class='ee-v'>-13.92887916400433</span></li></ul></li><li><label class='ee-shut'>694: [-70.77384161807589, -13.92833690253179]<input type='checkbox' class='ee-toggle'></label><ul><li><span class='ee-k'>0:</span><span class='ee-v'>-70.77384161807589</span></li><li><span class='ee-k'>1:</span><span class='ee-v'>-13.92833690253179</span></li></ul></li><li><label class='ee-shut'>695: [-70.7741191998343, -13.92833488120562]<input type='checkbox' class='ee-toggle'></label><ul><li><span class='ee-k'>0:</span><span class='ee-v'>-70.7741191998343</span></li><li><span class='ee-k'>1:</span><span class='ee-v'>-13.92833488120562</span></li></ul></li><li><label class='ee-shut'>696: [-70.77411299128093, -13.927521489064183]<input type='checkbox' class='ee-toggle'></label><ul><li><span class='ee-k'>0:</span><span class='ee-v'>-70.77411299128093</span></li><li><span class='ee-k'>1:</span><span class='ee-v'>-13.927521489064183</span></li></ul></li><li><label class='ee-shut'>697: [-70.77355782966853, -13.927525531159569]<input type='checkbox' class='ee-toggle'></label><ul><li><span class='ee-k'>0:</span><span class='ee-v'>-70.77355782966853</span></li><li><span class='ee-k'>1:</span><span class='ee-v'>-13.927525531159569</span></li></ul></li><li><label class='ee-shut'>698: [-70.77354748619686, -13.9261698770605]<input type='checkbox' class='ee-toggle'></label><ul><li><span class='ee-k'>0:</span><span class='ee-v'>-70.77354748619686</span></li><li><span class='ee-k'>1:</span><span class='ee-v'>-13.9261698770605</span></li></ul></li><li><label class='ee-shut'>699: [-70.77382506541304, -13.926167856381118]<input type='checkbox' class='ee-toggle'></label><ul><li><span class='ee-k'>0:</span><span class='ee-v'>-70.77382506541304</span></li><li><span class='ee-k'>1:</span><span class='ee-v'>-13.926167856381118</span></li></ul></li><li><label class='ee-shut'>700: [-70.77382299653006, -13.925896725577473]<input type='checkbox' class='ee-toggle'></label><ul><li><span class='ee-k'>0:</span><span class='ee-v'>-70.77382299653006</span></li><li><span class='ee-k'>1:</span><span class='ee-v'>-13.925896725577473</span></li></ul></li><li><label class='ee-shut'>701: [-70.77354541763727, -13.925898746220925]<input type='checkbox' class='ee-toggle'></label><ul><li><span class='ee-k'>0:</span><span class='ee-v'>-70.77354541763727</span></li><li><span class='ee-k'>1:</span><span class='ee-v'>-13.925898746220925</span></li></ul></li><li><label class='ee-shut'>702: [-70.77353921221902, -13.925085353666262]<input type='checkbox' class='ee-toggle'></label><ul><li><span class='ee-k'>0:</span><span class='ee-v'>-70.77353921221902</span></li><li><span class='ee-k'>1:</span><span class='ee-v'>-13.925085353666262</span></li></ul></li><li><label class='ee-shut'>703: [-70.77381679014162, -13.925083333148576]<input type='checkbox' class='ee-toggle'></label><ul><li><span class='ee-k'>0:</span><span class='ee-v'>-70.77381679014162</span></li><li><span class='ee-k'>1:</span><span class='ee-v'>-13.925083333148576</span></li></ul></li><li><label class='ee-shut'>704: [-70.77381058415743, -13.924269940656796]<input type='checkbox' class='ee-toggle'></label><ul><li><span class='ee-k'>0:</span><span class='ee-v'>-70.77381058415743</span></li><li><span class='ee-k'>1:</span><span class='ee-v'>-13.924269940656796</span></li></ul></li><li><label class='ee-shut'>705: [-70.773533007205, -13.924271961057702]<input type='checkbox' class='ee-toggle'></label><ul><li><span class='ee-k'>0:</span><span class='ee-v'>-70.773533007205</span></li><li><span class='ee-k'>1:</span><span class='ee-v'>-13.924271961057702</span></li></ul></li><li><label class='ee-shut'>706: [-70.77353093895084, -13.92400083017321]<input type='checkbox' class='ee-toggle'></label><ul><li><span class='ee-k'>0:</span><span class='ee-v'>-70.77353093895084</span></li><li><span class='ee-k'>1:</span><span class='ee-v'>-13.92400083017321</span></li></ul></li><li><label class='ee-shut'>707: [-70.77297578556701, -13.924004869950942]<input type='checkbox' class='ee-toggle'></label><ul><li><span class='ee-k'>0:</span><span class='ee-v'>-70.77297578556701</span></li><li><span class='ee-k'>1:</span><span class='ee-v'>-13.924004869950942</span></li></ul></li><li><label class='ee-shut'>708: [-70.7729778531744, -13.924276000907298]<input type='checkbox' class='ee-toggle'></label><ul><li><span class='ee-k'>0:</span><span class='ee-v'>-70.7729778531744</span></li><li><span class='ee-k'>1:</span><span class='ee-v'>-13.924276000907298</span></li></ul></li><li><label class='ee-shut'>709: [-70.7727002760962, -13.924278020364973]<input type='checkbox' class='ee-toggle'></label><ul><li><span class='ee-k'>0:</span><span class='ee-v'>-70.7727002760962</span></li><li><span class='ee-k'>1:</span><span class='ee-v'>-13.924278020364973</span></li></ul></li><li><label class='ee-shut'>710: [-70.77270234341611, -13.924549151366246]<input type='checkbox' class='ee-toggle'></label><ul><li><span class='ee-k'>0:</span><span class='ee-v'>-70.77270234341611</span></li><li><span class='ee-k'>1:</span><span class='ee-v'>-13.924549151366246</span></li></ul></li><li><label class='ee-shut'>711: [-70.77242476596962, -13.92455117053646]<input type='checkbox' class='ee-toggle'></label><ul><li><span class='ee-k'>0:</span><span class='ee-v'>-70.77242476596962</span></li><li><span class='ee-k'>1:</span><span class='ee-v'>-13.92455117053646</span></li></ul></li><li><label class='ee-shut'>712: [-70.77242683301105, -13.924822301573666]<input type='checkbox' class='ee-toggle'></label><ul><li><span class='ee-k'>0:</span><span class='ee-v'>-70.77242683301105</span></li><li><span class='ee-k'>1:</span><span class='ee-v'>-13.924822301573666</span></li></ul></li><li><label class='ee-shut'>713: [-70.77187167733652, -13.924826339060694]<input type='checkbox' class='ee-toggle'></label><ul><li><span class='ee-k'>0:</span><span class='ee-v'>-70.77187167733652</span></li><li><span class='ee-k'>1:</span><span class='ee-v'>-13.924826339060694</span></li></ul></li><li><label class='ee-shut'>714: [-70.77186961094186, -13.924555207942639]<input type='checkbox' class='ee-toggle'></label><ul><li><span class='ee-k'>0:</span><span class='ee-v'>-70.77186961094186</span></li><li><span class='ee-k'>1:</span><span class='ee-v'>-13.924555207942639</span></li></ul></li><li><label class='ee-shut'>715: [-70.77103687806338, -13.92456126168934]<input type='checkbox' class='ee-toggle'></label><ul><li><span class='ee-k'>0:</span><span class='ee-v'>-70.77103687806338</span></li><li><span class='ee-k'>1:</span><span class='ee-v'>-13.92456126168934</span></li></ul></li><li><label class='ee-shut'>716: [-70.77103894348785, -13.924832392924174]<input type='checkbox' class='ee-toggle'></label><ul><li><span class='ee-k'>0:</span><span class='ee-v'>-70.77103894348785</span></li><li><span class='ee-k'>1:</span><span class='ee-v'>-13.924832392924174</span></li></ul></li><li><label class='ee-shut'>717: [-70.77048378737314, -13.924836427258114]<input type='checkbox' class='ee-toggle'></label><ul><li><span class='ee-k'>0:</span><span class='ee-v'>-70.77048378737314</span></li><li><span class='ee-k'>1:</span><span class='ee-v'>-13.924836427258114</span></li></ul></li><li><label class='ee-shut'>718: [-70.77048172258648, -13.924565295933448]<input type='checkbox' class='ee-toggle'></label><ul><li><span class='ee-k'>0:</span><span class='ee-v'>-70.77048172258648</span></li><li><span class='ee-k'>1:</span><span class='ee-v'>-13.924565295933448</span></li></ul></li><li><label class='ee-shut'>719: [-70.76992656693889, -13.924569328919917]<input type='checkbox' class='ee-toggle'></label><ul><li><span class='ee-k'>0:</span><span class='ee-v'>-70.76992656693889</span></li><li><span class='ee-k'>1:</span><span class='ee-v'>-13.924569328919917</span></li></ul></li><li><label class='ee-shut'>720: [-70.76992243879388, -13.924027066099903]<input type='checkbox' class='ee-toggle'></label><ul><li><span class='ee-k'>0:</span><span class='ee-v'>-70.76992243879388</span></li><li><span class='ee-k'>1:</span><span class='ee-v'>-13.924027066099903</span></li></ul></li><li><label class='ee-shut'>721: [-70.769644861554, -13.924029082036181]<input type='checkbox' class='ee-toggle'></label><ul><li><span class='ee-k'>0:</span><span class='ee-v'>-70.769644861554</span></li><li><span class='ee-k'>1:</span><span class='ee-v'>-13.924029082036181</span></li></ul></li><li><label class='ee-shut'>722: [-70.76963454359448, -13.92267342467623]<input type='checkbox' class='ee-toggle'></label><ul><li><span class='ee-k'>0:</span><span class='ee-v'>-70.76963454359448</span></li><li><span class='ee-k'>1:</span><span class='ee-v'>-13.92267342467623</span></li></ul></li><li><label class='ee-shut'>723: [-70.76991211922638, -13.92267140893758]<input type='checkbox' class='ee-toggle'></label><ul><li><span class='ee-k'>0:</span><span class='ee-v'>-70.76991211922638</span></li><li><span class='ee-k'>1:</span><span class='ee-v'>-13.92267140893758</span></li></ul></li><li><label class='ee-shut'>724: [-70.76990592801049, -13.921858014568322]<input type='checkbox' class='ee-toggle'></label><ul><li><span class='ee-k'>0:</span><span class='ee-v'>-70.76990592801049</span></li><li><span class='ee-k'>1:</span><span class='ee-v'>-13.921858014568322</span></li></ul></li><li><label class='ee-shut'>725: [-70.76962835334876, -13.921860030172224]<input type='checkbox' class='ee-toggle'></label><ul><li><span class='ee-k'>0:</span><span class='ee-v'>-70.76962835334876</span></li><li><span class='ee-k'>1:</span><span class='ee-v'>-13.921860030172224</span></li></ul></li><li><label class='ee-shut'>726: [-70.76962216349833, -13.921046635623302]<input type='checkbox' class='ee-toggle'></label><ul><li><span class='ee-k'>0:</span><span class='ee-v'>-70.76962216349833</span></li><li><span class='ee-k'>1:</span><span class='ee-v'>-13.921046635623302</span></li></ul></li><li><label class='ee-shut'>727: [-70.76989973718986, -13.92104462013618]<input type='checkbox' class='ee-toggle'></label><ul><li><span class='ee-k'>0:</span><span class='ee-v'>-70.76989973718986</span></li><li><span class='ee-k'>1:</span><span class='ee-v'>-13.92104462013618</span></li></ul></li><li><label class='ee-shut'>728: [-70.76989767366983, -13.920773488640835]<input type='checkbox' class='ee-toggle'></label><ul><li><span class='ee-k'>0:</span><span class='ee-v'>-70.76989767366983</span></li><li><span class='ee-k'>1:</span><span class='ee-v'>-13.920773488640835</span></li></ul></li><li><label class='ee-shut'>729: [-70.77017524699306, -13.92077147288422]<input type='checkbox' class='ee-toggle'></label><ul><li><span class='ee-k'>0:</span><span class='ee-v'>-70.77017524699306</span></li><li><span class='ee-k'>1:</span><span class='ee-v'>-13.92077147288422</span></li></ul></li><li><label class='ee-shut'>730: [-70.77017318320353, -13.920500341424805]<input type='checkbox' class='ee-toggle'></label><ul><li><span class='ee-k'>0:</span><span class='ee-v'>-70.77017318320353</span></li><li><span class='ee-k'>1:</span><span class='ee-v'>-13.920500341424805</span></li></ul></li><li><label class='ee-shut'>731: [-70.77045075615845, -13.920498325389712]<input type='checkbox' class='ee-toggle'></label><ul><li><span class='ee-k'>0:</span><span class='ee-v'>-70.77045075615845</span></li><li><span class='ee-k'>1:</span><span class='ee-v'>-13.920498325389712</span></li></ul></li><li><label class='ee-shut'>732: [-70.77044456406222, -13.919684931110284]<input type='checkbox' class='ee-toggle'></label><ul><li><span class='ee-k'>0:</span><span class='ee-v'>-70.77044456406222</span></li><li><span class='ee-k'>1:</span><span class='ee-v'>-13.919684931110284</span></li></ul></li><li><label class='ee-shut'>733: [-70.77072213600204, -13.919682914877562]<input type='checkbox' class='ee-toggle'></label><ul><li><span class='ee-k'>0:</span><span class='ee-v'>-70.77072213600204</span></li><li><span class='ee-k'>1:</span><span class='ee-v'>-13.919682914877562</span></li></ul></li><li><label class='ee-shut'>734: [-70.77071594333987, -13.918869520661017]<input type='checkbox' class='ee-toggle'></label><ul><li><span class='ee-k'>0:</span><span class='ee-v'>-70.77071594333987</span></li><li><span class='ee-k'>1:</span><span class='ee-v'>-13.918869520661017</span></li></ul></li><li><label class='ee-shut'>735: [-70.77043837237022, -13.918871536767975]<input type='checkbox' class='ee-toggle'></label><ul><li><span class='ee-k'>0:</span><span class='ee-v'>-70.77043837237022</span></li><li><span class='ee-k'>1:</span><span class='ee-v'>-13.918871536767975</span></li></ul></li><li><label class='ee-shut'>736: [-70.77043424479115, -13.918329273849148]<input type='checkbox' class='ee-toggle'></label><ul><li><span class='ee-k'>0:</span><span class='ee-v'>-70.77043424479115</span></li><li><span class='ee-k'>1:</span><span class='ee-v'>-13.918329273849148</span></li></ul></li><li><label class='ee-shut'>737: [-70.77015667442338, -13.918331289560847]<input type='checkbox' class='ee-toggle'></label><ul><li><span class='ee-k'>0:</span><span class='ee-v'>-70.77015667442338</span></li><li><span class='ee-k'>1:</span><span class='ee-v'>-13.918331289560847</span></li></ul></li><li><label class='ee-shut'>738: [-70.77015254767076, -13.917789026525238]<input type='checkbox' class='ee-toggle'></label><ul><li><span class='ee-k'>0:</span><span class='ee-v'>-70.77015254767076</span></li><li><span class='ee-k'>1:</span><span class='ee-v'>-13.917789026525238</span></li></ul></li><li><label class='ee-shut'>739: [-70.76987497790485, -13.91779104184168]<input type='checkbox' class='ee-toggle'></label><ul><li><span class='ee-k'>0:</span><span class='ee-v'>-70.76987497790485</span></li><li><span class='ee-k'>1:</span><span class='ee-v'>-13.91779104184168</span></li></ul></li><li><label class='ee-shut'>740: [-70.7698667262232, -13.916706515545883]<input type='checkbox' class='ee-toggle'></label><ul><li><span class='ee-k'>0:</span><span class='ee-v'>-70.7698667262232</span></li><li><span class='ee-k'>1:</span><span class='ee-v'>-13.916706515545883</span></li></ul></li><li><label class='ee-shut'>741: [-70.7693115891438, -13.916710544903157]<input type='checkbox' class='ee-toggle'></label><ul><li><span class='ee-k'>0:</span><span class='ee-v'>-70.7693115891438</span></li><li><span class='ee-k'>1:</span><span class='ee-v'>-13.916710544903157</span></li></ul></li><li><label class='ee-shut'>742: [-70.76930952698021, -13.916439413228147]<input type='checkbox' class='ee-toggle'></label><ul><li><span class='ee-k'>0:</span><span class='ee-v'>-70.76930952698021</span></li><li><span class='ee-k'>1:</span><span class='ee-v'>-13.916439413228147</span></li></ul></li><li><label class='ee-shut'>743: [-70.76958709521898, -13.916437398747139]<input type='checkbox' class='ee-toggle'></label><ul><li><span class='ee-k'>0:</span><span class='ee-v'>-70.76958709521898</span></li><li><span class='ee-k'>1:</span><span class='ee-v'>-13.916437398747139</span></li></ul></li><li><label class='ee-shut'>744: [-70.76957884571124, -13.915352872163881]<input type='checkbox' class='ee-toggle'></label><ul><li><span class='ee-k'>0:</span><span class='ee-v'>-70.76957884571124</span></li><li><span class='ee-k'>1:</span><span class='ee-v'>-13.915352872163881</span></li></ul></li><li><label class='ee-shut'>745: [-70.76930127876605, -13.91535488647421]<input type='checkbox' class='ee-toggle'></label><ul><li><span class='ee-k'>0:</span><span class='ee-v'>-70.76930127876605</span></li><li><span class='ee-k'>1:</span><span class='ee-v'>-13.91535488647421</span></li></ul></li><li><label class='ee-shut'>746: [-70.76929921681806, -13.915083754772251]<input type='checkbox' class='ee-toggle'></label><ul><li><span class='ee-k'>0:</span><span class='ee-v'>-70.76929921681806</span></li><li><span class='ee-k'>1:</span><span class='ee-v'>-13.915083754772251</span></li></ul></li><li><label class='ee-shut'>747: [-70.76902165015134, -13.915085768732235]<input type='checkbox' class='ee-toggle'></label><ul><li><span class='ee-k'>0:</span><span class='ee-v'>-70.76902165015134</span></li><li><span class='ee-k'>1:</span><span class='ee-v'>-13.915085768732235</span></li></ul></li><li><label class='ee-shut'>748: [-70.76901752704589, -13.914543505229503]<input type='checkbox' class='ee-toggle'></label><ul><li><span class='ee-k'>0:</span><span class='ee-v'>-70.76901752704589</span></li><li><span class='ee-k'>1:</span><span class='ee-v'>-13.914543505229503</span></li></ul></li><li><label class='ee-shut'>749: [-70.76846239487128, -13.914547532035561]<input type='checkbox' class='ee-toggle'></label><ul><li><span class='ee-k'>0:</span><span class='ee-v'>-70.76846239487128</span></li><li><span class='ee-k'>1:</span><span class='ee-v'>-13.914547532035561</span></li></ul></li><li><label class='ee-shut'>750: [-70.76846033402822, -13.914276400189872]<input type='checkbox' class='ee-toggle'></label><ul><li><span class='ee-k'>0:</span><span class='ee-v'>-70.76846033402822</span></li><li><span class='ee-k'>1:</span><span class='ee-v'>-13.914276400189872</span></li></ul></li><li><label class='ee-shut'>751: [-70.76818276819694, -13.914278413080861]<input type='checkbox' class='ee-toggle'></label><ul><li><span class='ee-k'>0:</span><span class='ee-v'>-70.76818276819694</span></li><li><span class='ee-k'>1:</span><span class='ee-v'>-13.914278413080861</span></li></ul></li><li><label class='ee-shut'>752: [-70.76818482871661, -13.914549544971466]<input type='checkbox' class='ee-toggle'></label><ul><li><span class='ee-k'>0:</span><span class='ee-v'>-70.76818482871661</span></li><li><span class='ee-k'>1:</span><span class='ee-v'>-13.914549544971466</span></li></ul></li><li><label class='ee-shut'>753: [-70.76762969627251, -13.914553569891064]<input type='checkbox' class='ee-toggle'></label><ul><li><span class='ee-k'>0:</span><span class='ee-v'>-70.76762969627251</span></li><li><span class='ee-k'>1:</span><span class='ee-v'>-13.914553569891064</span></li></ul></li><li><label class='ee-shut'>754: [-70.76762763639962, -13.91428243791961]<input type='checkbox' class='ee-toggle'></label><ul><li><span class='ee-k'>0:</span><span class='ee-v'>-70.76762763639962</span></li><li><span class='ee-k'>1:</span><span class='ee-v'>-13.91428243791961</span></li></ul></li><li><label class='ee-shut'>755: [-70.7673500704336, -13.914284449867369]<input type='checkbox' class='ee-toggle'></label><ul><li><span class='ee-k'>0:</span><span class='ee-v'>-70.7673500704336</span></li><li><span class='ee-k'>1:</span><span class='ee-v'>-13.914284449867369</span></li></ul></li><li><label class='ee-shut'>756: [-70.76734801092903, -13.914013317851]<input type='checkbox' class='ee-toggle'></label><ul><li><span class='ee-k'>0:</span><span class='ee-v'>-70.76734801092903</span></li><li><span class='ee-k'>1:</span><span class='ee-v'>-13.914013317851</span></li></ul></li><li><label class='ee-shut'>757: [-70.76762557657166, -13.914011305948156]<input type='checkbox' class='ee-toggle'></label><ul><li><span class='ee-k'>0:</span><span class='ee-v'>-70.76762557657166</span></li><li><span class='ee-k'>1:</span><span class='ee-v'>-13.914011305948156</span></li></ul></li><li><label class='ee-shut'>758: [-70.76761939735727, -13.91319790998888]<input type='checkbox' class='ee-toggle'></label><ul><li><span class='ee-k'>0:</span><span class='ee-v'>-70.76761939735727</span></li><li><span class='ee-k'>1:</span><span class='ee-v'>-13.91319790998888</span></li></ul></li><li><label class='ee-shut'>759: [-70.76706426796744, -13.91320193323761]<input type='checkbox' class='ee-toggle'></label><ul><li><span class='ee-k'>0:</span><span class='ee-v'>-70.76706426796744</span></li><li><span class='ee-k'>1:</span><span class='ee-v'>-13.91320193323761</span></li></ul></li><li><label class='ee-shut'>760: [-70.76706220895694, -13.912930801158359]<input type='checkbox' class='ee-toggle'></label><ul><li><span class='ee-k'>0:</span><span class='ee-v'>-70.76706220895694</span></li><li><span class='ee-k'>1:</span><span class='ee-v'>-13.912930801158359</span></li></ul></li><li><label class='ee-shut'>761: [-70.76650708004323, -13.912934823059615]<input type='checkbox' class='ee-toggle'></label><ul><li><span class='ee-k'>0:</span><span class='ee-v'>-70.76650708004323</span></li><li><span class='ee-k'>1:</span><span class='ee-v'>-13.912934823059615</span></li></ul></li><li><label class='ee-shut'>762: [-70.76650502172443, -13.912663690890533]<input type='checkbox' class='ee-toggle'></label><ul><li><span class='ee-k'>0:</span><span class='ee-v'>-70.76650502172443</span></li><li><span class='ee-k'>1:</span><span class='ee-v'>-13.912663690890533</span></li></ul></li><li><label class='ee-shut'>763: [-70.76594989327783, -13.9126677114533]<input type='checkbox' class='ee-toggle'></label><ul><li><span class='ee-k'>0:</span><span class='ee-v'>-70.76594989327783</span></li><li><span class='ee-k'>1:</span><span class='ee-v'>-13.9126677114533</span></li></ul></li><li><label class='ee-shut'>764: [-70.76594783565075, -13.912396579194386]<input type='checkbox' class='ee-toggle'></label><ul><li><span class='ee-k'>0:</span><span class='ee-v'>-70.76594783565075</span></li><li><span class='ee-k'>1:</span><span class='ee-v'>-13.912396579194386</span></li></ul></li><li><label class='ee-shut'>765: [-70.76567027168795, -13.912398588968221]<input type='checkbox' class='ee-toggle'></label><ul><li><span class='ee-k'>0:</span><span class='ee-v'>-70.76567027168795</span></li><li><span class='ee-k'>1:</span><span class='ee-v'>-13.912398588968221</span></li></ul></li><li><label class='ee-shut'>766: [-70.7656661572153, -13.911856324351577]<input type='checkbox' class='ee-toggle'></label><ul><li><span class='ee-k'>0:</span><span class='ee-v'>-70.7656661572153</span></li><li><span class='ee-k'>1:</span><span class='ee-v'>-13.911856324351577</span></li></ul></li><li><label class='ee-shut'>767: [-70.76511103043958, -13.911860342776356]<input type='checkbox' class='ee-toggle'></label><ul><li><span class='ee-k'>0:</span><span class='ee-v'>-70.76511103043958</span></li><li><span class='ee-k'>1:</span><span class='ee-v'>-13.911860342776356</span></li></ul></li><li><label class='ee-shut'>768: [-70.76511514361866, -13.912402607554696]<input type='checkbox' class='ee-toggle'></label><ul><li><span class='ee-k'>0:</span><span class='ee-v'>-70.76511514361866</span></li><li><span class='ee-k'>1:</span><span class='ee-v'>-13.912402607554696</span></li></ul></li><li><label class='ee-shut'>769: [-70.76539270767127, -13.912400598418664]<input type='checkbox' class='ee-toggle'></label><ul><li><span class='ee-k'>0:</span><span class='ee-v'>-70.76539270767127</span></li><li><span class='ee-k'>1:</span><span class='ee-v'>-13.912400598418664</span></li></ul></li><li><label class='ee-shut'>770: [-70.7653968216768, -13.912942863080223]<input type='checkbox' class='ee-toggle'></label><ul><li><span class='ee-k'>0:</span><span class='ee-v'>-70.7653968216768</span></li><li><span class='ee-k'>1:</span><span class='ee-v'>-13.912942863080223</span></li></ul></li><li><label class='ee-shut'>771: [-70.7651192569684, -13.912944872297103]<input type='checkbox' class='ee-toggle'></label><ul><li><span class='ee-k'>0:</span><span class='ee-v'>-70.7651192569684</span></li><li><span class='ee-k'>1:</span><span class='ee-v'>-13.912944872297103</span></li></ul></li><li><label class='ee-shut'>772: [-70.76512131371514, -13.913216004663816]<input type='checkbox' class='ee-toggle'></label><ul><li><span class='ee-k'>0:</span><span class='ee-v'>-70.76512131371514</span></li><li><span class='ee-k'>1:</span><span class='ee-v'>-13.913216004663816</span></li></ul></li><li><label class='ee-shut'>773: [-70.7645661835348, -13.913220022235194]<input type='checkbox' class='ee-toggle'></label><ul><li><span class='ee-k'>0:</span><span class='ee-v'>-70.7645661835348</span></li><li><span class='ee-k'>1:</span><span class='ee-v'>-13.913220022235194</span></li></ul></li><li><label class='ee-shut'>774: [-70.76456823967968, -13.913491154673771]<input type='checkbox' class='ee-toggle'></label><ul><li><span class='ee-k'>0:</span><span class='ee-v'>-70.76456823967968</span></li><li><span class='ee-k'>1:</span><span class='ee-v'>-13.913491154673771</span></li></ul></li><li><label class='ee-shut'>775: [-70.76429067419873, -13.913493163028269]<input type='checkbox' class='ee-toggle'></label><ul><li><span class='ee-k'>0:</span><span class='ee-v'>-70.76429067419873</span></li><li><span class='ee-k'>1:</span><span class='ee-v'>-13.913493163028269</span></li></ul></li><li><label class='ee-shut'>776: [-70.76429478596745, -13.914035427968306]<input type='checkbox' class='ee-toggle'></label><ul><li><span class='ee-k'>0:</span><span class='ee-v'>-70.76429478596745</span></li><li><span class='ee-k'>1:</span><span class='ee-v'>-13.914035427968306</span></li></ul></li><li><label class='ee-shut'>777: [-70.76401721979481, -13.914037436089242]<input type='checkbox' class='ee-toggle'></label><ul><li><span class='ee-k'>0:</span><span class='ee-v'>-70.76401721979481</span></li><li><span class='ee-k'>1:</span><span class='ee-v'>-13.914037436089242</span></li></ul></li><li><label class='ee-shut'>778: [-70.76401310867288, -13.913495171059372]<input type='checkbox' class='ee-toggle'></label><ul><li><span class='ee-k'>0:</span><span class='ee-v'>-70.76401310867288</span></li><li><span class='ee-k'>1:</span><span class='ee-v'>-13.913495171059372</span></li></ul></li><li><label class='ee-shut'>779: [-70.7631804118348, -13.913501193275206]<input type='checkbox' class='ee-toggle'></label><ul><li><span class='ee-k'>0:</span><span class='ee-v'>-70.7631804118348</span></li><li><span class='ee-k'>1:</span><span class='ee-v'>-13.913501193275206</span></li></ul></li><li><label class='ee-shut'>780: [-70.7631783573069, -13.913230060630015]<input type='checkbox' class='ee-toggle'></label><ul><li><span class='ee-k'>0:</span><span class='ee-v'>-70.7631783573069</span></li><li><span class='ee-k'>1:</span><span class='ee-v'>-13.913230060630015</span></li></ul></li><li><label class='ee-shut'>781: [-70.76290079193376, -13.913232067367547]<input type='checkbox' class='ee-toggle'></label><ul><li><span class='ee-k'>0:</span><span class='ee-v'>-70.76290079193376</span></li><li><span class='ee-k'>1:</span><span class='ee-v'>-13.913232067367547</span></li></ul></li><li><label class='ee-shut'>782: [-70.7628925755559, -13.912147536562207]<input type='checkbox' class='ee-toggle'></label><ul><li><span class='ee-k'>0:</span><span class='ee-v'>-70.7628925755559</span></li><li><span class='ee-k'>1:</span><span class='ee-v'>-13.912147536562207</span></li></ul></li><li><label class='ee-shut'>783: [-70.76317013963546, -13.912145529995357]<input type='checkbox' class='ee-toggle'></label><ul><li><span class='ee-k'>0:</span><span class='ee-v'>-70.76317013963546</span></li><li><span class='ee-k'>1:</span><span class='ee-v'>-13.912145529995357</span></li></ul></li><li><label class='ee-shut'>784: [-70.76316808533214, -13.911874397323217]<input type='checkbox' class='ee-toggle'></label><ul><li><span class='ee-k'>0:</span><span class='ee-v'>-70.76316808533214</span></li><li><span class='ee-k'>1:</span><span class='ee-v'>-13.911874397323217</span></li></ul></li><li><label class='ee-shut'>785: [-70.7623353939109, -13.911880415963756]<input type='checkbox' class='ee-toggle'></label><ul><li><span class='ee-k'>0:</span><span class='ee-v'>-70.7623353939109</span></li><li><span class='ee-k'>1:</span><span class='ee-v'>-13.911880415963756</span></li></ul></li><li><label class='ee-shut'>786: [-70.76233334062267, -13.911609283156869]<input type='checkbox' class='ee-toggle'></label><ul><li><span class='ee-k'>0:</span><span class='ee-v'>-70.76233334062267</span></li><li><span class='ee-k'>1:</span><span class='ee-v'>-13.911609283156869</span></li></ul></li><li><label class='ee-shut'>787: [-70.76205577704616, -13.911611288699639]<input type='checkbox' class='ee-toggle'></label><ul><li><span class='ee-k'>0:</span><span class='ee-v'>-70.76205577704616</span></li><li><span class='ee-k'>1:</span><span class='ee-v'>-13.911611288699639</span></li></ul></li><li><label class='ee-shut'>788: [-70.76205372411725, -13.91134015585682]<input type='checkbox' class='ee-toggle'></label><ul><li><span class='ee-k'>0:</span><span class='ee-v'>-70.76205372411725</span></li><li><span class='ee-k'>1:</span><span class='ee-v'>-13.91134015585682</span></li></ul></li><li><label class='ee-shut'>789: [-70.7617761608282, -13.911342161040265]<input type='checkbox' class='ee-toggle'></label><ul><li><span class='ee-k'>0:</span><span class='ee-v'>-70.7617761608282</span></li><li><span class='ee-k'>1:</span><span class='ee-v'>-13.911342161040265</span></li></ul></li><li><label class='ee-shut'>790: [-70.76176795085533, -13.910257629417458]<input type='checkbox' class='ee-toggle'></label><ul><li><span class='ee-k'>0:</span><span class='ee-v'>-70.76176795085533</span></li><li><span class='ee-k'>1:</span><span class='ee-v'>-13.910257629417458</span></li></ul></li><li><label class='ee-shut'>791: [-70.76149038880595, -13.910259634124795]<input type='checkbox' class='ee-toggle'></label><ul><li><span class='ee-k'>0:</span><span class='ee-v'>-70.76149038880595</span></li><li><span class='ee-k'>1:</span><span class='ee-v'>-13.910259634124795</span></li></ul></li><li><label class='ee-shut'>792: [-70.76148833674841, -13.909988501156212]<input type='checkbox' class='ee-toggle'></label><ul><li><span class='ee-k'>0:</span><span class='ee-v'>-70.76148833674841</span></li><li><span class='ee-k'>1:</span><span class='ee-v'>-13.909988501156212</span></li></ul></li><li><label class='ee-shut'>793: [-70.76121077497753, -13.909990505513207]<input type='checkbox' class='ee-toggle'></label><ul><li><span class='ee-k'>0:</span><span class='ee-v'>-70.76121077497753</span></li><li><span class='ee-k'>1:</span><span class='ee-v'>-13.909990505513207</span></li></ul></li><li><label class='ee-shut'>794: [-70.76120872328829, -13.909719372499707]<input type='checkbox' class='ee-toggle'></label><ul><li><span class='ee-k'>0:</span><span class='ee-v'>-70.76120872328829</span></li><li><span class='ee-k'>1:</span><span class='ee-v'>-13.909719372499707</span></li></ul></li><li><label class='ee-shut'>795: [-70.76093116179588, -13.909721376497375]<input type='checkbox' class='ee-toggle'></label><ul><li><span class='ee-k'>0:</span><span class='ee-v'>-70.76093116179588</span></li><li><span class='ee-k'>1:</span><span class='ee-v'>-13.909721376497375</span></li></ul></li><li><label class='ee-shut'>796: [-70.76092911047496, -13.909450243447944]<input type='checkbox' class='ee-toggle'></label><ul><li><span class='ee-k'>0:</span><span class='ee-v'>-70.76092911047496</span></li><li><span class='ee-k'>1:</span><span class='ee-v'>-13.909450243447944</span></li></ul></li><li><label class='ee-shut'>797: [-70.76065154926101, -13.909452247086286]<input type='checkbox' class='ee-toggle'></label><ul><li><span class='ee-k'>0:</span><span class='ee-v'>-70.76065154926101</span></li><li><span class='ee-k'>1:</span><span class='ee-v'>-13.909452247086286</span></li></ul></li><li><label class='ee-shut'>798: [-70.76064539651998, -13.908638847758327]<input type='checkbox' class='ee-toggle'></label><ul><li><span class='ee-k'>0:</span><span class='ee-v'>-70.76064539651998</span></li><li><span class='ee-k'>1:</span><span class='ee-v'>-13.908638847758327</span></li></ul></li><li><label class='ee-shut'>799: [-70.76175563720756, -13.908630831785619]<input type='checkbox' class='ee-toggle'></label><ul><li><span class='ee-k'>0:</span><span class='ee-v'>-70.76175563720756</span></li><li><span class='ee-k'>1:</span><span class='ee-v'>-13.908630831785619</span></li></ul></li><li><label class='ee-shut'>800: [-70.76175358508713, -13.908359698826018]<input type='checkbox' class='ee-toggle'></label><ul><li><span class='ee-k'>0:</span><span class='ee-v'>-70.76175358508713</span></li><li><span class='ee-k'>1:</span><span class='ee-v'>-13.908359698826018</span></li></ul></li><li><label class='ee-shut'>801: [-70.7634189428756, -13.908347665659226]<input type='checkbox' class='ee-toggle'></label><ul><li><span class='ee-k'>0:</span><span class='ee-v'>-70.7634189428756</span></li><li><span class='ee-k'>1:</span><span class='ee-v'>-13.908347665659226</span></li></ul></li><li><label class='ee-shut'>802: [-70.7634209969274, -13.908618798367298]<input type='checkbox' class='ee-toggle'></label><ul><li><span class='ee-k'>0:</span><span class='ee-v'>-70.7634209969274</span></li><li><span class='ee-k'>1:</span><span class='ee-v'>-13.908618798367298</span></li></ul></li><li><label class='ee-shut'>803: [-70.76397611648066, -13.908614784712576]<input type='checkbox' class='ee-toggle'></label><ul><li><span class='ee-k'>0:</span><span class='ee-v'>-70.76397611648066</span></li><li><span class='ee-k'>1:</span><span class='ee-v'>-13.908614784712576</span></li></ul></li><li><label class='ee-shut'>804: [-70.7639740617821, -13.908343652076368]<input type='checkbox' class='ee-toggle'></label><ul><li><span class='ee-k'>0:</span><span class='ee-v'>-70.7639740617821</span></li><li><span class='ee-k'>1:</span><span class='ee-v'>-13.908343652076368</span></li></ul></li><li><label class='ee-shut'>805: [-70.76452918050892, -13.90833963723587]<input type='checkbox' class='ee-toggle'></label><ul><li><span class='ee-k'>0:</span><span class='ee-v'>-70.76452918050892</span></li><li><span class='ee-k'>1:</span><span class='ee-v'>-13.90833963723587</span></li></ul></li><li><label class='ee-shut'>806: [-70.76452712520846, -13.908068504671526]<input type='checkbox' class='ee-toggle'></label><ul><li><span class='ee-k'>0:</span><span class='ee-v'>-70.76452712520846</span></li><li><span class='ee-k'>1:</span><span class='ee-v'>-13.908068504671526</span></li></ul></li><li><label class='ee-shut'>807: [-70.76535980200512, -13.90806248016499]<input type='checkbox' class='ee-toggle'></label><ul><li><span class='ee-k'>0:</span><span class='ee-v'>-70.76535980200512</span></li><li><span class='ee-k'>1:</span><span class='ee-v'>-13.90806248016499</span></li></ul></li><li><label class='ee-shut'>808: [-70.7653577457794, -13.90779134771743]<input type='checkbox' class='ee-toggle'></label><ul><li><span class='ee-k'>0:</span><span class='ee-v'>-70.7653577457794</span></li><li><span class='ee-k'>1:</span><span class='ee-v'>-13.90779134771743</span></li></ul></li><li><label class='ee-shut'>809: [-70.7656353042984, -13.90778933895869]<input type='checkbox' class='ee-toggle'></label><ul><li><span class='ee-k'>0:</span><span class='ee-v'>-70.7656353042984</span></li><li><span class='ee-k'>1:</span><span class='ee-v'>-13.90778933895869</span></li></ul></li><li><label class='ee-shut'>810: [-70.76563119132594, -13.907247074135434]<input type='checkbox' class='ee-toggle'></label><ul><li><span class='ee-k'>0:</span><span class='ee-v'>-70.76563119132594</span></li><li><span class='ee-k'>1:</span><span class='ee-v'>-13.907247074135434</span></li></ul></li><li><label class='ee-shut'>811: [-70.76590874916222, -13.907245065143131]<input type='checkbox' class='ee-toggle'></label><ul><li><span class='ee-k'>0:</span><span class='ee-v'>-70.76590874916222</span></li><li><span class='ee-k'>1:</span><span class='ee-v'>-13.907245065143131</span></li></ul></li><li><label class='ee-shut'>812: [-70.76590463571365, -13.906702800373774]<input type='checkbox' class='ee-toggle'></label><ul><li><span class='ee-k'>0:</span><span class='ee-v'>-70.76590463571365</span></li><li><span class='ee-k'>1:</span><span class='ee-v'>-13.906702800373774</span></li></ul></li><li><label class='ee-shut'>813: [-70.76618219285822, -13.90670079114791]<input type='checkbox' class='ee-toggle'></label><ul><li><span class='ee-k'>0:</span><span class='ee-v'>-70.76618219285822</span></li><li><span class='ee-k'>1:</span><span class='ee-v'>-13.90670079114791</span></li></ul></li><li><label class='ee-shut'>814: [-70.76618424988344, -13.906971923487674]<input type='checkbox' class='ee-toggle'></label><ul><li><span class='ee-k'>0:</span><span class='ee-v'>-70.76618424988344</span></li><li><span class='ee-k'>1:</span><span class='ee-v'>-13.906971923487674</span></li></ul></li><li><label class='ee-shut'>815: [-70.7664618073065, -13.906969913911468]<input type='checkbox' class='ee-toggle'></label><ul><li><span class='ee-k'>0:</span><span class='ee-v'>-70.7664618073065</span></li><li><span class='ee-k'>1:</span><span class='ee-v'>-13.906969913911468</span></li></ul></li><li><label class='ee-shut'>816: [-70.76645974995787, -13.906698781598655]<input type='checkbox' class='ee-toggle'></label><ul><li><span class='ee-k'>0:</span><span class='ee-v'>-70.76645974995787</span></li><li><span class='ee-k'>1:</span><span class='ee-v'>-13.906698781598655</span></li></ul></li><li><label class='ee-shut'>817: [-70.76701486402244, -13.906694761565893]<input type='checkbox' class='ee-toggle'></label><ul><li><span class='ee-k'>0:</span><span class='ee-v'>-70.76701486402244</span></li><li><span class='ee-k'>1:</span><span class='ee-v'>-13.906694761565893</span></li></ul></li><li><label class='ee-shut'>818: [-70.76701074817538, -13.906152497101962]<input type='checkbox' class='ee-toggle'></label><ul><li><span class='ee-k'>0:</span><span class='ee-v'>-70.76701074817538</span></li><li><span class='ee-k'>1:</span><span class='ee-v'>-13.906152497101962</span></li></ul></li><li><label class='ee-shut'>819: [-70.7672883044935, -13.906150486690322]<input type='checkbox' class='ee-toggle'></label><ul><li><span class='ee-k'>0:</span><span class='ee-v'>-70.7672883044935</span></li><li><span class='ee-k'>1:</span><span class='ee-v'>-13.906150486690322</span></li></ul></li><li><label class='ee-shut'>820: [-70.76729036272246, -13.906421618886355]<input type='checkbox' class='ee-toggle'></label><ul><li><span class='ee-k'>0:</span><span class='ee-v'>-70.76729036272246</span></li><li><span class='ee-k'>1:</span><span class='ee-v'>-13.906421618886355</span></li></ul></li><li><label class='ee-shut'>821: [-70.76756791931906, -13.906419608124372]<input type='checkbox' class='ee-toggle'></label><ul><li><span class='ee-k'>0:</span><span class='ee-v'>-70.76756791931906</span></li><li><span class='ee-k'>1:</span><span class='ee-v'>-13.906419608124372</span></li></ul></li><li><label class='ee-shut'>822: [-70.76756997790736, -13.90669074027549]<input type='checkbox' class='ee-toggle'></label><ul><li><span class='ee-k'>0:</span><span class='ee-v'>-70.76756997790736</span></li><li><span class='ee-k'>1:</span><span class='ee-v'>-13.90669074027549</span></li></ul></li><li><label class='ee-shut'>823: [-70.76784753479141, -13.906688729154181]<input type='checkbox' class='ee-toggle'></label><ul><li><span class='ee-k'>0:</span><span class='ee-v'>-70.76784753479141</span></li><li><span class='ee-k'>1:</span><span class='ee-v'>-13.906688729154181</span></li></ul></li><li><label class='ee-shut'>824: [-70.76784959374801, -13.90695986126038]<input type='checkbox' class='ee-toggle'></label><ul><li><span class='ee-k'>0:</span><span class='ee-v'>-70.76784959374801</span></li><li><span class='ee-k'>1:</span><span class='ee-v'>-13.90695986126038</span></li></ul></li><li><label class='ee-shut'>825: [-70.76812715090158, -13.906957849779747]<input type='checkbox' class='ee-toggle'></label><ul><li><span class='ee-k'>0:</span><span class='ee-v'>-70.76812715090158</span></li><li><span class='ee-k'>1:</span><span class='ee-v'>-13.906957849779747</span></li></ul></li><li><label class='ee-shut'>826: [-70.76812921022648, -13.907228981841032]<input type='checkbox' class='ee-toggle'></label><ul><li><span class='ee-k'>0:</span><span class='ee-v'>-70.76812921022648</span></li><li><span class='ee-k'>1:</span><span class='ee-v'>-13.907228981841032</span></li></ul></li><li><label class='ee-shut'>827: [-70.76923943970309, -13.907220932621676]<input type='checkbox' class='ee-toggle'></label><ul><li><span class='ee-k'>0:</span><span class='ee-v'>-70.76923943970309</span></li><li><span class='ee-k'>1:</span><span class='ee-v'>-13.907220932621676</span></li></ul></li><li><label class='ee-shut'>828: [-70.7692373790846, -13.906949800731072]<input type='checkbox' class='ee-toggle'></label><ul><li><span class='ee-k'>0:</span><span class='ee-v'>-70.7692373790846</span></li><li><span class='ee-k'>1:</span><span class='ee-v'>-13.906949800731072</span></li></ul></li><li><label class='ee-shut'>829: [-70.76951493602257, -13.9069477876694]<input type='checkbox' class='ee-toggle'></label><ul><li><span class='ee-k'>0:</span><span class='ee-v'>-70.76951493602257</span></li><li><span class='ee-k'>1:</span><span class='ee-v'>-13.9069477876694</span></li></ul></li><li><label class='ee-shut'>830: [-70.76951287512561, -13.906676655814728]<input type='checkbox' class='ee-toggle'></label><ul><li><span class='ee-k'>0:</span><span class='ee-v'>-70.76951287512561</span></li><li><span class='ee-k'>1:</span><span class='ee-v'>-13.906676655814728</span></li></ul></li><li><label class='ee-shut'>831: [-70.77090065752472, -13.906666586023787]<input type='checkbox' class='ee-toggle'></label><ul><li><span class='ee-k'>0:</span><span class='ee-v'>-70.77090065752472</span></li><li><span class='ee-k'>1:</span><span class='ee-v'>-13.906666586023787</span></li></ul></li><li><label class='ee-shut'>832: [-70.77090684519226, -13.907479980967967]<input type='checkbox' class='ee-toggle'></label><ul><li><span class='ee-k'>0:</span><span class='ee-v'>-70.77090684519226</span></li><li><span class='ee-k'>1:</span><span class='ee-v'>-13.907479980967967</span></li></ul></li><li><label class='ee-shut'>833: [-70.77146195977785, -13.907475950595597]<input type='checkbox' class='ee-toggle'></label><ul><li><span class='ee-k'>0:</span><span class='ee-v'>-70.77146195977785</span></li><li><span class='ee-k'>1:</span><span class='ee-v'>-13.907475950595597</span></li></ul></li><li><label class='ee-shut'>834: [-70.77146402306433, -13.907747082153826]<input type='checkbox' class='ee-toggle'></label><ul><li><span class='ee-k'>0:</span><span class='ee-v'>-70.77146402306433</span></li><li><span class='ee-k'>1:</span><span class='ee-v'>-13.907747082153826</span></li></ul></li><li><label class='ee-shut'>835: [-70.77174158062212, -13.907745066460093]<input type='checkbox' class='ee-toggle'></label><ul><li><span class='ee-k'>0:</span><span class='ee-v'>-70.77174158062212</span></li><li><span class='ee-k'>1:</span><span class='ee-v'>-13.907745066460093</span></li></ul></li><li><label class='ee-shut'>836: [-70.77174364427691, -13.908016197964422]<input type='checkbox' class='ee-toggle'></label><ul><li><span class='ee-k'>0:</span><span class='ee-v'>-70.77174364427691</span></li><li><span class='ee-k'>1:</span><span class='ee-v'>-13.908016197964422</span></li></ul></li><li><label class='ee-shut'>837: [-70.7720212021042, -13.908014181911362]<input type='checkbox' class='ee-toggle'></label><ul><li><span class='ee-k'>0:</span><span class='ee-v'>-70.7720212021042</span></li><li><span class='ee-k'>1:</span><span class='ee-v'>-13.908014181911362</span></li></ul></li><li><label class='ee-shut'>838: [-70.7720232661273, -13.908285313370776]<input type='checkbox' class='ee-toggle'></label><ul><li><span class='ee-k'>0:</span><span class='ee-v'>-70.7720232661273</span></li><li><span class='ee-k'>1:</span><span class='ee-v'>-13.908285313370776</span></li></ul></li><li><label class='ee-shut'>839: [-70.77368861410616, -13.908273210171323]<input type='checkbox' class='ee-toggle'></label><ul><li><span class='ee-k'>0:</span><span class='ee-v'>-70.77368861410616</span></li><li><span class='ee-k'>1:</span><span class='ee-v'>-13.908273210171323</span></li></ul></li><li><label class='ee-shut'>840: [-70.77368654815169, -13.908002078954455]<input type='checkbox' class='ee-toggle'></label><ul><li><span class='ee-k'>0:</span><span class='ee-v'>-70.77368654815169</span></li><li><span class='ee-k'>1:</span><span class='ee-v'>-13.908002078954455</span></li></ul></li><li><label class='ee-shut'>841: [-70.77396410566456, -13.90800006069154]<input type='checkbox' class='ee-toggle'></label><ul><li><span class='ee-k'>0:</span><span class='ee-v'>-70.77396410566456</span></li><li><span class='ee-k'>1:</span><span class='ee-v'>-13.90800006069154</span></li></ul></li><li><label class='ee-shut'>842: [-70.77396617195141, -13.908271191863493]<input type='checkbox' class='ee-toggle'></label><ul><li><span class='ee-k'>0:</span><span class='ee-v'>-70.77396617195141</span></li><li><span class='ee-k'>1:</span><span class='ee-v'>-13.908271191863493</span></li></ul></li><li><label class='ee-shut'>843: [-70.77424372975176, -13.908269173250234]<input type='checkbox' class='ee-toggle'></label><ul><li><span class='ee-k'>0:</span><span class='ee-v'>-70.77424372975176</span></li><li><span class='ee-k'>1:</span><span class='ee-v'>-13.908269173250234</span></li></ul></li><li><label class='ee-shut'>844: [-70.77424579639793, -13.908540304377272]<input type='checkbox' class='ee-toggle'></label><ul><li><span class='ee-k'>0:</span><span class='ee-v'>-70.77424579639793</span></li><li><span class='ee-k'>1:</span><span class='ee-v'>-13.908540304377272</span></li></ul></li><li><label class='ee-shut'>845: [-70.77480091250168, -13.90853626610871]<input type='checkbox' class='ee-toggle'></label><ul><li><span class='ee-k'>0:</span><span class='ee-v'>-70.77480091250168</span></li><li><span class='ee-k'>1:</span><span class='ee-v'>-13.90853626610871</span></li></ul></li><li><label class='ee-shut'>846: [-70.77480504723134, -13.909078528183121]<input type='checkbox' class='ee-toggle'></label><ul><li><span class='ee-k'>0:</span><span class='ee-v'>-70.77480504723134</span></li><li><span class='ee-k'>1:</span><span class='ee-v'>-13.909078528183121</span></li></ul></li><li><label class='ee-shut'>847: [-70.77508260586711, -13.909076508491886]<input type='checkbox' class='ee-toggle'></label><ul><li><span class='ee-k'>0:</span><span class='ee-v'>-70.77508260586711</span></li><li><span class='ee-k'>1:</span><span class='ee-v'>-13.909076508491886</span></li></ul></li><li><label class='ee-shut'>848: [-70.77508467361822, -13.909347639475193]<input type='checkbox' class='ee-toggle'></label><ul><li><span class='ee-k'>0:</span><span class='ee-v'>-70.77508467361822</span></li><li><span class='ee-k'>1:</span><span class='ee-v'>-13.909347639475193</span></li></ul></li><li><label class='ee-shut'>849: [-70.77563979139283, -13.90934359906864]<input type='checkbox' class='ee-toggle'></label><ul><li><span class='ee-k'>0:</span><span class='ee-v'>-70.77563979139283</span></li><li><span class='ee-k'>1:</span><span class='ee-v'>-13.90934359906864</span></li></ul></li><li><label class='ee-shut'>850: [-70.77564185983563, -13.909614729971098]<input type='checkbox' class='ee-toggle'></label><ul><li><span class='ee-k'>0:</span><span class='ee-v'>-70.77564185983563</span></li><li><span class='ee-k'>1:</span><span class='ee-v'>-13.909614729971098</span></li></ul></li><li><label class='ee-shut'>851: [-70.77591941898345, -13.909612709255782]<input type='checkbox' class='ee-toggle'></label><ul><li><span class='ee-k'>0:</span><span class='ee-v'>-70.77591941898345</span></li><li><span class='ee-k'>1:</span><span class='ee-v'>-13.909612709255782</span></li></ul></li><li><label class='ee-shut'>852: [-70.77592148779458, -13.909883840104342]<input type='checkbox' class='ee-toggle'></label><ul><li><span class='ee-k'>0:</span><span class='ee-v'>-70.77592148779458</span></li><li><span class='ee-k'>1:</span><span class='ee-v'>-13.909883840104342</span></li></ul></li><li><label class='ee-shut'>853: [-70.77619904722087, -13.9098818190297]<input type='checkbox' class='ee-toggle'></label><ul><li><span class='ee-k'>0:</span><span class='ee-v'>-70.77619904722087</span></li><li><span class='ee-k'>1:</span><span class='ee-v'>-13.9098818190297</span></li></ul></li><li><label class='ee-shut'>854: [-70.7762011163913, -13.910152949833344]<input type='checkbox' class='ee-toggle'></label><ul><li><span class='ee-k'>0:</span><span class='ee-v'>-70.7762011163913</span></li><li><span class='ee-k'>1:</span><span class='ee-v'>-13.910152949833344</span></li></ul></li><li><label class='ee-shut'>855: [-70.77703379537088, -13.910146884597191]<input type='checkbox' class='ee-toggle'></label><ul><li><span class='ee-k'>0:</span><span class='ee-v'>-70.77703379537088</span></li><li><span class='ee-k'>1:</span><span class='ee-v'>-13.910146884597191</span></li></ul></li><li><label class='ee-shut'>856: [-70.7770358655654, -13.910418015275072]<input type='checkbox' class='ee-toggle'></label><ul><li><span class='ee-k'>0:</span><span class='ee-v'>-70.7770358655654</span></li><li><span class='ee-k'>1:</span><span class='ee-v'>-13.910418015275072</span></li></ul></li><li><label class='ee-shut'>857: [-70.77731342545881, -13.910415992852958]<input type='checkbox' class='ee-toggle'></label><ul><li><span class='ee-k'>0:</span><span class='ee-v'>-70.77731342545881</span></li><li><span class='ee-k'>1:</span><span class='ee-v'>-13.910415992852958</span></li></ul></li><li><label class='ee-shut'>858: [-70.7773113549409, -13.910144862228975]<input type='checkbox' class='ee-toggle'></label><ul><li><span class='ee-k'>0:</span><span class='ee-v'>-70.7773113549409</span></li><li><span class='ee-k'>1:</span><span class='ee-v'>-13.910144862228975</span></li></ul></li><li><label class='ee-shut'>859: [-70.77758891446601, -13.910142839537366]<input type='checkbox' class='ee-toggle'></label><ul><li><span class='ee-k'>0:</span><span class='ee-v'>-70.77758891446601</span></li><li><span class='ee-k'>1:</span><span class='ee-v'>-13.910142839537366</span></li></ul></li><li><label class='ee-shut'>860: [-70.77758270222955, -13.909329447719323]<input type='checkbox' class='ee-toggle'></label><ul><li><span class='ee-k'>0:</span><span class='ee-v'>-70.77758270222955</span></li><li><span class='ee-k'>1:</span><span class='ee-v'>-13.909329447719323</span></li></ul></li><li><label class='ee-shut'>861: [-70.77786026073956, -13.909327424839068]<input type='checkbox' class='ee-toggle'></label><ul><li><span class='ee-k'>0:</span><span class='ee-v'>-70.77786026073956</span></li><li><span class='ee-k'>1:</span><span class='ee-v'>-13.909327424839068</span></li></ul></li><li><label class='ee-shut'>862: [-70.7778644028354, -13.909869685970248]<input type='checkbox' class='ee-toggle'></label><ul><li><span class='ee-k'>0:</span><span class='ee-v'>-70.7778644028354</span></li><li><span class='ee-k'>1:</span><span class='ee-v'>-13.909869685970248</span></li></ul></li><li><label class='ee-shut'>863: [-70.77814196194728, -13.90986766268575]<input type='checkbox' class='ee-toggle'></label><ul><li><span class='ee-k'>0:</span><span class='ee-v'>-70.77814196194728</span></li><li><span class='ee-k'>1:</span><span class='ee-v'>-13.90986766268575</span></li></ul></li><li><label class='ee-shut'>864: [-70.77814610486958, -13.910409923718117]<input type='checkbox' class='ee-toggle'></label><ul><li><span class='ee-k'>0:</span><span class='ee-v'>-70.77814610486958</span></li><li><span class='ee-k'>1:</span><span class='ee-v'>-13.910409923718117</span></li></ul></li><li><label class='ee-shut'>865: [-70.7778685451109, -13.91041194707448]<input type='checkbox' class='ee-toggle'></label><ul><li><span class='ee-k'>0:</span><span class='ee-v'>-70.7778685451109</span></li><li><span class='ee-k'>1:</span><span class='ee-v'>-13.91041194707448</span></li></ul></li><li><label class='ee-shut'>866: [-70.77787683018295, -13.91149646922006]<input type='checkbox' class='ee-toggle'></label><ul><li><span class='ee-k'>0:</span><span class='ee-v'>-70.77787683018295</span></li><li><span class='ee-k'>1:</span><span class='ee-v'>-13.91149646922006</span></li></ul></li><li><label class='ee-shut'>867: [-70.77759926908578, -13.911498492423709]<input type='checkbox' class='ee-toggle'></label><ul><li><span class='ee-k'>0:</span><span class='ee-v'>-70.77759926908578</span></li><li><span class='ee-k'>1:</span><span class='ee-v'>-13.911498492423709</span></li></ul></li><li><label class='ee-shut'>868: [-70.77760548239124, -13.912311884089037]<input type='checkbox' class='ee-toggle'></label><ul><li><span class='ee-k'>0:</span><span class='ee-v'>-70.77760548239124</span></li><li><span class='ee-k'>1:</span><span class='ee-v'>-13.912311884089037</span></li></ul></li><li><label class='ee-shut'>869: [-70.77788304445858, -13.912309860750641]<input type='checkbox' class='ee-toggle'></label><ul><li><span class='ee-k'>0:</span><span class='ee-v'>-70.77788304445858</span></li><li><span class='ee-k'>1:</span><span class='ee-v'>-13.912309860750641</span></li></ul></li><li><label class='ee-shut'>870: [-70.77788511597363, -13.912580991257842]<input type='checkbox' class='ee-toggle'></label><ul><li><span class='ee-k'>0:</span><span class='ee-v'>-70.77788511597363</span></li><li><span class='ee-k'>1:</span><span class='ee-v'>-13.912580991257842</span></li></ul></li><li><label class='ee-shut'>871: [-70.77816267831945, -13.912578967560119]<input type='checkbox' class='ee-toggle'></label><ul><li><span class='ee-k'>0:</span><span class='ee-v'>-70.77816267831945</span></li><li><span class='ee-k'>1:</span><span class='ee-v'>-13.912578967560119</span></li></ul></li><li><label class='ee-shut'>872: [-70.7781647502028, -13.91285009801342]<input type='checkbox' class='ee-toggle'></label><ul><li><span class='ee-k'>0:</span><span class='ee-v'>-70.7781647502028</span></li><li><span class='ee-k'>1:</span><span class='ee-v'>-13.91285009801342</span></li></ul></li><li><label class='ee-shut'>873: [-70.7787198753975, -13.912846049602878]<input type='checkbox' class='ee-toggle'></label><ul><li><span class='ee-k'>0:</span><span class='ee-v'>-70.7787198753975</span></li><li><span class='ee-k'>1:</span><span class='ee-v'>-13.912846049602878</span></li></ul></li><li><label class='ee-shut'>874: [-70.77872194797256, -13.91311717997533]<input type='checkbox' class='ee-toggle'></label><ul><li><span class='ee-k'>0:</span><span class='ee-v'>-70.77872194797256</span></li><li><span class='ee-k'>1:</span><span class='ee-v'>-13.91311717997533</span></li></ul></li><li><label class='ee-shut'>875: [-70.77844438506978, -13.91311920437374]<input type='checkbox' class='ee-toggle'></label><ul><li><span class='ee-k'>0:</span><span class='ee-v'>-70.77844438506978</span></li><li><span class='ee-k'>1:</span><span class='ee-v'>-13.91311920437374</span></li></ul></li><li><label class='ee-shut'>876: [-70.77844645736636, -13.91339033477314]<input type='checkbox' class='ee-toggle'></label><ul><li><span class='ee-k'>0:</span><span class='ee-v'>-70.77844645736636</span></li><li><span class='ee-k'>1:</span><span class='ee-v'>-13.91339033477314</span></li></ul></li><li><label class='ee-shut'>877: [-70.77816889409527, -13.913392358902055]<input type='checkbox' class='ee-toggle'></label><ul><li><span class='ee-k'>0:</span><span class='ee-v'>-70.77816889409527</span></li><li><span class='ee-k'>1:</span><span class='ee-v'>-13.913392358902055</span></li></ul></li><li><label class='ee-shut'>878: [-70.77817303816741, -13.91393461976374]<input type='checkbox' class='ee-toggle'></label><ul><li><span class='ee-k'>0:</span><span class='ee-v'>-70.77817303816741</span></li><li><span class='ee-k'>1:</span><span class='ee-v'>-13.91393461976374</span></li></ul></li><li><label class='ee-shut'>879: [-70.7776179102059, -13.913938667240034]<input type='checkbox' class='ee-toggle'></label><ul><li><span class='ee-k'>0:</span><span class='ee-v'>-70.7776179102059</span></li><li><span class='ee-k'>1:</span><span class='ee-v'>-13.913938667240034</span></li></ul></li><li><label class='ee-shut'>880: [-70.77762826793385, -13.915294319686202]<input type='checkbox' class='ee-toggle'></label><ul><li><span class='ee-k'>0:</span><span class='ee-v'>-70.77762826793385</span></li><li><span class='ee-k'>1:</span><span class='ee-v'>-13.915294319686202</span></li></ul></li><li><label class='ee-shut'>881: [-70.77790583354953, -13.91529229590763]<input type='checkbox' class='ee-toggle'></label><ul><li><span class='ee-k'>0:</span><span class='ee-v'>-70.77790583354953</span></li><li><span class='ee-k'>1:</span><span class='ee-v'>-13.91529229590763</span></li></ul></li><li><label class='ee-shut'>882: [-70.77790790554967, -13.915563426333982]<input type='checkbox' class='ee-toggle'></label><ul><li><span class='ee-k'>0:</span><span class='ee-v'>-70.77790790554967</span></li><li><span class='ee-k'>1:</span><span class='ee-v'>-13.915563426333982</span></li></ul></li><li><label class='ee-shut'>883: [-70.77818547145282, -13.915561402196085]<input type='checkbox' class='ee-toggle'></label><ul><li><span class='ee-k'>0:</span><span class='ee-v'>-70.77818547145282</span></li><li><span class='ee-k'>1:</span><span class='ee-v'>-13.915561402196085</span></li></ul></li><li><label class='ee-shut'>884: [-70.77818754382126, -13.91583253257752]<input type='checkbox' class='ee-toggle'></label><ul><li><span class='ee-k'>0:</span><span class='ee-v'>-70.77818754382126</span></li><li><span class='ee-k'>1:</span><span class='ee-v'>-13.91583253257752</span></li></ul></li><li><label class='ee-shut'>885: [-70.7784651099939, -13.915830508080298]<input type='checkbox' class='ee-toggle'></label><ul><li><span class='ee-k'>0:</span><span class='ee-v'>-70.7784651099939</span></li><li><span class='ee-k'>1:</span><span class='ee-v'>-13.915830508080298</span></li></ul></li><li><label class='ee-shut'>886: [-70.77846718273065, -13.916101638416817]<input type='checkbox' class='ee-toggle'></label><ul><li><span class='ee-k'>0:</span><span class='ee-v'>-70.77846718273065</span></li><li><span class='ee-k'>1:</span><span class='ee-v'>-13.916101638416817</span></li></ul></li><li><label class='ee-shut'>887: [-70.77874474919076, -13.916099613560268]<input type='checkbox' class='ee-toggle'></label><ul><li><span class='ee-k'>0:</span><span class='ee-v'>-70.77874474919076</span></li><li><span class='ee-k'>1:</span><span class='ee-v'>-13.916099613560268</span></li></ul></li><li><label class='ee-shut'>888: [-70.77874682229582, -13.916370743851871]<input type='checkbox' class='ee-toggle'></label><ul><li><span class='ee-k'>0:</span><span class='ee-v'>-70.77874682229582</span></li><li><span class='ee-k'>1:</span><span class='ee-v'>-13.916370743851871</span></li></ul></li><li><label class='ee-shut'>889: [-70.77902438902542, -13.916368718635997]<input type='checkbox' class='ee-toggle'></label><ul><li><span class='ee-k'>0:</span><span class='ee-v'>-70.77902438902542</span></li><li><span class='ee-k'>1:</span><span class='ee-v'>-13.916368718635997</span></li></ul></li><li><label class='ee-shut'>890: [-70.77903060957131, -13.917182109340128]<input type='checkbox' class='ee-toggle'></label><ul><li><span class='ee-k'>0:</span><span class='ee-v'>-70.77903060957131</span></li><li><span class='ee-k'>1:</span><span class='ee-v'>-13.917182109340128</span></li></ul></li><li><label class='ee-shut'>891: [-70.77930817723515, -13.917180083693061]<input type='checkbox' class='ee-toggle'></label><ul><li><span class='ee-k'>0:</span><span class='ee-v'>-70.77930817723515</span></li><li><span class='ee-k'>1:</span><span class='ee-v'>-13.917180083693061</span></li></ul></li><li><label class='ee-shut'>892: [-70.7793123251341, -13.917722344051692]<input type='checkbox' class='ee-toggle'></label><ul><li><span class='ee-k'>0:</span><span class='ee-v'>-70.7793123251341</span></li><li><span class='ee-k'>1:</span><span class='ee-v'>-13.917722344051692</span></li></ul></li><li><label class='ee-shut'>893: [-70.77958989339083, -13.917720318000383]<input type='checkbox' class='ee-toggle'></label><ul><li><span class='ee-k'>0:</span><span class='ee-v'>-70.77958989339083</span></li><li><span class='ee-k'>1:</span><span class='ee-v'>-13.917720318000383</span></li></ul></li><li><label class='ee-shut'>894: [-70.77959196773558, -13.91799144813029]<input type='checkbox' class='ee-toggle'></label><ul><li><span class='ee-k'>0:</span><span class='ee-v'>-70.77959196773558</span></li><li><span class='ee-k'>1:</span><span class='ee-v'>-13.91799144813029</span></li></ul></li><li><label class='ee-shut'>895: [-70.7798695362708, -13.917989421728638]<input type='checkbox' class='ee-toggle'></label><ul><li><span class='ee-k'>0:</span><span class='ee-v'>-70.7798695362708</span></li><li><span class='ee-k'>1:</span><span class='ee-v'>-13.917989421728638</span></li></ul></li><li><label class='ee-shut'>896: [-70.77987368573282, -13.918531681880655]<input type='checkbox' class='ee-toggle'></label><ul><li><span class='ee-k'>0:</span><span class='ee-v'>-70.77987368573282</span></li><li><span class='ee-k'>1:</span><span class='ee-v'>-13.918531681880655</span></li></ul></li><li><label class='ee-shut'>897: [-70.7801512548699, -13.918529655083745]<input type='checkbox' class='ee-toggle'></label><ul><li><span class='ee-k'>0:</span><span class='ee-v'>-70.7801512548699</span></li><li><span class='ee-k'>1:</span><span class='ee-v'>-13.918529655083745</span></li></ul></li><li><label class='ee-shut'>898: [-70.78015332999617, -13.918800785105855]<input type='checkbox' class='ee-toggle'></label><ul><li><span class='ee-k'>0:</span><span class='ee-v'>-70.78015332999617</span></li><li><span class='ee-k'>1:</span><span class='ee-v'>-13.918800785105855</span></li></ul></li><li><label class='ee-shut'>899: [-70.77987576052672, -13.91880281194768]<input type='checkbox' class='ee-toggle'></label><ul><li><span class='ee-k'>0:</span><span class='ee-v'>-70.77987576052672</span></li><li><span class='ee-k'>1:</span><span class='ee-v'>-13.91880281194768</span></li></ul></li><li><label class='ee-shut'>900: [-70.77987991025823, -13.919345072063765]<input type='checkbox' class='ee-toggle'></label><ul><li><span class='ee-k'>0:</span><span class='ee-v'>-70.77987991025823</span></li><li><span class='ee-k'>1:</span><span class='ee-v'>-13.919345072063765</span></li></ul></li><li><label class='ee-shut'>901: [-70.7801574803655, -13.91934304514109]<input type='checkbox' class='ee-toggle'></label><ul><li><span class='ee-k'>0:</span><span class='ee-v'>-70.7801574803655</span></li><li><span class='ee-k'>1:</span><span class='ee-v'>-13.91934304514109</span></li></ul></li><li><label class='ee-shut'>902: [-70.78015955561754, -13.919614175145234]<input type='checkbox' class='ee-toggle'></label><ul><li><span class='ee-k'>0:</span><span class='ee-v'>-70.78015955561754</span></li><li><span class='ee-k'>1:</span><span class='ee-v'>-13.919614175145234</span></li></ul></li><li><label class='ee-shut'>903: [-70.78071469635309, -13.919610120266823]<input type='checkbox' class='ee-toggle'></label><ul><li><span class='ee-k'>0:</span><span class='ee-v'>-70.78071469635309</span></li><li><span class='ee-k'>1:</span><span class='ee-v'>-13.919610120266823</span></li></ul></li><li><label class='ee-shut'>904: [-70.78071677229683, -13.919881250190118]<input type='checkbox' class='ee-toggle'></label><ul><li><span class='ee-k'>0:</span><span class='ee-v'>-70.78071677229683</span></li><li><span class='ee-k'>1:</span><span class='ee-v'>-13.919881250190118</span></li></ul></li><li><label class='ee-shut'>905: [-70.78099434291613, -13.91987922223438]<input type='checkbox' class='ee-toggle'></label><ul><li><span class='ee-k'>0:</span><span class='ee-v'>-70.78099434291613</span></li><li><span class='ee-k'>1:</span><span class='ee-v'>-13.91987922223438</span></li></ul></li><li><label class='ee-shut'>906: [-70.78099641922817, -13.920150352103777]<input type='checkbox' class='ee-toggle'></label><ul><li><span class='ee-k'>0:</span><span class='ee-v'>-70.78099641922817</span></li><li><span class='ee-k'>1:</span><span class='ee-v'>-13.920150352103777</span></li></ul></li><li><label class='ee-shut'>907: [-70.78127399013495, -13.920148323797696]<input type='checkbox' class='ee-toggle'></label><ul><li><span class='ee-k'>0:</span><span class='ee-v'>-70.78127399013495</span></li><li><span class='ee-k'>1:</span><span class='ee-v'>-13.920148323797696</span></li></ul></li><li><label class='ee-shut'>908: [-70.7812781435316, -13.920690583437674]<input type='checkbox' class='ee-toggle'></label><ul><li><span class='ee-k'>0:</span><span class='ee-v'>-70.7812781435316</span></li><li><span class='ee-k'>1:</span><span class='ee-v'>-13.920690583437674</span></li></ul></li><li><label class='ee-shut'>909: [-70.78211085791376, -13.920684496363476]<input type='checkbox' class='ee-toggle'></label><ul><li><span class='ee-k'>0:</span><span class='ee-v'>-70.78211085791376</span></li><li><span class='ee-k'>1:</span><span class='ee-v'>-13.920684496363476</span></li></ul></li><li><label class='ee-shut'>910: [-70.78210878021831, -13.920413366673744]<input type='checkbox' class='ee-toggle'></label><ul><li><span class='ee-k'>0:</span><span class='ee-v'>-70.78210878021831</span></li><li><span class='ee-k'>1:</span><span class='ee-v'>-13.920413366673744</span></li></ul></li><li><label class='ee-shut'>911: [-70.7826639222654, -13.920409307124093]<input type='checkbox' class='ee-toggle'></label><ul><li><span class='ee-k'>0:</span><span class='ee-v'>-70.7826639222654</span></li><li><span class='ee-k'>1:</span><span class='ee-v'>-13.920409307124093</span></li></ul></li><li><label class='ee-shut'>912: [-70.78266600060765, -13.92068043674196]<input type='checkbox' class='ee-toggle'></label><ul><li><span class='ee-k'>0:</span><span class='ee-v'>-70.78266600060765</span></li><li><span class='ee-k'>1:</span><span class='ee-v'>-13.92068043674196</span></li></ul></li><li><label class='ee-shut'>913: [-70.78322114312186, -13.92067637585382]<input type='checkbox' class='ee-toggle'></label><ul><li><span class='ee-k'>0:</span><span class='ee-v'>-70.78322114312186</span></li><li><span class='ee-k'>1:</span><span class='ee-v'>-13.92067637585382</span></li></ul></li><li><label class='ee-shut'>914: [-70.78322738034946, -13.921489764401995]<input type='checkbox' class='ee-toggle'></label><ul><li><span class='ee-k'>0:</span><span class='ee-v'>-70.78322738034946</span></li><li><span class='ee-k'>1:</span><span class='ee-v'>-13.921489764401995</span></li></ul></li><li><label class='ee-shut'>915: [-70.78350495251387, -13.921487733365037]<input type='checkbox' class='ee-toggle'></label><ul><li><span class='ee-k'>0:</span><span class='ee-v'>-70.78350495251387</span></li><li><span class='ee-k'>1:</span><span class='ee-v'>-13.921487733365037</span></li></ul></li><li><label class='ee-shut'>916: [-70.78350703199696, -13.92175886283019]<input type='checkbox' class='ee-toggle'></label><ul><li><span class='ee-k'>0:</span><span class='ee-v'>-70.78350703199696</span></li><li><span class='ee-k'>1:</span><span class='ee-v'>-13.92175886283019</span></li></ul></li><li><label class='ee-shut'>917: [-70.78378460443984, -13.921756831433907]<input type='checkbox' class='ee-toggle'></label><ul><li><span class='ee-k'>0:</span><span class='ee-v'>-70.78378460443984</span></li><li><span class='ee-k'>1:</span><span class='ee-v'>-13.921756831433907</span></li></ul></li><li><label class='ee-shut'>918: [-70.78378668429126, -13.922027960845162]<input type='checkbox' class='ee-toggle'></label><ul><li><span class='ee-k'>0:</span><span class='ee-v'>-70.78378668429126</span></li><li><span class='ee-k'>1:</span><span class='ee-v'>-13.922027960845162</span></li></ul></li><li><label class='ee-shut'>919: [-70.78406425701262, -13.92202592908955]<input type='checkbox' class='ee-toggle'></label><ul><li><span class='ee-k'>0:</span><span class='ee-v'>-70.78406425701262</span></li><li><span class='ee-k'>1:</span><span class='ee-v'>-13.92202592908955</span></li></ul></li><li><label class='ee-shut'>920: [-70.78406633723233, -13.922297058464872]<input type='checkbox' class='ee-toggle'></label><ul><li><span class='ee-k'>0:</span><span class='ee-v'>-70.78406633723233</span></li><li><span class='ee-k'>1:</span><span class='ee-v'>-13.922297058464872</span></li></ul></li><li><label class='ee-shut'>921: [-70.7846214831871, -13.922292993920589]<input type='checkbox' class='ee-toggle'></label><ul><li><span class='ee-k'>0:</span><span class='ee-v'>-70.7846214831871</span></li><li><span class='ee-k'>1:</span><span class='ee-v'>-13.922292993920589</span></li></ul></li><li><label class='ee-shut'>922: [-70.78461940232059, -13.922021864635099]<input type='checkbox' class='ee-toggle'></label><ul><li><span class='ee-k'>0:</span><span class='ee-v'>-70.78461940232059</span></li><li><span class='ee-k'>1:</span><span class='ee-v'>-13.922021864635099</span></li></ul></li><li><label class='ee-shut'>923: [-70.7854521199367, -13.922015765577376]<input type='checkbox' class='ee-toggle'></label><ul><li><span class='ee-k'>0:</span><span class='ee-v'>-70.7854521199367</span></li><li><span class='ee-k'>1:</span><span class='ee-v'>-13.922015765577376</span></li></ul></li><li><label class='ee-shut'>924: [-70.78545420177339, -13.922286894746085]<input type='checkbox' class='ee-toggle'></label><ul><li><span class='ee-k'>0:</span><span class='ee-v'>-70.78545420177339</span></li><li><span class='ee-k'>1:</span><span class='ee-v'>-13.922286894746085</span></li></ul></li><li><label class='ee-shut'>925: [-70.78600934727899, -13.922282827048715]<input type='checkbox' class='ee-toggle'></label><ul><li><span class='ee-k'>0:</span><span class='ee-v'>-70.78600934727899</span></li><li><span class='ee-k'>1:</span><span class='ee-v'>-13.922282827048715</span></li></ul></li><li><label class='ee-shut'>926: [-70.78600726479551, -13.922011697960853]<input type='checkbox' class='ee-toggle'></label><ul><li><span class='ee-k'>0:</span><span class='ee-v'>-70.78600726479551</span></li><li><span class='ee-k'>1:</span><span class='ee-v'>-13.922011697960853</span></li></ul></li><li><label class='ee-shut'>927: [-70.78656240947467, -13.92200762908669]<input type='checkbox' class='ee-toggle'></label><ul><li><span class='ee-k'>0:</span><span class='ee-v'>-70.78656240947467</span></li><li><span class='ee-k'>1:</span><span class='ee-v'>-13.92200762908669</span></li></ul></li><li><label class='ee-shut'>928: [-70.78656032638932, -13.921736500079676]<input type='checkbox' class='ee-toggle'></label><ul><li><span class='ee-k'>0:</span><span class='ee-v'>-70.78656032638932</span></li><li><span class='ee-k'>1:</span><span class='ee-v'>-13.921736500079676</span></li></ul></li><li><label class='ee-shut'>929: [-70.78711547024203, -13.921732430019736]<input type='checkbox' class='ee-toggle'></label><ul><li><span class='ee-k'>0:</span><span class='ee-v'>-70.78711547024203</span></li><li><span class='ee-k'>1:</span><span class='ee-v'>-13.921732430019736</span></li></ul></li><li><label class='ee-shut'>930: [-70.78711338655481, -13.921461301093572]<input type='checkbox' class='ee-toggle'></label><ul><li><span class='ee-k'>0:</span><span class='ee-v'>-70.78711338655481</span></li><li><span class='ee-k'>1:</span><span class='ee-v'>-13.921461301093572</span></li></ul></li><li><label class='ee-shut'>931: [-70.7873909580904, -13.921459265627918]<input type='checkbox' class='ee-toggle'></label><ul><li><span class='ee-k'>0:</span><span class='ee-v'>-70.7873909580904</span></li><li><span class='ee-k'>1:</span><span class='ee-v'>-13.921459265627918</span></li></ul></li><li><label class='ee-shut'>932: [-70.7873888741247, -13.921188136737687]<input type='checkbox' class='ee-toggle'></label><ul><li><span class='ee-k'>0:</span><span class='ee-v'>-70.7873888741247</span></li><li><span class='ee-k'>1:</span><span class='ee-v'>-13.921188136737687</span></li></ul></li><li><label class='ee-shut'>933: [-70.78766644529198, -13.921186101002538]<input type='checkbox' class='ee-toggle'></label><ul><li><span class='ee-k'>0:</span><span class='ee-v'>-70.78766644529198</span></li><li><span class='ee-k'>1:</span><span class='ee-v'>-13.921186101002538</span></li></ul></li><li><label class='ee-shut'>934: [-70.78766227683957, -13.920643843275974]<input type='checkbox' class='ee-toggle'></label><ul><li><span class='ee-k'>0:</span><span class='ee-v'>-70.78766227683957</span></li><li><span class='ee-k'>1:</span><span class='ee-v'>-13.920643843275974</span></li></ul></li><li><label class='ee-shut'>935: [-70.78793984731514, -13.920641807307264]<input type='checkbox' class='ee-toggle'></label><ul><li><span class='ee-k'>0:</span><span class='ee-v'>-70.78793984731514</span></li><li><span class='ee-k'>1:</span><span class='ee-v'>-13.920641807307264</span></li></ul></li><li><label class='ee-shut'>936: [-70.7879377628374, -13.920370678470931]<input type='checkbox' class='ee-toggle'></label><ul><li><span class='ee-k'>0:</span><span class='ee-v'>-70.7879377628374</span></li><li><span class='ee-k'>1:</span><span class='ee-v'>-13.920370678470931</span></li></ul></li><li><label class='ee-shut'>937: [-70.78821533295365, -13.920368642232727]<input type='checkbox' class='ee-toggle'></label><ul><li><span class='ee-k'>0:</span><span class='ee-v'>-70.78821533295365</span></li><li><span class='ee-k'>1:</span><span class='ee-v'>-13.920368642232727</span></li></ul></li><li><label class='ee-shut'>938: [-70.78821324818846, -13.920097513432326]<input type='checkbox' class='ee-toggle'></label><ul><li><span class='ee-k'>0:</span><span class='ee-v'>-70.78821324818846</span></li><li><span class='ee-k'>1:</span><span class='ee-v'>-13.920097513432326</span></li></ul></li><li><label class='ee-shut'>939: [-70.78876838763043, -13.920093440084552]<input type='checkbox' class='ee-toggle'></label><ul><li><span class='ee-k'>0:</span><span class='ee-v'>-70.78876838763043</span></li><li><span class='ee-k'>1:</span><span class='ee-v'>-13.920093440084552</span></li></ul></li><li><label class='ee-shut'>940: [-70.78876630227235, -13.919822311356016]<input type='checkbox' class='ee-toggle'></label><ul><li><span class='ee-k'>0:</span><span class='ee-v'>-70.78876630227235</span></li><li><span class='ee-k'>1:</span><span class='ee-v'>-13.919822311356016</span></li></ul></li><li><label class='ee-shut'>941: [-70.78959901012377, -13.919816199084076]<input type='checkbox' class='ee-toggle'></label><ul><li><span class='ee-k'>0:</span><span class='ee-v'>-70.78959901012377</span></li><li><span class='ee-k'>1:</span><span class='ee-v'>-13.919816199084076</span></li></ul></li><li><label class='ee-shut'>942: [-70.78959483760198, -13.919273941878533]<input type='checkbox' class='ee-toggle'></label><ul><li><span class='ee-k'>0:</span><span class='ee-v'>-70.78959483760198</span></li><li><span class='ee-k'>1:</span><span class='ee-v'>-13.919273941878533</span></li></ul></li><li><label class='ee-shut'>943: [-70.78987240614619, -13.919271903897599]<input type='checkbox' class='ee-toggle'></label><ul><li><span class='ee-k'>0:</span><span class='ee-v'>-70.78987240614619</span></li><li><span class='ee-k'>1:</span><span class='ee-v'>-13.919271903897599</span></li></ul></li><li><label class='ee-shut'>944: [-70.78986823315728, -13.918729646745954]<input type='checkbox' class='ee-toggle'></label><ul><li><span class='ee-k'>0:</span><span class='ee-v'>-70.78986823315728</span></li><li><span class='ee-k'>1:</span><span class='ee-v'>-13.918729646745954</span></li></ul></li><li><label class='ee-shut'>945: [-70.79042336882632, -13.918725570020515]<input type='checkbox' class='ee-toggle'></label><ul><li><span class='ee-k'>0:</span><span class='ee-v'>-70.79042336882632</span></li><li><span class='ee-k'>1:</span><span class='ee-v'>-13.918725570020515</span></li></ul></li><li><label class='ee-shut'>946: [-70.79042128175246, -13.918454441516559]<input type='checkbox' class='ee-toggle'></label><ul><li><span class='ee-k'>0:</span><span class='ee-v'>-70.79042128175246</span></li><li><span class='ee-k'>1:</span><span class='ee-v'>-13.918454441516559</span></li></ul></li><li><label class='ee-shut'>947: [-70.79069884920071, -13.918452402718156]<input type='checkbox' class='ee-toggle'></label><ul><li><span class='ee-k'>0:</span><span class='ee-v'>-70.79069884920071</span></li><li><span class='ee-k'>1:</span><span class='ee-v'>-13.918452402718156</span></li></ul></li><li><label class='ee-shut'>948: [-70.79069676183938, -13.918181274250133]<input type='checkbox' class='ee-toggle'></label><ul><li><span class='ee-k'>0:</span><span class='ee-v'>-70.79069676183938</span></li><li><span class='ee-k'>1:</span><span class='ee-v'>-13.918181274250133</span></li></ul></li><li><label class='ee-shut'>949: [-70.79125189595435, -13.918177195790944]<input type='checkbox' class='ee-toggle'></label><ul><li><span class='ee-k'>0:</span><span class='ee-v'>-70.79125189595435</span></li><li><span class='ee-k'>1:</span><span class='ee-v'>-13.918177195790944</span></li></ul></li><li><label class='ee-shut'>950: [-70.79124980800013, -13.917906067394785]<input type='checkbox' class='ee-toggle'></label><ul><li><span class='ee-k'>0:</span><span class='ee-v'>-70.79124980800013</span></li><li><span class='ee-k'>1:</span><span class='ee-v'>-13.917906067394785</span></li></ul></li><li><label class='ee-shut'>951: [-70.79152737466686, -13.917904027734]<input type='checkbox' class='ee-toggle'></label><ul><li><span class='ee-k'>0:</span><span class='ee-v'>-70.79152737466686</span></li><li><span class='ee-k'>1:</span><span class='ee-v'>-13.917904027734</span></li></ul></li><li><label class='ee-shut'>952: [-70.79150858216263, -13.91546387228535]<input type='checkbox' class='ee-toggle'></label><ul><li><span class='ee-k'>0:</span><span class='ee-v'>-70.79150858216263</span></li><li><span class='ee-k'>1:</span><span class='ee-v'>-13.91546387228535</span></li></ul></li><li><label class='ee-shut'>953: [-70.7917861458739, -13.915461832678465]<input type='checkbox' class='ee-toggle'></label><ul><li><span class='ee-k'>0:</span><span class='ee-v'>-70.7917861458739</span></li><li><span class='ee-k'>1:</span><span class='ee-v'>-13.915461832678465</span></li></ul></li><li><label class='ee-shut'>954: [-70.79177779352703, -13.914377319147729]<input type='checkbox' class='ee-toggle'></label><ul><li><span class='ee-k'>0:</span><span class='ee-v'>-70.79177779352703</span></li><li><span class='ee-k'>1:</span><span class='ee-v'>-13.914377319147729</span></li></ul></li><li><label class='ee-shut'>955: [-70.7920553558998, -13.914375279388128]<input type='checkbox' class='ee-toggle'></label><ul><li><span class='ee-k'>0:</span><span class='ee-v'>-70.7920553558998</span></li><li><span class='ee-k'>1:</span><span class='ee-v'>-13.914375279388128</span></li></ul></li><li><label class='ee-shut'>956: [-70.79205117934458, -13.913833022667676]<input type='checkbox' class='ee-toggle'></label><ul><li><span class='ee-k'>0:</span><span class='ee-v'>-70.79205117934458</span></li><li><span class='ee-k'>1:</span><span class='ee-v'>-13.913833022667676</span></li></ul></li><li><label class='ee-shut'>957: [-70.79232874103464, -13.913830982674515]<input type='checkbox' class='ee-toggle'></label><ul><li><span class='ee-k'>0:</span><span class='ee-v'>-70.79232874103464</span></li><li><span class='ee-k'>1:</span><span class='ee-v'>-13.913830982674515</span></li></ul></li><li><label class='ee-shut'>958: [-70.79232665249651, -13.91355985435022]<input type='checkbox' class='ee-toggle'></label><ul><li><span class='ee-k'>0:</span><span class='ee-v'>-70.79232665249651</span></li><li><span class='ee-k'>1:</span><span class='ee-v'>-13.91355985435022</span></li></ul></li><li><label class='ee-shut'>959: [-70.79288177509508, -13.913555773510497]<input type='checkbox' class='ee-toggle'></label><ul><li><span class='ee-k'>0:</span><span class='ee-v'>-70.79288177509508</span></li><li><span class='ee-k'>1:</span><span class='ee-v'>-13.913555773510497</span></li></ul></li><li><label class='ee-shut'>960: [-70.79287968595509, -13.913284645258068]<input type='checkbox' class='ee-toggle'></label><ul><li><span class='ee-k'>0:</span><span class='ee-v'>-70.79287968595509</span></li><li><span class='ee-k'>1:</span><span class='ee-v'>-13.913284645258068</span></li></ul></li><li><label class='ee-shut'>961: [-70.7931572468636, -13.913282604402525]<input type='checkbox' class='ee-toggle'></label><ul><li><span class='ee-k'>0:</span><span class='ee-v'>-70.7931572468636</span></li><li><span class='ee-k'>1:</span><span class='ee-v'>-13.913282604402525</span></li></ul></li><li><label class='ee-shut'>962: [-70.79315515745411, -13.913011476186028]<input type='checkbox' class='ee-toggle'></label><ul><li><span class='ee-k'>0:</span><span class='ee-v'>-70.79315515745411</span></li><li><span class='ee-k'>1:</span><span class='ee-v'>-13.913011476186028</span></li></ul></li><li><label class='ee-shut'>963: [-70.79343271798534, -13.913009435060989]<input type='checkbox' class='ee-toggle'></label><ul><li><span class='ee-k'>0:</span><span class='ee-v'>-70.79343271798534</span></li><li><span class='ee-k'>1:</span><span class='ee-v'>-13.913009435060989</span></li></ul></li><li><label class='ee-shut'>964: [-70.79343062829737, -13.912738306871443]<input type='checkbox' class='ee-toggle'></label><ul><li><span class='ee-k'>0:</span><span class='ee-v'>-70.79343062829737</span></li><li><span class='ee-k'>1:</span><span class='ee-v'>-13.912738306871443</span></li></ul></li><li><label class='ee-shut'>965: [-70.79398574858727, -13.912734223758981]<input type='checkbox' class='ee-toggle'></label><ul><li><span class='ee-k'>0:</span><span class='ee-v'>-70.79398574858727</span></li><li><span class='ee-k'>1:</span><span class='ee-v'>-13.912734223758981</span></li></ul></li><li><label class='ee-shut'>966: [-70.79398365829744, -13.912463095650285]<input type='checkbox' class='ee-toggle'></label><ul><li><span class='ee-k'>0:</span><span class='ee-v'>-70.79398365829744</span></li><li><span class='ee-k'>1:</span><span class='ee-v'>-13.912463095650285</span></li></ul></li><li><label class='ee-shut'>967: [-70.79453877776986, -13.912459011352047]<input type='checkbox' class='ee-toggle'></label><ul><li><span class='ee-k'>0:</span><span class='ee-v'>-70.79453877776986</span></li><li><span class='ee-k'>1:</span><span class='ee-v'>-13.912459011352047</span></li></ul></li><li><label class='ee-shut'>968: [-70.79453668687816, -13.912187883324197]<input type='checkbox' class='ee-toggle'></label><ul><li><span class='ee-k'>0:</span><span class='ee-v'>-70.79453668687816</span></li><li><span class='ee-k'>1:</span><span class='ee-v'>-13.912187883324197</span></li></ul></li><li><label class='ee-shut'>969: [-70.7948142462236, -13.912185840743888]<input type='checkbox' class='ee-toggle'></label><ul><li><span class='ee-k'>0:</span><span class='ee-v'>-70.7948142462236</span></li><li><span class='ee-k'>1:</span><span class='ee-v'>-13.912185840743888</span></li></ul></li><li><label class='ee-shut'>970: [-70.79481215505342, -13.91191471275197]<input type='checkbox' class='ee-toggle'></label><ul><li><span class='ee-k'>0:</span><span class='ee-v'>-70.79481215505342</span></li><li><span class='ee-k'>1:</span><span class='ee-v'>-13.91191471275197</span></li></ul></li><li><label class='ee-shut'>971: [-70.7956448318411, -13.91190858324136]<input type='checkbox' class='ee-toggle'></label><ul><li><span class='ee-k'>0:</span><span class='ee-v'>-70.7956448318411</span></li><li><span class='ee-k'>1:</span><span class='ee-v'>-13.91190858324136</span></li></ul></li><li><label class='ee-shut'>972: [-70.79564273975463, -13.911637455366224]<input type='checkbox' class='ee-toggle'></label><ul><li><span class='ee-k'>0:</span><span class='ee-v'>-70.79564273975463</span></li><li><span class='ee-k'>1:</span><span class='ee-v'>-13.911637455366224</span></li></ul></li><li><label class='ee-shut'>973: [-70.79647541517687, -13.911631323133719]<input type='checkbox' class='ee-toggle'></label><ul><li><span class='ee-k'>0:</span><span class='ee-v'>-70.79647541517687</span></li><li><span class='ee-k'>1:</span><span class='ee-v'>-13.911631323133719</span></li></ul></li><li><label class='ee-shut'>974: [-70.79647332215616, -13.911360195375362]<input type='checkbox' class='ee-toggle'></label><ul><li><span class='ee-k'>0:</span><span class='ee-v'>-70.79647332215616</span></li><li><span class='ee-k'>1:</span><span class='ee-v'>-13.911360195375362</span></li></ul></li><li><label class='ee-shut'>975: [-70.79675088021702, -13.911358150710962]<input type='checkbox' class='ee-toggle'></label><ul><li><span class='ee-k'>0:</span><span class='ee-v'>-70.79675088021702</span></li><li><span class='ee-k'>1:</span><span class='ee-v'>-13.911358150710962</span></li></ul></li><li><label class='ee-shut'>976: [-70.79674878691783, -13.91108702298854]<input type='checkbox' class='ee-toggle'></label><ul><li><span class='ee-k'>0:</span><span class='ee-v'>-70.79674878691783</span></li><li><span class='ee-k'>1:</span><span class='ee-v'>-13.91108702298854</span></li></ul></li><li><label class='ee-shut'>977: [-70.79647122918037, -13.911089067617008]<input type='checkbox' class='ee-toggle'></label><ul><li><span class='ee-k'>0:</span><span class='ee-v'>-70.79647122918037</span></li><li><span class='ee-k'>1:</span><span class='ee-v'>-13.911089067617008</span></li></ul></li><li><label class='ee-shut'>978: [-70.79646913624948, -13.910817939840687]<input type='checkbox' class='ee-toggle'></label><ul><li><span class='ee-k'>0:</span><span class='ee-v'>-70.79646913624948</span></li><li><span class='ee-k'>1:</span><span class='ee-v'>-13.910817939840687</span></li></ul></li><li><label class='ee-shut'>979: [-70.79674669366355, -13.910815895257134]<input type='checkbox' class='ee-toggle'></label><ul><li><span class='ee-k'>0:</span><span class='ee-v'>-70.79674669366355</span></li><li><span class='ee-k'>1:</span><span class='ee-v'>-13.910815895257134</span></li></ul></li><li><label class='ee-shut'>980: [-70.79674460046317, -13.910544767525728]<input type='checkbox' class='ee-toggle'></label><ul><li><span class='ee-k'>0:</span><span class='ee-v'>-70.79674460046317</span></li><li><span class='ee-k'>1:</span><span class='ee-v'>-13.910544767525728</span></li></ul></li><li><label class='ee-shut'>981: [-70.79702215750893, -13.910542722663697]<input type='checkbox' class='ee-toggle'></label><ul><li><span class='ee-k'>0:</span><span class='ee-v'>-70.79702215750893</span></li><li><span class='ee-k'>1:</span><span class='ee-v'>-13.910542722663697</span></li></ul></li><li><label class='ee-shut'>982: [-70.7970200640211, -13.91027159495924]<input type='checkbox' class='ee-toggle'></label><ul><li><span class='ee-k'>0:</span><span class='ee-v'>-70.7970200640211</span></li><li><span class='ee-k'>1:</span><span class='ee-v'>-13.91027159495924</span></li></ul></li><li><label class='ee-shut'>983: [-70.79757517734006, -13.910267504390763]<input type='checkbox' class='ee-toggle'></label><ul><li><span class='ee-k'>0:</span><span class='ee-v'>-70.79757517734006</span></li><li><span class='ee-k'>1:</span><span class='ee-v'>-13.910267504390763</span></li></ul></li><li><label class='ee-shut'>984: [-70.79757308325036, -13.909996376767156]<input type='checkbox' class='ee-toggle'></label><ul><li><span class='ee-k'>0:</span><span class='ee-v'>-70.79757308325036</span></li><li><span class='ee-k'>1:</span><span class='ee-v'>-13.909996376767156</span></li></ul></li><li><label class='ee-shut'>985: [-70.79812819574288, -13.909992285012903]<input type='checkbox' class='ee-toggle'></label><ul><li><span class='ee-k'>0:</span><span class='ee-v'>-70.79812819574288</span></li><li><span class='ee-k'>1:</span><span class='ee-v'>-13.909992285012903</span></li></ul></li><li><label class='ee-shut'>986: [-70.79813238525179, -13.910534540089438]<input type='checkbox' class='ee-toggle'></label><ul><li><span class='ee-k'>0:</span><span class='ee-v'>-70.79813238525179</span></li><li><span class='ee-k'>1:</span><span class='ee-v'>-13.910534540089438</span></li></ul></li><li><label class='ee-shut'>987: [-70.79840994207298, -13.910532493655355]<input type='checkbox' class='ee-toggle'></label><ul><li><span class='ee-k'>0:</span><span class='ee-v'>-70.79840994207298</span></li><li><span class='ee-k'>1:</span><span class='ee-v'>-13.910532493655355</span></li></ul></li><li><label class='ee-shut'>988: [-70.79841203721371, -13.910803621144215]<input type='checkbox' class='ee-toggle'></label><ul><li><span class='ee-k'>0:</span><span class='ee-v'>-70.79841203721371</span></li><li><span class='ee-k'>1:</span><span class='ee-v'>-13.910803621144215</span></li></ul></li><li><label class='ee-shut'>989: [-70.79868959432235, -13.910801574350806]<input type='checkbox' class='ee-toggle'></label><ul><li><span class='ee-k'>0:</span><span class='ee-v'>-70.79868959432235</span></li><li><span class='ee-k'>1:</span><span class='ee-v'>-13.910801574350806</span></li></ul></li><li><label class='ee-shut'>990: [-70.7986916898314, -13.911072701794751]<input type='checkbox' class='ee-toggle'></label><ul><li><span class='ee-k'>0:</span><span class='ee-v'>-70.7986916898314</span></li><li><span class='ee-k'>1:</span><span class='ee-v'>-13.911072701794751</span></li></ul></li><li><label class='ee-shut'>991: [-70.79952436183106, -13.911066559411283]<input type='checkbox' class='ee-toggle'></label><ul><li><span class='ee-k'>0:</span><span class='ee-v'>-70.79952436183106</span></li><li><span class='ee-k'>1:</span><span class='ee-v'>-13.911066559411283</span></li></ul></li><li><label class='ee-shut'>992: [-70.79951597618364, -13.909982050102629]<input type='checkbox' class='ee-toggle'></label><ul><li><span class='ee-k'>0:</span><span class='ee-v'>-70.79951597618364</span></li><li><span class='ee-k'>1:</span><span class='ee-v'>-13.909982050102629</span></li></ul></li><li><label class='ee-shut'>993: [-70.79979353213346, -13.909980002177342]<input type='checkbox' class='ee-toggle'></label><ul><li><span class='ee-k'>0:</span><span class='ee-v'>-70.79979353213346</span></li><li><span class='ee-k'>1:</span><span class='ee-v'>-13.909980002177342</span></li></ul></li><li><label class='ee-shut'>994: [-70.79978304945885, -13.90862436561339]<input type='checkbox' class='ee-toggle'></label><ul><li><span class='ee-k'>0:</span><span class='ee-v'>-70.79978304945885</span></li><li><span class='ee-k'>1:</span><span class='ee-v'>-13.90862436561339</span></li></ul></li><li><label class='ee-shut'>995: [-70.80006060375577, -13.908622317571323]<input type='checkbox' class='ee-toggle'></label><ul><li><span class='ee-k'>0:</span><span class='ee-v'>-70.80006060375577</span></li><li><span class='ee-k'>1:</span><span class='ee-v'>-13.908622317571323</span></li></ul></li><li><label class='ee-shut'>996: [-70.800058507034, -13.908351190289075]<input type='checkbox' class='ee-toggle'></label><ul><li><span class='ee-k'>0:</span><span class='ee-v'>-70.800058507034</span></li><li><span class='ee-k'>1:</span><span class='ee-v'>-13.908351190289075</span></li></ul></li><li><label class='ee-shut'>997: [-70.80033606095361, -13.908349141977514]<input type='checkbox' class='ee-toggle'></label><ul><li><span class='ee-k'>0:</span><span class='ee-v'>-70.80033606095361</span></li><li><span class='ee-k'>1:</span><span class='ee-v'>-13.908349141977514</span></li></ul></li><li><label class='ee-shut'>998: [-70.80033396395336, -13.908078014722214]<input type='checkbox' class='ee-toggle'></label><ul><li><span class='ee-k'>0:</span><span class='ee-v'>-70.80033396395336</span></li><li><span class='ee-k'>1:</span><span class='ee-v'>-13.908078014722214</span></li></ul></li><li><label class='ee-shut'>999: [-70.80061151751366, -13.908075966132175]<input type='checkbox' class='ee-toggle'></label><ul><li><span class='ee-k'>0:</span><span class='ee-v'>-70.80061151751366</span></li><li><span class='ee-k'>1:</span><span class='ee-v'>-13.908075966132175</span></li></ul></li><li><label class='ee-shut'>1000: [-70.80060732300112, -13.907533711693445]<input type='checkbox' class='ee-toggle'></label><ul><li><span class='ee-k'>0:</span><span class='ee-v'>-70.80060732300112</span></li><li><span class='ee-k'>1:</span><span class='ee-v'>-13.907533711693445</span></li></ul></li><li><label class='ee-shut'>1001: [-70.80088487586971, -13.907531662869843]<input type='checkbox' class='ee-toggle'></label><ul><li><span class='ee-k'>0:</span><span class='ee-v'>-70.80088487586971</span></li><li><span class='ee-k'>1:</span><span class='ee-v'>-13.907531662869843</span></li></ul></li><li><label class='ee-shut'>1002: [-70.80088907102905, -13.90807391723671]<input type='checkbox' class='ee-toggle'></label><ul><li><span class='ee-k'>0:</span><span class='ee-v'>-70.80088907102905</span></li><li><span class='ee-k'>1:</span><span class='ee-v'>-13.90807391723671</span></li></ul></li><li><label class='ee-shut'>1003: [-70.8011666244995, -13.908071868026832]<input type='checkbox' class='ee-toggle'></label><ul><li><span class='ee-k'>0:</span><span class='ee-v'>-70.8011666244995</span></li><li><span class='ee-k'>1:</span><span class='ee-v'>-13.908071868026832</span></li></ul></li><li><label class='ee-shut'>1004: [-70.8011708204763, -13.908614122276918]<input type='checkbox' class='ee-toggle'></label><ul><li><span class='ee-k'>0:</span><span class='ee-v'>-70.8011708204763</span></li><li><span class='ee-k'>1:</span><span class='ee-v'>-13.908614122276918</span></li></ul></li><li><label class='ee-shut'>1005: [-70.80172592856707, -13.90861002273427]<input type='checkbox' class='ee-toggle'></label><ul><li><span class='ee-k'>0:</span><span class='ee-v'>-70.80172592856707</span></li><li><span class='ee-k'>1:</span><span class='ee-v'>-13.90861002273427</span></li></ul></li><li><label class='ee-shut'>1006: [-70.80172382991393, -13.908338895694568]<input type='checkbox' class='ee-toggle'></label><ul><li><span class='ee-k'>0:</span><span class='ee-v'>-70.80172382991393</span></li><li><span class='ee-k'>1:</span><span class='ee-v'>-13.908338895694568</span></li></ul></li><li><label class='ee-shut'>1007: [-70.80200138356405, -13.908336845496544]<input type='checkbox' class='ee-toggle'></label><ul><li><span class='ee-k'>0:</span><span class='ee-v'>-70.80200138356405</span></li><li><span class='ee-k'>1:</span><span class='ee-v'>-13.908336845496544</span></li></ul></li><li><label class='ee-shut'>1008: [-70.80199928463242, -13.908065718492773]<input type='checkbox' class='ee-toggle'></label><ul><li><span class='ee-k'>0:</span><span class='ee-v'>-70.80199928463242</span></li><li><span class='ee-k'>1:</span><span class='ee-v'>-13.908065718492773</span></li></ul></li><li><label class='ee-shut'>1009: [-70.80283194436109, -13.908059566111056]<input type='checkbox' class='ee-toggle'></label><ul><li><span class='ee-k'>0:</span><span class='ee-v'>-70.80283194436109</span></li><li><span class='ee-k'>1:</span><span class='ee-v'>-13.908059566111056</span></li></ul></li><li><label class='ee-shut'>1010: [-70.80282984449522, -13.907788439224067]<input type='checkbox' class='ee-toggle'></label><ul><li><span class='ee-k'>0:</span><span class='ee-v'>-70.80282984449522</span></li><li><span class='ee-k'>1:</span><span class='ee-v'>-13.907788439224067</span></li></ul></li><li><label class='ee-shut'>1011: [-70.80310739732788, -13.907786387849251]<input type='checkbox' class='ee-toggle'></label><ul><li><span class='ee-k'>0:</span><span class='ee-v'>-70.80310739732788</span></li><li><span class='ee-k'>1:</span><span class='ee-v'>-13.907786387849251</span></li></ul></li><li><label class='ee-shut'>1012: [-70.80310529718352, -13.90751526098921]<input type='checkbox' class='ee-toggle'></label><ul><li><span class='ee-k'>0:</span><span class='ee-v'>-70.80310529718352</span></li><li><span class='ee-k'>1:</span><span class='ee-v'>-13.90751526098921</span></li></ul></li><li><label class='ee-shut'>1013: [-70.80366040206731, -13.907511157368212]<input type='checkbox' class='ee-toggle'></label><ul><li><span class='ee-k'>0:</span><span class='ee-v'>-70.80366040206731</span></li><li><span class='ee-k'>1:</span><span class='ee-v'>-13.907511157368212</span></li></ul></li><li><label class='ee-shut'>1014: [-70.80365830133007, -13.907240030589021]<input type='checkbox' class='ee-toggle'></label><ul><li><span class='ee-k'>0:</span><span class='ee-v'>-70.80365830133007</span></li><li><span class='ee-k'>1:</span><span class='ee-v'>-13.907240030589021</span></li></ul></li><li><label class='ee-shut'>1015: [-70.80449095733972, -13.907233872916226]<input type='checkbox' class='ee-toggle'></label><ul><li><span class='ee-k'>0:</span><span class='ee-v'>-70.80449095733972</span></li><li><span class='ee-k'>1:</span><span class='ee-v'>-13.907233872916226</span></li></ul></li><li><label class='ee-shut'>1016: [-70.80448675405962, -13.906691619591406]<input type='checkbox' class='ee-toggle'></label><ul><li><span class='ee-k'>0:</span><span class='ee-v'>-70.80448675405962</span></li><li><span class='ee-k'>1:</span><span class='ee-v'>-13.906691619591406</span></li></ul></li><li><label class='ee-shut'>1017: [-70.80476430532921, -13.906689566491824]<input type='checkbox' class='ee-toggle'></label><ul><li><span class='ee-k'>0:</span><span class='ee-v'>-70.80476430532921</span></li><li><span class='ee-k'>1:</span><span class='ee-v'>-13.906689566491824</span></li></ul></li><li><label class='ee-shut'>1018: [-70.80476010158199, -13.906147313220902]<input type='checkbox' class='ee-toggle'></label><ul><li><span class='ee-k'>0:</span><span class='ee-v'>-70.80476010158199</span></li><li><span class='ee-k'>1:</span><span class='ee-v'>-13.906147313220902</span></li></ul></li><li><label class='ee-shut'>1019: [-70.80503765215988, -13.906145259887758]<input type='checkbox' class='ee-toggle'></label><ul><li><span class='ee-k'>0:</span><span class='ee-v'>-70.80503765215988</span></li><li><span class='ee-k'>1:</span><span class='ee-v'>-13.906145259887758</span></li></ul></li><li><label class='ee-shut'>1020: [-70.80503555003025, -13.90587413328823]<input type='checkbox' class='ee-toggle'></label><ul><li><span class='ee-k'>0:</span><span class='ee-v'>-70.80503555003025</span></li><li><span class='ee-k'>1:</span><span class='ee-v'>-13.90587413328823</span></li></ul></li><li><label class='ee-shut'>1021: [-70.80614575059909, -13.905865916946299]<input type='checkbox' class='ee-toggle'></label><ul><li><span class='ee-k'>0:</span><span class='ee-v'>-70.80614575059909</span></li><li><span class='ee-k'>1:</span><span class='ee-v'>-13.905865916946299</span></li></ul></li><li><label class='ee-shut'>1022: [-70.8061436472208, -13.905594790508466]<input type='checkbox' class='ee-toggle'></label><ul><li><span class='ee-k'>0:</span><span class='ee-v'>-70.8061436472208</span></li><li><span class='ee-k'>1:</span><span class='ee-v'>-13.905594790508466</span></li></ul></li><li><label class='ee-shut'>1023: [-70.805588547673, -13.905598899222912]<input type='checkbox' class='ee-toggle'></label><ul><li><span class='ee-k'>0:</span><span class='ee-v'>-70.805588547673</span></li><li><span class='ee-k'>1:</span><span class='ee-v'>-13.905598899222912</span></li></ul></li><li><label class='ee-shut'>1024: [-70.8055780347072, -13.904243266512733]<input type='checkbox' class='ee-toggle'></label><ul><li><span class='ee-k'>0:</span><span class='ee-v'>-70.8055780347072</span></li><li><span class='ee-k'>1:</span><span class='ee-v'>-13.904243266512733</span></li></ul></li><li><label class='ee-shut'>1025: [-70.80502293820469, -13.904247373556313]<input type='checkbox' class='ee-toggle'></label><ul><li><span class='ee-k'>0:</span><span class='ee-v'>-70.80502293820469</span></li><li><span class='ee-k'>1:</span><span class='ee-v'>-13.904247373556313</span></li></ul></li><li><label class='ee-shut'>1026: [-70.80502504006482, -13.904518500191774]<input type='checkbox' class='ee-toggle'></label><ul><li><span class='ee-k'>0:</span><span class='ee-v'>-70.80502504006482</span></li><li><span class='ee-k'>1:</span><span class='ee-v'>-13.904518500191774</span></li></ul></li><li><label class='ee-shut'>1027: [-70.80474749141831, -13.904520553282373]<input type='checkbox' class='ee-toggle'></label><ul><li><span class='ee-k'>0:</span><span class='ee-v'>-70.80474749141831</span></li><li><span class='ee-k'>1:</span><span class='ee-v'>-13.904520553282373</span></li></ul></li><li><label class='ee-shut'>1028: [-70.80474328839873, -13.903978299912636]<input type='checkbox' class='ee-toggle'></label><ul><li><span class='ee-k'>0:</span><span class='ee-v'>-70.80474328839873</span></li><li><span class='ee-k'>1:</span><span class='ee-v'>-13.903978299912636</span></li></ul></li><li><label class='ee-shut'>1029: [-70.80446574035409, -13.903980352607975]<input type='checkbox' class='ee-toggle'></label><ul><li><span class='ee-k'>0:</span><span class='ee-v'>-70.80446574035409</span></li><li><span class='ee-k'>1:</span><span class='ee-v'>-13.903980352607975</span></li></ul></li><li><label class='ee-shut'>1030: [-70.80445943712726, -13.903166972387183]<input type='checkbox' class='ee-toggle'></label><ul><li><span class='ee-k'>0:</span><span class='ee-v'>-70.80445943712726</span></li><li><span class='ee-k'>1:</span><span class='ee-v'>-13.903166972387183</span></li></ul></li><li><label class='ee-shut'>1031: [-70.80473698419274, -13.903164919817607]<input type='checkbox' class='ee-toggle'></label><ul><li><span class='ee-k'>0:</span><span class='ee-v'>-70.80473698419274</span></li><li><span class='ee-k'>1:</span><span class='ee-v'>-13.903164919817607</span></li></ul></li><li><label class='ee-shut'>1032: [-70.80473488288956, -13.90289379311028]<input type='checkbox' class='ee-toggle'></label><ul><li><span class='ee-k'>0:</span><span class='ee-v'>-70.80473488288956</span></li><li><span class='ee-k'>1:</span><span class='ee-v'>-13.90289379311028</span></li></ul></li><li><label class='ee-shut'>1033: [-70.80501242959572, -13.90289174027121]<input type='checkbox' class='ee-toggle'></label><ul><li><span class='ee-k'>0:</span><span class='ee-v'>-70.80501242959572</span></li><li><span class='ee-k'>1:</span><span class='ee-v'>-13.90289174027121</span></li></ul></li><li><label class='ee-shut'>1034: [-70.80501032800507, -13.902620613599817]<input type='checkbox' class='ee-toggle'></label><ul><li><span class='ee-k'>0:</span><span class='ee-v'>-70.80501032800507</span></li><li><span class='ee-k'>1:</span><span class='ee-v'>-13.902620613599817</span></li></ul></li><li><label class='ee-shut'>1035: [-70.80528787434291, -13.902618560482269]<input type='checkbox' class='ee-toggle'></label><ul><li><span class='ee-k'>0:</span><span class='ee-v'>-70.80528787434291</span></li><li><span class='ee-k'>1:</span><span class='ee-v'>-13.902618560482269</span></li></ul></li><li><label class='ee-shut'>1036: [-70.8052857724738, -13.902347433837825]<input type='checkbox' class='ee-toggle'></label><ul><li><span class='ee-k'>0:</span><span class='ee-v'>-70.8052857724738</span></li><li><span class='ee-k'>1:</span><span class='ee-v'>-13.902347433837825</span></li></ul></li><li><label class='ee-shut'>1037: [-70.80584086436794, -13.902343326749328]<input type='checkbox' class='ee-toggle'></label><ul><li><span class='ee-k'>0:</span><span class='ee-v'>-70.80584086436794</span></li><li><span class='ee-k'>1:</span><span class='ee-v'>-13.902343326749328</span></li></ul></li><li><label class='ee-shut'>1038: [-70.80583876190593, -13.902072200185733]<input type='checkbox' class='ee-toggle'></label><ul><li><span class='ee-k'>0:</span><span class='ee-v'>-70.80583876190593</span></li><li><span class='ee-k'>1:</span><span class='ee-v'>-13.902072200185733</span></li></ul></li><li><label class='ee-shut'>1039: [-70.80667139843112, -13.902066037311693]<input type='checkbox' class='ee-toggle'></label><ul><li><span class='ee-k'>0:</span><span class='ee-v'>-70.80667139843112</span></li><li><span class='ee-k'>1:</span><span class='ee-v'>-13.902066037311693</span></li></ul></li><li><label class='ee-shut'>1040: [-70.80666929504386, -13.90179491087386]<input type='checkbox' class='ee-toggle'></label><ul><li><span class='ee-k'>0:</span><span class='ee-v'>-70.80666929504386</span></li><li><span class='ee-k'>1:</span><span class='ee-v'>-13.90179491087386</span></li></ul></li><li><label class='ee-shut'>1041: [-70.80694684014202, -13.901792855986631]<input type='checkbox' class='ee-toggle'></label><ul><li><span class='ee-k'>0:</span><span class='ee-v'>-70.80694684014202</span></li><li><span class='ee-k'>1:</span><span class='ee-v'>-13.901792855986631</span></li></ul></li><li><label class='ee-shut'>1042: [-70.80694473647627, -13.901521729584733]<input type='checkbox' class='ee-toggle'></label><ul><li><span class='ee-k'>0:</span><span class='ee-v'>-70.80694473647627</span></li><li><span class='ee-k'>1:</span><span class='ee-v'>-13.901521729584733</span></li></ul></li><li><label class='ee-shut'>1043: [-70.80722228120612, -13.901519674428009]<input type='checkbox' class='ee-toggle'></label><ul><li><span class='ee-k'>0:</span><span class='ee-v'>-70.80722228120612</span></li><li><span class='ee-k'>1:</span><span class='ee-v'>-13.901519674428009</span></li></ul></li><li><label class='ee-shut'>1044: [-70.80721807336259, -13.900977421669127]<input type='checkbox' class='ee-toggle'></label><ul><li><span class='ee-k'>0:</span><span class='ee-v'>-70.80721807336259</span></li><li><span class='ee-k'>1:</span><span class='ee-v'>-13.900977421669127</span></li></ul></li><li><label class='ee-shut'>1045: [-70.80666298515153, -13.900981531497484]<input type='checkbox' class='ee-toggle'></label><ul><li><span class='ee-k'>0:</span><span class='ee-v'>-70.80666298515153</span></li><li><span class='ee-k'>1:</span><span class='ee-v'>-13.900981531497484</span></li></ul></li><li><label class='ee-shut'>1046: [-70.80666088194393, -13.90071040502372]<input type='checkbox' class='ee-toggle'></label><ul><li><span class='ee-k'>0:</span><span class='ee-v'>-70.80666088194393</span></li><li><span class='ee-k'>1:</span><span class='ee-v'>-13.90071040502372</span></li></ul></li><li><label class='ee-shut'>1047: [-70.80638333809442, -13.90071245942586]<input type='checkbox' class='ee-toggle'></label><ul><li><span class='ee-k'>0:</span><span class='ee-v'>-70.80638333809442</span></li><li><span class='ee-k'>1:</span><span class='ee-v'>-13.90071245942586</span></li></ul></li><li><label class='ee-shut'>1048: [-70.80637913245175, -13.900170206379517]<input type='checkbox' class='ee-toggle'></label><ul><li><span class='ee-k'>0:</span><span class='ee-v'>-70.80637913245175</span></li><li><span class='ee-k'>1:</span><span class='ee-v'>-13.900170206379517</span></li></ul></li><li><label class='ee-shut'>1049: [-70.80610158920412, -13.900172260386396]<input type='checkbox' class='ee-toggle'></label><ul><li><span class='ee-k'>0:</span><span class='ee-v'>-70.80610158920412</span></li><li><span class='ee-k'>1:</span><span class='ee-v'>-13.900172260386396</span></li></ul></li><li><label class='ee-shut'>1050: [-70.80609948677804, -13.899901133813819]<input type='checkbox' class='ee-toggle'></label><ul><li><span class='ee-k'>0:</span><span class='ee-v'>-70.80609948677804</span></li><li><span class='ee-k'>1:</span><span class='ee-v'>-13.899901133813819</span></li></ul></li><li><label class='ee-shut'>1051: [-70.8058219437999, -13.899903187452388]<input type='checkbox' class='ee-toggle'></label><ul><li><span class='ee-k'>0:</span><span class='ee-v'>-70.8058219437999</span></li><li><span class='ee-k'>1:</span><span class='ee-v'>-13.899903187452388</span></li></ul></li><li><label class='ee-shut'>1052: [-70.80581984174214, -13.899632060834895]<input type='checkbox' class='ee-toggle'></label><ul><li><span class='ee-k'>0:</span><span class='ee-v'>-70.80581984174214</span></li><li><span class='ee-k'>1:</span><span class='ee-v'>-13.899632060834895</span></li></ul></li><li><label class='ee-shut'>1053: [-70.80609738439688, -13.899630007232256]<input type='checkbox' class='ee-toggle'></label><ul><li><span class='ee-k'>0:</span><span class='ee-v'>-70.80609738439688</span></li><li><span class='ee-k'>1:</span><span class='ee-v'>-13.899630007232256</span></li></ul></li><li><label class='ee-shut'>1054: [-70.80609528205166, -13.899358880650693]<input type='checkbox' class='ee-toggle'></label><ul><li><span class='ee-k'>0:</span><span class='ee-v'>-70.80609528205166</span></li><li><span class='ee-k'>1:</span><span class='ee-v'>-13.899358880650693</span></li></ul></li><li><label class='ee-shut'>1055: [-70.8063728243381, -13.899356826769578]<input type='checkbox' class='ee-toggle'></label><ul><li><span class='ee-k'>0:</span><span class='ee-v'>-70.8063728243381</span></li><li><span class='ee-k'>1:</span><span class='ee-v'>-13.899356826769578</span></li></ul></li><li><label class='ee-shut'>1056: [-70.80636861915357, -13.898814573669336]<input type='checkbox' class='ee-toggle'></label><ul><li><span class='ee-k'>0:</span><span class='ee-v'>-70.80636861915357</span></li><li><span class='ee-k'>1:</span><span class='ee-v'>-13.898814573669336</span></li></ul></li><li><label class='ee-shut'>1057: [-70.80692370229814, -13.898810465134552]<input type='checkbox' class='ee-toggle'></label><ul><li><span class='ee-k'>0:</span><span class='ee-v'>-70.80692370229814</span></li><li><span class='ee-k'>1:</span><span class='ee-v'>-13.898810465134552</span></li></ul></li><li><label class='ee-shut'>1058: [-70.80692159912645, -13.898539338660788]<input type='checkbox' class='ee-toggle'></label><ul><li><span class='ee-k'>0:</span><span class='ee-v'>-70.80692159912645</span></li><li><span class='ee-k'>1:</span><span class='ee-v'>-13.898539338660788</span></li></ul></li><li><label class='ee-shut'>1059: [-70.80719914030796, -13.898537283962206]<input type='checkbox' class='ee-toggle'></label><ul><li><span class='ee-k'>0:</span><span class='ee-v'>-70.80719914030796</span></li><li><span class='ee-k'>1:</span><span class='ee-v'>-13.898537283962206</span></li></ul></li><li><label class='ee-shut'>1060: [-70.80719493346156, -13.897995031068575]<input type='checkbox' class='ee-toggle'></label><ul><li><span class='ee-k'>0:</span><span class='ee-v'>-70.80719493346156</span></li><li><span class='ee-k'>1:</span><span class='ee-v'>-13.897995031068575</span></li></ul></li><li><label class='ee-shut'>1061: [-70.80636231171366, -13.898001193960582]<input type='checkbox' class='ee-toggle'></label><ul><li><span class='ee-k'>0:</span><span class='ee-v'>-70.80636231171366</span></li><li><span class='ee-k'>1:</span><span class='ee-v'>-13.898001193960582</span></li></ul></li><li><label class='ee-shut'>1062: [-70.80635810697828, -13.897458940788475]<input type='checkbox' class='ee-toggle'></label><ul><li><span class='ee-k'>0:</span><span class='ee-v'>-70.80635810697828</span></li><li><span class='ee-k'>1:</span><span class='ee-v'>-13.897458940788475</span></li></ul></li><li><label class='ee-shut'>1063: [-70.805803026888, -13.89746304764341]<input type='checkbox' class='ee-toggle'></label><ul><li><span class='ee-k'>0:</span><span class='ee-v'>-70.805803026888</span></li><li><span class='ee-k'>1:</span><span class='ee-v'>-13.89746304764341</span></li></ul></li><li><label class='ee-shut'>1064: [-70.80580512858644, -13.897734174314802]<input type='checkbox' class='ee-toggle'></label><ul><li><span class='ee-k'>0:</span><span class='ee-v'>-70.80580512858644</span></li><li><span class='ee-k'>1:</span><span class='ee-v'>-13.897734174314802</span></li></ul></li><li><label class='ee-shut'>1065: [-70.80552758814154, -13.897736227306586]<input type='checkbox' class='ee-toggle'></label><ul><li><span class='ee-k'>0:</span><span class='ee-v'>-70.80552758814154</span></li><li><span class='ee-k'>1:</span><span class='ee-v'>-13.897736227306586</span></li></ul></li><li><label class='ee-shut'>1066: [-70.80552968957049, -13.898007354013913]<input type='checkbox' class='ee-toggle'></label><ul><li><span class='ee-k'>0:</span><span class='ee-v'>-70.80552968957049</span></li><li><span class='ee-k'>1:</span><span class='ee-v'>-13.898007354013913</span></li></ul></li><li><label class='ee-shut'>1067: [-70.80525214875729, -13.898009406736202]<input type='checkbox' class='ee-toggle'></label><ul><li><span class='ee-k'>0:</span><span class='ee-v'>-70.80525214875729</span></li><li><span class='ee-k'>1:</span><span class='ee-v'>-13.898009406736202</span></li></ul></li><li><label class='ee-shut'>1068: [-70.80525004766072, -13.89773827998396]<input type='checkbox' class='ee-toggle'></label><ul><li><span class='ee-k'>0:</span><span class='ee-v'>-70.80525004766072</span></li><li><span class='ee-k'>1:</span><span class='ee-v'>-13.89773827998396</span></li></ul></li><li><label class='ee-shut'>1069: [-70.80497250713498, -13.897740332355907]<input type='checkbox' class='ee-toggle'></label><ul><li><span class='ee-k'>0:</span><span class='ee-v'>-70.80497250713498</span></li><li><span class='ee-k'>1:</span><span class='ee-v'>-13.897740332355907</span></li></ul></li><li><label class='ee-shut'>1070: [-70.8049683057144, -13.89719807875261]<input type='checkbox' class='ee-toggle'></label><ul><li><span class='ee-k'>0:</span><span class='ee-v'>-70.8049683057144</span></li><li><span class='ee-k'>1:</span><span class='ee-v'>-13.89719807875261</span></li></ul></li><li><label class='ee-shut'>1071: [-70.80413568579007, -13.897204233703508]<input type='checkbox' class='ee-toggle'></label><ul><li><span class='ee-k'>0:</span><span class='ee-v'>-70.80413568579007</span></li><li><span class='ee-k'>1:</span><span class='ee-v'>-13.897204233703508</span></li></ul></li><li><label class='ee-shut'>1072: [-70.80413778551222, -13.897475360635413]<input type='checkbox' class='ee-toggle'></label><ul><li><span class='ee-k'>0:</span><span class='ee-v'>-70.80413778551222</span></li><li><span class='ee-k'>1:</span><span class='ee-v'>-13.897475360635413</span></li></ul></li><li><label class='ee-shut'>1073: [-70.80386024512123, -13.897477411695819]<input type='checkbox' class='ee-toggle'></label><ul><li><span class='ee-k'>0:</span><span class='ee-v'>-70.80386024512123</span></li><li><span class='ee-k'>1:</span><span class='ee-v'>-13.897477411695819</span></li></ul></li><li><label class='ee-shut'>1074: [-70.80386654358698, -13.8982907925634]<input type='checkbox' class='ee-toggle'></label><ul><li><span class='ee-k'>0:</span><span class='ee-v'>-70.80386654358698</span></li><li><span class='ee-k'>1:</span><span class='ee-v'>-13.8982907925634</span></li></ul></li><li><label class='ee-shut'>1075: [-70.80358900218089, -13.89829284343516]<input type='checkbox' class='ee-toggle'></label><ul><li><span class='ee-k'>0:</span><span class='ee-v'>-70.80358900218089</span></li><li><span class='ee-k'>1:</span><span class='ee-v'>-13.89829284343516</span></li></ul></li><li><label class='ee-shut'>1076: [-70.80358690297078, -13.898021716449355]<input type='checkbox' class='ee-toggle'></label><ul><li><span class='ee-k'>0:</span><span class='ee-v'>-70.80358690297078</span></li><li><span class='ee-k'>1:</span><span class='ee-v'>-13.898021716449355</span></li></ul></li><li><label class='ee-shut'>1077: [-70.8030318206886, -13.898025817159812]<input type='checkbox' class='ee-toggle'></label><ul><li><span class='ee-k'>0:</span><span class='ee-v'>-70.8030318206886</span></li><li><span class='ee-k'>1:</span><span class='ee-v'>-13.898025817159812</span></li></ul></li><li><label class='ee-shut'>1078: [-70.80302972217021, -13.897754690084177]<input type='checkbox' class='ee-toggle'></label><ul><li><span class='ee-k'>0:</span><span class='ee-v'>-70.80302972217021</span></li><li><span class='ee-k'>1:</span><span class='ee-v'>-13.897754690084177</span></li></ul></li><li><label class='ee-shut'>1079: [-70.80275218127615, -13.897756739922874]<input type='checkbox' class='ee-toggle'></label><ul><li><span class='ee-k'>0:</span><span class='ee-v'>-70.80275218127615</span></li><li><span class='ee-k'>1:</span><span class='ee-v'>-13.897756739922874</span></li></ul></li><li><label class='ee-shut'>1080: [-70.80274798502089, -13.897214485663806]<input type='checkbox' class='ee-toggle'></label><ul><li><span class='ee-k'>0:</span><span class='ee-v'>-70.80274798502089</span></li><li><span class='ee-k'>1:</span><span class='ee-v'>-13.897214485663806</span></li></ul></li><li><label class='ee-shut'>1081: [-70.80247044473768, -13.897216535107244]<input type='checkbox' class='ee-toggle'></label><ul><li><span class='ee-k'>0:</span><span class='ee-v'>-70.80247044473768</span></li><li><span class='ee-k'>1:</span><span class='ee-v'>-13.897216535107244</span></li></ul></li><li><label class='ee-shut'>1082: [-70.80246624929988, -13.896674280731395]<input type='checkbox' class='ee-toggle'></label><ul><li><span class='ee-k'>0:</span><span class='ee-v'>-70.80246624929988</span></li><li><span class='ee-k'>1:</span><span class='ee-v'>-13.896674280731395</span></li></ul></li><li><label class='ee-shut'>1083: [-70.80218870960957, -13.896676329779575]<input type='checkbox' class='ee-toggle'></label><ul><li><span class='ee-k'>0:</span><span class='ee-v'>-70.80218870960957</span></li><li><span class='ee-k'>1:</span><span class='ee-v'>-13.896676329779575</span></li></ul></li><li><label class='ee-shut'>1084: [-70.80218661228594, -13.896405202542242]<input type='checkbox' class='ee-toggle'></label><ul><li><span class='ee-k'>0:</span><span class='ee-v'>-70.80218661228594</span></li><li><span class='ee-k'>1:</span><span class='ee-v'>-13.896405202542242</span></li></ul></li><li><label class='ee-shut'>1085: [-70.8019090728741, -13.896407251231096]<input type='checkbox' class='ee-toggle'></label><ul><li><span class='ee-k'>0:</span><span class='ee-v'>-70.8019090728741</span></li><li><span class='ee-k'>1:</span><span class='ee-v'>-13.896407251231096</span></li></ul></li><li><label class='ee-shut'>1086: [-70.80190068531327, -13.89532274205719]<input type='checkbox' class='ee-toggle'></label><ul><li><span class='ee-k'>0:</span><span class='ee-v'>-70.80190068531327</span></li><li><span class='ee-k'>1:</span><span class='ee-v'>-13.89532274205719</span></li></ul></li><li><label class='ee-shut'>1087: [-70.80106807068003, -13.895328885743215]<input type='checkbox' class='ee-toggle'></label><ul><li><span class='ee-k'>0:</span><span class='ee-v'>-70.80106807068003</span></li><li><span class='ee-k'>1:</span><span class='ee-v'>-13.895328885743215</span></li></ul></li><li><label class='ee-shut'>1088: [-70.8010450192361, -13.89234648361728]<input type='checkbox' class='ee-toggle'></label><ul><li><span class='ee-k'>0:</span><span class='ee-v'>-70.8010450192361</span></li><li><span class='ee-k'>1:</span><span class='ee-v'>-13.89234648361728</span></li></ul></li><li><label class='ee-shut'>1089: [-70.80076748448653, -13.892348530419671]<input type='checkbox' class='ee-toggle'></label><ul><li><span class='ee-k'>0:</span><span class='ee-v'>-70.80076748448653</span></li><li><span class='ee-k'>1:</span><span class='ee-v'>-13.892348530419671</span></li></ul></li><li><label class='ee-shut'>1090: [-70.80076538948953, -13.892077402876911]<input type='checkbox' class='ee-toggle'></label><ul><li><span class='ee-k'>0:</span><span class='ee-v'>-70.80076538948953</span></li><li><span class='ee-k'>1:</span><span class='ee-v'>-13.892077402876911</span></li></ul></li><li><label class='ee-shut'>1091: [-70.80048785501843, -13.89207944932896]<input type='checkbox' class='ee-toggle'></label><ul><li><span class='ee-k'>0:</span><span class='ee-v'>-70.80048785501843</span></li><li><span class='ee-k'>1:</span><span class='ee-v'>-13.89207944932896</span></li></ul></li><li><label class='ee-shut'>1092: [-70.80049204440158, -13.892621704495328]<input type='checkbox' class='ee-toggle'></label><ul><li><span class='ee-k'>0:</span><span class='ee-v'>-70.80049204440158</span></li><li><span class='ee-k'>1:</span><span class='ee-v'>-13.892621704495328</span></li></ul></li><li><label class='ee-shut'>1093: [-70.80021450923878, -13.892623750713813]<input type='checkbox' class='ee-toggle'></label><ul><li><span class='ee-k'>0:</span><span class='ee-v'>-70.80021450923878</span></li><li><span class='ee-k'>1:</span><span class='ee-v'>-13.892623750713813</span></li></ul></li><li><label class='ee-shut'>1094: [-70.80021869815482, -13.893166005943064]<input type='checkbox' class='ee-toggle'></label><ul><li><span class='ee-k'>0:</span><span class='ee-v'>-70.80021869815482</span></li><li><span class='ee-k'>1:</span><span class='ee-v'>-13.893166005943064</span></li></ul></li><li><label class='ee-shut'>1095: [-70.79994116230031, -13.893168051927988]<input type='checkbox' class='ee-toggle'></label><ul><li><span class='ee-k'>0:</span><span class='ee-v'>-70.79994116230031</span></li><li><span class='ee-k'>1:</span><span class='ee-v'>-13.893168051927988</span></li></ul></li><li><label class='ee-shut'>1096: [-70.79994325650681, -13.893439179569562]<input type='checkbox' class='ee-toggle'></label><ul><li><span class='ee-k'>0:</span><span class='ee-v'>-70.79994325650681</span></li><li><span class='ee-k'>1:</span><span class='ee-v'>-13.893439179569562</span></li></ul></li><li><label class='ee-shut'>1097: [-70.799665720284, -13.893441225284992]<input type='checkbox' class='ee-toggle'></label><ul><li><span class='ee-k'>0:</span><span class='ee-v'>-70.799665720284</span></li><li><span class='ee-k'>1:</span><span class='ee-v'>-13.893441225284992</span></li></ul></li><li><label class='ee-shut'>1098: [-70.79966781421201, -13.893712352962499]<input type='checkbox' class='ee-toggle'></label><ul><li><span class='ee-k'>0:</span><span class='ee-v'>-70.79966781421201</span></li><li><span class='ee-k'>1:</span><span class='ee-v'>-13.893712352962499</span></li></ul></li><li><label class='ee-shut'>1099: [-70.79939027762089, -13.893714398399451]<input type='checkbox' class='ee-toggle'></label><ul><li><span class='ee-k'>0:</span><span class='ee-v'>-70.79939027762089</span></li><li><span class='ee-k'>1:</span><span class='ee-v'>-13.893714398399451</span></li></ul></li><li><label class='ee-shut'>1100: [-70.79939237127043, -13.893985526121874]<input type='checkbox' class='ee-toggle'></label><ul><li><span class='ee-k'>0:</span><span class='ee-v'>-70.79939237127043</span></li><li><span class='ee-k'>1:</span><span class='ee-v'>-13.893985526121874</span></li></ul></li><li><label class='ee-shut'>1101: [-70.799114834311, -13.893987571280348]<input type='checkbox' class='ee-toggle'></label><ul><li><span class='ee-k'>0:</span><span class='ee-v'>-70.799114834311</span></li><li><span class='ee-k'>1:</span><span class='ee-v'>-13.893987571280348</span></li></ul></li><li><label class='ee-shut'>1102: [-70.79911274098485, -13.893716443530977]<input type='checkbox' class='ee-toggle'></label><ul><li><span class='ee-k'>0:</span><span class='ee-v'>-70.79911274098485</span></li><li><span class='ee-k'>1:</span><span class='ee-v'>-13.893716443530977</span></li></ul></li><li><label class='ee-shut'>1103: [-70.7988352043039, -13.893718488339108]<input type='checkbox' class='ee-toggle'></label><ul><li><span class='ee-k'>0:</span><span class='ee-v'>-70.7988352043039</span></li><li><span class='ee-k'>1:</span><span class='ee-v'>-13.893718488339108</span></li></ul></li><li><label class='ee-shut'>1104: [-70.79883729731563, -13.893989616133396]<input type='checkbox' class='ee-toggle'></label><ul><li><span class='ee-k'>0:</span><span class='ee-v'>-70.79883729731563</span></li><li><span class='ee-k'>1:</span><span class='ee-v'>-13.893989616133396</span></li></ul></li><li><label class='ee-shut'>1105: [-70.7982822231722, -13.893993704887277]<input type='checkbox' class='ee-toggle'></label><ul><li><span class='ee-k'>0:</span><span class='ee-v'>-70.7982822231722</span></li><li><span class='ee-k'>1:</span><span class='ee-v'>-13.893993704887277</span></li></ul></li><li><label class='ee-shut'>1106: [-70.79828013080724, -13.893722577012142]<input type='checkbox' class='ee-toggle'></label><ul><li><span class='ee-k'>0:</span><span class='ee-v'>-70.79828013080724</span></li><li><span class='ee-k'>1:</span><span class='ee-v'>-13.893722577012142</span></li></ul></li><li><label class='ee-shut'>1107: [-70.79772505713093, -13.893726664427533]<input type='checkbox' class='ee-toggle'></label><ul><li><span class='ee-k'>0:</span><span class='ee-v'>-70.79772505713093</span></li><li><span class='ee-k'>1:</span><span class='ee-v'>-13.893726664427533</span></li></ul></li><li><label class='ee-shut'>1108: [-70.79772087383836, -13.89318440847963]<input type='checkbox' class='ee-toggle'></label><ul><li><span class='ee-k'>0:</span><span class='ee-v'>-70.79772087383836</span></li><li><span class='ee-k'>1:</span><span class='ee-v'>-13.89318440847963</span></li></ul></li><li><label class='ee-shut'>1109: [-70.79716580127595, -13.8931884944667]<input type='checkbox' class='ee-toggle'></label><ul><li><span class='ee-k'>0:</span><span class='ee-v'>-70.79716580127595</span></li><li><span class='ee-k'>1:</span><span class='ee-v'>-13.8931884944667</span></li></ul></li><li><label class='ee-shut'>1110: [-70.79716371033933, -13.892917366402918]<input type='checkbox' class='ee-toggle'></label><ul><li><span class='ee-k'>0:</span><span class='ee-v'>-70.79716371033933</span></li><li><span class='ee-k'>1:</span><span class='ee-v'>-13.892917366402918</span></li></ul></li><li><label class='ee-shut'>1111: [-70.79688617431415, -13.89291940887543]<input type='checkbox' class='ee-toggle'></label><ul><li><span class='ee-k'>0:</span><span class='ee-v'>-70.79688617431415</span></li><li><span class='ee-k'>1:</span><span class='ee-v'>-13.89291940887543</span></li></ul></li><li><label class='ee-shut'>1112: [-70.79688408373686, -13.892648280766732]<input type='checkbox' class='ee-toggle'></label><ul><li><span class='ee-k'>0:</span><span class='ee-v'>-70.79688408373686</span></li><li><span class='ee-k'>1:</span><span class='ee-v'>-13.892648280766732</span></li></ul></li><li><label class='ee-shut'>1113: [-70.79632901219853, -13.89265236469666]<input type='checkbox' class='ee-toggle'></label><ul><li><span class='ee-k'>0:</span><span class='ee-v'>-70.79632901219853</span></li><li><span class='ee-k'>1:</span><span class='ee-v'>-13.89265236469666</span></li></ul></li><li><label class='ee-shut'>1114: [-70.79632692232192, -13.89238123649813]<input type='checkbox' class='ee-toggle'></label><ul><li><span class='ee-k'>0:</span><span class='ee-v'>-70.79632692232192</span></li><li><span class='ee-k'>1:</span><span class='ee-v'>-13.89238123649813</span></li></ul></li><li><label class='ee-shut'>1115: [-70.7960493867998, -13.892383277946562]<input type='checkbox' class='ee-toggle'></label><ul><li><span class='ee-k'>0:</span><span class='ee-v'>-70.7960493867998</span></li><li><span class='ee-k'>1:</span><span class='ee-v'>-13.892383277946562</span></li></ul></li><li><label class='ee-shut'>1116: [-70.79604311840066, -13.891569893180295]<input type='checkbox' class='ee-toggle'></label><ul><li><span class='ee-k'>0:</span><span class='ee-v'>-70.79604311840066</span></li><li><span class='ee-k'>1:</span><span class='ee-v'>-13.891569893180295</span></li></ul></li><li><label class='ee-shut'>1117: [-70.7957655838038, -13.891571934188553]<input type='checkbox' class='ee-toggle'></label><ul><li><span class='ee-k'>0:</span><span class='ee-v'>-70.7957655838038</span></li><li><span class='ee-k'>1:</span><span class='ee-v'>-13.891571934188553</span></li></ul></li><li><label class='ee-shut'>1118: [-70.79576349475364, -13.891300805882226]<input type='checkbox' class='ee-toggle'></label><ul><li><span class='ee-k'>0:</span><span class='ee-v'>-70.79576349475364</span></li><li><span class='ee-k'>1:</span><span class='ee-v'>-13.891300805882226</span></li></ul></li><li><label class='ee-shut'>1119: [-70.79631856324667, -13.891296723623164]<input type='checkbox' class='ee-toggle'></label><ul><li><span class='ee-k'>0:</span><span class='ee-v'>-70.79631856324667</span></li><li><span class='ee-k'>1:</span><span class='ee-v'>-13.891296723623164</span></li></ul></li><li><label class='ee-shut'>1120: [-70.79631438398752, -13.89075446715424]<input type='checkbox' class='ee-toggle'></label><ul><li><span class='ee-k'>0:</span><span class='ee-v'>-70.79631438398752</span></li><li><span class='ee-k'>1:</span><span class='ee-v'>-13.89075446715424</span></li></ul></li><li><label class='ee-shut'>1121: [-70.79603685040577, -13.890756508351144]<input type='checkbox' class='ee-toggle'></label><ul><li><span class='ee-k'>0:</span><span class='ee-v'>-70.79603685040577</span></li><li><span class='ee-k'>1:</span><span class='ee-v'>-13.890756508351144</span></li></ul></li><li><label class='ee-shut'>1122: [-70.7960305828151, -13.889943123468095]<input type='checkbox' class='ee-toggle'></label><ul><li><span class='ee-k'>0:</span><span class='ee-v'>-70.7960305828151</span></li><li><span class='ee-k'>1:</span><span class='ee-v'>-13.889943123468095</span></li></ul></li><li><label class='ee-shut'>1123: [-70.7968631805241, -13.889936999293477]<input type='checkbox' class='ee-toggle'></label><ul><li><span class='ee-k'>0:</span><span class='ee-v'>-70.7968631805241</span></li><li><span class='ee-k'>1:</span><span class='ee-v'>-13.889936999293477</span></li></ul></li><li><label class='ee-shut'>1124: [-70.79686109044985, -13.889665871103931]<input type='checkbox' class='ee-toggle'></label><ul><li><span class='ee-k'>0:</span><span class='ee-v'>-70.79686109044985</span></li><li><span class='ee-k'>1:</span><span class='ee-v'>-13.889665871103931</span></li></ul></li><li><label class='ee-shut'>1125: [-70.7974161547208, -13.88966178682366]<input type='checkbox' class='ee-toggle'></label><ul><li><span class='ee-k'>0:</span><span class='ee-v'>-70.7974161547208</span></li><li><span class='ee-k'>1:</span><span class='ee-v'>-13.88966178682366</span></li></ul></li><li><label class='ee-shut'>1126: [-70.79740779228587, -13.88857727436192]<input type='checkbox' class='ee-toggle'></label><ul><li><span class='ee-k'>0:</span><span class='ee-v'>-70.79740779228587</span></li><li><span class='ee-k'>1:</span><span class='ee-v'>-13.88857727436192</span></li></ul></li><li><label class='ee-shut'>1127: [-70.79768532306488, -13.888575231916356]<input type='checkbox' class='ee-toggle'></label><ul><li><span class='ee-k'>0:</span><span class='ee-v'>-70.79768532306488</span></li><li><span class='ee-k'>1:</span><span class='ee-v'>-13.888575231916356</span></li></ul></li><li><label class='ee-shut'>1128: [-70.79768323224505, -13.888304103825625]<input type='checkbox' class='ee-toggle'></label><ul><li><span class='ee-k'>0:</span><span class='ee-v'>-70.79768323224505</span></li><li><span class='ee-k'>1:</span><span class='ee-v'>-13.888304103825625</span></li></ul></li><li><label class='ee-shut'>1129: [-70.79796076265575, -13.888302061110567]<input type='checkbox' class='ee-toggle'></label><ul><li><span class='ee-k'>0:</span><span class='ee-v'>-70.79796076265575</span></li><li><span class='ee-k'>1:</span><span class='ee-v'>-13.888302061110567</span></li></ul></li><li><label class='ee-shut'>1130: [-70.79795658051302, -13.887759804991987]<input type='checkbox' class='ee-toggle'></label><ul><li><span class='ee-k'>0:</span><span class='ee-v'>-70.79795658051302</span></li><li><span class='ee-k'>1:</span><span class='ee-v'>-13.887759804991987</span></li></ul></li><li><label class='ee-shut'>1131: [-70.7985116399151, -13.887755718771354]<input type='checkbox' class='ee-toggle'></label><ul><li><span class='ee-k'>0:</span><span class='ee-v'>-70.7985116399151</span></li><li><span class='ee-k'>1:</span><span class='ee-v'>-13.887755718771354</span></li></ul></li><li><label class='ee-shut'>1132: [-70.79851791513245, -13.888569102684222]<input type='checkbox' class='ee-toggle'></label><ul><li><span class='ee-k'>0:</span><span class='ee-v'>-70.79851791513245</span></li><li><span class='ee-k'>1:</span><span class='ee-v'>-13.888569102684222</span></li></ul></li><li><label class='ee-shut'>1133: [-70.79879544573181, -13.88856705898102]<input type='checkbox' class='ee-toggle'></label><ul><li><span class='ee-k'>0:</span><span class='ee-v'>-70.79879544573181</span></li><li><span class='ee-k'>1:</span><span class='ee-v'>-13.88856705898102</span></li></ul></li><li><label class='ee-shut'>1134: [-70.79879753788116, -13.88883818690107]<input type='checkbox' class='ee-toggle'></label><ul><li><span class='ee-k'>0:</span><span class='ee-v'>-70.79879753788116</span></li><li><span class='ee-k'>1:</span><span class='ee-v'>-13.88883818690107</span></li></ul></li><li><label class='ee-shut'>1135: [-70.799075068759, -13.88883614283854]<input type='checkbox' class='ee-toggle'></label><ul><li><span class='ee-k'>0:</span><span class='ee-v'>-70.799075068759</span></li><li><span class='ee-k'>1:</span><span class='ee-v'>-13.88883614283854</span></li></ul></li><li><label class='ee-shut'>1136: [-70.79907716127664, -13.889107270704693]<input type='checkbox' class='ee-toggle'></label><ul><li><span class='ee-k'>0:</span><span class='ee-v'>-70.79907716127664</span></li><li><span class='ee-k'>1:</span><span class='ee-v'>-13.889107270704693</span></li></ul></li><li><label class='ee-shut'>1137: [-70.79963222354435, -13.88910318154657]<input type='checkbox' class='ee-toggle'></label><ul><li><span class='ee-k'>0:</span><span class='ee-v'>-70.79963222354435</span></li><li><span class='ee-k'>1:</span><span class='ee-v'>-13.88910318154657</span></li></ul></li><li><label class='ee-shut'>1138: [-70.79962385115607, -13.888018670360438]<input type='checkbox' class='ee-toggle'></label><ul><li><span class='ee-k'>0:</span><span class='ee-v'>-70.79962385115607</span></li><li><span class='ee-k'>1:</span><span class='ee-v'>-13.888018670360438</span></li></ul></li><li><label class='ee-shut'>1139: [-70.79934632133825, -13.888020714935006]<input type='checkbox' class='ee-toggle'></label><ul><li><span class='ee-k'>0:</span><span class='ee-v'>-70.79934632133825</span></li><li><span class='ee-k'>1:</span><span class='ee-v'>-13.888020714935006</span></li></ul></li><li><label class='ee-shut'>1140: [-70.79934422867687, -13.887749587077838]<input type='checkbox' class='ee-toggle'></label><ul><li><span class='ee-k'>0:</span><span class='ee-v'>-70.79934422867687</span></li><li><span class='ee-k'>1:</span><span class='ee-v'>-13.887749587077838</span></li></ul></li><li><label class='ee-shut'>1141: [-70.7998992876208, -13.887745497713102]<input type='checkbox' class='ee-toggle'></label><ul><li><span class='ee-k'>0:</span><span class='ee-v'>-70.7998992876208</span></li><li><span class='ee-k'>1:</span><span class='ee-v'>-13.887745497713102</span></li></ul></li><li><label class='ee-shut'>1142: [-70.79990138092899, -13.888016625480441]<input type='checkbox' class='ee-toggle'></label><ul><li><span class='ee-k'>0:</span><span class='ee-v'>-70.79990138092899</span></li><li><span class='ee-k'>1:</span><span class='ee-v'>-13.888016625480441</span></li></ul></li><li><label class='ee-shut'>1143: [-70.80184408809966, -13.88800230248104]<input type='checkbox' class='ee-toggle'></label><ul><li><span class='ee-k'>0:</span><span class='ee-v'>-70.80184408809966</span></li><li><span class='ee-k'>1:</span><span class='ee-v'>-13.88800230248104</span></li></ul></li><li><label class='ee-shut'>1144: [-70.80184618370753, -13.888273429951933]<input type='checkbox' class='ee-toggle'></label><ul><li><span class='ee-k'>0:</span><span class='ee-v'>-70.80184618370753</span></li><li><span class='ee-k'>1:</span><span class='ee-v'>-13.888273429951933</span></li></ul></li><li><label class='ee-shut'>1145: [-70.80240124313656, -13.888269334748149]<input type='checkbox' class='ee-toggle'></label><ul><li><span class='ee-k'>0:</span><span class='ee-v'>-70.80240124313656</span></li><li><span class='ee-k'>1:</span><span class='ee-v'>-13.888269334748149</span></li></ul></li><li><label class='ee-shut'>1146: [-70.80240333943611, -13.88854046212921]<input type='checkbox' class='ee-toggle'></label><ul><li><span class='ee-k'>0:</span><span class='ee-v'>-70.80240333943611</span></li><li><span class='ee-k'>1:</span><span class='ee-v'>-13.88854046212921</span></li></ul></li><li><label class='ee-shut'>1147: [-70.80212580942066, -13.888542509928733]<input type='checkbox' class='ee-toggle'></label><ul><li><span class='ee-k'>0:</span><span class='ee-v'>-70.80212580942066</span></li><li><span class='ee-k'>1:</span><span class='ee-v'>-13.888542509928733</span></li></ul></li><li><label class='ee-shut'>1148: [-70.80212790544175, -13.88881363735471]<input type='checkbox' class='ee-toggle'></label><ul><li><span class='ee-k'>0:</span><span class='ee-v'>-70.80212790544175</span></li><li><span class='ee-k'>1:</span><span class='ee-v'>-13.88881363735471</span></li></ul></li><li><label class='ee-shut'>1149: [-70.801850375058, -13.888815684884738]<input type='checkbox' class='ee-toggle'></label><ul><li><span class='ee-k'>0:</span><span class='ee-v'>-70.801850375058</span></li><li><span class='ee-k'>1:</span><span class='ee-v'>-13.888815684884738</span></li></ul></li><li><label class='ee-shut'>1150: [-70.8018482793603, -13.888544557422827]<input type='checkbox' class='ee-toggle'></label><ul><li><span class='ee-k'>0:</span><span class='ee-v'>-70.8018482793603</span></li><li><span class='ee-k'>1:</span><span class='ee-v'>-13.888544557422827</span></li></ul></li><li><label class='ee-shut'>1151: [-70.801570749255, -13.888546604593529]<input type='checkbox' class='ee-toggle'></label><ul><li><span class='ee-k'>0:</span><span class='ee-v'>-70.801570749255</span></li><li><span class='ee-k'>1:</span><span class='ee-v'>-13.888546604593529</span></li></ul></li><li><label class='ee-shut'>1152: [-70.8015728446293, -13.888817732091372]<input type='checkbox' class='ee-toggle'></label><ul><li><span class='ee-k'>0:</span><span class='ee-v'>-70.8015728446293</span></li><li><span class='ee-k'>1:</span><span class='ee-v'>-13.888817732091372</span></li></ul></li><li><label class='ee-shut'>1153: [-70.80129531415572, -13.888819778992579]<input type='checkbox' class='ee-toggle'></label><ul><li><span class='ee-k'>0:</span><span class='ee-v'>-70.80129531415572</span></li><li><span class='ee-k'>1:</span><span class='ee-v'>-13.888819778992579</span></li></ul></li><li><label class='ee-shut'>1154: [-70.80129740926053, -13.889090906526354]<input type='checkbox' class='ee-toggle'></label><ul><li><span class='ee-k'>0:</span><span class='ee-v'>-70.80129740926053</span></li><li><span class='ee-k'>1:</span><span class='ee-v'>-13.889090906526354</span></li></ul></li><li><label class='ee-shut'>1155: [-70.8018524708006, -13.889086812337666]<input type='checkbox' class='ee-toggle'></label><ul><li><span class='ee-k'>0:</span><span class='ee-v'>-70.8018524708006</span></li><li><span class='ee-k'>1:</span><span class='ee-v'>-13.889086812337666</span></li></ul></li><li><label class='ee-shut'>1156: [-70.80185456658812, -13.889357939781611]<input type='checkbox' class='ee-toggle'></label><ul><li><span class='ee-k'>0:</span><span class='ee-v'>-70.80185456658812</span></li><li><span class='ee-k'>1:</span><span class='ee-v'>-13.889357939781611</span></li></ul></li><li><label class='ee-shut'>1157: [-70.80129950440126, -13.889362034060131]<input type='checkbox' class='ee-toggle'></label><ul><li><span class='ee-k'>0:</span><span class='ee-v'>-70.80129950440126</span></li><li><span class='ee-k'>1:</span><span class='ee-v'>-13.889362034060131</span></li></ul></li><li><label class='ee-shut'>1158: [-70.80130369482647, -13.889904289109717]<input type='checkbox' class='ee-toggle'></label><ul><li><span class='ee-k'>0:</span><span class='ee-v'>-70.80130369482647</span></li><li><span class='ee-k'>1:</span><span class='ee-v'>-13.889904289109717</span></li></ul></li><li><label class='ee-shut'>1159: [-70.80102616301438, -13.889906335858209]<input type='checkbox' class='ee-toggle'></label><ul><li><span class='ee-k'>0:</span><span class='ee-v'>-70.80102616301438</span></li><li><span class='ee-k'>1:</span><span class='ee-v'>-13.889906335858209</span></li></ul></li><li><label class='ee-shut'>1160: [-70.80102825797546, -13.890177463409952]<input type='checkbox' class='ee-toggle'></label><ul><li><span class='ee-k'>0:</span><span class='ee-v'>-70.80102825797546</span></li><li><span class='ee-k'>1:</span><span class='ee-v'>-13.890177463409952</span></li></ul></li><li><label class='ee-shut'>1161: [-70.80130579010195, -13.890175416616543]<input type='checkbox' class='ee-toggle'></label><ul><li><span class='ee-k'>0:</span><span class='ee-v'>-70.80130579010195</span></li><li><span class='ee-k'>1:</span><span class='ee-v'>-13.890175416616543</span></li></ul></li><li><label class='ee-shut'>1162: [-70.80130788542235, -13.89044654412337]<input type='checkbox' class='ee-toggle'></label><ul><li><span class='ee-k'>0:</span><span class='ee-v'>-70.80130788542235</span></li><li><span class='ee-k'>1:</span><span class='ee-v'>-13.89044654412337</span></li></ul></li><li><label class='ee-shut'>1163: [-70.80158541782733, -13.890444496979619]<input type='checkbox' class='ee-toggle'></label><ul><li><span class='ee-k'>0:</span><span class='ee-v'>-70.80158541782733</span></li><li><span class='ee-k'>1:</span><span class='ee-v'>-13.890444496979619</span></li></ul></li><li><label class='ee-shut'>1164: [-70.801587513525, -13.890715624432547]<input type='checkbox' class='ee-toggle'></label><ul><li><span class='ee-k'>0:</span><span class='ee-v'>-70.801587513525</span></li><li><span class='ee-k'>1:</span><span class='ee-v'>-13.890715624432547</span></li></ul></li><li><label class='ee-shut'>1165: [-70.802142578847, -13.89071152911198]<input type='checkbox' class='ee-toggle'></label><ul><li><span class='ee-k'>0:</span><span class='ee-v'>-70.802142578847</span></li><li><span class='ee-k'>1:</span><span class='ee-v'>-13.89071152911198</span></li></ul></li><li><label class='ee-shut'>1166: [-70.80214467522741, -13.89098265648406]<input type='checkbox' class='ee-toggle'></label><ul><li><span class='ee-k'>0:</span><span class='ee-v'>-70.80214467522741</span></li><li><span class='ee-k'>1:</span><span class='ee-v'>-13.89098265648406</span></li></ul></li><li><label class='ee-shut'>1167: [-70.80242220814442, -13.890980608307245]<input type='checkbox' class='ee-toggle'></label><ul><li><span class='ee-k'>0:</span><span class='ee-v'>-70.80242220814442</span></li><li><span class='ee-k'>1:</span><span class='ee-v'>-13.890980608307245</span></li></ul></li><li><label class='ee-shut'>1168: [-70.80242430489314, -13.891251735634409]<input type='checkbox' class='ee-toggle'></label><ul><li><span class='ee-k'>0:</span><span class='ee-v'>-70.80242430489314</span></li><li><span class='ee-k'>1:</span><span class='ee-v'>-13.891251735634409</span></li></ul></li><li><label class='ee-shut'>1169: [-70.80270183808862, -13.89124968709827]<input type='checkbox' class='ee-toggle'></label><ul><li><span class='ee-k'>0:</span><span class='ee-v'>-70.80270183808862</span></li><li><span class='ee-k'>1:</span><span class='ee-v'>-13.89124968709827</span></li></ul></li><li><label class='ee-shut'>1170: [-70.80270393519667, -13.891520814371534]<input type='checkbox' class='ee-toggle'></label><ul><li><span class='ee-k'>0:</span><span class='ee-v'>-70.80270393519667</span></li><li><span class='ee-k'>1:</span><span class='ee-v'>-13.891520814371534</span></li></ul></li><li><label class='ee-shut'>1171: [-70.80298146867064, -13.891518765485051]<input type='checkbox' class='ee-toggle'></label><ul><li><span class='ee-k'>0:</span><span class='ee-v'>-70.80298146867064</span></li><li><span class='ee-k'>1:</span><span class='ee-v'>-13.891518765485051</span></li></ul></li><li><label class='ee-shut'>1172: [-70.80298356615599, -13.8917898927134]<input type='checkbox' class='ee-toggle'></label><ul><li><span class='ee-k'>0:</span><span class='ee-v'>-70.80298356615599</span></li><li><span class='ee-k'>1:</span><span class='ee-v'>-13.8917898927134</span></li></ul></li><li><label class='ee-shut'>1173: [-70.80353863360698, -13.89178579390737]<input type='checkbox' class='ee-toggle'></label><ul><li><span class='ee-k'>0:</span><span class='ee-v'>-70.80353863360698</span></li><li><span class='ee-k'>1:</span><span class='ee-v'>-13.89178579390737</span></li></ul></li><li><label class='ee-shut'>1174: [-70.80354073178401, -13.892056921045889]<input type='checkbox' class='ee-toggle'></label><ul><li><span class='ee-k'>0:</span><span class='ee-v'>-70.80354073178401</span></li><li><span class='ee-k'>1:</span><span class='ee-v'>-13.892056921045889</span></li></ul></li><li><label class='ee-shut'>1175: [-70.80381826576104, -13.892054871126343]<input type='checkbox' class='ee-toggle'></label><ul><li><span class='ee-k'>0:</span><span class='ee-v'>-70.80381826576104</span></li><li><span class='ee-k'>1:</span><span class='ee-v'>-13.892054871126343</span></li></ul></li><li><label class='ee-shut'>1176: [-70.80382036429741, -13.892325998219944]<input type='checkbox' class='ee-toggle'></label><ul><li><span class='ee-k'>0:</span><span class='ee-v'>-70.80382036429741</span></li><li><span class='ee-k'>1:</span><span class='ee-v'>-13.892325998219944</span></li></ul></li><li><label class='ee-shut'>1177: [-70.80437543277247, -13.892321897356773]<input type='checkbox' class='ee-toggle'></label><ul><li><span class='ee-k'>0:</span><span class='ee-v'>-70.80437543277247</span></li><li><span class='ee-k'>1:</span><span class='ee-v'>-13.892321897356773</span></li></ul></li><li><label class='ee-shut'>1178: [-70.80437753200054, -13.89259302435156]<input type='checkbox' class='ee-toggle'></label><ul><li><span class='ee-k'>0:</span><span class='ee-v'>-70.80437753200054</span></li><li><span class='ee-k'>1:</span><span class='ee-v'>-13.89259302435156</span></li></ul></li><li><label class='ee-shut'>1179: [-70.8046550664986, -13.892590973407936]<input type='checkbox' class='ee-toggle'></label><ul><li><span class='ee-k'>0:</span><span class='ee-v'>-70.8046550664986</span></li><li><span class='ee-k'>1:</span><span class='ee-v'>-13.892590973407936</span></li></ul></li><li><label class='ee-shut'>1180: [-70.80465296694713, -13.89231984644908]<input type='checkbox' class='ee-toggle'></label><ul><li><span class='ee-k'>0:</span><span class='ee-v'>-70.80465296694713</span></li><li><span class='ee-k'>1:</span><span class='ee-v'>-13.89231984644908</span></li></ul></li><li><label class='ee-shut'>1181: [-70.80493050106787, -13.89231779523596]<input type='checkbox' class='ee-toggle'></label><ul><li><span class='ee-k'>0:</span><span class='ee-v'>-70.80493050106787</span></li><li><span class='ee-k'>1:</span><span class='ee-v'>-13.89231779523596</span></li></ul></li><li><label class='ee-shut'>1182: [-70.80492840123793, -13.89204666831304]<input type='checkbox' class='ee-toggle'></label><ul><li><span class='ee-k'>0:</span><span class='ee-v'>-70.80492840123793</span></li><li><span class='ee-k'>1:</span><span class='ee-v'>-13.89204666831304</span></li></ul></li><li><label class='ee-shut'>1183: [-70.80520593499038, -13.892044616821442]<input type='checkbox' class='ee-toggle'></label><ul><li><span class='ee-k'>0:</span><span class='ee-v'>-70.80520593499038</span></li><li><span class='ee-k'>1:</span><span class='ee-v'>-13.892044616821442</span></li></ul></li><li><label class='ee-shut'>1184: [-70.80520383488197, -13.891773489934453]<input type='checkbox' class='ee-toggle'></label><ul><li><span class='ee-k'>0:</span><span class='ee-v'>-70.80520383488197</span></li><li><span class='ee-k'>1:</span><span class='ee-v'>-13.891773489934453</span></li></ul></li><li><label class='ee-shut'>1185: [-70.80548136827508, -13.891771438173361]<input type='checkbox' class='ee-toggle'></label><ul><li><span class='ee-k'>0:</span><span class='ee-v'>-70.80548136827508</span></li><li><span class='ee-k'>1:</span><span class='ee-v'>-13.891771438173361</span></li></ul></li><li><label class='ee-shut'>1186: [-70.80547926788817, -13.891500311322304]<input type='checkbox' class='ee-toggle'></label><ul><li><span class='ee-k'>0:</span><span class='ee-v'>-70.80547926788817</span></li><li><span class='ee-k'>1:</span><span class='ee-v'>-13.891500311322304</span></li></ul></li><li><label class='ee-shut'>1187: [-70.80575680091299, -13.891498259282734]<input type='checkbox' class='ee-toggle'></label><ul><li><span class='ee-k'>0:</span><span class='ee-v'>-70.80575680091299</span></li><li><span class='ee-k'>1:</span><span class='ee-v'>-13.891498259282734</span></li></ul></li><li><label class='ee-shut'>1188: [-70.8057547002476, -13.89122713246761]<input type='checkbox' class='ee-toggle'></label><ul><li><span class='ee-k'>0:</span><span class='ee-v'>-70.8057547002476</span></li><li><span class='ee-k'>1:</span><span class='ee-v'>-13.89122713246761</span></li></ul></li><li><label class='ee-shut'>1189: [-70.80603223290412, -13.891225080149562]<input type='checkbox' class='ee-toggle'></label><ul><li><span class='ee-k'>0:</span><span class='ee-v'>-70.80603223290412</span></li><li><span class='ee-k'>1:</span><span class='ee-v'>-13.891225080149562</span></li></ul></li><li><label class='ee-shut'>1190: [-70.8060280310703, -13.890682826582196]<input type='checkbox' class='ee-toggle'></label><ul><li><span class='ee-k'>0:</span><span class='ee-v'>-70.8060280310703</span></li><li><span class='ee-k'>1:</span><span class='ee-v'>-13.890682826582196</span></li></ul></li><li><label class='ee-shut'>1191: [-70.80630556302611, -13.89068077403957]<input type='checkbox' class='ee-toggle'></label><ul><li><span class='ee-k'>0:</span><span class='ee-v'>-70.80630556302611</span></li><li><span class='ee-k'>1:</span><span class='ee-v'>-13.89068077403957</span></li></ul></li><li><label class='ee-shut'>1192: [-70.80630346185768, -13.890409647287328]<input type='checkbox' class='ee-toggle'></label><ul><li><span class='ee-k'>0:</span><span class='ee-v'>-70.80630346185768</span></li><li><span class='ee-k'>1:</span><span class='ee-v'>-13.890409647287328</span></li></ul></li><li><label class='ee-shut'>1193: [-70.80685852500574, -13.890405541339693]<input type='checkbox' class='ee-toggle'></label><ul><li><span class='ee-k'>0:</span><span class='ee-v'>-70.80685852500574</span></li><li><span class='ee-k'>1:</span><span class='ee-v'>-13.890405541339693</span></li></ul></li><li><label class='ee-shut'>1194: [-70.8068795452061, -13.893116807748202]<input type='checkbox' class='ee-toggle'></label><ul><li><span class='ee-k'>0:</span><span class='ee-v'>-70.8068795452061</span></li><li><span class='ee-k'>1:</span><span class='ee-v'>-13.893116807748202</span></li></ul></li><li><label class='ee-shut'>1195: [-70.80798968385405, -13.893108590400157]<input type='checkbox' class='ee-toggle'></label><ul><li><span class='ee-k'>0:</span><span class='ee-v'>-70.80798968385405</span></li><li><span class='ee-k'>1:</span><span class='ee-v'>-13.893108590400157</span></li></ul></li><li><label class='ee-shut'>1196: [-70.80798758034102, -13.892837463962325]<input type='checkbox' class='ee-toggle'></label><ul><li><span class='ee-k'>0:</span><span class='ee-v'>-70.80798758034102</span></li><li><span class='ee-k'>1:</span><span class='ee-v'>-13.892837463962325</span></li></ul></li><li><label class='ee-shut'>1197: [-70.8085426487532, -13.892833353478197]<input type='checkbox' class='ee-toggle'></label><ul><li><span class='ee-k'>0:</span><span class='ee-v'>-70.8085426487532</span></li><li><span class='ee-k'>1:</span><span class='ee-v'>-13.892833353478197</span></li></ul></li><li><label class='ee-shut'>1198: [-70.80854054463829, -13.892562227112231]<input type='checkbox' class='ee-toggle'></label><ul><li><span class='ee-k'>0:</span><span class='ee-v'>-70.80854054463829</span></li><li><span class='ee-k'>1:</span><span class='ee-v'>-13.892562227112231</span></li></ul></li><li><label class='ee-shut'>1199: [-70.80909561222403, -13.892558115460293]<input type='checkbox' class='ee-toggle'></label><ul><li><span class='ee-k'>0:</span><span class='ee-v'>-70.80909561222403</span></li><li><span class='ee-k'>1:</span><span class='ee-v'>-13.892558115460293</span></li></ul></li><li><label class='ee-shut'>1200: [-70.80909771697674, -13.892829241745412]<input type='checkbox' class='ee-toggle'></label><ul><li><span class='ee-k'>0:</span><span class='ee-v'>-70.80909771697674</span></li><li><span class='ee-k'>1:</span><span class='ee-v'>-13.892829241745412</span></li></ul></li><li><label class='ee-shut'>1201: [-70.81020785289381, -13.892821014488948]<input type='checkbox' class='ee-toggle'></label><ul><li><span class='ee-k'>0:</span><span class='ee-v'>-70.81020785289381</span></li><li><span class='ee-k'>1:</span><span class='ee-v'>-13.892821014488948</span></li></ul></li><li><label class='ee-shut'>1202: [-70.8102015348897, -13.892007636109703]<input type='checkbox' class='ee-toggle'></label><ul><li><span class='ee-k'>0:</span><span class='ee-v'>-70.8102015348897</span></li><li><span class='ee-k'>1:</span><span class='ee-v'>-13.892007636109703</span></li></ul></li><li><label class='ee-shut'>1203: [-70.81047906778875, -13.892005578635326]<input type='checkbox' class='ee-toggle'></label><ul><li><span class='ee-k'>0:</span><span class='ee-v'>-70.81047906778875</span></li><li><span class='ee-k'>1:</span><span class='ee-v'>-13.892005578635326</span></li></ul></li><li><label class='ee-shut'>1204: [-70.81047696155382, -13.891734452538854]<input type='checkbox' class='ee-toggle'></label><ul><li><span class='ee-k'>0:</span><span class='ee-v'>-70.81047696155382</span></li><li><span class='ee-k'>1:</span><span class='ee-v'>-13.891734452538854</span></li></ul></li><li><label class='ee-shut'>1205: [-70.81103202657037, -13.891730336727717]<input type='checkbox' class='ee-toggle'></label><ul><li><span class='ee-k'>0:</span><span class='ee-v'>-70.81103202657037</span></li><li><span class='ee-k'>1:</span><span class='ee-v'>-13.891730336727717</span></li></ul></li><li><label class='ee-shut'>1206: [-70.8110341334521, -13.892001462734356]<input type='checkbox' class='ee-toggle'></label><ul><li><span class='ee-k'>0:</span><span class='ee-v'>-70.8110341334521</span></li><li><span class='ee-k'>1:</span><span class='ee-v'>-13.892001462734356</span></li></ul></li><li><label class='ee-shut'>1207: [-70.8113116662074, -13.891999404316747]<input type='checkbox' class='ee-toggle'></label><ul><li><span class='ee-k'>0:</span><span class='ee-v'>-70.8113116662074</span></li><li><span class='ee-k'>1:</span><span class='ee-v'>-13.891999404316747</span></li></ul></li><li><label class='ee-shut'>1208: [-70.81131377345743, -13.892270530278472]<input type='checkbox' class='ee-toggle'></label><ul><li><span class='ee-k'>0:</span><span class='ee-v'>-70.81131377345743</span></li><li><span class='ee-k'>1:</span><span class='ee-v'>-13.892270530278472</span></li></ul></li><li><label class='ee-shut'>1209: [-70.8115913065002, -13.892268471501538]<input type='checkbox' class='ee-toggle'></label><ul><li><span class='ee-k'>0:</span><span class='ee-v'>-70.8115913065002</span></li><li><span class='ee-k'>1:</span><span class='ee-v'>-13.892268471501538</span></li></ul></li><li><label class='ee-shut'>1210: [-70.81159341410957, -13.892539597418347]<input type='checkbox' class='ee-toggle'></label><ul><li><span class='ee-k'>0:</span><span class='ee-v'>-70.81159341410957</span></li><li><span class='ee-k'>1:</span><span class='ee-v'>-13.892539597418347</span></li></ul></li><li><label class='ee-shut'>1211: [-70.81214848069817, -13.892535478831416]<input type='checkbox' class='ee-toggle'></label><ul><li><span class='ee-k'>0:</span><span class='ee-v'>-70.81214848069817</span></li><li><span class='ee-k'>1:</span><span class='ee-v'>-13.892535478831416</span></li></ul></li><li><label class='ee-shut'>1212: [-70.81215058900821, -13.892806604658393]<input type='checkbox' class='ee-toggle'></label><ul><li><span class='ee-k'>0:</span><span class='ee-v'>-70.81215058900821</span></li><li><span class='ee-k'>1:</span><span class='ee-v'>-13.892806604658393</span></li></ul></li><li><label class='ee-shut'>1213: [-70.81270565606394, -13.892802484732972]<input type='checkbox' class='ee-toggle'></label><ul><li><span class='ee-k'>0:</span><span class='ee-v'>-70.81270565606394</span></li><li><span class='ee-k'>1:</span><span class='ee-v'>-13.892802484732972</span></li></ul></li><li><label class='ee-shut'>1214: [-70.8127035471071, -13.892531358986842]<input type='checkbox' class='ee-toggle'></label><ul><li><span class='ee-k'>0:</span><span class='ee-v'>-70.8127035471071</span></li><li><span class='ee-k'>1:</span><span class='ee-v'>-13.892531358986842</span></li></ul></li><li><label class='ee-shut'>1215: [-70.81325861333639, -13.892527237884629]<input type='checkbox' class='ee-toggle'></label><ul><li><span class='ee-k'>0:</span><span class='ee-v'>-70.81325861333639</span></li><li><span class='ee-k'>1:</span><span class='ee-v'>-13.892527237884629</span></li></ul></li><li><label class='ee-shut'>1216: [-70.81325650378668, -13.892256112219348]<input type='checkbox' class='ee-toggle'></label><ul><li><span class='ee-k'>0:</span><span class='ee-v'>-70.81325650378668</span></li><li><span class='ee-k'>1:</span><span class='ee-v'>-13.892256112219348</span></li></ul></li><li><label class='ee-shut'>1217: [-70.81436663441268, -13.892247866394708]<input type='checkbox' class='ee-toggle'></label><ul><li><span class='ee-k'>0:</span><span class='ee-v'>-70.81436663441268</span></li><li><span class='ee-k'>1:</span><span class='ee-v'>-13.892247866394708</span></li></ul></li><li><label class='ee-shut'>1218: [-70.81436874524698, -13.89251899188931]<input type='checkbox' class='ee-toggle'></label><ul><li><span class='ee-k'>0:</span><span class='ee-v'>-70.81436874524698</span></li><li><span class='ee-k'>1:</span><span class='ee-v'>-13.89251899188931</span></li></ul></li><li><label class='ee-shut'>1219: [-70.81464627811907, -13.892516929599962]<input type='checkbox' class='ee-toggle'></label><ul><li><span class='ee-k'>0:</span><span class='ee-v'>-70.81464627811907</span></li><li><span class='ee-k'>1:</span><span class='ee-v'>-13.892516929599962</span></li></ul></li><li><label class='ee-shut'>1220: [-70.81464205583961, -13.891974678682626]<input type='checkbox' class='ee-toggle'></label><ul><li><span class='ee-k'>0:</span><span class='ee-v'>-70.81464205583961</span></li><li><span class='ee-k'>1:</span><span class='ee-v'>-13.891974678682626</span></li></ul></li><li><label class='ee-shut'>1221: [-70.81491958801102, -13.8919726161687]<input type='checkbox' class='ee-toggle'></label><ul><li><span class='ee-k'>0:</span><span class='ee-v'>-70.81491958801102</span></li><li><span class='ee-k'>1:</span><span class='ee-v'>-13.8919726161687</span></li></ul></li><li><label class='ee-shut'>1222: [-70.8149216994472, -13.892243741591436]<input type='checkbox' class='ee-toggle'></label><ul><li><span class='ee-k'>0:</span><span class='ee-v'>-70.8149216994472</span></li><li><span class='ee-k'>1:</span><span class='ee-v'>-13.892243741591436</span></li></ul></li><li><label class='ee-shut'>1223: [-70.81519923190606, -13.892241678718182]<input type='checkbox' class='ee-toggle'></label><ul><li><span class='ee-k'>0:</span><span class='ee-v'>-70.81519923190606</span></li><li><span class='ee-k'>1:</span><span class='ee-v'>-13.892241678718182</span></li></ul></li><li><label class='ee-shut'>1224: [-70.81520556745427, -13.89305505481571]<input type='checkbox' class='ee-toggle'></label><ul><li><span class='ee-k'>0:</span><span class='ee-v'>-70.81520556745427</span></li><li><span class='ee-k'>1:</span><span class='ee-v'>-13.89305505481571</span></li></ul></li><li><label class='ee-shut'>1225: [-70.81603816744497, -13.893048863923214]<input type='checkbox' class='ee-toggle'></label><ul><li><span class='ee-k'>0:</span><span class='ee-v'>-70.81603816744497</span></li><li><span class='ee-k'>1:</span><span class='ee-v'>-13.893048863923214</span></li></ul></li><li><label class='ee-shut'>1226: [-70.81604028035439, -13.893319989157304]<input type='checkbox' class='ee-toggle'></label><ul><li><span class='ee-k'>0:</span><span class='ee-v'>-70.81604028035439</span></li><li><span class='ee-k'>1:</span><span class='ee-v'>-13.893319989157304</span></li></ul></li><li><label class='ee-shut'>1227: [-70.81631781390921, -13.893317924855731]<input type='checkbox' class='ee-toggle'></label><ul><li><span class='ee-k'>0:</span><span class='ee-v'>-70.81631781390921</span></li><li><span class='ee-k'>1:</span><span class='ee-v'>-13.893317924855731</span></li></ul></li><li><label class='ee-shut'>1228: [-70.81632204050956, -13.893860175207127]<input type='checkbox' class='ee-toggle'></label><ul><li><span class='ee-k'>0:</span><span class='ee-v'>-70.81632204050956</span></li><li><span class='ee-k'>1:</span><span class='ee-v'>-13.893860175207127</span></li></ul></li><li><label class='ee-shut'>1229: [-70.81659957467524, -13.893858110510296]<input type='checkbox' class='ee-toggle'></label><ul><li><span class='ee-k'>0:</span><span class='ee-v'>-70.81659957467524</span></li><li><span class='ee-k'>1:</span><span class='ee-v'>-13.893858110510296</span></li></ul></li><li><label class='ee-shut'>1230: [-70.8166016883572, -13.894129235636587]<input type='checkbox' class='ee-toggle'></label><ul><li><span class='ee-k'>0:</span><span class='ee-v'>-70.8166016883572</span></li><li><span class='ee-k'>1:</span><span class='ee-v'>-13.894129235636587</span></li></ul></li><li><label class='ee-shut'>1231: [-70.8171567571916, -13.894125105200876]<input type='checkbox' class='ee-toggle'></label><ul><li><span class='ee-k'>0:</span><span class='ee-v'>-70.8171567571916</span></li><li><span class='ee-k'>1:</span><span class='ee-v'>-13.894125105200876</span></li></ul></li><li><label class='ee-shut'>1232: [-70.81715464285386, -13.893853980164417]<input type='checkbox' class='ee-toggle'></label><ul><li><span class='ee-k'>0:</span><span class='ee-v'>-70.81715464285386</span></li><li><span class='ee-k'>1:</span><span class='ee-v'>-13.893853980164417</span></li></ul></li><li><label class='ee-shut'>1233: [-70.81798724479391, -13.89384778228303]<input type='checkbox' class='ee-toggle'></label><ul><li><span class='ee-k'>0:</span><span class='ee-v'>-70.81798724479391</span></li><li><span class='ee-k'>1:</span><span class='ee-v'>-13.89384778228303</span></li></ul></li><li><label class='ee-shut'>1234: [-70.81798512953091, -13.89357665736335]<input type='checkbox' class='ee-toggle'></label><ul><li><span class='ee-k'>0:</span><span class='ee-v'>-70.81798512953091</span></li><li><span class='ee-k'>1:</span><span class='ee-v'>-13.89357665736335</span></li></ul></li><li><label class='ee-shut'>1235: [-70.81909526352558, -13.893568389278458]<input type='checkbox' class='ee-toggle'></label><ul><li><span class='ee-k'>0:</span><span class='ee-v'>-70.81909526352558</span></li><li><span class='ee-k'>1:</span><span class='ee-v'>-13.893568389278458</span></li></ul></li><li><label class='ee-shut'>1236: [-70.81909949666569, -13.894110638776457]<input type='checkbox' class='ee-toggle'></label><ul><li><span class='ee-k'>0:</span><span class='ee-v'>-70.81909949666569</span></li><li><span class='ee-k'>1:</span><span class='ee-v'>-13.894110638776457</span></li></ul></li><li><label class='ee-shut'>1237: [-70.81937703068762, -13.894108570890605]<input type='checkbox' class='ee-toggle'></label><ul><li><span class='ee-k'>0:</span><span class='ee-v'>-70.81937703068762</span></li><li><span class='ee-k'>1:</span><span class='ee-v'>-13.894108570890605</span></li></ul></li><li><label class='ee-shut'>1238: [-70.81937914764843, -13.894379695585705]<input type='checkbox' class='ee-toggle'></label><ul><li><span class='ee-k'>0:</span><span class='ee-v'>-70.81937914764843</span></li><li><span class='ee-k'>1:</span><span class='ee-v'>-13.894379695585705</span></li></ul></li><li><label class='ee-shut'>1239: [-70.81965668195784, -13.894377627340528]<input type='checkbox' class='ee-toggle'></label><ul><li><span class='ee-k'>0:</span><span class='ee-v'>-70.81965668195784</span></li><li><span class='ee-k'>1:</span><span class='ee-v'>-13.894377627340528</span></li></ul></li><li><label class='ee-shut'>1240: [-70.81965456467363, -13.89410650268136]<input type='checkbox' class='ee-toggle'></label><ul><li><span class='ee-k'>0:</span><span class='ee-v'>-70.81965456467363</span></li><li><span class='ee-k'>1:</span><span class='ee-v'>-13.89410650268136</span></li></ul></li><li><label class='ee-shut'>1241: [-70.82020963250191, -13.89410236531964]<input type='checkbox' class='ee-toggle'></label><ul><li><span class='ee-k'>0:</span><span class='ee-v'>-70.82020963250191</span></li><li><span class='ee-k'>1:</span><span class='ee-v'>-13.89410236531964</span></li></ul></li><li><label class='ee-shut'>1242: [-70.82020751462481, -13.89383124074132]<input type='checkbox' class='ee-toggle'></label><ul><li><span class='ee-k'>0:</span><span class='ee-v'>-70.82020751462481</span></li><li><span class='ee-k'>1:</span><span class='ee-v'>-13.89383124074132</span></li></ul></li><li><label class='ee-shut'>1243: [-70.8204850481437, -13.893829171624777]<input type='checkbox' class='ee-toggle'></label><ul><li><span class='ee-k'>0:</span><span class='ee-v'>-70.8204850481437</span></li><li><span class='ee-k'>1:</span><span class='ee-v'>-13.893829171624777</span></li></ul></li><li><label class='ee-shut'>1244: [-70.82048292998812, -13.893558047082392]<input type='checkbox' class='ee-toggle'></label><ul><li><span class='ee-k'>0:</span><span class='ee-v'>-70.82048292998812</span></li><li><span class='ee-k'>1:</span><span class='ee-v'>-13.893558047082392</span></li></ul></li><li><label class='ee-shut'>1245: [-70.82103799625334, -13.893553907995905]<input type='checkbox' class='ee-toggle'></label><ul><li><span class='ee-k'>0:</span><span class='ee-v'>-70.82103799625334</span></li><li><span class='ee-k'>1:</span><span class='ee-v'>-13.893553907995905</span></li></ul></li><li><label class='ee-shut'>1246: [-70.82103587749589, -13.893282783534367]<input type='checkbox' class='ee-toggle'></label><ul><li><span class='ee-k'>0:</span><span class='ee-v'>-70.82103587749589</span></li><li><span class='ee-k'>1:</span><span class='ee-v'>-13.893282783534367</span></li></ul></li><li><label class='ee-shut'>1247: [-70.82131341023323, -13.893280713564424]<input type='checkbox' class='ee-toggle'></label><ul><li><span class='ee-k'>0:</span><span class='ee-v'>-70.82131341023323</span></li><li><span class='ee-k'>1:</span><span class='ee-v'>-13.893280713564424</span></li></ul></li><li><label class='ee-shut'>1248: [-70.82131129119732, -13.893009589129836]<input type='checkbox' class='ee-toggle'></label><ul><li><span class='ee-k'>0:</span><span class='ee-v'>-70.82131129119732</span></li><li><span class='ee-k'>1:</span><span class='ee-v'>-13.893009589129836</span></li></ul></li><li><label class='ee-shut'>1249: [-70.82186635590844, -13.893005448327568]<input type='checkbox' class='ee-toggle'></label><ul><li><span class='ee-k'>0:</span><span class='ee-v'>-70.82186635590844</span></li><li><span class='ee-k'>1:</span><span class='ee-v'>-13.893005448327568</span></li></ul></li><li><label class='ee-shut'>1250: [-70.82186423627064, -13.892734323964843]<input type='checkbox' class='ee-toggle'></label><ul><li><span class='ee-k'>0:</span><span class='ee-v'>-70.82186423627064</span></li><li><span class='ee-k'>1:</span><span class='ee-v'>-13.892734323964843</span></li></ul></li><li><label class='ee-shut'>1251: [-70.82214176822646, -13.892732253132518]<input type='checkbox' class='ee-toggle'></label><ul><li><span class='ee-k'>0:</span><span class='ee-v'>-70.82214176822646</span></li><li><span class='ee-k'>1:</span><span class='ee-v'>-13.892732253132518</span></li></ul></li><li><label class='ee-shut'>1252: [-70.82213328884883, -13.891647755825355]<input type='checkbox' class='ee-toggle'></label><ul><li><span class='ee-k'>0:</span><span class='ee-v'>-70.82213328884883</span></li><li><span class='ee-k'>1:</span><span class='ee-v'>-13.891647755825355</span></li></ul></li><li><label class='ee-shut'>1253: [-70.82241081947514, -13.891645684840316]<input type='checkbox' class='ee-toggle'></label><ul><li><span class='ee-k'>0:</span><span class='ee-v'>-70.82241081947514</span></li><li><span class='ee-k'>1:</span><span class='ee-v'>-13.891645684840316</span></li></ul></li><li><label class='ee-shut'>1254: [-70.82240445945682, -13.890832311913844]<input type='checkbox' class='ee-toggle'></label><ul><li><span class='ee-k'>0:</span><span class='ee-v'>-70.82240445945682</span></li><li><span class='ee-k'>1:</span><span class='ee-v'>-13.890832311913844</span></li></ul></li><li><label class='ee-shut'>1255: [-70.82268198906803, -13.89083024074914]<input type='checkbox' class='ee-toggle'></label><ul><li><span class='ee-k'>0:</span><span class='ee-v'>-70.82268198906803</span></li><li><span class='ee-k'>1:</span><span class='ee-v'>-13.89083024074914</span></li></ul></li><li><label class='ee-shut'>1256: [-70.82268410935261, -13.891101365022033]<input type='checkbox' class='ee-toggle'></label><ul><li><span class='ee-k'>0:</span><span class='ee-v'>-70.82268410935261</span></li><li><span class='ee-k'>1:</span><span class='ee-v'>-13.891101365022033</span></li></ul></li><li><label class='ee-shut'>1257: [-70.82323916908707, -13.891097221650583]<input type='checkbox' class='ee-toggle'></label><ul><li><span class='ee-k'>0:</span><span class='ee-v'>-70.82323916908707</span></li><li><span class='ee-k'>1:</span><span class='ee-v'>-13.891097221650583</span></li></ul></li><li><label class='ee-shut'>1258: [-70.82323704816469, -13.890826097467523]<input type='checkbox' class='ee-toggle'></label><ul><li><span class='ee-k'>0:</span><span class='ee-v'>-70.82323704816469</span></li><li><span class='ee-k'>1:</span><span class='ee-v'>-13.890826097467523</span></li></ul></li><li><label class='ee-shut'>1259: [-70.82351457764115, -13.890824025350607]<input type='checkbox' class='ee-toggle'></label><ul><li><span class='ee-k'>0:</span><span class='ee-v'>-70.82351457764115</span></li><li><span class='ee-k'>1:</span><span class='ee-v'>-13.890824025350607</span></li></ul></li><li><label class='ee-shut'>1260: [-70.82351033527536, -13.890281777038386]<input type='checkbox' class='ee-toggle'></label><ul><li><span class='ee-k'>0:</span><span class='ee-v'>-70.82351033527536</span></li><li><span class='ee-k'>1:</span><span class='ee-v'>-13.890281777038386</span></li></ul></li><li><label class='ee-shut'>1261: [-70.82378786406012, -13.89027970469689]<input type='checkbox' class='ee-toggle'></label><ul><li><span class='ee-k'>0:</span><span class='ee-v'>-70.82378786406012</span></li><li><span class='ee-k'>1:</span><span class='ee-v'>-13.89027970469689</span></li></ul></li><li><label class='ee-shut'>1262: [-70.8237836212272, -13.889737456438567]<input type='checkbox' class='ee-toggle'></label><ul><li><span class='ee-k'>0:</span><span class='ee-v'>-70.8237836212272</span></li><li><span class='ee-k'>1:</span><span class='ee-v'>-13.889737456438567</span></li></ul></li><li><label class='ee-shut'>1263: [-70.82406114932924, -13.88973538386351]<input type='checkbox' class='ee-toggle'></label><ul><li><span class='ee-k'>0:</span><span class='ee-v'>-70.82406114932924</span></li><li><span class='ee-k'>1:</span><span class='ee-v'>-13.88973538386351</span></li></ul></li><li><label class='ee-shut'>1264: [-70.8240569060292, -13.88919313566807]<input type='checkbox' class='ee-toggle'></label><ul><li><span class='ee-k'>0:</span><span class='ee-v'>-70.8240569060292</span></li><li><span class='ee-k'>1:</span><span class='ee-v'>-13.88919313566807</span></li></ul></li><li><label class='ee-shut'>1265: [-70.82433443343953, -13.889191062859451]<input type='checkbox' class='ee-toggle'></label><ul><li><span class='ee-k'>0:</span><span class='ee-v'>-70.82433443343953</span></li><li><span class='ee-k'>1:</span><span class='ee-v'>-13.889191062859451</span></li></ul></li><li><label class='ee-shut'>1266: [-70.82433018968135, -13.888648814726892]<input type='checkbox' class='ee-toggle'></label><ul><li><span class='ee-k'>0:</span><span class='ee-v'>-70.82433018968135</span></li><li><span class='ee-k'>1:</span><span class='ee-v'>-13.888648814726892</span></li></ul></li><li><label class='ee-shut'>1267: [-70.82460771639998, -13.888646741684711]<input type='checkbox' class='ee-toggle'></label><ul><li><span class='ee-k'>0:</span><span class='ee-v'>-70.82460771639998</span></li><li><span class='ee-k'>1:</span><span class='ee-v'>-13.888646741684711</span></li></ul></li><li><label class='ee-shut'>1268: [-70.82460559426488, -13.888375617654365]<input type='checkbox' class='ee-toggle'></label><ul><li><span class='ee-k'>0:</span><span class='ee-v'>-70.82460559426488</span></li><li><span class='ee-k'>1:</span><span class='ee-v'>-13.888375617654365</span></li></ul></li><li><label class='ee-shut'>1269: [-70.8248831206152, -13.888373544342688]<input type='checkbox' class='ee-toggle'></label><ul><li><span class='ee-k'>0:</span><span class='ee-v'>-70.8248831206152</span></li><li><span class='ee-k'>1:</span><span class='ee-v'>-13.888373544342688</span></li></ul></li><li><label class='ee-shut'>1270: [-70.82487887584192, -13.887831296335895]<input type='checkbox' class='ee-toggle'></label><ul><li><span class='ee-k'>0:</span><span class='ee-v'>-70.82487887584192</span></li><li><span class='ee-k'>1:</span><span class='ee-v'>-13.887831296335895</span></li></ul></li><li><label class='ee-shut'>1271: [-70.82515640150055, -13.887829222790657]<input type='checkbox' class='ee-toggle'></label><ul><li><span class='ee-k'>0:</span><span class='ee-v'>-70.82515640150055</span></li><li><span class='ee-k'>1:</span><span class='ee-v'>-13.887829222790657</span></li></ul></li><li><label class='ee-shut'>1272: [-70.82515427886239, -13.887558098823192]<input type='checkbox' class='ee-toggle'></label><ul><li><span class='ee-k'>0:</span><span class='ee-v'>-70.82515427886239</span></li><li><span class='ee-k'>1:</span><span class='ee-v'>-13.887558098823192</span></li></ul></li><li><label class='ee-shut'>1273: [-70.82543180415269, -13.88755602500846]<input type='checkbox' class='ee-toggle'></label><ul><li><span class='ee-k'>0:</span><span class='ee-v'>-70.82543180415269</span></li><li><span class='ee-k'>1:</span><span class='ee-v'>-13.88755602500846</span></li></ul></li><li><label class='ee-shut'>1274: [-70.82542968123605, -13.887284901076928]<input type='checkbox' class='ee-toggle'></label><ul><li><span class='ee-k'>0:</span><span class='ee-v'>-70.82542968123605</span></li><li><span class='ee-k'>1:</span><span class='ee-v'>-13.887284901076928</span></li></ul></li><li><label class='ee-shut'>1275: [-70.82570720615806, -13.887282826983718]<input type='checkbox' class='ee-toggle'></label><ul><li><span class='ee-k'>0:</span><span class='ee-v'>-70.82570720615806</span></li><li><span class='ee-k'>1:</span><span class='ee-v'>-13.887282826983718</span></li></ul></li><li><label class='ee-shut'>1276: [-70.82570508296293, -13.887011703088119]<input type='checkbox' class='ee-toggle'></label><ul><li><span class='ee-k'>0:</span><span class='ee-v'>-70.82570508296293</span></li><li><span class='ee-k'>1:</span><span class='ee-v'>-13.887011703088119</span></li></ul></li><li><label class='ee-shut'>1277: [-70.8259826075256, -13.887009628725414]<input type='checkbox' class='ee-toggle'></label><ul><li><span class='ee-k'>0:</span><span class='ee-v'>-70.8259826075256</span></li><li><span class='ee-k'>1:</span><span class='ee-v'>-13.887009628725414</span></li></ul></li><li><label class='ee-shut'>1278: [-70.82597836062332, -13.886467380997098]<input type='checkbox' class='ee-toggle'></label><ul><li><span class='ee-k'>0:</span><span class='ee-v'>-70.82597836062332</span></li><li><span class='ee-k'>1:</span><span class='ee-v'>-13.886467380997098</span></li></ul></li><li><label class='ee-shut'>1279: [-70.8262558844943, -13.886465306400831]<input type='checkbox' class='ee-toggle'></label><ul><li><span class='ee-k'>0:</span><span class='ee-v'>-70.8262558844943</span></li><li><span class='ee-k'>1:</span><span class='ee-v'>-13.886465306400831</span></li></ul></li><li><label class='ee-shut'>1280: [-70.82624738996209, -13.885380811034029]<input type='checkbox' class='ee-toggle'></label><ul><li><span class='ee-k'>0:</span><span class='ee-v'>-70.82624738996209</span></li><li><span class='ee-k'>1:</span><span class='ee-v'>-13.885380811034029</span></li></ul></li><li><label class='ee-shut'>1281: [-70.82652491249458, -13.885378736294033]<input type='checkbox' class='ee-toggle'></label><ul><li><span class='ee-k'>0:</span><span class='ee-v'>-70.82652491249458</span></li><li><span class='ee-k'>1:</span><span class='ee-v'>-13.885378736294033</span></li></ul></li><li><label class='ee-shut'>1282: [-70.82651641740541, -13.884294240990114]<input type='checkbox' class='ee-toggle'></label><ul><li><span class='ee-k'>0:</span><span class='ee-v'>-70.82651641740541</span></li><li><span class='ee-k'>1:</span><span class='ee-v'>-13.884294240990114</span></li></ul></li><li><label class='ee-shut'>1283: [-70.82679393859941, -13.884292166106386]<input type='checkbox' class='ee-toggle'></label><ul><li><span class='ee-k'>0:</span><span class='ee-v'>-70.82679393859941</span></li><li><span class='ee-k'>1:</span><span class='ee-v'>-13.884292166106386</span></li></ul></li><li><label class='ee-shut'>1284: [-70.82678969068202, -13.88374991849485]<input type='checkbox' class='ee-toggle'></label><ul><li><span class='ee-k'>0:</span><span class='ee-v'>-70.82678969068202</span></li><li><span class='ee-k'>1:</span><span class='ee-v'>-13.88374991849485</span></li></ul></li><li><label class='ee-shut'>1285: [-70.82651217013482, -13.883751993297729]<input type='checkbox' class='ee-toggle'></label><ul><li><span class='ee-k'>0:</span><span class='ee-v'>-70.82651217013482</span></li><li><span class='ee-k'>1:</span><span class='ee-v'>-13.883751993297729</span></li></ul></li><li><label class='ee-shut'>1286: [-70.82649942940999, -13.882125250067864]<input type='checkbox' class='ee-toggle'></label><ul><li><span class='ee-k'>0:</span><span class='ee-v'>-70.82649942940999</span></li><li><span class='ee-k'>1:</span><span class='ee-v'>-13.882125250067864</span></li></ul></li><li><label class='ee-shut'>1287: [-70.82622191074924, -13.882127324304804]<input type='checkbox' class='ee-toggle'></label><ul><li><span class='ee-k'>0:</span><span class='ee-v'>-70.82622191074924</span></li><li><span class='ee-k'>1:</span><span class='ee-v'>-13.882127324304804</span></li></ul></li><li><label class='ee-shut'>1288: [-70.8262197877787, -13.88185620036429]<input type='checkbox' class='ee-toggle'></label><ul><li><span class='ee-k'>0:</span><span class='ee-v'>-70.8262197877787</span></li><li><span class='ee-k'>1:</span><span class='ee-v'>-13.88185620036429</span></li></ul></li><li><label class='ee-shut'>1289: [-70.82566475096026, -13.881860347805107]<input type='checkbox' class='ee-toggle'></label><ul><li><span class='ee-k'>0:</span><span class='ee-v'>-70.82566475096026</span></li><li><span class='ee-k'>1:</span><span class='ee-v'>-13.881860347805107</span></li></ul></li><li><label class='ee-shut'>1290: [-70.82566687328402, -13.88213147182647]<input type='checkbox' class='ee-toggle'></label><ul><li><span class='ee-k'>0:</span><span class='ee-v'>-70.82566687328402</span></li><li><span class='ee-k'>1:</span><span class='ee-v'>-13.88213147182647</span></li></ul></li><li><label class='ee-shut'>1291: [-70.82511183563912, -13.882135618081513]<input type='checkbox' class='ee-toggle'></label><ul><li><span class='ee-k'>0:</span><span class='ee-v'>-70.82511183563912</span></li><li><span class='ee-k'>1:</span><span class='ee-v'>-13.882135618081513</span></li></ul></li><li><label class='ee-shut'>1292: [-70.82510971396215, -13.881864493979302]<input type='checkbox' class='ee-toggle'></label><ul><li><span class='ee-k'>0:</span><span class='ee-v'>-70.82510971396215</span></li><li><span class='ee-k'>1:</span><span class='ee-v'>-13.881864493979302</span></li></ul></li><li><label class='ee-shut'>1293: [-70.8245546767754, -13.881868638895854]<input type='checkbox' class='ee-toggle'></label><ul><li><span class='ee-k'>0:</span><span class='ee-v'>-70.8245546767754</span></li><li><span class='ee-k'>1:</span><span class='ee-v'>-13.881868638895854</span></li></ul></li><li><label class='ee-shut'>1294: [-70.82455255578115, -13.881597514703811]<input type='checkbox' class='ee-toggle'></label><ul><li><span class='ee-k'>0:</span><span class='ee-v'>-70.82455255578115</span></li><li><span class='ee-k'>1:</span><span class='ee-v'>-13.881597514703811</span></li></ul></li><li><label class='ee-shut'>1295: [-70.82399751906154, -13.881601658281873]<input type='checkbox' class='ee-toggle'></label><ul><li><span class='ee-k'>0:</span><span class='ee-v'>-70.82399751906154</span></li><li><span class='ee-k'>1:</span><span class='ee-v'>-13.881601658281873</span></li></ul></li><li><label class='ee-shut'>1296: [-70.82399327850135, -13.88105940970914]<input type='checkbox' class='ee-toggle'></label><ul><li><span class='ee-k'>0:</span><span class='ee-v'>-70.82399327850135</span></li><li><span class='ee-k'>1:</span><span class='ee-v'>-13.88105940970914</span></li></ul></li><li><label class='ee-shut'>1297: [-70.82371576072096, -13.881061480936726]<input type='checkbox' class='ee-toggle'></label><ul><li><span class='ee-k'>0:</span><span class='ee-v'>-70.82371576072096</span></li><li><span class='ee-k'>1:</span><span class='ee-v'>-13.881061480936726</span></li></ul></li><li><label class='ee-shut'>1298: [-70.82370940118773, -13.880248107902455]<input type='checkbox' class='ee-toggle'></label><ul><li><span class='ee-k'>0:</span><span class='ee-v'>-70.82370940118773</span></li><li><span class='ee-k'>1:</span><span class='ee-v'>-13.880248107902455</span></li></ul></li><li><label class='ee-shut'>1299: [-70.82343188432361, -13.880250178689865]<input type='checkbox' class='ee-toggle'></label><ul><li><span class='ee-k'>0:</span><span class='ee-v'>-70.82343188432361</span></li><li><span class='ee-k'>1:</span><span class='ee-v'>-13.880250178689865</span></li></ul></li><li><label class='ee-shut'>1300: [-70.82341281107792, -13.8778100588684]<input type='checkbox' class='ee-toggle'></label><ul><li><span class='ee-k'>0:</span><span class='ee-v'>-70.82341281107792</span></li><li><span class='ee-k'>1:</span><span class='ee-v'>-13.8778100588684</span></li></ul></li><li><label class='ee-shut'>1301: [-70.82313529707044, -13.877812128964107]<input type='checkbox' class='ee-toggle'></label><ul><li><span class='ee-k'>0:</span><span class='ee-v'>-70.82313529707044</span></li><li><span class='ee-k'>1:</span><span class='ee-v'>-13.877812128964107</span></li></ul></li><li><label class='ee-shut'>1302: [-70.82312682254371, -13.876727630938293]<input type='checkbox' class='ee-toggle'></label><ul><li><span class='ee-k'>0:</span><span class='ee-v'>-70.82312682254371</span></li><li><span class='ee-k'>1:</span><span class='ee-v'>-13.876727630938293</span></li></ul></li><li><label class='ee-shut'>1303: [-70.82340433526659, -13.876725561004282]<input type='checkbox' class='ee-toggle'></label><ul><li><span class='ee-k'>0:</span><span class='ee-v'>-70.82340433526659</span></li><li><span class='ee-k'>1:</span><span class='ee-v'>-13.876725561004282</span></li></ul></li><li><label class='ee-shut'>1304: [-70.82340221642829, -13.876454436524778]<input type='checkbox' class='ee-toggle'></label><ul><li><span class='ee-k'>0:</span><span class='ee-v'>-70.82340221642829</span></li><li><span class='ee-k'>1:</span><span class='ee-v'>-13.876454436524778</span></li></ul></li><li><label class='ee-shut'>1305: [-70.82367972878286, -13.876452366321272]<input type='checkbox' class='ee-toggle'></label><ul><li><span class='ee-k'>0:</span><span class='ee-v'>-70.82367972878286</span></li><li><span class='ee-k'>1:</span><span class='ee-v'>-13.876452366321272</span></li></ul></li><li><label class='ee-shut'>1306: [-70.82368184794456, -13.876723490764844]<input type='checkbox' class='ee-toggle'></label><ul><li><span class='ee-k'>0:</span><span class='ee-v'>-70.82368184794456</span></li><li><span class='ee-k'>1:</span><span class='ee-v'>-13.876723490764844</span></li></ul></li><li><label class='ee-shut'>1307: [-70.8239593605776, -13.876721420202013]<input type='checkbox' class='ee-toggle'></label><ul><li><span class='ee-k'>0:</span><span class='ee-v'>-70.8239593605776</span></li><li><span class='ee-k'>1:</span><span class='ee-v'>-13.876721420202013</span></li></ul></li><li><label class='ee-shut'>1308: [-70.82396359968251, -13.877263668981358]<input type='checkbox' class='ee-toggle'></label><ul><li><span class='ee-k'>0:</span><span class='ee-v'>-70.82396359968251</span></li><li><span class='ee-k'>1:</span><span class='ee-v'>-13.877263668981358</span></li></ul></li><li><label class='ee-shut'>1309: [-70.82535116537204, -13.877253311046806]<input type='checkbox' class='ee-toggle'></label><ul><li><span class='ee-k'>0:</span><span class='ee-v'>-70.82535116537204</span></li><li><span class='ee-k'>1:</span><span class='ee-v'>-13.877253311046806</span></li></ul></li><li><label class='ee-shut'>1310: [-70.82535328659986, -13.8775244352119]<input type='checkbox' class='ee-toggle'></label><ul><li><span class='ee-k'>0:</span><span class='ee-v'>-70.82535328659986</span></li><li><span class='ee-k'>1:</span><span class='ee-v'>-13.8775244352119</span></li></ul></li><li><label class='ee-shut'>1311: [-70.82701836585667, -13.877511995054386]<input type='checkbox' class='ee-toggle'></label><ul><li><span class='ee-k'>0:</span><span class='ee-v'>-70.82701836585667</span></li><li><span class='ee-k'>1:</span><span class='ee-v'>-13.877511995054386</span></li></ul></li><li><label class='ee-shut'>1312: [-70.8270162426885, -13.877240871140819]<input type='checkbox' class='ee-toggle'></label><ul><li><span class='ee-k'>0:</span><span class='ee-v'>-70.8270162426885</span></li><li><span class='ee-k'>1:</span><span class='ee-v'>-13.877240871140819</span></li></ul></li><li><label class='ee-shut'>1313: [-70.82729375542037, -13.877238796715233]<input type='checkbox' class='ee-toggle'></label><ul><li><span class='ee-k'>0:</span><span class='ee-v'>-70.82729375542037</span></li><li><span class='ee-k'>1:</span><span class='ee-v'>-13.877238796715233</span></li></ul></li><li><label class='ee-shut'>1314: [-70.82729587890296, -13.877509920592866]<input type='checkbox' class='ee-toggle'></label><ul><li><span class='ee-k'>0:</span><span class='ee-v'>-70.82729587890296</span></li><li><span class='ee-k'>1:</span><span class='ee-v'>-13.877509920592866</span></li></ul></li><li><label class='ee-shut'>1315: [-70.8275733919133, -13.877507845816936]<input type='checkbox' class='ee-toggle'></label><ul><li><span class='ee-k'>0:</span><span class='ee-v'>-70.8275733919133</span></li><li><span class='ee-k'>1:</span><span class='ee-v'>-13.877507845816936</span></li></ul></li><li><label class='ee-shut'>1316: [-70.8275755157642, -13.87777896964067]<input type='checkbox' class='ee-toggle'></label><ul><li><span class='ee-k'>0:</span><span class='ee-v'>-70.8275755157642</span></li><li><span class='ee-k'>1:</span><span class='ee-v'>-13.87777896964067</span></li></ul></li><li><label class='ee-shut'>1317: [-70.82785302904404, -13.877776894514398]<input type='checkbox' class='ee-toggle'></label><ul><li><span class='ee-k'>0:</span><span class='ee-v'>-70.82785302904404</span></li><li><span class='ee-k'>1:</span><span class='ee-v'>-13.877776894514398</span></li></ul></li><li><label class='ee-shut'>1318: [-70.82785090486975, -13.877505770726597]<input type='checkbox' class='ee-toggle'></label><ul><li><span class='ee-k'>0:</span><span class='ee-v'>-70.82785090486975</span></li><li><span class='ee-k'>1:</span><span class='ee-v'>-13.877505770726597</span></li></ul></li><li><label class='ee-shut'>1319: [-70.82812841778127, -13.877503695321845]<input type='checkbox' class='ee-toggle'></label><ul><li><span class='ee-k'>0:</span><span class='ee-v'>-70.82812841778127</span></li><li><span class='ee-k'>1:</span><span class='ee-v'>-13.877503695321845</span></li></ul></li><li><label class='ee-shut'>1320: [-70.82812416892965, -13.876961447818108]<input type='checkbox' class='ee-toggle'></label><ul><li><span class='ee-k'>0:</span><span class='ee-v'>-70.82812416892965</span></li><li><span class='ee-k'>1:</span><span class='ee-v'>-13.876961447818108</span></li></ul></li><li><label class='ee-shut'>1321: [-70.82840168114947, -13.876959372188779]<input type='checkbox' class='ee-toggle'></label><ul><li><span class='ee-k'>0:</span><span class='ee-v'>-70.82840168114947</span></li><li><span class='ee-k'>1:</span><span class='ee-v'>-13.876959372188779</span></li></ul></li><li><label class='ee-shut'>1322: [-70.82840380587173, -13.877230495895732]<input type='checkbox' class='ee-toggle'></label><ul><li><span class='ee-k'>0:</span><span class='ee-v'>-70.82840380587173</span></li><li><span class='ee-k'>1:</span><span class='ee-v'>-13.877230495895732</span></li></ul></li><li><label class='ee-shut'>1323: [-70.82868131837901, -13.877228419907077]<input type='checkbox' class='ee-toggle'></label><ul><li><span class='ee-k'>0:</span><span class='ee-v'>-70.82868131837901</span></li><li><span class='ee-k'>1:</span><span class='ee-v'>-13.877228419907077</span></li></ul></li><li><label class='ee-shut'>1324: [-70.82868344346959, -13.877499543569114]<input type='checkbox' class='ee-toggle'></label><ul><li><span class='ee-k'>0:</span><span class='ee-v'>-70.82868344346959</span></li><li><span class='ee-k'>1:</span><span class='ee-v'>-13.877499543569114</span></li></ul></li><li><label class='ee-shut'>1325: [-70.82896095624636, -13.877497467221133]<input type='checkbox' class='ee-toggle'></label><ul><li><span class='ee-k'>0:</span><span class='ee-v'>-70.82896095624636</span></li><li><span class='ee-k'>1:</span><span class='ee-v'>-13.877497467221133</span></li></ul></li><li><label class='ee-shut'>1326: [-70.82896308171424, -13.877768590838254]<input type='checkbox' class='ee-toggle'></label><ul><li><span class='ee-k'>0:</span><span class='ee-v'>-70.82896308171424</span></li><li><span class='ee-k'>1:</span><span class='ee-v'>-13.877768590838254</span></li></ul></li><li><label class='ee-shut'>1327: [-70.8292405947605, -13.877766514130947]<input type='checkbox' class='ee-toggle'></label><ul><li><span class='ee-k'>0:</span><span class='ee-v'>-70.8292405947605</span></li><li><span class='ee-k'>1:</span><span class='ee-v'>-13.877766514130947</span></li></ul></li><li><label class='ee-shut'>1328: [-70.82924272059668, -13.878037637694169]<input type='checkbox' class='ee-toggle'></label><ul><li><span class='ee-k'>0:</span><span class='ee-v'>-70.82924272059668</span></li><li><span class='ee-k'>1:</span><span class='ee-v'>-13.878037637694169</span></li></ul></li><li><label class='ee-shut'>1329: [-70.82952023392143, -13.878035560636519]<input type='checkbox' class='ee-toggle'></label><ul><li><span class='ee-k'>0:</span><span class='ee-v'>-70.82952023392143</span></li><li><span class='ee-k'>1:</span><span class='ee-v'>-13.878035560636519</span></li></ul></li><li><label class='ee-shut'>1330: [-70.82953511826906, -13.87993342512992]<input type='checkbox' class='ee-toggle'></label><ul><li><span class='ee-k'>0:</span><span class='ee-v'>-70.82953511826906</span></li><li><span class='ee-k'>1:</span><span class='ee-v'>-13.87993342512992</span></li></ul></li><li><label class='ee-shut'>1331: [-70.82925760268954, -13.879935502484013]<input type='checkbox' class='ee-toggle'></label><ul><li><span class='ee-k'>0:</span><span class='ee-v'>-70.82925760268954</span></li><li><span class='ee-k'>1:</span><span class='ee-v'>-13.879935502484013</span></li></ul></li><li><label class='ee-shut'>1332: [-70.82926398141078, -13.880748873011985]<input type='checkbox' class='ee-toggle'></label><ul><li><span class='ee-k'>0:</span><span class='ee-v'>-70.82926398141078</span></li><li><span class='ee-k'>1:</span><span class='ee-v'>-13.880748873011985</span></li></ul></li><li><label class='ee-shut'>1333: [-70.82870894817663, -13.880753027037455]<input type='checkbox' class='ee-toggle'></label><ul><li><span class='ee-k'>0:</span><span class='ee-v'>-70.82870894817663</span></li><li><span class='ee-k'>1:</span><span class='ee-v'>-13.880753027037455</span></li></ul></li><li><label class='ee-shut'>1334: [-70.82871107386008, -13.881024150618643]<input type='checkbox' class='ee-toggle'></label><ul><li><span class='ee-k'>0:</span><span class='ee-v'>-70.82871107386008</span></li><li><span class='ee-k'>1:</span><span class='ee-v'>-13.881024150618643</span></li></ul></li><li><label class='ee-shut'>1335: [-70.82843355685223, -13.881026227200186]<input type='checkbox' class='ee-toggle'></label><ul><li><span class='ee-k'>0:</span><span class='ee-v'>-70.82843355685223</span></li><li><span class='ee-k'>1:</span><span class='ee-v'>-13.881026227200186</span></li></ul></li><li><label class='ee-shut'>1336: [-70.82843568226619, -13.881297350817308]<input type='checkbox' class='ee-toggle'></label><ul><li><span class='ee-k'>0:</span><span class='ee-v'>-70.82843568226619</span></li><li><span class='ee-k'>1:</span><span class='ee-v'>-13.881297350817308</span></li></ul></li><li><label class='ee-shut'>1337: [-70.82871319959743, -13.88129527419085]<input type='checkbox' class='ee-toggle'></label><ul><li><span class='ee-k'>0:</span><span class='ee-v'>-70.82871319959743</span></li><li><span class='ee-k'>1:</span><span class='ee-v'>-13.88129527419085</span></li></ul></li><li><label class='ee-shut'>1338: [-70.8287174511979, -13.881837521326277]<input type='checkbox' class='ee-toggle'></label><ul><li><span class='ee-k'>0:</span><span class='ee-v'>-70.8287174511979</span></li><li><span class='ee-k'>1:</span><span class='ee-v'>-13.881837521326277</span></li></ul></li><li><label class='ee-shut'>1339: [-70.82899496913102, -13.88183544430456]<input type='checkbox' class='ee-toggle'></label><ul><li><span class='ee-k'>0:</span><span class='ee-v'>-70.82899496913102</span></li><li><span class='ee-k'>1:</span><span class='ee-v'>-13.88183544430456</span></li></ul></li><li><label class='ee-shut'>1340: [-70.82899709532651, -13.882106567813883]<input type='checkbox' class='ee-toggle'></label><ul><li><span class='ee-k'>0:</span><span class='ee-v'>-70.82899709532651</span></li><li><span class='ee-k'>1:</span><span class='ee-v'>-13.882106567813883</span></li></ul></li><li><label class='ee-shut'>1341: [-70.82844205877757, -13.88211072163274]<input type='checkbox' class='ee-toggle'></label><ul><li><span class='ee-k'>0:</span><span class='ee-v'>-70.82844205877757</span></li><li><span class='ee-k'>1:</span><span class='ee-v'>-13.88211072163274</span></li></ul></li><li><label class='ee-shut'>1342: [-70.82844631000974, -13.882652968813085]<input type='checkbox' class='ee-toggle'></label><ul><li><span class='ee-k'>0:</span><span class='ee-v'>-70.82844631000974</span></li><li><span class='ee-k'>1:</span><span class='ee-v'>-13.882652968813085</span></li></ul></li><li><label class='ee-shut'>1343: [-70.82872382894897, -13.88265089197103]<input type='checkbox' class='ee-toggle'></label><ul><li><span class='ee-k'>0:</span><span class='ee-v'>-70.82872382894897</span></li><li><span class='ee-k'>1:</span><span class='ee-v'>-13.88265089197103</span></li></ul></li><li><label class='ee-shut'>1344: [-70.82872595495581, -13.882922015507303]<input type='checkbox' class='ee-toggle'></label><ul><li><span class='ee-k'>0:</span><span class='ee-v'>-70.82872595495581</span></li><li><span class='ee-k'>1:</span><span class='ee-v'>-13.882922015507303</span></li></ul></li><li><label class='ee-shut'>1345: [-70.8303910695883, -13.88290954763676]<input type='checkbox' class='ee-toggle'></label><ul><li><span class='ee-k'>0:</span><span class='ee-v'>-70.8303910695883</span></li><li><span class='ee-k'>1:</span><span class='ee-v'>-13.88290954763676</span></li></ul></li><li><label class='ee-shut'>1346: [-70.83039532560848, -13.883451794188284]<input type='checkbox' class='ee-toggle'></label><ul><li><span class='ee-k'>0:</span><span class='ee-v'>-70.83039532560848</span></li><li><span class='ee-k'>1:</span><span class='ee-v'>-13.883451794188284</span></li></ul></li><li><label class='ee-shut'>1347: [-70.8306728451945, -13.883449715019593]<input type='checkbox' class='ee-toggle'></label><ul><li><span class='ee-k'>0:</span><span class='ee-v'>-70.8306728451945</span></li><li><span class='ee-k'>1:</span><span class='ee-v'>-13.883449715019593</span></li></ul></li><li><label class='ee-shut'>1348: [-70.83067497359086, -13.883720838250438]<input type='checkbox' class='ee-toggle'></label><ul><li><span class='ee-k'>0:</span><span class='ee-v'>-70.83067497359086</span></li><li><span class='ee-k'>1:</span><span class='ee-v'>-13.883720838250438</span></li></ul></li><li><label class='ee-shut'>1349: [-70.83095249346434, -13.883718758722422]<input type='checkbox' class='ee-toggle'></label><ul><li><span class='ee-k'>0:</span><span class='ee-v'>-70.83095249346434</span></li><li><span class='ee-k'>1:</span><span class='ee-v'>-13.883718758722422</span></li></ul></li><li><label class='ee-shut'>1350: [-70.83095462222902, -13.88398988189937]<input type='checkbox' class='ee-toggle'></label><ul><li><span class='ee-k'>0:</span><span class='ee-v'>-70.83095462222902</span></li><li><span class='ee-k'>1:</span><span class='ee-v'>-13.88398988189937</span></li></ul></li><li><label class='ee-shut'>1351: [-70.83123214237199, -13.883987802021007]<input type='checkbox' class='ee-toggle'></label><ul><li><span class='ee-k'>0:</span><span class='ee-v'>-70.83123214237199</span></li><li><span class='ee-k'>1:</span><span class='ee-v'>-13.883987802021007</span></li></ul></li><li><label class='ee-shut'>1352: [-70.8312406591914, -13.885072294486251]<input type='checkbox' class='ee-toggle'></label><ul><li><span class='ee-k'>0:</span><span class='ee-v'>-70.8312406591914</span></li><li><span class='ee-k'>1:</span><span class='ee-v'>-13.885072294486251</span></li></ul></li><li><label class='ee-shut'>1353: [-70.83151818057404, -13.8850702141228]<input type='checkbox' class='ee-toggle'></label><ul><li><span class='ee-k'>0:</span><span class='ee-v'>-70.83151818057404</span></li><li><span class='ee-k'>1:</span><span class='ee-v'>-13.8850702141228</span></li></ul></li><li><label class='ee-shut'>1354: [-70.83153095910895, -13.886696952375999]<input type='checkbox' class='ee-toggle'></label><ul><li><span class='ee-k'>0:</span><span class='ee-v'>-70.83153095910895</span></li><li><span class='ee-k'>1:</span><span class='ee-v'>-13.886696952375999</span></li></ul></li><li><label class='ee-shut'>1355: [-70.83180848238703, -13.88669487144661]<input type='checkbox' class='ee-toggle'></label><ul><li><span class='ee-k'>0:</span><span class='ee-v'>-70.83180848238703</span></li><li><span class='ee-k'>1:</span><span class='ee-v'>-13.88669487144661</span></li></ul></li><li><label class='ee-shut'>1356: [-70.83181061262495, -13.886965994425926]<input type='checkbox' class='ee-toggle'></label><ul><li><span class='ee-k'>0:</span><span class='ee-v'>-70.83181061262495</span></li><li><span class='ee-k'>1:</span><span class='ee-v'>-13.886965994425926</span></li></ul></li><li><label class='ee-shut'>1357: [-70.8323656596752, -13.886961831534085]<input type='checkbox' class='ee-toggle'></label><ul><li><span class='ee-k'>0:</span><span class='ee-v'>-70.8323656596752</span></li><li><span class='ee-k'>1:</span><span class='ee-v'>-13.886961831534085</span></li></ul></li><li><label class='ee-shut'>1358: [-70.83236779060482, -13.887232954423572]<input type='checkbox' class='ee-toggle'></label><ul><li><span class='ee-k'>0:</span><span class='ee-v'>-70.83236779060482</span></li><li><span class='ee-k'>1:</span><span class='ee-v'>-13.887232954423572</span></li></ul></li><li><label class='ee-shut'>1359: [-70.8337554090524, -13.887222541476191]<input type='checkbox' class='ee-toggle'></label><ul><li><span class='ee-k'>0:</span><span class='ee-v'>-70.8337554090524</span></li><li><span class='ee-k'>1:</span><span class='ee-v'>-13.887222541476191</span></li></ul></li><li><label class='ee-shut'>1360: [-70.83375754163492, -13.887493664150082]<input type='checkbox' class='ee-toggle'></label><ul><li><span class='ee-k'>0:</span><span class='ee-v'>-70.83375754163492</span></li><li><span class='ee-k'>1:</span><span class='ee-v'>-13.887493664150082</span></li></ul></li><li><label class='ee-shut'>1361: [-70.8340350655059, -13.887491580570662]<input type='checkbox' class='ee-toggle'></label><ul><li><span class='ee-k'>0:</span><span class='ee-v'>-70.8340350655059</span></li><li><span class='ee-k'>1:</span><span class='ee-v'>-13.887491580570662</span></li></ul></li><li><label class='ee-shut'>1362: [-70.83403719846571, -13.887762703190655]<input type='checkbox' class='ee-toggle'></label><ul><li><span class='ee-k'>0:</span><span class='ee-v'>-70.83403719846571</span></li><li><span class='ee-k'>1:</span><span class='ee-v'>-13.887762703190655</span></li></ul></li><li><label class='ee-shut'>1363: [-70.8345922467197, -13.887758535016719]<input type='checkbox' class='ee-toggle'></label><ul><li><span class='ee-k'>0:</span><span class='ee-v'>-70.8345922467197</span></li><li><span class='ee-k'>1:</span><span class='ee-v'>-13.887758535016719</span></li></ul></li><li><label class='ee-shut'>1364: [-70.83459438036223, -13.888029657546879]<input type='checkbox' class='ee-toggle'></label><ul><li><span class='ee-k'>0:</span><span class='ee-v'>-70.83459438036223</span></li><li><span class='ee-k'>1:</span><span class='ee-v'>-13.888029657546879</span></li></ul></li><li><label class='ee-shut'>1365: [-70.83487190474524, -13.888027572934398]<input type='checkbox' class='ee-toggle'></label><ul><li><span class='ee-k'>0:</span><span class='ee-v'>-70.83487190474524</span></li><li><span class='ee-k'>1:</span><span class='ee-v'>-13.888027572934398</span></li></ul></li><li><label class='ee-shut'>1366: [-70.83487403875608, -13.888298695419643]<input type='checkbox' class='ee-toggle'></label><ul><li><span class='ee-k'>0:</span><span class='ee-v'>-70.83487403875608</span></li><li><span class='ee-k'>1:</span><span class='ee-v'>-13.888298695419643</span></li></ul></li><li><label class='ee-shut'>1367: [-70.83515156341758, -13.888296610456816]<input type='checkbox' class='ee-toggle'></label><ul><li><span class='ee-k'>0:</span><span class='ee-v'>-70.83515156341758</span></li><li><span class='ee-k'>1:</span><span class='ee-v'>-13.888296610456816</span></li></ul></li><li><label class='ee-shut'>1368: [-70.83515369779673, -13.888567732888163]<input type='checkbox' class='ee-toggle'></label><ul><li><span class='ee-k'>0:</span><span class='ee-v'>-70.83515369779673</span></li><li><span class='ee-k'>1:</span><span class='ee-v'>-13.888567732888163</span></li></ul></li><li><label class='ee-shut'>1369: [-70.83570874762276, -13.888563561938433]<input type='checkbox' class='ee-toggle'></label><ul><li><span class='ee-k'>0:</span><span class='ee-v'>-70.83570874762276</span></li><li><span class='ee-k'>1:</span><span class='ee-v'>-13.888563561938433</span></li></ul></li><li><label class='ee-shut'>1370: [-70.83571088269362, -13.888834684279946]<input type='checkbox' class='ee-toggle'></label><ul><li><span class='ee-k'>0:</span><span class='ee-v'>-70.83571088269362</span></li><li><span class='ee-k'>1:</span><span class='ee-v'>-13.888834684279946</span></li></ul></li><li><label class='ee-shut'>1371: [-70.83598840785817, -13.88883259828406]<input type='checkbox' class='ee-toggle'></label><ul><li><span class='ee-k'>0:</span><span class='ee-v'>-70.83598840785817</span></li><li><span class='ee-k'>1:</span><span class='ee-v'>-13.88883259828406</span></li></ul></li><li><label class='ee-shut'>1372: [-70.83599054329733, -13.889103720580657]<input type='checkbox' class='ee-toggle'></label><ul><li><span class='ee-k'>0:</span><span class='ee-v'>-70.83599054329733</span></li><li><span class='ee-k'>1:</span><span class='ee-v'>-13.889103720580657</span></li></ul></li><li><label class='ee-shut'>1373: [-70.83654559412949, -13.889099547564802]<input type='checkbox' class='ee-toggle'></label><ul><li><span class='ee-k'>0:</span><span class='ee-v'>-70.83654559412949</span></li><li><span class='ee-k'>1:</span><span class='ee-v'>-13.889099547564802</span></li></ul></li><li><label class='ee-shut'>1374: [-70.83654773026035, -13.88937066977157]<input type='checkbox' class='ee-toggle'></label><ul><li><span class='ee-k'>0:</span><span class='ee-v'>-70.83654773026035</span></li><li><span class='ee-k'>1:</span><span class='ee-v'>-13.88937066977157</span></li></ul></li><li><label class='ee-shut'>1375: [-70.83765783267924, -13.889362319796255]<input type='checkbox' class='ee-toggle'></label><ul><li><span class='ee-k'>0:</span><span class='ee-v'>-70.83765783267924</span></li><li><span class='ee-k'>1:</span><span class='ee-v'>-13.889362319796255</span></li></ul></li><li><label class='ee-shut'>1376: [-70.83765997013961, -13.88963344182336]<input type='checkbox' class='ee-toggle'></label><ul><li><span class='ee-k'>0:</span><span class='ee-v'>-70.83765997013961</span></li><li><span class='ee-k'>1:</span><span class='ee-v'>-13.88963344182336</span></li></ul></li><li><label class='ee-shut'>1377: [-70.83849254743888, -13.889627175903573]<input type='checkbox' class='ee-toggle'></label><ul><li><span class='ee-k'>0:</span><span class='ee-v'>-70.83849254743888</span></li><li><span class='ee-k'>1:</span><span class='ee-v'>-13.889627175903573</span></li></ul></li><li><label class='ee-shut'>1378: [-70.83849468591434, -13.889898297804912]<input type='checkbox' class='ee-toggle'></label><ul><li><span class='ee-k'>0:</span><span class='ee-v'>-70.83849468591434</span></li><li><span class='ee-k'>1:</span><span class='ee-v'>-13.889898297804912</span></li></ul></li><li><label class='ee-shut'>1379: [-70.83932726376158, -13.889892028920684]<input type='checkbox' class='ee-toggle'></label><ul><li><span class='ee-k'>0:</span><span class='ee-v'>-70.83932726376158</span></li><li><span class='ee-k'>1:</span><span class='ee-v'>-13.889892028920684</span></li></ul></li><li><label class='ee-shut'>1380: [-70.83932940325215, -13.890163150687277]<input type='checkbox' class='ee-toggle'></label><ul><li><span class='ee-k'>0:</span><span class='ee-v'>-70.83932940325215</span></li><li><span class='ee-k'>1:</span><span class='ee-v'>-13.890163150687277</span></li></ul></li><li><label class='ee-shut'>1381: [-70.8398844555755, -13.89015896977523]<input type='checkbox' class='ee-toggle'></label><ul><li><span class='ee-k'>0:</span><span class='ee-v'>-70.8398844555755</span></li><li><span class='ee-k'>1:</span><span class='ee-v'>-13.89015896977523</span></li></ul></li><li><label class='ee-shut'>1382: [-70.83988659575778, -13.890430091443008]<input type='checkbox' class='ee-toggle'></label><ul><li><span class='ee-k'>0:</span><span class='ee-v'>-70.83988659575778</span></li><li><span class='ee-k'>1:</span><span class='ee-v'>-13.890430091443008</span></li></ul></li><li><label class='ee-shut'>1383: [-70.840164122162, -13.890428000470454]<input type='checkbox' class='ee-toggle'></label><ul><li><span class='ee-k'>0:</span><span class='ee-v'>-70.840164122162</span></li><li><span class='ee-k'>1:</span><span class='ee-v'>-13.890428000470454</span></li></ul></li><li><label class='ee-shut'>1384: [-70.84016840330806, -13.890970243707194]<input type='checkbox' class='ee-toggle'></label><ul><li><span class='ee-k'>0:</span><span class='ee-v'>-70.84016840330806</span></li><li><span class='ee-k'>1:</span><span class='ee-v'>-13.890970243707194</span></li></ul></li><li><label class='ee-shut'>1385: [-70.83989087625704, -13.890972334760598]<input type='checkbox' class='ee-toggle'></label><ul><li><span class='ee-k'>0:</span><span class='ee-v'>-70.83989087625704</span></li><li><span class='ee-k'>1:</span><span class='ee-v'>-13.890972334760598</span></li></ul></li><li><label class='ee-shut'>1386: [-70.8399080000957, -13.893141307788406]<input type='checkbox' class='ee-toggle'></label><ul><li><span class='ee-k'>0:</span><span class='ee-v'>-70.8399080000957</span></li><li><span class='ee-k'>1:</span><span class='ee-v'>-13.893141307788406</span></li></ul></li><li><label class='ee-shut'>1387: [-70.84018552973387, -13.893139216393644]<input type='checkbox' class='ee-toggle'></label><ul><li><span class='ee-k'>0:</span><span class='ee-v'>-70.84018552973387</span></li><li><span class='ee-k'>1:</span><span class='ee-v'>-13.893139216393644</span></li></ul></li><li><label class='ee-shut'>1388: [-70.84019195289476, -13.893952581046632]<input type='checkbox' class='ee-toggle'></label><ul><li><span class='ee-k'>0:</span><span class='ee-v'>-70.84019195289476</span></li><li><span class='ee-k'>1:</span><span class='ee-v'>-13.893952581046632</span></li></ul></li><li><label class='ee-shut'>1389: [-70.8404694834492, -13.893950489211695]<input type='checkbox' class='ee-toggle'></label><ul><li><span class='ee-k'>0:</span><span class='ee-v'>-70.8404694834492</span></li><li><span class='ee-k'>1:</span><span class='ee-v'>-13.893950489211695</span></li></ul></li><li><label class='ee-shut'>1390: [-70.84047590800249, -13.894763853685022]<input type='checkbox' class='ee-toggle'></label><ul><li><span class='ee-k'>0:</span><span class='ee-v'>-70.84047590800249</span></li><li><span class='ee-k'>1:</span><span class='ee-v'>-13.894763853685022</span></li></ul></li><li><label class='ee-shut'>1391: [-70.83770059069013, -13.894784759143567]<input type='checkbox' class='ee-toggle'></label><ul><li><span class='ee-k'>0:</span><span class='ee-v'>-70.83770059069013</span></li><li><span class='ee-k'>1:</span><span class='ee-v'>-13.894784759143567</span></li></ul></li><li><label class='ee-shut'>1392: [-70.83769845234941, -13.894513637233244]<input type='checkbox' class='ee-toggle'></label><ul><li><span class='ee-k'>0:</span><span class='ee-v'>-70.83769845234941</span></li><li><span class='ee-k'>1:</span><span class='ee-v'>-13.894513637233244</span></li></ul></li><li><label class='ee-shut'>1393: [-70.83742092069005, -13.894515726004926]<input type='checkbox' class='ee-toggle'></label><ul><li><span class='ee-k'>0:</span><span class='ee-v'>-70.83742092069005</span></li><li><span class='ee-k'>1:</span><span class='ee-v'>-13.894515726004926</span></li></ul></li><li><label class='ee-shut'>1394: [-70.83741878272663, -13.894244604049687]<input type='checkbox' class='ee-toggle'></label><ul><li><span class='ee-k'>0:</span><span class='ee-v'>-70.83741878272663</span></li><li><span class='ee-k'>1:</span><span class='ee-v'>-13.894244604049687</span></li></ul></li><li><label class='ee-shut'>1395: [-70.83714125133675, -13.894246692462042]<input type='checkbox' class='ee-toggle'></label><ul><li><span class='ee-k'>0:</span><span class='ee-v'>-70.83714125133675</span></li><li><span class='ee-k'>1:</span><span class='ee-v'>-13.894246692462042</span></li></ul></li><li><label class='ee-shut'>1396: [-70.83713911374163, -13.893975570452906]<input type='checkbox' class='ee-toggle'></label><ul><li><span class='ee-k'>0:</span><span class='ee-v'>-70.83713911374163</span></li><li><span class='ee-k'>1:</span><span class='ee-v'>-13.893975570452906</span></li></ul></li><li><label class='ee-shut'>1397: [-70.83686158263023, -13.893977658514919]<input type='checkbox' class='ee-toggle'></label><ul><li><span class='ee-k'>0:</span><span class='ee-v'>-70.83686158263023</span></li><li><span class='ee-k'>1:</span><span class='ee-v'>-13.893977658514919</span></li></ul></li><li><label class='ee-shut'>1398: [-70.83686371991094, -13.894248780559987]<input type='checkbox' class='ee-toggle'></label><ul><li><span class='ee-k'>0:</span><span class='ee-v'>-70.83686371991094</span></li><li><span class='ee-k'>1:</span><span class='ee-v'>-13.894248780559987</span></li></ul></li><li><label class='ee-shut'>1399: [-70.83603112534605, -13.89425504295838]<input type='checkbox' class='ee-toggle'></label><ul><li><span class='ee-k'>0:</span><span class='ee-v'>-70.83603112534605</span></li><li><span class='ee-k'>1:</span><span class='ee-v'>-13.89425504295838</span></li></ul></li><li><label class='ee-shut'>1400: [-70.8360332617015, -13.894526165129212]<input type='checkbox' class='ee-toggle'></label><ul><li><span class='ee-k'>0:</span><span class='ee-v'>-70.8360332617015</span></li><li><span class='ee-k'>1:</span><span class='ee-v'>-13.894526165129212</span></li></ul></li><li><label class='ee-shut'>1401: [-70.83631079358545, -13.894524077938566]<input type='checkbox' class='ee-toggle'></label><ul><li><span class='ee-k'>0:</span><span class='ee-v'>-70.83631079358545</span></li><li><span class='ee-k'>1:</span><span class='ee-v'>-13.894524077938566</span></li></ul></li><li><label class='ee-shut'>1402: [-70.83631293031819, -13.894795200055501]<input type='checkbox' class='ee-toggle'></label><ul><li><span class='ee-k'>0:</span><span class='ee-v'>-70.83631293031819</span></li><li><span class='ee-k'>1:</span><span class='ee-v'>-13.894795200055501</span></li></ul></li><li><label class='ee-shut'>1403: [-70.83575786584062, -13.894799374212216]<input type='checkbox' class='ee-toggle'></label><ul><li><span class='ee-k'>0:</span><span class='ee-v'>-70.83575786584062</span></li><li><span class='ee-k'>1:</span><span class='ee-v'>-13.894799374212216</span></li></ul></li><li><label class='ee-shut'>1404: [-70.83576000197148, -13.89507049641]<input type='checkbox' class='ee-toggle'></label><ul><li><span class='ee-k'>0:</span><span class='ee-v'>-70.83576000197148</span></li><li><span class='ee-k'>1:</span><span class='ee-v'>-13.89507049641</span></li></ul></li><li><label class='ee-shut'>1405: [-70.83659259957267, -13.895064234568563]<input type='checkbox' class='ee-toggle'></label><ul><li><span class='ee-k'>0:</span><span class='ee-v'>-70.83659259957267</span></li><li><span class='ee-k'>1:</span><span class='ee-v'>-13.895064234568563</span></li></ul></li><li><label class='ee-shut'>1406: [-70.83659473670964, -13.8953353566316]<input type='checkbox' class='ee-toggle'></label><ul><li><span class='ee-k'>0:</span><span class='ee-v'>-70.83659473670964</span></li><li><span class='ee-k'>1:</span><span class='ee-v'>-13.8953353566316</span></li></ul></li><li><label class='ee-shut'>1407: [-70.83603967104631, -13.895339531596798]<input type='checkbox' class='ee-toggle'></label><ul><li><span class='ee-k'>0:</span><span class='ee-v'>-70.83603967104631</span></li><li><span class='ee-k'>1:</span><span class='ee-v'>-13.895339531596798</span></li></ul></li><li><label class='ee-shut'>1408: [-70.83604180758141, -13.8956106537317]<input type='checkbox' class='ee-toggle'></label><ul><li><span class='ee-k'>0:</span><span class='ee-v'>-70.83604180758141</span></li><li><span class='ee-k'>1:</span><span class='ee-v'>-13.8956106537317</span></li></ul></li><li><label class='ee-shut'>1409: [-70.83576427435898, -13.8956127407876]<input type='checkbox' class='ee-toggle'></label><ul><li><span class='ee-k'>0:</span><span class='ee-v'>-70.83576427435898</span></li><li><span class='ee-k'>1:</span><span class='ee-v'>-13.8956127407876</span></li></ul></li><li><label class='ee-shut'>1410: [-70.83577281968194, -13.896697229461953]<input type='checkbox' class='ee-toggle'></label><ul><li><span class='ee-k'>0:</span><span class='ee-v'>-70.83577281968194</span></li><li><span class='ee-k'>1:</span><span class='ee-v'>-13.896697229461953</span></li></ul></li><li><label class='ee-shut'>1411: [-70.83605035419794, -13.896695142244356]<input type='checkbox' class='ee-toggle'></label><ul><li><span class='ee-k'>0:</span><span class='ee-v'>-70.83605035419794</span></li><li><span class='ee-k'>1:</span><span class='ee-v'>-13.896695142244356</span></li></ul></li><li><label class='ee-shut'>1412: [-70.83605462778019, -13.897237386451277]<input type='checkbox' class='ee-toggle'></label><ul><li><span class='ee-k'>0:</span><span class='ee-v'>-70.83605462778019</span></li><li><span class='ee-k'>1:</span><span class='ee-v'>-13.897237386451277</span></li></ul></li><li><label class='ee-shut'>1413: [-70.83549955740968, -13.897241560742739]<input type='checkbox' class='ee-toggle'></label><ul><li><span class='ee-k'>0:</span><span class='ee-v'>-70.83549955740968</span></li><li><span class='ee-k'>1:</span><span class='ee-v'>-13.897241560742739</span></li></ul></li><li><label class='ee-shut'>1414: [-70.8355016936214, -13.89751268293154]<input type='checkbox' class='ee-toggle'></label><ul><li><span class='ee-k'>0:</span><span class='ee-v'>-70.8355016936214</span></li><li><span class='ee-k'>1:</span><span class='ee-v'>-13.89751268293154</span></li></ul></li><li><label class='ee-shut'>1415: [-70.83522415804536, -13.89751476964608]<input type='checkbox' class='ee-toggle'></label><ul><li><span class='ee-k'>0:</span><span class='ee-v'>-70.83522415804536</span></li><li><span class='ee-k'>1:</span><span class='ee-v'>-13.89751476964608</span></li></ul></li><li><label class='ee-shut'>1416: [-70.83522842997472, -13.898057014077578]<input type='checkbox' class='ee-toggle'></label><ul><li><span class='ee-k'>0:</span><span class='ee-v'>-70.83522842997472</span></li><li><span class='ee-k'>1:</span><span class='ee-v'>-13.898057014077578</span></li></ul></li><li><label class='ee-shut'>1417: [-70.83495089370699, -13.898059100558557]<input type='checkbox' class='ee-toggle'></label><ul><li><span class='ee-k'>0:</span><span class='ee-v'>-70.83495089370699</span></li><li><span class='ee-k'>1:</span><span class='ee-v'>-13.898059100558557</span></li></ul></li><li><label class='ee-shut'>1418: [-70.83495302941564, -13.89833022281024]<input type='checkbox' class='ee-toggle'></label><ul><li><span class='ee-k'>0:</span><span class='ee-v'>-70.83495302941564</span></li><li><span class='ee-k'>1:</span><span class='ee-v'>-13.89833022281024</span></li></ul></li><li><label class='ee-shut'>1419: [-70.83467549277961, -13.898332309021722]<input type='checkbox' class='ee-toggle'></label><ul><li><span class='ee-k'>0:</span><span class='ee-v'>-70.83467549277961</span></li><li><span class='ee-k'>1:</span><span class='ee-v'>-13.898332309021722</span></li></ul></li><li><label class='ee-shut'>1420: [-70.83467976368487, -13.898874553578985]<input type='checkbox' class='ee-toggle'></label><ul><li><span class='ee-k'>0:</span><span class='ee-v'>-70.83467976368487</span></li><li><span class='ee-k'>1:</span><span class='ee-v'>-13.898874553578985</span></li></ul></li><li><label class='ee-shut'>1421: [-70.83440222635714, -13.89887663956589]<input type='checkbox' class='ee-toggle'></label><ul><li><span class='ee-k'>0:</span><span class='ee-v'>-70.83440222635714</span></li><li><span class='ee-k'>1:</span><span class='ee-v'>-13.89887663956589</span></li></ul></li><li><label class='ee-shut'>1422: [-70.83440009120544, -13.898605517242341]<input type='checkbox' class='ee-toggle'></label><ul><li><span class='ee-k'>0:</span><span class='ee-v'>-70.83440009120544</span></li><li><span class='ee-k'>1:</span><span class='ee-v'>-13.898605517242341</span></li></ul></li><li><label class='ee-shut'>1423: [-70.83412255415618, -13.898607602869921]<input type='checkbox' class='ee-toggle'></label><ul><li><span class='ee-k'>0:</span><span class='ee-v'>-70.83412255415618</span></li><li><span class='ee-k'>1:</span><span class='ee-v'>-13.898607602869921</span></li></ul></li><li><label class='ee-shut'>1424: [-70.83411828463431, -13.898065358124011]<input type='checkbox' class='ee-toggle'></label><ul><li><span class='ee-k'>0:</span><span class='ee-v'>-70.83411828463431</span></li><li><span class='ee-k'>1:</span><span class='ee-v'>-13.898065358124011</span></li></ul></li><li><label class='ee-shut'>1425: [-70.83384074817795, -13.898067443347347]<input type='checkbox' class='ee-toggle'></label><ul><li><span class='ee-k'>0:</span><span class='ee-v'>-70.83384074817795</span></li><li><span class='ee-k'>1:</span><span class='ee-v'>-13.898067443347347</span></li></ul></li><li><label class='ee-shut'>1426: [-70.83383861380777, -13.897796320924986]<input type='checkbox' class='ee-toggle'></label><ul><li><span class='ee-k'>0:</span><span class='ee-v'>-70.83383861380777</span></li><li><span class='ee-k'>1:</span><span class='ee-v'>-13.897796320924986</span></li></ul></li><li><label class='ee-shut'>1427: [-70.83356107763886, -13.897798405788995]<input type='checkbox' class='ee-toggle'></label><ul><li><span class='ee-k'>0:</span><span class='ee-v'>-70.83356107763886</span></li><li><span class='ee-k'>1:</span><span class='ee-v'>-13.897798405788995</span></li></ul></li><li><label class='ee-shut'>1428: [-70.83355894363702, -13.897527283321716]<input type='checkbox' class='ee-toggle'></label><ul><li><span class='ee-k'>0:</span><span class='ee-v'>-70.83355894363702</span></li><li><span class='ee-k'>1:</span><span class='ee-v'>-13.897527283321716</span></li></ul></li><li><label class='ee-shut'>1429: [-70.83328140773759, -13.897529367826401]<input type='checkbox' class='ee-toggle'></label><ul><li><span class='ee-k'>0:</span><span class='ee-v'>-70.83328140773759</span></li><li><span class='ee-k'>1:</span><span class='ee-v'>-13.897529367826401</span></li></ul></li><li><label class='ee-shut'>1430: [-70.8332771405154, -13.896987122784047]<input type='checkbox' class='ee-toggle'></label><ul><li><span class='ee-k'>0:</span><span class='ee-v'>-70.8332771405154</span></li><li><span class='ee-k'>1:</span><span class='ee-v'>-13.896987122784047</span></li></ul></li><li><label class='ee-shut'>1431: [-70.8327220698754, -13.896991290688488]<input type='checkbox' class='ee-toggle'></label><ul><li><span class='ee-k'>0:</span><span class='ee-v'>-70.8327220698754</span></li><li><span class='ee-k'>1:</span><span class='ee-v'>-13.896991290688488</span></li></ul></li><li><label class='ee-shut'>1432: [-70.83272633580401, -13.897533535901522]<input type='checkbox' class='ee-toggle'></label><ul><li><span class='ee-k'>0:</span><span class='ee-v'>-70.83272633580401</span></li><li><span class='ee-k'>1:</span><span class='ee-v'>-13.897533535901522</span></li></ul></li><li><label class='ee-shut'>1433: [-70.83244879977883, -13.897535619462975]<input type='checkbox' class='ee-toggle'></label><ul><li><span class='ee-k'>0:</span><span class='ee-v'>-70.83244879977883</span></li><li><span class='ee-k'>1:</span><span class='ee-v'>-13.897535619462975</span></li></ul></li><li><label class='ee-shut'>1434: [-70.8324530652493, -13.898077864738891]<input type='checkbox' class='ee-toggle'></label><ul><li><span class='ee-k'>0:</span><span class='ee-v'>-70.8324530652493</span></li><li><span class='ee-k'>1:</span><span class='ee-v'>-13.898077864738891</span></li></ul></li><li><label class='ee-shut'>1435: [-70.83217552852342, -13.898079948075765]<input type='checkbox' class='ee-toggle'></label><ul><li><span class='ee-k'>0:</span><span class='ee-v'>-70.83217552852342</span></li><li><span class='ee-k'>1:</span><span class='ee-v'>-13.898079948075765</span></li></ul></li><li><label class='ee-shut'>1436: [-70.83217766099814, -13.898351070740672]<input type='checkbox' class='ee-toggle'></label><ul><li><span class='ee-k'>0:</span><span class='ee-v'>-70.83217766099814</span></li><li><span class='ee-k'>1:</span><span class='ee-v'>-13.898351070740672</span></li></ul></li><li><label class='ee-shut'>1437: [-70.8324551980474, -13.898348987367866]<input type='checkbox' class='ee-toggle'></label><ul><li><span class='ee-k'>0:</span><span class='ee-v'>-70.8324551980474</span></li><li><span class='ee-k'>1:</span><span class='ee-v'>-13.898348987367866</span></li></ul></li><li><label class='ee-shut'>1438: [-70.83245733089942, -13.898620109987856]<input type='checkbox' class='ee-toggle'></label><ul><li><span class='ee-k'>0:</span><span class='ee-v'>-70.83245733089942</span></li><li><span class='ee-k'>1:</span><span class='ee-v'>-13.898620109987856</span></li></ul></li><li><label class='ee-shut'>1439: [-70.83134718114829, -13.898628441772285]<input type='checkbox' class='ee-toggle'></label><ul><li><span class='ee-k'>0:</span><span class='ee-v'>-70.83134718114829</span></li><li><span class='ee-k'>1:</span><span class='ee-v'>-13.898628441772285</span></li></ul></li><li><label class='ee-shut'>1440: [-70.83135357610209, -13.899441810108367]<input type='checkbox' class='ee-toggle'></label><ul><li><span class='ee-k'>0:</span><span class='ee-v'>-70.83135357610209</span></li><li><span class='ee-k'>1:</span><span class='ee-v'>-13.899441810108367</span></li></ul></li><li><label class='ee-shut'>1441: [-70.83079849901218, -13.899445974356665]<input type='checkbox' class='ee-toggle'></label><ul><li><span class='ee-k'>0:</span><span class='ee-v'>-70.83079849901218</span></li><li><span class='ee-k'>1:</span><span class='ee-v'>-13.899445974356665</span></li></ul></li><li><label class='ee-shut'>1442: [-70.83079636796577, -13.899174851503112]<input type='checkbox' class='ee-toggle'></label><ul><li><span class='ee-k'>0:</span><span class='ee-v'>-70.83079636796577</span></li><li><span class='ee-k'>1:</span><span class='ee-v'>-13.899174851503112</span></li></ul></li><li><label class='ee-shut'>1443: [-70.82996375295524, -13.899181095387224]<input type='checkbox' class='ee-toggle'></label><ul><li><span class='ee-k'>0:</span><span class='ee-v'>-70.82996375295524</span></li><li><span class='ee-k'>1:</span><span class='ee-v'>-13.899181095387224</span></li></ul></li><li><label class='ee-shut'>1444: [-70.82996162292393, -13.898909972398924]<input type='checkbox' class='ee-toggle'></label><ul><li><span class='ee-k'>0:</span><span class='ee-v'>-70.82996162292393</span></li><li><span class='ee-k'>1:</span><span class='ee-v'>-13.898909972398924</span></li></ul></li><li><label class='ee-shut'>1445: [-70.82968408481466, -13.898912053022885]<input type='checkbox' class='ee-toggle'></label><ul><li><span class='ee-k'>0:</span><span class='ee-v'>-70.82968408481466</span></li><li><span class='ee-k'>1:</span><span class='ee-v'>-13.898912053022885</span></li></ul></li><li><label class='ee-shut'>1446: [-70.82968621453155, -13.899183176056102]<input type='checkbox' class='ee-toggle'></label><ul><li><span class='ee-k'>0:</span><span class='ee-v'>-70.82968621453155</span></li><li><span class='ee-k'>1:</span><span class='ee-v'>-13.899183176056102</span></li></ul></li><li><label class='ee-shut'>1447: [-70.82913113754046, -13.899187336441644]<input type='checkbox' class='ee-toggle'></label><ul><li><span class='ee-k'>0:</span><span class='ee-v'>-70.82913113754046</span></li><li><span class='ee-k'>1:</span><span class='ee-v'>-13.899187336441644</span></li></ul></li><li><label class='ee-shut'>1448: [-70.82913326665548, -13.899458459546725]<input type='checkbox' class='ee-toggle'></label><ul><li><span class='ee-k'>0:</span><span class='ee-v'>-70.82913326665548</span></li><li><span class='ee-k'>1:</span><span class='ee-v'>-13.899458459546725</span></li></ul></li><li><label class='ee-shut'>1449: [-70.82857818883792, -13.899462618755473]<input type='checkbox' class='ee-toggle'></label><ul><li><span class='ee-k'>0:</span><span class='ee-v'>-70.82857818883792</span></li><li><span class='ee-k'>1:</span><span class='ee-v'>-13.899462618755473</span></li></ul></li><li><label class='ee-shut'>1450: [-70.82857393194638, -13.898920372365648]<input type='checkbox' class='ee-toggle'></label><ul><li><span class='ee-k'>0:</span><span class='ee-v'>-70.82857393194638</span></li><li><span class='ee-k'>1:</span><span class='ee-v'>-13.898920372365648</span></li></ul></li><li><label class='ee-shut'>1451: [-70.82801885523375, -13.898924530146076]<input type='checkbox' class='ee-toggle'></label><ul><li><span class='ee-k'>0:</span><span class='ee-v'>-70.82801885523375</span></li><li><span class='ee-k'>1:</span><span class='ee-v'>-13.898924530146076</span></li></ul></li><li><label class='ee-shut'>1452: [-70.82802098301927, -13.89919565343082]<input type='checkbox' class='ee-toggle'></label><ul><li><span class='ee-k'>0:</span><span class='ee-v'>-70.82802098301927</span></li><li><span class='ee-k'>1:</span><span class='ee-v'>-13.89919565343082</span></li></ul></li><li><label class='ee-shut'>1453: [-70.82774344427219, -13.899197731889842]<input type='checkbox' class='ee-toggle'></label><ul><li><span class='ee-k'>0:</span><span class='ee-v'>-70.82774344427219</span></li><li><span class='ee-k'>1:</span><span class='ee-v'>-13.899197731889842</span></li></ul></li><li><label class='ee-shut'>1454: [-70.8277476993222, -13.899739978522213]<input type='checkbox' class='ee-toggle'></label><ul><li><span class='ee-k'>0:</span><span class='ee-v'>-70.8277476993222</span></li><li><span class='ee-k'>1:</span><span class='ee-v'>-13.899739978522213</span></li></ul></li><li><label class='ee-shut'>1455: [-70.82747015988342, -13.899742056747675]<input type='checkbox' class='ee-toggle'></label><ul><li><span class='ee-k'>0:</span><span class='ee-v'>-70.82747015988342</span></li><li><span class='ee-k'>1:</span><span class='ee-v'>-13.899742056747675</span></li></ul></li><li><label class='ee-shut'>1456: [-70.8274722871569, -13.900013180095302]<input type='checkbox' class='ee-toggle'></label><ul><li><span class='ee-k'>0:</span><span class='ee-v'>-70.8274722871569</span></li><li><span class='ee-k'>1:</span><span class='ee-v'>-13.900013180095302</span></li></ul></li><li><label class='ee-shut'>1457: [-70.82719474734981, -13.900015258051267]<input type='checkbox' class='ee-toggle'></label><ul><li><span class='ee-k'>0:</span><span class='ee-v'>-70.82719474734981</span></li><li><span class='ee-k'>1:</span><span class='ee-v'>-13.900015258051267</span></li></ul></li><li><label class='ee-shut'>1458: [-70.82720112846954, -13.900828628192963]<input type='checkbox' class='ee-toggle'></label><ul><li><span class='ee-k'>0:</span><span class='ee-v'>-70.82720112846954</span></li><li><span class='ee-k'>1:</span><span class='ee-v'>-13.900828628192963</span></li></ul></li><li><label class='ee-shut'>1459: [-70.82775620997019, -13.900824471715092]<input type='checkbox' class='ee-toggle'></label><ul><li><span class='ee-k'>0:</span><span class='ee-v'>-70.82775620997019</span></li><li><span class='ee-k'>1:</span><span class='ee-v'>-13.900824471715092</span></li></ul></li><li><label class='ee-shut'>1460: [-70.82776046556816, -13.901366718266615]<input type='checkbox' class='ee-toggle'></label><ul><li><span class='ee-k'>0:</span><span class='ee-v'>-70.82776046556816</span></li><li><span class='ee-k'>1:</span><span class='ee-v'>-13.901366718266615</span></li></ul></li><li><label class='ee-shut'>1461: [-70.82831554817373, -13.901362560360424]<input type='checkbox' class='ee-toggle'></label><ul><li><span class='ee-k'>0:</span><span class='ee-v'>-70.82831554817373</span></li><li><span class='ee-k'>1:</span><span class='ee-v'>-13.901362560360424</span></li></ul></li><li><label class='ee-shut'>1462: [-70.82831767668688, -13.901633683546354]<input type='checkbox' class='ee-toggle'></label><ul><li><span class='ee-k'>0:</span><span class='ee-v'>-70.82831767668688</span></li><li><span class='ee-k'>1:</span><span class='ee-v'>-13.901633683546354</span></li></ul></li><li><label class='ee-shut'>1463: [-70.82915030122854, -13.901627444189751]<input type='checkbox' class='ee-toggle'></label><ul><li><span class='ee-k'>0:</span><span class='ee-v'>-70.82915030122854</span></li><li><span class='ee-k'>1:</span><span class='ee-v'>-13.901627444189751</span></li></ul></li><li><label class='ee-shut'>1464: [-70.82914817174522, -13.901356321138568]<input type='checkbox' class='ee-toggle'></label><ul><li><span class='ee-k'>0:</span><span class='ee-v'>-70.82914817174522</span></li><li><span class='ee-k'>1:</span><span class='ee-v'>-13.901356321138568</span></li></ul></li><li><label class='ee-shut'>1465: [-70.82942571284588, -13.901354240766134]<input type='checkbox' class='ee-toggle'></label><ul><li><span class='ee-k'>0:</span><span class='ee-v'>-70.82942571284588</span></li><li><span class='ee-k'>1:</span><span class='ee-v'>-13.901354240766134</span></li></ul></li><li><label class='ee-shut'>1466: [-70.82942358308406, -13.9010831177419]<input type='checkbox' class='ee-toggle'></label><ul><li><span class='ee-k'>0:</span><span class='ee-v'>-70.82942358308406</span></li><li><span class='ee-k'>1:</span><span class='ee-v'>-13.9010831177419</span></li></ul></li><li><label class='ee-shut'>1467: [-70.8291460423068, -13.901085198069419]<input type='checkbox' class='ee-toggle'></label><ul><li><span class='ee-k'>0:</span><span class='ee-v'>-70.8291460423068</span></li><li><span class='ee-k'>1:</span><span class='ee-v'>-13.901085198069419</span></li></ul></li><li><label class='ee-shut'>1468: [-70.82914391292228, -13.90081407500027]<input type='checkbox' class='ee-toggle'></label><ul><li><span class='ee-k'>0:</span><span class='ee-v'>-70.82914391292228</span></li><li><span class='ee-k'>1:</span><span class='ee-v'>-13.90081407500027</span></li></ul></li><li><label class='ee-shut'>1469: [-70.82969899378512, -13.90080991411167]<input type='checkbox' class='ee-toggle'></label><ul><li><span class='ee-k'>0:</span><span class='ee-v'>-70.82969899378512</span></li><li><span class='ee-k'>1:</span><span class='ee-v'>-13.90080991411167</span></li></ul></li><li><label class='ee-shut'>1470: [-70.82969686378975, -13.900538791114387]<input type='checkbox' class='ee-toggle'></label><ul><li><span class='ee-k'>0:</span><span class='ee-v'>-70.82969686378975</span></li><li><span class='ee-k'>1:</span><span class='ee-v'>-13.900538791114387</span></li></ul></li><li><label class='ee-shut'>1471: [-70.8299744038304, -13.900536710238896]<input type='checkbox' class='ee-toggle'></label><ul><li><span class='ee-k'>0:</span><span class='ee-v'>-70.8299744038304</span></li><li><span class='ee-k'>1:</span><span class='ee-v'>-13.900536710238896</span></li></ul></li><li><label class='ee-shut'>1472: [-70.82997653414019, -13.900807833191266]<input type='checkbox' class='ee-toggle'></label><ul><li><span class='ee-k'>0:</span><span class='ee-v'>-70.82997653414019</span></li><li><span class='ee-k'>1:</span><span class='ee-v'>-13.900807833191266</span></li></ul></li><li><label class='ee-shut'>1473: [-70.8302540744593, -13.90080575195645]<input type='checkbox' class='ee-toggle'></label><ul><li><span class='ee-k'>0:</span><span class='ee-v'>-70.8302540744593</span></li><li><span class='ee-k'>1:</span><span class='ee-v'>-13.90080575195645</span></li></ul></li><li><label class='ee-shut'>1474: [-70.8302562051374, -13.901076874854917]<input type='checkbox' class='ee-toggle'></label><ul><li><span class='ee-k'>0:</span><span class='ee-v'>-70.8302562051374</span></li><li><span class='ee-k'>1:</span><span class='ee-v'>-13.901076874854917</span></li></ul></li><li><label class='ee-shut'>1475: [-70.82997866450386, -13.90107895613465]<input type='checkbox' class='ee-toggle'></label><ul><li><span class='ee-k'>0:</span><span class='ee-v'>-70.82997866450386</span></li><li><span class='ee-k'>1:</span><span class='ee-v'>-13.90107895613465</span></li></ul></li><li><label class='ee-shut'>1476: [-70.829982925348, -13.901621202003454]<input type='checkbox' class='ee-toggle'></label><ul><li><span class='ee-k'>0:</span><span class='ee-v'>-70.829982925348</span></li><li><span class='ee-k'>1:</span><span class='ee-v'>-13.901621202003454</span></li></ul></li><li><label class='ee-shut'>1477: [-70.83026046663731, -13.901619120642874]<input type='checkbox' class='ee-toggle'></label><ul><li><span class='ee-k'>0:</span><span class='ee-v'>-70.83026046663731</span></li><li><span class='ee-k'>1:</span><span class='ee-v'>-13.901619120642874</span></li></ul></li><li><label class='ee-shut'>1478: [-70.83026259745014, -13.901890243523376]<input type='checkbox' class='ee-toggle'></label><ul><li><span class='ee-k'>0:</span><span class='ee-v'>-70.83026259745014</span></li><li><span class='ee-k'>1:</span><span class='ee-v'>-13.901890243523376</span></li></ul></li><li><label class='ee-shut'>1479: [-70.83054013901793, -13.901888161812453]<input type='checkbox' class='ee-toggle'></label><ul><li><span class='ee-k'>0:</span><span class='ee-v'>-70.83054013901793</span></li><li><span class='ee-k'>1:</span><span class='ee-v'>-13.901888161812453</span></li></ul></li><li><label class='ee-shut'>1480: [-70.83054227019908, -13.90215928464804]<input type='checkbox' class='ee-toggle'></label><ul><li><span class='ee-k'>0:</span><span class='ee-v'>-70.83054227019908</span></li><li><span class='ee-k'>1:</span><span class='ee-v'>-13.90215928464804</span></li></ul></li><li><label class='ee-shut'>1481: [-70.83192997893633, -13.902148871116754]<input type='checkbox' class='ee-toggle'></label><ul><li><span class='ee-k'>0:</span><span class='ee-v'>-70.83192997893633</span></li><li><span class='ee-k'>1:</span><span class='ee-v'>-13.902148871116754</span></li></ul></li><li><label class='ee-shut'>1482: [-70.83193211177935, -13.902419993736746]<input type='checkbox' class='ee-toggle'></label><ul><li><span class='ee-k'>0:</span><span class='ee-v'>-70.83193211177935</span></li><li><span class='ee-k'>1:</span><span class='ee-v'>-13.902419993736746</span></li></ul></li><li><label class='ee-shut'>1483: [-70.83248719559765, -13.902415826029936]<input type='checkbox' class='ee-toggle'></label><ul><li><span class='ee-k'>0:</span><span class='ee-v'>-70.83248719559765</span></li><li><span class='ee-k'>1:</span><span class='ee-v'>-13.902415826029936</span></li></ul></li><li><label class='ee-shut'>1484: [-70.83249359634557, -13.903229193593466]<input type='checkbox' class='ee-toggle'></label><ul><li><span class='ee-k'>0:</span><span class='ee-v'>-70.83249359634557</span></li><li><span class='ee-k'>1:</span><span class='ee-v'>-13.903229193593466</span></li></ul></li><li><label class='ee-shut'>1485: [-70.83277113915304, -13.90322710914268]<input type='checkbox' class='ee-toggle'></label><ul><li><span class='ee-k'>0:</span><span class='ee-v'>-70.83277113915304</span></li><li><span class='ee-k'>1:</span><span class='ee-v'>-13.90322710914268</span></li></ul></li><li><label class='ee-shut'>1486: [-70.83277754127539, -13.904040476517565]<input type='checkbox' class='ee-toggle'></label><ul><li><span class='ee-k'>0:</span><span class='ee-v'>-70.83277754127539</span></li><li><span class='ee-k'>1:</span><span class='ee-v'>-13.904040476517565</span></li></ul></li><li><label class='ee-shut'>1487: [-70.83361017232984, -13.904034220892472]<input type='checkbox' class='ee-toggle'></label><ul><li><span class='ee-k'>0:</span><span class='ee-v'>-70.83361017232984</span></li><li><span class='ee-k'>1:</span><span class='ee-v'>-13.904034220892472</span></li></ul></li><li><label class='ee-shut'>1488: [-70.83361444257935, -13.904576465530583]<input type='checkbox' class='ee-toggle'></label><ul><li><span class='ee-k'>0:</span><span class='ee-v'>-70.83361444257935</span></li><li><span class='ee-k'>1:</span><span class='ee-v'>-13.904576465530583</span></li></ul></li><li><label class='ee-shut'>1489: [-70.83305935396405, -13.904580636426415]<input type='checkbox' class='ee-toggle'></label><ul><li><span class='ee-k'>0:</span><span class='ee-v'>-70.83305935396405</span></li><li><span class='ee-k'>1:</span><span class='ee-v'>-13.904580636426415</span></li></ul></li><li><label class='ee-shut'>1490: [-70.83306789243285, -13.905665125954165]<input type='checkbox' class='ee-toggle'></label><ul><li><span class='ee-k'>0:</span><span class='ee-v'>-70.83306789243285</span></li><li><span class='ee-k'>1:</span><span class='ee-v'>-13.905665125954165</span></li></ul></li><li><label class='ee-shut'>1491: [-70.83279034675977, -13.905667211105637]<input type='checkbox' class='ee-toggle'></label><ul><li><span class='ee-k'>0:</span><span class='ee-v'>-70.83279034675977</span></li><li><span class='ee-k'>1:</span><span class='ee-v'>-13.905667211105637</span></li></ul></li><li><label class='ee-shut'>1492: [-70.83279461562586, -13.906209455914428]<input type='checkbox' class='ee-toggle'></label><ul><li><span class='ee-k'>0:</span><span class='ee-v'>-70.83279461562586</span></li><li><span class='ee-k'>1:</span><span class='ee-v'>-13.906209455914428</span></li></ul></li><li><label class='ee-shut'>1493: [-70.83196197640572, -13.906215709715942]<input type='checkbox' class='ee-toggle'></label><ul><li><span class='ee-k'>0:</span><span class='ee-v'>-70.83196197640572</span></li><li><span class='ee-k'>1:</span><span class='ee-v'>-13.906215709715942</span></li></ul></li><li><label class='ee-shut'>1494: [-70.83195984292489, -13.905944587185783]<input type='checkbox' class='ee-toggle'></label><ul><li><span class='ee-k'>0:</span><span class='ee-v'>-70.83195984292489</span></li><li><span class='ee-k'>1:</span><span class='ee-v'>-13.905944587185783</span></li></ul></li><li><label class='ee-shut'>1495: [-70.83168229674875, -13.905946671115545]<input type='checkbox' class='ee-toggle'></label><ul><li><span class='ee-k'>0:</span><span class='ee-v'>-70.83168229674875</span></li><li><span class='ee-k'>1:</span><span class='ee-v'>-13.905946671115545</span></li></ul></li><li><label class='ee-shut'>1496: [-70.83168656311753, -13.90648891624773]<input type='checkbox' class='ee-toggle'></label><ul><li><span class='ee-k'>0:</span><span class='ee-v'>-70.83168656311753</span></li><li><span class='ee-k'>1:</span><span class='ee-v'>-13.90648891624773</span></li></ul></li><li><label class='ee-shut'>1497: [-70.83085392238821, -13.9064951663931]<input type='checkbox' class='ee-toggle'></label><ul><li><span class='ee-k'>0:</span><span class='ee-v'>-70.83085392238821</span></li><li><span class='ee-k'>1:</span><span class='ee-v'>-13.9064951663931</span></li></ul></li><li><label class='ee-shut'>1498: [-70.83085179014707, -13.906224043701243]<input type='checkbox' class='ee-toggle'></label><ul><li><span class='ee-k'>0:</span><span class='ee-v'>-70.83085179014707</span></li><li><span class='ee-k'>1:</span><span class='ee-v'>-13.906224043701243</span></li></ul></li><li><label class='ee-shut'>1499: [-70.82946405629292, -13.906234454088425]<input type='checkbox' class='ee-toggle'></label><ul><li><span class='ee-k'>0:</span><span class='ee-v'>-70.82946405629292</span></li><li><span class='ee-k'>1:</span><span class='ee-v'>-13.906234454088425</span></li></ul></li><li><label class='ee-shut'>1500: [-70.82946192571364, -13.905963331180972]<input type='checkbox' class='ee-toggle'></label><ul><li><span class='ee-k'>0:</span><span class='ee-v'>-70.82946192571364</span></li><li><span class='ee-k'>1:</span><span class='ee-v'>-13.905963331180972</span></li></ul></li><li><label class='ee-shut'>1501: [-70.82890683249897, -13.905967493039752]<input type='checkbox' class='ee-toggle'></label><ul><li><span class='ee-k'>0:</span><span class='ee-v'>-70.82890683249897</span></li><li><span class='ee-k'>1:</span><span class='ee-v'>-13.905967493039752</span></li></ul></li><li><label class='ee-shut'>1502: [-70.82890896243146, -13.906238616037035]<input type='checkbox' class='ee-toggle'></label><ul><li><span class='ee-k'>0:</span><span class='ee-v'>-70.82890896243146</span></li><li><span class='ee-k'>1:</span><span class='ee-v'>-13.906238616037035</span></li></ul></li><li><label class='ee-shut'>1503: [-70.82835386839034, -13.90624277671902]<input type='checkbox' class='ee-toggle'></label><ul><li><span class='ee-k'>0:</span><span class='ee-v'>-70.82835386839034</span></li><li><span class='ee-k'>1:</span><span class='ee-v'>-13.90624277671902</span></li></ul></li><li><label class='ee-shut'>1504: [-70.82835599772096, -13.90651389978817]<input type='checkbox' class='ee-toggle'></label><ul><li><span class='ee-k'>0:</span><span class='ee-v'>-70.82835599772096</span></li><li><span class='ee-k'>1:</span><span class='ee-v'>-13.90651389978817</span></li></ul></li><li><label class='ee-shut'>1505: [-70.82807845031412, -13.906515979702464]<input type='checkbox' class='ee-toggle'></label><ul><li><span class='ee-k'>0:</span><span class='ee-v'>-70.82807845031412</span></li><li><span class='ee-k'>1:</span><span class='ee-v'>-13.906515979702464</span></li></ul></li><li><label class='ee-shut'>1506: [-70.82808057936626, -13.906787102807545]<input type='checkbox' class='ee-toggle'></label><ul><li><span class='ee-k'>0:</span><span class='ee-v'>-70.82808057936626</span></li><li><span class='ee-k'>1:</span><span class='ee-v'>-13.906787102807545</span></li></ul></li><li><label class='ee-shut'>1507: [-70.82780303159112, -13.90678918244336]<input type='checkbox' class='ee-toggle'></label><ul><li><span class='ee-k'>0:</span><span class='ee-v'>-70.82780303159112</span></li><li><span class='ee-k'>1:</span><span class='ee-v'>-13.90678918244336</span></li></ul></li><li><label class='ee-shut'>1508: [-70.82780516036478, -13.907060305584375]<input type='checkbox' class='ee-toggle'></label><ul><li><span class='ee-k'>0:</span><span class='ee-v'>-70.82780516036478</span></li><li><span class='ee-k'>1:</span><span class='ee-v'>-13.907060305584375</span></li></ul></li><li><label class='ee-shut'>1509: [-70.82697251578169, -13.907066542740106]<input type='checkbox' class='ee-toggle'></label><ul><li><span class='ee-k'>0:</span><span class='ee-v'>-70.82697251578169</span></li><li><span class='ee-k'>1:</span><span class='ee-v'>-13.907066542740106</span></li></ul></li><li><label class='ee-shut'>1510: [-70.82697464363908, -13.907337665997902]<input type='checkbox' class='ee-toggle'></label><ul><li><span class='ee-k'>0:</span><span class='ee-v'>-70.82697464363908</span></li><li><span class='ee-k'>1:</span><span class='ee-v'>-13.907337665997902</span></li></ul></li><li><label class='ee-shut'>1511: [-70.82669709502849, -13.907339744465908]<input type='checkbox' class='ee-toggle'></label><ul><li><span class='ee-k'>0:</span><span class='ee-v'>-70.82669709502849</span></li><li><span class='ee-k'>1:</span><span class='ee-v'>-13.907339744465908</span></li></ul></li><li><label class='ee-shut'>1512: [-70.8266992226074, -13.907610867759635]<input type='checkbox' class='ee-toggle'></label><ul><li><span class='ee-k'>0:</span><span class='ee-v'>-70.8266992226074</span></li><li><span class='ee-k'>1:</span><span class='ee-v'>-13.907610867759635</span></li></ul></li><li><label class='ee-shut'>1513: [-70.82642167362852, -13.907612945949163]<input type='checkbox' class='ee-toggle'></label><ul><li><span class='ee-k'>0:</span><span class='ee-v'>-70.82642167362852</span></li><li><span class='ee-k'>1:</span><span class='ee-v'>-13.907612945949163</span></li></ul></li><li><label class='ee-shut'>1514: [-70.82643231059775, -13.90896856255255]<input type='checkbox' class='ee-toggle'></label><ul><li><span class='ee-k'>0:</span><span class='ee-v'>-70.82643231059775</span></li><li><span class='ee-k'>1:</span><span class='ee-v'>-13.90896856255255</span></li></ul></li><li><label class='ee-shut'>1515: [-70.82615475996597, -13.90897064063428]<input type='checkbox' class='ee-toggle'></label><ul><li><span class='ee-k'>0:</span><span class='ee-v'>-70.82615475996597</span></li><li><span class='ee-k'>1:</span><span class='ee-v'>-13.90897064063428</span></li></ul></li><li><label class='ee-shut'>1516: [-70.82616965137437, -13.910868503914955]<input type='checkbox' class='ee-toggle'></label><ul><li><span class='ee-k'>0:</span><span class='ee-v'>-70.82616965137437</span></li><li><span class='ee-k'>1:</span><span class='ee-v'>-13.910868503914955</span></li></ul></li><li><label class='ee-shut'>1517: [-70.82589209843391, -13.910870581978719]<input type='checkbox' class='ee-toggle'></label><ul><li><span class='ee-k'>0:</span><span class='ee-v'>-70.82589209843391</span></li><li><span class='ee-k'>1:</span><span class='ee-v'>-13.910870581978719</span></li></ul></li><li><label class='ee-shut'>1518: [-70.82589422563552, -13.911141705317362]<input type='checkbox' class='ee-toggle'></label><ul><li><span class='ee-k'>0:</span><span class='ee-v'>-70.82589422563552</span></li><li><span class='ee-k'>1:</span><span class='ee-v'>-13.911141705317362</span></li></ul></li><li><label class='ee-shut'>1519: [-70.82617177890835, -13.911139627217667]<input type='checkbox' class='ee-toggle'></label><ul><li><span class='ee-k'>0:</span><span class='ee-v'>-70.82617177890835</span></li><li><span class='ee-k'>1:</span><span class='ee-v'>-13.911139627217667</span></li></ul></li><li><label class='ee-shut'>1520: [-70.82617816176185, -13.911952997080885]<input type='checkbox' class='ee-toggle'></label><ul><li><span class='ee-k'>0:</span><span class='ee-v'>-70.82617816176185</span></li><li><span class='ee-k'>1:</span><span class='ee-v'>-13.911952997080885</span></li></ul></li><li><label class='ee-shut'>1521: [-70.82645571595096, -13.91195091853203]<input type='checkbox' class='ee-toggle'></label><ul><li><span class='ee-k'>0:</span><span class='ee-v'>-70.82645571595096</span></li><li><span class='ee-k'>1:</span><span class='ee-v'>-13.91195091853203</span></li></ul></li><li><label class='ee-shut'>1522: [-70.82645784397901, -13.912222041762876]<input type='checkbox' class='ee-toggle'></label><ul><li><span class='ee-k'>0:</span><span class='ee-v'>-70.82645784397901</span></li><li><span class='ee-k'>1:</span><span class='ee-v'>-13.912222041762876</span></li></ul></li><li><label class='ee-shut'>1523: [-70.8270129528693, -13.91221788364109]<input type='checkbox' class='ee-toggle'></label><ul><li><span class='ee-k'>0:</span><span class='ee-v'>-70.8270129528693</span></li><li><span class='ee-k'>1:</span><span class='ee-v'>-13.91221788364109</span></li></ul></li><li><label class='ee-shut'>1524: [-70.82700869556452, -13.911675637341094]<input type='checkbox' class='ee-toggle'></label><ul><li><span class='ee-k'>0:</span><span class='ee-v'>-70.82700869556452</span></li><li><span class='ee-k'>1:</span><span class='ee-v'>-13.911675637341094</span></li></ul></li><li><label class='ee-shut'>1525: [-70.8272862492865, -13.911673557884942]<input type='checkbox' class='ee-toggle'></label><ul><li><span class='ee-k'>0:</span><span class='ee-v'>-70.8272862492865</span></li><li><span class='ee-k'>1:</span><span class='ee-v'>-13.911673557884942</span></li></ul></li><li><label class='ee-shut'>1526: [-70.82728837824881, -13.911944680999007]<input type='checkbox' class='ee-toggle'></label><ul><li><span class='ee-k'>0:</span><span class='ee-v'>-70.82728837824881</span></li><li><span class='ee-k'>1:</span><span class='ee-v'>-13.911944680999007</span></li></ul></li><li><label class='ee-shut'>1527: [-70.82756593225827, -13.91194260119251]<input type='checkbox' class='ee-toggle'></label><ul><li><span class='ee-k'>0:</span><span class='ee-v'>-70.82756593225827</span></li><li><span class='ee-k'>1:</span><span class='ee-v'>-13.91194260119251</span></li></ul></li><li><label class='ee-shut'>1528: [-70.8275680615799, -13.912213724252677]<input type='checkbox' class='ee-toggle'></label><ul><li><span class='ee-k'>0:</span><span class='ee-v'>-70.8275680615799</span></li><li><span class='ee-k'>1:</span><span class='ee-v'>-13.912213724252677</span></li></ul></li><li><label class='ee-shut'>1529: [-70.82729050724706, -13.912215804104088]<input type='checkbox' class='ee-toggle'></label><ul><li><span class='ee-k'>0:</span><span class='ee-v'>-70.82729050724706</span></li><li><span class='ee-k'>1:</span><span class='ee-v'>-13.912215804104088</span></li></ul></li><li><label class='ee-shut'>1530: [-70.82729476538726, -13.912758050296286]<input type='checkbox' class='ee-toggle'></label><ul><li><span class='ee-k'>0:</span><span class='ee-v'>-70.82729476538726</span></li><li><span class='ee-k'>1:</span><span class='ee-v'>-13.912758050296286</span></li></ul></li><li><label class='ee-shut'>1531: [-70.8275723203669, -13.912755970364026]<input type='checkbox' class='ee-toggle'></label><ul><li><span class='ee-k'>0:</span><span class='ee-v'>-70.8275723203669</span></li><li><span class='ee-k'>1:</span><span class='ee-v'>-13.912755970364026</span></li></ul></li><li><label class='ee-shut'>1532: [-70.82757444982327, -13.913027093406226]<input type='checkbox' class='ee-toggle'></label><ul><li><span class='ee-k'>0:</span><span class='ee-v'>-70.82757444982327</span></li><li><span class='ee-k'>1:</span><span class='ee-v'>-13.913027093406226</span></li></ul></li><li><label class='ee-shut'>1533: [-70.8278520050814, -13.913025013114641]<input type='checkbox' class='ee-toggle'></label><ul><li><span class='ee-k'>0:</span><span class='ee-v'>-70.8278520050814</span></li><li><span class='ee-k'>1:</span><span class='ee-v'>-13.913025013114641</span></li></ul></li><li><label class='ee-shut'>1534: [-70.82785413490608, -13.913296136111924]<input type='checkbox' class='ee-toggle'></label><ul><li><span class='ee-k'>0:</span><span class='ee-v'>-70.82785413490608</span></li><li><span class='ee-k'>1:</span><span class='ee-v'>-13.913296136111924</span></li></ul></li><li><label class='ee-shut'>1535: [-70.82813169044267, -13.913294055469997]<input type='checkbox' class='ee-toggle'></label><ul><li><span class='ee-k'>0:</span><span class='ee-v'>-70.82813169044267</span></li><li><span class='ee-k'>1:</span><span class='ee-v'>-13.913294055469997</span></li></ul></li><li><label class='ee-shut'>1536: [-70.82813382063567, -13.913565178413382]<input type='checkbox' class='ee-toggle'></label><ul><li><span class='ee-k'>0:</span><span class='ee-v'>-70.82813382063567</span></li><li><span class='ee-k'>1:</span><span class='ee-v'>-13.913565178413382</span></li></ul></li><li><label class='ee-shut'>1537: [-70.8286889322119, -13.91356101608748]<input type='checkbox' class='ee-toggle'></label><ul><li><span class='ee-k'>0:</span><span class='ee-v'>-70.8286889322119</span></li><li><span class='ee-k'>1:</span><span class='ee-v'>-13.91356101608748</span></li></ul></li><li><label class='ee-shut'>1538: [-70.82869106309661, -13.913832138941032]<input type='checkbox' class='ee-toggle'></label><ul><li><span class='ee-k'>0:</span><span class='ee-v'>-70.82869106309661</span></li><li><span class='ee-k'>1:</span><span class='ee-v'>-13.913832138941032</span></li></ul></li><li><label class='ee-shut'>1539: [-70.82896861913625, -13.913830057257059]<input type='checkbox' class='ee-toggle'></label><ul><li><span class='ee-k'>0:</span><span class='ee-v'>-70.82896861913625</span></li><li><span class='ee-k'>1:</span><span class='ee-v'>-13.913830057257059</span></li></ul></li><li><label class='ee-shut'>1540: [-70.82897288170516, -13.914372302874334]<input type='checkbox' class='ee-toggle'></label><ul><li><span class='ee-k'>0:</span><span class='ee-v'>-70.82897288170516</span></li><li><span class='ee-k'>1:</span><span class='ee-v'>-13.914372302874334</span></li></ul></li><li><label class='ee-shut'>1541: [-70.8295279949343, -13.914368138401457]<input type='checkbox' class='ee-toggle'></label><ul><li><span class='ee-k'>0:</span><span class='ee-v'>-70.8295279949343</span></li><li><span class='ee-k'>1:</span><span class='ee-v'>-13.914368138401457</span></li></ul></li><li><label class='ee-shut'>1542: [-70.82953012693291, -13.914639261111281]<input type='checkbox' class='ee-toggle'></label><ul><li><span class='ee-k'>0:</span><span class='ee-v'>-70.82953012693291</span></li><li><span class='ee-k'>1:</span><span class='ee-v'>-13.914639261111281</span></li></ul></li><li><label class='ee-shut'>1543: [-70.83036279741441, -13.914633011900158]<input type='checkbox' class='ee-toggle'></label><ul><li><span class='ee-k'>0:</span><span class='ee-v'>-70.83036279741441</span></li><li><span class='ee-k'>1:</span><span class='ee-v'>-13.914633011900158</span></li></ul></li><li><label class='ee-shut'>1544: [-70.83036493042812, -13.914904134484217]<input type='checkbox' class='ee-toggle'></label><ul><li><span class='ee-k'>0:</span><span class='ee-v'>-70.83036493042812</span></li><li><span class='ee-k'>1:</span><span class='ee-v'>-13.914904134484217</span></li></ul></li><li><label class='ee-shut'>1545: [-70.83064248748286, -13.914902050743102]<input type='checkbox' class='ee-toggle'></label><ul><li><span class='ee-k'>0:</span><span class='ee-v'>-70.83064248748286</span></li><li><span class='ee-k'>1:</span><span class='ee-v'>-13.914902050743102</span></li></ul></li><li><label class='ee-shut'>1546: [-70.83064462086489, -13.915173173273262]<input type='checkbox' class='ee-toggle'></label><ul><li><span class='ee-k'>0:</span><span class='ee-v'>-70.83064462086489</span></li><li><span class='ee-k'>1:</span><span class='ee-v'>-13.915173173273262</span></li></ul></li><li><label class='ee-shut'>1547: [-70.83175484992827, -13.915164834976046]<input type='checkbox' class='ee-toggle'></label><ul><li><span class='ee-k'>0:</span><span class='ee-v'>-70.83175484992827</span></li><li><span class='ee-k'>1:</span><span class='ee-v'>-13.915164834976046</span></li></ul></li><li><label class='ee-shut'>1548: [-70.83175271525268, -13.914893712616566]<input type='checkbox' class='ee-toggle'></label><ul><li><span class='ee-k'>0:</span><span class='ee-v'>-70.83175271525268</span></li><li><span class='ee-k'>1:</span><span class='ee-v'>-13.914893712616566</span></li></ul></li><li><label class='ee-shut'>1549: [-70.8323078288681, -13.914889541657853]<input type='checkbox' class='ee-toggle'></label><ul><li><span class='ee-k'>0:</span><span class='ee-v'>-70.8323078288681</span></li><li><span class='ee-k'>1:</span><span class='ee-v'>-13.914889541657853</span></li></ul></li><li><label class='ee-shut'>1550: [-70.83230569359961, -13.914618419379222]<input type='checkbox' class='ee-toggle'></label><ul><li><span class='ee-k'>0:</span><span class='ee-v'>-70.83230569359961</span></li><li><span class='ee-k'>1:</span><span class='ee-v'>-13.914618419379222</span></li></ul></li><li><label class='ee-shut'>1551: [-70.83258325000756, -13.914616333464183]<input type='checkbox' class='ee-toggle'></label><ul><li><span class='ee-k'>0:</span><span class='ee-v'>-70.83258325000756</span></li><li><span class='ee-k'>1:</span><span class='ee-v'>-13.914616333464183</span></li></ul></li><li><label class='ee-shut'>1552: [-70.83258111446061, -13.914345211221484]<input type='checkbox' class='ee-toggle'></label><ul><li><span class='ee-k'>0:</span><span class='ee-v'>-70.83258111446061</span></li><li><span class='ee-k'>1:</span><span class='ee-v'>-13.914345211221484</span></li></ul></li><li><label class='ee-shut'>1553: [-70.83452400582185, -13.914330601318147]<input type='checkbox' class='ee-toggle'></label><ul><li><span class='ee-k'>0:</span><span class='ee-v'>-70.83452400582185</span></li><li><span class='ee-k'>1:</span><span class='ee-v'>-13.914330601318147</span></li></ul></li><li><label class='ee-shut'>1554: [-70.83452614363256, -13.914601723273385]<input type='checkbox' class='ee-toggle'></label><ul><li><span class='ee-k'>0:</span><span class='ee-v'>-70.83452614363256</span></li><li><span class='ee-k'>1:</span><span class='ee-v'>-13.914601723273385</span></li></ul></li><li><label class='ee-shut'>1555: [-70.83480369968119, -13.91459963483408]<input type='checkbox' class='ee-toggle'></label><ul><li><span class='ee-k'>0:</span><span class='ee-v'>-70.83480369968119</span></li><li><span class='ee-k'>1:</span><span class='ee-v'>-13.91459963483408</span></li></ul></li><li><label class='ee-shut'>1556: [-70.83480583786022, -13.914870756744403]<input type='checkbox' class='ee-toggle'></label><ul><li><span class='ee-k'>0:</span><span class='ee-v'>-70.83480583786022</span></li><li><span class='ee-k'>1:</span><span class='ee-v'>-13.914870756744403</span></li></ul></li><li><label class='ee-shut'>1557: [-70.83536095046951, -13.914866578841712]<input type='checkbox' class='ee-toggle'></label><ul><li><span class='ee-k'>0:</span><span class='ee-v'>-70.83536095046951</span></li><li><span class='ee-k'>1:</span><span class='ee-v'>-13.914866578841712</span></li></ul></li><li><label class='ee-shut'>1558: [-70.83536308934023, -13.91513770065322]<input type='checkbox' class='ee-toggle'></label><ul><li><span class='ee-k'>0:</span><span class='ee-v'>-70.83536308934023</span></li><li><span class='ee-k'>1:</span><span class='ee-v'>-13.91513770065322</span></li></ul></li><li><label class='ee-shut'>1559: [-70.83564064589191, -13.915135611189836]<input type='checkbox' class='ee-toggle'></label><ul><li><span class='ee-k'>0:</span><span class='ee-v'>-70.83564064589191</span></li><li><span class='ee-k'>1:</span><span class='ee-v'>-13.915135611189836</span></li></ul></li><li><label class='ee-shut'>1560: [-70.83564278513096, -13.915406732956429]<input type='checkbox' class='ee-toggle'></label><ul><li><span class='ee-k'>0:</span><span class='ee-v'>-70.83564278513096</span></li><li><span class='ee-k'>1:</span><span class='ee-v'>-13.915406732956429</span></li></ul></li><li><label class='ee-shut'>1561: [-70.8359203419701, -13.915404643133717]<input type='checkbox' class='ee-toggle'></label><ul><li><span class='ee-k'>0:</span><span class='ee-v'>-70.8359203419701</span></li><li><span class='ee-k'>1:</span><span class='ee-v'>-13.915404643133717</span></li></ul></li><li><label class='ee-shut'>1562: [-70.83592676092688, -13.916218008262813]<input type='checkbox' class='ee-toggle'></label><ul><li><span class='ee-k'>0:</span><span class='ee-v'>-70.83592676092688</span></li><li><span class='ee-k'>1:</span><span class='ee-v'>-13.916218008262813</span></li></ul></li><li><label class='ee-shut'>1563: [-70.83620431869129, -13.916215917999928]<input type='checkbox' class='ee-toggle'></label><ul><li><span class='ee-k'>0:</span><span class='ee-v'>-70.83620431869129</span></li><li><span class='ee-k'>1:</span><span class='ee-v'>-13.916215917999928</span></li></ul></li><li><label class='ee-shut'>1564: [-70.83621715979386, -13.91784264782693]<input type='checkbox' class='ee-toggle'></label><ul><li><span class='ee-k'>0:</span><span class='ee-v'>-70.83621715979386</span></li><li><span class='ee-k'>1:</span><span class='ee-v'>-13.91784264782693</span></li></ul></li><li><label class='ee-shut'>1565: [-70.83566204035738, -13.91784682855033]<input type='checkbox' class='ee-toggle'></label><ul><li><span class='ee-k'>0:</span><span class='ee-v'>-70.83566204035738</span></li><li><span class='ee-k'>1:</span><span class='ee-v'>-13.91784682855033</span></li></ul></li><li><label class='ee-shut'>1566: [-70.83566418005455, -13.918117950245056]<input type='checkbox' class='ee-toggle'></label><ul><li><span class='ee-k'>0:</span><span class='ee-v'>-70.83566418005455</span></li><li><span class='ee-k'>1:</span><span class='ee-v'>-13.918117950245056</span></li></ul></li><li><label class='ee-shut'>1567: [-70.83538661994554, -13.918120040175564]<input type='checkbox' class='ee-toggle'></label><ul><li><span class='ee-k'>0:</span><span class='ee-v'>-70.83538661994554</span></li><li><span class='ee-k'>1:</span><span class='ee-v'>-13.918120040175564</span></li></ul></li><li><label class='ee-shut'>1568: [-70.83538875936424, -13.918391161915208]<input type='checkbox' class='ee-toggle'></label><ul><li><span class='ee-k'>0:</span><span class='ee-v'>-70.83538875936424</span></li><li><span class='ee-k'>1:</span><span class='ee-v'>-13.918391161915208</span></li></ul></li><li><label class='ee-shut'>1569: [-70.8351111988869, -13.918393251567238]<input type='checkbox' class='ee-toggle'></label><ul><li><span class='ee-k'>0:</span><span class='ee-v'>-70.8351111988869</span></li><li><span class='ee-k'>1:</span><span class='ee-v'>-13.918393251567238</span></li></ul></li><li><label class='ee-shut'>1570: [-70.83511333802713, -13.918664373342814]<input type='checkbox' class='ee-toggle'></label><ul><li><span class='ee-k'>0:</span><span class='ee-v'>-70.83511333802713</span></li><li><span class='ee-k'>1:</span><span class='ee-v'>-13.918664373342814</span></li></ul></li><li><label class='ee-shut'>1571: [-70.8348357771815, -13.91866646272535]<input type='checkbox' class='ee-toggle'></label><ul><li><span class='ee-k'>0:</span><span class='ee-v'>-70.8348357771815</span></li><li><span class='ee-k'>1:</span><span class='ee-v'>-13.91866646272535</span></li></ul></li><li><label class='ee-shut'>1572: [-70.83484005495887, -13.919208706339383]<input type='checkbox' class='ee-toggle'></label><ul><li><span class='ee-k'>0:</span><span class='ee-v'>-70.83484005495887</span></li><li><span class='ee-k'>1:</span><span class='ee-v'>-13.919208706339383</span></li></ul></li><li><label class='ee-shut'>1573: [-70.83456249342154, -13.919210795488356]<input type='checkbox' class='ee-toggle'></label><ul><li><span class='ee-k'>0:</span><span class='ee-v'>-70.83456249342154</span></li><li><span class='ee-k'>1:</span><span class='ee-v'>-13.919210795488356</span></li></ul></li><li><label class='ee-shut'>1574: [-70.83456463204972, -13.919481917326813]<input type='checkbox' class='ee-toggle'></label><ul><li><span class='ee-k'>0:</span><span class='ee-v'>-70.83456463204972</span></li><li><span class='ee-k'>1:</span><span class='ee-v'>-13.919481917326813</span></li></ul></li><li><label class='ee-shut'>1575: [-70.83428707014407, -13.919484006206293]<input type='checkbox' class='ee-toggle'></label><ul><li><span class='ee-k'>0:</span><span class='ee-v'>-70.83428707014407</span></li><li><span class='ee-k'>1:</span><span class='ee-v'>-13.919484006206293</span></li></ul></li><li><label class='ee-shut'>1576: [-70.83429562384832, -13.92056849366792]<input type='checkbox' class='ee-toggle'></label><ul><li><span class='ee-k'>0:</span><span class='ee-v'>-70.83429562384832</span></li><li><span class='ee-k'>1:</span><span class='ee-v'>-13.92056849366792</span></li></ul></li><li><label class='ee-shut'>1577: [-70.83540587638468, -13.92056013558082]<input type='checkbox' class='ee-toggle'></label><ul><li><span class='ee-k'>0:</span><span class='ee-v'>-70.83540587638468</span></li><li><span class='ee-k'>1:</span><span class='ee-v'>-13.92056013558082</span></li></ul></li><li><label class='ee-shut'>1578: [-70.83540373659767, -13.920289013895076]<input type='checkbox' class='ee-toggle'></label><ul><li><span class='ee-k'>0:</span><span class='ee-v'>-70.83540373659767</span></li><li><span class='ee-k'>1:</span><span class='ee-v'>-13.920289013895076</span></li></ul></li><li><label class='ee-shut'>1579: [-70.83595886193609, -13.920284833045912]<input type='checkbox' class='ee-toggle'></label><ul><li><span class='ee-k'>0:</span><span class='ee-v'>-70.83595886193609</span></li><li><span class='ee-k'>1:</span><span class='ee-v'>-13.920284833045912</span></li></ul></li><li><label class='ee-shut'>1580: [-70.83595672154722, -13.920013711432034]<input type='checkbox' class='ee-toggle'></label><ul><li><span class='ee-k'>0:</span><span class='ee-v'>-70.83595672154722</span></li><li><span class='ee-k'>1:</span><span class='ee-v'>-13.920013711432034</span></li></ul></li><li><label class='ee-shut'>1581: [-70.83762209454416, -13.92000116155429]<input type='checkbox' class='ee-toggle'></label><ul><li><span class='ee-k'>0:</span><span class='ee-v'>-70.83762209454416</span></li><li><span class='ee-k'>1:</span><span class='ee-v'>-13.92000116155429</span></li></ul></li><li><label class='ee-shut'>1582: [-70.83761995226882, -13.919730040200923]<input type='checkbox' class='ee-toggle'></label><ul><li><span class='ee-k'>0:</span><span class='ee-v'>-70.83761995226882</span></li><li><span class='ee-k'>1:</span><span class='ee-v'>-13.919730040200923</span></li></ul></li><li><label class='ee-shut'>1583: [-70.8387301987146, -13.919721667471283]<input type='checkbox' class='ee-toggle'></label><ul><li><span class='ee-k'>0:</span><span class='ee-v'>-70.8387301987146</span></li><li><span class='ee-k'>1:</span><span class='ee-v'>-13.919721667471283</span></li></ul></li><li><label class='ee-shut'>1584: [-70.8387280551906, -13.91945054627063]<input type='checkbox' class='ee-toggle'></label><ul><li><span class='ee-k'>0:</span><span class='ee-v'>-70.8387280551906</span></li><li><span class='ee-k'>1:</span><span class='ee-v'>-13.91945054627063</span></li></ul></li><li><label class='ee-shut'>1585: [-70.83928317749273, -13.919446358100197]<input type='checkbox' class='ee-toggle'></label><ul><li><span class='ee-k'>0:</span><span class='ee-v'>-70.83928317749273</span></li><li><span class='ee-k'>1:</span><span class='ee-v'>-13.919446358100197</span></li></ul></li><li><label class='ee-shut'>1586: [-70.83927888928591, -13.918904115851603]<input type='checkbox' class='ee-toggle'></label><ul><li><span class='ee-k'>0:</span><span class='ee-v'>-70.83927888928591</span></li><li><span class='ee-k'>1:</span><span class='ee-v'>-13.918904115851603</span></li></ul></li><li><label class='ee-shut'>1587: [-70.8395564497273, -13.918902021375619]<input type='checkbox' class='ee-toggle'></label><ul><li><span class='ee-k'>0:</span><span class='ee-v'>-70.8395564497273</span></li><li><span class='ee-k'>1:</span><span class='ee-v'>-13.918902021375619</span></li></ul></li><li><label class='ee-shut'>1588: [-70.83955430536786, -13.918630900291747]<input type='checkbox' class='ee-toggle'></label><ul><li><span class='ee-k'>0:</span><span class='ee-v'>-70.83955430536786</span></li><li><span class='ee-k'>1:</span><span class='ee-v'>-13.918630900291747</span></li></ul></li><li><label class='ee-shut'>1589: [-70.83983186543196, -13.918628805546268]<input type='checkbox' class='ee-toggle'></label><ul><li><span class='ee-k'>0:</span><span class='ee-v'>-70.83983186543196</span></li><li><span class='ee-k'>1:</span><span class='ee-v'>-13.918628805546268</span></li></ul></li><li><label class='ee-shut'>1590: [-70.83982972079406, -13.918357684489346]<input type='checkbox' class='ee-toggle'></label><ul><li><span class='ee-k'>0:</span><span class='ee-v'>-70.83982972079406</span></li><li><span class='ee-k'>1:</span><span class='ee-v'>-13.918357684489346</span></li></ul></li><li><label class='ee-shut'>1591: [-70.84121751883282, -13.91834720622546]<input type='checkbox' class='ee-toggle'></label><ul><li><span class='ee-k'>0:</span><span class='ee-v'>-70.84121751883282</span></li><li><span class='ee-k'>1:</span><span class='ee-v'>-13.91834720622546</span></li></ul></li><li><label class='ee-shut'>1592: [-70.8412196650877, -13.918618327066788]<input type='checkbox' class='ee-toggle'></label><ul><li><span class='ee-k'>0:</span><span class='ee-v'>-70.8412196650877</span></li><li><span class='ee-k'>1:</span><span class='ee-v'>-13.918618327066788</span></li></ul></li><li><label class='ee-shut'>1593: [-70.84149722487332, -13.918616230425865]<input type='checkbox' class='ee-toggle'></label><ul><li><span class='ee-k'>0:</span><span class='ee-v'>-70.84149722487332</span></li><li><span class='ee-k'>1:</span><span class='ee-v'>-13.918616230425865</span></li></ul></li><li><label class='ee-shut'>1594: [-70.84149937149651, -13.918887351213293]<input type='checkbox' class='ee-toggle'></label><ul><li><span class='ee-k'>0:</span><span class='ee-v'>-70.84149937149651</span></li><li><span class='ee-k'>1:</span><span class='ee-v'>-13.918887351213293</span></li></ul></li><li><label class='ee-shut'>1595: [-70.84177693156958, -13.918885254213043]<input type='checkbox' class='ee-toggle'></label><ul><li><span class='ee-k'>0:</span><span class='ee-v'>-70.84177693156958</span></li><li><span class='ee-k'>1:</span><span class='ee-v'>-13.918885254213043</span></li></ul></li><li><label class='ee-shut'>1596: [-70.84177907856109, -13.919156374955556]<input type='checkbox' class='ee-toggle'></label><ul><li><span class='ee-k'>0:</span><span class='ee-v'>-70.84177907856109</span></li><li><span class='ee-k'>1:</span><span class='ee-v'>-13.919156374955556</span></li></ul></li><li><label class='ee-shut'>1597: [-70.8415015181646, -13.919158472000722]<input type='checkbox' class='ee-toggle'></label><ul><li><span class='ee-k'>0:</span><span class='ee-v'>-70.8415015181646</span></li><li><span class='ee-k'>1:</span><span class='ee-v'>-13.919158472000722</span></li></ul></li><li><label class='ee-shut'>1598: [-70.84150366487762, -13.919429592779167]<input type='checkbox' class='ee-toggle'></label><ul><li><span class='ee-k'>0:</span><span class='ee-v'>-70.84150366487762</span></li><li><span class='ee-k'>1:</span><span class='ee-v'>-13.919429592779167</span></li></ul></li><li><label class='ee-shut'>1599: [-70.8417812255975, -13.919427495698068]<input type='checkbox' class='ee-toggle'></label><ul><li><span class='ee-k'>0:</span><span class='ee-v'>-70.8417812255975</span></li><li><span class='ee-k'>1:</span><span class='ee-v'>-13.919427495698068</span></li></ul></li><li><label class='ee-shut'>1600: [-70.84178337267882, -13.919698616422615]<input type='checkbox' class='ee-toggle'></label><ul><li><span class='ee-k'>0:</span><span class='ee-v'>-70.84178337267882</span></li><li><span class='ee-k'>1:</span><span class='ee-v'>-13.919698616422615</span></li></ul></li><li><label class='ee-shut'>1601: [-70.84261605551217, -13.919692323149128]<input type='checkbox' class='ee-toggle'></label><ul><li><span class='ee-k'>0:</span><span class='ee-v'>-70.84261605551217</span></li><li><span class='ee-k'>1:</span><span class='ee-v'>-13.919692323149128</span></li></ul></li><li><label class='ee-shut'>1602: [-70.84261820361758, -13.91996344374791]<input type='checkbox' class='ee-toggle'></label><ul><li><span class='ee-k'>0:</span><span class='ee-v'>-70.84261820361758</span></li><li><span class='ee-k'>1:</span><span class='ee-v'>-13.91996344374791</span></li></ul></li><li><label class='ee-shut'>1603: [-70.84234064238566, -13.919965541862071]<input type='checkbox' class='ee-toggle'></label><ul><li><span class='ee-k'>0:</span><span class='ee-v'>-70.84234064238566</span></li><li><span class='ee-k'>1:</span><span class='ee-v'>-13.919965541862071</span></li></ul></li><li><label class='ee-shut'>1604: [-70.84234708599222, -13.920778903739265]<input type='checkbox' class='ee-toggle'></label><ul><li><span class='ee-k'>0:</span><span class='ee-v'>-70.84234708599222</span></li><li><span class='ee-k'>1:</span><span class='ee-v'>-13.920778903739265</span></li></ul></li><li><label class='ee-shut'>1605: [-70.84206952374521, -13.920781001673763]<input type='checkbox' class='ee-toggle'></label><ul><li><span class='ee-k'>0:</span><span class='ee-v'>-70.84206952374521</span></li><li><span class='ee-k'>1:</span><span class='ee-v'>-13.920781001673763</span></li></ul></li><li><label class='ee-shut'>1606: [-70.8420759667948, -13.921594363622823]<input type='checkbox' class='ee-toggle'></label><ul><li><span class='ee-k'>0:</span><span class='ee-v'>-70.8420759667948</span></li><li><span class='ee-k'>1:</span><span class='ee-v'>-13.921594363622823</span></li></ul></li><li><label class='ee-shut'>1607: [-70.84179840354169, -13.921596461359693]<input type='checkbox' class='ee-toggle'></label><ul><li><span class='ee-k'>0:</span><span class='ee-v'>-70.84179840354169</span></li><li><span class='ee-k'>1:</span><span class='ee-v'>-13.921596461359693</span></li></ul></li><li><label class='ee-shut'>1608: [-70.84180484602534, -13.922409823380617]<input type='checkbox' class='ee-toggle'></label><ul><li><span class='ee-k'>0:</span><span class='ee-v'>-70.84180484602534</span></li><li><span class='ee-k'>1:</span><span class='ee-v'>-13.922409823380617</span></li></ul></li><li><label class='ee-shut'>1609: [-70.84208241024864, -13.922407725517985]<input type='checkbox' class='ee-toggle'></label><ul><li><span class='ee-k'>0:</span><span class='ee-v'>-70.84208241024864</span></li><li><span class='ee-k'>1:</span><span class='ee-v'>-13.922407725517985</span></li></ul></li><li><label class='ee-shut'>1610: [-70.8420845581654, -13.922678846134733]<input type='checkbox' class='ee-toggle'></label><ul><li><span class='ee-k'>0:</span><span class='ee-v'>-70.8420845581654</span></li><li><span class='ee-k'>1:</span><span class='ee-v'>-13.922678846134733</span></li></ul></li><li><label class='ee-shut'>1611: [-70.8418069936187, -13.922680944042282]<input type='checkbox' class='ee-toggle'></label><ul><li><span class='ee-k'>0:</span><span class='ee-v'>-70.8418069936187</span></li><li><span class='ee-k'>1:</span><span class='ee-v'>-13.922680944042282</span></li></ul></li><li><label class='ee-shut'>1612: [-70.84181773224131, -13.924036547251788]<input type='checkbox' class='ee-toggle'></label><ul><li><span class='ee-k'>0:</span><span class='ee-v'>-70.84181773224131</span></li><li><span class='ee-k'>1:</span><span class='ee-v'>-13.924036547251788</span></li></ul></li><li><label class='ee-shut'>1613: [-70.84154016603273, -13.924038645060522]<input type='checkbox' class='ee-toggle'></label><ul><li><span class='ee-k'>0:</span><span class='ee-v'>-70.84154016603273</span></li><li><span class='ee-k'>1:</span><span class='ee-v'>-13.924038645060522</span></li></ul></li><li><label class='ee-shut'>1614: [-70.8415423135722, -13.924309765722185]<input type='checkbox' class='ee-toggle'></label><ul><li><span class='ee-k'>0:</span><span class='ee-v'>-70.8415423135722</span></li><li><span class='ee-k'>1:</span><span class='ee-v'>-13.924309765722185</span></li></ul></li><li><label class='ee-shut'>1615: [-70.84126474699532, -13.924311863252441]<input type='checkbox' class='ee-toggle'></label><ul><li><span class='ee-k'>0:</span><span class='ee-v'>-70.84126474699532</span></li><li><span class='ee-k'>1:</span><span class='ee-v'>-13.924311863252441</span></li></ul></li><li><label class='ee-shut'>1616: [-70.84126689426529, -13.924582983959022]<input type='checkbox' class='ee-toggle'></label><ul><li><span class='ee-k'>0:</span><span class='ee-v'>-70.84126689426529</span></li><li><span class='ee-k'>1:</span><span class='ee-v'>-13.924582983959022</span></li></ul></li><li><label class='ee-shut'>1617: [-70.840711760321, -13.924587178166133]<input type='checkbox' class='ee-toggle'></label><ul><li><span class='ee-k'>0:</span><span class='ee-v'>-70.840711760321</span></li><li><span class='ee-k'>1:</span><span class='ee-v'>-13.924587178166133</span></li></ul></li><li><label class='ee-shut'>1618: [-70.84072034724494, -13.925671661243982]<input type='checkbox' class='ee-toggle'></label><ul><li><span class='ee-k'>0:</span><span class='ee-v'>-70.84072034724494</span></li><li><span class='ee-k'>1:</span><span class='ee-v'>-13.925671661243982</span></li></ul></li><li><label class='ee-shut'>1619: [-70.84210818822318, -13.925661172514724]<input type='checkbox' class='ee-toggle'></label><ul><li><span class='ee-k'>0:</span><span class='ee-v'>-70.84210818822318</span></li><li><span class='ee-k'>1:</span><span class='ee-v'>-13.925661172514724</span></li></ul></li><li><label class='ee-shut'>1620: [-70.84211033668791, -13.925932293059608]<input type='checkbox' class='ee-toggle'></label><ul><li><span class='ee-k'>0:</span><span class='ee-v'>-70.84211033668791</span></li><li><span class='ee-k'>1:</span><span class='ee-v'>-13.925932293059608</span></li></ul></li><li><label class='ee-shut'>1621: [-70.84238790507041, -13.925930194325609]<input type='checkbox' class='ee-toggle'></label><ul><li><span class='ee-k'>0:</span><span class='ee-v'>-70.84238790507041</span></li><li><span class='ee-k'>1:</span><span class='ee-v'>-13.925930194325609</span></li></ul></li><li><label class='ee-shut'>1622: [-70.84239005390346, -13.926201314816595]<input type='checkbox' class='ee-toggle'></label><ul><li><span class='ee-k'>0:</span><span class='ee-v'>-70.84239005390346</span></li><li><span class='ee-k'>1:</span><span class='ee-v'>-13.926201314816595</span></li></ul></li><li><label class='ee-shut'>1623: [-70.84266762255545, -13.926199215723269]<input type='checkbox' class='ee-toggle'></label><ul><li><span class='ee-k'>0:</span><span class='ee-v'>-70.84266762255545</span></li><li><span class='ee-k'>1:</span><span class='ee-v'>-13.926199215723269</span></li></ul></li><li><label class='ee-shut'>1624: [-70.8426697717568, -13.926470336169338]<input type='checkbox' class='ee-toggle'></label><ul><li><span class='ee-k'>0:</span><span class='ee-v'>-70.8426697717568</span></li><li><span class='ee-k'>1:</span><span class='ee-v'>-13.926470336169338</span></li></ul></li><li><label class='ee-shut'>1625: [-70.84294734069626, -13.926468236716689]<input type='checkbox' class='ee-toggle'></label><ul><li><span class='ee-k'>0:</span><span class='ee-v'>-70.84294734069626</span></li><li><span class='ee-k'>1:</span><span class='ee-v'>-13.926468236716689</span></li></ul></li><li><label class='ee-shut'>1626: [-70.84295593925337, -13.927552718258417]<input type='checkbox' class='ee-toggle'></label><ul><li><span class='ee-k'>0:</span><span class='ee-v'>-70.84295593925337</span></li><li><span class='ee-k'>1:</span><span class='ee-v'>-13.927552718258417</span></li></ul></li><li><label class='ee-shut'>1627: [-70.84323350944148, -13.927550618320677]<input type='checkbox' class='ee-toggle'></label><ul><li><span class='ee-k'>0:</span><span class='ee-v'>-70.84323350944148</span></li><li><span class='ee-k'>1:</span><span class='ee-v'>-13.927550618320677</span></li></ul></li><li><label class='ee-shut'>1628: [-70.84323565952319, -13.927821738649964]<input type='checkbox' class='ee-toggle'></label><ul><li><span class='ee-k'>0:</span><span class='ee-v'>-70.84323565952319</span></li><li><span class='ee-k'>1:</span><span class='ee-v'>-13.927821738649964</span></li></ul></li><li><label class='ee-shut'>1629: [-70.84379080039348, -13.92781753774142]<input type='checkbox' class='ee-toggle'></label><ul><li><span class='ee-k'>0:</span><span class='ee-v'>-70.84379080039348</span></li><li><span class='ee-k'>1:</span><span class='ee-v'>-13.92781753774142</span></li></ul></li><li><label class='ee-shut'>1630: [-70.84378864966499, -13.927546417501963]<input type='checkbox' class='ee-toggle'></label><ul><li><span class='ee-k'>0:</span><span class='ee-v'>-70.84378864966499</span></li><li><span class='ee-k'>1:</span><span class='ee-v'>-13.927546417501963</span></li></ul></li><li><label class='ee-shut'>1631: [-70.84545406923958, -13.927533807455061]<input type='checkbox' class='ee-toggle'></label><ul><li><span class='ee-k'>0:</span><span class='ee-v'>-70.84545406923958</span></li><li><span class='ee-k'>1:</span><span class='ee-v'>-13.927533807455061</span></li></ul></li><li><label class='ee-shut'>1632: [-70.84546268018447, -13.928618287361857]<input type='checkbox' class='ee-toggle'></label><ul><li><span class='ee-k'>0:</span><span class='ee-v'>-70.84546268018447</span></li><li><span class='ee-k'>1:</span><span class='ee-v'>-13.928618287361857</span></li></ul></li><li><label class='ee-shut'>1633: [-70.84574025124394, -13.92861618441476]<input type='checkbox' class='ee-toggle'></label><ul><li><span class='ee-k'>0:</span><span class='ee-v'>-70.84574025124394</span></li><li><span class='ee-k'>1:</span><span class='ee-v'>-13.92861618441476</span></li></ul></li><li><label class='ee-shut'>1634: [-70.84574240441584, -13.928887304330823]<input type='checkbox' class='ee-toggle'></label><ul><li><span class='ee-k'>0:</span><span class='ee-v'>-70.84574240441584</span></li><li><span class='ee-k'>1:</span><span class='ee-v'>-13.928887304330823</span></li></ul></li><li><label class='ee-shut'>1635: [-70.8460199757538, -13.9288852010244]<input type='checkbox' class='ee-toggle'></label><ul><li><span class='ee-k'>0:</span><span class='ee-v'>-70.8460199757538</span></li><li><span class='ee-k'>1:</span><span class='ee-v'>-13.9288852010244</span></li></ul></li><li><label class='ee-shut'>1636: [-70.84602212929401, -13.929156320895547]<input type='checkbox' class='ee-toggle'></label><ul><li><span class='ee-k'>0:</span><span class='ee-v'>-70.84602212929401</span></li><li><span class='ee-k'>1:</span><span class='ee-v'>-13.929156320895547</span></li></ul></li><li><label class='ee-shut'>1637: [-70.84657727248197, -13.929152113249637]<input type='checkbox' class='ee-toggle'></label><ul><li><span class='ee-k'>0:</span><span class='ee-v'>-70.84657727248197</span></li><li><span class='ee-k'>1:</span><span class='ee-v'>-13.929152113249637</span></li></ul></li><li><label class='ee-shut'>1638: [-70.84657942671389, -13.929423233030953]<input type='checkbox' class='ee-toggle'></label><ul><li><span class='ee-k'>0:</span><span class='ee-v'>-70.84657942671389</span></li><li><span class='ee-k'>1:</span><span class='ee-v'>-13.929423233030953</span></li></ul></li><li><label class='ee-shut'>1639: [-70.84685699856388, -13.929421128682485]<input type='checkbox' class='ee-toggle'></label><ul><li><span class='ee-k'>0:</span><span class='ee-v'>-70.84685699856388</span></li><li><span class='ee-k'>1:</span><span class='ee-v'>-13.929421128682485</span></li></ul></li><li><label class='ee-shut'>1640: [-70.84685915317309, -13.929692248418883]<input type='checkbox' class='ee-toggle'></label><ul><li><span class='ee-k'>0:</span><span class='ee-v'>-70.84685915317309</span></li><li><span class='ee-k'>1:</span><span class='ee-v'>-13.929692248418883</span></li></ul></li><li><label class='ee-shut'>1641: [-70.84713672529257, -13.929690143720071]<input type='checkbox' class='ee-toggle'></label><ul><li><span class='ee-k'>0:</span><span class='ee-v'>-70.84713672529257</span></li><li><span class='ee-k'>1:</span><span class='ee-v'>-13.929690143720071</span></li></ul></li><li><label class='ee-shut'>1642: [-70.84714103529252, -13.93023238307609]<input type='checkbox' class='ee-toggle'></label><ul><li><span class='ee-k'>0:</span><span class='ee-v'>-70.84714103529252</span></li><li><span class='ee-k'>1:</span><span class='ee-v'>-13.93023238307609</span></li></ul></li><li><label class='ee-shut'>1643: [-70.84741860801388, -13.930230277973036]<input type='checkbox' class='ee-toggle'></label><ul><li><span class='ee-k'>0:</span><span class='ee-v'>-70.84741860801388</span></li><li><span class='ee-k'>1:</span><span class='ee-v'>-13.930230277973036</span></li></ul></li><li><label class='ee-shut'>1644: [-70.8474229188403, -13.930772517221257]<input type='checkbox' class='ee-toggle'></label><ul><li><span class='ee-k'>0:</span><span class='ee-v'>-70.8474229188403</span></li><li><span class='ee-k'>1:</span><span class='ee-v'>-13.930772517221257</span></li></ul></li><li><label class='ee-shut'>1645: [-70.84770049216353, -13.930770411713961]<input type='checkbox' class='ee-toggle'></label><ul><li><span class='ee-k'>0:</span><span class='ee-v'>-70.84770049216353</span></li><li><span class='ee-k'>1:</span><span class='ee-v'>-13.930770411713961</span></li></ul></li><li><label class='ee-shut'>1646: [-70.8477026479675, -13.931041531288663]<input type='checkbox' class='ee-toggle'></label><ul><li><span class='ee-k'>0:</span><span class='ee-v'>-70.8477026479675</span></li><li><span class='ee-k'>1:</span><span class='ee-v'>-13.931041531288663</span></li></ul></li><li><label class='ee-shut'>1647: [-70.8479802215692, -13.931039425431026]<input type='checkbox' class='ee-toggle'></label><ul><li><span class='ee-k'>0:</span><span class='ee-v'>-70.8479802215692</span></li><li><span class='ee-k'>1:</span><span class='ee-v'>-13.931039425431026</span></li></ul></li><li><label class='ee-shut'>1648: [-70.84798453396766, -13.93158166446365]<input type='checkbox' class='ee-toggle'></label><ul><li><span class='ee-k'>0:</span><span class='ee-v'>-70.84798453396766</span></li><li><span class='ee-k'>1:</span><span class='ee-v'>-13.93158166446365</span></li></ul></li><li><label class='ee-shut'>1649: [-70.8485396823299, -13.93157745162548]<input type='checkbox' class='ee-toggle'></label><ul><li><span class='ee-k'>0:</span><span class='ee-v'>-70.8485396823299</span></li><li><span class='ee-k'>1:</span><span class='ee-v'>-13.93157745162548</span></li></ul></li><li><label class='ee-shut'>1650: [-70.84854183924779, -13.93184857105645]<input type='checkbox' class='ee-toggle'></label><ul><li><span class='ee-k'>0:</span><span class='ee-v'>-70.84854183924779</span></li><li><span class='ee-k'>1:</span><span class='ee-v'>-13.93184857105645</span></li></ul></li><li><label class='ee-shut'>1651: [-70.84909698806817, -13.931844356861824]<input type='checkbox' class='ee-toggle'></label><ul><li><span class='ee-k'>0:</span><span class='ee-v'>-70.84909698806817</span></li><li><span class='ee-k'>1:</span><span class='ee-v'>-13.931844356861824</span></li></ul></li><li><label class='ee-shut'>1652: [-70.84909914567776, -13.932115476202965]<input type='checkbox' class='ee-toggle'></label><ul><li><span class='ee-k'>0:</span><span class='ee-v'>-70.84909914567776</span></li><li><span class='ee-k'>1:</span><span class='ee-v'>-13.932115476202965</span></li></ul></li><li><label class='ee-shut'>1653: [-70.84937672033948, -13.932113368584629]<input type='checkbox' class='ee-toggle'></label><ul><li><span class='ee-k'>0:</span><span class='ee-v'>-70.84937672033948</span></li><li><span class='ee-k'>1:</span><span class='ee-v'>-13.932113368584629</span></li></ul></li><li><label class='ee-shut'>1654: [-70.84937887831737, -13.93238448787187]<input type='checkbox' class='ee-toggle'></label><ul><li><span class='ee-k'>0:</span><span class='ee-v'>-70.84937887831737</span></li><li><span class='ee-k'>1:</span><span class='ee-v'>-13.93238448787187</span></li></ul></li><li><label class='ee-shut'>1655: [-70.84965645325757, -13.93238237990319]<input type='checkbox' class='ee-toggle'></label><ul><li><span class='ee-k'>0:</span><span class='ee-v'>-70.84965645325757</span></li><li><span class='ee-k'>1:</span><span class='ee-v'>-13.93238237990319</span></li></ul></li><li><label class='ee-shut'>1656: [-70.84965861161275, -13.932653499136533]<input type='checkbox' class='ee-toggle'></label><ul><li><span class='ee-k'>0:</span><span class='ee-v'>-70.84965861161275</span></li><li><span class='ee-k'>1:</span><span class='ee-v'>-13.932653499136533</span></li></ul></li><li><label class='ee-shut'>1657: [-70.84993618683143, -13.932651390808529]<input type='checkbox' class='ee-toggle'></label><ul><li><span class='ee-k'>0:</span><span class='ee-v'>-70.84993618683143</span></li><li><span class='ee-k'>1:</span><span class='ee-v'>-13.932651390808529</span></li></ul></li><li><label class='ee-shut'>1658: [-70.84993834554594, -13.932922509996954]<input type='checkbox' class='ee-toggle'></label><ul><li><span class='ee-k'>0:</span><span class='ee-v'>-70.84993834554594</span></li><li><span class='ee-k'>1:</span><span class='ee-v'>-13.932922509996954</span></li></ul></li><li><label class='ee-shut'>1659: [-70.84966077000387, -13.932924618369876]<input type='checkbox' class='ee-toggle'></label><ul><li><span class='ee-k'>0:</span><span class='ee-v'>-70.84966077000387</span></li><li><span class='ee-k'>1:</span><span class='ee-v'>-13.932924618369876</span></li></ul></li><li><label class='ee-shut'>1660: [-70.84966508692983, -13.933466856809613]<input type='checkbox' class='ee-toggle'></label><ul><li><span class='ee-k'>0:</span><span class='ee-v'>-70.84966508692983</span></li><li><span class='ee-k'>1:</span><span class='ee-v'>-13.933466856809613</span></li></ul></li><li><label class='ee-shut'>1661: [-70.84938751068707, -13.933468964948972]<input type='checkbox' class='ee-toggle'></label><ul><li><span class='ee-k'>0:</span><span class='ee-v'>-70.84938751068707</span></li><li><span class='ee-k'>1:</span><span class='ee-v'>-13.933468964948972</span></li></ul></li><li><label class='ee-shut'>1662: [-70.84938966889852, -13.93374008420028]<input type='checkbox' class='ee-toggle'></label><ul><li><span class='ee-k'>0:</span><span class='ee-v'>-70.84938966889852</span></li><li><span class='ee-k'>1:</span><span class='ee-v'>-13.93374008420028</span></li></ul></li><li><label class='ee-shut'>1663: [-70.84994482197692, -13.93373586751732]<input type='checkbox' class='ee-toggle'></label><ul><li><span class='ee-k'>0:</span><span class='ee-v'>-70.84994482197692</span></li><li><span class='ee-k'>1:</span><span class='ee-v'>-13.93373586751732</span></li></ul></li><li><label class='ee-shut'>1664: [-70.84994913981917, -13.934278105831293]<input type='checkbox' class='ee-toggle'></label><ul><li><span class='ee-k'>0:</span><span class='ee-v'>-70.84994913981917</span></li><li><span class='ee-k'>1:</span><span class='ee-v'>-13.934278105831293</span></li></ul></li><li><label class='ee-shut'>1665: [-70.84967156266013, -13.934280214419811]<input type='checkbox' class='ee-toggle'></label><ul><li><span class='ee-k'>0:</span><span class='ee-v'>-70.84967156266013</span></li><li><span class='ee-k'>1:</span><span class='ee-v'>-13.934280214419811</span></li></ul></li><li><label class='ee-shut'>1666: [-70.84968019761699, -13.935364691137586]<input type='checkbox' class='ee-toggle'></label><ul><li><span class='ee-k'>0:</span><span class='ee-v'>-70.84968019761699</span></li><li><span class='ee-k'>1:</span><span class='ee-v'>-13.935364691137586</span></li></ul></li><li><label class='ee-shut'>1667: [-70.85023535448627, -13.935360473313766]<input type='checkbox' class='ee-toggle'></label><ul><li><span class='ee-k'>0:</span><span class='ee-v'>-70.85023535448627</span></li><li><span class='ee-k'>1:</span><span class='ee-v'>-13.935360473313766</span></li></ul></li><li><label class='ee-shut'>1668: [-70.85023751398232, -13.935631592394396]<input type='checkbox' class='ee-toggle'></label><ul><li><span class='ee-k'>0:</span><span class='ee-v'>-70.85023751398232</span></li><li><span class='ee-k'>1:</span><span class='ee-v'>-13.935631592394396</span></li></ul></li><li><label class='ee-shut'>1669: [-70.8505150926685, -13.935629482970445]<input type='checkbox' class='ee-toggle'></label><ul><li><span class='ee-k'>0:</span><span class='ee-v'>-70.8505150926685</span></li><li><span class='ee-k'>1:</span><span class='ee-v'>-13.935629482970445</span></li></ul></li><li><label class='ee-shut'>1670: [-70.85051725254183, -13.935900601997176]<input type='checkbox' class='ee-toggle'></label><ul><li><span class='ee-k'>0:</span><span class='ee-v'>-70.85051725254183</span></li><li><span class='ee-k'>1:</span><span class='ee-v'>-13.935900601997176</span></li></ul></li><li><label class='ee-shut'>1671: [-70.85079483150649, -13.9358984922139]<input type='checkbox' class='ee-toggle'></label><ul><li><span class='ee-k'>0:</span><span class='ee-v'>-70.85079483150649</span></li><li><span class='ee-k'>1:</span><span class='ee-v'>-13.9358984922139</span></li></ul></li><li><label class='ee-shut'>1672: [-70.85079699174813, -13.936169611195714]<input type='checkbox' class='ee-toggle'></label><ul><li><span class='ee-k'>0:</span><span class='ee-v'>-70.85079699174813</span></li><li><span class='ee-k'>1:</span><span class='ee-v'>-13.936169611195714</span></li></ul></li><li><label class='ee-shut'>1673: [-70.8516297293338, -13.93616327980671]<input type='checkbox' class='ee-toggle'></label><ul><li><span class='ee-k'>0:</span><span class='ee-v'>-70.8516297293338</span></li><li><span class='ee-k'>1:</span><span class='ee-v'>-13.93616327980671</span></li></ul></li><li><label class='ee-shut'>1674: [-70.85163189059053, -13.936434398653777]<input type='checkbox' class='ee-toggle'></label><ul><li><span class='ee-k'>0:</span><span class='ee-v'>-70.85163189059053</span></li><li><span class='ee-k'>1:</span><span class='ee-v'>-13.936434398653777</span></li></ul></li><li><label class='ee-shut'>1675: [-70.85329736644456, -13.936421727099226]<input type='checkbox' class='ee-toggle'></label><ul><li><span class='ee-k'>0:</span><span class='ee-v'>-70.85329736644456</span></li><li><span class='ee-k'>1:</span><span class='ee-v'>-13.936421727099226</span></li></ul></li><li><label class='ee-shut'>1676: [-70.85329520324747, -13.936150608503688]<input type='checkbox' class='ee-toggle'></label><ul><li><span class='ee-k'>0:</span><span class='ee-v'>-70.85329520324747</span></li><li><span class='ee-k'>1:</span><span class='ee-v'>-13.936150608503688</span></li></ul></li><li><label class='ee-shut'>1677: [-70.85385036085337, -13.936146382208754]<input type='checkbox' class='ee-toggle'></label><ul><li><span class='ee-k'>0:</span><span class='ee-v'>-70.85385036085337</span></li><li><span class='ee-k'>1:</span><span class='ee-v'>-13.936146382208754</span></li></ul></li><li><label class='ee-shut'>1678: [-70.85384819704542, -13.935875263694063]<input type='checkbox' class='ee-toggle'></label><ul><li><span class='ee-k'>0:</span><span class='ee-v'>-70.85384819704542</span></li><li><span class='ee-k'>1:</span><span class='ee-v'>-13.935875263694063</span></li></ul></li><li><label class='ee-shut'>1679: [-70.85412577545311, -13.935873150119896]<input type='checkbox' class='ee-toggle'></label><ul><li><span class='ee-k'>0:</span><span class='ee-v'>-70.85412577545311</span></li><li><span class='ee-k'>1:</span><span class='ee-v'>-13.935873150119896</span></li></ul></li><li><label class='ee-shut'>1680: [-70.8541192833645, -13.935059794665655]<input type='checkbox' class='ee-toggle'></label><ul><li><span class='ee-k'>0:</span><span class='ee-v'>-70.8541192833645</span></li><li><span class='ee-k'>1:</span><span class='ee-v'>-13.935059794665655</span></li></ul></li><li><label class='ee-shut'>1681: [-70.85550716985138, -13.935049222671555]<input type='checkbox' class='ee-toggle'></label><ul><li><span class='ee-k'>0:</span><span class='ee-v'>-70.85550716985138</span></li><li><span class='ee-k'>1:</span><span class='ee-v'>-13.935049222671555</span></li></ul></li><li><label class='ee-shut'>1682: [-70.85550933545598, -13.935320340952684]<input type='checkbox' class='ee-toggle'></label><ul><li><span class='ee-k'>0:</span><span class='ee-v'>-70.85550933545598</span></li><li><span class='ee-k'>1:</span><span class='ee-v'>-13.935320340952684</span></li></ul></li><li><label class='ee-shut'>1683: [-70.85523175792862, -13.935322456027036]<input type='checkbox' class='ee-toggle'></label><ul><li><span class='ee-k'>0:</span><span class='ee-v'>-70.85523175792862</span></li><li><span class='ee-k'>1:</span><span class='ee-v'>-13.935322456027036</span></li></ul></li><li><label class='ee-shut'>1684: [-70.85523392325473, -13.935593574335115]<input type='checkbox' class='ee-toggle'></label><ul><li><span class='ee-k'>0:</span><span class='ee-v'>-70.85523392325473</span></li><li><span class='ee-k'>1:</span><span class='ee-v'>-13.935593574335115</span></li></ul></li><li><label class='ee-shut'>1685: [-70.85495634535908, -13.93559568913099]<input type='checkbox' class='ee-toggle'></label><ul><li><span class='ee-k'>0:</span><span class='ee-v'>-70.85495634535908</span></li><li><span class='ee-k'>1:</span><span class='ee-v'>-13.93559568913099</span></li></ul></li><li><label class='ee-shut'>1686: [-70.85495851040672, -13.935866807483984]<input type='checkbox' class='ee-toggle'></label><ul><li><span class='ee-k'>0:</span><span class='ee-v'>-70.85495851040672</span></li><li><span class='ee-k'>1:</span><span class='ee-v'>-13.935866807483984</span></li></ul></li><li><label class='ee-shut'>1687: [-70.85523608862576, -13.935864692643193]<input type='checkbox' class='ee-toggle'></label><ul><li><span class='ee-k'>0:</span><span class='ee-v'>-70.85523608862576</span></li><li><span class='ee-k'>1:</span><span class='ee-v'>-13.935864692643193</span></li></ul></li><li><label class='ee-shut'>1688: [-70.85523825404171, -13.936135810942288]<input type='checkbox' class='ee-toggle'></label><ul><li><span class='ee-k'>0:</span><span class='ee-v'>-70.85523825404171</span></li><li><span class='ee-k'>1:</span><span class='ee-v'>-13.936135810942288</span></li></ul></li><li><label class='ee-shut'>1689: [-70.85551583254822, -13.936133695733188]<input type='checkbox' class='ee-toggle'></label><ul><li><span class='ee-k'>0:</span><span class='ee-v'>-70.85551583254822</span></li><li><span class='ee-k'>1:</span><span class='ee-v'>-13.936133695733188</span></li></ul></li><li><label class='ee-shut'>1690: [-70.85551799833247, -13.936404813987368]<input type='checkbox' class='ee-toggle'></label><ul><li><span class='ee-k'>0:</span><span class='ee-v'>-70.85551799833247</span></li><li><span class='ee-k'>1:</span><span class='ee-v'>-13.936404813987368</span></li></ul></li><li><label class='ee-shut'>1691: [-70.85579557710847, -13.936402698427923]<input type='checkbox' class='ee-toggle'></label><ul><li><span class='ee-k'>0:</span><span class='ee-v'>-70.85579557710847</span></li><li><span class='ee-k'>1:</span><span class='ee-v'>-13.936402698427923</span></li></ul></li><li><label class='ee-shut'>1692: [-70.85579990947647, -13.9369449348195]<input type='checkbox' class='ee-toggle'></label><ul><li><span class='ee-k'>0:</span><span class='ee-v'>-70.85579990947647</span></li><li><span class='ee-k'>1:</span><span class='ee-v'>-13.9369449348195</span></li></ul></li><li><label class='ee-shut'>1693: [-70.85607748885435, -13.936942818855815]<input type='checkbox' class='ee-toggle'></label><ul><li><span class='ee-k'>0:</span><span class='ee-v'>-70.85607748885435</span></li><li><span class='ee-k'>1:</span><span class='ee-v'>-13.936942818855815</span></li></ul></li><li><label class='ee-shut'>1694: [-70.85607965542013, -13.937213937002197]<input type='checkbox' class='ee-toggle'></label><ul><li><span class='ee-k'>0:</span><span class='ee-v'>-70.85607965542013</span></li><li><span class='ee-k'>1:</span><span class='ee-v'>-13.937213937002197</span></li></ul></li><li><label class='ee-shut'>1695: [-70.85635723507649, -13.937211820679185]<input type='checkbox' class='ee-toggle'></label><ul><li><span class='ee-k'>0:</span><span class='ee-v'>-70.85635723507649</span></li><li><span class='ee-k'>1:</span><span class='ee-v'>-13.937211820679185</span></li></ul></li><li><label class='ee-shut'>1696: [-70.85636156901654, -13.93775405686415]<input type='checkbox' class='ee-toggle'></label><ul><li><span class='ee-k'>0:</span><span class='ee-v'>-70.85636156901654</span></li><li><span class='ee-k'>1:</span><span class='ee-v'>-13.93775405686415</span></li></ul></li><li><label class='ee-shut'>1697: [-70.85663914927477, -13.93775194014588]<input type='checkbox' class='ee-toggle'></label><ul><li><span class='ee-k'>0:</span><span class='ee-v'>-70.85663914927477</span></li><li><span class='ee-k'>1:</span><span class='ee-v'>-13.93775194014588</span></li></ul></li><li><label class='ee-shut'>1698: [-70.85664131663107, -13.938023058184465]<input type='checkbox' class='ee-toggle'></label><ul><li><span class='ee-k'>0:</span><span class='ee-v'>-70.85664131663107</span></li><li><span class='ee-k'>1:</span><span class='ee-v'>-13.938023058184465</span></li></ul></li><li><label class='ee-shut'>1699: [-70.85691889716777, -13.938020941097884]<input type='checkbox' class='ee-toggle'></label><ul><li><span class='ee-k'>0:</span><span class='ee-v'>-70.85691889716777</span></li><li><span class='ee-k'>1:</span><span class='ee-v'>-13.938020941097884</span></li></ul></li><li><label class='ee-shut'>1700: [-70.85692106489239, -13.938292059091552]<input type='checkbox' class='ee-toggle'></label><ul><li><span class='ee-k'>0:</span><span class='ee-v'>-70.85692106489239</span></li><li><span class='ee-k'>1:</span><span class='ee-v'>-13.938292059091552</span></li></ul></li><li><label class='ee-shut'>1701: [-70.85719864570757, -13.938289941654629]<input type='checkbox' class='ee-toggle'></label><ul><li><span class='ee-k'>0:</span><span class='ee-v'>-70.85719864570757</span></li><li><span class='ee-k'>1:</span><span class='ee-v'>-13.938289941654629</span></li></ul></li><li><label class='ee-shut'>1702: [-70.85720081380948, -13.938561059594399]<input type='checkbox' class='ee-toggle'></label><ul><li><span class='ee-k'>0:</span><span class='ee-v'>-70.85720081380948</span></li><li><span class='ee-k'>1:</span><span class='ee-v'>-13.938561059594399</span></li></ul></li><li><label class='ee-shut'>1703: [-70.8566456514964, -13.938565294243665]<input type='checkbox' class='ee-toggle'></label><ul><li><span class='ee-k'>0:</span><span class='ee-v'>-70.8566456514964</span></li><li><span class='ee-k'>1:</span><span class='ee-v'>-13.938565294243665</span></li></ul></li><li><label class='ee-shut'>1704: [-70.85664998654138, -13.939107530275916]<input type='checkbox' class='ee-toggle'></label><ul><li><span class='ee-k'>0:</span><span class='ee-v'>-70.85664998654138</span></li><li><span class='ee-k'>1:</span><span class='ee-v'>-13.939107530275916</span></li></ul></li><li><label class='ee-shut'>1705: [-70.85637240466619, -13.939109647218766]<input type='checkbox' class='ee-toggle'></label><ul><li><span class='ee-k'>0:</span><span class='ee-v'>-70.85637240466619</span></li><li><span class='ee-k'>1:</span><span class='ee-v'>-13.939109647218766</span></li></ul></li><li><label class='ee-shut'>1706: [-70.85637457193266, -13.939380765266332]<input type='checkbox' class='ee-toggle'></label><ul><li><span class='ee-k'>0:</span><span class='ee-v'>-70.85637457193266</span></li><li><span class='ee-k'>1:</span><span class='ee-v'>-13.939380765266332</span></li></ul></li><li><label class='ee-shut'>1707: [-70.85609698968915, -13.939382881930703]<input type='checkbox' class='ee-toggle'></label><ul><li><span class='ee-k'>0:</span><span class='ee-v'>-70.85609698968915</span></li><li><span class='ee-k'>1:</span><span class='ee-v'>-13.939382881930703</span></li></ul></li><li><label class='ee-shut'>1708: [-70.85610132371905, -13.939925118097703]<input type='checkbox' class='ee-toggle'></label><ul><li><span class='ee-k'>0:</span><span class='ee-v'>-70.85610132371905</span></li><li><span class='ee-k'>1:</span><span class='ee-v'>-13.939925118097703</span></li></ul></li><li><label class='ee-shut'>1709: [-70.85582374078383, -13.939927234537494]<input type='checkbox' class='ee-toggle'></label><ul><li><span class='ee-k'>0:</span><span class='ee-v'>-70.85582374078383</span></li><li><span class='ee-k'>1:</span><span class='ee-v'>-13.939927234537494</span></li></ul></li><li><label class='ee-shut'>1710: [-70.85582590754724, -13.940198352647943]<input type='checkbox' class='ee-toggle'></label><ul><li><span class='ee-k'>0:</span><span class='ee-v'>-70.85582590754724</span></li><li><span class='ee-k'>1:</span><span class='ee-v'>-13.940198352647943</span></li></ul></li><li><label class='ee-shut'>1711: [-70.85527074088633, -13.940202584656163]<input type='checkbox' class='ee-toggle'></label><ul><li><span class='ee-k'>0:</span><span class='ee-v'>-70.85527074088633</span></li><li><span class='ee-k'>1:</span><span class='ee-v'>-13.940202584656163</span></li></ul></li><li><label class='ee-shut'>1712: [-70.85527290703888, -13.94047370284746]<input type='checkbox' class='ee-toggle'></label><ul><li><span class='ee-k'>0:</span><span class='ee-v'>-70.85527290703888</span></li><li><span class='ee-k'>1:</span><span class='ee-v'>-13.94047370284746</span></li></ul></li><li><label class='ee-shut'>1713: [-70.85499532332214, -13.94047581842487]<input type='checkbox' class='ee-toggle'></label><ul><li><span class='ee-k'>0:</span><span class='ee-v'>-70.85499532332214</span></li><li><span class='ee-k'>1:</span><span class='ee-v'>-13.94047581842487</span></li></ul></li><li><label class='ee-shut'>1714: [-70.8549974892052, -13.9407469366521]<input type='checkbox' class='ee-toggle'></label><ul><li><span class='ee-k'>0:</span><span class='ee-v'>-70.8549974892052</span></li><li><span class='ee-k'>1:</span><span class='ee-v'>-13.9407469366521</span></li></ul></li><li><label class='ee-shut'>1715: [-70.85471990511117, -13.940749051951032]<input type='checkbox' class='ee-toggle'></label><ul><li><span class='ee-k'>0:</span><span class='ee-v'>-70.85471990511117</span></li><li><span class='ee-k'>1:</span><span class='ee-v'>-13.940749051951032</span></li></ul></li><li><label class='ee-shut'>1716: [-70.85472423636527, -13.94129128848634]<input type='checkbox' class='ee-toggle'></label><ul><li><span class='ee-k'>0:</span><span class='ee-v'>-70.85472423636527</span></li><li><span class='ee-k'>1:</span><span class='ee-v'>-13.94129128848634</span></li></ul></li><li><label class='ee-shut'>1717: [-70.85444665157954, -13.94129340355171]<input type='checkbox' class='ee-toggle'></label><ul><li><span class='ee-k'>0:</span><span class='ee-v'>-70.85444665157954</span></li><li><span class='ee-k'>1:</span><span class='ee-v'>-13.94129340355171</span></li></ul></li><li><label class='ee-shut'>1718: [-70.85445747891076, -13.942648994984303]<input type='checkbox' class='ee-toggle'></label><ul><li><span class='ee-k'>0:</span><span class='ee-v'>-70.85445747891076</span></li><li><span class='ee-k'>1:</span><span class='ee-v'>-13.942648994984303</span></li></ul></li><li><label class='ee-shut'>1719: [-70.85390230596163, -13.942653224594022]<input type='checkbox' class='ee-toggle'></label><ul><li><span class='ee-k'>0:</span><span class='ee-v'>-70.85390230596163</span></li><li><span class='ee-k'>1:</span><span class='ee-v'>-13.942653224594022</span></li></ul></li><li><label class='ee-shut'>1720: [-70.85390014104874, -13.942382106241027]<input type='checkbox' class='ee-toggle'></label><ul><li><span class='ee-k'>0:</span><span class='ee-v'>-70.85390014104874</span></li><li><span class='ee-k'>1:</span><span class='ee-v'>-13.942382106241027</span></li></ul></li><li><label class='ee-shut'>1721: [-70.85223462302778, -13.942394787227887]<input type='checkbox' class='ee-toggle'></label><ul><li><span class='ee-k'>0:</span><span class='ee-v'>-70.85223462302778</span></li><li><span class='ee-k'>1:</span><span class='ee-v'>-13.942394787227887</span></li></ul></li><li><label class='ee-shut'>1722: [-70.85223678600032, -13.942665905841393]<input type='checkbox' class='ee-toggle'></label><ul><li><span class='ee-k'>0:</span><span class='ee-v'>-70.85223678600032</span></li><li><span class='ee-k'>1:</span><span class='ee-v'>-13.942665905841393</span></li></ul></li><li><label class='ee-shut'>1723: [-70.85168161230557, -13.942670130393594]<input type='checkbox' class='ee-toggle'></label><ul><li><span class='ee-k'>0:</span><span class='ee-v'>-70.85168161230557</span></li><li><span class='ee-k'>1:</span><span class='ee-v'>-13.942670130393594</span></li></ul></li><li><label class='ee-shut'>1724: [-70.85168377467623, -13.942941249087948]<input type='checkbox' class='ee-toggle'></label><ul><li><span class='ee-k'>0:</span><span class='ee-v'>-70.85168377467623</span></li><li><span class='ee-k'>1:</span><span class='ee-v'>-13.942941249087948</span></li></ul></li><li><label class='ee-shut'>1725: [-70.85140618743809, -13.942943360937349]<input type='checkbox' class='ee-toggle'></label><ul><li><span class='ee-k'>0:</span><span class='ee-v'>-70.85140618743809</span></li><li><span class='ee-k'>1:</span><span class='ee-v'>-13.942943360937349</span></li></ul></li><li><label class='ee-shut'>1726: [-70.85140834953027, -13.943214479667636]<input type='checkbox' class='ee-toggle'></label><ul><li><span class='ee-k'>0:</span><span class='ee-v'>-70.85140834953027</span></li><li><span class='ee-k'>1:</span><span class='ee-v'>-13.943214479667636</span></li></ul></li><li><label class='ee-shut'>1727: [-70.85113076192383, -13.94321659123856]<input type='checkbox' class='ee-toggle'></label><ul><li><span class='ee-k'>0:</span><span class='ee-v'>-70.85113076192383</span></li><li><span class='ee-k'>1:</span><span class='ee-v'>-13.94321659123856</span></li></ul></li><li><label class='ee-shut'>1728: [-70.85113292373752, -13.94348771000478]<input type='checkbox' class='ee-toggle'></label><ul><li><span class='ee-k'>0:</span><span class='ee-v'>-70.85113292373752</span></li><li><span class='ee-k'>1:</span><span class='ee-v'>-13.94348771000478</span></li></ul></li><li><label class='ee-shut'>1729: [-70.84974498337866, -13.943498263331888]<input type='checkbox' class='ee-toggle'></label><ul><li><span class='ee-k'>0:</span><span class='ee-v'>-70.84974498337866</span></li><li><span class='ee-k'>1:</span><span class='ee-v'>-13.943498263331888</span></li></ul></li><li><label class='ee-shut'>1730: [-70.8497471436203, -13.943769382304719]<input type='checkbox' class='ee-toggle'></label><ul><li><span class='ee-k'>0:</span><span class='ee-v'>-70.8497471436203</span></li><li><span class='ee-k'>1:</span><span class='ee-v'>-13.943769382304719</span></li></ul></li><li><label class='ee-shut'>1731: [-70.84919196651197, -13.943773601502963]<input type='checkbox' class='ee-toggle'></label><ul><li><span class='ee-k'>0:</span><span class='ee-v'>-70.84919196651197</span></li><li><span class='ee-k'>1:</span><span class='ee-v'>-13.943773601502963</span></li></ul></li><li><label class='ee-shut'>1732: [-70.84919628583643, -13.944315839610322]<input type='checkbox' class='ee-toggle'></label><ul><li><span class='ee-k'>0:</span><span class='ee-v'>-70.84919628583643</span></li><li><span class='ee-k'>1:</span><span class='ee-v'>-13.944315839610322</span></li></ul></li><li><label class='ee-shut'>1733: [-70.84947387505984, -13.944313730078575]<input type='checkbox' class='ee-toggle'></label><ul><li><span class='ee-k'>0:</span><span class='ee-v'>-70.84947387505984</span></li><li><span class='ee-k'>1:</span><span class='ee-v'>-13.944313730078575</span></li></ul></li><li><label class='ee-shut'>1734: [-70.84947819521975, -13.944855968069154]<input type='checkbox' class='ee-toggle'></label><ul><li><span class='ee-k'>0:</span><span class='ee-v'>-70.84947819521975</span></li><li><span class='ee-k'>1:</span><span class='ee-v'>-13.944855968069154</span></li></ul></li><li><label class='ee-shut'>1735: [-70.84975578505401, -13.944853858142148]<input type='checkbox' class='ee-toggle'></label><ul><li><span class='ee-k'>0:</span><span class='ee-v'>-70.84975578505401</span></li><li><span class='ee-k'>1:</span><span class='ee-v'>-13.944853858142148</span></li></ul></li><li><label class='ee-shut'>1736: [-70.8497622666054, -13.94566721494386]<input type='checkbox' class='ee-toggle'></label><ul><li><span class='ee-k'>0:</span><span class='ee-v'>-70.8497622666054</span></li><li><span class='ee-k'>1:</span><span class='ee-v'>-13.94566721494386</span></li></ul></li><li><label class='ee-shut'>1737: [-70.85003985736493, -13.94566510457668]<input type='checkbox' class='ee-toggle'></label><ul><li><span class='ee-k'>0:</span><span class='ee-v'>-70.85003985736493</span></li><li><span class='ee-k'>1:</span><span class='ee-v'>-13.94566510457668</span></li></ul></li><li><label class='ee-shut'>1738: [-70.85004417927654, -13.946207342333697]<input type='checkbox' class='ee-toggle'></label><ul><li><span class='ee-k'>0:</span><span class='ee-v'>-70.85004417927654</span></li><li><span class='ee-k'>1:</span><span class='ee-v'>-13.946207342333697</span></li></ul></li><li><label class='ee-shut'>1739: [-70.8497665878792, -13.94620945279071]<input type='checkbox' class='ee-toggle'></label><ul><li><span class='ee-k'>0:</span><span class='ee-v'>-70.8497665878792</span></li><li><span class='ee-k'>1:</span><span class='ee-v'>-13.94620945279071</span></li></ul></li><li><label class='ee-shut'>1740: [-70.8497730701223, -13.947022809502592]<input type='checkbox' class='ee-toggle'></label><ul><li><span class='ee-k'>0:</span><span class='ee-v'>-70.8497730701223</span></li><li><span class='ee-k'>1:</span><span class='ee-v'>-13.947022809502592</span></li></ul></li><li><label class='ee-shut'>1741: [-70.84949547770987, -13.947024919770957]<input type='checkbox' class='ee-toggle'></label><ul><li><span class='ee-k'>0:</span><span class='ee-v'>-70.84949547770987</span></li><li><span class='ee-k'>1:</span><span class='ee-v'>-13.947024919770957</span></li></ul></li><li><label class='ee-shut'>1742: [-70.84950195940499, -13.947838276554705]<input type='checkbox' class='ee-toggle'></label><ul><li><span class='ee-k'>0:</span><span class='ee-v'>-70.84950195940499</span></li><li><span class='ee-k'>1:</span><span class='ee-v'>-13.947838276554705</span></li></ul></li><li><label class='ee-shut'>1743: [-70.84922436596847, -13.947840386643408]<input type='checkbox' class='ee-toggle'></label><ul><li><span class='ee-k'>0:</span><span class='ee-v'>-70.84922436596847</span></li><li><span class='ee-k'>1:</span><span class='ee-v'>-13.947840386643408</span></li></ul></li><li><label class='ee-shut'>1744: [-70.84922868667634, -13.948382624553139]<input type='checkbox' class='ee-toggle'></label><ul><li><span class='ee-k'>0:</span><span class='ee-v'>-70.84922868667634</span></li><li><span class='ee-k'>1:</span><span class='ee-v'>-13.948382624553139</span></li></ul></li><li><label class='ee-shut'>1745: [-70.84811830987603, -13.94839106205131]<input type='checkbox' class='ee-toggle'></label><ul><li><span class='ee-k'>0:</span><span class='ee-v'>-70.84811830987603</span></li><li><span class='ee-k'>1:</span><span class='ee-v'>-13.94839106205131</span></li></ul></li><li><label class='ee-shut'>1746: [-70.84812046901274, -13.948662181167872]<input type='checkbox' class='ee-toggle'></label><ul><li><span class='ee-k'>0:</span><span class='ee-v'>-70.84812046901274</span></li><li><span class='ee-k'>1:</span><span class='ee-v'>-13.948662181167872</span></li></ul></li><li><label class='ee-shut'>1747: [-70.84784287437249, -13.948664289801304]<input type='checkbox' class='ee-toggle'></label><ul><li><span class='ee-k'>0:</span><span class='ee-v'>-70.84784287437249</span></li><li><span class='ee-k'>1:</span><span class='ee-v'>-13.948664289801304</span></li></ul></li><li><label class='ee-shut'>1748: [-70.84785151005698, -13.949748766366367]<input type='checkbox' class='ee-toggle'></label><ul><li><span class='ee-k'>0:</span><span class='ee-v'>-70.84785151005698</span></li><li><span class='ee-k'>1:</span><span class='ee-v'>-13.949748766366367</span></li></ul></li><li><label class='ee-shut'>1749: [-70.84757391407824, -13.949750874847087]<input type='checkbox' class='ee-toggle'></label><ul><li><span class='ee-k'>0:</span><span class='ee-v'>-70.84757391407824</span></li><li><span class='ee-k'>1:</span><span class='ee-v'>-13.949750874847087</span></li></ul></li><li><label class='ee-shut'>1750: [-70.84757607279275, -13.950021994017547]<input type='checkbox' class='ee-toggle'></label><ul><li><span class='ee-k'>0:</span><span class='ee-v'>-70.84757607279275</span></li><li><span class='ee-k'>1:</span><span class='ee-v'>-13.950021994017547</span></li></ul></li><li><label class='ee-shut'>1751: [-70.84785366909487, -13.950019885491912]<input type='checkbox' class='ee-toggle'></label><ul><li><span class='ee-k'>0:</span><span class='ee-v'>-70.84785366909487</span></li><li><span class='ee-k'>1:</span><span class='ee-v'>-13.950019885491912</span></li></ul></li><li><label class='ee-shut'>1752: [-70.84786230570464, -13.951104361940194]<input type='checkbox' class='ee-toggle'></label><ul><li><span class='ee-k'>0:</span><span class='ee-v'>-70.84786230570464</span></li><li><span class='ee-k'>1:</span><span class='ee-v'>-13.951104361940194</span></li></ul></li><li><label class='ee-shut'>1753: [-70.84813990326441, -13.951102252929468]<input type='checkbox' class='ee-toggle'></label><ul><li><span class='ee-k'>0:</span><span class='ee-v'>-70.84813990326441</span></li><li><span class='ee-k'>1:</span><span class='ee-v'>-13.951102252929468</span></li></ul></li><li><label class='ee-shut'>1754: [-70.84814206285029, -13.951373371974165]<input type='checkbox' class='ee-toggle'></label><ul><li><span class='ee-k'>0:</span><span class='ee-v'>-70.84814206285029</span></li><li><span class='ee-k'>1:</span><span class='ee-v'>-13.951373371974165</span></li></ul></li><li><label class='ee-shut'>1755: [-70.84841966068855, -13.951371262604114]<input type='checkbox' class='ee-toggle'></label><ul><li><span class='ee-k'>0:</span><span class='ee-v'>-70.84841966068855</span></li><li><span class='ee-k'>1:</span><span class='ee-v'>-13.951371262604114</span></li></ul></li><li><label class='ee-shut'>1756: [-70.84842182065171, -13.951642381612878]<input type='checkbox' class='ee-toggle'></label><ul><li><span class='ee-k'>0:</span><span class='ee-v'>-70.84842182065171</span></li><li><span class='ee-k'>1:</span><span class='ee-v'>-13.951642381612878</span></li></ul></li><li><label class='ee-shut'>1757: [-70.84869941875947, -13.951640271883502]<input type='checkbox' class='ee-toggle'></label><ul><li><span class='ee-k'>0:</span><span class='ee-v'>-70.84869941875947</span></li><li><span class='ee-k'>1:</span><span class='ee-v'>-13.951640271883502</span></li></ul></li><li><label class='ee-shut'>1758: [-70.84870157909094, -13.951911390838367]<input type='checkbox' class='ee-toggle'></label><ul><li><span class='ee-k'>0:</span><span class='ee-v'>-70.84870157909094</span></li><li><span class='ee-k'>1:</span><span class='ee-v'>-13.951911390838367</span></li></ul></li><li><label class='ee-shut'>1759: [-70.84897917747718, -13.951909280749662]<input type='checkbox' class='ee-toggle'></label><ul><li><span class='ee-k'>0:</span><span class='ee-v'>-70.84897917747718</span></li><li><span class='ee-k'>1:</span><span class='ee-v'>-13.951909280749662</span></li></ul></li><li><label class='ee-shut'>1760: [-70.84898782056378, -13.952993756326578]<input type='checkbox' class='ee-toggle'></label><ul><li><span class='ee-k'>0:</span><span class='ee-v'>-70.84898782056378</span></li><li><span class='ee-k'>1:</span><span class='ee-v'>-13.952993756326578</span></li></ul></li><li><label class='ee-shut'>1761: [-70.84926542019866, -13.952991645752785]<input type='checkbox' class='ee-toggle'></label><ul><li><span class='ee-k'>0:</span><span class='ee-v'>-70.84926542019866</span></li><li><span class='ee-k'>1:</span><span class='ee-v'>-13.952991645752785</span></li></ul></li><li><label class='ee-shut'>1762: [-70.84926758141049, -13.95326276459087]<input type='checkbox' class='ee-toggle'></label><ul><li><span class='ee-k'>0:</span><span class='ee-v'>-70.84926758141049</span></li><li><span class='ee-k'>1:</span><span class='ee-v'>-13.95326276459087</span></li></ul></li><li><label class='ee-shut'>1763: [-70.84954518132386, -13.953260653657749]<input type='checkbox' class='ee-toggle'></label><ul><li><span class='ee-k'>0:</span><span class='ee-v'>-70.84954518132386</span></li><li><span class='ee-k'>1:</span><span class='ee-v'>-13.953260653657749</span></li></ul></li><li><label class='ee-shut'>1764: [-70.84954950453803, -13.95380289122612]<input type='checkbox' class='ee-toggle'></label><ul><li><span class='ee-k'>0:</span><span class='ee-v'>-70.84954950453803</span></li><li><span class='ee-k'>1:</span><span class='ee-v'>-13.95380289122612</span></li></ul></li><li><label class='ee-shut'>1765: [-70.84927190397788, -13.953805002249071]<input type='checkbox' class='ee-toggle'></label><ul><li><span class='ee-k'>0:</span><span class='ee-v'>-70.84927190397788</span></li><li><span class='ee-k'>1:</span><span class='ee-v'>-13.953805002249071</span></li></ul></li><li><label class='ee-shut'>1766: [-70.84927406532445, -13.954076121069189]<input type='checkbox' class='ee-toggle'></label><ul><li><span class='ee-k'>0:</span><span class='ee-v'>-70.84927406532445</span></li><li><span class='ee-k'>1:</span><span class='ee-v'>-13.954076121069189</span></li></ul></li><li><label class='ee-shut'>1767: [-70.84955166620799, -13.954074010001321]<input type='checkbox' class='ee-toggle'></label><ul><li><span class='ee-k'>0:</span><span class='ee-v'>-70.84955166620799</span></li><li><span class='ee-k'>1:</span><span class='ee-v'>-13.954074010001321</span></li></ul></li><li><label class='ee-shut'>1768: [-70.84955598970065, -13.95461624753376]<input type='checkbox' class='ee-toggle'></label><ul><li><span class='ee-k'>0:</span><span class='ee-v'>-70.84955598970065</span></li><li><span class='ee-k'>1:</span><span class='ee-v'>-13.95461624753376</span></li></ul></li><li><label class='ee-shut'>1769: [-70.84872318495692, -13.954622580027692]<input type='checkbox' class='ee-toggle'></label><ul><li><span class='ee-k'>0:</span><span class='ee-v'>-70.84872318495692</span></li><li><span class='ee-k'>1:</span><span class='ee-v'>-13.954622580027692</span></li></ul></li><li><label class='ee-shut'>1770: [-70.84871886341362, -13.954080342243726]<input type='checkbox' class='ee-toggle'></label><ul><li><span class='ee-k'>0:</span><span class='ee-v'>-70.84871886341362</span></li><li><span class='ee-k'>1:</span><span class='ee-v'>-13.954080342243726</span></li></ul></li><li><label class='ee-shut'>1771: [-70.84844126238634, -13.954082452350395]<input type='checkbox' class='ee-toggle'></label><ul><li><span class='ee-k'>0:</span><span class='ee-v'>-70.84844126238634</span></li><li><span class='ee-k'>1:</span><span class='ee-v'>-13.954082452350395</span></li></ul></li><li><label class='ee-shut'>1772: [-70.84845422562387, -13.955709165899924]<input type='checkbox' class='ee-toggle'></label><ul><li><span class='ee-k'>0:</span><span class='ee-v'>-70.84845422562387</span></li><li><span class='ee-k'>1:</span><span class='ee-v'>-13.955709165899924</span></li></ul></li><li><label class='ee-shut'>1773: [-70.84817662261132, -13.955711275943711]<input type='checkbox' class='ee-toggle'></label><ul><li><span class='ee-k'>0:</span><span class='ee-v'>-70.84817662261132</span></li><li><span class='ee-k'>1:</span><span class='ee-v'>-13.955711275943711</span></li></ul></li><li><label class='ee-shut'>1774: [-70.84817878298772, -13.955982394889594]<input type='checkbox' class='ee-toggle'></label><ul><li><span class='ee-k'>0:</span><span class='ee-v'>-70.84817878298772</span></li><li><span class='ee-k'>1:</span><span class='ee-v'>-13.955982394889594</span></li></ul></li><li><label class='ee-shut'>1775: [-70.84790117959787, -13.95598450467287]<input type='checkbox' class='ee-toggle'></label><ul><li><span class='ee-k'>0:</span><span class='ee-v'>-70.84790117959787</span></li><li><span class='ee-k'>1:</span><span class='ee-v'>-13.95598450467287</span></li></ul></li><li><label class='ee-shut'>1776: [-70.847909820277, -13.957068980555213]<input type='checkbox' class='ee-toggle'></label><ul><li><span class='ee-k'>0:</span><span class='ee-v'>-70.847909820277</span></li><li><span class='ee-k'>1:</span><span class='ee-v'>-13.957068980555213</span></li></ul></li><li><label class='ee-shut'>1777: [-70.84763221554866, -13.957071090185776]<input type='checkbox' class='ee-toggle'></label><ul><li><span class='ee-k'>0:</span><span class='ee-v'>-70.84763221554866</span></li><li><span class='ee-k'>1:</span><span class='ee-v'>-13.957071090185776</span></li></ul></li><li><label class='ee-shut'>1778: [-70.84763437550284, -13.957342209185557]<input type='checkbox' class='ee-toggle'></label><ul><li><span class='ee-k'>0:</span><span class='ee-v'>-70.84763437550284</span></li><li><span class='ee-k'>1:</span><span class='ee-v'>-13.957342209185557</span></li></ul></li><li><label class='ee-shut'>1779: [-70.8473567704062, -13.957344318537642]<input type='checkbox' class='ee-toggle'></label><ul><li><span class='ee-k'>0:</span><span class='ee-v'>-70.8473567704062</span></li><li><span class='ee-k'>1:</span><span class='ee-v'>-13.957344318537642</span></li></ul></li><li><label class='ee-shut'>1780: [-70.8473610898205, -13.957886556600085]<input type='checkbox' class='ee-toggle'></label><ul><li><span class='ee-k'>0:</span><span class='ee-v'>-70.8473610898205</span></li><li><span class='ee-k'>1:</span><span class='ee-v'>-13.957886556600085</span></li></ul></li><li><label class='ee-shut'>1781: [-70.84708348402316, -13.957888665727591]<input type='checkbox' class='ee-toggle'></label><ul><li><span class='ee-k'>0:</span><span class='ee-v'>-70.84708348402316</span></li><li><span class='ee-k'>1:</span><span class='ee-v'>-13.957888665727591</span></li></ul></li><li><label class='ee-shut'>1782: [-70.84708564347429, -13.958159784790254]<input type='checkbox' class='ee-toggle'></label><ul><li><span class='ee-k'>0:</span><span class='ee-v'>-70.84708564347429</span></li><li><span class='ee-k'>1:</span><span class='ee-v'>-13.958159784790254</span></li></ul></li><li><label class='ee-shut'>1783: [-70.84736324959502, -13.958157675617834]<input type='checkbox' class='ee-toggle'></label><ul><li><span class='ee-k'>0:</span><span class='ee-v'>-70.84736324959502</span></li><li><span class='ee-k'>1:</span><span class='ee-v'>-13.958157675617834</span></li></ul></li><li><label class='ee-shut'>1784: [-70.84736540941445, -13.95842879463558]<input type='checkbox' class='ee-toggle'></label><ul><li><span class='ee-k'>0:</span><span class='ee-v'>-70.84736540941445</span></li><li><span class='ee-k'>1:</span><span class='ee-v'>-13.95842879463558</span></li></ul></li><li><label class='ee-shut'>1785: [-70.849031047091, -13.958416132719954]<input type='checkbox' class='ee-toggle'></label><ul><li><span class='ee-k'>0:</span><span class='ee-v'>-70.849031047091</span></li><li><span class='ee-k'>1:</span><span class='ee-v'>-13.958416132719954</span></li></ul></li><li><label class='ee-shut'>1786: [-70.8490332089047, -13.958687251468206]<input type='checkbox' class='ee-toggle'></label><ul><li><span class='ee-k'>0:</span><span class='ee-v'>-70.8490332089047</span></li><li><span class='ee-k'>1:</span><span class='ee-v'>-13.958687251468206</span></li></ul></li><li><label class='ee-shut'>1787: [-70.84931081534882, -13.958685139996097]<input type='checkbox' class='ee-toggle'></label><ul><li><span class='ee-k'>0:</span><span class='ee-v'>-70.84931081534882</span></li><li><span class='ee-k'>1:</span><span class='ee-v'>-13.958685139996097</span></li></ul></li><li><label class='ee-shut'>1788: [-70.84931297752185, -13.958956258699434]<input type='checkbox' class='ee-toggle'></label><ul><li><span class='ee-k'>0:</span><span class='ee-v'>-70.84931297752185</span></li><li><span class='ee-k'>1:</span><span class='ee-v'>-13.958956258699434</span></li></ul></li><li><label class='ee-shut'>1789: [-70.84959058424444, -13.958954146876982]<input type='checkbox' class='ee-toggle'></label><ul><li><span class='ee-k'>0:</span><span class='ee-v'>-70.84959058424444</span></li><li><span class='ee-k'>1:</span><span class='ee-v'>-13.958954146876982</span></li></ul></li><li><label class='ee-shut'>1790: [-70.84959490939897, -13.959496384175859]<input type='checkbox' class='ee-toggle'></label><ul><li><span class='ee-k'>0:</span><span class='ee-v'>-70.84959490939897</span></li><li><span class='ee-k'>1:</span><span class='ee-v'>-13.959496384175859</span></li></ul></li><li><label class='ee-shut'>1791: [-70.84987251671446, -13.959494271949165]<input type='checkbox' class='ee-toggle'></label><ul><li><span class='ee-k'>0:</span><span class='ee-v'>-70.84987251671446</span></li><li><span class='ee-k'>1:</span><span class='ee-v'>-13.959494271949165</span></li></ul></li><li><label class='ee-shut'>1792: [-70.84987467968698, -13.959765390544703]<input type='checkbox' class='ee-toggle'></label><ul><li><span class='ee-k'>0:</span><span class='ee-v'>-70.84987467968698</span></li><li><span class='ee-k'>1:</span><span class='ee-v'>-13.959765390544703</span></li></ul></li><li><label class='ee-shut'>1793: [-70.85015228728992, -13.959763277958684]<input type='checkbox' class='ee-toggle'></label><ul><li><span class='ee-k'>0:</span><span class='ee-v'>-70.85015228728992</span></li><li><span class='ee-k'>1:</span><span class='ee-v'>-13.959763277958684</span></li></ul></li><li><label class='ee-shut'>1794: [-70.85015445063075, -13.960034396500324]<input type='checkbox' class='ee-toggle'></label><ul><li><span class='ee-k'>0:</span><span class='ee-v'>-70.85015445063075</span></li><li><span class='ee-k'>1:</span><span class='ee-v'>-13.960034396500324</span></li></ul></li><li><label class='ee-shut'>1795: [-70.8507096663397, -13.960030170286238]<input type='checkbox' class='ee-toggle'></label><ul><li><span class='ee-k'>0:</span><span class='ee-v'>-70.8507096663397</span></li><li><span class='ee-k'>1:</span><span class='ee-v'>-13.960030170286238</span></li></ul></li><li><label class='ee-shut'>1796: [-70.85071183037223, -13.96030128874703]<input type='checkbox' class='ee-toggle'></label><ul><li><span class='ee-k'>0:</span><span class='ee-v'>-70.85071183037223</span></li><li><span class='ee-k'>1:</span><span class='ee-v'>-13.96030128874703</span></li></ul></li><li><label class='ee-shut'>1797: [-70.85293269394462, -13.9602843708741]<input type='checkbox' class='ee-toggle'></label><ul><li><span class='ee-k'>0:</span><span class='ee-v'>-70.85293269394462</span></li><li><span class='ee-k'>1:</span><span class='ee-v'>-13.9602843708741</span></li></ul></li><li><label class='ee-shut'>1798: [-70.85293702734569, -13.960826607094996]<input type='checkbox' class='ee-toggle'></label><ul><li><span class='ee-k'>0:</span><span class='ee-v'>-70.85293702734569</span></li><li><span class='ee-k'>1:</span><span class='ee-v'>-13.960826607094996</span></li></ul></li><li><label class='ee-shut'>1799: [-70.85349224406973, -13.960822374287277]<input type='checkbox' class='ee-toggle'></label><ul><li><span class='ee-k'>0:</span><span class='ee-v'>-70.85349224406973</span></li><li><span class='ee-k'>1:</span><span class='ee-v'>-13.960822374287277</span></li></ul></li><li><label class='ee-shut'>1800: [-70.85349441148891, -13.961093492298911]<input type='checkbox' class='ee-toggle'></label><ul><li><span class='ee-k'>0:</span><span class='ee-v'>-70.85349441148891</span></li><li><span class='ee-k'>1:</span><span class='ee-v'>-13.961093492298911</span></li></ul></li><li><label class='ee-shut'>1801: [-70.85377202010696, -13.961091375383011]<input type='checkbox' class='ee-toggle'></label><ul><li><span class='ee-k'>0:</span><span class='ee-v'>-70.85377202010696</span></li><li><span class='ee-k'>1:</span><span class='ee-v'>-13.961091375383011</span></li></ul></li><li><label class='ee-shut'>1802: [-70.85377418788546, -13.961362493340747]<input type='checkbox' class='ee-toggle'></label><ul><li><span class='ee-k'>0:</span><span class='ee-v'>-70.85377418788546</span></li><li><span class='ee-k'>1:</span><span class='ee-v'>-13.961362493340747</span></li></ul></li><li><label class='ee-shut'>1803: [-70.85405179678199, -13.961360376065521]<input type='checkbox' class='ee-toggle'></label><ul><li><span class='ee-k'>0:</span><span class='ee-v'>-70.85405179678199</span></li><li><span class='ee-k'>1:</span><span class='ee-v'>-13.961360376065521</span></li></ul></li><li><label class='ee-shut'>1804: [-70.85405396493779, -13.96163149397834]<input type='checkbox' class='ee-toggle'></label><ul><li><span class='ee-k'>0:</span><span class='ee-v'>-70.85405396493779</span></li><li><span class='ee-k'>1:</span><span class='ee-v'>-13.96163149397834</span></li></ul></li><li><label class='ee-shut'>1805: [-70.85433157411278, -13.961629376343788]<input type='checkbox' class='ee-toggle'></label><ul><li><span class='ee-k'>0:</span><span class='ee-v'>-70.85433157411278</span></li><li><span class='ee-k'>1:</span><span class='ee-v'>-13.961629376343788</span></li></ul></li><li><label class='ee-shut'>1806: [-70.8543337426369, -13.961900494202709]<input type='checkbox' class='ee-toggle'></label><ul><li><span class='ee-k'>0:</span><span class='ee-v'>-70.8543337426369</span></li><li><span class='ee-k'>1:</span><span class='ee-v'>-13.961900494202709</span></li></ul></li><li><label class='ee-shut'>1807: [-70.85488896149893, -13.96189625789156]<input type='checkbox' class='ee-toggle'></label><ul><li><span class='ee-k'>0:</span><span class='ee-v'>-70.85488896149893</span></li><li><span class='ee-k'>1:</span><span class='ee-v'>-13.96189625789156</span></li></ul></li><li><label class='ee-shut'>1808: [-70.85488679232803, -13.961625140113487]<input type='checkbox' class='ee-toggle'></label><ul><li><span class='ee-k'>0:</span><span class='ee-v'>-70.85488679232803</span></li><li><span class='ee-k'>1:</span><span class='ee-v'>-13.961625140113487</span></li></ul></li><li><label class='ee-shut'>1809: [-70.85599722819258, -13.961616663861994]<input type='checkbox' class='ee-toggle'></label><ul><li><span class='ee-k'>0:</span><span class='ee-v'>-70.85599722819258</span></li><li><span class='ee-k'>1:</span><span class='ee-v'>-13.961616663861994</span></li></ul></li><li><label class='ee-shut'>1810: [-70.85599939865705, -13.961887781469386]<input type='checkbox' class='ee-toggle'></label><ul><li><span class='ee-k'>0:</span><span class='ee-v'>-70.85599939865705</span></li><li><span class='ee-k'>1:</span><span class='ee-v'>-13.961887781469386</span></li></ul></li><li><label class='ee-shut'>1811: [-70.8590530970218, -13.961864445178666]<input type='checkbox' class='ee-toggle'></label><ul><li><span class='ee-k'>0:</span><span class='ee-v'>-70.8590530970218</span></li><li><span class='ee-k'>1:</span><span class='ee-v'>-13.961864445178666</span></li></ul></li><li><label class='ee-shut'>1812: [-70.859050922991, -13.961593328038399]<input type='checkbox' class='ee-toggle'></label><ul><li><span class='ee-k'>0:</span><span class='ee-v'>-70.859050922991</span></li><li><span class='ee-k'>1:</span><span class='ee-v'>-13.961593328038399</span></li></ul></li><li><label class='ee-shut'>1813: [-70.86265982777613, -13.961565699956576]<input type='checkbox' class='ee-toggle'></label><ul><li><span class='ee-k'>0:</span><span class='ee-v'>-70.86265982777613</span></li><li><span class='ee-k'>1:</span><span class='ee-v'>-13.961565699956576</span></li></ul></li><li><label class='ee-shut'>1814: [-70.86266636266947, -13.962379049670583]<input type='checkbox' class='ee-toggle'></label><ul><li><span class='ee-k'>0:</span><span class='ee-v'>-70.86266636266947</span></li><li><span class='ee-k'>1:</span><span class='ee-v'>-13.962379049670583</span></li></ul></li><li><label class='ee-shut'>1815: [-70.86238875391668, -13.962381176944056]<input type='checkbox' class='ee-toggle'></label><ul><li><span class='ee-k'>0:</span><span class='ee-v'>-70.86238875391668</span></li><li><span class='ee-k'>1:</span><span class='ee-v'>-13.962381176944056</span></li></ul></li><li><label class='ee-shut'>1816: [-70.86239311009902, -13.962923410146615]<input type='checkbox' class='ee-toggle'></label><ul><li><span class='ee-k'>0:</span><span class='ee-v'>-70.86239311009902</span></li><li><span class='ee-k'>1:</span><span class='ee-v'>-13.962923410146615</span></li></ul></li><li><label class='ee-shut'>1817: [-70.86183789114716, -13.962927663894064]<input type='checkbox' class='ee-toggle'></label><ul><li><span class='ee-k'>0:</span><span class='ee-v'>-70.86183789114716</span></li><li><span class='ee-k'>1:</span><span class='ee-v'>-13.962927663894064</span></li></ul></li><li><label class='ee-shut'>1818: [-70.86184006866341, -13.963198780576192]<input type='checkbox' class='ee-toggle'></label><ul><li><span class='ee-k'>0:</span><span class='ee-v'>-70.86184006866341</span></li><li><span class='ee-k'>1:</span><span class='ee-v'>-13.963198780576192</span></li></ul></li><li><label class='ee-shut'>1819: [-70.86156245879671, -13.963200907023216]<input type='checkbox' class='ee-toggle'></label><ul><li><span class='ee-k'>0:</span><span class='ee-v'>-70.86156245879671</span></li><li><span class='ee-k'>1:</span><span class='ee-v'>-13.963200907023216</span></li></ul></li><li><label class='ee-shut'>1820: [-70.86156899063579, -13.964014257141464]<input type='checkbox' class='ee-toggle'></label><ul><li><span class='ee-k'>0:</span><span class='ee-v'>-70.86156899063579</span></li><li><span class='ee-k'>1:</span><span class='ee-v'>-13.964014257141464</span></li></ul></li><li><label class='ee-shut'>1821: [-70.86184660147266, -13.964012130568676]<input type='checkbox' class='ee-toggle'></label><ul><li><span class='ee-k'>0:</span><span class='ee-v'>-70.86184660147266</span></li><li><span class='ee-k'>1:</span><span class='ee-v'>-13.964012130568676</span></li></ul></li><li><label class='ee-shut'>1822: [-70.86184877917756, -13.964283247223854]<input type='checkbox' class='ee-toggle'></label><ul><li><span class='ee-k'>0:</span><span class='ee-v'>-70.86184877917756</span></li><li><span class='ee-k'>1:</span><span class='ee-v'>-13.964283247223854</span></li></ul></li><li><label class='ee-shut'>1823: [-70.86212639029291, -13.964281120282756]<input type='checkbox' class='ee-toggle'></label><ul><li><span class='ee-k'>0:</span><span class='ee-v'>-70.86212639029291</span></li><li><span class='ee-k'>1:</span><span class='ee-v'>-13.964281120282756</span></li></ul></li><li><label class='ee-shut'>1824: [-70.86213074647526, -13.964823353485315]<input type='checkbox' class='ee-toggle'></label><ul><li><span class='ee-k'>0:</span><span class='ee-v'>-70.86213074647526</span></li><li><span class='ee-k'>1:</span><span class='ee-v'>-13.964823353485315</span></li></ul></li><li><label class='ee-shut'>1825: [-70.8626859698648, -13.96481909849819]<input type='checkbox' class='ee-toggle'></label><ul><li><span class='ee-k'>0:</span><span class='ee-v'>-70.8626859698648</span></li><li><span class='ee-k'>1:</span><span class='ee-v'>-13.96481909849819</span></li></ul></li><li><label class='ee-shut'>1826: [-70.86268814867462, -13.965090215000654]<input type='checkbox' class='ee-toggle'></label><ul><li><span class='ee-k'>0:</span><span class='ee-v'>-70.86268814867462</span></li><li><span class='ee-k'>1:</span><span class='ee-v'>-13.965090215000654</span></li></ul></li><li><label class='ee-shut'>1827: [-70.86324337253129, -13.965085958657074]<input type='checkbox' class='ee-toggle'></label><ul><li><span class='ee-k'>0:</span><span class='ee-v'>-70.86324337253129</span></li><li><span class='ee-k'>1:</span><span class='ee-v'>-13.965085958657074</span></li></ul></li><li><label class='ee-shut'>1828: [-70.86324555203281, -13.965357075069706]<input type='checkbox' class='ee-toggle'></label><ul><li><span class='ee-k'>0:</span><span class='ee-v'>-70.86324555203281</span></li><li><span class='ee-k'>1:</span><span class='ee-v'>-13.965357075069706</span></li></ul></li><li><label class='ee-shut'>1829: [-70.86352316421716, -13.965354946385878]<input type='checkbox' class='ee-toggle'></label><ul><li><span class='ee-k'>0:</span><span class='ee-v'>-70.86352316421716</span></li><li><span class='ee-k'>1:</span><span class='ee-v'>-13.965354946385878</span></li></ul></li><li><label class='ee-shut'>1830: [-70.863525344087, -13.965626062744612]<input type='checkbox' class='ee-toggle'></label><ul><li><span class='ee-k'>0:</span><span class='ee-v'>-70.863525344087</span></li><li><span class='ee-k'>1:</span><span class='ee-v'>-13.965626062744612</span></li></ul></li><li><label class='ee-shut'>1831: [-70.86380295654983, -13.965623933701455]<input type='checkbox' class='ee-toggle'></label><ul><li><span class='ee-k'>0:</span><span class='ee-v'>-70.86380295654983</span></li><li><span class='ee-k'>1:</span><span class='ee-v'>-13.965623933701455</span></li></ul></li><li><label class='ee-shut'>1832: [-70.86380513679696, -13.965895050015273]<input type='checkbox' class='ee-toggle'></label><ul><li><span class='ee-k'>0:</span><span class='ee-v'>-70.86380513679696</span></li><li><span class='ee-k'>1:</span><span class='ee-v'>-13.965895050015273</span></li></ul></li><li><label class='ee-shut'>1833: [-70.86436036222567, -13.965890790877932]<input type='checkbox' class='ee-toggle'></label><ul><li><span class='ee-k'>0:</span><span class='ee-v'>-70.86436036222567</span></li><li><span class='ee-k'>1:</span><span class='ee-v'>-13.965890790877932</span></li></ul></li><li><label class='ee-shut'>1834: [-70.8643625431645, -13.966161907101919]<input type='checkbox' class='ee-toggle'></label><ul><li><span class='ee-k'>0:</span><span class='ee-v'>-70.8643625431645</span></li><li><span class='ee-k'>1:</span><span class='ee-v'>-13.966161907101919</span></li></ul></li><li><label class='ee-shut'>1835: [-70.86464015613038, -13.966159777016717]<input type='checkbox' class='ee-toggle'></label><ul><li><span class='ee-k'>0:</span><span class='ee-v'>-70.86464015613038</span></li><li><span class='ee-k'>1:</span><span class='ee-v'>-13.966159777016717</span></li></ul></li><li><label class='ee-shut'>1836: [-70.86464233744651, -13.966430893186805]<input type='checkbox' class='ee-toggle'></label><ul><li><span class='ee-k'>0:</span><span class='ee-v'>-70.86464233744651</span></li><li><span class='ee-k'>1:</span><span class='ee-v'>-13.966430893186805</span></li></ul></li><li><label class='ee-shut'>1837: [-70.86491995069088, -13.966428762742277]<input type='checkbox' class='ee-toggle'></label><ul><li><span class='ee-k'>0:</span><span class='ee-v'>-70.86491995069088</span></li><li><span class='ee-k'>1:</span><span class='ee-v'>-13.966428762742277</span></li></ul></li><li><label class='ee-shut'>1838: [-70.8649264958789, -13.967242111090844]<input type='checkbox' class='ee-toggle'></label><ul><li><span class='ee-k'>0:</span><span class='ee-v'>-70.8649264958789</span></li><li><span class='ee-k'>1:</span><span class='ee-v'>-13.967242111090844</span></li></ul></li><li><label class='ee-shut'>1839: [-70.86409365308256, -13.967248501858489]<input type='checkbox' class='ee-toggle'></label><ul><li><span class='ee-k'>0:</span><span class='ee-v'>-70.86409365308256</span></li><li><span class='ee-k'>1:</span><span class='ee-v'>-13.967248501858489</span></li></ul></li><li><label class='ee-shut'>1840: [-70.86409801483447, -13.967790734315447]<input type='checkbox' class='ee-toggle'></label><ul><li><span class='ee-k'>0:</span><span class='ee-v'>-70.86409801483447</span></li><li><span class='ee-k'>1:</span><span class='ee-v'>-13.967790734315447</span></li></ul></li><li><label class='ee-shut'>1841: [-70.86382039982941, -13.967792864023355]<input type='checkbox' class='ee-toggle'></label><ul><li><span class='ee-k'>0:</span><span class='ee-v'>-70.86382039982941</span></li><li><span class='ee-k'>1:</span><span class='ee-v'>-13.967792864023355</span></li></ul></li><li><label class='ee-shut'>1842: [-70.86382258044483, -13.968063980283274]<input type='checkbox' class='ee-toggle'></label><ul><li><span class='ee-k'>0:</span><span class='ee-v'>-70.86382258044483</span></li><li><span class='ee-k'>1:</span><span class='ee-v'>-13.968063980283274</span></li></ul></li><li><label class='ee-shut'>1843: [-70.86410019578227, -13.968061850539433]<input type='checkbox' class='ee-toggle'></label><ul><li><span class='ee-k'>0:</span><span class='ee-v'>-70.86410019578227</span></li><li><span class='ee-k'>1:</span><span class='ee-v'>-13.968061850539433</span></li></ul></li><li><label class='ee-shut'>1844: [-70.86410455780367, -13.968604082951474]<input type='checkbox' class='ee-toggle'></label><ul><li><span class='ee-k'>0:</span><span class='ee-v'>-70.86410455780367</span></li><li><span class='ee-k'>1:</span><span class='ee-v'>-13.968604082951474</span></li></ul></li><li><label class='ee-shut'>1845: [-70.86438217374297, -13.96860195280339]<input type='checkbox' class='ee-toggle'></label><ul><li><span class='ee-k'>0:</span><span class='ee-v'>-70.86438217374297</span></li><li><span class='ee-k'>1:</span><span class='ee-v'>-13.96860195280339</span></li></ul></li><li><label class='ee-shut'>1846: [-70.86438435514893, -13.968873068955512]<input type='checkbox' class='ee-toggle'></label><ul><li><span class='ee-k'>0:</span><span class='ee-v'>-70.86438435514893</span></li><li><span class='ee-k'>1:</span><span class='ee-v'>-13.968873068955512</span></li></ul></li><li><label class='ee-shut'>1847: [-70.86466197135773, -13.9688709384481]<input type='checkbox' class='ee-toggle'></label><ul><li><span class='ee-k'>0:</span><span class='ee-v'>-70.86466197135773</span></li><li><span class='ee-k'>1:</span><span class='ee-v'>-13.9688709384481</span></li></ul></li><li><label class='ee-shut'>1848: [-70.86466415314098, -13.969142054555308]<input type='checkbox' class='ee-toggle'></label><ul><li><span class='ee-k'>0:</span><span class='ee-v'>-70.86466415314098</span></li><li><span class='ee-k'>1:</span><span class='ee-v'>-13.969142054555308</span></li></ul></li><li><label class='ee-shut'>1849: [-70.86521938607062, -13.969137792489459]<input type='checkbox' class='ee-toggle'></label><ul><li><span class='ee-k'>0:</span><span class='ee-v'>-70.86521938607062</span></li><li><span class='ee-k'>1:</span><span class='ee-v'>-13.969137792489459</span></li></ul></li><li><label class='ee-shut'>1850: [-70.8652281162489, -13.97022225651404]<input type='checkbox' class='ee-toggle'></label><ul><li><span class='ee-k'>0:</span><span class='ee-v'>-70.8652281162489</span></li><li><span class='ee-k'>1:</span><span class='ee-v'>-13.97022225651404</span></li></ul></li><li><label class='ee-shut'>1851: [-70.86495049850397, -13.970224387874849]<input type='checkbox' class='ee-toggle'></label><ul><li><span class='ee-k'>0:</span><span class='ee-v'>-70.86495049850397</span></li><li><span class='ee-k'>1:</span><span class='ee-v'>-13.970224387874849</span></li></ul></li><li><label class='ee-shut'>1852: [-70.86495486322032, -13.970766619936548]<input type='checkbox' class='ee-toggle'></label><ul><li><span class='ee-k'>0:</span><span class='ee-v'>-70.86495486322032</span></li><li><span class='ee-k'>1:</span><span class='ee-v'>-13.970766619936548</span></li></ul></li><li><label class='ee-shut'>1853: [-70.86467724479267, -13.970768751063794]<input type='checkbox' class='ee-toggle'></label><ul><li><span class='ee-k'>0:</span><span class='ee-v'>-70.86467724479267</span></li><li><span class='ee-k'>1:</span><span class='ee-v'>-13.970768751063794</span></li></ul></li><li><label class='ee-shut'>1854: [-70.86467942689033, -13.971039867126084]<input type='checkbox' class='ee-toggle'></label><ul><li><span class='ee-k'>0:</span><span class='ee-v'>-70.86467942689033</span></li><li><span class='ee-k'>1:</span><span class='ee-v'>-13.971039867126084</span></li></ul></li><li><label class='ee-shut'>1855: [-70.86440180808539, -13.971041997983837]<input type='checkbox' class='ee-toggle'></label><ul><li><span class='ee-k'>0:</span><span class='ee-v'>-70.86440180808539</span></li><li><span class='ee-k'>1:</span><span class='ee-v'>-13.971041997983837</span></li></ul></li><li><label class='ee-shut'>1856: [-70.86440398991355, -13.97131311408206]<input type='checkbox' class='ee-toggle'></label><ul><li><span class='ee-k'>0:</span><span class='ee-v'>-70.86440398991355</span></li><li><span class='ee-k'>1:</span><span class='ee-v'>-13.97131311408206</span></li></ul></li><li><label class='ee-shut'>1857: [-70.86412637074031, -13.971315244670318]<input type='checkbox' class='ee-toggle'></label><ul><li><span class='ee-k'>0:</span><span class='ee-v'>-70.86412637074031</span></li><li><span class='ee-k'>1:</span><span class='ee-v'>-13.971315244670318</span></li></ul></li><li><label class='ee-shut'>1858: [-70.8641307338846, -13.971857476938629]<input type='checkbox' class='ee-toggle'></label><ul><li><span class='ee-k'>0:</span><span class='ee-v'>-70.8641307338846</span></li><li><span class='ee-k'>1:</span><span class='ee-v'>-13.971857476938629</span></li></ul></li><li><label class='ee-shut'>1859: [-70.86440835371361, -13.971855346269521]<input type='checkbox' class='ee-toggle'></label><ul><li><span class='ee-k'>0:</span><span class='ee-v'>-70.86440835371361</span></li><li><span class='ee-k'>1:</span><span class='ee-v'>-13.971855346269521</span></li></ul></li><li><label class='ee-shut'>1860: [-70.86441053567651, -13.972126462349777]<input type='checkbox' class='ee-toggle'></label><ul><li><span class='ee-k'>0:</span><span class='ee-v'>-70.86441053567651</span></li><li><span class='ee-k'>1:</span><span class='ee-v'>-13.972126462349777</span></li></ul></li><li><label class='ee-shut'>1861: [-70.86468815578401, -13.972124331321345]<input type='checkbox' class='ee-toggle'></label><ul><li><span class='ee-k'>0:</span><span class='ee-v'>-70.86468815578401</span></li><li><span class='ee-k'>1:</span><span class='ee-v'>-13.972124331321345</span></li></ul></li><li><label class='ee-shut'>1862: [-70.86469252050932, -13.97266656337406]<input type='checkbox' class='ee-toggle'></label><ul><li><span class='ee-k'>0:</span><span class='ee-v'>-70.86469252050932</span></li><li><span class='ee-k'>1:</span><span class='ee-v'>-13.97266656337406</span></li></ul></li><li><label class='ee-shut'>1863: [-70.8655253824847, -13.972660168123822]<input type='checkbox' class='ee-toggle'></label><ul><li><span class='ee-k'>0:</span><span class='ee-v'>-70.8655253824847</span></li><li><span class='ee-k'>1:</span><span class='ee-v'>-13.972660168123822</span></li></ul></li><li><label class='ee-shut'>1864: [-70.86552756588492, -13.972931284015432]<input type='checkbox' class='ee-toggle'></label><ul><li><span class='ee-k'>0:</span><span class='ee-v'>-70.86552756588492</span></li><li><span class='ee-k'>1:</span><span class='ee-v'>-13.972931284015432</span></li></ul></li><li><label class='ee-shut'>1865: [-70.86580518678294, -13.972929151585628]<input type='checkbox' class='ee-toggle'></label><ul><li><span class='ee-k'>0:</span><span class='ee-v'>-70.86580518678294</span></li><li><span class='ee-k'>1:</span><span class='ee-v'>-13.972929151585628</span></li></ul></li><li><label class='ee-shut'>1866: [-70.86580737055145, -13.973200267432322]<input type='checkbox' class='ee-toggle'></label><ul><li><span class='ee-k'>0:</span><span class='ee-v'>-70.86580737055145</span></li><li><span class='ee-k'>1:</span><span class='ee-v'>-13.973200267432322</span></li></ul></li><li><label class='ee-shut'>1867: [-70.86608499171896, -13.97319813464319]<input type='checkbox' class='ee-toggle'></label><ul><li><span class='ee-k'>0:</span><span class='ee-v'>-70.86608499171896</span></li><li><span class='ee-k'>1:</span><span class='ee-v'>-13.97319813464319</span></li></ul></li><li><label class='ee-shut'>1868: [-70.86608936006449, -13.973740366219799]<input type='checkbox' class='ee-toggle'></label><ul><li><span class='ee-k'>0:</span><span class='ee-v'>-70.86608936006449</span></li><li><span class='ee-k'>1:</span><span class='ee-v'>-13.973740366219799</span></li></ul></li><li><label class='ee-shut'>1869: [-70.8658117382502, -13.973742499089777]<input type='checkbox' class='ee-toggle'></label><ul><li><span class='ee-k'>0:</span><span class='ee-v'>-70.8658117382502</span></li><li><span class='ee-k'>1:</span><span class='ee-v'>-13.973742499089777</span></li></ul></li><li><label class='ee-shut'>1870: [-70.86581392216245, -13.974013614909524]<input type='checkbox' class='ee-toggle'></label><ul><li><span class='ee-k'>0:</span><span class='ee-v'>-70.86581392216245</span></li><li><span class='ee-k'>1:</span><span class='ee-v'>-13.974013614909524</span></li></ul></li><li><label class='ee-shut'>1871: [-70.86553629997087, -13.974015747510007]<input type='checkbox' class='ee-toggle'></label><ul><li><span class='ee-k'>0:</span><span class='ee-v'>-70.86553629997087</span></li><li><span class='ee-k'>1:</span><span class='ee-v'>-13.974015747510007</span></li></ul></li><li><label class='ee-shut'>1872: [-70.86553848361362, -13.974286863365684]<input type='checkbox' class='ee-toggle'></label><ul><li><span class='ee-k'>0:</span><span class='ee-v'>-70.86553848361362</span></li><li><span class='ee-k'>1:</span><span class='ee-v'>-13.974286863365684</span></li></ul></li><li><label class='ee-shut'>1873: [-70.86498323844893, -13.974291127695288]<input type='checkbox' class='ee-toggle'></label><ul><li><span class='ee-k'>0:</span><span class='ee-v'>-70.86498323844893</span></li><li><span class='ee-k'>1:</span><span class='ee-v'>-13.974291127695288</span></li></ul></li><li><label class='ee-shut'>1874: [-70.86498105545296, -13.974020011758762]<input type='checkbox' class='ee-toggle'></label><ul><li><span class='ee-k'>0:</span><span class='ee-v'>-70.86498105545296</span></li><li><span class='ee-k'>1:</span><span class='ee-v'>-13.974020011758762</span></li></ul></li><li><label class='ee-shut'>1875: [-70.86442581075538, -13.97402427473191]<input type='checkbox' class='ee-toggle'></label><ul><li><span class='ee-k'>0:</span><span class='ee-v'>-70.86442581075538</span></li><li><span class='ee-k'>1:</span><span class='ee-v'>-13.97402427473191</span></li></ul></li><li><label class='ee-shut'>1876: [-70.86442362846009, -13.973753158696569]<input type='checkbox' class='ee-toggle'></label><ul><li><span class='ee-k'>0:</span><span class='ee-v'>-70.86442362846009</span></li><li><span class='ee-k'>1:</span><span class='ee-v'>-13.973753158696569</span></li></ul></li><li><label class='ee-shut'>1877: [-70.86359076202906, -13.973759550658972]<input type='checkbox' class='ee-toggle'></label><ul><li><span class='ee-k'>0:</span><span class='ee-v'>-70.86359076202906</span></li><li><span class='ee-k'>1:</span><span class='ee-v'>-13.973759550658972</span></li></ul></li><li><label class='ee-shut'>1878: [-70.8635929433452, -13.974030666820077]<input type='checkbox' class='ee-toggle'></label><ul><li><span class='ee-k'>0:</span><span class='ee-v'>-70.8635929433452</span></li><li><span class='ee-k'>1:</span><span class='ee-v'>-13.974030666820077</span></li></ul></li><li><label class='ee-shut'>1879: [-70.86331532078529, -13.974032796887313]<input type='checkbox' class='ee-toggle'></label><ul><li><span class='ee-k'>0:</span><span class='ee-v'>-70.86331532078529</span></li><li><span class='ee-k'>1:</span><span class='ee-v'>-13.974032796887313</span></li></ul></li><li><label class='ee-shut'>1880: [-70.86331313979257, -13.973761680681292]<input type='checkbox' class='ee-toggle'></label><ul><li><span class='ee-k'>0:</span><span class='ee-v'>-70.86331313979257</span></li><li><span class='ee-k'>1:</span><span class='ee-v'>-13.973761680681292</span></li></ul></li><li><label class='ee-shut'>1881: [-70.86275789517583, -13.973765939764734]<input type='checkbox' class='ee-toggle'></label><ul><li><span class='ee-k'>0:</span><span class='ee-v'>-70.86275789517583</span></li><li><span class='ee-k'>1:</span><span class='ee-v'>-13.973765939764734</span></li></ul></li><li><label class='ee-shut'>1882: [-70.86275571487481, -13.973494823468883]<input type='checkbox' class='ee-toggle'></label><ul><li><span class='ee-k'>0:</span><span class='ee-v'>-70.86275571487481</span></li><li><span class='ee-k'>1:</span><span class='ee-v'>-13.973494823468883</span></li></ul></li><li><label class='ee-shut'>1883: [-70.86220047072521, -13.973499081204851]<input type='checkbox' class='ee-toggle'></label><ul><li><span class='ee-k'>0:</span><span class='ee-v'>-70.86220047072521</span></li><li><span class='ee-k'>1:</span><span class='ee-v'>-13.973499081204851</span></li></ul></li><li><label class='ee-shut'>1884: [-70.86219829112487, -13.973227964810185]<input type='checkbox' class='ee-toggle'></label><ul><li><span class='ee-k'>0:</span><span class='ee-v'>-70.86219829112487</span></li><li><span class='ee-k'>1:</span><span class='ee-v'>-13.973227964810185</span></li></ul></li><li><label class='ee-shut'>1885: [-70.8619206693016, -13.973230093161638]<input type='checkbox' class='ee-toggle'></label><ul><li><span class='ee-k'>0:</span><span class='ee-v'>-70.8619206693016</span></li><li><span class='ee-k'>1:</span><span class='ee-v'>-13.973230093161638</span></li></ul></li><li><label class='ee-shut'>1886: [-70.86191849006956, -13.972958976713072]<input type='checkbox' class='ee-toggle'></label><ul><li><span class='ee-k'>0:</span><span class='ee-v'>-70.86191849006956</span></li><li><span class='ee-k'>1:</span><span class='ee-v'>-13.972958976713072</span></li></ul></li><li><label class='ee-shut'>1887: [-70.86164086852476, -13.972961104705199]<input type='checkbox' class='ee-toggle'></label><ul><li><span class='ee-k'>0:</span><span class='ee-v'>-70.86164086852476</span></li><li><span class='ee-k'>1:</span><span class='ee-v'>-13.972961104705199</span></li></ul></li><li><label class='ee-shut'>1888: [-70.86163868966105, -13.972689988211718]<input type='checkbox' class='ee-toggle'></label><ul><li><span class='ee-k'>0:</span><span class='ee-v'>-70.86163868966105</span></li><li><span class='ee-k'>1:</span><span class='ee-v'>-13.972689988211718</span></li></ul></li><li><label class='ee-shut'>1889: [-70.86136106839473, -13.972692115844518]<input type='checkbox' class='ee-toggle'></label><ul><li><span class='ee-k'>0:</span><span class='ee-v'>-70.86136106839473</span></li><li><span class='ee-k'>1:</span><span class='ee-v'>-13.972692115844518</span></li></ul></li><li><label class='ee-shut'>1890: [-70.86135888990829, -13.972420999306122]<input type='checkbox' class='ee-toggle'></label><ul><li><span class='ee-k'>0:</span><span class='ee-v'>-70.86135888990829</span></li><li><span class='ee-k'>1:</span><span class='ee-v'>-13.972420999306122</span></li></ul></li><li><label class='ee-shut'>1891: [-70.86080364788769, -13.972425253529678]<input type='checkbox' class='ee-toggle'></label><ul><li><span class='ee-k'>0:</span><span class='ee-v'>-70.86080364788769</span></li><li><span class='ee-k'>1:</span><span class='ee-v'>-13.972425253529678</span></li></ul></li><li><label class='ee-shut'>1892: [-70.86080147009297, -13.972154136892467]<input type='checkbox' class='ee-toggle'></label><ul><li><span class='ee-k'>0:</span><span class='ee-v'>-70.86080147009297</span></li><li><span class='ee-k'>1:</span><span class='ee-v'>-13.972154136892467</span></li></ul></li><li><label class='ee-shut'>1893: [-70.86024622853051, -13.97215838976855]<input type='checkbox' class='ee-toggle'></label><ul><li><span class='ee-k'>0:</span><span class='ee-v'>-70.86024622853051</span></li><li><span class='ee-k'>1:</span><span class='ee-v'>-13.97215838976855</span></li></ul></li><li><label class='ee-shut'>1894: [-70.86024405143647, -13.971887273041506]<input type='checkbox' class='ee-toggle'></label><ul><li><span class='ee-k'>0:</span><span class='ee-v'>-70.86024405143647</span></li><li><span class='ee-k'>1:</span><span class='ee-v'>-13.971887273041506</span></li></ul></li><li><label class='ee-shut'>1895: [-70.85996643090677, -13.971889398958526]<input type='checkbox' class='ee-toggle'></label><ul><li><span class='ee-k'>0:</span><span class='ee-v'>-70.85996643090677</span></li><li><span class='ee-k'>1:</span><span class='ee-v'>-13.971889398958526</span></li></ul></li><li><label class='ee-shut'>1896: [-70.85996425418104, -13.971618282186567]<input type='checkbox' class='ee-toggle'></label><ul><li><span class='ee-k'>0:</span><span class='ee-v'>-70.85996425418104</span></li><li><span class='ee-k'>1:</span><span class='ee-v'>-13.971618282186567</span></li></ul></li><li><label class='ee-shut'>1897: [-70.85913139330161, -13.97162465790743]<input type='checkbox' class='ee-toggle'></label><ul><li><span class='ee-k'>0:</span><span class='ee-v'>-70.85913139330161</span></li><li><span class='ee-k'>1:</span><span class='ee-v'>-13.97162465790743</span></li></ul></li><li><label class='ee-shut'>1898: [-70.85912921759098, -13.971353541000724]<input type='checkbox' class='ee-toggle'></label><ul><li><span class='ee-k'>0:</span><span class='ee-v'>-70.85912921759098</span></li><li><span class='ee-k'>1:</span><span class='ee-v'>-13.971353541000724</span></li></ul></li><li><label class='ee-shut'>1899: [-70.85801873707118, -13.971362037347529]<input type='checkbox' class='ee-toggle'></label><ul><li><span class='ee-k'>0:</span><span class='ee-v'>-70.85801873707118</span></li><li><span class='ee-k'>1:</span><span class='ee-v'>-13.971362037347529</span></li></ul></li><li><label class='ee-shut'>1900: [-70.85802091147926, -13.9716331544339]<input type='checkbox' class='ee-toggle'></label><ul><li><span class='ee-k'>0:</span><span class='ee-v'>-70.85802091147926</span></li><li><span class='ee-k'>1:</span><span class='ee-v'>-13.9716331544339</span></li></ul></li><li><label class='ee-shut'>1901: [-70.85746567029409, -13.971637400788213]<input type='checkbox' class='ee-toggle'></label><ul><li><span class='ee-k'>0:</span><span class='ee-v'>-70.85746567029409</span></li><li><span class='ee-k'>1:</span><span class='ee-v'>-13.971637400788213</span></li></ul></li><li><label class='ee-shut'>1902: [-70.8574634965328, -13.971366283620995]<input type='checkbox' class='ee-toggle'></label><ul><li><span class='ee-k'>0:</span><span class='ee-v'>-70.8574634965328</span></li><li><span class='ee-k'>1:</span><span class='ee-v'>-13.971366283620995</span></li></ul></li><li><label class='ee-shut'>1903: [-70.85690825580578, -13.97137052863682]<input type='checkbox' class='ee-toggle'></label><ul><li><span class='ee-k'>0:</span><span class='ee-v'>-70.85690825580578</span></li><li><span class='ee-k'>1:</span><span class='ee-v'>-13.97137052863682</span></li></ul></li><li><label class='ee-shut'>1904: [-70.85690608273619, -13.97109941137977]<input type='checkbox' class='ee-toggle'></label><ul><li><span class='ee-k'>0:</span><span class='ee-v'>-70.85690608273619</span></li><li><span class='ee-k'>1:</span><span class='ee-v'>-13.97109941137977</span></li></ul></li><li><label class='ee-shut'>1905: [-70.85662846262869, -13.971101533362168]<input type='checkbox' class='ee-toggle'></label><ul><li><span class='ee-k'>0:</span><span class='ee-v'>-70.85662846262869</span></li><li><span class='ee-k'>1:</span><span class='ee-v'>-13.971101533362168</span></li></ul></li><li><label class='ee-shut'>1906: [-70.85662411728003, -13.970559298740271]<input type='checkbox' class='ee-toggle'></label><ul><li><span class='ee-k'>0:</span><span class='ee-v'>-70.85662411728003</span></li><li><span class='ee-k'>1:</span><span class='ee-v'>-13.970559298740271</span></li></ul></li><li><label class='ee-shut'>1907: [-70.85634649777441, -13.97056142032741]<input type='checkbox' class='ee-toggle'></label><ul><li><span class='ee-k'>0:</span><span class='ee-v'>-70.85634649777441</span></li><li><span class='ee-k'>1:</span><span class='ee-v'>-13.97056142032741</span></li></ul></li><li><label class='ee-shut'>1908: [-70.85634432549534, -13.970290302962564]<input type='checkbox' class='ee-toggle'></label><ul><li><span class='ee-k'>0:</span><span class='ee-v'>-70.85634432549534</span></li><li><span class='ee-k'>1:</span><span class='ee-v'>-13.970290302962564</span></li></ul></li><li><label class='ee-shut'>1909: [-70.8560667062682, -13.970292424190376]<input type='checkbox' class='ee-toggle'></label><ul><li><span class='ee-k'>0:</span><span class='ee-v'>-70.8560667062682</span></li><li><span class='ee-k'>1:</span><span class='ee-v'>-13.970292424190376</span></li></ul></li><li><label class='ee-shut'>1910: [-70.8560623624916, -13.969750189352885]<input type='checkbox' class='ee-toggle'></label><ul><li><span class='ee-k'>0:</span><span class='ee-v'>-70.8560623624916</span></li><li><span class='ee-k'>1:</span><span class='ee-v'>-13.969750189352885</span></li></ul></li><li><label class='ee-shut'>1911: [-70.85578474386632, -13.969752310176455]<input type='checkbox' class='ee-toggle'></label><ul><li><span class='ee-k'>0:</span><span class='ee-v'>-70.85578474386632</span></li><li><span class='ee-k'>1:</span><span class='ee-v'>-13.969752310176455</span></li></ul></li><li><label class='ee-shut'>1912: [-70.85578257237776, -13.969481192712793]<input type='checkbox' class='ee-toggle'></label><ul><li><span class='ee-k'>0:</span><span class='ee-v'>-70.85578257237776</span></li><li><span class='ee-k'>1:</span><span class='ee-v'>-13.969481192712793</span></li></ul></li><li><label class='ee-shut'>1913: [-70.85439448017667, -13.969491791853983]<input type='checkbox' class='ee-toggle'></label><ul><li><span class='ee-k'>0:</span><span class='ee-v'>-70.85439448017667</span></li><li><span class='ee-k'>1:</span><span class='ee-v'>-13.969491791853983</span></li></ul></li><li><label class='ee-shut'>1914: [-70.85439665004826, -13.969762909533241]<input type='checkbox' class='ee-toggle'></label><ul><li><span class='ee-k'>0:</span><span class='ee-v'>-70.85439665004826</span></li><li><span class='ee-k'>1:</span><span class='ee-v'>-13.969762909533241</span></li></ul></li><li><label class='ee-shut'>1915: [-70.8541190311445, -13.969765028452382]<input type='checkbox' class='ee-toggle'></label><ul><li><span class='ee-k'>0:</span><span class='ee-v'>-70.8541190311445</span></li><li><span class='ee-k'>1:</span><span class='ee-v'>-13.969765028452382</span></li></ul></li><li><label class='ee-shut'>1916: [-70.85412120073762, -13.970036146167573]<input type='checkbox' class='ee-toggle'></label><ul><li><span class='ee-k'>0:</span><span class='ee-v'>-70.85412120073762</span></li><li><span class='ee-k'>1:</span><span class='ee-v'>-13.970036146167573</span></li></ul></li><li><label class='ee-shut'>1917: [-70.85301072336192, -13.970044618852754]<input type='checkbox' class='ee-toggle'></label><ul><li><span class='ee-k'>0:</span><span class='ee-v'>-70.85301072336192</span></li><li><span class='ee-k'>1:</span><span class='ee-v'>-13.970044618852754</span></li></ul></li><li><label class='ee-shut'>1918: [-70.85301289169739, -13.970315736738625]<input type='checkbox' class='ee-toggle'></label><ul><li><span class='ee-k'>0:</span><span class='ee-v'>-70.85301289169739</span></li><li><span class='ee-k'>1:</span><span class='ee-v'>-13.970315736738625</span></li></ul></li><li><label class='ee-shut'>1919: [-70.85273527191329, -13.97031785415758]<input type='checkbox' class='ee-toggle'></label><ul><li><span class='ee-k'>0:</span><span class='ee-v'>-70.85273527191329</span></li><li><span class='ee-k'>1:</span><span class='ee-v'>-13.97031785415758</span></li></ul></li><li><label class='ee-shut'>1920: [-70.85273310390122, -13.970046736235778]<input type='checkbox' class='ee-toggle'></label><ul><li><span class='ee-k'>0:</span><span class='ee-v'>-70.85273310390122</span></li><li><span class='ee-k'>1:</span><span class='ee-v'>-13.970046736235778</span></li></ul></li><li><label class='ee-shut'>1921: [-70.85245548439559, -13.970048853295408]<input type='checkbox' class='ee-toggle'></label><ul><li><span class='ee-k'>0:</span><span class='ee-v'>-70.85245548439559</span></li><li><span class='ee-k'>1:</span><span class='ee-v'>-13.970048853295408</span></li></ul></li><li><label class='ee-shut'>1922: [-70.85245331675183, -13.96977773532869]<input type='checkbox' class='ee-toggle'></label><ul><li><span class='ee-k'>0:</span><span class='ee-v'>-70.85245331675183</span></li><li><span class='ee-k'>1:</span><span class='ee-v'>-13.96977773532869</span></li></ul></li><li><label class='ee-shut'>1923: [-70.85273093593406, -13.969775618304991]<input type='checkbox' class='ee-toggle'></label><ul><li><span class='ee-k'>0:</span><span class='ee-v'>-70.85273093593406</span></li><li><span class='ee-k'>1:</span><span class='ee-v'>-13.969775618304991</span></li></ul></li><li><label class='ee-shut'>1924: [-70.85272876801181, -13.969504500365224]<input type='checkbox' class='ee-toggle'></label><ul><li><span class='ee-k'>0:</span><span class='ee-v'>-70.85272876801181</span></li><li><span class='ee-k'>1:</span><span class='ee-v'>-13.969504500365224</span></li></ul></li><li><label class='ee-shut'>1925: [-70.85189591130057, -13.969510850349353]<input type='checkbox' class='ee-toggle'></label><ul><li><span class='ee-k'>0:</span><span class='ee-v'>-70.85189591130057</span></li><li><span class='ee-k'>1:</span><span class='ee-v'>-13.969510850349353</span></li></ul></li><li><label class='ee-shut'>1926: [-70.85189374439342, -13.969239732274838]<input type='checkbox' class='ee-toggle'></label><ul><li><span class='ee-k'>0:</span><span class='ee-v'>-70.85189374439342</span></li><li><span class='ee-k'>1:</span><span class='ee-v'>-13.969239732274838</span></li></ul></li><li><label class='ee-shut'>1927: [-70.85133850700814, -13.96924396392373]<input type='checkbox' class='ee-toggle'></label><ul><li><span class='ee-k'>0:</span><span class='ee-v'>-70.85133850700814</span></li><li><span class='ee-k'>1:</span><span class='ee-v'>-13.96924396392373</span></li></ul></li><li><label class='ee-shut'>1928: [-70.85133634079268, -13.968972845768366]<input type='checkbox' class='ee-toggle'></label><ul><li><span class='ee-k'>0:</span><span class='ee-v'>-70.85133634079268</span></li><li><span class='ee-k'>1:</span><span class='ee-v'>-13.968972845768366</span></li></ul></li><li><label class='ee-shut'>1929: [-70.85105872235606, -13.968974961076281]<input type='checkbox' class='ee-toggle'></label><ul><li><span class='ee-k'>0:</span><span class='ee-v'>-70.85105872235606</span></li><li><span class='ee-k'>1:</span><span class='ee-v'>-13.968974961076281</span></li></ul></li><li><label class='ee-shut'>1930: [-70.85106088823913, -13.969246079276562]<input type='checkbox' class='ee-toggle'></label><ul><li><span class='ee-k'>0:</span><span class='ee-v'>-70.85106088823913</span></li><li><span class='ee-k'>1:</span><span class='ee-v'>-13.969246079276562</span></li></ul></li><li><label class='ee-shut'>1931: [-70.85078326942521, -13.969248194314982]<input type='checkbox' class='ee-toggle'></label><ul><li><span class='ee-k'>0:</span><span class='ee-v'>-70.85078326942521</span></li><li><span class='ee-k'>1:</span><span class='ee-v'>-13.969248194314982</span></li></ul></li><li><label class='ee-shut'>1932: [-70.85078543503879, -13.969519312551196]<input type='checkbox' class='ee-toggle'></label><ul><li><span class='ee-k'>0:</span><span class='ee-v'>-70.85078543503879</span></li><li><span class='ee-k'>1:</span><span class='ee-v'>-13.969519312551196</span></li></ul></li><li><label class='ee-shut'>1933: [-70.8513406732595, -13.969515082088078]<input type='checkbox' class='ee-toggle'></label><ul><li><span class='ee-k'>0:</span><span class='ee-v'>-70.8513406732595</span></li><li><span class='ee-k'>1:</span><span class='ee-v'>-13.969515082088078</span></li></ul></li><li><label class='ee-shut'>1934: [-70.85134283956478, -13.96978620023446]<input type='checkbox' class='ee-toggle'></label><ul><li><span class='ee-k'>0:</span><span class='ee-v'>-70.85134283956478</span></li><li><span class='ee-k'>1:</span><span class='ee-v'>-13.96978620023446</span></li></ul></li><li><label class='ee-shut'>1935: [-70.851065220149, -13.96978831566814]<input type='checkbox' class='ee-toggle'></label><ul><li><span class='ee-k'>0:</span><span class='ee-v'>-70.851065220149</span></li><li><span class='ee-k'>1:</span><span class='ee-v'>-13.96978831566814</span></li></ul></li><li><label class='ee-shut'>1936: [-70.8510673861668, -13.970059433859436]<input type='checkbox' class='ee-toggle'></label><ul><li><span class='ee-k'>0:</span><span class='ee-v'>-70.8510673861668</span></li><li><span class='ee-k'>1:</span><span class='ee-v'>-13.970059433859436</span></li></ul></li></ul></li><li><label class='ee-shut'>1: List (5 elements)<input type='checkbox' class='ee-toggle'></label><ul><li><label class='ee-shut'>0: [-70.8510673861668, -13.970059433859436]<input type='checkbox' class='ee-toggle'></label><ul><li><span class='ee-k'>0:</span><span class='ee-v'>-70.8510673861668</span></li><li><span class='ee-k'>1:</span><span class='ee-v'>-13.970059433859436</span></li></ul></li><li><label class='ee-shut'>1: [-70.85106955223851, -13.970330552041752]<input type='checkbox' class='ee-toggle'></label><ul><li><span class='ee-k'>0:</span><span class='ee-v'>-70.85106955223851</span></li><li><span class='ee-k'>1:</span><span class='ee-v'>-13.970330552041752</span></li></ul></li><li><label class='ee-shut'>2: [-70.85079193213102, -13.970332667241868]<input type='checkbox' class='ee-toggle'></label><ul><li><span class='ee-k'>0:</span><span class='ee-v'>-70.85079193213102</span></li><li><span class='ee-k'>1:</span><span class='ee-v'>-13.970332667241868</span></li></ul></li><li><label class='ee-shut'>3: [-70.85078976639169, -13.970061549014638]<input type='checkbox' class='ee-toggle'></label><ul><li><span class='ee-k'>0:</span><span class='ee-v'>-70.85078976639169</span></li><li><span class='ee-k'>1:</span><span class='ee-v'>-13.970061549014638</span></li></ul></li><li><label class='ee-shut'>4: [-70.8510673861668, -13.970059433859436]<input type='checkbox' class='ee-toggle'></label><ul><li><span class='ee-k'>0:</span><span class='ee-v'>-70.8510673861668</span></li><li><span class='ee-k'>1:</span><span class='ee-v'>-13.970059433859436</span></li></ul></li></ul></li><li><label class='ee-shut'>2: List (5 elements)<input type='checkbox' class='ee-toggle'></label><ul><li><label class='ee-shut'>0: [-70.83325244189363, -13.96422950408366]<input type='checkbox' class='ee-toggle'></label><ul><li><span class='ee-k'>0:</span><span class='ee-v'>-70.83325244189363</span></li><li><span class='ee-k'>1:</span><span class='ee-v'>-13.96422950408366</span></li></ul></li><li><label class='ee-shut'>1: [-70.833250297642, -13.963958383044703]<input type='checkbox' class='ee-toggle'></label><ul><li><span class='ee-k'>0:</span><span class='ee-v'>-70.833250297642</span></li><li><span class='ee-k'>1:</span><span class='ee-v'>-13.963958383044703</span></li></ul></li><li><label class='ee-shut'>2: [-70.83380552804738, -13.963954194263415]<input type='checkbox' class='ee-toggle'></label><ul><li><span class='ee-k'>0:</span><span class='ee-v'>-70.83380552804738</span></li><li><span class='ee-k'>1:</span><span class='ee-v'>-13.963954194263415</span></li></ul></li><li><label class='ee-shut'>3: [-70.8338076729458, -13.964225315230507]<input type='checkbox' class='ee-toggle'></label><ul><li><span class='ee-k'>0:</span><span class='ee-v'>-70.8338076729458</span></li><li><span class='ee-k'>1:</span><span class='ee-v'>-13.964225315230507</span></li></ul></li><li><label class='ee-shut'>4: [-70.83325244189363, -13.96422950408366]<input type='checkbox' class='ee-toggle'></label><ul><li><span class='ee-k'>0:</span><span class='ee-v'>-70.83325244189363</span></li><li><span class='ee-k'>1:</span><span class='ee-v'>-13.96422950408366</span></li></ul></li></ul></li><li><label class='ee-shut'>3: List (11 elements)<input type='checkbox' class='ee-toggle'></label><ul><li><label class='ee-shut'>0: [-70.80635810697828, -13.897458940788475]<input type='checkbox' class='ee-toggle'></label><ul><li><span class='ee-k'>0:</span><span class='ee-v'>-70.80635810697828</span></li><li><span class='ee-k'>1:</span><span class='ee-v'>-13.897458940788475</span></li></ul></li><li><label class='ee-shut'>1: [-70.80635390243157, -13.896916687598402]<input type='checkbox' class='ee-toggle'></label><ul><li><span class='ee-k'>0:</span><span class='ee-v'>-70.80635390243157</span></li><li><span class='ee-k'>1:</span><span class='ee-v'>-13.896916687598402</span></li></ul></li><li><label class='ee-shut'>2: [-70.80663144176255, -13.896914633780169]<input type='checkbox' class='ee-toggle'></label><ul><li><span class='ee-k'>0:</span><span class='ee-v'>-70.80663144176255</span></li><li><span class='ee-k'>1:</span><span class='ee-v'>-13.896914633780169</span></li></ul></li><li><label class='ee-shut'>3: [-70.8066272367487, -13.896372380643994]<input type='checkbox' class='ee-toggle'></label><ul><li><span class='ee-k'>0:</span><span class='ee-v'>-70.8066272367487</span></li><li><span class='ee-k'>1:</span><span class='ee-v'>-13.896372380643994</span></li></ul></li><li><label class='ee-shut'>4: [-70.80690477538798, -13.896370326592198]<input type='checkbox' class='ee-toggle'></label><ul><li><span class='ee-k'>0:</span><span class='ee-v'>-70.80690477538798</span></li><li><span class='ee-k'>1:</span><span class='ee-v'>-13.896370326592198</span></li></ul></li><li><label class='ee-shut'>5: [-70.80690687820034, -13.896641453128844]<input type='checkbox' class='ee-toggle'></label><ul><li><span class='ee-k'>0:</span><span class='ee-v'>-70.80690687820034</span></li><li><span class='ee-k'>1:</span><span class='ee-v'>-13.896641453128844</span></li></ul></li><li><label class='ee-shut'>6: [-70.80718441712708, -13.89663939871772]<input type='checkbox' class='ee-toggle'></label><ul><li><span class='ee-k'>0:</span><span class='ee-v'>-70.80718441712708</span></li><li><span class='ee-k'>1:</span><span class='ee-v'>-13.89663939871772</span></li></ul></li><li><label class='ee-shut'>7: [-70.80718862352433, -13.897181651683216]<input type='checkbox' class='ee-toggle'></label><ul><li><span class='ee-k'>0:</span><span class='ee-v'>-70.80718862352433</span></li><li><span class='ee-k'>1:</span><span class='ee-v'>-13.897181651683216</span></li></ul></li><li><label class='ee-shut'>8: [-70.8069110839508, -13.897183706166203]<input type='checkbox' class='ee-toggle'></label><ul><li><span class='ee-k'>0:</span><span class='ee-v'>-70.8069110839508</span></li><li><span class='ee-k'>1:</span><span class='ee-v'>-13.897183706166203</span></li></ul></li><li><label class='ee-shut'>9: [-70.80691318689789, -13.8974548326759]<input type='checkbox' class='ee-toggle'></label><ul><li><span class='ee-k'>0:</span><span class='ee-v'>-70.80691318689789</span></li><li><span class='ee-k'>1:</span><span class='ee-v'>-13.8974548326759</span></li></ul></li><li><label class='ee-shut'>10: [-70.80635810697828, -13.897458940788475]<input type='checkbox' class='ee-toggle'></label><ul><li><span class='ee-k'>0:</span><span class='ee-v'>-70.80635810697828</span></li><li><span class='ee-k'>1:</span><span class='ee-v'>-13.897458940788475</span></li></ul></li></ul></li><li><label class='ee-shut'>4: List (5 elements)<input type='checkbox' class='ee-toggle'></label><ul><li><label class='ee-shut'>0: [-70.79494398634276, -13.928995764097518]<input type='checkbox' class='ee-toggle'></label><ul><li><span class='ee-k'>0:</span><span class='ee-v'>-70.79494398634276</span></li><li><span class='ee-k'>1:</span><span class='ee-v'>-13.928995764097518</span></li></ul></li><li><label class='ee-shut'>1: [-70.79466640696488, -13.928997809238027]<input type='checkbox' class='ee-toggle'></label><ul><li><span class='ee-k'>0:</span><span class='ee-v'>-70.79466640696488</span></li><li><span class='ee-k'>1:</span><span class='ee-v'>-13.928997809238027</span></li></ul></li><li><label class='ee-shut'>2: [-70.79466431333331, -13.928726681596451]<input type='checkbox' class='ee-toggle'></label><ul><li><span class='ee-k'>0:</span><span class='ee-v'>-70.79466431333331</span></li><li><span class='ee-k'>1:</span><span class='ee-v'>-13.928726681596451</span></li></ul></li><li><label class='ee-shut'>3: [-70.79494189239678, -13.928724636491877]<input type='checkbox' class='ee-toggle'></label><ul><li><span class='ee-k'>0:</span><span class='ee-v'>-70.79494189239678</span></li><li><span class='ee-k'>1:</span><span class='ee-v'>-13.928724636491877</span></li></ul></li><li><label class='ee-shut'>4: [-70.79494398634276, -13.928995764097518]<input type='checkbox' class='ee-toggle'></label><ul><li><span class='ee-k'>0:</span><span class='ee-v'>-70.79494398634276</span></li><li><span class='ee-k'>1:</span><span class='ee-v'>-13.928995764097518</span></li></ul></li></ul></li><li><label class='ee-shut'>5: List (5 elements)<input type='checkbox' class='ee-toggle'></label><ul><li><label class='ee-shut'>0: [-70.78965744426638, -13.927407797401477]<input type='checkbox' class='ee-toggle'></label><ul><li><span class='ee-k'>0:</span><span class='ee-v'>-70.78965744426638</span></li><li><span class='ee-k'>1:</span><span class='ee-v'>-13.927407797401477</span></li></ul></li><li><label class='ee-shut'>1: [-70.78937986597546, -13.92740983628971]<input type='checkbox' class='ee-toggle'></label><ul><li><span class='ee-k'>0:</span><span class='ee-v'>-70.78937986597546</span></li><li><span class='ee-k'>1:</span><span class='ee-v'>-13.92740983628971</span></li></ul></li><li><label class='ee-shut'>2: [-70.7893736044664, -13.926596450876655]<input type='checkbox' class='ee-toggle'></label><ul><li><span class='ee-k'>0:</span><span class='ee-v'>-70.7893736044664</span></li><li><span class='ee-k'>1:</span><span class='ee-v'>-13.926596450876655</span></li></ul></li><li><label class='ee-shut'>3: [-70.78965118179612, -13.926594412105201]<input type='checkbox' class='ee-toggle'></label><ul><li><span class='ee-k'>0:</span><span class='ee-v'>-70.78965118179612</span></li><li><span class='ee-k'>1:</span><span class='ee-v'>-13.926594412105201</span></li></ul></li><li><label class='ee-shut'>4: [-70.78965744426638, -13.927407797401477]<input type='checkbox' class='ee-toggle'></label><ul><li><span class='ee-k'>0:</span><span class='ee-v'>-70.78965744426638</span></li><li><span class='ee-k'>1:</span><span class='ee-v'>-13.927407797401477</span></li></ul></li></ul></li><li><label class='ee-shut'>6: List (9 elements)<input type='checkbox' class='ee-toggle'></label><ul><li><label class='ee-shut'>0: [-70.76316808533214, -13.911874397323217]<input type='checkbox' class='ee-toggle'></label><ul><li><span class='ee-k'>0:</span><span class='ee-v'>-70.76316808533214</span></li><li><span class='ee-k'>1:</span><span class='ee-v'>-13.911874397323217</span></li></ul></li><li><label class='ee-shut'>1: [-70.76316603107372, -13.911603264642094]<input type='checkbox' class='ee-toggle'></label><ul><li><span class='ee-k'>0:</span><span class='ee-v'>-70.76316603107372</span></li><li><span class='ee-k'>1:</span><span class='ee-v'>-13.911603264642094</span></li></ul></li><li><label class='ee-shut'>2: [-70.76427628439163, -13.911595235527034]<input type='checkbox' class='ee-toggle'></label><ul><li><span class='ee-k'>0:</span><span class='ee-v'>-70.76427628439163</span></li><li><span class='ee-k'>1:</span><span class='ee-v'>-13.911595235527034</span></li></ul></li><li><label class='ee-shut'>3: [-70.7642783399436, -13.91186636804646]<input type='checkbox' class='ee-toggle'></label><ul><li><span class='ee-k'>0:</span><span class='ee-v'>-70.7642783399436</span></li><li><span class='ee-k'>1:</span><span class='ee-v'>-13.91186636804646</span></li></ul></li><li><label class='ee-shut'>4: [-70.76400077635812, -13.911868375835018]<input type='checkbox' class='ee-toggle'></label><ul><li><span class='ee-k'>0:</span><span class='ee-v'>-70.76400077635812</span></li><li><span class='ee-k'>1:</span><span class='ee-v'>-13.911868375835018</span></li></ul></li><li><label class='ee-shut'>5: [-70.76400283163161, -13.912139508390378]<input type='checkbox' class='ee-toggle'></label><ul><li><span class='ee-k'>0:</span><span class='ee-v'>-70.76400283163161</span></li><li><span class='ee-k'>1:</span><span class='ee-v'>-13.912139508390378</span></li></ul></li><li><label class='ee-shut'>6: [-70.76344770367909, -13.912143523114096]<input type='checkbox' class='ee-toggle'></label><ul><li><span class='ee-k'>0:</span><span class='ee-v'>-70.76344770367909</span></li><li><span class='ee-k'>1:</span><span class='ee-v'>-13.912143523114096</span></li></ul></li><li><label class='ee-shut'>7: [-70.76344564905237, -13.911872390477889]<input type='checkbox' class='ee-toggle'></label><ul><li><span class='ee-k'>0:</span><span class='ee-v'>-70.76344564905237</span></li><li><span class='ee-k'>1:</span><span class='ee-v'>-13.911872390477889</span></li></ul></li><li><label class='ee-shut'>8: [-70.76316808533214, -13.911874397323217]<input type='checkbox' class='ee-toggle'></label><ul><li><span class='ee-k'>0:</span><span class='ee-v'>-70.76316808533214</span></li><li><span class='ee-k'>1:</span><span class='ee-v'>-13.911874397323217</span></li></ul></li></ul></li><li><label class='ee-shut'>7: List (9 elements)<input type='checkbox' class='ee-toggle'></label><ul><li><label class='ee-shut'>0: [-70.86386183956262, -13.972944071919777]<input type='checkbox' class='ee-toggle'></label><ul><li><span class='ee-k'>0:</span><span class='ee-v'>-70.86386183956262</span></li><li><span class='ee-k'>1:</span><span class='ee-v'>-13.972944071919777</span></li></ul></li><li><label class='ee-shut'>1: [-70.86330659708388, -13.972948332018316]<input type='checkbox' class='ee-toggle'></label><ul><li><span class='ee-k'>0:</span><span class='ee-v'>-70.86330659708388</span></li><li><span class='ee-k'>1:</span><span class='ee-v'>-13.972948332018316</span></li></ul></li><li><label class='ee-shut'>2: [-70.86330441627979, -13.972677215785346]<input type='checkbox' class='ee-toggle'></label><ul><li><span class='ee-k'>0:</span><span class='ee-v'>-70.86330441627979</span></li><li><span class='ee-k'>1:</span><span class='ee-v'>-13.972677215785346</span></li></ul></li><li><label class='ee-shut'>3: [-70.86274917425919, -13.972681474527427]<input type='checkbox' class='ee-toggle'></label><ul><li><span class='ee-k'>0:</span><span class='ee-v'>-70.86274917425919</span></li><li><span class='ee-k'>1:</span><span class='ee-v'>-13.972681474527427</span></li></ul></li><li><label class='ee-shut'>4: [-70.8627426340568, -13.971868125532074]<input type='checkbox' class='ee-toggle'></label><ul><li><span class='ee-k'>0:</span><span class='ee-v'>-70.8627426340568</span></li><li><span class='ee-k'>1:</span><span class='ee-v'>-13.971868125532074</span></li></ul></li><li><label class='ee-shut'>5: [-70.86357549409182, -13.971861737324627]<input type='checkbox' class='ee-toggle'></label><ul><li><span class='ee-k'>0:</span><span class='ee-v'>-70.86357549409182</span></li><li><span class='ee-k'>1:</span><span class='ee-v'>-13.971861737324627</span></li></ul></li><li><label class='ee-shut'>6: [-70.86357767508454, -13.972132853530647]<input type='checkbox' class='ee-toggle'></label><ul><li><span class='ee-k'>0:</span><span class='ee-v'>-70.86357767508454</span></li><li><span class='ee-k'>1:</span><span class='ee-v'>-13.972132853530647</span></li></ul></li><li><label class='ee-shut'>7: [-70.86385529532679, -13.972130723454429]<input type='checkbox' class='ee-toggle'></label><ul><li><span class='ee-k'>0:</span><span class='ee-v'>-70.86385529532679</span></li><li><span class='ee-k'>1:</span><span class='ee-v'>-13.972130723454429</span></li></ul></li><li><label class='ee-shut'>8: [-70.86386183956262, -13.972944071919777]<input type='checkbox' class='ee-toggle'></label><ul><li><span class='ee-k'>0:</span><span class='ee-v'>-70.86386183956262</span></li><li><span class='ee-k'>1:</span><span class='ee-v'>-13.972944071919777</span></li></ul></li></ul></li><li><label class='ee-shut'>8: List (11 elements)<input type='checkbox' class='ee-toggle'></label><ul><li><label class='ee-shut'>0: [-70.84044707201, -13.926215999630443]<input type='checkbox' class='ee-toggle'></label><ul><li><span class='ee-k'>0:</span><span class='ee-v'>-70.84044707201</span></li><li><span class='ee-k'>1:</span><span class='ee-v'>-13.926215999630443</span></li></ul></li><li><label class='ee-shut'>1: [-70.84016950298071, -13.9262180961995]<input type='checkbox' class='ee-toggle'></label><ul><li><span class='ee-k'>0:</span><span class='ee-v'>-70.84016950298071</span></li><li><span class='ee-k'>1:</span><span class='ee-v'>-13.9262180961995</span></li></ul></li><li><label class='ee-shut'>2: [-70.84017164927153, -13.926489217022862]<input type='checkbox' class='ee-toggle'></label><ul><li><span class='ee-k'>0:</span><span class='ee-v'>-70.84017164927153</span></li><li><span class='ee-k'>1:</span><span class='ee-v'>-13.926489217022862</span></li></ul></li><li><label class='ee-shut'>3: [-70.83961651044041, -13.926493409298596]<input type='checkbox' class='ee-toggle'></label><ul><li><span class='ee-k'>0:</span><span class='ee-v'>-70.83961651044041</span></li><li><span class='ee-k'>1:</span><span class='ee-v'>-13.926493409298596</span></li></ul></li><li><label class='ee-shut'>4: [-70.83961865612935, -13.926764530202806]<input type='checkbox' class='ee-toggle'></label><ul><li><span class='ee-k'>0:</span><span class='ee-v'>-70.83961865612935</span></li><li><span class='ee-k'>1:</span><span class='ee-v'>-13.926764530202806</span></li></ul></li><li><label class='ee-shut'>5: [-70.83934108631853, -13.926766625900498]<input type='checkbox' class='ee-toggle'></label><ul><li><span class='ee-k'>0:</span><span class='ee-v'>-70.83934108631853</span></li><li><span class='ee-k'>1:</span><span class='ee-v'>-13.926766625900498</span></li></ul></li><li><label class='ee-shut'>6: [-70.83933465034765, -13.92595326304414]<input type='checkbox' class='ee-toggle'></label><ul><li><span class='ee-k'>0:</span><span class='ee-v'>-70.83933465034765</span></li><li><span class='ee-k'>1:</span><span class='ee-v'>-13.92595326304414</span></li></ul></li><li><label class='ee-shut'>7: [-70.839889787984, -13.925949071567906]<input type='checkbox' class='ee-toggle'></label><ul><li><span class='ee-k'>0:</span><span class='ee-v'>-70.839889787984</span></li><li><span class='ee-k'>1:</span><span class='ee-v'>-13.925949071567906</span></li></ul></li><li><label class='ee-shut'>8: [-70.83988764210643, -13.925677950690647]<input type='checkbox' class='ee-toggle'></label><ul><li><span class='ee-k'>0:</span><span class='ee-v'>-70.83988764210643</span></li><li><span class='ee-k'>1:</span><span class='ee-v'>-13.925677950690647</span></li></ul></li><li><label class='ee-shut'>9: [-70.84044277891634, -13.92567375803762]<input type='checkbox' class='ee-toggle'></label><ul><li><span class='ee-k'>0:</span><span class='ee-v'>-70.84044277891634</span></li><li><span class='ee-k'>1:</span><span class='ee-v'>-13.92567375803762</span></li></ul></li><li><label class='ee-shut'>10: [-70.84044707201, -13.926215999630443]<input type='checkbox' class='ee-toggle'></label><ul><li><span class='ee-k'>0:</span><span class='ee-v'>-70.84044707201</span></li><li><span class='ee-k'>1:</span><span class='ee-v'>-13.926215999630443</span></li></ul></li></ul></li><li><label class='ee-shut'>9: List (5 elements)<input type='checkbox' class='ee-toggle'></label><ul><li><label class='ee-shut'>0: [-70.83549101301199, -13.896157071951606]<input type='checkbox' class='ee-toggle'></label><ul><li><span class='ee-k'>0:</span><span class='ee-v'>-70.83549101301199</span></li><li><span class='ee-k'>1:</span><span class='ee-v'>-13.896157071951606</span></li></ul></li><li><label class='ee-shut'>1: [-70.83521347904394, -13.896159158459533]<input type='checkbox' class='ee-toggle'></label><ul><li><span class='ee-k'>0:</span><span class='ee-v'>-70.83521347904394</span></li><li><span class='ee-k'>1:</span><span class='ee-v'>-13.896159158459533</span></li></ul></li><li><label class='ee-shut'>2: [-70.83521134338021, -13.895888036198867]<input type='checkbox' class='ee-toggle'></label><ul><li><span class='ee-k'>0:</span><span class='ee-v'>-70.83521134338021</span></li><li><span class='ee-k'>1:</span><span class='ee-v'>-13.895888036198867</span></li></ul></li><li><label class='ee-shut'>3: [-70.83548887702486, -13.895885949735856]<input type='checkbox' class='ee-toggle'></label><ul><li><span class='ee-k'>0:</span><span class='ee-v'>-70.83548887702486</span></li><li><span class='ee-k'>1:</span><span class='ee-v'>-13.895885949735856</span></li></ul></li><li><label class='ee-shut'>4: [-70.83549101301199, -13.896157071951606]<input type='checkbox' class='ee-toggle'></label><ul><li><span class='ee-k'>0:</span><span class='ee-v'>-70.83549101301199</span></li><li><span class='ee-k'>1:</span><span class='ee-v'>-13.896157071951606</span></li></ul></li></ul></li><li><label class='ee-shut'>10: List (5 elements)<input type='checkbox' class='ee-toggle'></label><ul><li><label class='ee-shut'>0: [-70.83547551189005, -13.964483861750931]<input type='checkbox' class='ee-toggle'></label><ul><li><span class='ee-k'>0:</span><span class='ee-v'>-70.83547551189005</span></li><li><span class='ee-k'>1:</span><span class='ee-v'>-13.964483861750931</span></li></ul></li><li><label class='ee-shut'>1: [-70.83519789633702, -13.964485958284056]<input type='checkbox' class='ee-toggle'></label><ul><li><span class='ee-k'>0:</span><span class='ee-v'>-70.83519789633702</span></li><li><span class='ee-k'>1:</span><span class='ee-v'>-13.964485958284056</span></li></ul></li><li><label class='ee-shut'>2: [-70.83519574976773, -13.964214837541544]<input type='checkbox' class='ee-toggle'></label><ul><li><span class='ee-k'>0:</span><span class='ee-v'>-70.83519574976773</span></li><li><span class='ee-k'>1:</span><span class='ee-v'>-13.964214837541544</span></li></ul></li><li><label class='ee-shut'>3: [-70.83547336499738, -13.964212741053334]<input type='checkbox' class='ee-toggle'></label><ul><li><span class='ee-k'>0:</span><span class='ee-v'>-70.83547336499738</span></li><li><span class='ee-k'>1:</span><span class='ee-v'>-13.964212741053334</span></li></ul></li><li><label class='ee-shut'>4: [-70.83547551189005, -13.964483861750931]<input type='checkbox' class='ee-toggle'></label><ul><li><span class='ee-k'>0:</span><span class='ee-v'>-70.83547551189005</span></li><li><span class='ee-k'>1:</span><span class='ee-v'>-13.964483861750931</span></li></ul></li></ul></li><li><label class='ee-shut'>11: List (5 elements)<input type='checkbox' class='ee-toggle'></label><ul><li><label class='ee-shut'>0: [-70.82862715625559, -13.905698450459816]<input type='checkbox' class='ee-toggle'></label><ul><li><span class='ee-k'>0:</span><span class='ee-v'>-70.82862715625559</span></li><li><span class='ee-k'>1:</span><span class='ee-v'>-13.905698450459816</span></li></ul></li><li><label class='ee-shut'>1: [-70.82834960985487, -13.905700530553773]<input type='checkbox' class='ee-toggle'></label><ul><li><span class='ee-k'>0:</span><span class='ee-v'>-70.82834960985487</span></li><li><span class='ee-k'>1:</span><span class='ee-v'>-13.905700530553773</span></li></ul></li><li><label class='ee-shut'>2: [-70.828347480659, -13.905429407466658]<input type='checkbox' class='ee-toggle'></label><ul><li><span class='ee-k'>0:</span><span class='ee-v'>-70.828347480659</span></li><li><span class='ee-k'>1:</span><span class='ee-v'>-13.905429407466658</span></li></ul></li><li><label class='ee-shut'>3: [-70.82862502673633, -13.905427327408635]<input type='checkbox' class='ee-toggle'></label><ul><li><span class='ee-k'>0:</span><span class='ee-v'>-70.82862502673633</span></li><li><span class='ee-k'>1:</span><span class='ee-v'>-13.905427327408635</span></li></ul></li><li><label class='ee-shut'>4: [-70.82862715625559, -13.905698450459816]<input type='checkbox' class='ee-toggle'></label><ul><li><span class='ee-k'>0:</span><span class='ee-v'>-70.82862715625559</span></li><li><span class='ee-k'>1:</span><span class='ee-v'>-13.905698450459816</span></li></ul></li></ul></li><li><label class='ee-shut'>12: List (11 elements)<input type='checkbox' class='ee-toggle'></label><ul><li><label class='ee-shut'>0: [-70.82585730363766, -13.941780684688315]<input type='checkbox' class='ee-toggle'></label><ul><li><span class='ee-k'>0:</span><span class='ee-v'>-70.82585730363766</span></li><li><span class='ee-k'>1:</span><span class='ee-v'>-13.941780684688315</span></li></ul></li><li><label class='ee-shut'>1: [-70.82474694378855, -13.941789011702689]<input type='checkbox' class='ee-toggle'></label><ul><li><span class='ee-k'>0:</span><span class='ee-v'>-70.82474694378855</span></li><li><span class='ee-k'>1:</span><span class='ee-v'>-13.941789011702689</span></li></ul></li><li><label class='ee-shut'>2: [-70.82474481305657, -13.941517888867102]<input type='checkbox' class='ee-toggle'></label><ul><li><span class='ee-k'>0:</span><span class='ee-v'>-70.82474481305657</span></li><li><span class='ee-k'>1:</span><span class='ee-v'>-13.941517888867102</span></li></ul></li><li><label class='ee-shut'>3: [-70.82418963350482, -13.941522050393504]<input type='checkbox' class='ee-toggle'></label><ul><li><span class='ee-k'>0:</span><span class='ee-v'>-70.82418963350482</span></li><li><span class='ee-k'>1:</span><span class='ee-v'>-13.941522050393504</span></li></ul></li><li><label class='ee-shut'>4: [-70.82418750345555, -13.941250927468085]<input type='checkbox' class='ee-toggle'></label><ul><li><span class='ee-k'>0:</span><span class='ee-v'>-70.82418750345555</span></li><li><span class='ee-k'>1:</span><span class='ee-v'>-13.941250927468085</span></li></ul></li><li><label class='ee-shut'>5: [-70.8239099139357, -13.941253007714755]<input type='checkbox' class='ee-toggle'></label><ul><li><span class='ee-k'>0:</span><span class='ee-v'>-70.8239099139357</span></li><li><span class='ee-k'>1:</span><span class='ee-v'>-13.941253007714755</span></li></ul></li><li><label class='ee-shut'>6: [-70.82390778426371, -13.940981884735438]<input type='checkbox' class='ee-toggle'></label><ul><li><span class='ee-k'>0:</span><span class='ee-v'>-70.82390778426371</span></li><li><span class='ee-k'>1:</span><span class='ee-v'>-13.940981884735438</span></li></ul></li><li><label class='ee-shut'>7: [-70.82474055170937, -13.94097564317796]<input type='checkbox' class='ee-toggle'></label><ul><li><span class='ee-k'>0:</span><span class='ee-v'>-70.82474055170937</span></li><li><span class='ee-k'>1:</span><span class='ee-v'>-13.94097564317796</span></li></ul></li><li><label class='ee-shut'>8: [-70.82474268236051, -13.941246766022532]<input type='checkbox' class='ee-toggle'></label><ul><li><span class='ee-k'>0:</span><span class='ee-v'>-70.82474268236051</span></li><li><span class='ee-k'>1:</span><span class='ee-v'>-13.941246766022532</span></li></ul></li><li><label class='ee-shut'>9: [-70.82585303961349, -13.941238439349517]<input type='checkbox' class='ee-toggle'></label><ul><li><span class='ee-k'>0:</span><span class='ee-v'>-70.82585303961349</span></li><li><span class='ee-k'>1:</span><span class='ee-v'>-13.941238439349517</span></li></ul></li><li><label class='ee-shut'>10: [-70.82585730363766, -13.941780684688315]<input type='checkbox' class='ee-toggle'></label><ul><li><span class='ee-k'>0:</span><span class='ee-v'>-70.82585730363766</span></li><li><span class='ee-k'>1:</span><span class='ee-v'>-13.941780684688315</span></li></ul></li></ul></li><li><label class='ee-shut'>13: List (13 elements)<input type='checkbox' class='ee-toggle'></label><ul><li><label class='ee-shut'>0: [-70.8075398155368, -13.906669018077672]<input type='checkbox' class='ee-toggle'></label><ul><li><span class='ee-k'>0:</span><span class='ee-v'>-70.8075398155368</span></li><li><span class='ee-k'>1:</span><span class='ee-v'>-13.906669018077672</span></li></ul></li><li><label class='ee-shut'>1: [-70.80726226471637, -13.906671074339323]<input type='checkbox' class='ee-toggle'></label><ul><li><span class='ee-k'>0:</span><span class='ee-v'>-70.80726226471637</span></li><li><span class='ee-k'>1:</span><span class='ee-v'>-13.906671074339323</span></li></ul></li><li><label class='ee-shut'>2: [-70.80726015990976, -13.906399948081155]<input type='checkbox' class='ee-toggle'></label><ul><li><span class='ee-k'>0:</span><span class='ee-v'>-70.80726015990976</span></li><li><span class='ee-k'>1:</span><span class='ee-v'>-13.906399948081155</span></li></ul></li><li><label class='ee-shut'>3: [-70.80698260937679, -13.90640200398348]<input type='checkbox' class='ee-toggle'></label><ul><li><span class='ee-k'>0:</span><span class='ee-v'>-70.80698260937679</span></li><li><span class='ee-k'>1:</span><span class='ee-v'>-13.90640200398348</span></li></ul></li><li><label class='ee-shut'>4: [-70.80698050493848, -13.90613087768938]<input type='checkbox' class='ee-toggle'></label><ul><li><span class='ee-k'>0:</span><span class='ee-v'>-70.80698050493848</span></li><li><span class='ee-k'>1:</span><span class='ee-v'>-13.90613087768938</span></li></ul></li><li><label class='ee-shut'>5: [-70.806702954675, -13.906132933232378]<input type='checkbox' class='ee-toggle'></label><ul><li><span class='ee-k'>0:</span><span class='ee-v'>-70.806702954675</span></li><li><span class='ee-k'>1:</span><span class='ee-v'>-13.906132933232378</span></li></ul></li><li><label class='ee-shut'>6: [-70.80670085061399, -13.905861806884378]<input type='checkbox' class='ee-toggle'></label><ul><li><span class='ee-k'>0:</span><span class='ee-v'>-70.80670085061399</span></li><li><span class='ee-k'>1:</span><span class='ee-v'>-13.905861806884378</span></li></ul></li><li><label class='ee-shut'>7: [-70.80697840055409, -13.905859751377312]<input type='checkbox' class='ee-toggle'></label><ul><li><span class='ee-k'>0:</span><span class='ee-v'>-70.80697840055409</span></li><li><span class='ee-k'>1:</span><span class='ee-v'>-13.905859751377312</span></li></ul></li><li><label class='ee-shut'>8: [-70.80697629620562, -13.905588625065244]<input type='checkbox' class='ee-toggle'></label><ul><li><span class='ee-k'>0:</span><span class='ee-v'>-70.80697629620562</span></li><li><span class='ee-k'>1:</span><span class='ee-v'>-13.905588625065244</span></li></ul></li><li><label class='ee-shut'>9: [-70.8072538457774, -13.9055865692797]<input type='checkbox' class='ee-toggle'></label><ul><li><span class='ee-k'>0:</span><span class='ee-v'>-70.8072538457774</span></li><li><span class='ee-k'>1:</span><span class='ee-v'>-13.9055865692797</span></li></ul></li><li><label class='ee-shut'>10: [-70.80725595044925, -13.905857695555834]<input type='checkbox' class='ee-toggle'></label><ul><li><span class='ee-k'>0:</span><span class='ee-v'>-70.80725595044925</span></li><li><span class='ee-k'>1:</span><span class='ee-v'>-13.905857695555834</span></li></ul></li><li><label class='ee-shut'>11: [-70.8075335002995, -13.905855639419947]<input type='checkbox' class='ee-toggle'></label><ul><li><span class='ee-k'>0:</span><span class='ee-v'>-70.8075335002995</span></li><li><span class='ee-k'>1:</span><span class='ee-v'>-13.905855639419947</span></li></ul></li><li><label class='ee-shut'>12: [-70.8075398155368, -13.906669018077672]<input type='checkbox' class='ee-toggle'></label><ul><li><span class='ee-k'>0:</span><span class='ee-v'>-70.8075398155368</span></li><li><span class='ee-k'>1:</span><span class='ee-v'>-13.906669018077672</span></li></ul></li></ul></li><li><label class='ee-shut'>14: List (15 elements)<input type='checkbox' class='ee-toggle'></label><ul><li><label class='ee-shut'>0: [-70.80579251906954, -13.896107414187627]<input type='checkbox' class='ee-toggle'></label><ul><li><span class='ee-k'>0:</span><span class='ee-v'>-70.80579251906954</span></li><li><span class='ee-k'>1:</span><span class='ee-v'>-13.896107414187627</span></li></ul></li><li><label class='ee-shut'>1: [-70.80551498056501, -13.896109466936865]<input type='checkbox' class='ee-toggle'></label><ul><li><span class='ee-k'>0:</span><span class='ee-v'>-70.80551498056501</span></li><li><span class='ee-k'>1:</span><span class='ee-v'>-13.896109466936865</span></li></ul></li><li><label class='ee-shut'>2: [-70.80551708171548, -13.896380593680124]<input type='checkbox' class='ee-toggle'></label><ul><li><span class='ee-k'>0:</span><span class='ee-v'>-70.80551708171548</span></li><li><span class='ee-k'>1:</span><span class='ee-v'>-13.896380593680124</span></li></ul></li><li><label class='ee-shut'>3: [-70.80523954284264, -13.896382646150887]<input type='checkbox' class='ee-toggle'></label><ul><li><span class='ee-k'>0:</span><span class='ee-v'>-70.80523954284264</span></li><li><span class='ee-k'>1:</span><span class='ee-v'>-13.896382646150887</span></li></ul></li><li><label class='ee-shut'>4: [-70.80523744201557, -13.896111519371695]<input type='checkbox' class='ee-toggle'></label><ul><li><span class='ee-k'>0:</span><span class='ee-v'>-70.80523744201557</span></li><li><span class='ee-k'>1:</span><span class='ee-v'>-13.896111519371695</span></li></ul></li><li><label class='ee-shut'>5: [-70.8049599034212, -13.896113571483129]<input type='checkbox' class='ee-toggle'></label><ul><li><span class='ee-k'>0:</span><span class='ee-v'>-70.8049599034212</span></li><li><span class='ee-k'>1:</span><span class='ee-v'>-13.896113571483129</span></li></ul></li><li><label class='ee-shut'>6: [-70.8049557025396, -13.895571317807965]<input type='checkbox' class='ee-toggle'></label><ul><li><span class='ee-k'>0:</span><span class='ee-v'>-70.8049557025396</span></li><li><span class='ee-k'>1:</span><span class='ee-v'>-13.895571317807965</span></li></ul></li><li><label class='ee-shut'>7: [-70.8044006265097, -13.895575420925908]<input type='checkbox' class='ee-toggle'></label><ul><li><span class='ee-k'>0:</span><span class='ee-v'>-70.8044006265097</span></li><li><span class='ee-k'>1:</span><span class='ee-v'>-13.895575420925908</span></li></ul></li><li><label class='ee-shut'>8: [-70.80439852678757, -13.895304293994004]<input type='checkbox' class='ee-toggle'></label><ul><li><span class='ee-k'>0:</span><span class='ee-v'>-70.80439852678757</span></li><li><span class='ee-k'>1:</span><span class='ee-v'>-13.895304293994004</span></li></ul></li><li><label class='ee-shut'>9: [-70.80523113979486, -13.895298138971238]<input type='checkbox' class='ee-toggle'></label><ul><li><span class='ee-k'>0:</span><span class='ee-v'>-70.80523113979486</span></li><li><span class='ee-k'>1:</span><span class='ee-v'>-13.895298138971238</span></li></ul></li><li><label class='ee-shut'>10: [-70.80523324048718, -13.895569265777379]<input type='checkbox' class='ee-toggle'></label><ul><li><span class='ee-k'>0:</span><span class='ee-v'>-70.80523324048718</span></li><li><span class='ee-k'>1:</span><span class='ee-v'>-13.895569265777379</span></li></ul></li><li><label class='ee-shut'>11: [-70.80551077839883, -13.895567213432383]<input type='checkbox' class='ee-toggle'></label><ul><li><span class='ee-k'>0:</span><span class='ee-v'>-70.80551077839883</span></li><li><span class='ee-k'>1:</span><span class='ee-v'>-13.895567213432383</span></li></ul></li><li><label class='ee-shut'>12: [-70.80551287945946, -13.895838340184625]<input type='checkbox' class='ee-toggle'></label><ul><li><span class='ee-k'>0:</span><span class='ee-v'>-70.80551287945946</span></li><li><span class='ee-k'>1:</span><span class='ee-v'>-13.895838340184625</span></li></ul></li><li><label class='ee-shut'>13: [-70.8057904176406, -13.8958362874803]<input type='checkbox' class='ee-toggle'></label><ul><li><span class='ee-k'>0:</span><span class='ee-v'>-70.8057904176406</span></li><li><span class='ee-k'>1:</span><span class='ee-v'>-13.8958362874803</span></li></ul></li><li><label class='ee-shut'>14: [-70.80579251906954, -13.896107414187627]<input type='checkbox' class='ee-toggle'></label><ul><li><span class='ee-k'>0:</span><span class='ee-v'>-70.80579251906954</span></li><li><span class='ee-k'>1:</span><span class='ee-v'>-13.896107414187627</span></li></ul></li></ul></li><li><label class='ee-shut'>15: List (5 elements)<input type='checkbox' class='ee-toggle'></label><ul><li><label class='ee-shut'>0: [-70.80575480219741, -13.92701787503756]<input type='checkbox' class='ee-toggle'></label><ul><li><span class='ee-k'>0:</span><span class='ee-v'>-70.80575480219741</span></li><li><span class='ee-k'>1:</span><span class='ee-v'>-13.92701787503756</span></li></ul></li><li><label class='ee-shut'>1: [-70.80519965142769, -13.927021989070033]<input type='checkbox' class='ee-toggle'></label><ul><li><span class='ee-k'>0:</span><span class='ee-v'>-70.80519965142769</span></li><li><span class='ee-k'>1:</span><span class='ee-v'>-13.927021989070033</span></li></ul></li><li><label class='ee-shut'>2: [-70.80519544026936, -13.926479736832174]<input type='checkbox' class='ee-toggle'></label><ul><li><span class='ee-k'>0:</span><span class='ee-v'>-70.80519544026936</span></li><li><span class='ee-k'>1:</span><span class='ee-v'>-13.926479736832174</span></li></ul></li><li><label class='ee-shut'>3: [-70.8057505897545, -13.926475622970381]<input type='checkbox' class='ee-toggle'></label><ul><li><span class='ee-k'>0:</span><span class='ee-v'>-70.8057505897545</span></li><li><span class='ee-k'>1:</span><span class='ee-v'>-13.926475622970381</span></li></ul></li><li><label class='ee-shut'>4: [-70.80575480219741, -13.92701787503756]<input type='checkbox' class='ee-toggle'></label><ul><li><span class='ee-k'>0:</span><span class='ee-v'>-70.80575480219741</span></li><li><span class='ee-k'>1:</span><span class='ee-v'>-13.92701787503756</span></li></ul></li></ul></li><li><label class='ee-shut'>16: List (7 elements)<input type='checkbox' class='ee-toggle'></label><ul><li><label class='ee-shut'>0: [-70.80494734279961, -13.930277558965452]<input type='checkbox' class='ee-toggle'></label><ul><li><span class='ee-k'>0:</span><span class='ee-v'>-70.80494734279961</span></li><li><span class='ee-k'>1:</span><span class='ee-v'>-13.930277558965452</span></li></ul></li><li><label class='ee-shut'>1: [-70.80439218399894, -13.93028167209961]<input type='checkbox' class='ee-toggle'></label><ul><li><span class='ee-k'>0:</span><span class='ee-v'>-70.80439218399894</span></li><li><span class='ee-k'>1:</span><span class='ee-v'>-13.93028167209961</span></li></ul></li><li><label class='ee-shut'>2: [-70.804387973703, -13.929739419762937]<input type='checkbox' class='ee-toggle'></label><ul><li><span class='ee-k'>0:</span><span class='ee-v'>-70.804387973703</span></li><li><span class='ee-k'>1:</span><span class='ee-v'>-13.929739419762937</span></li></ul></li><li><label class='ee-shut'>3: [-70.80466555247901, -13.929737363438402]<input type='checkbox' class='ee-toggle'></label><ul><li><span class='ee-k'>0:</span><span class='ee-v'>-70.80466555247901</span></li><li><span class='ee-k'>1:</span><span class='ee-v'>-13.929737363438402</span></li></ul></li><li><label class='ee-shut'>4: [-70.8046676579324, -13.930008489570808]<input type='checkbox' class='ee-toggle'></label><ul><li><span class='ee-k'>0:</span><span class='ee-v'>-70.8046676579324</span></li><li><span class='ee-k'>1:</span><span class='ee-v'>-13.930008489570808</span></li></ul></li><li><label class='ee-shut'>5: [-70.80494523698688, -13.930006432886948]<input type='checkbox' class='ee-toggle'></label><ul><li><span class='ee-k'>0:</span><span class='ee-v'>-70.80494523698688</span></li><li><span class='ee-k'>1:</span><span class='ee-v'>-13.930006432886948</span></li></ul></li><li><label class='ee-shut'>6: [-70.80494734279961, -13.930277558965452]<input type='checkbox' class='ee-toggle'></label><ul><li><span class='ee-k'>0:</span><span class='ee-v'>-70.80494734279961</span></li><li><span class='ee-k'>1:</span><span class='ee-v'>-13.930277558965452</span></li></ul></li></ul></li><li><label class='ee-shut'>17: List (5 elements)<input type='checkbox' class='ee-toggle'></label><ul><li><label class='ee-shut'>0: [-70.79465803272608, -13.927913298626814]<input type='checkbox' class='ee-toggle'></label><ul><li><span class='ee-k'>0:</span><span class='ee-v'>-70.79465803272608</span></li><li><span class='ee-k'>1:</span><span class='ee-v'>-13.927913298626814</span></li></ul></li><li><label class='ee-shut'>1: [-70.79438045458787, -13.927915343291215]<input type='checkbox' class='ee-toggle'></label><ul><li><span class='ee-k'>0:</span><span class='ee-v'>-70.79438045458787</span></li><li><span class='ee-k'>1:</span><span class='ee-v'>-13.927915343291215</span></li></ul></li><li><label class='ee-shut'>2: [-70.79437836146835, -13.927644215577777]<input type='checkbox' class='ee-toggle'></label><ul><li><span class='ee-k'>0:</span><span class='ee-v'>-70.79437836146835</span></li><li><span class='ee-k'>1:</span><span class='ee-v'>-13.927644215577777</span></li></ul></li><li><label class='ee-shut'>3: [-70.79465593927416, -13.92764217095829]<input type='checkbox' class='ee-toggle'></label><ul><li><span class='ee-k'>0:</span><span class='ee-v'>-70.79465593927416</span></li><li><span class='ee-k'>1:</span><span class='ee-v'>-13.92764217095829</span></li></ul></li><li><label class='ee-shut'>4: [-70.79465803272608, -13.927913298626814]<input type='checkbox' class='ee-toggle'></label><ul><li><span class='ee-k'>0:</span><span class='ee-v'>-70.79465803272608</span></li><li><span class='ee-k'>1:</span><span class='ee-v'>-13.927913298626814</span></li></ul></li></ul></li><li><label class='ee-shut'>18: List (5 elements)<input type='checkbox' class='ee-toggle'></label><ul><li><label class='ee-shut'>0: [-70.83379480422003, -13.962598589374059]<input type='checkbox' class='ee-toggle'></label><ul><li><span class='ee-k'>0:</span><span class='ee-v'>-70.83379480422003</span></li><li><span class='ee-k'>1:</span><span class='ee-v'>-13.962598589374059</span></li></ul></li><li><label class='ee-shut'>1: [-70.83379265960009, -13.96232746838002]<input type='checkbox' class='ee-toggle'></label><ul><li><span class='ee-k'>0:</span><span class='ee-v'>-70.83379265960009</span></li><li><span class='ee-k'>1:</span><span class='ee-v'>-13.96232746838002</span></li></ul></li><li><label class='ee-shut'>2: [-70.83407027278157, -13.962325373769287]<input type='checkbox' class='ee-toggle'></label><ul><li><span class='ee-k'>0:</span><span class='ee-v'>-70.83407027278157</span></li><li><span class='ee-k'>1:</span><span class='ee-v'>-13.962325373769287</span></li></ul></li><li><label class='ee-shut'>3: [-70.83407241773389, -13.962596494727396]<input type='checkbox' class='ee-toggle'></label><ul><li><span class='ee-k'>0:</span><span class='ee-v'>-70.83407241773389</span></li><li><span class='ee-k'>1:</span><span class='ee-v'>-13.962596494727396</span></li></ul></li><li><label class='ee-shut'>4: [-70.83379480422003, -13.962598589374059]<input type='checkbox' class='ee-toggle'></label><ul><li><span class='ee-k'>0:</span><span class='ee-v'>-70.83379480422003</span></li><li><span class='ee-k'>1:</span><span class='ee-v'>-13.962598589374059</span></li></ul></li></ul></li><li><label class='ee-shut'>19: List (5 elements)<input type='checkbox' class='ee-toggle'></label><ul><li><label class='ee-shut'>0: [-70.83520493666747, -13.895074669398905]<input type='checkbox' class='ee-toggle'></label><ul><li><span class='ee-k'>0:</span><span class='ee-v'>-70.83520493666747</span></li><li><span class='ee-k'>1:</span><span class='ee-v'>-13.895074669398905</span></li></ul></li><li><label class='ee-shut'>1: [-70.83520280119238, -13.89480354711129]<input type='checkbox' class='ee-toggle'></label><ul><li><span class='ee-k'>0:</span><span class='ee-v'>-70.83520280119238</span></li><li><span class='ee-k'>1:</span><span class='ee-v'>-13.89480354711129</span></li></ul></li><li><label class='ee-shut'>2: [-70.83548033353446, -13.894801460818957]<input type='checkbox' class='ee-toggle'></label><ul><li><span class='ee-k'>0:</span><span class='ee-v'>-70.83548033353446</span></li><li><span class='ee-k'>1:</span><span class='ee-v'>-13.894801460818957</span></li></ul></li><li><label class='ee-shut'>3: [-70.83548246934194, -13.895072583061657]<input type='checkbox' class='ee-toggle'></label><ul><li><span class='ee-k'>0:</span><span class='ee-v'>-70.83548246934194</span></li><li><span class='ee-k'>1:</span><span class='ee-v'>-13.895072583061657</span></li></ul></li><li><label class='ee-shut'>4: [-70.83520493666747, -13.895074669398905]<input type='checkbox' class='ee-toggle'></label><ul><li><span class='ee-k'>0:</span><span class='ee-v'>-70.83520493666747</span></li><li><span class='ee-k'>1:</span><span class='ee-v'>-13.895074669398905</span></li></ul></li></ul></li><li><label class='ee-shut'>20: List (5 elements)<input type='checkbox' class='ee-toggle'></label><ul><li><label class='ee-shut'>0: [-70.84843694167849, -13.95354021445863]<input type='checkbox' class='ee-toggle'></label><ul><li><span class='ee-k'>0:</span><span class='ee-v'>-70.84843694167849</span></li><li><span class='ee-k'>1:</span><span class='ee-v'>-13.95354021445863</span></li></ul></li><li><label class='ee-shut'>1: [-70.84843910200996, -13.953811333404513]<input type='checkbox' class='ee-toggle'></label><ul><li><span class='ee-k'>0:</span><span class='ee-v'>-70.84843910200996</span></li><li><span class='ee-k'>1:</span><span class='ee-v'>-13.953811333404513</span></li></ul></li><li><label class='ee-shut'>2: [-70.84816150126116, -13.95381344316084]<input type='checkbox' class='ee-toggle'></label><ul><li><span class='ee-k'>0:</span><span class='ee-v'>-70.84816150126116</span></li><li><span class='ee-k'>1:</span><span class='ee-v'>-13.95381344316084</span></li></ul></li><li><label class='ee-shut'>3: [-70.84815934125308, -13.953542324170042]<input type='checkbox' class='ee-toggle'></label><ul><li><span class='ee-k'>0:</span><span class='ee-v'>-70.84815934125308</span></li><li><span class='ee-k'>1:</span><span class='ee-v'>-13.953542324170042</span></li></ul></li><li><label class='ee-shut'>4: [-70.84843694167849, -13.95354021445863]<input type='checkbox' class='ee-toggle'></label><ul><li><span class='ee-k'>0:</span><span class='ee-v'>-70.84843694167849</span></li><li><span class='ee-k'>1:</span><span class='ee-v'>-13.95354021445863</span></li></ul></li></ul></li><li><label class='ee-shut'>21: List (5 elements)<input type='checkbox' class='ee-toggle'></label><ul><li><label class='ee-shut'>0: [-70.84843694167849, -13.95354021445863]<input type='checkbox' class='ee-toggle'></label><ul><li><span class='ee-k'>0:</span><span class='ee-v'>-70.84843694167849</span></li><li><span class='ee-k'>1:</span><span class='ee-v'>-13.95354021445863</span></li></ul></li><li><label class='ee-shut'>1: [-70.84843478139192, -13.953269095494782]<input type='checkbox' class='ee-toggle'></label><ul><li><span class='ee-k'>0:</span><span class='ee-v'>-70.84843478139192</span></li><li><span class='ee-k'>1:</span><span class='ee-v'>-13.953269095494782</span></li></ul></li><li><label class='ee-shut'>2: [-70.84871238144902, -13.953266985513878]<input type='checkbox' class='ee-toggle'></label><ul><li><span class='ee-k'>0:</span><span class='ee-v'>-70.84871238144902</span></li><li><span class='ee-k'>1:</span><span class='ee-v'>-13.953266985513878</span></li></ul></li><li><label class='ee-shut'>3: [-70.84871454204999, -13.953538104423828]<input type='checkbox' class='ee-toggle'></label><ul><li><span class='ee-k'>0:</span><span class='ee-v'>-70.84871454204999</span></li><li><span class='ee-k'>1:</span><span class='ee-v'>-13.953538104423828</span></li></ul></li><li><label class='ee-shut'>4: [-70.84843694167849, -13.95354021445863]<input type='checkbox' class='ee-toggle'></label><ul><li><span class='ee-k'>0:</span><span class='ee-v'>-70.84843694167849</span></li><li><span class='ee-k'>1:</span><span class='ee-v'>-13.95354021445863</span></li></ul></li></ul></li><li><label class='ee-shut'>22: List (5 elements)<input type='checkbox' class='ee-toggle'></label><ul><li><label class='ee-shut'>0: [-70.83520493666747, -13.895074669398905]<input type='checkbox' class='ee-toggle'></label><ul><li><span class='ee-k'>0:</span><span class='ee-v'>-70.83520493666747</span></li><li><span class='ee-k'>1:</span><span class='ee-v'>-13.895074669398905</span></li></ul></li><li><label class='ee-shut'>1: [-70.83520707219645, -13.895345791668554]<input type='checkbox' class='ee-toggle'></label><ul><li><span class='ee-k'>0:</span><span class='ee-v'>-70.83520707219645</span></li><li><span class='ee-k'>1:</span><span class='ee-v'>-13.895345791668554</span></li></ul></li><li><label class='ee-shut'>2: [-70.834652006066, -13.895349963480665]<input type='checkbox' class='ee-toggle'></label><ul><li><span class='ee-k'>0:</span><span class='ee-v'>-70.834652006066</span></li><li><span class='ee-k'>1:</span><span class='ee-v'>-13.895349963480665</span></li></ul></li><li><label class='ee-shut'>3: [-70.83464987118379, -13.895078841121185]<input type='checkbox' class='ee-toggle'></label><ul><li><span class='ee-k'>0:</span><span class='ee-v'>-70.83464987118379</span></li><li><span class='ee-k'>1:</span><span class='ee-v'>-13.895078841121185</span></li></ul></li><li><label class='ee-shut'>4: [-70.83520493666747, -13.895074669398905]<input type='checkbox' class='ee-toggle'></label><ul><li><span class='ee-k'>0:</span><span class='ee-v'>-70.83520493666747</span></li><li><span class='ee-k'>1:</span><span class='ee-v'>-13.895074669398905</span></li></ul></li></ul></li><li><label class='ee-shut'>23: List (5 elements)<input type='checkbox' class='ee-toggle'></label><ul><li><label class='ee-shut'>0: [-70.83494662242443, -13.897516856046208]<input type='checkbox' class='ee-toggle'></label><ul><li><span class='ee-k'>0:</span><span class='ee-v'>-70.83494662242443</span></li><li><span class='ee-k'>1:</span><span class='ee-v'>-13.897516856046208</span></li></ul></li><li><label class='ee-shut'>1: [-70.83494875804325, -13.897787978306875]<input type='checkbox' class='ee-toggle'></label><ul><li><span class='ee-k'>0:</span><span class='ee-v'>-70.83494875804325</span></li><li><span class='ee-k'>1:</span><span class='ee-v'>-13.897787978306875</span></li></ul></li><li><label class='ee-shut'>2: [-70.834671222054, -13.897790064428525]<input type='checkbox' class='ee-toggle'></label><ul><li><span class='ee-k'>0:</span><span class='ee-v'>-70.834671222054</span></li><li><span class='ee-k'>1:</span><span class='ee-v'>-13.897790064428525</span></li></ul></li><li><label class='ee-shut'>3: [-70.83466908675857, -13.897518942131928]<input type='checkbox' class='ee-toggle'></label><ul><li><span class='ee-k'>0:</span><span class='ee-v'>-70.83466908675857</span></li><li><span class='ee-k'>1:</span><span class='ee-v'>-13.897518942131928</span></li></ul></li><li><label class='ee-shut'>4: [-70.83494662242443, -13.897516856046208]<input type='checkbox' class='ee-toggle'></label><ul><li><span class='ee-k'>0:</span><span class='ee-v'>-70.83494662242443</span></li><li><span class='ee-k'>1:</span><span class='ee-v'>-13.897516856046208</span></li></ul></li></ul></li><li><label class='ee-shut'>24: List (11 elements)<input type='checkbox' class='ee-toggle'></label><ul><li><label class='ee-shut'>0: [-70.83379480422003, -13.962598589374059]<input type='checkbox' class='ee-toggle'></label><ul><li><span class='ee-k'>0:</span><span class='ee-v'>-70.83379480422003</span></li><li><span class='ee-k'>1:</span><span class='ee-v'>-13.962598589374059</span></li></ul></li><li><label class='ee-shut'>1: [-70.83379694889388, -13.9628697103681]<input type='checkbox' class='ee-toggle'></label><ul><li><span class='ee-k'>0:</span><span class='ee-v'>-70.83379694889388</span></li><li><span class='ee-k'>1:</span><span class='ee-v'>-13.9628697103681</span></li></ul></li><li><label class='ee-shut'>2: [-70.83407456273112, -13.96286761567652]<input type='checkbox' class='ee-toggle'></label><ul><li><span class='ee-k'>0:</span><span class='ee-v'>-70.83407456273112</span></li><li><span class='ee-k'>1:</span><span class='ee-v'>-13.96286761567652</span></li></ul></li><li><label class='ee-shut'>3: [-70.83407670777328, -13.963138736616663]<input type='checkbox' class='ee-toggle'></label><ul><li><span class='ee-k'>0:</span><span class='ee-v'>-70.83407670777328</span></li><li><span class='ee-k'>1:</span><span class='ee-v'>-13.963138736616663</span></li></ul></li><li><label class='ee-shut'>4: [-70.83352147940707, -13.96314292576626]<input type='checkbox' class='ee-toggle'></label><ul><li><span class='ee-k'>0:</span><span class='ee-v'>-70.83352147940707</span></li><li><span class='ee-k'>1:</span><span class='ee-v'>-13.96314292576626</span></li></ul></li><li><label class='ee-shut'>5: [-70.83352362384734, -13.96341404678725]<input type='checkbox' class='ee-toggle'></label><ul><li><span class='ee-k'>0:</span><span class='ee-v'>-70.83352362384734</span></li><li><span class='ee-k'>1:</span><span class='ee-v'>-13.96341404678725</span></li></ul></li><li><label class='ee-shut'>6: [-70.832690779982, -13.963420328274841]<input type='checkbox' class='ee-toggle'></label><ul><li><span class='ee-k'>0:</span><span class='ee-v'>-70.832690779982</span></li><li><span class='ee-k'>1:</span><span class='ee-v'>-13.963420328274841</span></li></ul></li><li><label class='ee-shut'>7: [-70.8326886365119, -13.963149207128087]<input type='checkbox' class='ee-toggle'></label><ul><li><span class='ee-k'>0:</span><span class='ee-v'>-70.8326886365119</span></li><li><span class='ee-k'>1:</span><span class='ee-v'>-13.963149207128087</span></li></ul></li><li><label class='ee-shut'>8: [-70.8329662508612, -13.963147113658216]<input type='checkbox' class='ee-toggle'></label><ul><li><span class='ee-k'>0:</span><span class='ee-v'>-70.8329662508612</span></li><li><span class='ee-k'>1:</span><span class='ee-v'>-13.963147113658216</span></li></ul></li><li><label class='ee-shut'>9: [-70.83296196340896, -13.962604871427589]<input type='checkbox' class='ee-toggle'></label><ul><li><span class='ee-k'>0:</span><span class='ee-v'>-70.83296196340896</span></li><li><span class='ee-k'>1:</span><span class='ee-v'>-13.962604871427589</span></li></ul></li><li><label class='ee-shut'>10: [-70.83379480422003, -13.962598589374059]<input type='checkbox' class='ee-toggle'></label><ul><li><span class='ee-k'>0:</span><span class='ee-v'>-70.83379480422003</span></li><li><span class='ee-k'>1:</span><span class='ee-v'>-13.962598589374059</span></li></ul></li></ul></li><li><label class='ee-shut'>25: List (5 elements)<input type='checkbox' class='ee-toggle'></label><ul><li><label class='ee-shut'>0: [-70.83494662242443, -13.897516856046208]<input type='checkbox' class='ee-toggle'></label><ul><li><span class='ee-k'>0:</span><span class='ee-v'>-70.83494662242443</span></li><li><span class='ee-k'>1:</span><span class='ee-v'>-13.897516856046208</span></li></ul></li><li><label class='ee-shut'>1: [-70.83494235133051, -13.896974611506911]<input type='checkbox' class='ee-toggle'></label><ul><li><span class='ee-k'>0:</span><span class='ee-v'>-70.83494235133051</span></li><li><span class='ee-k'>1:</span><span class='ee-v'>-13.896974611506911</span></li></ul></li><li><label class='ee-shut'>2: [-70.83521988631365, -13.89697252518763]<input type='checkbox' class='ee-toggle'></label><ul><li><span class='ee-k'>0:</span><span class='ee-v'>-70.83521988631365</span></li><li><span class='ee-k'>1:</span><span class='ee-v'>-13.89697252518763</span></li></ul></li><li><label class='ee-shut'>3: [-70.83522415804536, -13.89751476964608]<input type='checkbox' class='ee-toggle'></label><ul><li><span class='ee-k'>0:</span><span class='ee-v'>-70.83522415804536</span></li><li><span class='ee-k'>1:</span><span class='ee-v'>-13.89751476964608</span></li></ul></li><li><label class='ee-shut'>4: [-70.83494662242443, -13.897516856046208]<input type='checkbox' class='ee-toggle'></label><ul><li><span class='ee-k'>0:</span><span class='ee-v'>-70.83494662242443</span></li><li><span class='ee-k'>1:</span><span class='ee-v'>-13.897516856046208</span></li></ul></li></ul></li></ul></li><li><span class='ee-k'>geodesic:</span><span class='ee-v'>False</span></li></ul></li><li><label class='ee-shut'>properties: Object (1 property)<input type='checkbox' class='ee-toggle'></label><ul><li><span class='ee-k'>area_km2:</span><span class='ee-v'>35.87760000002863</span></li></ul></li></ul></li></ul></li></ul></li></ul></div><script>function toggleHeader() {\n",
              "    const parent = this.parentElement;\n",
              "    parent.className = parent.className === \"ee-open\" ? \"ee-shut\" : \"ee-open\";\n",
              "}\n",
              "\n",
              "for (let c of document.getElementsByClassName(\"ee-toggle\")) {\n",
              "    c.onclick = toggleHeader;\n",
              "}</script></div>"
            ]
          },
          "metadata": {},
          "execution_count": 130
        }
      ]
    },
    {
      "cell_type": "markdown",
      "source": [
        "Let's visualise this again..."
      ],
      "metadata": {
        "id": "jASseBqhuDfk"
      },
      "id": "jASseBqhuDfk"
    },
    {
      "cell_type": "code",
      "source": [
        "\n",
        "Map = geemap.Map() # Create empty map\n",
        "\n",
        "# Display colour image\n",
        "max_reflectance = 0.80\n",
        "visParams = {'bands': ['B4', 'B3', 'B2'], 'max': max_reflectance}\n",
        "Map.addLayer(image, visParams, 'True Colour')\n",
        "\n",
        "# Display NDI\n",
        "Map.addLayer(vectors_filtered, {'color': 'cyan'}, \"Identified Region\")  # Add our AOI\n",
        "\n",
        "Map.centerObject(region, zoom=12)\n",
        "Map\n"
      ],
      "metadata": {
        "id": "slkdX3xPtvXx",
        "outputId": "83c21b72-f6d2-470e-df28-3ebc18de09ff",
        "colab": {
          "base_uri": "https://localhost:8080/",
          "height": 621,
          "referenced_widgets": [
            "47b601a2e71b4ca8a6c09c6d14534e5f",
            "01b9c01a8b0f4aec8ecc199fb51a56fd",
            "ce6078af5cd84c40b24cd0389ce767fa",
            "a03f676716124dcc9032412f98eb5cfd",
            "c9283b0a943f4ee88d2264cfb1396c74",
            "765cacca8b784f1ea2e0dbae3604da83",
            "9df45085bced470fb37ec1d40bd7f29e",
            "b1893656313d4a00b82abd9ebb837cdd",
            "6bc8a9d84b0d4044bef851486b389738",
            "8d0b2a91edac435597ebb1012cd804bf",
            "645af420f2db46e1b030712a0fea33cb",
            "74fb19a8527a4a3987e5deeeca978d5c",
            "281fff5ce8d446d1bd0bfbafd6048c42",
            "d2b89e4066994f06aba4026b4340a6e8",
            "db1cbe5fce6e4d518f34c4a140ba48f1",
            "bb13eb4ea46f456f82a3b4b4f2bde567",
            "9155f46ae7cb453fb4a1006cedd59f65",
            "1ad870534a4844968993dd97e67b6674",
            "265105db14204009bbcc82737ccd3e4b",
            "3592553ed7c14a72be3a1cbfff863a87",
            "cad93b0d7f9044ec87d2b6fc01de2bd2",
            "4ef46384a6bd4d668888b89d41fd9ea1",
            "e38d187f7ab24f99a4c195d15c455f5f",
            "66edf4db89514788a85aabed145807cd",
            "2ee731b686fa46e599f7fd5152a2891e",
            "7588e8bffe2643078271bd02c2316ea7"
          ]
        }
      },
      "id": "slkdX3xPtvXx",
      "execution_count": 131,
      "outputs": [
        {
          "output_type": "display_data",
          "data": {
            "text/plain": [
              "<IPython.core.display.HTML object>"
            ],
            "text/html": [
              "\n",
              "            <style>\n",
              "                .geemap-dark {\n",
              "                    --jp-widgets-color: white;\n",
              "                    --jp-widgets-label-color: white;\n",
              "                    --jp-ui-font-color1: white;\n",
              "                    --jp-layout-color2: #454545;\n",
              "                    background-color: #383838;\n",
              "                }\n",
              "                    \n",
              "                .geemap-dark .jupyter-button {\n",
              "                    --jp-layout-color3: #383838;\n",
              "                }\n",
              "                \n",
              "                .geemap-colab {\n",
              "                    background-color: var(--colab-primary-surface-color, white);\n",
              "                }\n",
              "                    \n",
              "                .geemap-colab .jupyter-button {\n",
              "                    --jp-layout-color3: var(--colab-primary-surface-color, white);\n",
              "                }\n",
              "            </style>\n",
              "            "
            ]
          },
          "metadata": {}
        },
        {
          "output_type": "display_data",
          "data": {
            "text/plain": [
              "Map(center=[-13.921983704624434, -70.82089282499103], controls=(WidgetControl(options=['position', 'transparen…"
            ],
            "application/vnd.jupyter.widget-view+json": {
              "version_major": 2,
              "version_minor": 0,
              "model_id": "47b601a2e71b4ca8a6c09c6d14534e5f"
            }
          },
          "metadata": {
            "application/vnd.jupyter.widget-view+json": {
              "colab": {
                "custom_widget_manager": {
                  "url": "https://ssl.gstatic.com/colaboratory-static/widgets/colab-cdn-widget-manager/b3e629b1971e1542/manager.min.js"
                }
              }
            }
          }
        }
      ]
    },
    {
      "cell_type": "markdown",
      "source": [
        "Beautiful! Now let's download the data we've produced today."
      ],
      "metadata": {
        "id": "bRb0XUm0uNBU"
      },
      "id": "bRb0XUm0uNBU"
    },
    {
      "cell_type": "markdown",
      "source": [
        "## Download data"
      ],
      "metadata": {
        "id": "Dly_RhnruWrP"
      },
      "id": "Dly_RhnruWrP"
    },
    {
      "cell_type": "markdown",
      "source": [
        "Let's set the Google Drive folder we want to export to. This should be the same as last week:"
      ],
      "metadata": {
        "id": "LnFRNZAKy-Di"
      },
      "id": "LnFRNZAKy-Di"
    },
    {
      "cell_type": "code",
      "source": [
        "# You can edit this variables\n",
        "folder = 'scires_project_2C'\n"
      ],
      "metadata": {
        "id": "b449FdakzCWb",
        "outputId": "3c4f5651-af3d-473f-f2e2-e58bc0f832bb",
        "colab": {
          "base_uri": "https://localhost:8080/",
          "height": 17
        }
      },
      "id": "b449FdakzCWb",
      "execution_count": 138,
      "outputs": [
        {
          "output_type": "display_data",
          "data": {
            "text/plain": [
              "<IPython.core.display.HTML object>"
            ],
            "text/html": [
              "\n",
              "            <style>\n",
              "                .geemap-dark {\n",
              "                    --jp-widgets-color: white;\n",
              "                    --jp-widgets-label-color: white;\n",
              "                    --jp-ui-font-color1: white;\n",
              "                    --jp-layout-color2: #454545;\n",
              "                    background-color: #383838;\n",
              "                }\n",
              "                    \n",
              "                .geemap-dark .jupyter-button {\n",
              "                    --jp-layout-color3: #383838;\n",
              "                }\n",
              "                \n",
              "                .geemap-colab {\n",
              "                    background-color: var(--colab-primary-surface-color, white);\n",
              "                }\n",
              "                    \n",
              "                .geemap-colab .jupyter-button {\n",
              "                    --jp-layout-color3: var(--colab-primary-surface-color, white);\n",
              "                }\n",
              "            </style>\n",
              "            "
            ]
          },
          "metadata": {}
        }
      ]
    },
    {
      "cell_type": "markdown",
      "source": [
        "First, let's download the initial scene:"
      ],
      "metadata": {
        "id": "-32jFQlYy2bY"
      },
      "id": "-32jFQlYy2bY"
    },
    {
      "cell_type": "code",
      "source": [
        "# Construct the filename automatically\n",
        "date_string = image.get('DATE_ACQUIRED').getInfo()\n",
        "filename = location_name + '_' + date_string + '_image'\n",
        "\n",
        "# Print out filename for reference\n",
        "print(\"The image will be saved to your Google Drive at:\\n\" + folder + '/' + filename + '.tif\\n')\n",
        "\n",
        "# Export the image, specifying scale and region.\n",
        "task = ee.batch.Export.image.toDrive(**{\n",
        "    'image': image.select(['B4', 'B3', 'B2', 'B5', 'B6']),\n",
        "    'description': filename,\n",
        "    'folder': folder,\n",
        "    'scale': 30,\n",
        "    'region': region.getInfo()['coordinates']\n",
        "})\n",
        "task.start()\n",
        "\n",
        "while task.active():\n",
        "  print('Task processing ongoing... (id: {}).'.format(task.id))\n",
        "  time.sleep(5)\n",
        "\n",
        "print('Finished processing. Image is exported to your Drive.')\n"
      ],
      "metadata": {
        "id": "HeASPMU3uF2f",
        "outputId": "5793f533-56a3-4d44-a9bb-af6764b83052",
        "colab": {
          "base_uri": "https://localhost:8080/",
          "height": 124
        }
      },
      "id": "HeASPMU3uF2f",
      "execution_count": 139,
      "outputs": [
        {
          "output_type": "display_data",
          "data": {
            "text/plain": [
              "<IPython.core.display.HTML object>"
            ],
            "text/html": [
              "\n",
              "            <style>\n",
              "                .geemap-dark {\n",
              "                    --jp-widgets-color: white;\n",
              "                    --jp-widgets-label-color: white;\n",
              "                    --jp-ui-font-color1: white;\n",
              "                    --jp-layout-color2: #454545;\n",
              "                    background-color: #383838;\n",
              "                }\n",
              "                    \n",
              "                .geemap-dark .jupyter-button {\n",
              "                    --jp-layout-color3: #383838;\n",
              "                }\n",
              "                \n",
              "                .geemap-colab {\n",
              "                    background-color: var(--colab-primary-surface-color, white);\n",
              "                }\n",
              "                    \n",
              "                .geemap-colab .jupyter-button {\n",
              "                    --jp-layout-color3: var(--colab-primary-surface-color, white);\n",
              "                }\n",
              "            </style>\n",
              "            "
            ]
          },
          "metadata": {}
        },
        {
          "output_type": "stream",
          "name": "stdout",
          "text": [
            "The image will be saved to your Google Drive at:\n",
            "scires_project_2C/quelcayya_2023-08-19_image.tif\n",
            "Task processing ongoing... (id: QL5A2L5XLYWV6MT2AOGKZCV6).\n",
            "Task processing ongoing... (id: QL5A2L5XLYWV6MT2AOGKZCV6).\n",
            "Task processing ongoing... (id: QL5A2L5XLYWV6MT2AOGKZCV6).\n",
            "Finished processing. Image is exported to your Drive.\n"
          ]
        }
      ]
    },
    {
      "cell_type": "markdown",
      "source": [
        "Now, let's download the NDI value we produced"
      ],
      "metadata": {
        "id": "gNcc0ETsz2q1"
      },
      "id": "gNcc0ETsz2q1"
    },
    {
      "cell_type": "code",
      "source": [
        "# Construct the filename automatically\n",
        "date_string = image.get('DATE_ACQUIRED').getInfo()\n",
        "filename = location_name + '_' + date_string + '_' + type_of_ndi\n",
        "\n",
        "# Print out filename for reference\n",
        "print(\"The image will be saved to your Google Drive at:\\n\" + folder + '/' + filename + '.tif\\n')\n",
        "\n",
        "# Export the image, specifying scale and region.\n",
        "task = ee.batch.Export.image.toDrive(**{\n",
        "    'image': ndi,\n",
        "    'description': filename,\n",
        "    'folder': folder,\n",
        "    'scale': 30,\n",
        "    'region': region.getInfo()['coordinates']\n",
        "})\n",
        "task.start()\n",
        "\n",
        "while task.active():\n",
        "  print('Task processing ongoing... (id: {}).'.format(task.id))\n",
        "  time.sleep(5)\n",
        "\n",
        "print('Finished processing. Image is exported to your Drive.')\n"
      ],
      "metadata": {
        "id": "jgrQHcTXz2Du",
        "outputId": "eedf172b-ff26-450f-c34d-706df58e948b",
        "colab": {
          "base_uri": "https://localhost:8080/",
          "height": 142
        }
      },
      "id": "jgrQHcTXz2Du",
      "execution_count": 141,
      "outputs": [
        {
          "output_type": "display_data",
          "data": {
            "text/plain": [
              "<IPython.core.display.HTML object>"
            ],
            "text/html": [
              "\n",
              "            <style>\n",
              "                .geemap-dark {\n",
              "                    --jp-widgets-color: white;\n",
              "                    --jp-widgets-label-color: white;\n",
              "                    --jp-ui-font-color1: white;\n",
              "                    --jp-layout-color2: #454545;\n",
              "                    background-color: #383838;\n",
              "                }\n",
              "                    \n",
              "                .geemap-dark .jupyter-button {\n",
              "                    --jp-layout-color3: #383838;\n",
              "                }\n",
              "                \n",
              "                .geemap-colab {\n",
              "                    background-color: var(--colab-primary-surface-color, white);\n",
              "                }\n",
              "                    \n",
              "                .geemap-colab .jupyter-button {\n",
              "                    --jp-layout-color3: var(--colab-primary-surface-color, white);\n",
              "                }\n",
              "            </style>\n",
              "            "
            ]
          },
          "metadata": {}
        },
        {
          "output_type": "stream",
          "name": "stdout",
          "text": [
            "The image will be saved to your Google Drive at:\n",
            "scires_project_2C/quelcayya_2023-08-19_NDSI.tif\n",
            "\n",
            "Task processing ongoing... (id: 32XD6UXS5JNCGKO4A6JWVO6U).\n",
            "Task processing ongoing... (id: 32XD6UXS5JNCGKO4A6JWVO6U).\n",
            "Task processing ongoing... (id: 32XD6UXS5JNCGKO4A6JWVO6U).\n",
            "Finished processing. Image is exported to your Drive.\n"
          ]
        }
      ]
    },
    {
      "cell_type": "markdown",
      "source": [
        "Finally, let's download the vector data. We could download this as either a shapefile or a KML file (which is Google's preferred format for Google Earth and other software, but we can also use it in QGIS). As you may remember from last year, shapefiles are multi-file and slightly unweildy, so for now we'll use KML. KML files aren't as feature-rich but will do fine for our purposes."
      ],
      "metadata": {
        "id": "0jnRAHbt0S4M"
      },
      "id": "0jnRAHbt0S4M"
    },
    {
      "cell_type": "code",
      "source": [
        "# Construct the filename automatically\n",
        "date_string = image.get('DATE_ACQUIRED').getInfo()\n",
        "filename = location_name + '_' + date_string + '_' + type_of_ndi + '_theshold_' + str(max_reflectance)\n",
        "\n",
        "# Print out filename for reference\n",
        "print(\"The image will be saved to your Google Drive at:\\n\" + folder + '/' + filename + '.kml\\n')\n",
        "\n",
        "# Export the featureCollection, specifying scale and region.\n",
        "task = ee.batch.Export.table.toDrive(**{\n",
        "  'collection': vectors_filtered,\n",
        "  'description':'filename',\n",
        "  'folder': folder,\n",
        "  'fileFormat': 'KML'\n",
        "})\n",
        "task.start()\n",
        "\n",
        "while task.active():\n",
        "  print('Task processing ongoing... (id: {}).'.format(task.id))\n",
        "  time.sleep(5)\n",
        "\n",
        "print('Finished processing. Vector file is exported to your Drive.')\n"
      ],
      "metadata": {
        "id": "zO91KJ5K08Mt",
        "outputId": "1af3cb38-8589-4595-e5d4-94677983f48e",
        "colab": {
          "base_uri": "https://localhost:8080/",
          "height": 124
        }
      },
      "id": "zO91KJ5K08Mt",
      "execution_count": 143,
      "outputs": [
        {
          "output_type": "display_data",
          "data": {
            "text/plain": [
              "<IPython.core.display.HTML object>"
            ],
            "text/html": [
              "\n",
              "            <style>\n",
              "                .geemap-dark {\n",
              "                    --jp-widgets-color: white;\n",
              "                    --jp-widgets-label-color: white;\n",
              "                    --jp-ui-font-color1: white;\n",
              "                    --jp-layout-color2: #454545;\n",
              "                    background-color: #383838;\n",
              "                }\n",
              "                    \n",
              "                .geemap-dark .jupyter-button {\n",
              "                    --jp-layout-color3: #383838;\n",
              "                }\n",
              "                \n",
              "                .geemap-colab {\n",
              "                    background-color: var(--colab-primary-surface-color, white);\n",
              "                }\n",
              "                    \n",
              "                .geemap-colab .jupyter-button {\n",
              "                    --jp-layout-color3: var(--colab-primary-surface-color, white);\n",
              "                }\n",
              "            </style>\n",
              "            "
            ]
          },
          "metadata": {}
        },
        {
          "output_type": "stream",
          "name": "stdout",
          "text": [
            "The image will be saved to your Google Drive at:\n",
            "scires_project_2C/quelcayya_2023-08-19_NDSI_theshold_0.8.tif\n",
            "\n",
            "Task processing ongoing... (id: RRWAJIJKSR366KFHGEQU6Q2N).\n",
            "Task processing ongoing... (id: RRWAJIJKSR366KFHGEQU6Q2N).\n",
            "Finished processing. Vector file is exported to your Drive.\n"
          ]
        }
      ]
    },
    {
      "cell_type": "markdown",
      "source": [
        "Good job! Download these files from your Google Drive to a sensible place in your local storage, and then move on to the next notebook to visualise these in QGIS."
      ],
      "metadata": {
        "id": "wUaJ9M3m2kFr"
      },
      "id": "wUaJ9M3m2kFr"
    },
    {
      "cell_type": "code",
      "source": [],
      "metadata": {
        "id": "zuOwftqi2wAU"
      },
      "id": "zuOwftqi2wAU",
      "execution_count": null,
      "outputs": []
    }
  ],
  "metadata": {
    "kernelspec": {
      "display_name": "Python (geospatial)",
      "language": "python",
      "name": "geospatial"
    },
    "language_info": {
      "codemirror_mode": {
        "name": "ipython",
        "version": 3
      },
      "file_extension": ".py",
      "mimetype": "text/x-python",
      "name": "python",
      "nbconvert_exporter": "python",
      "pygments_lexer": "ipython3",
      "version": "3.10.9"
    },
    "colab": {
      "provenance": []
    },
    "widgets": {
      "application/vnd.jupyter.widget-state+json": {
        "8d63c2793eb94ab39730fc156b23dc37": {
          "model_module": "jupyter-leaflet",
          "model_name": "LeafletMapModel",
          "model_module_version": "^0.18",
          "state": {
            "_dom_classes": [],
            "_model_module": "jupyter-leaflet",
            "_model_module_version": "^0.18",
            "_model_name": "LeafletMapModel",
            "_view_count": null,
            "_view_module": "jupyter-leaflet",
            "_view_module_version": "^0.18",
            "_view_name": "LeafletMapView",
            "bottom": 565546,
            "bounce_at_zoom_limits": true,
            "box_zoom": true,
            "center": [
              -13.922737426085153,
              -70.82061767578126
            ],
            "close_popup_on_click": true,
            "controls": [
              "IPY_MODEL_34fed9e2a9a34ed1bf8bb3813069391e",
              "IPY_MODEL_5c84aa0855e64850a6bc6d4969cddf66",
              "IPY_MODEL_0cac6655a5624527b7ad2f7ab207e39e",
              "IPY_MODEL_2bd10f32374d4439803eb9ddd627e43a",
              "IPY_MODEL_d9f9f23189544f2aae0c36496efca7bf",
              "IPY_MODEL_732afebd667a42c2a5c48404b0a5e6fd",
              "IPY_MODEL_f8e2d7ad438d4235ba38509975990f1d",
              "IPY_MODEL_3dc372b4bfc746439af640be135c90b6"
            ],
            "crs": {
              "name": "EPSG3857",
              "custom": false
            },
            "default_style": "IPY_MODEL_23ddb573d8334d75bd9af9c3e99f6fd2",
            "double_click_zoom": true,
            "dragging": true,
            "dragging_style": "IPY_MODEL_0fe5c06886b44b628af12340e003052e",
            "east": -70.58303833007814,
            "fullscreen": false,
            "inertia": true,
            "inertia_deceleration": 3000,
            "inertia_max_speed": 1500,
            "interpolation": "bilinear",
            "keyboard": true,
            "keyboard_pan_offset": 80,
            "keyboard_zoom_offset": 1,
            "layers": [
              "IPY_MODEL_006af1d74993438583f6907bdac9aa5c",
              "IPY_MODEL_886f16cc1a1c4362b0b790897f9a8d6f"
            ],
            "layout": "IPY_MODEL_ec8f11429132477bbc438b2d3a762007",
            "left": 317316,
            "max_zoom": 24,
            "min_zoom": null,
            "modisdate": "2024-01-03",
            "north": -13.822744963424938,
            "options": [
              "bounce_at_zoom_limits",
              "box_zoom",
              "center",
              "close_popup_on_click",
              "double_click_zoom",
              "dragging",
              "fullscreen",
              "inertia",
              "inertia_deceleration",
              "inertia_max_speed",
              "interpolation",
              "keyboard",
              "keyboard_pan_offset",
              "keyboard_zoom_offset",
              "max_zoom",
              "min_zoom",
              "prefer_canvas",
              "scroll_wheel_zoom",
              "tap",
              "tap_tolerance",
              "touch_zoom",
              "world_copy_jump",
              "zoom",
              "zoom_animation_threshold",
              "zoom_delta",
              "zoom_snap"
            ],
            "panes": {},
            "prefer_canvas": false,
            "right": 318700,
            "scroll_wheel_zoom": true,
            "south": -14.022686647941942,
            "style": "IPY_MODEL_23ddb573d8334d75bd9af9c3e99f6fd2",
            "tap": true,
            "tap_tolerance": 15,
            "top": 564946,
            "touch_zoom": true,
            "west": -71.05819702148439,
            "window_url": "https://9x2nyh9ie2w-496ff2e9c6d22116-0-colab.googleusercontent.com/outputframe.html?vrz=colab_20240102-060009_RC01_595159414",
            "world_copy_jump": false,
            "zoom": 12,
            "zoom_animation_threshold": 4,
            "zoom_delta": 1,
            "zoom_snap": 1
          }
        },
        "34fed9e2a9a34ed1bf8bb3813069391e": {
          "model_module": "jupyter-leaflet",
          "model_name": "LeafletWidgetControlModel",
          "model_module_version": "^0.18",
          "state": {
            "_model_module": "jupyter-leaflet",
            "_model_module_version": "^0.18",
            "_model_name": "LeafletWidgetControlModel",
            "_view_count": null,
            "_view_module": "jupyter-leaflet",
            "_view_module_version": "^0.18",
            "_view_name": "LeafletWidgetControlView",
            "max_height": null,
            "max_width": null,
            "min_height": null,
            "min_width": null,
            "options": [
              "position",
              "transparent_bg"
            ],
            "position": "topleft",
            "transparent_bg": false,
            "widget": "IPY_MODEL_b8f91dc7776d4a53adcabc2f923064c1"
          }
        },
        "5c84aa0855e64850a6bc6d4969cddf66": {
          "model_module": "jupyter-leaflet",
          "model_name": "LeafletZoomControlModel",
          "model_module_version": "^0.18",
          "state": {
            "_model_module": "jupyter-leaflet",
            "_model_module_version": "^0.18",
            "_model_name": "LeafletZoomControlModel",
            "_view_count": null,
            "_view_module": "jupyter-leaflet",
            "_view_module_version": "^0.18",
            "_view_name": "LeafletZoomControlView",
            "options": [
              "position",
              "zoom_in_text",
              "zoom_in_title",
              "zoom_out_text",
              "zoom_out_title"
            ],
            "position": "topleft",
            "zoom_in_text": "+",
            "zoom_in_title": "Zoom in",
            "zoom_out_text": "-",
            "zoom_out_title": "Zoom out"
          }
        },
        "0cac6655a5624527b7ad2f7ab207e39e": {
          "model_module": "jupyter-leaflet",
          "model_name": "LeafletFullScreenControlModel",
          "model_module_version": "^0.18",
          "state": {
            "_model_module": "jupyter-leaflet",
            "_model_module_version": "^0.18",
            "_model_name": "LeafletFullScreenControlModel",
            "_view_count": null,
            "_view_module": "jupyter-leaflet",
            "_view_module_version": "^0.18",
            "_view_name": "LeafletFullScreenControlView",
            "options": [
              "position"
            ],
            "position": "topleft"
          }
        },
        "2bd10f32374d4439803eb9ddd627e43a": {
          "model_module": "jupyter-leaflet",
          "model_name": "LeafletDrawControlModel",
          "model_module_version": "^0.18",
          "state": {
            "_model_module": "jupyter-leaflet",
            "_model_module_version": "^0.18",
            "_model_name": "LeafletDrawControlModel",
            "_view_count": null,
            "_view_module": "jupyter-leaflet",
            "_view_module_version": "^0.18",
            "_view_name": "LeafletDrawControlView",
            "circle": {},
            "circlemarker": {},
            "data": [],
            "edit": true,
            "marker": {
              "shapeOptions": {
                "color": "#3388ff"
              }
            },
            "options": [
              "position"
            ],
            "polygon": {
              "shapeOptions": {}
            },
            "polyline": {
              "shapeOptions": {}
            },
            "position": "topleft",
            "rectangle": {
              "shapeOptions": {
                "color": "#3388ff"
              }
            },
            "remove": true
          }
        },
        "d9f9f23189544f2aae0c36496efca7bf": {
          "model_module": "jupyter-leaflet",
          "model_name": "LeafletScaleControlModel",
          "model_module_version": "^0.18",
          "state": {
            "_model_module": "jupyter-leaflet",
            "_model_module_version": "^0.18",
            "_model_name": "LeafletScaleControlModel",
            "_view_count": null,
            "_view_module": "jupyter-leaflet",
            "_view_module_version": "^0.18",
            "_view_name": "LeafletScaleControlView",
            "imperial": true,
            "max_width": 100,
            "metric": true,
            "options": [
              "imperial",
              "max_width",
              "metric",
              "position",
              "update_when_idle"
            ],
            "position": "bottomleft",
            "update_when_idle": false
          }
        },
        "732afebd667a42c2a5c48404b0a5e6fd": {
          "model_module": "jupyter-leaflet",
          "model_name": "LeafletMeasureControlModel",
          "model_module_version": "^0.18",
          "state": {
            "_custom_units": {},
            "_model_module": "jupyter-leaflet",
            "_model_module_version": "^0.18",
            "_model_name": "LeafletMeasureControlModel",
            "_view_count": null,
            "_view_module": "jupyter-leaflet",
            "_view_module_version": "^0.18",
            "_view_name": "LeafletMeasureControlView",
            "active_color": "orange",
            "capture_z_index": 10000,
            "completed_color": "#C8F2BE",
            "options": [
              "active_color",
              "capture_z_index",
              "completed_color",
              "popup_options",
              "position",
              "primary_area_unit",
              "primary_length_unit",
              "secondary_area_unit",
              "secondary_length_unit"
            ],
            "popup_options": {
              "className": "leaflet-measure-resultpopup",
              "autoPanPadding": [
                10,
                10
              ]
            },
            "position": "bottomleft",
            "primary_area_unit": "acres",
            "primary_length_unit": "kilometers",
            "secondary_area_unit": null,
            "secondary_length_unit": null
          }
        },
        "f8e2d7ad438d4235ba38509975990f1d": {
          "model_module": "jupyter-leaflet",
          "model_name": "LeafletWidgetControlModel",
          "model_module_version": "^0.18",
          "state": {
            "_model_module": "jupyter-leaflet",
            "_model_module_version": "^0.18",
            "_model_name": "LeafletWidgetControlModel",
            "_view_count": null,
            "_view_module": "jupyter-leaflet",
            "_view_module_version": "^0.18",
            "_view_name": "LeafletWidgetControlView",
            "max_height": null,
            "max_width": null,
            "min_height": null,
            "min_width": null,
            "options": [
              "position",
              "transparent_bg"
            ],
            "position": "topright",
            "transparent_bg": false,
            "widget": "IPY_MODEL_9561e6c028614fcfae7724f069ee1c20"
          }
        },
        "3dc372b4bfc746439af640be135c90b6": {
          "model_module": "jupyter-leaflet",
          "model_name": "LeafletAttributionControlModel",
          "model_module_version": "^0.18",
          "state": {
            "_model_module": "jupyter-leaflet",
            "_model_module_version": "^0.18",
            "_model_name": "LeafletAttributionControlModel",
            "_view_count": null,
            "_view_module": "jupyter-leaflet",
            "_view_module_version": "^0.18",
            "_view_name": "LeafletAttributionControlView",
            "options": [
              "position",
              "prefix"
            ],
            "position": "bottomright",
            "prefix": "ipyleaflet"
          }
        },
        "23ddb573d8334d75bd9af9c3e99f6fd2": {
          "model_module": "jupyter-leaflet",
          "model_name": "LeafletMapStyleModel",
          "model_module_version": "^0.18",
          "state": {
            "_model_module": "jupyter-leaflet",
            "_model_module_version": "^0.18",
            "_model_name": "LeafletMapStyleModel",
            "_view_count": null,
            "_view_module": "@jupyter-widgets/base",
            "_view_module_version": "1.2.0",
            "_view_name": "StyleView",
            "cursor": "grab"
          }
        },
        "0fe5c06886b44b628af12340e003052e": {
          "model_module": "jupyter-leaflet",
          "model_name": "LeafletMapStyleModel",
          "model_module_version": "^0.18",
          "state": {
            "_model_module": "jupyter-leaflet",
            "_model_module_version": "^0.18",
            "_model_name": "LeafletMapStyleModel",
            "_view_count": null,
            "_view_module": "@jupyter-widgets/base",
            "_view_module_version": "1.2.0",
            "_view_name": "StyleView",
            "cursor": "move"
          }
        },
        "006af1d74993438583f6907bdac9aa5c": {
          "model_module": "jupyter-leaflet",
          "model_name": "LeafletTileLayerModel",
          "model_module_version": "^0.18",
          "state": {
            "_model_module": "jupyter-leaflet",
            "_model_module_version": "^0.18",
            "_model_name": "LeafletTileLayerModel",
            "_view_count": null,
            "_view_module": "jupyter-leaflet",
            "_view_module_version": "^0.18",
            "_view_name": "LeafletTileLayerView",
            "attribution": "&copy; <a href=\"https://www.openstreetmap.org/copyright\">OpenStreetMap</a> contributors",
            "base": true,
            "bottom": true,
            "bounds": null,
            "detect_retina": false,
            "loading": false,
            "max_native_zoom": null,
            "max_zoom": 19,
            "min_native_zoom": null,
            "min_zoom": 1,
            "name": "OpenStreetMap.Mapnik",
            "no_wrap": false,
            "opacity": 1,
            "options": [
              "attribution",
              "bounds",
              "detect_retina",
              "max_native_zoom",
              "max_zoom",
              "min_native_zoom",
              "min_zoom",
              "no_wrap",
              "tile_size",
              "tms",
              "zoom_offset"
            ],
            "pane": "",
            "popup": null,
            "popup_max_height": null,
            "popup_max_width": 300,
            "popup_min_width": 50,
            "show_loading": false,
            "subitems": [],
            "tile_size": 256,
            "tms": false,
            "url": "https://tile.openstreetmap.org/{z}/{x}/{y}.png",
            "visible": true,
            "zoom_offset": 0
          }
        },
        "886f16cc1a1c4362b0b790897f9a8d6f": {
          "model_module": "jupyter-leaflet",
          "model_name": "LeafletTileLayerModel",
          "model_module_version": "^0.18",
          "state": {
            "_model_module": "jupyter-leaflet",
            "_model_module_version": "^0.18",
            "_model_name": "LeafletTileLayerModel",
            "_view_count": null,
            "_view_module": "jupyter-leaflet",
            "_view_module_version": "^0.18",
            "_view_name": "LeafletTileLayerView",
            "attribution": "Google Earth Engine",
            "base": false,
            "bottom": true,
            "bounds": null,
            "detect_retina": false,
            "loading": false,
            "max_native_zoom": null,
            "max_zoom": 24,
            "min_native_zoom": null,
            "min_zoom": 0,
            "name": "Search Region",
            "no_wrap": false,
            "opacity": 1,
            "options": [
              "attribution",
              "bounds",
              "detect_retina",
              "max_native_zoom",
              "max_zoom",
              "min_native_zoom",
              "min_zoom",
              "no_wrap",
              "tile_size",
              "tms",
              "zoom_offset"
            ],
            "pane": "",
            "popup": null,
            "popup_max_height": null,
            "popup_max_width": 300,
            "popup_min_width": 50,
            "show_loading": false,
            "subitems": [],
            "tile_size": 256,
            "tms": false,
            "url": "https://earthengine.googleapis.com/v1/projects/ee-trchudley/maps/91e46f1c3c4bf32e8a42791ff7fc94b2-bcfdb7c3e5b6e88a8f9d9e727893da84/tiles/{z}/{x}/{y}",
            "visible": true,
            "zoom_offset": 0
          }
        },
        "ec8f11429132477bbc438b2d3a762007": {
          "model_module": "@jupyter-widgets/base",
          "model_name": "LayoutModel",
          "model_module_version": "1.2.0",
          "state": {
            "_model_module": "@jupyter-widgets/base",
            "_model_module_version": "1.2.0",
            "_model_name": "LayoutModel",
            "_view_count": null,
            "_view_module": "@jupyter-widgets/base",
            "_view_module_version": "1.2.0",
            "_view_name": "LayoutView",
            "align_content": null,
            "align_items": null,
            "align_self": null,
            "border": null,
            "bottom": null,
            "display": null,
            "flex": null,
            "flex_flow": null,
            "grid_area": null,
            "grid_auto_columns": null,
            "grid_auto_flow": null,
            "grid_auto_rows": null,
            "grid_column": null,
            "grid_gap": null,
            "grid_row": null,
            "grid_template_areas": null,
            "grid_template_columns": null,
            "grid_template_rows": null,
            "height": "600px",
            "justify_content": null,
            "justify_items": null,
            "left": null,
            "margin": null,
            "max_height": null,
            "max_width": null,
            "min_height": null,
            "min_width": null,
            "object_fit": null,
            "object_position": null,
            "order": null,
            "overflow": null,
            "overflow_x": null,
            "overflow_y": null,
            "padding": null,
            "right": null,
            "top": null,
            "visibility": null,
            "width": null
          }
        },
        "e11882a777024d4783d096d8b5300a96": {
          "model_module": "jupyter-leaflet",
          "model_name": "LeafletMapStyleModel",
          "model_module_version": "^0.18",
          "state": {
            "_model_module": "jupyter-leaflet",
            "_model_module_version": "^0.18",
            "_model_name": "LeafletMapStyleModel",
            "_view_count": null,
            "_view_module": "@jupyter-widgets/base",
            "_view_module_version": "1.2.0",
            "_view_name": "StyleView",
            "cursor": "grab"
          }
        },
        "b8f91dc7776d4a53adcabc2f923064c1": {
          "model_module": "@jupyter-widgets/controls",
          "model_name": "HBoxModel",
          "model_module_version": "1.5.0",
          "state": {
            "_dom_classes": [
              "geemap-colab"
            ],
            "_model_module": "@jupyter-widgets/controls",
            "_model_module_version": "1.5.0",
            "_model_name": "HBoxModel",
            "_view_count": null,
            "_view_module": "@jupyter-widgets/controls",
            "_view_module_version": "1.5.0",
            "_view_name": "HBoxView",
            "box_style": "",
            "children": [
              "IPY_MODEL_b510a148a9914a43b332f830ca62cce2"
            ],
            "layout": "IPY_MODEL_4e31d4e4726b44e583918f4118f40bdd"
          }
        },
        "9561e6c028614fcfae7724f069ee1c20": {
          "model_module": "@jupyter-widgets/controls",
          "model_name": "VBoxModel",
          "model_module_version": "1.5.0",
          "state": {
            "_dom_classes": [
              "geemap-colab"
            ],
            "_model_module": "@jupyter-widgets/controls",
            "_model_module_version": "1.5.0",
            "_model_name": "VBoxModel",
            "_view_count": null,
            "_view_module": "@jupyter-widgets/controls",
            "_view_module_version": "1.5.0",
            "_view_name": "VBoxView",
            "box_style": "",
            "children": [
              "IPY_MODEL_f0b80240e24e4ed5aea12b459a884880"
            ],
            "layout": "IPY_MODEL_dd8622c395ec4e32b68273572b61a53e"
          }
        },
        "b510a148a9914a43b332f830ca62cce2": {
          "model_module": "@jupyter-widgets/controls",
          "model_name": "ToggleButtonModel",
          "model_module_version": "1.5.0",
          "state": {
            "_dom_classes": [],
            "_model_module": "@jupyter-widgets/controls",
            "_model_module_version": "1.5.0",
            "_model_name": "ToggleButtonModel",
            "_view_count": null,
            "_view_module": "@jupyter-widgets/controls",
            "_view_module_version": "1.5.0",
            "_view_name": "ToggleButtonView",
            "button_style": "",
            "description": "",
            "description_tooltip": null,
            "disabled": false,
            "icon": "globe",
            "layout": "IPY_MODEL_b407a83e1beb4de09fb7bf2d91b61401",
            "style": "IPY_MODEL_045986eba4fb4887b77299660de8eb03",
            "tooltip": "Search location/data",
            "value": false
          }
        },
        "4e31d4e4726b44e583918f4118f40bdd": {
          "model_module": "@jupyter-widgets/base",
          "model_name": "LayoutModel",
          "model_module_version": "1.2.0",
          "state": {
            "_model_module": "@jupyter-widgets/base",
            "_model_module_version": "1.2.0",
            "_model_name": "LayoutModel",
            "_view_count": null,
            "_view_module": "@jupyter-widgets/base",
            "_view_module_version": "1.2.0",
            "_view_name": "LayoutView",
            "align_content": null,
            "align_items": null,
            "align_self": null,
            "border": null,
            "bottom": null,
            "display": null,
            "flex": null,
            "flex_flow": null,
            "grid_area": null,
            "grid_auto_columns": null,
            "grid_auto_flow": null,
            "grid_auto_rows": null,
            "grid_column": null,
            "grid_gap": null,
            "grid_row": null,
            "grid_template_areas": null,
            "grid_template_columns": null,
            "grid_template_rows": null,
            "height": null,
            "justify_content": null,
            "justify_items": null,
            "left": null,
            "margin": null,
            "max_height": null,
            "max_width": null,
            "min_height": null,
            "min_width": null,
            "object_fit": null,
            "object_position": null,
            "order": null,
            "overflow": null,
            "overflow_x": null,
            "overflow_y": null,
            "padding": null,
            "right": null,
            "top": null,
            "visibility": null,
            "width": null
          }
        },
        "f0b80240e24e4ed5aea12b459a884880": {
          "model_module": "@jupyter-widgets/controls",
          "model_name": "ToggleButtonModel",
          "model_module_version": "1.5.0",
          "state": {
            "_dom_classes": [],
            "_model_module": "@jupyter-widgets/controls",
            "_model_module_version": "1.5.0",
            "_model_name": "ToggleButtonModel",
            "_view_count": null,
            "_view_module": "@jupyter-widgets/controls",
            "_view_module_version": "1.5.0",
            "_view_name": "ToggleButtonView",
            "button_style": "",
            "description": "",
            "description_tooltip": null,
            "disabled": false,
            "icon": "wrench",
            "layout": "IPY_MODEL_a69921c14c6c4a09a0870c71b1b6fa64",
            "style": "IPY_MODEL_fcd7f7d28a864167ae175ba5e9cbe04a",
            "tooltip": "Toolbar",
            "value": false
          }
        },
        "dd8622c395ec4e32b68273572b61a53e": {
          "model_module": "@jupyter-widgets/base",
          "model_name": "LayoutModel",
          "model_module_version": "1.2.0",
          "state": {
            "_model_module": "@jupyter-widgets/base",
            "_model_module_version": "1.2.0",
            "_model_name": "LayoutModel",
            "_view_count": null,
            "_view_module": "@jupyter-widgets/base",
            "_view_module_version": "1.2.0",
            "_view_name": "LayoutView",
            "align_content": null,
            "align_items": null,
            "align_self": null,
            "border": null,
            "bottom": null,
            "display": null,
            "flex": null,
            "flex_flow": null,
            "grid_area": null,
            "grid_auto_columns": null,
            "grid_auto_flow": null,
            "grid_auto_rows": null,
            "grid_column": null,
            "grid_gap": null,
            "grid_row": null,
            "grid_template_areas": null,
            "grid_template_columns": null,
            "grid_template_rows": null,
            "height": null,
            "justify_content": null,
            "justify_items": null,
            "left": null,
            "margin": null,
            "max_height": null,
            "max_width": null,
            "min_height": null,
            "min_width": null,
            "object_fit": null,
            "object_position": null,
            "order": null,
            "overflow": null,
            "overflow_x": null,
            "overflow_y": null,
            "padding": null,
            "right": null,
            "top": null,
            "visibility": null,
            "width": null
          }
        },
        "b407a83e1beb4de09fb7bf2d91b61401": {
          "model_module": "@jupyter-widgets/base",
          "model_name": "LayoutModel",
          "model_module_version": "1.2.0",
          "state": {
            "_model_module": "@jupyter-widgets/base",
            "_model_module_version": "1.2.0",
            "_model_name": "LayoutModel",
            "_view_count": null,
            "_view_module": "@jupyter-widgets/base",
            "_view_module_version": "1.2.0",
            "_view_name": "LayoutView",
            "align_content": null,
            "align_items": null,
            "align_self": null,
            "border": null,
            "bottom": null,
            "display": null,
            "flex": null,
            "flex_flow": null,
            "grid_area": null,
            "grid_auto_columns": null,
            "grid_auto_flow": null,
            "grid_auto_rows": null,
            "grid_column": null,
            "grid_gap": null,
            "grid_row": null,
            "grid_template_areas": null,
            "grid_template_columns": null,
            "grid_template_rows": null,
            "height": "28px",
            "justify_content": null,
            "justify_items": null,
            "left": null,
            "margin": null,
            "max_height": null,
            "max_width": null,
            "min_height": null,
            "min_width": null,
            "object_fit": null,
            "object_position": null,
            "order": null,
            "overflow": null,
            "overflow_x": null,
            "overflow_y": null,
            "padding": "0px 0px 0px 4px",
            "right": null,
            "top": null,
            "visibility": null,
            "width": "28px"
          }
        },
        "045986eba4fb4887b77299660de8eb03": {
          "model_module": "@jupyter-widgets/controls",
          "model_name": "DescriptionStyleModel",
          "model_module_version": "1.5.0",
          "state": {
            "_model_module": "@jupyter-widgets/controls",
            "_model_module_version": "1.5.0",
            "_model_name": "DescriptionStyleModel",
            "_view_count": null,
            "_view_module": "@jupyter-widgets/base",
            "_view_module_version": "1.2.0",
            "_view_name": "StyleView",
            "description_width": ""
          }
        },
        "a69921c14c6c4a09a0870c71b1b6fa64": {
          "model_module": "@jupyter-widgets/base",
          "model_name": "LayoutModel",
          "model_module_version": "1.2.0",
          "state": {
            "_model_module": "@jupyter-widgets/base",
            "_model_module_version": "1.2.0",
            "_model_name": "LayoutModel",
            "_view_count": null,
            "_view_module": "@jupyter-widgets/base",
            "_view_module_version": "1.2.0",
            "_view_name": "LayoutView",
            "align_content": null,
            "align_items": null,
            "align_self": null,
            "border": null,
            "bottom": null,
            "display": null,
            "flex": null,
            "flex_flow": null,
            "grid_area": null,
            "grid_auto_columns": null,
            "grid_auto_flow": null,
            "grid_auto_rows": null,
            "grid_column": null,
            "grid_gap": null,
            "grid_row": null,
            "grid_template_areas": null,
            "grid_template_columns": null,
            "grid_template_rows": null,
            "height": "28px",
            "justify_content": null,
            "justify_items": null,
            "left": null,
            "margin": null,
            "max_height": null,
            "max_width": null,
            "min_height": null,
            "min_width": null,
            "object_fit": null,
            "object_position": null,
            "order": null,
            "overflow": null,
            "overflow_x": null,
            "overflow_y": null,
            "padding": "0px 0px 0px 4px",
            "right": null,
            "top": null,
            "visibility": null,
            "width": "28px"
          }
        },
        "fcd7f7d28a864167ae175ba5e9cbe04a": {
          "model_module": "@jupyter-widgets/controls",
          "model_name": "DescriptionStyleModel",
          "model_module_version": "1.5.0",
          "state": {
            "_model_module": "@jupyter-widgets/controls",
            "_model_module_version": "1.5.0",
            "_model_name": "DescriptionStyleModel",
            "_view_count": null,
            "_view_module": "@jupyter-widgets/base",
            "_view_module_version": "1.2.0",
            "_view_name": "StyleView",
            "description_width": ""
          }
        },
        "60983655222d4544ab195e6742f14169": {
          "model_module": "jupyter-leaflet",
          "model_name": "LeafletMapModel",
          "model_module_version": "^0.18",
          "state": {
            "_dom_classes": [],
            "_model_module": "jupyter-leaflet",
            "_model_module_version": "^0.18",
            "_model_name": "LeafletMapModel",
            "_view_count": null,
            "_view_module": "jupyter-leaflet",
            "_view_module_version": "^0.18",
            "_view_name": "LeafletMapView",
            "bottom": 565544,
            "bounce_at_zoom_limits": true,
            "box_zoom": true,
            "center": [
              -13.921983704624434,
              -70.82089282499103
            ],
            "close_popup_on_click": true,
            "controls": [
              "IPY_MODEL_a793720cc03141cf84676ca119a9e68a",
              "IPY_MODEL_0e2f62b2a56643368b24df0eb62eb22a",
              "IPY_MODEL_96dfb3e1f4b1487494461d8755a1c467",
              "IPY_MODEL_e597df286e894193b6eeb633636625d6",
              "IPY_MODEL_5d21e5f2ecd04d988dd6c964080793d9",
              "IPY_MODEL_6469855d244a4a64bef61733fdd93098",
              "IPY_MODEL_4200330d44134c11b6391095a78338e8",
              "IPY_MODEL_8c392d099eeb41049084f7c863d5ebb5"
            ],
            "crs": {
              "name": "EPSG3857",
              "custom": false
            },
            "default_style": "IPY_MODEL_bed2cd4ee1e94f79b64665b68b90cee6",
            "double_click_zoom": true,
            "dragging": true,
            "dragging_style": "IPY_MODEL_8fec28a31e5044c69824faf0dfe12ab7",
            "east": -70.58338165283205,
            "fullscreen": false,
            "inertia": true,
            "inertia_deceleration": 3000,
            "inertia_max_speed": 1500,
            "interpolation": "bilinear",
            "keyboard": true,
            "keyboard_pan_offset": 80,
            "keyboard_zoom_offset": 1,
            "layers": [
              "IPY_MODEL_ba7d11cf74294fc493bba6b6bc7289dc",
              "IPY_MODEL_e323228fb13d4ea48c86b3b9866164c9"
            ],
            "layout": "IPY_MODEL_8d875e9446974927a2d848e2082d0b9f",
            "left": 317315,
            "max_zoom": 24,
            "min_zoom": null,
            "modisdate": "2024-01-03",
            "north": -13.822078202551783,
            "options": [
              "bounce_at_zoom_limits",
              "box_zoom",
              "center",
              "close_popup_on_click",
              "double_click_zoom",
              "dragging",
              "fullscreen",
              "inertia",
              "inertia_deceleration",
              "inertia_max_speed",
              "interpolation",
              "keyboard",
              "keyboard_pan_offset",
              "keyboard_zoom_offset",
              "max_zoom",
              "min_zoom",
              "prefer_canvas",
              "scroll_wheel_zoom",
              "tap",
              "tap_tolerance",
              "touch_zoom",
              "world_copy_jump",
              "zoom",
              "zoom_animation_threshold",
              "zoom_delta",
              "zoom_snap"
            ],
            "panes": {},
            "prefer_canvas": false,
            "right": 318699,
            "scroll_wheel_zoom": true,
            "south": -14.022020463599421,
            "style": "IPY_MODEL_cd8e2d9be4144063b037df03ba58d230",
            "tap": true,
            "tap_tolerance": 15,
            "top": 564944,
            "touch_zoom": true,
            "west": -71.0585403442383,
            "window_url": "https://9x2nyh9ie2w-496ff2e9c6d22116-0-colab.googleusercontent.com/outputframe.html?vrz=colab_20240102-060009_RC01_595159414",
            "world_copy_jump": false,
            "zoom": 12,
            "zoom_animation_threshold": 4,
            "zoom_delta": 1,
            "zoom_snap": 1
          }
        },
        "a793720cc03141cf84676ca119a9e68a": {
          "model_module": "jupyter-leaflet",
          "model_name": "LeafletWidgetControlModel",
          "model_module_version": "^0.18",
          "state": {
            "_model_module": "jupyter-leaflet",
            "_model_module_version": "^0.18",
            "_model_name": "LeafletWidgetControlModel",
            "_view_count": null,
            "_view_module": "jupyter-leaflet",
            "_view_module_version": "^0.18",
            "_view_name": "LeafletWidgetControlView",
            "max_height": null,
            "max_width": null,
            "min_height": null,
            "min_width": null,
            "options": [
              "position",
              "transparent_bg"
            ],
            "position": "topleft",
            "transparent_bg": false,
            "widget": "IPY_MODEL_3a3dd69d747d47b4bb444ae76f861bb0"
          }
        },
        "0e2f62b2a56643368b24df0eb62eb22a": {
          "model_module": "jupyter-leaflet",
          "model_name": "LeafletZoomControlModel",
          "model_module_version": "^0.18",
          "state": {
            "_model_module": "jupyter-leaflet",
            "_model_module_version": "^0.18",
            "_model_name": "LeafletZoomControlModel",
            "_view_count": null,
            "_view_module": "jupyter-leaflet",
            "_view_module_version": "^0.18",
            "_view_name": "LeafletZoomControlView",
            "options": [
              "position",
              "zoom_in_text",
              "zoom_in_title",
              "zoom_out_text",
              "zoom_out_title"
            ],
            "position": "topleft",
            "zoom_in_text": "+",
            "zoom_in_title": "Zoom in",
            "zoom_out_text": "-",
            "zoom_out_title": "Zoom out"
          }
        },
        "96dfb3e1f4b1487494461d8755a1c467": {
          "model_module": "jupyter-leaflet",
          "model_name": "LeafletFullScreenControlModel",
          "model_module_version": "^0.18",
          "state": {
            "_model_module": "jupyter-leaflet",
            "_model_module_version": "^0.18",
            "_model_name": "LeafletFullScreenControlModel",
            "_view_count": null,
            "_view_module": "jupyter-leaflet",
            "_view_module_version": "^0.18",
            "_view_name": "LeafletFullScreenControlView",
            "options": [
              "position"
            ],
            "position": "topleft"
          }
        },
        "e597df286e894193b6eeb633636625d6": {
          "model_module": "jupyter-leaflet",
          "model_name": "LeafletDrawControlModel",
          "model_module_version": "^0.18",
          "state": {
            "_model_module": "jupyter-leaflet",
            "_model_module_version": "^0.18",
            "_model_name": "LeafletDrawControlModel",
            "_view_count": null,
            "_view_module": "jupyter-leaflet",
            "_view_module_version": "^0.18",
            "_view_name": "LeafletDrawControlView",
            "circle": {},
            "circlemarker": {},
            "data": [],
            "edit": true,
            "marker": {
              "shapeOptions": {
                "color": "#3388ff"
              }
            },
            "options": [
              "position"
            ],
            "polygon": {
              "shapeOptions": {}
            },
            "polyline": {
              "shapeOptions": {}
            },
            "position": "topleft",
            "rectangle": {
              "shapeOptions": {
                "color": "#3388ff"
              }
            },
            "remove": true
          }
        },
        "5d21e5f2ecd04d988dd6c964080793d9": {
          "model_module": "jupyter-leaflet",
          "model_name": "LeafletScaleControlModel",
          "model_module_version": "^0.18",
          "state": {
            "_model_module": "jupyter-leaflet",
            "_model_module_version": "^0.18",
            "_model_name": "LeafletScaleControlModel",
            "_view_count": null,
            "_view_module": "jupyter-leaflet",
            "_view_module_version": "^0.18",
            "_view_name": "LeafletScaleControlView",
            "imperial": true,
            "max_width": 100,
            "metric": true,
            "options": [
              "imperial",
              "max_width",
              "metric",
              "position",
              "update_when_idle"
            ],
            "position": "bottomleft",
            "update_when_idle": false
          }
        },
        "6469855d244a4a64bef61733fdd93098": {
          "model_module": "jupyter-leaflet",
          "model_name": "LeafletMeasureControlModel",
          "model_module_version": "^0.18",
          "state": {
            "_custom_units": {},
            "_model_module": "jupyter-leaflet",
            "_model_module_version": "^0.18",
            "_model_name": "LeafletMeasureControlModel",
            "_view_count": null,
            "_view_module": "jupyter-leaflet",
            "_view_module_version": "^0.18",
            "_view_name": "LeafletMeasureControlView",
            "active_color": "orange",
            "capture_z_index": 10000,
            "completed_color": "#C8F2BE",
            "options": [
              "active_color",
              "capture_z_index",
              "completed_color",
              "popup_options",
              "position",
              "primary_area_unit",
              "primary_length_unit",
              "secondary_area_unit",
              "secondary_length_unit"
            ],
            "popup_options": {
              "className": "leaflet-measure-resultpopup",
              "autoPanPadding": [
                10,
                10
              ]
            },
            "position": "bottomleft",
            "primary_area_unit": "acres",
            "primary_length_unit": "kilometers",
            "secondary_area_unit": null,
            "secondary_length_unit": null
          }
        },
        "4200330d44134c11b6391095a78338e8": {
          "model_module": "jupyter-leaflet",
          "model_name": "LeafletWidgetControlModel",
          "model_module_version": "^0.18",
          "state": {
            "_model_module": "jupyter-leaflet",
            "_model_module_version": "^0.18",
            "_model_name": "LeafletWidgetControlModel",
            "_view_count": null,
            "_view_module": "jupyter-leaflet",
            "_view_module_version": "^0.18",
            "_view_name": "LeafletWidgetControlView",
            "max_height": null,
            "max_width": null,
            "min_height": null,
            "min_width": null,
            "options": [
              "position",
              "transparent_bg"
            ],
            "position": "topright",
            "transparent_bg": false,
            "widget": "IPY_MODEL_878d91c0ffdf41b0810ffd80a43fb2b8"
          }
        },
        "8c392d099eeb41049084f7c863d5ebb5": {
          "model_module": "jupyter-leaflet",
          "model_name": "LeafletAttributionControlModel",
          "model_module_version": "^0.18",
          "state": {
            "_model_module": "jupyter-leaflet",
            "_model_module_version": "^0.18",
            "_model_name": "LeafletAttributionControlModel",
            "_view_count": null,
            "_view_module": "jupyter-leaflet",
            "_view_module_version": "^0.18",
            "_view_name": "LeafletAttributionControlView",
            "options": [
              "position",
              "prefix"
            ],
            "position": "bottomright",
            "prefix": "ipyleaflet"
          }
        },
        "bed2cd4ee1e94f79b64665b68b90cee6": {
          "model_module": "jupyter-leaflet",
          "model_name": "LeafletMapStyleModel",
          "model_module_version": "^0.18",
          "state": {
            "_model_module": "jupyter-leaflet",
            "_model_module_version": "^0.18",
            "_model_name": "LeafletMapStyleModel",
            "_view_count": null,
            "_view_module": "@jupyter-widgets/base",
            "_view_module_version": "1.2.0",
            "_view_name": "StyleView",
            "cursor": "grab"
          }
        },
        "8fec28a31e5044c69824faf0dfe12ab7": {
          "model_module": "jupyter-leaflet",
          "model_name": "LeafletMapStyleModel",
          "model_module_version": "^0.18",
          "state": {
            "_model_module": "jupyter-leaflet",
            "_model_module_version": "^0.18",
            "_model_name": "LeafletMapStyleModel",
            "_view_count": null,
            "_view_module": "@jupyter-widgets/base",
            "_view_module_version": "1.2.0",
            "_view_name": "StyleView",
            "cursor": "move"
          }
        },
        "ba7d11cf74294fc493bba6b6bc7289dc": {
          "model_module": "jupyter-leaflet",
          "model_name": "LeafletTileLayerModel",
          "model_module_version": "^0.18",
          "state": {
            "_model_module": "jupyter-leaflet",
            "_model_module_version": "^0.18",
            "_model_name": "LeafletTileLayerModel",
            "_view_count": null,
            "_view_module": "jupyter-leaflet",
            "_view_module_version": "^0.18",
            "_view_name": "LeafletTileLayerView",
            "attribution": "&copy; <a href=\"https://www.openstreetmap.org/copyright\">OpenStreetMap</a> contributors",
            "base": true,
            "bottom": true,
            "bounds": null,
            "detect_retina": false,
            "loading": false,
            "max_native_zoom": null,
            "max_zoom": 19,
            "min_native_zoom": null,
            "min_zoom": 1,
            "name": "OpenStreetMap.Mapnik",
            "no_wrap": false,
            "opacity": 1,
            "options": [
              "attribution",
              "bounds",
              "detect_retina",
              "max_native_zoom",
              "max_zoom",
              "min_native_zoom",
              "min_zoom",
              "no_wrap",
              "tile_size",
              "tms",
              "zoom_offset"
            ],
            "pane": "",
            "popup": null,
            "popup_max_height": null,
            "popup_max_width": 300,
            "popup_min_width": 50,
            "show_loading": false,
            "subitems": [],
            "tile_size": 256,
            "tms": false,
            "url": "https://tile.openstreetmap.org/{z}/{x}/{y}.png",
            "visible": true,
            "zoom_offset": 0
          }
        },
        "e323228fb13d4ea48c86b3b9866164c9": {
          "model_module": "jupyter-leaflet",
          "model_name": "LeafletTileLayerModel",
          "model_module_version": "^0.18",
          "state": {
            "_model_module": "jupyter-leaflet",
            "_model_module_version": "^0.18",
            "_model_name": "LeafletTileLayerModel",
            "_view_count": null,
            "_view_module": "jupyter-leaflet",
            "_view_module_version": "^0.18",
            "_view_name": "LeafletTileLayerView",
            "attribution": "Google Earth Engine",
            "base": false,
            "bottom": true,
            "bounds": null,
            "detect_retina": false,
            "loading": false,
            "max_native_zoom": null,
            "max_zoom": 24,
            "min_native_zoom": null,
            "min_zoom": 0,
            "name": "Colour Composite Image",
            "no_wrap": false,
            "opacity": 1,
            "options": [
              "attribution",
              "bounds",
              "detect_retina",
              "max_native_zoom",
              "max_zoom",
              "min_native_zoom",
              "min_zoom",
              "no_wrap",
              "tile_size",
              "tms",
              "zoom_offset"
            ],
            "pane": "",
            "popup": null,
            "popup_max_height": null,
            "popup_max_width": 300,
            "popup_min_width": 50,
            "show_loading": false,
            "subitems": [],
            "tile_size": 256,
            "tms": false,
            "url": "https://earthengine.googleapis.com/v1/projects/ee-trchudley/maps/ea52097ba5c54ffad926df3923a5f38f-24949568ae9edc3023b7ed4c9aa28cea/tiles/{z}/{x}/{y}",
            "visible": true,
            "zoom_offset": 0
          }
        },
        "8d875e9446974927a2d848e2082d0b9f": {
          "model_module": "@jupyter-widgets/base",
          "model_name": "LayoutModel",
          "model_module_version": "1.2.0",
          "state": {
            "_model_module": "@jupyter-widgets/base",
            "_model_module_version": "1.2.0",
            "_model_name": "LayoutModel",
            "_view_count": null,
            "_view_module": "@jupyter-widgets/base",
            "_view_module_version": "1.2.0",
            "_view_name": "LayoutView",
            "align_content": null,
            "align_items": null,
            "align_self": null,
            "border": null,
            "bottom": null,
            "display": null,
            "flex": null,
            "flex_flow": null,
            "grid_area": null,
            "grid_auto_columns": null,
            "grid_auto_flow": null,
            "grid_auto_rows": null,
            "grid_column": null,
            "grid_gap": null,
            "grid_row": null,
            "grid_template_areas": null,
            "grid_template_columns": null,
            "grid_template_rows": null,
            "height": "600px",
            "justify_content": null,
            "justify_items": null,
            "left": null,
            "margin": null,
            "max_height": null,
            "max_width": null,
            "min_height": null,
            "min_width": null,
            "object_fit": null,
            "object_position": null,
            "order": null,
            "overflow": null,
            "overflow_x": null,
            "overflow_y": null,
            "padding": null,
            "right": null,
            "top": null,
            "visibility": null,
            "width": null
          }
        },
        "cd8e2d9be4144063b037df03ba58d230": {
          "model_module": "jupyter-leaflet",
          "model_name": "LeafletMapStyleModel",
          "model_module_version": "^0.18",
          "state": {
            "_model_module": "jupyter-leaflet",
            "_model_module_version": "^0.18",
            "_model_name": "LeafletMapStyleModel",
            "_view_count": null,
            "_view_module": "@jupyter-widgets/base",
            "_view_module_version": "1.2.0",
            "_view_name": "StyleView",
            "cursor": "grab"
          }
        },
        "3a3dd69d747d47b4bb444ae76f861bb0": {
          "model_module": "@jupyter-widgets/controls",
          "model_name": "HBoxModel",
          "model_module_version": "1.5.0",
          "state": {
            "_dom_classes": [
              "geemap-colab"
            ],
            "_model_module": "@jupyter-widgets/controls",
            "_model_module_version": "1.5.0",
            "_model_name": "HBoxModel",
            "_view_count": null,
            "_view_module": "@jupyter-widgets/controls",
            "_view_module_version": "1.5.0",
            "_view_name": "HBoxView",
            "box_style": "",
            "children": [
              "IPY_MODEL_0fe18bf2ed9a4d3db3c1e468996dc54e"
            ],
            "layout": "IPY_MODEL_3ec2f7a63a2c4425b4d241961ae5f55b"
          }
        },
        "878d91c0ffdf41b0810ffd80a43fb2b8": {
          "model_module": "@jupyter-widgets/controls",
          "model_name": "VBoxModel",
          "model_module_version": "1.5.0",
          "state": {
            "_dom_classes": [
              "geemap-colab"
            ],
            "_model_module": "@jupyter-widgets/controls",
            "_model_module_version": "1.5.0",
            "_model_name": "VBoxModel",
            "_view_count": null,
            "_view_module": "@jupyter-widgets/controls",
            "_view_module_version": "1.5.0",
            "_view_name": "VBoxView",
            "box_style": "",
            "children": [
              "IPY_MODEL_b99db6d3e2db48869465a199d3aa77b7"
            ],
            "layout": "IPY_MODEL_c5f9bd0f216c471ea1f1ce05509c7e79"
          }
        },
        "0fe18bf2ed9a4d3db3c1e468996dc54e": {
          "model_module": "@jupyter-widgets/controls",
          "model_name": "ToggleButtonModel",
          "model_module_version": "1.5.0",
          "state": {
            "_dom_classes": [],
            "_model_module": "@jupyter-widgets/controls",
            "_model_module_version": "1.5.0",
            "_model_name": "ToggleButtonModel",
            "_view_count": null,
            "_view_module": "@jupyter-widgets/controls",
            "_view_module_version": "1.5.0",
            "_view_name": "ToggleButtonView",
            "button_style": "",
            "description": "",
            "description_tooltip": null,
            "disabled": false,
            "icon": "globe",
            "layout": "IPY_MODEL_6560438f0b144fe39d4fa1e6b76e932c",
            "style": "IPY_MODEL_b0c662cc8d1d45e98da00579f32e9438",
            "tooltip": "Search location/data",
            "value": false
          }
        },
        "3ec2f7a63a2c4425b4d241961ae5f55b": {
          "model_module": "@jupyter-widgets/base",
          "model_name": "LayoutModel",
          "model_module_version": "1.2.0",
          "state": {
            "_model_module": "@jupyter-widgets/base",
            "_model_module_version": "1.2.0",
            "_model_name": "LayoutModel",
            "_view_count": null,
            "_view_module": "@jupyter-widgets/base",
            "_view_module_version": "1.2.0",
            "_view_name": "LayoutView",
            "align_content": null,
            "align_items": null,
            "align_self": null,
            "border": null,
            "bottom": null,
            "display": null,
            "flex": null,
            "flex_flow": null,
            "grid_area": null,
            "grid_auto_columns": null,
            "grid_auto_flow": null,
            "grid_auto_rows": null,
            "grid_column": null,
            "grid_gap": null,
            "grid_row": null,
            "grid_template_areas": null,
            "grid_template_columns": null,
            "grid_template_rows": null,
            "height": null,
            "justify_content": null,
            "justify_items": null,
            "left": null,
            "margin": null,
            "max_height": null,
            "max_width": null,
            "min_height": null,
            "min_width": null,
            "object_fit": null,
            "object_position": null,
            "order": null,
            "overflow": null,
            "overflow_x": null,
            "overflow_y": null,
            "padding": null,
            "right": null,
            "top": null,
            "visibility": null,
            "width": null
          }
        },
        "b99db6d3e2db48869465a199d3aa77b7": {
          "model_module": "@jupyter-widgets/controls",
          "model_name": "ToggleButtonModel",
          "model_module_version": "1.5.0",
          "state": {
            "_dom_classes": [],
            "_model_module": "@jupyter-widgets/controls",
            "_model_module_version": "1.5.0",
            "_model_name": "ToggleButtonModel",
            "_view_count": null,
            "_view_module": "@jupyter-widgets/controls",
            "_view_module_version": "1.5.0",
            "_view_name": "ToggleButtonView",
            "button_style": "",
            "description": "",
            "description_tooltip": null,
            "disabled": false,
            "icon": "wrench",
            "layout": "IPY_MODEL_ee296f595325428da7bdbe2fab4d76a9",
            "style": "IPY_MODEL_20972cfab1ad47829a731b33e650d1e4",
            "tooltip": "Toolbar",
            "value": false
          }
        },
        "c5f9bd0f216c471ea1f1ce05509c7e79": {
          "model_module": "@jupyter-widgets/base",
          "model_name": "LayoutModel",
          "model_module_version": "1.2.0",
          "state": {
            "_model_module": "@jupyter-widgets/base",
            "_model_module_version": "1.2.0",
            "_model_name": "LayoutModel",
            "_view_count": null,
            "_view_module": "@jupyter-widgets/base",
            "_view_module_version": "1.2.0",
            "_view_name": "LayoutView",
            "align_content": null,
            "align_items": null,
            "align_self": null,
            "border": null,
            "bottom": null,
            "display": null,
            "flex": null,
            "flex_flow": null,
            "grid_area": null,
            "grid_auto_columns": null,
            "grid_auto_flow": null,
            "grid_auto_rows": null,
            "grid_column": null,
            "grid_gap": null,
            "grid_row": null,
            "grid_template_areas": null,
            "grid_template_columns": null,
            "grid_template_rows": null,
            "height": null,
            "justify_content": null,
            "justify_items": null,
            "left": null,
            "margin": null,
            "max_height": null,
            "max_width": null,
            "min_height": null,
            "min_width": null,
            "object_fit": null,
            "object_position": null,
            "order": null,
            "overflow": null,
            "overflow_x": null,
            "overflow_y": null,
            "padding": null,
            "right": null,
            "top": null,
            "visibility": null,
            "width": null
          }
        },
        "6560438f0b144fe39d4fa1e6b76e932c": {
          "model_module": "@jupyter-widgets/base",
          "model_name": "LayoutModel",
          "model_module_version": "1.2.0",
          "state": {
            "_model_module": "@jupyter-widgets/base",
            "_model_module_version": "1.2.0",
            "_model_name": "LayoutModel",
            "_view_count": null,
            "_view_module": "@jupyter-widgets/base",
            "_view_module_version": "1.2.0",
            "_view_name": "LayoutView",
            "align_content": null,
            "align_items": null,
            "align_self": null,
            "border": null,
            "bottom": null,
            "display": null,
            "flex": null,
            "flex_flow": null,
            "grid_area": null,
            "grid_auto_columns": null,
            "grid_auto_flow": null,
            "grid_auto_rows": null,
            "grid_column": null,
            "grid_gap": null,
            "grid_row": null,
            "grid_template_areas": null,
            "grid_template_columns": null,
            "grid_template_rows": null,
            "height": "28px",
            "justify_content": null,
            "justify_items": null,
            "left": null,
            "margin": null,
            "max_height": null,
            "max_width": null,
            "min_height": null,
            "min_width": null,
            "object_fit": null,
            "object_position": null,
            "order": null,
            "overflow": null,
            "overflow_x": null,
            "overflow_y": null,
            "padding": "0px 0px 0px 4px",
            "right": null,
            "top": null,
            "visibility": null,
            "width": "28px"
          }
        },
        "b0c662cc8d1d45e98da00579f32e9438": {
          "model_module": "@jupyter-widgets/controls",
          "model_name": "DescriptionStyleModel",
          "model_module_version": "1.5.0",
          "state": {
            "_model_module": "@jupyter-widgets/controls",
            "_model_module_version": "1.5.0",
            "_model_name": "DescriptionStyleModel",
            "_view_count": null,
            "_view_module": "@jupyter-widgets/base",
            "_view_module_version": "1.2.0",
            "_view_name": "StyleView",
            "description_width": ""
          }
        },
        "ee296f595325428da7bdbe2fab4d76a9": {
          "model_module": "@jupyter-widgets/base",
          "model_name": "LayoutModel",
          "model_module_version": "1.2.0",
          "state": {
            "_model_module": "@jupyter-widgets/base",
            "_model_module_version": "1.2.0",
            "_model_name": "LayoutModel",
            "_view_count": null,
            "_view_module": "@jupyter-widgets/base",
            "_view_module_version": "1.2.0",
            "_view_name": "LayoutView",
            "align_content": null,
            "align_items": null,
            "align_self": null,
            "border": null,
            "bottom": null,
            "display": null,
            "flex": null,
            "flex_flow": null,
            "grid_area": null,
            "grid_auto_columns": null,
            "grid_auto_flow": null,
            "grid_auto_rows": null,
            "grid_column": null,
            "grid_gap": null,
            "grid_row": null,
            "grid_template_areas": null,
            "grid_template_columns": null,
            "grid_template_rows": null,
            "height": "28px",
            "justify_content": null,
            "justify_items": null,
            "left": null,
            "margin": null,
            "max_height": null,
            "max_width": null,
            "min_height": null,
            "min_width": null,
            "object_fit": null,
            "object_position": null,
            "order": null,
            "overflow": null,
            "overflow_x": null,
            "overflow_y": null,
            "padding": "0px 0px 0px 4px",
            "right": null,
            "top": null,
            "visibility": null,
            "width": "28px"
          }
        },
        "20972cfab1ad47829a731b33e650d1e4": {
          "model_module": "@jupyter-widgets/controls",
          "model_name": "DescriptionStyleModel",
          "model_module_version": "1.5.0",
          "state": {
            "_model_module": "@jupyter-widgets/controls",
            "_model_module_version": "1.5.0",
            "_model_name": "DescriptionStyleModel",
            "_view_count": null,
            "_view_module": "@jupyter-widgets/base",
            "_view_module_version": "1.2.0",
            "_view_name": "StyleView",
            "description_width": ""
          }
        },
        "a7b489c1efe64deaa2b7ec3b8dbc5ea0": {
          "model_module": "jupyter-leaflet",
          "model_name": "LeafletMapModel",
          "model_module_version": "^0.18",
          "state": {
            "_dom_classes": [],
            "_model_module": "jupyter-leaflet",
            "_model_module_version": "^0.18",
            "_model_name": "LeafletMapModel",
            "_view_count": null,
            "_view_module": "jupyter-leaflet",
            "_view_module_version": "^0.18",
            "_view_name": "LeafletMapView",
            "bottom": 565544,
            "bounce_at_zoom_limits": true,
            "box_zoom": true,
            "center": [
              -13.921983704624434,
              -70.82089282499103
            ],
            "close_popup_on_click": true,
            "controls": [
              "IPY_MODEL_c6309e6dfdbd4ae287705ed405f09967",
              "IPY_MODEL_d38f548444dd47caa321ee7b2584eacd",
              "IPY_MODEL_a7136c52a34a416280386e42475168fe",
              "IPY_MODEL_1f7c282fbb1944fb9324fec489b22ba2",
              "IPY_MODEL_939231b7ee69449fa1e8ab458c6703c1",
              "IPY_MODEL_6c369b4fc8ca47fd8f1e9f6f81f3be55",
              "IPY_MODEL_f470ed71fe5148c68ce63dab8e4f86e7",
              "IPY_MODEL_c456be3d69964a4a80ff84a58c5ebfce"
            ],
            "crs": {
              "name": "EPSG3857",
              "custom": false
            },
            "default_style": "IPY_MODEL_1936247ad13f434590d8daa713e2e6e3",
            "double_click_zoom": true,
            "dragging": true,
            "dragging_style": "IPY_MODEL_2d048778e8284213a0d7617bd3635740",
            "east": -70.58338165283205,
            "fullscreen": false,
            "inertia": true,
            "inertia_deceleration": 3000,
            "inertia_max_speed": 1500,
            "interpolation": "bilinear",
            "keyboard": true,
            "keyboard_pan_offset": 80,
            "keyboard_zoom_offset": 1,
            "layers": [
              "IPY_MODEL_b02686864b874299aa45e8ca3341ad7e",
              "IPY_MODEL_4a395c1e81dd4ee78d23546d60be2642",
              "IPY_MODEL_6a3bba24cc1643a3b36451be9a41de73"
            ],
            "layout": "IPY_MODEL_6986779b42404a12a538f5e92b2d999a",
            "left": 317315,
            "max_zoom": 24,
            "min_zoom": null,
            "modisdate": "2024-01-03",
            "north": -13.822078202551783,
            "options": [
              "bounce_at_zoom_limits",
              "box_zoom",
              "center",
              "close_popup_on_click",
              "double_click_zoom",
              "dragging",
              "fullscreen",
              "inertia",
              "inertia_deceleration",
              "inertia_max_speed",
              "interpolation",
              "keyboard",
              "keyboard_pan_offset",
              "keyboard_zoom_offset",
              "max_zoom",
              "min_zoom",
              "prefer_canvas",
              "scroll_wheel_zoom",
              "tap",
              "tap_tolerance",
              "touch_zoom",
              "world_copy_jump",
              "zoom",
              "zoom_animation_threshold",
              "zoom_delta",
              "zoom_snap"
            ],
            "panes": {},
            "prefer_canvas": false,
            "right": 318699,
            "scroll_wheel_zoom": true,
            "south": -14.022020463599421,
            "style": "IPY_MODEL_7c5496ebd0b34323bd99de4ef9d569c4",
            "tap": true,
            "tap_tolerance": 15,
            "top": 564944,
            "touch_zoom": true,
            "west": -71.0585403442383,
            "window_url": "https://9x2nyh9ie2w-496ff2e9c6d22116-0-colab.googleusercontent.com/outputframe.html?vrz=colab_20240102-060009_RC01_595159414",
            "world_copy_jump": false,
            "zoom": 12,
            "zoom_animation_threshold": 4,
            "zoom_delta": 1,
            "zoom_snap": 1
          }
        },
        "c6309e6dfdbd4ae287705ed405f09967": {
          "model_module": "jupyter-leaflet",
          "model_name": "LeafletWidgetControlModel",
          "model_module_version": "^0.18",
          "state": {
            "_model_module": "jupyter-leaflet",
            "_model_module_version": "^0.18",
            "_model_name": "LeafletWidgetControlModel",
            "_view_count": null,
            "_view_module": "jupyter-leaflet",
            "_view_module_version": "^0.18",
            "_view_name": "LeafletWidgetControlView",
            "max_height": null,
            "max_width": null,
            "min_height": null,
            "min_width": null,
            "options": [
              "position",
              "transparent_bg"
            ],
            "position": "topleft",
            "transparent_bg": false,
            "widget": "IPY_MODEL_12895e51a27e4394abb639c0106cfd25"
          }
        },
        "d38f548444dd47caa321ee7b2584eacd": {
          "model_module": "jupyter-leaflet",
          "model_name": "LeafletZoomControlModel",
          "model_module_version": "^0.18",
          "state": {
            "_model_module": "jupyter-leaflet",
            "_model_module_version": "^0.18",
            "_model_name": "LeafletZoomControlModel",
            "_view_count": null,
            "_view_module": "jupyter-leaflet",
            "_view_module_version": "^0.18",
            "_view_name": "LeafletZoomControlView",
            "options": [
              "position",
              "zoom_in_text",
              "zoom_in_title",
              "zoom_out_text",
              "zoom_out_title"
            ],
            "position": "topleft",
            "zoom_in_text": "+",
            "zoom_in_title": "Zoom in",
            "zoom_out_text": "-",
            "zoom_out_title": "Zoom out"
          }
        },
        "a7136c52a34a416280386e42475168fe": {
          "model_module": "jupyter-leaflet",
          "model_name": "LeafletFullScreenControlModel",
          "model_module_version": "^0.18",
          "state": {
            "_model_module": "jupyter-leaflet",
            "_model_module_version": "^0.18",
            "_model_name": "LeafletFullScreenControlModel",
            "_view_count": null,
            "_view_module": "jupyter-leaflet",
            "_view_module_version": "^0.18",
            "_view_name": "LeafletFullScreenControlView",
            "options": [
              "position"
            ],
            "position": "topleft"
          }
        },
        "1f7c282fbb1944fb9324fec489b22ba2": {
          "model_module": "jupyter-leaflet",
          "model_name": "LeafletDrawControlModel",
          "model_module_version": "^0.18",
          "state": {
            "_model_module": "jupyter-leaflet",
            "_model_module_version": "^0.18",
            "_model_name": "LeafletDrawControlModel",
            "_view_count": null,
            "_view_module": "jupyter-leaflet",
            "_view_module_version": "^0.18",
            "_view_name": "LeafletDrawControlView",
            "circle": {},
            "circlemarker": {},
            "data": [],
            "edit": true,
            "marker": {
              "shapeOptions": {
                "color": "#3388ff"
              }
            },
            "options": [
              "position"
            ],
            "polygon": {
              "shapeOptions": {}
            },
            "polyline": {
              "shapeOptions": {}
            },
            "position": "topleft",
            "rectangle": {
              "shapeOptions": {
                "color": "#3388ff"
              }
            },
            "remove": true
          }
        },
        "939231b7ee69449fa1e8ab458c6703c1": {
          "model_module": "jupyter-leaflet",
          "model_name": "LeafletScaleControlModel",
          "model_module_version": "^0.18",
          "state": {
            "_model_module": "jupyter-leaflet",
            "_model_module_version": "^0.18",
            "_model_name": "LeafletScaleControlModel",
            "_view_count": null,
            "_view_module": "jupyter-leaflet",
            "_view_module_version": "^0.18",
            "_view_name": "LeafletScaleControlView",
            "imperial": true,
            "max_width": 100,
            "metric": true,
            "options": [
              "imperial",
              "max_width",
              "metric",
              "position",
              "update_when_idle"
            ],
            "position": "bottomleft",
            "update_when_idle": false
          }
        },
        "6c369b4fc8ca47fd8f1e9f6f81f3be55": {
          "model_module": "jupyter-leaflet",
          "model_name": "LeafletMeasureControlModel",
          "model_module_version": "^0.18",
          "state": {
            "_custom_units": {},
            "_model_module": "jupyter-leaflet",
            "_model_module_version": "^0.18",
            "_model_name": "LeafletMeasureControlModel",
            "_view_count": null,
            "_view_module": "jupyter-leaflet",
            "_view_module_version": "^0.18",
            "_view_name": "LeafletMeasureControlView",
            "active_color": "orange",
            "capture_z_index": 10000,
            "completed_color": "#C8F2BE",
            "options": [
              "active_color",
              "capture_z_index",
              "completed_color",
              "popup_options",
              "position",
              "primary_area_unit",
              "primary_length_unit",
              "secondary_area_unit",
              "secondary_length_unit"
            ],
            "popup_options": {
              "className": "leaflet-measure-resultpopup",
              "autoPanPadding": [
                10,
                10
              ]
            },
            "position": "bottomleft",
            "primary_area_unit": "acres",
            "primary_length_unit": "kilometers",
            "secondary_area_unit": null,
            "secondary_length_unit": null
          }
        },
        "f470ed71fe5148c68ce63dab8e4f86e7": {
          "model_module": "jupyter-leaflet",
          "model_name": "LeafletWidgetControlModel",
          "model_module_version": "^0.18",
          "state": {
            "_model_module": "jupyter-leaflet",
            "_model_module_version": "^0.18",
            "_model_name": "LeafletWidgetControlModel",
            "_view_count": null,
            "_view_module": "jupyter-leaflet",
            "_view_module_version": "^0.18",
            "_view_name": "LeafletWidgetControlView",
            "max_height": null,
            "max_width": null,
            "min_height": null,
            "min_width": null,
            "options": [
              "position",
              "transparent_bg"
            ],
            "position": "topright",
            "transparent_bg": false,
            "widget": "IPY_MODEL_133797c70dd047cc80358d5b96f7d791"
          }
        },
        "c456be3d69964a4a80ff84a58c5ebfce": {
          "model_module": "jupyter-leaflet",
          "model_name": "LeafletAttributionControlModel",
          "model_module_version": "^0.18",
          "state": {
            "_model_module": "jupyter-leaflet",
            "_model_module_version": "^0.18",
            "_model_name": "LeafletAttributionControlModel",
            "_view_count": null,
            "_view_module": "jupyter-leaflet",
            "_view_module_version": "^0.18",
            "_view_name": "LeafletAttributionControlView",
            "options": [
              "position",
              "prefix"
            ],
            "position": "bottomright",
            "prefix": "ipyleaflet"
          }
        },
        "1936247ad13f434590d8daa713e2e6e3": {
          "model_module": "jupyter-leaflet",
          "model_name": "LeafletMapStyleModel",
          "model_module_version": "^0.18",
          "state": {
            "_model_module": "jupyter-leaflet",
            "_model_module_version": "^0.18",
            "_model_name": "LeafletMapStyleModel",
            "_view_count": null,
            "_view_module": "@jupyter-widgets/base",
            "_view_module_version": "1.2.0",
            "_view_name": "StyleView",
            "cursor": "grab"
          }
        },
        "2d048778e8284213a0d7617bd3635740": {
          "model_module": "jupyter-leaflet",
          "model_name": "LeafletMapStyleModel",
          "model_module_version": "^0.18",
          "state": {
            "_model_module": "jupyter-leaflet",
            "_model_module_version": "^0.18",
            "_model_name": "LeafletMapStyleModel",
            "_view_count": null,
            "_view_module": "@jupyter-widgets/base",
            "_view_module_version": "1.2.0",
            "_view_name": "StyleView",
            "cursor": "move"
          }
        },
        "b02686864b874299aa45e8ca3341ad7e": {
          "model_module": "jupyter-leaflet",
          "model_name": "LeafletTileLayerModel",
          "model_module_version": "^0.18",
          "state": {
            "_model_module": "jupyter-leaflet",
            "_model_module_version": "^0.18",
            "_model_name": "LeafletTileLayerModel",
            "_view_count": null,
            "_view_module": "jupyter-leaflet",
            "_view_module_version": "^0.18",
            "_view_name": "LeafletTileLayerView",
            "attribution": "&copy; <a href=\"https://www.openstreetmap.org/copyright\">OpenStreetMap</a> contributors",
            "base": true,
            "bottom": true,
            "bounds": null,
            "detect_retina": false,
            "loading": false,
            "max_native_zoom": null,
            "max_zoom": 19,
            "min_native_zoom": null,
            "min_zoom": 1,
            "name": "OpenStreetMap.Mapnik",
            "no_wrap": false,
            "opacity": 1,
            "options": [
              "attribution",
              "bounds",
              "detect_retina",
              "max_native_zoom",
              "max_zoom",
              "min_native_zoom",
              "min_zoom",
              "no_wrap",
              "tile_size",
              "tms",
              "zoom_offset"
            ],
            "pane": "",
            "popup": null,
            "popup_max_height": null,
            "popup_max_width": 300,
            "popup_min_width": 50,
            "show_loading": false,
            "subitems": [],
            "tile_size": 256,
            "tms": false,
            "url": "https://tile.openstreetmap.org/{z}/{x}/{y}.png",
            "visible": true,
            "zoom_offset": 0
          }
        },
        "4a395c1e81dd4ee78d23546d60be2642": {
          "model_module": "jupyter-leaflet",
          "model_name": "LeafletTileLayerModel",
          "model_module_version": "^0.18",
          "state": {
            "_model_module": "jupyter-leaflet",
            "_model_module_version": "^0.18",
            "_model_name": "LeafletTileLayerModel",
            "_view_count": null,
            "_view_module": "jupyter-leaflet",
            "_view_module_version": "^0.18",
            "_view_name": "LeafletTileLayerView",
            "attribution": "Google Earth Engine",
            "base": false,
            "bottom": true,
            "bounds": null,
            "detect_retina": false,
            "loading": false,
            "max_native_zoom": null,
            "max_zoom": 24,
            "min_native_zoom": null,
            "min_zoom": 0,
            "name": "True Colour",
            "no_wrap": false,
            "opacity": 1,
            "options": [
              "attribution",
              "bounds",
              "detect_retina",
              "max_native_zoom",
              "max_zoom",
              "min_native_zoom",
              "min_zoom",
              "no_wrap",
              "tile_size",
              "tms",
              "zoom_offset"
            ],
            "pane": "",
            "popup": null,
            "popup_max_height": null,
            "popup_max_width": 300,
            "popup_min_width": 50,
            "show_loading": false,
            "subitems": [],
            "tile_size": 256,
            "tms": false,
            "url": "https://earthengine.googleapis.com/v1/projects/ee-trchudley/maps/ea52097ba5c54ffad926df3923a5f38f-e6e866a534ff4781a8a92d252d34e99e/tiles/{z}/{x}/{y}",
            "visible": true,
            "zoom_offset": 0
          }
        },
        "6a3bba24cc1643a3b36451be9a41de73": {
          "model_module": "jupyter-leaflet",
          "model_name": "LeafletTileLayerModel",
          "model_module_version": "^0.18",
          "state": {
            "_model_module": "jupyter-leaflet",
            "_model_module_version": "^0.18",
            "_model_name": "LeafletTileLayerModel",
            "_view_count": null,
            "_view_module": "jupyter-leaflet",
            "_view_module_version": "^0.18",
            "_view_name": "LeafletTileLayerView",
            "attribution": "Google Earth Engine",
            "base": false,
            "bottom": true,
            "bounds": null,
            "detect_retina": false,
            "loading": false,
            "max_native_zoom": null,
            "max_zoom": 24,
            "min_native_zoom": null,
            "min_zoom": 0,
            "name": "NDSI",
            "no_wrap": false,
            "opacity": 1,
            "options": [
              "attribution",
              "bounds",
              "detect_retina",
              "max_native_zoom",
              "max_zoom",
              "min_native_zoom",
              "min_zoom",
              "no_wrap",
              "tile_size",
              "tms",
              "zoom_offset"
            ],
            "pane": "",
            "popup": null,
            "popup_max_height": null,
            "popup_max_width": 300,
            "popup_min_width": 50,
            "show_loading": false,
            "subitems": [],
            "tile_size": 256,
            "tms": false,
            "url": "https://earthengine.googleapis.com/v1/projects/ee-trchudley/maps/80e60a355147fe727d271663d3373f77-6376cd08990fde73cce11c2a436db822/tiles/{z}/{x}/{y}",
            "visible": true,
            "zoom_offset": 0
          }
        },
        "6986779b42404a12a538f5e92b2d999a": {
          "model_module": "@jupyter-widgets/base",
          "model_name": "LayoutModel",
          "model_module_version": "1.2.0",
          "state": {
            "_model_module": "@jupyter-widgets/base",
            "_model_module_version": "1.2.0",
            "_model_name": "LayoutModel",
            "_view_count": null,
            "_view_module": "@jupyter-widgets/base",
            "_view_module_version": "1.2.0",
            "_view_name": "LayoutView",
            "align_content": null,
            "align_items": null,
            "align_self": null,
            "border": null,
            "bottom": null,
            "display": null,
            "flex": null,
            "flex_flow": null,
            "grid_area": null,
            "grid_auto_columns": null,
            "grid_auto_flow": null,
            "grid_auto_rows": null,
            "grid_column": null,
            "grid_gap": null,
            "grid_row": null,
            "grid_template_areas": null,
            "grid_template_columns": null,
            "grid_template_rows": null,
            "height": "600px",
            "justify_content": null,
            "justify_items": null,
            "left": null,
            "margin": null,
            "max_height": null,
            "max_width": null,
            "min_height": null,
            "min_width": null,
            "object_fit": null,
            "object_position": null,
            "order": null,
            "overflow": null,
            "overflow_x": null,
            "overflow_y": null,
            "padding": null,
            "right": null,
            "top": null,
            "visibility": null,
            "width": null
          }
        },
        "7c5496ebd0b34323bd99de4ef9d569c4": {
          "model_module": "jupyter-leaflet",
          "model_name": "LeafletMapStyleModel",
          "model_module_version": "^0.18",
          "state": {
            "_model_module": "jupyter-leaflet",
            "_model_module_version": "^0.18",
            "_model_name": "LeafletMapStyleModel",
            "_view_count": null,
            "_view_module": "@jupyter-widgets/base",
            "_view_module_version": "1.2.0",
            "_view_name": "StyleView",
            "cursor": "grab"
          }
        },
        "12895e51a27e4394abb639c0106cfd25": {
          "model_module": "@jupyter-widgets/controls",
          "model_name": "HBoxModel",
          "model_module_version": "1.5.0",
          "state": {
            "_dom_classes": [
              "geemap-colab"
            ],
            "_model_module": "@jupyter-widgets/controls",
            "_model_module_version": "1.5.0",
            "_model_name": "HBoxModel",
            "_view_count": null,
            "_view_module": "@jupyter-widgets/controls",
            "_view_module_version": "1.5.0",
            "_view_name": "HBoxView",
            "box_style": "",
            "children": [
              "IPY_MODEL_ae5543e80d8648c49e3f7b05406ccc8f"
            ],
            "layout": "IPY_MODEL_51f228823ae2406eaadae79aa940d037"
          }
        },
        "133797c70dd047cc80358d5b96f7d791": {
          "model_module": "@jupyter-widgets/controls",
          "model_name": "VBoxModel",
          "model_module_version": "1.5.0",
          "state": {
            "_dom_classes": [
              "geemap-colab"
            ],
            "_model_module": "@jupyter-widgets/controls",
            "_model_module_version": "1.5.0",
            "_model_name": "VBoxModel",
            "_view_count": null,
            "_view_module": "@jupyter-widgets/controls",
            "_view_module_version": "1.5.0",
            "_view_name": "VBoxView",
            "box_style": "",
            "children": [
              "IPY_MODEL_d9d75753c85a4169badcc16869bdff9e"
            ],
            "layout": "IPY_MODEL_2907ec048fa947599044d52bd0b36e6c"
          }
        },
        "ae5543e80d8648c49e3f7b05406ccc8f": {
          "model_module": "@jupyter-widgets/controls",
          "model_name": "ToggleButtonModel",
          "model_module_version": "1.5.0",
          "state": {
            "_dom_classes": [],
            "_model_module": "@jupyter-widgets/controls",
            "_model_module_version": "1.5.0",
            "_model_name": "ToggleButtonModel",
            "_view_count": null,
            "_view_module": "@jupyter-widgets/controls",
            "_view_module_version": "1.5.0",
            "_view_name": "ToggleButtonView",
            "button_style": "",
            "description": "",
            "description_tooltip": null,
            "disabled": false,
            "icon": "globe",
            "layout": "IPY_MODEL_223a1fd92edc4935bad04b7307a846fa",
            "style": "IPY_MODEL_4f4cbd16f3fe4d23a6f7408426e6b714",
            "tooltip": "Search location/data",
            "value": false
          }
        },
        "51f228823ae2406eaadae79aa940d037": {
          "model_module": "@jupyter-widgets/base",
          "model_name": "LayoutModel",
          "model_module_version": "1.2.0",
          "state": {
            "_model_module": "@jupyter-widgets/base",
            "_model_module_version": "1.2.0",
            "_model_name": "LayoutModel",
            "_view_count": null,
            "_view_module": "@jupyter-widgets/base",
            "_view_module_version": "1.2.0",
            "_view_name": "LayoutView",
            "align_content": null,
            "align_items": null,
            "align_self": null,
            "border": null,
            "bottom": null,
            "display": null,
            "flex": null,
            "flex_flow": null,
            "grid_area": null,
            "grid_auto_columns": null,
            "grid_auto_flow": null,
            "grid_auto_rows": null,
            "grid_column": null,
            "grid_gap": null,
            "grid_row": null,
            "grid_template_areas": null,
            "grid_template_columns": null,
            "grid_template_rows": null,
            "height": null,
            "justify_content": null,
            "justify_items": null,
            "left": null,
            "margin": null,
            "max_height": null,
            "max_width": null,
            "min_height": null,
            "min_width": null,
            "object_fit": null,
            "object_position": null,
            "order": null,
            "overflow": null,
            "overflow_x": null,
            "overflow_y": null,
            "padding": null,
            "right": null,
            "top": null,
            "visibility": null,
            "width": null
          }
        },
        "d9d75753c85a4169badcc16869bdff9e": {
          "model_module": "@jupyter-widgets/controls",
          "model_name": "ToggleButtonModel",
          "model_module_version": "1.5.0",
          "state": {
            "_dom_classes": [],
            "_model_module": "@jupyter-widgets/controls",
            "_model_module_version": "1.5.0",
            "_model_name": "ToggleButtonModel",
            "_view_count": null,
            "_view_module": "@jupyter-widgets/controls",
            "_view_module_version": "1.5.0",
            "_view_name": "ToggleButtonView",
            "button_style": "",
            "description": "",
            "description_tooltip": null,
            "disabled": false,
            "icon": "wrench",
            "layout": "IPY_MODEL_b0218577664f4399bd2e470529008e8d",
            "style": "IPY_MODEL_c3c32087d7604ca6aa113a5df4e19b91",
            "tooltip": "Toolbar",
            "value": false
          }
        },
        "2907ec048fa947599044d52bd0b36e6c": {
          "model_module": "@jupyter-widgets/base",
          "model_name": "LayoutModel",
          "model_module_version": "1.2.0",
          "state": {
            "_model_module": "@jupyter-widgets/base",
            "_model_module_version": "1.2.0",
            "_model_name": "LayoutModel",
            "_view_count": null,
            "_view_module": "@jupyter-widgets/base",
            "_view_module_version": "1.2.0",
            "_view_name": "LayoutView",
            "align_content": null,
            "align_items": null,
            "align_self": null,
            "border": null,
            "bottom": null,
            "display": null,
            "flex": null,
            "flex_flow": null,
            "grid_area": null,
            "grid_auto_columns": null,
            "grid_auto_flow": null,
            "grid_auto_rows": null,
            "grid_column": null,
            "grid_gap": null,
            "grid_row": null,
            "grid_template_areas": null,
            "grid_template_columns": null,
            "grid_template_rows": null,
            "height": null,
            "justify_content": null,
            "justify_items": null,
            "left": null,
            "margin": null,
            "max_height": null,
            "max_width": null,
            "min_height": null,
            "min_width": null,
            "object_fit": null,
            "object_position": null,
            "order": null,
            "overflow": null,
            "overflow_x": null,
            "overflow_y": null,
            "padding": null,
            "right": null,
            "top": null,
            "visibility": null,
            "width": null
          }
        },
        "223a1fd92edc4935bad04b7307a846fa": {
          "model_module": "@jupyter-widgets/base",
          "model_name": "LayoutModel",
          "model_module_version": "1.2.0",
          "state": {
            "_model_module": "@jupyter-widgets/base",
            "_model_module_version": "1.2.0",
            "_model_name": "LayoutModel",
            "_view_count": null,
            "_view_module": "@jupyter-widgets/base",
            "_view_module_version": "1.2.0",
            "_view_name": "LayoutView",
            "align_content": null,
            "align_items": null,
            "align_self": null,
            "border": null,
            "bottom": null,
            "display": null,
            "flex": null,
            "flex_flow": null,
            "grid_area": null,
            "grid_auto_columns": null,
            "grid_auto_flow": null,
            "grid_auto_rows": null,
            "grid_column": null,
            "grid_gap": null,
            "grid_row": null,
            "grid_template_areas": null,
            "grid_template_columns": null,
            "grid_template_rows": null,
            "height": "28px",
            "justify_content": null,
            "justify_items": null,
            "left": null,
            "margin": null,
            "max_height": null,
            "max_width": null,
            "min_height": null,
            "min_width": null,
            "object_fit": null,
            "object_position": null,
            "order": null,
            "overflow": null,
            "overflow_x": null,
            "overflow_y": null,
            "padding": "0px 0px 0px 4px",
            "right": null,
            "top": null,
            "visibility": null,
            "width": "28px"
          }
        },
        "4f4cbd16f3fe4d23a6f7408426e6b714": {
          "model_module": "@jupyter-widgets/controls",
          "model_name": "DescriptionStyleModel",
          "model_module_version": "1.5.0",
          "state": {
            "_model_module": "@jupyter-widgets/controls",
            "_model_module_version": "1.5.0",
            "_model_name": "DescriptionStyleModel",
            "_view_count": null,
            "_view_module": "@jupyter-widgets/base",
            "_view_module_version": "1.2.0",
            "_view_name": "StyleView",
            "description_width": ""
          }
        },
        "b0218577664f4399bd2e470529008e8d": {
          "model_module": "@jupyter-widgets/base",
          "model_name": "LayoutModel",
          "model_module_version": "1.2.0",
          "state": {
            "_model_module": "@jupyter-widgets/base",
            "_model_module_version": "1.2.0",
            "_model_name": "LayoutModel",
            "_view_count": null,
            "_view_module": "@jupyter-widgets/base",
            "_view_module_version": "1.2.0",
            "_view_name": "LayoutView",
            "align_content": null,
            "align_items": null,
            "align_self": null,
            "border": null,
            "bottom": null,
            "display": null,
            "flex": null,
            "flex_flow": null,
            "grid_area": null,
            "grid_auto_columns": null,
            "grid_auto_flow": null,
            "grid_auto_rows": null,
            "grid_column": null,
            "grid_gap": null,
            "grid_row": null,
            "grid_template_areas": null,
            "grid_template_columns": null,
            "grid_template_rows": null,
            "height": "28px",
            "justify_content": null,
            "justify_items": null,
            "left": null,
            "margin": null,
            "max_height": null,
            "max_width": null,
            "min_height": null,
            "min_width": null,
            "object_fit": null,
            "object_position": null,
            "order": null,
            "overflow": null,
            "overflow_x": null,
            "overflow_y": null,
            "padding": "0px 0px 0px 4px",
            "right": null,
            "top": null,
            "visibility": null,
            "width": "28px"
          }
        },
        "c3c32087d7604ca6aa113a5df4e19b91": {
          "model_module": "@jupyter-widgets/controls",
          "model_name": "DescriptionStyleModel",
          "model_module_version": "1.5.0",
          "state": {
            "_model_module": "@jupyter-widgets/controls",
            "_model_module_version": "1.5.0",
            "_model_name": "DescriptionStyleModel",
            "_view_count": null,
            "_view_module": "@jupyter-widgets/base",
            "_view_module_version": "1.2.0",
            "_view_name": "StyleView",
            "description_width": ""
          }
        },
        "df52f9d398534fab867cacc74b98e657": {
          "model_module": "@jupyter-widgets/controls",
          "model_name": "VBoxModel",
          "model_module_version": "1.5.0",
          "state": {
            "_dom_classes": [],
            "_model_module": "@jupyter-widgets/controls",
            "_model_module_version": "1.5.0",
            "_model_name": "VBoxModel",
            "_view_count": null,
            "_view_module": "@jupyter-widgets/controls",
            "_view_module_version": "1.5.0",
            "_view_name": "VBoxView",
            "box_style": "",
            "children": [
              "IPY_MODEL_27cb26d6ba7b496d8d3a674ce587ec92",
              "IPY_MODEL_51ecb3eeb42c4341a3e937f3654f30f3"
            ],
            "layout": "IPY_MODEL_c0e8beaab57b4ea49f2f937d83c702b8"
          }
        },
        "27cb26d6ba7b496d8d3a674ce587ec92": {
          "model_module": "bqplot",
          "model_name": "FigureModel",
          "model_module_version": "^0.5",
          "state": {
            "_dom_classes": [],
            "_model_module": "bqplot",
            "_model_module_version": "^0.5",
            "_model_name": "FigureModel",
            "_view_count": null,
            "_view_module": "bqplot",
            "_view_module_version": "^0.5",
            "_view_name": "Figure",
            "animation_duration": 0,
            "axes": [
              "IPY_MODEL_c91913eb5ff54f87a2d8e9f1bc3db29d",
              "IPY_MODEL_d4eac044a80743a888cb4a2cb470e09f"
            ],
            "background_style": {},
            "fig_margin": {
              "top": 60,
              "bottom": 60,
              "left": 60,
              "right": 60
            },
            "interaction": null,
            "layout": "IPY_MODEL_ee2bf2ec217f42c59b48020826fb9e44",
            "legend_location": "top-right",
            "legend_style": {},
            "legend_text": {},
            "marks": [
              "IPY_MODEL_44402c6f34da4569b3534514a7c921dc"
            ],
            "max_aspect_ratio": 100,
            "min_aspect_ratio": 0.01,
            "padding_x": 0,
            "padding_y": 0.025,
            "pixel_ratio": null,
            "scale_x": "IPY_MODEL_18c4f8cc4fb8439ea780dd852b0bdef0",
            "scale_y": "IPY_MODEL_1b4cf1b380ea415385bb2d5eee0fbf7f",
            "theme": "classic",
            "title": "Distribution of NDI values within image",
            "title_style": {}
          }
        },
        "51ecb3eeb42c4341a3e937f3654f30f3": {
          "model_module": "bqplot",
          "model_name": "ToolbarModel",
          "model_module_version": "^0.5",
          "state": {
            "_dom_classes": [],
            "_model_module": "bqplot",
            "_model_module_version": "^0.5",
            "_model_name": "ToolbarModel",
            "_panning": false,
            "_panzoom": null,
            "_view_count": null,
            "_view_module": "bqplot",
            "_view_module_version": "^0.5",
            "_view_name": "Toolbar",
            "figure": "IPY_MODEL_27cb26d6ba7b496d8d3a674ce587ec92",
            "layout": "IPY_MODEL_4fa27b298df24681bdd01d6760aa977e"
          }
        },
        "c0e8beaab57b4ea49f2f937d83c702b8": {
          "model_module": "@jupyter-widgets/base",
          "model_name": "LayoutModel",
          "model_module_version": "1.2.0",
          "state": {
            "_model_module": "@jupyter-widgets/base",
            "_model_module_version": "1.2.0",
            "_model_name": "LayoutModel",
            "_view_count": null,
            "_view_module": "@jupyter-widgets/base",
            "_view_module_version": "1.2.0",
            "_view_name": "LayoutView",
            "align_content": null,
            "align_items": null,
            "align_self": null,
            "border": null,
            "bottom": null,
            "display": null,
            "flex": null,
            "flex_flow": null,
            "grid_area": null,
            "grid_auto_columns": null,
            "grid_auto_flow": null,
            "grid_auto_rows": null,
            "grid_column": null,
            "grid_gap": null,
            "grid_row": null,
            "grid_template_areas": null,
            "grid_template_columns": null,
            "grid_template_rows": null,
            "height": null,
            "justify_content": null,
            "justify_items": null,
            "left": null,
            "margin": null,
            "max_height": null,
            "max_width": null,
            "min_height": null,
            "min_width": null,
            "object_fit": null,
            "object_position": null,
            "order": null,
            "overflow": null,
            "overflow_x": null,
            "overflow_y": null,
            "padding": null,
            "right": null,
            "top": null,
            "visibility": null,
            "width": null
          }
        },
        "c91913eb5ff54f87a2d8e9f1bc3db29d": {
          "model_module": "bqplot",
          "model_name": "AxisModel",
          "model_module_version": "^0.5",
          "state": {
            "_model_module": "bqplot",
            "_model_module_version": "^0.5",
            "_model_name": "AxisModel",
            "_view_count": null,
            "_view_module": "bqplot",
            "_view_module_version": "^0.5",
            "_view_name": "Axis",
            "color": null,
            "grid_color": null,
            "grid_lines": "solid",
            "label": "Pixel count",
            "label_color": null,
            "label_location": "middle",
            "label_offset": null,
            "num_ticks": null,
            "offset": {},
            "orientation": "vertical",
            "scale": "IPY_MODEL_b3a753c9684b41a2acad7ec38db5251d",
            "side": "left",
            "tick_format": null,
            "tick_labels": {},
            "tick_rotate": 0,
            "tick_style": {},
            "tick_values": null,
            "visible": true
          }
        },
        "d4eac044a80743a888cb4a2cb470e09f": {
          "model_module": "bqplot",
          "model_name": "AxisModel",
          "model_module_version": "^0.5",
          "state": {
            "_model_module": "bqplot",
            "_model_module_version": "^0.5",
            "_model_name": "AxisModel",
            "_view_count": null,
            "_view_module": "bqplot",
            "_view_module_version": "^0.5",
            "_view_name": "Axis",
            "color": null,
            "grid_color": null,
            "grid_lines": "solid",
            "label": "NDSI values",
            "label_color": null,
            "label_location": "middle",
            "label_offset": null,
            "num_ticks": null,
            "offset": {},
            "orientation": "horizontal",
            "scale": "IPY_MODEL_9d2c04041a3240ef9baf0d8c95feedb4",
            "side": "bottom",
            "tick_format": null,
            "tick_labels": {},
            "tick_rotate": 0,
            "tick_style": {},
            "tick_values": null,
            "visible": true
          }
        },
        "ee2bf2ec217f42c59b48020826fb9e44": {
          "model_module": "@jupyter-widgets/base",
          "model_name": "LayoutModel",
          "model_module_version": "1.2.0",
          "state": {
            "_model_module": "@jupyter-widgets/base",
            "_model_module_version": "1.2.0",
            "_model_name": "LayoutModel",
            "_view_count": null,
            "_view_module": "@jupyter-widgets/base",
            "_view_module_version": "1.2.0",
            "_view_name": "LayoutView",
            "align_content": null,
            "align_items": null,
            "align_self": null,
            "border": null,
            "bottom": null,
            "display": null,
            "flex": null,
            "flex_flow": null,
            "grid_area": null,
            "grid_auto_columns": null,
            "grid_auto_flow": null,
            "grid_auto_rows": null,
            "grid_column": null,
            "grid_gap": null,
            "grid_row": null,
            "grid_template_areas": null,
            "grid_template_columns": null,
            "grid_template_rows": null,
            "height": null,
            "justify_content": null,
            "justify_items": null,
            "left": null,
            "margin": null,
            "max_height": null,
            "max_width": null,
            "min_height": null,
            "min_width": null,
            "object_fit": null,
            "object_position": null,
            "order": null,
            "overflow": null,
            "overflow_x": null,
            "overflow_y": null,
            "padding": null,
            "right": null,
            "top": null,
            "visibility": null,
            "width": null
          }
        },
        "44402c6f34da4569b3534514a7c921dc": {
          "model_module": "bqplot",
          "model_name": "HistModel",
          "model_module_version": "^0.5",
          "state": {
            "_model_module": "bqplot",
            "_model_module_version": "^0.5",
            "_model_name": "HistModel",
            "_view_count": null,
            "_view_module": "bqplot",
            "_view_module_version": "^0.5",
            "_view_name": "Hist",
            "apply_clip": true,
            "bins": 205,
            "colors": [
              "steelblue"
            ],
            "count": {
              "dtype": "float64",
              "shape": [
                205
              ],
              "type": null
            },
            "display_legend": false,
            "enable_hover": true,
            "interactions": {
              "hover": "tooltip"
            },
            "labels": [],
            "midpoints": [
              -0.6484375,
              -0.640625,
              -0.6328125,
              -0.625,
              -0.6171875,
              -0.609375,
              -0.6015625,
              -0.59375,
              -0.5859375,
              -0.578125,
              -0.5703125,
              -0.5625,
              -0.5546875,
              -0.546875,
              -0.5390625,
              -0.53125,
              -0.5234375,
              -0.515625,
              -0.5078125,
              -0.5,
              -0.4921875,
              -0.484375,
              -0.4765625,
              -0.46875,
              -0.4609375,
              -0.453125,
              -0.4453125,
              -0.4375,
              -0.4296875,
              -0.421875,
              -0.4140625,
              -0.40625,
              -0.3984375,
              -0.390625,
              -0.3828125,
              -0.375,
              -0.3671875,
              -0.359375,
              -0.3515625,
              -0.34375,
              -0.3359375,
              -0.328125,
              -0.3203125,
              -0.3125,
              -0.3046875,
              -0.296875,
              -0.2890625,
              -0.28125,
              -0.2734375,
              -0.265625,
              -0.2578125,
              -0.25,
              -0.2421875,
              -0.234375,
              -0.2265625,
              -0.21875,
              -0.2109375,
              -0.203125,
              -0.1953125,
              -0.1875,
              -0.1796875,
              -0.171875,
              -0.1640625,
              -0.15625,
              -0.1484375,
              -0.140625,
              -0.1328125,
              -0.125,
              -0.1171875,
              -0.109375,
              -0.1015625,
              -0.09375,
              -0.0859375,
              -0.078125,
              -0.0703125,
              -0.0625,
              -0.0546875,
              -0.046875,
              -0.0390625,
              -0.03125,
              -0.0234375,
              -0.015625,
              -0.0078125,
              0,
              0.0078125,
              0.015625,
              0.0234375,
              0.03125,
              0.0390625,
              0.046875,
              0.0546875,
              0.0625,
              0.0703125,
              0.078125,
              0.0859375,
              0.09375,
              0.1015625,
              0.109375,
              0.1171875,
              0.125,
              0.1328125,
              0.140625,
              0.1484375,
              0.15625,
              0.1640625,
              0.171875,
              0.1796875,
              0.1875,
              0.1953125,
              0.203125,
              0.2109375,
              0.21875,
              0.2265625,
              0.234375,
              0.2421875,
              0.25,
              0.2578125,
              0.265625,
              0.2734375,
              0.28125,
              0.2890625,
              0.296875,
              0.3046875,
              0.3125,
              0.3203125,
              0.328125,
              0.3359375,
              0.34375,
              0.3515625,
              0.359375,
              0.3671875,
              0.375,
              0.3828125,
              0.390625,
              0.3984375,
              0.40625,
              0.4140625,
              0.421875,
              0.4296875,
              0.4375,
              0.4453125,
              0.453125,
              0.4609375,
              0.46875,
              0.4765625,
              0.484375,
              0.4921875,
              0.5,
              0.5078125,
              0.515625,
              0.5234375,
              0.53125,
              0.5390625,
              0.546875,
              0.5546875,
              0.5625,
              0.5703125,
              0.578125,
              0.5859375,
              0.59375,
              0.6015625,
              0.609375,
              0.6171875,
              0.625,
              0.6328125,
              0.640625,
              0.6484375,
              0.65625,
              0.6640625,
              0.671875,
              0.6796875,
              0.6875,
              0.6953125,
              0.703125,
              0.7109375,
              0.71875,
              0.7265625,
              0.734375,
              0.7421875,
              0.75,
              0.7578125,
              0.765625,
              0.7734375,
              0.78125,
              0.7890625,
              0.796875,
              0.8046875,
              0.8125,
              0.8203125,
              0.828125,
              0.8359375,
              0.84375,
              0.8515625,
              0.859375,
              0.8671875,
              0.875,
              0.8828125,
              0.890625,
              0.8984375,
              0.90625,
              0.9140625,
              0.921875,
              0.9296875,
              0.9375
            ],
            "normalized": false,
            "opacities": [],
            "preserve_domain": {},
            "sample": {
              "dtype": "float64",
              "shape": [
                10001
              ],
              "type": null
            },
            "scales": {
              "count": "IPY_MODEL_b3a753c9684b41a2acad7ec38db5251d",
              "sample": "IPY_MODEL_9d2c04041a3240ef9baf0d8c95feedb4"
            },
            "scales_metadata": {
              "sample": {
                "orientation": "horizontal",
                "dimension": "x"
              },
              "count": {
                "orientation": "vertical",
                "dimension": "y"
              }
            },
            "selected": null,
            "selected_style": {},
            "stroke": "#ffffff00",
            "tooltip": "IPY_MODEL_411fdcc75a4c4658b13644ae0efb26e9",
            "tooltip_location": "mouse",
            "tooltip_style": {
              "opacity": 0.9
            },
            "unselected_style": {},
            "visible": true
          }
        },
        "18c4f8cc4fb8439ea780dd852b0bdef0": {
          "model_module": "bqplot",
          "model_name": "LinearScaleModel",
          "model_module_version": "^0.5",
          "state": {
            "_model_module": "bqplot",
            "_model_module_version": "^0.5",
            "_model_name": "LinearScaleModel",
            "_view_count": null,
            "_view_module": "bqplot",
            "_view_module_version": "^0.5",
            "_view_name": "LinearScale",
            "allow_padding": false,
            "max": 1,
            "mid_range": 0.8,
            "min": 0,
            "min_range": 0.6,
            "reverse": false,
            "stabilized": false
          }
        },
        "1b4cf1b380ea415385bb2d5eee0fbf7f": {
          "model_module": "bqplot",
          "model_name": "LinearScaleModel",
          "model_module_version": "^0.5",
          "state": {
            "_model_module": "bqplot",
            "_model_module_version": "^0.5",
            "_model_name": "LinearScaleModel",
            "_view_count": null,
            "_view_module": "bqplot",
            "_view_module_version": "^0.5",
            "_view_name": "LinearScale",
            "allow_padding": false,
            "max": 1,
            "mid_range": 0.8,
            "min": 0,
            "min_range": 0.6,
            "reverse": false,
            "stabilized": false
          }
        },
        "4fa27b298df24681bdd01d6760aa977e": {
          "model_module": "@jupyter-widgets/base",
          "model_name": "LayoutModel",
          "model_module_version": "1.2.0",
          "state": {
            "_model_module": "@jupyter-widgets/base",
            "_model_module_version": "1.2.0",
            "_model_name": "LayoutModel",
            "_view_count": null,
            "_view_module": "@jupyter-widgets/base",
            "_view_module_version": "1.2.0",
            "_view_name": "LayoutView",
            "align_content": null,
            "align_items": null,
            "align_self": null,
            "border": null,
            "bottom": null,
            "display": null,
            "flex": null,
            "flex_flow": null,
            "grid_area": null,
            "grid_auto_columns": null,
            "grid_auto_flow": null,
            "grid_auto_rows": null,
            "grid_column": null,
            "grid_gap": null,
            "grid_row": null,
            "grid_template_areas": null,
            "grid_template_columns": null,
            "grid_template_rows": null,
            "height": null,
            "justify_content": null,
            "justify_items": null,
            "left": null,
            "margin": null,
            "max_height": null,
            "max_width": null,
            "min_height": null,
            "min_width": null,
            "object_fit": null,
            "object_position": null,
            "order": null,
            "overflow": null,
            "overflow_x": null,
            "overflow_y": null,
            "padding": null,
            "right": null,
            "top": null,
            "visibility": null,
            "width": null
          }
        },
        "b3a753c9684b41a2acad7ec38db5251d": {
          "model_module": "bqplot",
          "model_name": "LinearScaleModel",
          "model_module_version": "^0.5",
          "state": {
            "_model_module": "bqplot",
            "_model_module_version": "^0.5",
            "_model_name": "LinearScaleModel",
            "_view_count": null,
            "_view_module": "bqplot",
            "_view_module_version": "^0.5",
            "_view_name": "LinearScale",
            "allow_padding": true,
            "max": null,
            "mid_range": 0.8,
            "min": null,
            "min_range": 0.6,
            "reverse": false,
            "stabilized": false
          }
        },
        "9d2c04041a3240ef9baf0d8c95feedb4": {
          "model_module": "bqplot",
          "model_name": "LinearScaleModel",
          "model_module_version": "^0.5",
          "state": {
            "_model_module": "bqplot",
            "_model_module_version": "^0.5",
            "_model_name": "LinearScaleModel",
            "_view_count": null,
            "_view_module": "bqplot",
            "_view_module_version": "^0.5",
            "_view_name": "LinearScale",
            "allow_padding": true,
            "max": null,
            "mid_range": 0.8,
            "min": null,
            "min_range": 0.6,
            "reverse": false,
            "stabilized": false
          }
        },
        "411fdcc75a4c4658b13644ae0efb26e9": {
          "model_module": "bqplot",
          "model_name": "TooltipModel",
          "model_module_version": "^0.5",
          "state": {
            "_dom_classes": [],
            "_model_module": "bqplot",
            "_model_module_version": "^0.5",
            "_model_name": "TooltipModel",
            "_view_count": null,
            "_view_module": "bqplot",
            "_view_module_version": "^0.5",
            "_view_name": "Tooltip",
            "fields": [
              "midpoint",
              "count"
            ],
            "formats": [],
            "labels": [
              "NDSI values",
              "Pixel count"
            ],
            "layout": "IPY_MODEL_5d057481630742fc943fefee967729ed",
            "show_labels": true
          }
        },
        "5d057481630742fc943fefee967729ed": {
          "model_module": "@jupyter-widgets/base",
          "model_name": "LayoutModel",
          "model_module_version": "1.2.0",
          "state": {
            "_model_module": "@jupyter-widgets/base",
            "_model_module_version": "1.2.0",
            "_model_name": "LayoutModel",
            "_view_count": null,
            "_view_module": "@jupyter-widgets/base",
            "_view_module_version": "1.2.0",
            "_view_name": "LayoutView",
            "align_content": null,
            "align_items": null,
            "align_self": null,
            "border": null,
            "bottom": null,
            "display": null,
            "flex": null,
            "flex_flow": null,
            "grid_area": null,
            "grid_auto_columns": null,
            "grid_auto_flow": null,
            "grid_auto_rows": null,
            "grid_column": null,
            "grid_gap": null,
            "grid_row": null,
            "grid_template_areas": null,
            "grid_template_columns": null,
            "grid_template_rows": null,
            "height": null,
            "justify_content": null,
            "justify_items": null,
            "left": null,
            "margin": null,
            "max_height": null,
            "max_width": null,
            "min_height": null,
            "min_width": null,
            "object_fit": null,
            "object_position": null,
            "order": null,
            "overflow": null,
            "overflow_x": null,
            "overflow_y": null,
            "padding": null,
            "right": null,
            "top": null,
            "visibility": null,
            "width": null
          }
        },
        "c939590b2313476381b7d0e2a57f579f": {
          "model_module": "jupyter-leaflet",
          "model_name": "LeafletMapModel",
          "model_module_version": "^0.18",
          "state": {
            "_dom_classes": [],
            "_model_module": "jupyter-leaflet",
            "_model_module_version": "^0.18",
            "_model_name": "LeafletMapModel",
            "_view_count": null,
            "_view_module": "jupyter-leaflet",
            "_view_module_version": "^0.18",
            "_view_name": "LeafletMapView",
            "bottom": 283020,
            "bounce_at_zoom_limits": true,
            "box_zoom": true,
            "center": [
              -13.98704307101271,
              -70.60054779052736
            ],
            "close_popup_on_click": true,
            "controls": [
              "IPY_MODEL_3a5e5da26f27439bad2fd822a5080f94",
              "IPY_MODEL_20907fc820ea4ec6b807c5bac1bc4c9d",
              "IPY_MODEL_873df0b8dcbe4e1580d70f39d2e2aa19",
              "IPY_MODEL_c53eab19364444379f754036dcb04a76",
              "IPY_MODEL_334ff40bd44942cba795ac94d0c8bb78",
              "IPY_MODEL_d3b240f350984dff81a45388d590fc65",
              "IPY_MODEL_b71f181e4e96439ea10cd5e6bc0f82a1",
              "IPY_MODEL_a62d6cb9be6847c0bd56f3b9b7e2bb88"
            ],
            "crs": {
              "name": "EPSG3857",
              "custom": false
            },
            "default_style": "IPY_MODEL_1e2fc1d26212471a98c70d5bc8076588",
            "double_click_zoom": true,
            "dragging": true,
            "dragging_style": "IPY_MODEL_25e02d272b6142c890c6b5f9ee645741",
            "east": -70.1250457763672,
            "fullscreen": false,
            "inertia": true,
            "inertia_deceleration": 3000,
            "inertia_max_speed": 1500,
            "interpolation": "bilinear",
            "keyboard": true,
            "keyboard_pan_offset": 80,
            "keyboard_zoom_offset": 1,
            "layers": [
              "IPY_MODEL_b16c15cdfbdc4c24ae4e070aa9b21f87",
              "IPY_MODEL_943bd7db458e43b19a9576b25a7eb34b",
              "IPY_MODEL_0407580271634324af953cc3971e9be5"
            ],
            "layout": "IPY_MODEL_a35ae8c8c6024e81ae09c7542531bcfd",
            "left": 158633,
            "max_zoom": 24,
            "min_zoom": null,
            "modisdate": "2024-01-03",
            "north": -13.787404008504392,
            "options": [
              "bounce_at_zoom_limits",
              "box_zoom",
              "center",
              "close_popup_on_click",
              "double_click_zoom",
              "dragging",
              "fullscreen",
              "inertia",
              "inertia_deceleration",
              "inertia_max_speed",
              "interpolation",
              "keyboard",
              "keyboard_pan_offset",
              "keyboard_zoom_offset",
              "max_zoom",
              "min_zoom",
              "prefer_canvas",
              "scroll_wheel_zoom",
              "tap",
              "tap_tolerance",
              "touch_zoom",
              "world_copy_jump",
              "zoom",
              "zoom_animation_threshold",
              "zoom_delta",
              "zoom_snap"
            ],
            "panes": {},
            "prefer_canvas": false,
            "right": 160017,
            "scroll_wheel_zoom": true,
            "south": -14.187174718895434,
            "style": "IPY_MODEL_1e2fc1d26212471a98c70d5bc8076588",
            "tap": true,
            "tap_tolerance": 15,
            "top": 282420,
            "touch_zoom": true,
            "west": -71.0753631591797,
            "window_url": "https://9x2nyh9ie2w-496ff2e9c6d22116-0-colab.googleusercontent.com/outputframe.html?vrz=colab_20240102-060009_RC01_595159414",
            "world_copy_jump": false,
            "zoom": 11,
            "zoom_animation_threshold": 4,
            "zoom_delta": 1,
            "zoom_snap": 1
          }
        },
        "3a5e5da26f27439bad2fd822a5080f94": {
          "model_module": "jupyter-leaflet",
          "model_name": "LeafletWidgetControlModel",
          "model_module_version": "^0.18",
          "state": {
            "_model_module": "jupyter-leaflet",
            "_model_module_version": "^0.18",
            "_model_name": "LeafletWidgetControlModel",
            "_view_count": null,
            "_view_module": "jupyter-leaflet",
            "_view_module_version": "^0.18",
            "_view_name": "LeafletWidgetControlView",
            "max_height": null,
            "max_width": null,
            "min_height": null,
            "min_width": null,
            "options": [
              "position",
              "transparent_bg"
            ],
            "position": "topleft",
            "transparent_bg": false,
            "widget": "IPY_MODEL_4954288c6b714392a24b5a3033c56756"
          }
        },
        "20907fc820ea4ec6b807c5bac1bc4c9d": {
          "model_module": "jupyter-leaflet",
          "model_name": "LeafletZoomControlModel",
          "model_module_version": "^0.18",
          "state": {
            "_model_module": "jupyter-leaflet",
            "_model_module_version": "^0.18",
            "_model_name": "LeafletZoomControlModel",
            "_view_count": null,
            "_view_module": "jupyter-leaflet",
            "_view_module_version": "^0.18",
            "_view_name": "LeafletZoomControlView",
            "options": [
              "position",
              "zoom_in_text",
              "zoom_in_title",
              "zoom_out_text",
              "zoom_out_title"
            ],
            "position": "topleft",
            "zoom_in_text": "+",
            "zoom_in_title": "Zoom in",
            "zoom_out_text": "-",
            "zoom_out_title": "Zoom out"
          }
        },
        "873df0b8dcbe4e1580d70f39d2e2aa19": {
          "model_module": "jupyter-leaflet",
          "model_name": "LeafletFullScreenControlModel",
          "model_module_version": "^0.18",
          "state": {
            "_model_module": "jupyter-leaflet",
            "_model_module_version": "^0.18",
            "_model_name": "LeafletFullScreenControlModel",
            "_view_count": null,
            "_view_module": "jupyter-leaflet",
            "_view_module_version": "^0.18",
            "_view_name": "LeafletFullScreenControlView",
            "options": [
              "position"
            ],
            "position": "topleft"
          }
        },
        "c53eab19364444379f754036dcb04a76": {
          "model_module": "jupyter-leaflet",
          "model_name": "LeafletDrawControlModel",
          "model_module_version": "^0.18",
          "state": {
            "_model_module": "jupyter-leaflet",
            "_model_module_version": "^0.18",
            "_model_name": "LeafletDrawControlModel",
            "_view_count": null,
            "_view_module": "jupyter-leaflet",
            "_view_module_version": "^0.18",
            "_view_name": "LeafletDrawControlView",
            "circle": {},
            "circlemarker": {},
            "data": [],
            "edit": true,
            "marker": {
              "shapeOptions": {
                "color": "#3388ff"
              }
            },
            "options": [
              "position"
            ],
            "polygon": {
              "shapeOptions": {}
            },
            "polyline": {
              "shapeOptions": {}
            },
            "position": "topleft",
            "rectangle": {
              "shapeOptions": {
                "color": "#3388ff"
              }
            },
            "remove": true
          }
        },
        "334ff40bd44942cba795ac94d0c8bb78": {
          "model_module": "jupyter-leaflet",
          "model_name": "LeafletScaleControlModel",
          "model_module_version": "^0.18",
          "state": {
            "_model_module": "jupyter-leaflet",
            "_model_module_version": "^0.18",
            "_model_name": "LeafletScaleControlModel",
            "_view_count": null,
            "_view_module": "jupyter-leaflet",
            "_view_module_version": "^0.18",
            "_view_name": "LeafletScaleControlView",
            "imperial": true,
            "max_width": 100,
            "metric": true,
            "options": [
              "imperial",
              "max_width",
              "metric",
              "position",
              "update_when_idle"
            ],
            "position": "bottomleft",
            "update_when_idle": false
          }
        },
        "d3b240f350984dff81a45388d590fc65": {
          "model_module": "jupyter-leaflet",
          "model_name": "LeafletMeasureControlModel",
          "model_module_version": "^0.18",
          "state": {
            "_custom_units": {},
            "_model_module": "jupyter-leaflet",
            "_model_module_version": "^0.18",
            "_model_name": "LeafletMeasureControlModel",
            "_view_count": null,
            "_view_module": "jupyter-leaflet",
            "_view_module_version": "^0.18",
            "_view_name": "LeafletMeasureControlView",
            "active_color": "orange",
            "capture_z_index": 10000,
            "completed_color": "#C8F2BE",
            "options": [
              "active_color",
              "capture_z_index",
              "completed_color",
              "popup_options",
              "position",
              "primary_area_unit",
              "primary_length_unit",
              "secondary_area_unit",
              "secondary_length_unit"
            ],
            "popup_options": {
              "className": "leaflet-measure-resultpopup",
              "autoPanPadding": [
                10,
                10
              ]
            },
            "position": "bottomleft",
            "primary_area_unit": "acres",
            "primary_length_unit": "kilometers",
            "secondary_area_unit": null,
            "secondary_length_unit": null
          }
        },
        "b71f181e4e96439ea10cd5e6bc0f82a1": {
          "model_module": "jupyter-leaflet",
          "model_name": "LeafletWidgetControlModel",
          "model_module_version": "^0.18",
          "state": {
            "_model_module": "jupyter-leaflet",
            "_model_module_version": "^0.18",
            "_model_name": "LeafletWidgetControlModel",
            "_view_count": null,
            "_view_module": "jupyter-leaflet",
            "_view_module_version": "^0.18",
            "_view_name": "LeafletWidgetControlView",
            "max_height": null,
            "max_width": null,
            "min_height": null,
            "min_width": null,
            "options": [
              "position",
              "transparent_bg"
            ],
            "position": "topright",
            "transparent_bg": false,
            "widget": "IPY_MODEL_98e9880a728a4241a23cbc7e8ffd3060"
          }
        },
        "a62d6cb9be6847c0bd56f3b9b7e2bb88": {
          "model_module": "jupyter-leaflet",
          "model_name": "LeafletAttributionControlModel",
          "model_module_version": "^0.18",
          "state": {
            "_model_module": "jupyter-leaflet",
            "_model_module_version": "^0.18",
            "_model_name": "LeafletAttributionControlModel",
            "_view_count": null,
            "_view_module": "jupyter-leaflet",
            "_view_module_version": "^0.18",
            "_view_name": "LeafletAttributionControlView",
            "options": [
              "position",
              "prefix"
            ],
            "position": "bottomright",
            "prefix": "ipyleaflet"
          }
        },
        "1e2fc1d26212471a98c70d5bc8076588": {
          "model_module": "jupyter-leaflet",
          "model_name": "LeafletMapStyleModel",
          "model_module_version": "^0.18",
          "state": {
            "_model_module": "jupyter-leaflet",
            "_model_module_version": "^0.18",
            "_model_name": "LeafletMapStyleModel",
            "_view_count": null,
            "_view_module": "@jupyter-widgets/base",
            "_view_module_version": "1.2.0",
            "_view_name": "StyleView",
            "cursor": "grab"
          }
        },
        "25e02d272b6142c890c6b5f9ee645741": {
          "model_module": "jupyter-leaflet",
          "model_name": "LeafletMapStyleModel",
          "model_module_version": "^0.18",
          "state": {
            "_model_module": "jupyter-leaflet",
            "_model_module_version": "^0.18",
            "_model_name": "LeafletMapStyleModel",
            "_view_count": null,
            "_view_module": "@jupyter-widgets/base",
            "_view_module_version": "1.2.0",
            "_view_name": "StyleView",
            "cursor": "move"
          }
        },
        "b16c15cdfbdc4c24ae4e070aa9b21f87": {
          "model_module": "jupyter-leaflet",
          "model_name": "LeafletTileLayerModel",
          "model_module_version": "^0.18",
          "state": {
            "_model_module": "jupyter-leaflet",
            "_model_module_version": "^0.18",
            "_model_name": "LeafletTileLayerModel",
            "_view_count": null,
            "_view_module": "jupyter-leaflet",
            "_view_module_version": "^0.18",
            "_view_name": "LeafletTileLayerView",
            "attribution": "&copy; <a href=\"https://www.openstreetmap.org/copyright\">OpenStreetMap</a> contributors",
            "base": true,
            "bottom": true,
            "bounds": null,
            "detect_retina": false,
            "loading": false,
            "max_native_zoom": null,
            "max_zoom": 19,
            "min_native_zoom": null,
            "min_zoom": 1,
            "name": "OpenStreetMap.Mapnik",
            "no_wrap": false,
            "opacity": 1,
            "options": [
              "attribution",
              "bounds",
              "detect_retina",
              "max_native_zoom",
              "max_zoom",
              "min_native_zoom",
              "min_zoom",
              "no_wrap",
              "tile_size",
              "tms",
              "zoom_offset"
            ],
            "pane": "",
            "popup": null,
            "popup_max_height": null,
            "popup_max_width": 300,
            "popup_min_width": 50,
            "show_loading": false,
            "subitems": [],
            "tile_size": 256,
            "tms": false,
            "url": "https://tile.openstreetmap.org/{z}/{x}/{y}.png",
            "visible": true,
            "zoom_offset": 0
          }
        },
        "943bd7db458e43b19a9576b25a7eb34b": {
          "model_module": "jupyter-leaflet",
          "model_name": "LeafletTileLayerModel",
          "model_module_version": "^0.18",
          "state": {
            "_model_module": "jupyter-leaflet",
            "_model_module_version": "^0.18",
            "_model_name": "LeafletTileLayerModel",
            "_view_count": null,
            "_view_module": "jupyter-leaflet",
            "_view_module_version": "^0.18",
            "_view_name": "LeafletTileLayerView",
            "attribution": "Google Earth Engine",
            "base": false,
            "bottom": true,
            "bounds": null,
            "detect_retina": false,
            "loading": false,
            "max_native_zoom": null,
            "max_zoom": 24,
            "min_native_zoom": null,
            "min_zoom": 0,
            "name": "True Colour",
            "no_wrap": false,
            "opacity": 1,
            "options": [
              "attribution",
              "bounds",
              "detect_retina",
              "max_native_zoom",
              "max_zoom",
              "min_native_zoom",
              "min_zoom",
              "no_wrap",
              "tile_size",
              "tms",
              "zoom_offset"
            ],
            "pane": "",
            "popup": null,
            "popup_max_height": null,
            "popup_max_width": 300,
            "popup_min_width": 50,
            "show_loading": false,
            "subitems": [],
            "tile_size": 256,
            "tms": false,
            "url": "https://earthengine.googleapis.com/v1/projects/ee-trchudley/maps/ea52097ba5c54ffad926df3923a5f38f-e1e25b259d45b8c45ebf3b0778cd6833/tiles/{z}/{x}/{y}",
            "visible": true,
            "zoom_offset": 0
          }
        },
        "0407580271634324af953cc3971e9be5": {
          "model_module": "jupyter-leaflet",
          "model_name": "LeafletTileLayerModel",
          "model_module_version": "^0.18",
          "state": {
            "_model_module": "jupyter-leaflet",
            "_model_module_version": "^0.18",
            "_model_name": "LeafletTileLayerModel",
            "_view_count": null,
            "_view_module": "jupyter-leaflet",
            "_view_module_version": "^0.18",
            "_view_name": "LeafletTileLayerView",
            "attribution": "Google Earth Engine",
            "base": false,
            "bottom": true,
            "bounds": null,
            "detect_retina": false,
            "loading": false,
            "max_native_zoom": null,
            "max_zoom": 24,
            "min_native_zoom": null,
            "min_zoom": 0,
            "name": "NDSI",
            "no_wrap": false,
            "opacity": 1,
            "options": [
              "attribution",
              "bounds",
              "detect_retina",
              "max_native_zoom",
              "max_zoom",
              "min_native_zoom",
              "min_zoom",
              "no_wrap",
              "tile_size",
              "tms",
              "zoom_offset"
            ],
            "pane": "",
            "popup": null,
            "popup_max_height": null,
            "popup_max_width": 300,
            "popup_min_width": 50,
            "show_loading": false,
            "subitems": [],
            "tile_size": 256,
            "tms": false,
            "url": "https://earthengine.googleapis.com/v1/projects/ee-trchudley/maps/0a02c1a12b8c11883fd31279f9500cac-56704ddbf01e19402480bb8e066c5268/tiles/{z}/{x}/{y}",
            "visible": true,
            "zoom_offset": 0
          }
        },
        "a35ae8c8c6024e81ae09c7542531bcfd": {
          "model_module": "@jupyter-widgets/base",
          "model_name": "LayoutModel",
          "model_module_version": "1.2.0",
          "state": {
            "_model_module": "@jupyter-widgets/base",
            "_model_module_version": "1.2.0",
            "_model_name": "LayoutModel",
            "_view_count": null,
            "_view_module": "@jupyter-widgets/base",
            "_view_module_version": "1.2.0",
            "_view_name": "LayoutView",
            "align_content": null,
            "align_items": null,
            "align_self": null,
            "border": null,
            "bottom": null,
            "display": null,
            "flex": null,
            "flex_flow": null,
            "grid_area": null,
            "grid_auto_columns": null,
            "grid_auto_flow": null,
            "grid_auto_rows": null,
            "grid_column": null,
            "grid_gap": null,
            "grid_row": null,
            "grid_template_areas": null,
            "grid_template_columns": null,
            "grid_template_rows": null,
            "height": "600px",
            "justify_content": null,
            "justify_items": null,
            "left": null,
            "margin": null,
            "max_height": null,
            "max_width": null,
            "min_height": null,
            "min_width": null,
            "object_fit": null,
            "object_position": null,
            "order": null,
            "overflow": null,
            "overflow_x": null,
            "overflow_y": null,
            "padding": null,
            "right": null,
            "top": null,
            "visibility": null,
            "width": null
          }
        },
        "26fbc5b526854e4bbca54072e18025c5": {
          "model_module": "jupyter-leaflet",
          "model_name": "LeafletMapStyleModel",
          "model_module_version": "^0.18",
          "state": {
            "_model_module": "jupyter-leaflet",
            "_model_module_version": "^0.18",
            "_model_name": "LeafletMapStyleModel",
            "_view_count": null,
            "_view_module": "@jupyter-widgets/base",
            "_view_module_version": "1.2.0",
            "_view_name": "StyleView",
            "cursor": "grab"
          }
        },
        "4954288c6b714392a24b5a3033c56756": {
          "model_module": "@jupyter-widgets/controls",
          "model_name": "HBoxModel",
          "model_module_version": "1.5.0",
          "state": {
            "_dom_classes": [
              "geemap-colab"
            ],
            "_model_module": "@jupyter-widgets/controls",
            "_model_module_version": "1.5.0",
            "_model_name": "HBoxModel",
            "_view_count": null,
            "_view_module": "@jupyter-widgets/controls",
            "_view_module_version": "1.5.0",
            "_view_name": "HBoxView",
            "box_style": "",
            "children": [
              "IPY_MODEL_4110d3e56f754a1db41a2a3b10d2124f"
            ],
            "layout": "IPY_MODEL_7121691017b24104b84bb99dab1e0ac0"
          }
        },
        "98e9880a728a4241a23cbc7e8ffd3060": {
          "model_module": "@jupyter-widgets/controls",
          "model_name": "VBoxModel",
          "model_module_version": "1.5.0",
          "state": {
            "_dom_classes": [
              "geemap-colab"
            ],
            "_model_module": "@jupyter-widgets/controls",
            "_model_module_version": "1.5.0",
            "_model_name": "VBoxModel",
            "_view_count": null,
            "_view_module": "@jupyter-widgets/controls",
            "_view_module_version": "1.5.0",
            "_view_name": "VBoxView",
            "box_style": "",
            "children": [
              "IPY_MODEL_7dd65f9a4ffa4dd587031f5c66791b88"
            ],
            "layout": "IPY_MODEL_ad95773502be430e84103a7a044fefb9"
          }
        },
        "4110d3e56f754a1db41a2a3b10d2124f": {
          "model_module": "@jupyter-widgets/controls",
          "model_name": "ToggleButtonModel",
          "model_module_version": "1.5.0",
          "state": {
            "_dom_classes": [],
            "_model_module": "@jupyter-widgets/controls",
            "_model_module_version": "1.5.0",
            "_model_name": "ToggleButtonModel",
            "_view_count": null,
            "_view_module": "@jupyter-widgets/controls",
            "_view_module_version": "1.5.0",
            "_view_name": "ToggleButtonView",
            "button_style": "",
            "description": "",
            "description_tooltip": null,
            "disabled": false,
            "icon": "globe",
            "layout": "IPY_MODEL_ba5323333b44411eb497010d245354a3",
            "style": "IPY_MODEL_43a9bb0f42e9496ab71dbfa8991b60b2",
            "tooltip": "Search location/data",
            "value": false
          }
        },
        "7121691017b24104b84bb99dab1e0ac0": {
          "model_module": "@jupyter-widgets/base",
          "model_name": "LayoutModel",
          "model_module_version": "1.2.0",
          "state": {
            "_model_module": "@jupyter-widgets/base",
            "_model_module_version": "1.2.0",
            "_model_name": "LayoutModel",
            "_view_count": null,
            "_view_module": "@jupyter-widgets/base",
            "_view_module_version": "1.2.0",
            "_view_name": "LayoutView",
            "align_content": null,
            "align_items": null,
            "align_self": null,
            "border": null,
            "bottom": null,
            "display": null,
            "flex": null,
            "flex_flow": null,
            "grid_area": null,
            "grid_auto_columns": null,
            "grid_auto_flow": null,
            "grid_auto_rows": null,
            "grid_column": null,
            "grid_gap": null,
            "grid_row": null,
            "grid_template_areas": null,
            "grid_template_columns": null,
            "grid_template_rows": null,
            "height": null,
            "justify_content": null,
            "justify_items": null,
            "left": null,
            "margin": null,
            "max_height": null,
            "max_width": null,
            "min_height": null,
            "min_width": null,
            "object_fit": null,
            "object_position": null,
            "order": null,
            "overflow": null,
            "overflow_x": null,
            "overflow_y": null,
            "padding": null,
            "right": null,
            "top": null,
            "visibility": null,
            "width": null
          }
        },
        "7dd65f9a4ffa4dd587031f5c66791b88": {
          "model_module": "@jupyter-widgets/controls",
          "model_name": "ToggleButtonModel",
          "model_module_version": "1.5.0",
          "state": {
            "_dom_classes": [],
            "_model_module": "@jupyter-widgets/controls",
            "_model_module_version": "1.5.0",
            "_model_name": "ToggleButtonModel",
            "_view_count": null,
            "_view_module": "@jupyter-widgets/controls",
            "_view_module_version": "1.5.0",
            "_view_name": "ToggleButtonView",
            "button_style": "",
            "description": "",
            "description_tooltip": null,
            "disabled": false,
            "icon": "wrench",
            "layout": "IPY_MODEL_b1e1e0f4a59f4c7dae9e943715d09f21",
            "style": "IPY_MODEL_7c483998e54b463a910ea2aa856d52df",
            "tooltip": "Toolbar",
            "value": false
          }
        },
        "ad95773502be430e84103a7a044fefb9": {
          "model_module": "@jupyter-widgets/base",
          "model_name": "LayoutModel",
          "model_module_version": "1.2.0",
          "state": {
            "_model_module": "@jupyter-widgets/base",
            "_model_module_version": "1.2.0",
            "_model_name": "LayoutModel",
            "_view_count": null,
            "_view_module": "@jupyter-widgets/base",
            "_view_module_version": "1.2.0",
            "_view_name": "LayoutView",
            "align_content": null,
            "align_items": null,
            "align_self": null,
            "border": null,
            "bottom": null,
            "display": null,
            "flex": null,
            "flex_flow": null,
            "grid_area": null,
            "grid_auto_columns": null,
            "grid_auto_flow": null,
            "grid_auto_rows": null,
            "grid_column": null,
            "grid_gap": null,
            "grid_row": null,
            "grid_template_areas": null,
            "grid_template_columns": null,
            "grid_template_rows": null,
            "height": null,
            "justify_content": null,
            "justify_items": null,
            "left": null,
            "margin": null,
            "max_height": null,
            "max_width": null,
            "min_height": null,
            "min_width": null,
            "object_fit": null,
            "object_position": null,
            "order": null,
            "overflow": null,
            "overflow_x": null,
            "overflow_y": null,
            "padding": null,
            "right": null,
            "top": null,
            "visibility": null,
            "width": null
          }
        },
        "ba5323333b44411eb497010d245354a3": {
          "model_module": "@jupyter-widgets/base",
          "model_name": "LayoutModel",
          "model_module_version": "1.2.0",
          "state": {
            "_model_module": "@jupyter-widgets/base",
            "_model_module_version": "1.2.0",
            "_model_name": "LayoutModel",
            "_view_count": null,
            "_view_module": "@jupyter-widgets/base",
            "_view_module_version": "1.2.0",
            "_view_name": "LayoutView",
            "align_content": null,
            "align_items": null,
            "align_self": null,
            "border": null,
            "bottom": null,
            "display": null,
            "flex": null,
            "flex_flow": null,
            "grid_area": null,
            "grid_auto_columns": null,
            "grid_auto_flow": null,
            "grid_auto_rows": null,
            "grid_column": null,
            "grid_gap": null,
            "grid_row": null,
            "grid_template_areas": null,
            "grid_template_columns": null,
            "grid_template_rows": null,
            "height": "28px",
            "justify_content": null,
            "justify_items": null,
            "left": null,
            "margin": null,
            "max_height": null,
            "max_width": null,
            "min_height": null,
            "min_width": null,
            "object_fit": null,
            "object_position": null,
            "order": null,
            "overflow": null,
            "overflow_x": null,
            "overflow_y": null,
            "padding": "0px 0px 0px 4px",
            "right": null,
            "top": null,
            "visibility": null,
            "width": "28px"
          }
        },
        "43a9bb0f42e9496ab71dbfa8991b60b2": {
          "model_module": "@jupyter-widgets/controls",
          "model_name": "DescriptionStyleModel",
          "model_module_version": "1.5.0",
          "state": {
            "_model_module": "@jupyter-widgets/controls",
            "_model_module_version": "1.5.0",
            "_model_name": "DescriptionStyleModel",
            "_view_count": null,
            "_view_module": "@jupyter-widgets/base",
            "_view_module_version": "1.2.0",
            "_view_name": "StyleView",
            "description_width": ""
          }
        },
        "b1e1e0f4a59f4c7dae9e943715d09f21": {
          "model_module": "@jupyter-widgets/base",
          "model_name": "LayoutModel",
          "model_module_version": "1.2.0",
          "state": {
            "_model_module": "@jupyter-widgets/base",
            "_model_module_version": "1.2.0",
            "_model_name": "LayoutModel",
            "_view_count": null,
            "_view_module": "@jupyter-widgets/base",
            "_view_module_version": "1.2.0",
            "_view_name": "LayoutView",
            "align_content": null,
            "align_items": null,
            "align_self": null,
            "border": null,
            "bottom": null,
            "display": null,
            "flex": null,
            "flex_flow": null,
            "grid_area": null,
            "grid_auto_columns": null,
            "grid_auto_flow": null,
            "grid_auto_rows": null,
            "grid_column": null,
            "grid_gap": null,
            "grid_row": null,
            "grid_template_areas": null,
            "grid_template_columns": null,
            "grid_template_rows": null,
            "height": "28px",
            "justify_content": null,
            "justify_items": null,
            "left": null,
            "margin": null,
            "max_height": null,
            "max_width": null,
            "min_height": null,
            "min_width": null,
            "object_fit": null,
            "object_position": null,
            "order": null,
            "overflow": null,
            "overflow_x": null,
            "overflow_y": null,
            "padding": "0px 0px 0px 4px",
            "right": null,
            "top": null,
            "visibility": null,
            "width": "28px"
          }
        },
        "7c483998e54b463a910ea2aa856d52df": {
          "model_module": "@jupyter-widgets/controls",
          "model_name": "DescriptionStyleModel",
          "model_module_version": "1.5.0",
          "state": {
            "_model_module": "@jupyter-widgets/controls",
            "_model_module_version": "1.5.0",
            "_model_name": "DescriptionStyleModel",
            "_view_count": null,
            "_view_module": "@jupyter-widgets/base",
            "_view_module_version": "1.2.0",
            "_view_name": "StyleView",
            "description_width": ""
          }
        },
        "e3125ee56d7e4fe2a7d273e19dce228d": {
          "model_module": "jupyter-leaflet",
          "model_name": "LeafletMapModel",
          "model_module_version": "^0.18",
          "state": {
            "_dom_classes": [],
            "_model_module": "jupyter-leaflet",
            "_model_module_version": "^0.18",
            "_model_name": "LeafletMapModel",
            "_view_count": null,
            "_view_module": "jupyter-leaflet",
            "_view_module_version": "^0.18",
            "_view_name": "LeafletMapView",
            "bottom": 565559,
            "bounce_at_zoom_limits": true,
            "box_zoom": true,
            "center": [
              -13.927069457377133,
              -70.7399368286133
            ],
            "close_popup_on_click": true,
            "controls": [
              "IPY_MODEL_867cbd242afb4a4a92c7f1282f876550",
              "IPY_MODEL_ca1d82aee1c340e5b37ab2431689a9e7",
              "IPY_MODEL_ece4f2a6c80f4ec8b7ad8c6c02123af5",
              "IPY_MODEL_130ca80a6c7d432e8ed114eaebddee8f",
              "IPY_MODEL_c378beb6da4f439a9ab4b8a6dca131b7",
              "IPY_MODEL_efe34e63f5094e0a952c48b8e2579334",
              "IPY_MODEL_a468829248ef4c03ba7343a103387404",
              "IPY_MODEL_02ec767ab6524cc4af06279e611baf0c"
            ],
            "crs": {
              "name": "EPSG3857",
              "custom": false
            },
            "default_style": "IPY_MODEL_aed456fdadd5486a97d229d681acc6b5",
            "double_click_zoom": true,
            "dragging": true,
            "dragging_style": "IPY_MODEL_a2d43d360e73422e980e0a5100a04d81",
            "east": -70.50235748291017,
            "fullscreen": false,
            "inertia": true,
            "inertia_deceleration": 3000,
            "inertia_max_speed": 1500,
            "interpolation": "bilinear",
            "keyboard": true,
            "keyboard_pan_offset": 80,
            "keyboard_zoom_offset": 1,
            "layers": [
              "IPY_MODEL_7743e454f827429eb56d83817bf6e85f",
              "IPY_MODEL_bc747e347a164402ba55027cdfa85bfc",
              "IPY_MODEL_f999d71fd7fc441d8284e60ffd68059e"
            ],
            "layout": "IPY_MODEL_7345248340904b26bc083c5b4e580cb3",
            "left": 317551,
            "max_zoom": 24,
            "min_zoom": null,
            "modisdate": "2024-01-03",
            "north": -13.827078862562159,
            "options": [
              "bounce_at_zoom_limits",
              "box_zoom",
              "center",
              "close_popup_on_click",
              "double_click_zoom",
              "dragging",
              "fullscreen",
              "inertia",
              "inertia_deceleration",
              "inertia_max_speed",
              "interpolation",
              "keyboard",
              "keyboard_pan_offset",
              "keyboard_zoom_offset",
              "max_zoom",
              "min_zoom",
              "prefer_canvas",
              "scroll_wheel_zoom",
              "tap",
              "tap_tolerance",
              "touch_zoom",
              "world_copy_jump",
              "zoom",
              "zoom_animation_threshold",
              "zoom_delta",
              "zoom_snap"
            ],
            "panes": {},
            "prefer_canvas": false,
            "right": 318935,
            "scroll_wheel_zoom": true,
            "south": -14.0270167990112,
            "style": "IPY_MODEL_aed456fdadd5486a97d229d681acc6b5",
            "tap": true,
            "tap_tolerance": 15,
            "top": 564959,
            "touch_zoom": true,
            "west": -70.97751617431642,
            "window_url": "https://9x2nyh9ie2w-496ff2e9c6d22116-0-colab.googleusercontent.com/outputframe.html?vrz=colab_20240102-060009_RC01_595159414",
            "world_copy_jump": false,
            "zoom": 12,
            "zoom_animation_threshold": 4,
            "zoom_delta": 1,
            "zoom_snap": 1
          }
        },
        "867cbd242afb4a4a92c7f1282f876550": {
          "model_module": "jupyter-leaflet",
          "model_name": "LeafletWidgetControlModel",
          "model_module_version": "^0.18",
          "state": {
            "_model_module": "jupyter-leaflet",
            "_model_module_version": "^0.18",
            "_model_name": "LeafletWidgetControlModel",
            "_view_count": null,
            "_view_module": "jupyter-leaflet",
            "_view_module_version": "^0.18",
            "_view_name": "LeafletWidgetControlView",
            "max_height": null,
            "max_width": null,
            "min_height": null,
            "min_width": null,
            "options": [
              "position",
              "transparent_bg"
            ],
            "position": "topleft",
            "transparent_bg": false,
            "widget": "IPY_MODEL_328f5fabe79a4dafa7e9ad84d5a65ba6"
          }
        },
        "ca1d82aee1c340e5b37ab2431689a9e7": {
          "model_module": "jupyter-leaflet",
          "model_name": "LeafletZoomControlModel",
          "model_module_version": "^0.18",
          "state": {
            "_model_module": "jupyter-leaflet",
            "_model_module_version": "^0.18",
            "_model_name": "LeafletZoomControlModel",
            "_view_count": null,
            "_view_module": "jupyter-leaflet",
            "_view_module_version": "^0.18",
            "_view_name": "LeafletZoomControlView",
            "options": [
              "position",
              "zoom_in_text",
              "zoom_in_title",
              "zoom_out_text",
              "zoom_out_title"
            ],
            "position": "topleft",
            "zoom_in_text": "+",
            "zoom_in_title": "Zoom in",
            "zoom_out_text": "-",
            "zoom_out_title": "Zoom out"
          }
        },
        "ece4f2a6c80f4ec8b7ad8c6c02123af5": {
          "model_module": "jupyter-leaflet",
          "model_name": "LeafletFullScreenControlModel",
          "model_module_version": "^0.18",
          "state": {
            "_model_module": "jupyter-leaflet",
            "_model_module_version": "^0.18",
            "_model_name": "LeafletFullScreenControlModel",
            "_view_count": null,
            "_view_module": "jupyter-leaflet",
            "_view_module_version": "^0.18",
            "_view_name": "LeafletFullScreenControlView",
            "options": [
              "position"
            ],
            "position": "topleft"
          }
        },
        "130ca80a6c7d432e8ed114eaebddee8f": {
          "model_module": "jupyter-leaflet",
          "model_name": "LeafletDrawControlModel",
          "model_module_version": "^0.18",
          "state": {
            "_model_module": "jupyter-leaflet",
            "_model_module_version": "^0.18",
            "_model_name": "LeafletDrawControlModel",
            "_view_count": null,
            "_view_module": "jupyter-leaflet",
            "_view_module_version": "^0.18",
            "_view_name": "LeafletDrawControlView",
            "circle": {},
            "circlemarker": {},
            "data": [],
            "edit": true,
            "marker": {
              "shapeOptions": {
                "color": "#3388ff"
              }
            },
            "options": [
              "position"
            ],
            "polygon": {
              "shapeOptions": {}
            },
            "polyline": {
              "shapeOptions": {}
            },
            "position": "topleft",
            "rectangle": {
              "shapeOptions": {
                "color": "#3388ff"
              }
            },
            "remove": true
          }
        },
        "c378beb6da4f439a9ab4b8a6dca131b7": {
          "model_module": "jupyter-leaflet",
          "model_name": "LeafletScaleControlModel",
          "model_module_version": "^0.18",
          "state": {
            "_model_module": "jupyter-leaflet",
            "_model_module_version": "^0.18",
            "_model_name": "LeafletScaleControlModel",
            "_view_count": null,
            "_view_module": "jupyter-leaflet",
            "_view_module_version": "^0.18",
            "_view_name": "LeafletScaleControlView",
            "imperial": true,
            "max_width": 100,
            "metric": true,
            "options": [
              "imperial",
              "max_width",
              "metric",
              "position",
              "update_when_idle"
            ],
            "position": "bottomleft",
            "update_when_idle": false
          }
        },
        "efe34e63f5094e0a952c48b8e2579334": {
          "model_module": "jupyter-leaflet",
          "model_name": "LeafletMeasureControlModel",
          "model_module_version": "^0.18",
          "state": {
            "_custom_units": {},
            "_model_module": "jupyter-leaflet",
            "_model_module_version": "^0.18",
            "_model_name": "LeafletMeasureControlModel",
            "_view_count": null,
            "_view_module": "jupyter-leaflet",
            "_view_module_version": "^0.18",
            "_view_name": "LeafletMeasureControlView",
            "active_color": "orange",
            "capture_z_index": 10000,
            "completed_color": "#C8F2BE",
            "options": [
              "active_color",
              "capture_z_index",
              "completed_color",
              "popup_options",
              "position",
              "primary_area_unit",
              "primary_length_unit",
              "secondary_area_unit",
              "secondary_length_unit"
            ],
            "popup_options": {
              "className": "leaflet-measure-resultpopup",
              "autoPanPadding": [
                10,
                10
              ]
            },
            "position": "bottomleft",
            "primary_area_unit": "acres",
            "primary_length_unit": "kilometers",
            "secondary_area_unit": null,
            "secondary_length_unit": null
          }
        },
        "a468829248ef4c03ba7343a103387404": {
          "model_module": "jupyter-leaflet",
          "model_name": "LeafletWidgetControlModel",
          "model_module_version": "^0.18",
          "state": {
            "_model_module": "jupyter-leaflet",
            "_model_module_version": "^0.18",
            "_model_name": "LeafletWidgetControlModel",
            "_view_count": null,
            "_view_module": "jupyter-leaflet",
            "_view_module_version": "^0.18",
            "_view_name": "LeafletWidgetControlView",
            "max_height": null,
            "max_width": null,
            "min_height": null,
            "min_width": null,
            "options": [
              "position",
              "transparent_bg"
            ],
            "position": "topright",
            "transparent_bg": false,
            "widget": "IPY_MODEL_df38b812ed0f401ab8843a91c696e197"
          }
        },
        "02ec767ab6524cc4af06279e611baf0c": {
          "model_module": "jupyter-leaflet",
          "model_name": "LeafletAttributionControlModel",
          "model_module_version": "^0.18",
          "state": {
            "_model_module": "jupyter-leaflet",
            "_model_module_version": "^0.18",
            "_model_name": "LeafletAttributionControlModel",
            "_view_count": null,
            "_view_module": "jupyter-leaflet",
            "_view_module_version": "^0.18",
            "_view_name": "LeafletAttributionControlView",
            "options": [
              "position",
              "prefix"
            ],
            "position": "bottomright",
            "prefix": "ipyleaflet"
          }
        },
        "aed456fdadd5486a97d229d681acc6b5": {
          "model_module": "jupyter-leaflet",
          "model_name": "LeafletMapStyleModel",
          "model_module_version": "^0.18",
          "state": {
            "_model_module": "jupyter-leaflet",
            "_model_module_version": "^0.18",
            "_model_name": "LeafletMapStyleModel",
            "_view_count": null,
            "_view_module": "@jupyter-widgets/base",
            "_view_module_version": "1.2.0",
            "_view_name": "StyleView",
            "cursor": "grab"
          }
        },
        "a2d43d360e73422e980e0a5100a04d81": {
          "model_module": "jupyter-leaflet",
          "model_name": "LeafletMapStyleModel",
          "model_module_version": "^0.18",
          "state": {
            "_model_module": "jupyter-leaflet",
            "_model_module_version": "^0.18",
            "_model_name": "LeafletMapStyleModel",
            "_view_count": null,
            "_view_module": "@jupyter-widgets/base",
            "_view_module_version": "1.2.0",
            "_view_name": "StyleView",
            "cursor": "move"
          }
        },
        "7743e454f827429eb56d83817bf6e85f": {
          "model_module": "jupyter-leaflet",
          "model_name": "LeafletTileLayerModel",
          "model_module_version": "^0.18",
          "state": {
            "_model_module": "jupyter-leaflet",
            "_model_module_version": "^0.18",
            "_model_name": "LeafletTileLayerModel",
            "_view_count": null,
            "_view_module": "jupyter-leaflet",
            "_view_module_version": "^0.18",
            "_view_name": "LeafletTileLayerView",
            "attribution": "&copy; <a href=\"https://www.openstreetmap.org/copyright\">OpenStreetMap</a> contributors",
            "base": true,
            "bottom": true,
            "bounds": null,
            "detect_retina": false,
            "loading": false,
            "max_native_zoom": null,
            "max_zoom": 19,
            "min_native_zoom": null,
            "min_zoom": 1,
            "name": "OpenStreetMap.Mapnik",
            "no_wrap": false,
            "opacity": 1,
            "options": [
              "attribution",
              "bounds",
              "detect_retina",
              "max_native_zoom",
              "max_zoom",
              "min_native_zoom",
              "min_zoom",
              "no_wrap",
              "tile_size",
              "tms",
              "zoom_offset"
            ],
            "pane": "",
            "popup": null,
            "popup_max_height": null,
            "popup_max_width": 300,
            "popup_min_width": 50,
            "show_loading": false,
            "subitems": [],
            "tile_size": 256,
            "tms": false,
            "url": "https://tile.openstreetmap.org/{z}/{x}/{y}.png",
            "visible": true,
            "zoom_offset": 0
          }
        },
        "bc747e347a164402ba55027cdfa85bfc": {
          "model_module": "jupyter-leaflet",
          "model_name": "LeafletTileLayerModel",
          "model_module_version": "^0.18",
          "state": {
            "_model_module": "jupyter-leaflet",
            "_model_module_version": "^0.18",
            "_model_name": "LeafletTileLayerModel",
            "_view_count": null,
            "_view_module": "jupyter-leaflet",
            "_view_module_version": "^0.18",
            "_view_name": "LeafletTileLayerView",
            "attribution": "Google Earth Engine",
            "base": false,
            "bottom": true,
            "bounds": null,
            "detect_retina": false,
            "loading": false,
            "max_native_zoom": null,
            "max_zoom": 24,
            "min_native_zoom": null,
            "min_zoom": 0,
            "name": "True Colour",
            "no_wrap": false,
            "opacity": 1,
            "options": [
              "attribution",
              "bounds",
              "detect_retina",
              "max_native_zoom",
              "max_zoom",
              "min_native_zoom",
              "min_zoom",
              "no_wrap",
              "tile_size",
              "tms",
              "zoom_offset"
            ],
            "pane": "",
            "popup": null,
            "popup_max_height": null,
            "popup_max_width": 300,
            "popup_min_width": 50,
            "show_loading": false,
            "subitems": [],
            "tile_size": 256,
            "tms": false,
            "url": "https://earthengine.googleapis.com/v1/projects/ee-trchudley/maps/ea52097ba5c54ffad926df3923a5f38f-eb980ffb0a2490936eb4a89aef9ac1e7/tiles/{z}/{x}/{y}",
            "visible": true,
            "zoom_offset": 0
          }
        },
        "f999d71fd7fc441d8284e60ffd68059e": {
          "model_module": "jupyter-leaflet",
          "model_name": "LeafletTileLayerModel",
          "model_module_version": "^0.18",
          "state": {
            "_model_module": "jupyter-leaflet",
            "_model_module_version": "^0.18",
            "_model_name": "LeafletTileLayerModel",
            "_view_count": null,
            "_view_module": "jupyter-leaflet",
            "_view_module_version": "^0.18",
            "_view_name": "LeafletTileLayerView",
            "attribution": "Google Earth Engine",
            "base": false,
            "bottom": true,
            "bounds": null,
            "detect_retina": false,
            "loading": false,
            "max_native_zoom": null,
            "max_zoom": 24,
            "min_native_zoom": null,
            "min_zoom": 0,
            "name": "Identified Region",
            "no_wrap": false,
            "opacity": 1,
            "options": [
              "attribution",
              "bounds",
              "detect_retina",
              "max_native_zoom",
              "max_zoom",
              "min_native_zoom",
              "min_zoom",
              "no_wrap",
              "tile_size",
              "tms",
              "zoom_offset"
            ],
            "pane": "",
            "popup": null,
            "popup_max_height": null,
            "popup_max_width": 300,
            "popup_min_width": 50,
            "show_loading": false,
            "subitems": [],
            "tile_size": 256,
            "tms": false,
            "url": "https://earthengine.googleapis.com/v1/projects/ee-trchudley/maps/073becf3e7960f55242886f4c24be2fb-f3a006318232dd86a5af9bacbd833208/tiles/{z}/{x}/{y}",
            "visible": true,
            "zoom_offset": 0
          }
        },
        "7345248340904b26bc083c5b4e580cb3": {
          "model_module": "@jupyter-widgets/base",
          "model_name": "LayoutModel",
          "model_module_version": "1.2.0",
          "state": {
            "_model_module": "@jupyter-widgets/base",
            "_model_module_version": "1.2.0",
            "_model_name": "LayoutModel",
            "_view_count": null,
            "_view_module": "@jupyter-widgets/base",
            "_view_module_version": "1.2.0",
            "_view_name": "LayoutView",
            "align_content": null,
            "align_items": null,
            "align_self": null,
            "border": null,
            "bottom": null,
            "display": null,
            "flex": null,
            "flex_flow": null,
            "grid_area": null,
            "grid_auto_columns": null,
            "grid_auto_flow": null,
            "grid_auto_rows": null,
            "grid_column": null,
            "grid_gap": null,
            "grid_row": null,
            "grid_template_areas": null,
            "grid_template_columns": null,
            "grid_template_rows": null,
            "height": "600px",
            "justify_content": null,
            "justify_items": null,
            "left": null,
            "margin": null,
            "max_height": null,
            "max_width": null,
            "min_height": null,
            "min_width": null,
            "object_fit": null,
            "object_position": null,
            "order": null,
            "overflow": null,
            "overflow_x": null,
            "overflow_y": null,
            "padding": null,
            "right": null,
            "top": null,
            "visibility": null,
            "width": null
          }
        },
        "06d0124b8cc6429baf05bac9634b7620": {
          "model_module": "jupyter-leaflet",
          "model_name": "LeafletMapStyleModel",
          "model_module_version": "^0.18",
          "state": {
            "_model_module": "jupyter-leaflet",
            "_model_module_version": "^0.18",
            "_model_name": "LeafletMapStyleModel",
            "_view_count": null,
            "_view_module": "@jupyter-widgets/base",
            "_view_module_version": "1.2.0",
            "_view_name": "StyleView",
            "cursor": "grab"
          }
        },
        "328f5fabe79a4dafa7e9ad84d5a65ba6": {
          "model_module": "@jupyter-widgets/controls",
          "model_name": "HBoxModel",
          "model_module_version": "1.5.0",
          "state": {
            "_dom_classes": [
              "geemap-colab"
            ],
            "_model_module": "@jupyter-widgets/controls",
            "_model_module_version": "1.5.0",
            "_model_name": "HBoxModel",
            "_view_count": null,
            "_view_module": "@jupyter-widgets/controls",
            "_view_module_version": "1.5.0",
            "_view_name": "HBoxView",
            "box_style": "",
            "children": [
              "IPY_MODEL_7769cbfa00af470297ea1bda6cfde0ac"
            ],
            "layout": "IPY_MODEL_69b399545e424c91a04e40f4d768cd1a"
          }
        },
        "df38b812ed0f401ab8843a91c696e197": {
          "model_module": "@jupyter-widgets/controls",
          "model_name": "VBoxModel",
          "model_module_version": "1.5.0",
          "state": {
            "_dom_classes": [
              "geemap-colab"
            ],
            "_model_module": "@jupyter-widgets/controls",
            "_model_module_version": "1.5.0",
            "_model_name": "VBoxModel",
            "_view_count": null,
            "_view_module": "@jupyter-widgets/controls",
            "_view_module_version": "1.5.0",
            "_view_name": "VBoxView",
            "box_style": "",
            "children": [
              "IPY_MODEL_31339ec422c74a3ca909d81924a90da1"
            ],
            "layout": "IPY_MODEL_bd7953ec02b44fcf94344b3e2ce1297e"
          }
        },
        "7769cbfa00af470297ea1bda6cfde0ac": {
          "model_module": "@jupyter-widgets/controls",
          "model_name": "ToggleButtonModel",
          "model_module_version": "1.5.0",
          "state": {
            "_dom_classes": [],
            "_model_module": "@jupyter-widgets/controls",
            "_model_module_version": "1.5.0",
            "_model_name": "ToggleButtonModel",
            "_view_count": null,
            "_view_module": "@jupyter-widgets/controls",
            "_view_module_version": "1.5.0",
            "_view_name": "ToggleButtonView",
            "button_style": "",
            "description": "",
            "description_tooltip": null,
            "disabled": false,
            "icon": "globe",
            "layout": "IPY_MODEL_3cd54b63b2774fc1877bfb63eafe3795",
            "style": "IPY_MODEL_bb733e1e92554ab6a49fcfe399da0c5b",
            "tooltip": "Search location/data",
            "value": false
          }
        },
        "69b399545e424c91a04e40f4d768cd1a": {
          "model_module": "@jupyter-widgets/base",
          "model_name": "LayoutModel",
          "model_module_version": "1.2.0",
          "state": {
            "_model_module": "@jupyter-widgets/base",
            "_model_module_version": "1.2.0",
            "_model_name": "LayoutModel",
            "_view_count": null,
            "_view_module": "@jupyter-widgets/base",
            "_view_module_version": "1.2.0",
            "_view_name": "LayoutView",
            "align_content": null,
            "align_items": null,
            "align_self": null,
            "border": null,
            "bottom": null,
            "display": null,
            "flex": null,
            "flex_flow": null,
            "grid_area": null,
            "grid_auto_columns": null,
            "grid_auto_flow": null,
            "grid_auto_rows": null,
            "grid_column": null,
            "grid_gap": null,
            "grid_row": null,
            "grid_template_areas": null,
            "grid_template_columns": null,
            "grid_template_rows": null,
            "height": null,
            "justify_content": null,
            "justify_items": null,
            "left": null,
            "margin": null,
            "max_height": null,
            "max_width": null,
            "min_height": null,
            "min_width": null,
            "object_fit": null,
            "object_position": null,
            "order": null,
            "overflow": null,
            "overflow_x": null,
            "overflow_y": null,
            "padding": null,
            "right": null,
            "top": null,
            "visibility": null,
            "width": null
          }
        },
        "31339ec422c74a3ca909d81924a90da1": {
          "model_module": "@jupyter-widgets/controls",
          "model_name": "ToggleButtonModel",
          "model_module_version": "1.5.0",
          "state": {
            "_dom_classes": [],
            "_model_module": "@jupyter-widgets/controls",
            "_model_module_version": "1.5.0",
            "_model_name": "ToggleButtonModel",
            "_view_count": null,
            "_view_module": "@jupyter-widgets/controls",
            "_view_module_version": "1.5.0",
            "_view_name": "ToggleButtonView",
            "button_style": "",
            "description": "",
            "description_tooltip": null,
            "disabled": false,
            "icon": "wrench",
            "layout": "IPY_MODEL_c73a305cfec546909ee5c82da2547eee",
            "style": "IPY_MODEL_3208ab2997f6475da7673b0becca92b7",
            "tooltip": "Toolbar",
            "value": false
          }
        },
        "bd7953ec02b44fcf94344b3e2ce1297e": {
          "model_module": "@jupyter-widgets/base",
          "model_name": "LayoutModel",
          "model_module_version": "1.2.0",
          "state": {
            "_model_module": "@jupyter-widgets/base",
            "_model_module_version": "1.2.0",
            "_model_name": "LayoutModel",
            "_view_count": null,
            "_view_module": "@jupyter-widgets/base",
            "_view_module_version": "1.2.0",
            "_view_name": "LayoutView",
            "align_content": null,
            "align_items": null,
            "align_self": null,
            "border": null,
            "bottom": null,
            "display": null,
            "flex": null,
            "flex_flow": null,
            "grid_area": null,
            "grid_auto_columns": null,
            "grid_auto_flow": null,
            "grid_auto_rows": null,
            "grid_column": null,
            "grid_gap": null,
            "grid_row": null,
            "grid_template_areas": null,
            "grid_template_columns": null,
            "grid_template_rows": null,
            "height": null,
            "justify_content": null,
            "justify_items": null,
            "left": null,
            "margin": null,
            "max_height": null,
            "max_width": null,
            "min_height": null,
            "min_width": null,
            "object_fit": null,
            "object_position": null,
            "order": null,
            "overflow": null,
            "overflow_x": null,
            "overflow_y": null,
            "padding": null,
            "right": null,
            "top": null,
            "visibility": null,
            "width": null
          }
        },
        "3cd54b63b2774fc1877bfb63eafe3795": {
          "model_module": "@jupyter-widgets/base",
          "model_name": "LayoutModel",
          "model_module_version": "1.2.0",
          "state": {
            "_model_module": "@jupyter-widgets/base",
            "_model_module_version": "1.2.0",
            "_model_name": "LayoutModel",
            "_view_count": null,
            "_view_module": "@jupyter-widgets/base",
            "_view_module_version": "1.2.0",
            "_view_name": "LayoutView",
            "align_content": null,
            "align_items": null,
            "align_self": null,
            "border": null,
            "bottom": null,
            "display": null,
            "flex": null,
            "flex_flow": null,
            "grid_area": null,
            "grid_auto_columns": null,
            "grid_auto_flow": null,
            "grid_auto_rows": null,
            "grid_column": null,
            "grid_gap": null,
            "grid_row": null,
            "grid_template_areas": null,
            "grid_template_columns": null,
            "grid_template_rows": null,
            "height": "28px",
            "justify_content": null,
            "justify_items": null,
            "left": null,
            "margin": null,
            "max_height": null,
            "max_width": null,
            "min_height": null,
            "min_width": null,
            "object_fit": null,
            "object_position": null,
            "order": null,
            "overflow": null,
            "overflow_x": null,
            "overflow_y": null,
            "padding": "0px 0px 0px 4px",
            "right": null,
            "top": null,
            "visibility": null,
            "width": "28px"
          }
        },
        "bb733e1e92554ab6a49fcfe399da0c5b": {
          "model_module": "@jupyter-widgets/controls",
          "model_name": "DescriptionStyleModel",
          "model_module_version": "1.5.0",
          "state": {
            "_model_module": "@jupyter-widgets/controls",
            "_model_module_version": "1.5.0",
            "_model_name": "DescriptionStyleModel",
            "_view_count": null,
            "_view_module": "@jupyter-widgets/base",
            "_view_module_version": "1.2.0",
            "_view_name": "StyleView",
            "description_width": ""
          }
        },
        "c73a305cfec546909ee5c82da2547eee": {
          "model_module": "@jupyter-widgets/base",
          "model_name": "LayoutModel",
          "model_module_version": "1.2.0",
          "state": {
            "_model_module": "@jupyter-widgets/base",
            "_model_module_version": "1.2.0",
            "_model_name": "LayoutModel",
            "_view_count": null,
            "_view_module": "@jupyter-widgets/base",
            "_view_module_version": "1.2.0",
            "_view_name": "LayoutView",
            "align_content": null,
            "align_items": null,
            "align_self": null,
            "border": null,
            "bottom": null,
            "display": null,
            "flex": null,
            "flex_flow": null,
            "grid_area": null,
            "grid_auto_columns": null,
            "grid_auto_flow": null,
            "grid_auto_rows": null,
            "grid_column": null,
            "grid_gap": null,
            "grid_row": null,
            "grid_template_areas": null,
            "grid_template_columns": null,
            "grid_template_rows": null,
            "height": "28px",
            "justify_content": null,
            "justify_items": null,
            "left": null,
            "margin": null,
            "max_height": null,
            "max_width": null,
            "min_height": null,
            "min_width": null,
            "object_fit": null,
            "object_position": null,
            "order": null,
            "overflow": null,
            "overflow_x": null,
            "overflow_y": null,
            "padding": "0px 0px 0px 4px",
            "right": null,
            "top": null,
            "visibility": null,
            "width": "28px"
          }
        },
        "3208ab2997f6475da7673b0becca92b7": {
          "model_module": "@jupyter-widgets/controls",
          "model_name": "DescriptionStyleModel",
          "model_module_version": "1.5.0",
          "state": {
            "_model_module": "@jupyter-widgets/controls",
            "_model_module_version": "1.5.0",
            "_model_name": "DescriptionStyleModel",
            "_view_count": null,
            "_view_module": "@jupyter-widgets/base",
            "_view_module_version": "1.2.0",
            "_view_name": "StyleView",
            "description_width": ""
          }
        },
        "47b601a2e71b4ca8a6c09c6d14534e5f": {
          "model_module": "jupyter-leaflet",
          "model_name": "LeafletMapModel",
          "model_module_version": "^0.18",
          "state": {
            "_dom_classes": [],
            "_model_module": "jupyter-leaflet",
            "_model_module_version": "^0.18",
            "_model_name": "LeafletMapModel",
            "_view_count": null,
            "_view_module": "jupyter-leaflet",
            "_view_module_version": "^0.18",
            "_view_name": "LeafletMapView",
            "bottom": 565544,
            "bounce_at_zoom_limits": true,
            "box_zoom": true,
            "center": [
              -13.921983704624434,
              -70.82089282499103
            ],
            "close_popup_on_click": true,
            "controls": [
              "IPY_MODEL_01b9c01a8b0f4aec8ecc199fb51a56fd",
              "IPY_MODEL_ce6078af5cd84c40b24cd0389ce767fa",
              "IPY_MODEL_a03f676716124dcc9032412f98eb5cfd",
              "IPY_MODEL_c9283b0a943f4ee88d2264cfb1396c74",
              "IPY_MODEL_765cacca8b784f1ea2e0dbae3604da83",
              "IPY_MODEL_9df45085bced470fb37ec1d40bd7f29e",
              "IPY_MODEL_b1893656313d4a00b82abd9ebb837cdd",
              "IPY_MODEL_6bc8a9d84b0d4044bef851486b389738"
            ],
            "crs": {
              "name": "EPSG3857",
              "custom": false
            },
            "default_style": "IPY_MODEL_8d0b2a91edac435597ebb1012cd804bf",
            "double_click_zoom": true,
            "dragging": true,
            "dragging_style": "IPY_MODEL_645af420f2db46e1b030712a0fea33cb",
            "east": -70.58338165283205,
            "fullscreen": false,
            "inertia": true,
            "inertia_deceleration": 3000,
            "inertia_max_speed": 1500,
            "interpolation": "bilinear",
            "keyboard": true,
            "keyboard_pan_offset": 80,
            "keyboard_zoom_offset": 1,
            "layers": [
              "IPY_MODEL_74fb19a8527a4a3987e5deeeca978d5c",
              "IPY_MODEL_281fff5ce8d446d1bd0bfbafd6048c42",
              "IPY_MODEL_d2b89e4066994f06aba4026b4340a6e8"
            ],
            "layout": "IPY_MODEL_db1cbe5fce6e4d518f34c4a140ba48f1",
            "left": 317315,
            "max_zoom": 24,
            "min_zoom": null,
            "modisdate": "2024-01-03",
            "north": -13.822078202551783,
            "options": [
              "bounce_at_zoom_limits",
              "box_zoom",
              "center",
              "close_popup_on_click",
              "double_click_zoom",
              "dragging",
              "fullscreen",
              "inertia",
              "inertia_deceleration",
              "inertia_max_speed",
              "interpolation",
              "keyboard",
              "keyboard_pan_offset",
              "keyboard_zoom_offset",
              "max_zoom",
              "min_zoom",
              "prefer_canvas",
              "scroll_wheel_zoom",
              "tap",
              "tap_tolerance",
              "touch_zoom",
              "world_copy_jump",
              "zoom",
              "zoom_animation_threshold",
              "zoom_delta",
              "zoom_snap"
            ],
            "panes": {},
            "prefer_canvas": false,
            "right": 318699,
            "scroll_wheel_zoom": true,
            "south": -14.022020463599421,
            "style": "IPY_MODEL_bb13eb4ea46f456f82a3b4b4f2bde567",
            "tap": true,
            "tap_tolerance": 15,
            "top": 564944,
            "touch_zoom": true,
            "west": -71.0585403442383,
            "window_url": "https://9x2nyh9ie2w-496ff2e9c6d22116-0-colab.googleusercontent.com/outputframe.html?vrz=colab_20240102-060009_RC01_595159414",
            "world_copy_jump": false,
            "zoom": 12,
            "zoom_animation_threshold": 4,
            "zoom_delta": 1,
            "zoom_snap": 1
          }
        },
        "01b9c01a8b0f4aec8ecc199fb51a56fd": {
          "model_module": "jupyter-leaflet",
          "model_name": "LeafletWidgetControlModel",
          "model_module_version": "^0.18",
          "state": {
            "_model_module": "jupyter-leaflet",
            "_model_module_version": "^0.18",
            "_model_name": "LeafletWidgetControlModel",
            "_view_count": null,
            "_view_module": "jupyter-leaflet",
            "_view_module_version": "^0.18",
            "_view_name": "LeafletWidgetControlView",
            "max_height": null,
            "max_width": null,
            "min_height": null,
            "min_width": null,
            "options": [
              "position",
              "transparent_bg"
            ],
            "position": "topleft",
            "transparent_bg": false,
            "widget": "IPY_MODEL_9155f46ae7cb453fb4a1006cedd59f65"
          }
        },
        "ce6078af5cd84c40b24cd0389ce767fa": {
          "model_module": "jupyter-leaflet",
          "model_name": "LeafletZoomControlModel",
          "model_module_version": "^0.18",
          "state": {
            "_model_module": "jupyter-leaflet",
            "_model_module_version": "^0.18",
            "_model_name": "LeafletZoomControlModel",
            "_view_count": null,
            "_view_module": "jupyter-leaflet",
            "_view_module_version": "^0.18",
            "_view_name": "LeafletZoomControlView",
            "options": [
              "position",
              "zoom_in_text",
              "zoom_in_title",
              "zoom_out_text",
              "zoom_out_title"
            ],
            "position": "topleft",
            "zoom_in_text": "+",
            "zoom_in_title": "Zoom in",
            "zoom_out_text": "-",
            "zoom_out_title": "Zoom out"
          }
        },
        "a03f676716124dcc9032412f98eb5cfd": {
          "model_module": "jupyter-leaflet",
          "model_name": "LeafletFullScreenControlModel",
          "model_module_version": "^0.18",
          "state": {
            "_model_module": "jupyter-leaflet",
            "_model_module_version": "^0.18",
            "_model_name": "LeafletFullScreenControlModel",
            "_view_count": null,
            "_view_module": "jupyter-leaflet",
            "_view_module_version": "^0.18",
            "_view_name": "LeafletFullScreenControlView",
            "options": [
              "position"
            ],
            "position": "topleft"
          }
        },
        "c9283b0a943f4ee88d2264cfb1396c74": {
          "model_module": "jupyter-leaflet",
          "model_name": "LeafletDrawControlModel",
          "model_module_version": "^0.18",
          "state": {
            "_model_module": "jupyter-leaflet",
            "_model_module_version": "^0.18",
            "_model_name": "LeafletDrawControlModel",
            "_view_count": null,
            "_view_module": "jupyter-leaflet",
            "_view_module_version": "^0.18",
            "_view_name": "LeafletDrawControlView",
            "circle": {},
            "circlemarker": {},
            "data": [],
            "edit": true,
            "marker": {
              "shapeOptions": {
                "color": "#3388ff"
              }
            },
            "options": [
              "position"
            ],
            "polygon": {
              "shapeOptions": {}
            },
            "polyline": {
              "shapeOptions": {}
            },
            "position": "topleft",
            "rectangle": {
              "shapeOptions": {
                "color": "#3388ff"
              }
            },
            "remove": true
          }
        },
        "765cacca8b784f1ea2e0dbae3604da83": {
          "model_module": "jupyter-leaflet",
          "model_name": "LeafletScaleControlModel",
          "model_module_version": "^0.18",
          "state": {
            "_model_module": "jupyter-leaflet",
            "_model_module_version": "^0.18",
            "_model_name": "LeafletScaleControlModel",
            "_view_count": null,
            "_view_module": "jupyter-leaflet",
            "_view_module_version": "^0.18",
            "_view_name": "LeafletScaleControlView",
            "imperial": true,
            "max_width": 100,
            "metric": true,
            "options": [
              "imperial",
              "max_width",
              "metric",
              "position",
              "update_when_idle"
            ],
            "position": "bottomleft",
            "update_when_idle": false
          }
        },
        "9df45085bced470fb37ec1d40bd7f29e": {
          "model_module": "jupyter-leaflet",
          "model_name": "LeafletMeasureControlModel",
          "model_module_version": "^0.18",
          "state": {
            "_custom_units": {},
            "_model_module": "jupyter-leaflet",
            "_model_module_version": "^0.18",
            "_model_name": "LeafletMeasureControlModel",
            "_view_count": null,
            "_view_module": "jupyter-leaflet",
            "_view_module_version": "^0.18",
            "_view_name": "LeafletMeasureControlView",
            "active_color": "orange",
            "capture_z_index": 10000,
            "completed_color": "#C8F2BE",
            "options": [
              "active_color",
              "capture_z_index",
              "completed_color",
              "popup_options",
              "position",
              "primary_area_unit",
              "primary_length_unit",
              "secondary_area_unit",
              "secondary_length_unit"
            ],
            "popup_options": {
              "className": "leaflet-measure-resultpopup",
              "autoPanPadding": [
                10,
                10
              ]
            },
            "position": "bottomleft",
            "primary_area_unit": "acres",
            "primary_length_unit": "kilometers",
            "secondary_area_unit": null,
            "secondary_length_unit": null
          }
        },
        "b1893656313d4a00b82abd9ebb837cdd": {
          "model_module": "jupyter-leaflet",
          "model_name": "LeafletWidgetControlModel",
          "model_module_version": "^0.18",
          "state": {
            "_model_module": "jupyter-leaflet",
            "_model_module_version": "^0.18",
            "_model_name": "LeafletWidgetControlModel",
            "_view_count": null,
            "_view_module": "jupyter-leaflet",
            "_view_module_version": "^0.18",
            "_view_name": "LeafletWidgetControlView",
            "max_height": null,
            "max_width": null,
            "min_height": null,
            "min_width": null,
            "options": [
              "position",
              "transparent_bg"
            ],
            "position": "topright",
            "transparent_bg": false,
            "widget": "IPY_MODEL_1ad870534a4844968993dd97e67b6674"
          }
        },
        "6bc8a9d84b0d4044bef851486b389738": {
          "model_module": "jupyter-leaflet",
          "model_name": "LeafletAttributionControlModel",
          "model_module_version": "^0.18",
          "state": {
            "_model_module": "jupyter-leaflet",
            "_model_module_version": "^0.18",
            "_model_name": "LeafletAttributionControlModel",
            "_view_count": null,
            "_view_module": "jupyter-leaflet",
            "_view_module_version": "^0.18",
            "_view_name": "LeafletAttributionControlView",
            "options": [
              "position",
              "prefix"
            ],
            "position": "bottomright",
            "prefix": "ipyleaflet"
          }
        },
        "8d0b2a91edac435597ebb1012cd804bf": {
          "model_module": "jupyter-leaflet",
          "model_name": "LeafletMapStyleModel",
          "model_module_version": "^0.18",
          "state": {
            "_model_module": "jupyter-leaflet",
            "_model_module_version": "^0.18",
            "_model_name": "LeafletMapStyleModel",
            "_view_count": null,
            "_view_module": "@jupyter-widgets/base",
            "_view_module_version": "1.2.0",
            "_view_name": "StyleView",
            "cursor": "grab"
          }
        },
        "645af420f2db46e1b030712a0fea33cb": {
          "model_module": "jupyter-leaflet",
          "model_name": "LeafletMapStyleModel",
          "model_module_version": "^0.18",
          "state": {
            "_model_module": "jupyter-leaflet",
            "_model_module_version": "^0.18",
            "_model_name": "LeafletMapStyleModel",
            "_view_count": null,
            "_view_module": "@jupyter-widgets/base",
            "_view_module_version": "1.2.0",
            "_view_name": "StyleView",
            "cursor": "move"
          }
        },
        "74fb19a8527a4a3987e5deeeca978d5c": {
          "model_module": "jupyter-leaflet",
          "model_name": "LeafletTileLayerModel",
          "model_module_version": "^0.18",
          "state": {
            "_model_module": "jupyter-leaflet",
            "_model_module_version": "^0.18",
            "_model_name": "LeafletTileLayerModel",
            "_view_count": null,
            "_view_module": "jupyter-leaflet",
            "_view_module_version": "^0.18",
            "_view_name": "LeafletTileLayerView",
            "attribution": "&copy; <a href=\"https://www.openstreetmap.org/copyright\">OpenStreetMap</a> contributors",
            "base": true,
            "bottom": true,
            "bounds": null,
            "detect_retina": false,
            "loading": false,
            "max_native_zoom": null,
            "max_zoom": 19,
            "min_native_zoom": null,
            "min_zoom": 1,
            "name": "OpenStreetMap.Mapnik",
            "no_wrap": false,
            "opacity": 1,
            "options": [
              "attribution",
              "bounds",
              "detect_retina",
              "max_native_zoom",
              "max_zoom",
              "min_native_zoom",
              "min_zoom",
              "no_wrap",
              "tile_size",
              "tms",
              "zoom_offset"
            ],
            "pane": "",
            "popup": null,
            "popup_max_height": null,
            "popup_max_width": 300,
            "popup_min_width": 50,
            "show_loading": false,
            "subitems": [],
            "tile_size": 256,
            "tms": false,
            "url": "https://tile.openstreetmap.org/{z}/{x}/{y}.png",
            "visible": true,
            "zoom_offset": 0
          }
        },
        "281fff5ce8d446d1bd0bfbafd6048c42": {
          "model_module": "jupyter-leaflet",
          "model_name": "LeafletTileLayerModel",
          "model_module_version": "^0.18",
          "state": {
            "_model_module": "jupyter-leaflet",
            "_model_module_version": "^0.18",
            "_model_name": "LeafletTileLayerModel",
            "_view_count": null,
            "_view_module": "jupyter-leaflet",
            "_view_module_version": "^0.18",
            "_view_name": "LeafletTileLayerView",
            "attribution": "Google Earth Engine",
            "base": false,
            "bottom": true,
            "bounds": null,
            "detect_retina": false,
            "loading": false,
            "max_native_zoom": null,
            "max_zoom": 24,
            "min_native_zoom": null,
            "min_zoom": 0,
            "name": "True Colour",
            "no_wrap": false,
            "opacity": 1,
            "options": [
              "attribution",
              "bounds",
              "detect_retina",
              "max_native_zoom",
              "max_zoom",
              "min_native_zoom",
              "min_zoom",
              "no_wrap",
              "tile_size",
              "tms",
              "zoom_offset"
            ],
            "pane": "",
            "popup": null,
            "popup_max_height": null,
            "popup_max_width": 300,
            "popup_min_width": 50,
            "show_loading": false,
            "subitems": [],
            "tile_size": 256,
            "tms": false,
            "url": "https://earthengine.googleapis.com/v1/projects/ee-trchudley/maps/ea52097ba5c54ffad926df3923a5f38f-aa62f0ca1c134590c70fbc4db72ff818/tiles/{z}/{x}/{y}",
            "visible": true,
            "zoom_offset": 0
          }
        },
        "d2b89e4066994f06aba4026b4340a6e8": {
          "model_module": "jupyter-leaflet",
          "model_name": "LeafletTileLayerModel",
          "model_module_version": "^0.18",
          "state": {
            "_model_module": "jupyter-leaflet",
            "_model_module_version": "^0.18",
            "_model_name": "LeafletTileLayerModel",
            "_view_count": null,
            "_view_module": "jupyter-leaflet",
            "_view_module_version": "^0.18",
            "_view_name": "LeafletTileLayerView",
            "attribution": "Google Earth Engine",
            "base": false,
            "bottom": true,
            "bounds": null,
            "detect_retina": false,
            "loading": false,
            "max_native_zoom": null,
            "max_zoom": 24,
            "min_native_zoom": null,
            "min_zoom": 0,
            "name": "Identified Region",
            "no_wrap": false,
            "opacity": 1,
            "options": [
              "attribution",
              "bounds",
              "detect_retina",
              "max_native_zoom",
              "max_zoom",
              "min_native_zoom",
              "min_zoom",
              "no_wrap",
              "tile_size",
              "tms",
              "zoom_offset"
            ],
            "pane": "",
            "popup": null,
            "popup_max_height": null,
            "popup_max_width": 300,
            "popup_min_width": 50,
            "show_loading": false,
            "subitems": [],
            "tile_size": 256,
            "tms": false,
            "url": "https://earthengine.googleapis.com/v1/projects/ee-trchudley/maps/f000502073b7b72f22fefcfa6d140749-e2df62015e65657b74ea7e0cff999b08/tiles/{z}/{x}/{y}",
            "visible": true,
            "zoom_offset": 0
          }
        },
        "db1cbe5fce6e4d518f34c4a140ba48f1": {
          "model_module": "@jupyter-widgets/base",
          "model_name": "LayoutModel",
          "model_module_version": "1.2.0",
          "state": {
            "_model_module": "@jupyter-widgets/base",
            "_model_module_version": "1.2.0",
            "_model_name": "LayoutModel",
            "_view_count": null,
            "_view_module": "@jupyter-widgets/base",
            "_view_module_version": "1.2.0",
            "_view_name": "LayoutView",
            "align_content": null,
            "align_items": null,
            "align_self": null,
            "border": null,
            "bottom": null,
            "display": null,
            "flex": null,
            "flex_flow": null,
            "grid_area": null,
            "grid_auto_columns": null,
            "grid_auto_flow": null,
            "grid_auto_rows": null,
            "grid_column": null,
            "grid_gap": null,
            "grid_row": null,
            "grid_template_areas": null,
            "grid_template_columns": null,
            "grid_template_rows": null,
            "height": "600px",
            "justify_content": null,
            "justify_items": null,
            "left": null,
            "margin": null,
            "max_height": null,
            "max_width": null,
            "min_height": null,
            "min_width": null,
            "object_fit": null,
            "object_position": null,
            "order": null,
            "overflow": null,
            "overflow_x": null,
            "overflow_y": null,
            "padding": null,
            "right": null,
            "top": null,
            "visibility": null,
            "width": null
          }
        },
        "bb13eb4ea46f456f82a3b4b4f2bde567": {
          "model_module": "jupyter-leaflet",
          "model_name": "LeafletMapStyleModel",
          "model_module_version": "^0.18",
          "state": {
            "_model_module": "jupyter-leaflet",
            "_model_module_version": "^0.18",
            "_model_name": "LeafletMapStyleModel",
            "_view_count": null,
            "_view_module": "@jupyter-widgets/base",
            "_view_module_version": "1.2.0",
            "_view_name": "StyleView",
            "cursor": "grab"
          }
        },
        "9155f46ae7cb453fb4a1006cedd59f65": {
          "model_module": "@jupyter-widgets/controls",
          "model_name": "HBoxModel",
          "model_module_version": "1.5.0",
          "state": {
            "_dom_classes": [
              "geemap-colab"
            ],
            "_model_module": "@jupyter-widgets/controls",
            "_model_module_version": "1.5.0",
            "_model_name": "HBoxModel",
            "_view_count": null,
            "_view_module": "@jupyter-widgets/controls",
            "_view_module_version": "1.5.0",
            "_view_name": "HBoxView",
            "box_style": "",
            "children": [
              "IPY_MODEL_265105db14204009bbcc82737ccd3e4b"
            ],
            "layout": "IPY_MODEL_3592553ed7c14a72be3a1cbfff863a87"
          }
        },
        "1ad870534a4844968993dd97e67b6674": {
          "model_module": "@jupyter-widgets/controls",
          "model_name": "VBoxModel",
          "model_module_version": "1.5.0",
          "state": {
            "_dom_classes": [
              "geemap-colab"
            ],
            "_model_module": "@jupyter-widgets/controls",
            "_model_module_version": "1.5.0",
            "_model_name": "VBoxModel",
            "_view_count": null,
            "_view_module": "@jupyter-widgets/controls",
            "_view_module_version": "1.5.0",
            "_view_name": "VBoxView",
            "box_style": "",
            "children": [
              "IPY_MODEL_cad93b0d7f9044ec87d2b6fc01de2bd2"
            ],
            "layout": "IPY_MODEL_4ef46384a6bd4d668888b89d41fd9ea1"
          }
        },
        "265105db14204009bbcc82737ccd3e4b": {
          "model_module": "@jupyter-widgets/controls",
          "model_name": "ToggleButtonModel",
          "model_module_version": "1.5.0",
          "state": {
            "_dom_classes": [],
            "_model_module": "@jupyter-widgets/controls",
            "_model_module_version": "1.5.0",
            "_model_name": "ToggleButtonModel",
            "_view_count": null,
            "_view_module": "@jupyter-widgets/controls",
            "_view_module_version": "1.5.0",
            "_view_name": "ToggleButtonView",
            "button_style": "",
            "description": "",
            "description_tooltip": null,
            "disabled": false,
            "icon": "globe",
            "layout": "IPY_MODEL_e38d187f7ab24f99a4c195d15c455f5f",
            "style": "IPY_MODEL_66edf4db89514788a85aabed145807cd",
            "tooltip": "Search location/data",
            "value": false
          }
        },
        "3592553ed7c14a72be3a1cbfff863a87": {
          "model_module": "@jupyter-widgets/base",
          "model_name": "LayoutModel",
          "model_module_version": "1.2.0",
          "state": {
            "_model_module": "@jupyter-widgets/base",
            "_model_module_version": "1.2.0",
            "_model_name": "LayoutModel",
            "_view_count": null,
            "_view_module": "@jupyter-widgets/base",
            "_view_module_version": "1.2.0",
            "_view_name": "LayoutView",
            "align_content": null,
            "align_items": null,
            "align_self": null,
            "border": null,
            "bottom": null,
            "display": null,
            "flex": null,
            "flex_flow": null,
            "grid_area": null,
            "grid_auto_columns": null,
            "grid_auto_flow": null,
            "grid_auto_rows": null,
            "grid_column": null,
            "grid_gap": null,
            "grid_row": null,
            "grid_template_areas": null,
            "grid_template_columns": null,
            "grid_template_rows": null,
            "height": null,
            "justify_content": null,
            "justify_items": null,
            "left": null,
            "margin": null,
            "max_height": null,
            "max_width": null,
            "min_height": null,
            "min_width": null,
            "object_fit": null,
            "object_position": null,
            "order": null,
            "overflow": null,
            "overflow_x": null,
            "overflow_y": null,
            "padding": null,
            "right": null,
            "top": null,
            "visibility": null,
            "width": null
          }
        },
        "cad93b0d7f9044ec87d2b6fc01de2bd2": {
          "model_module": "@jupyter-widgets/controls",
          "model_name": "ToggleButtonModel",
          "model_module_version": "1.5.0",
          "state": {
            "_dom_classes": [],
            "_model_module": "@jupyter-widgets/controls",
            "_model_module_version": "1.5.0",
            "_model_name": "ToggleButtonModel",
            "_view_count": null,
            "_view_module": "@jupyter-widgets/controls",
            "_view_module_version": "1.5.0",
            "_view_name": "ToggleButtonView",
            "button_style": "",
            "description": "",
            "description_tooltip": null,
            "disabled": false,
            "icon": "wrench",
            "layout": "IPY_MODEL_2ee731b686fa46e599f7fd5152a2891e",
            "style": "IPY_MODEL_7588e8bffe2643078271bd02c2316ea7",
            "tooltip": "Toolbar",
            "value": false
          }
        },
        "4ef46384a6bd4d668888b89d41fd9ea1": {
          "model_module": "@jupyter-widgets/base",
          "model_name": "LayoutModel",
          "model_module_version": "1.2.0",
          "state": {
            "_model_module": "@jupyter-widgets/base",
            "_model_module_version": "1.2.0",
            "_model_name": "LayoutModel",
            "_view_count": null,
            "_view_module": "@jupyter-widgets/base",
            "_view_module_version": "1.2.0",
            "_view_name": "LayoutView",
            "align_content": null,
            "align_items": null,
            "align_self": null,
            "border": null,
            "bottom": null,
            "display": null,
            "flex": null,
            "flex_flow": null,
            "grid_area": null,
            "grid_auto_columns": null,
            "grid_auto_flow": null,
            "grid_auto_rows": null,
            "grid_column": null,
            "grid_gap": null,
            "grid_row": null,
            "grid_template_areas": null,
            "grid_template_columns": null,
            "grid_template_rows": null,
            "height": null,
            "justify_content": null,
            "justify_items": null,
            "left": null,
            "margin": null,
            "max_height": null,
            "max_width": null,
            "min_height": null,
            "min_width": null,
            "object_fit": null,
            "object_position": null,
            "order": null,
            "overflow": null,
            "overflow_x": null,
            "overflow_y": null,
            "padding": null,
            "right": null,
            "top": null,
            "visibility": null,
            "width": null
          }
        },
        "e38d187f7ab24f99a4c195d15c455f5f": {
          "model_module": "@jupyter-widgets/base",
          "model_name": "LayoutModel",
          "model_module_version": "1.2.0",
          "state": {
            "_model_module": "@jupyter-widgets/base",
            "_model_module_version": "1.2.0",
            "_model_name": "LayoutModel",
            "_view_count": null,
            "_view_module": "@jupyter-widgets/base",
            "_view_module_version": "1.2.0",
            "_view_name": "LayoutView",
            "align_content": null,
            "align_items": null,
            "align_self": null,
            "border": null,
            "bottom": null,
            "display": null,
            "flex": null,
            "flex_flow": null,
            "grid_area": null,
            "grid_auto_columns": null,
            "grid_auto_flow": null,
            "grid_auto_rows": null,
            "grid_column": null,
            "grid_gap": null,
            "grid_row": null,
            "grid_template_areas": null,
            "grid_template_columns": null,
            "grid_template_rows": null,
            "height": "28px",
            "justify_content": null,
            "justify_items": null,
            "left": null,
            "margin": null,
            "max_height": null,
            "max_width": null,
            "min_height": null,
            "min_width": null,
            "object_fit": null,
            "object_position": null,
            "order": null,
            "overflow": null,
            "overflow_x": null,
            "overflow_y": null,
            "padding": "0px 0px 0px 4px",
            "right": null,
            "top": null,
            "visibility": null,
            "width": "28px"
          }
        },
        "66edf4db89514788a85aabed145807cd": {
          "model_module": "@jupyter-widgets/controls",
          "model_name": "DescriptionStyleModel",
          "model_module_version": "1.5.0",
          "state": {
            "_model_module": "@jupyter-widgets/controls",
            "_model_module_version": "1.5.0",
            "_model_name": "DescriptionStyleModel",
            "_view_count": null,
            "_view_module": "@jupyter-widgets/base",
            "_view_module_version": "1.2.0",
            "_view_name": "StyleView",
            "description_width": ""
          }
        },
        "2ee731b686fa46e599f7fd5152a2891e": {
          "model_module": "@jupyter-widgets/base",
          "model_name": "LayoutModel",
          "model_module_version": "1.2.0",
          "state": {
            "_model_module": "@jupyter-widgets/base",
            "_model_module_version": "1.2.0",
            "_model_name": "LayoutModel",
            "_view_count": null,
            "_view_module": "@jupyter-widgets/base",
            "_view_module_version": "1.2.0",
            "_view_name": "LayoutView",
            "align_content": null,
            "align_items": null,
            "align_self": null,
            "border": null,
            "bottom": null,
            "display": null,
            "flex": null,
            "flex_flow": null,
            "grid_area": null,
            "grid_auto_columns": null,
            "grid_auto_flow": null,
            "grid_auto_rows": null,
            "grid_column": null,
            "grid_gap": null,
            "grid_row": null,
            "grid_template_areas": null,
            "grid_template_columns": null,
            "grid_template_rows": null,
            "height": "28px",
            "justify_content": null,
            "justify_items": null,
            "left": null,
            "margin": null,
            "max_height": null,
            "max_width": null,
            "min_height": null,
            "min_width": null,
            "object_fit": null,
            "object_position": null,
            "order": null,
            "overflow": null,
            "overflow_x": null,
            "overflow_y": null,
            "padding": "0px 0px 0px 4px",
            "right": null,
            "top": null,
            "visibility": null,
            "width": "28px"
          }
        },
        "7588e8bffe2643078271bd02c2316ea7": {
          "model_module": "@jupyter-widgets/controls",
          "model_name": "DescriptionStyleModel",
          "model_module_version": "1.5.0",
          "state": {
            "_model_module": "@jupyter-widgets/controls",
            "_model_module_version": "1.5.0",
            "_model_name": "DescriptionStyleModel",
            "_view_count": null,
            "_view_module": "@jupyter-widgets/base",
            "_view_module_version": "1.2.0",
            "_view_name": "StyleView",
            "description_width": ""
          }
        }
      }
    }
  },
  "nbformat": 4,
  "nbformat_minor": 5
}