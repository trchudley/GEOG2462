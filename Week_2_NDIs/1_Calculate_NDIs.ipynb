{
 "cells": [
  {
   "cell_type": "markdown",
   "id": "d0217af6-bfa4-4f09-8179-b262aaea3eb6",
   "metadata": {
    "id": "d0217af6-bfa4-4f09-8179-b262aaea3eb6"
   },
   "source": [
    "<a target=\"_blank\" href=\"https://colab.research.google.com/github/trchudley/GEOG2462/blob/main/Week_2_NDIs/1_Calculate_NDIs.ipynb\">\n",
    "  <img src=\"https://colab.research.google.com/assets/colab-badge.svg\" alt=\"Open In Colab\"/>\n",
    "</a>"
   ]
  },
  {
   "cell_type": "markdown",
   "id": "0c4e9125-7321-4e43-a018-bf7da4c3d708",
   "metadata": {
    "id": "0c4e9125-7321-4e43-a018-bf7da4c3d708"
   },
   "source": [
    "# Calculate a normalised difference index in Google Earth Engine"
   ]
  },
  {
   "cell_type": "markdown",
   "id": "60585cf3-13c8-43e8-896d-2de33b1cdc96",
   "metadata": {
    "id": "60585cf3-13c8-43e8-896d-2de33b1cdc96"
   },
   "source": [
    "## Log in to Google Earth Engine"
   ]
  },
  {
   "cell_type": "markdown",
   "id": "67eb1f70-9ad4-4b98-a192-91ed49e869e2",
   "metadata": {
    "id": "67eb1f70-9ad4-4b98-a192-91ed49e869e2"
   },
   "source": [
    "Same as last week, we must log in to Google Earth Engine. Note that we are importing an additional library this week - `geemap`'s 'chart' library."
   ]
  },
  {
   "cell_type": "code",
   "execution_count": null,
   "id": "c06194c5-7698-4f92-b1f0-23f17466c65a",
   "metadata": {
    "id": "c06194c5-7698-4f92-b1f0-23f17466c65a"
   },
   "outputs": [],
   "source": [
    "import ee\n",
    "import geemap\n",
    "import geemap.chart as chart\n",
    "import time\n",
    "\n",
    "ee.Authenticate()  # Trigger the authentication flow.\n",
    "ee.Initialize(project='ee-trchudley')    # Change to your own default project name."
   ]
  },
  {
   "cell_type": "markdown",
   "id": "bd586952-ae7f-4c0b-b6dc-cc6096b8dca9",
   "metadata": {
    "id": "bd586952-ae7f-4c0b-b6dc-cc6096b8dca9"
   },
   "source": [
    "## Search for a scene"
   ]
  },
  {
   "cell_type": "markdown",
   "id": "211690c7-f8a8-4446-98bf-563908690d94",
   "metadata": {
    "id": "211690c7-f8a8-4446-98bf-563908690d94"
   },
   "source": [
    "Again, as last week, we will outline some search parameters. This week, we will look at Quelcayya Ice Cap (QIC), in Peru, with the aim of extracting an outline of the ice cap.\n",
    "\n",
    "One note that I am considering this week that we didn't last week is the _time period_ over which we are searching. When extracting glacier boundaries, we want to do this at the end of the ablation season (i.e. the summer), so that we are not misclassifying snow. This is generally considered to be August-September in the Northern hemisphere. QIC is a little different as it sits in the tropics - instead, we choose the end of the dry season, which is nominally ~September. We will search for the least cloudy image between mid August and end September.\n",
    "\n",
    "When you're doing your project, you will need to consider how the timing of the scene impacts your own interpretation, especially if you're comparing inter-annual scenes. For instance, if you're trying to assess deforestation in a decidious forest, there's no point comparing a summer scene to an autumn scene!"
   ]
  },
  {
   "cell_type": "code",
   "execution_count": null,
   "id": "654e83c6-d9b0-4e4d-b328-8f8f00f72948",
   "metadata": {
    "id": "654e83c6-d9b0-4e4d-b328-8f8f00f72948"
   },
   "outputs": [],
   "source": [
    "\n",
    "# Location - editable\n",
    "latitude = -13.922           # Degrees of latitude\n",
    "longitude = -70.821          # Degrees of longitude\n",
    "size = 15000                 # Size of AOI, in metres\n",
    "location_name = 'quelcayya'  # recognisable name, to create a useful file name\n",
    "\n",
    "# Dates - editable\n",
    "date_start = '2023-08-15'\n",
    "date_end = '2023-09-30'\n",
    "\n",
    "# Set up location geometry\n",
    "point = ee.Geometry.Point(longitude, latitude)  # Create a point\n",
    "region = point.buffer(size/2).bounds()  # Buffer the point to a 2D shape\n"
   ]
  },
  {
   "cell_type": "markdown",
   "id": "69e92748-a218-426b-b948-a25b5dbd203b",
   "metadata": {
    "id": "69e92748-a218-426b-b948-a25b5dbd203b"
   },
   "source": [
    "Let's check we've got a good area. I had to increase the `size` parameter from 10 km to 15 km relative to last week's example to properly capture the full extent of the ice cap. You can explore increasing this as much as you like. The 'swath width' (width of the scene) of Landsat is 185 km, so we can go much larger. However, I wouldn't recommend it - your file sizes and processing times may become unweildy. Consider what is a reasonable region of interest to investigate."
   ]
  },
  {
   "cell_type": "code",
   "execution_count": null,
   "id": "f70f3594-b59e-470c-b948-03598ebed13e",
   "metadata": {
    "id": "f70f3594-b59e-470c-b948-03598ebed13e"
   },
   "outputs": [],
   "source": [
    "Map = geemap.Map()  # Create an empty Map\n",
    "Map.addLayer(region, {}, \"Search Region\")  # Add our AOI\n",
    "Map.centerObject(region, zoom=12)  # Centre our map on the region of interest\n",
    "Map"
   ]
  },
  {
   "cell_type": "markdown",
   "id": "e015f6fb-9e6c-4fd6-9e62-efc4362b4c95",
   "metadata": {
    "id": "e015f6fb-9e6c-4fd6-9e62-efc4362b4c95"
   },
   "source": [
    "As with last week, we can find the least cloudy image in our search window:"
   ]
  },
  {
   "cell_type": "code",
   "execution_count": null,
   "id": "719edcac-a07e-4ef1-a91c-0057565dc61d",
   "metadata": {
    "id": "719edcac-a07e-4ef1-a91c-0057565dc61d"
   },
   "outputs": [],
   "source": [
    "# Get Landsat 8 image collection\n",
    "landsat8_collection = ee.ImageCollection(\"LANDSAT/LC08/C02/T1_TOA\")\n",
    "\n",
    "# Filter to desired region and date bounds\n",
    "landsat8_collection = landsat8_collection.filterBounds(region)\n",
    "landsat8_collection = landsat8_collection.filterDate(date_start, date_end)\n",
    "\n",
    "# Get the least cloudy image in the collection, and clip it to our search region\n",
    "image = landsat8_collection.sort('CLOUD_COVER').first()\n",
    "image = image.clip(region)\n",
    "\n",
    "# Print out date, for reference\n",
    "date = image.get('DATE_ACQUIRED').getInfo()\n",
    "print(f'Selected image on date {date}')\n",
    "\n",
    "image"
   ]
  },
  {
   "cell_type": "markdown",
   "id": "289287fd-7e82-44ea-b1db-dd47b7776d27",
   "metadata": {
    "id": "289287fd-7e82-44ea-b1db-dd47b7776d27"
   },
   "source": [
    "And below, we visualise it to make sure it's good quality. Note I have increased the `max_reflectance` value to 0.8, so that we can see features of the snow and ice. This has the side effect of making the bare ground look much darker."
   ]
  },
  {
   "cell_type": "code",
   "execution_count": null,
   "id": "f99d39b9-b7ec-4953-82ca-e9599e309e5e",
   "metadata": {
    "id": "f99d39b9-b7ec-4953-82ca-e9599e309e5e"
   },
   "outputs": [],
   "source": [
    "\n",
    "Map = geemap.Map()  # Create empty map\n",
    "\n",
    "max_reflectance = 0.80 # Set the upper limit of reflectance to visualise.\n",
    "                       # Play with this value (between 0-1) to see what it\n",
    "                       # does. It will need to be higher for snowy/icy\n",
    "                       # scenes\n",
    "\n",
    "visParams = {'bands': ['B4', 'B3', 'B2'], 'max': max_reflectance}\n",
    "Map.addLayer(image, visParams, 'Colour Composite Image')\n",
    "\n",
    "Map.centerObject(region, zoom=12)\n",
    "Map"
   ]
  },
  {
   "cell_type": "markdown",
   "id": "d06b6253-d87a-4688-8a1d-55975cc2d09f",
   "metadata": {
    "id": "d06b6253-d87a-4688-8a1d-55975cc2d09f"
   },
   "source": [
    "# Calculating a normalised difference index"
   ]
  },
  {
   "cell_type": "markdown",
   "id": "562d72b5-0816-4ecb-8bae-6f3e8e400df6",
   "metadata": {
    "id": "562d72b5-0816-4ecb-8bae-6f3e8e400df6"
   },
   "source": [
    "Recall from the lecture slides last week that a normalised difference index takes the form\n",
    "\n",
    "$$NDI = \\frac{r_{high} - r_{low}}{r_{high} + r_{low}}$$\n",
    "\n",
    "Where $r_{high}$ is a band that has characteristically high reflectance for our surface of interest, and $r_{low}$ has characteristically low reflectance. From this principle, there are a number of useful normalised difference indices we can use (and more I'm sure you can find):\n",
    "\n",
    "| Name | Equation |\n",
    "| ---- | -------- |\n",
    "| Normalised Difference Vegetation Index | $$NDVI = \\frac{NIR_{B5} - Red_{B4}}{NIR_{B5} + Red_{B4}}$$ |\n",
    "| Normalised Difference Snow Index | $$NDSI = \\frac{Green_{B3} - SWIR_{B6}}{Green_{B3} + SWIR_{B6}}$$ |\n",
    "| Normalised Difference Water Index | $$NDWI = \\frac{Green_{B3} - NIR_{B5}}{Green_{B3} + NIR_{B5}}$$ |\n",
    "| Normalised Difference Built-up Index | $$NDBI = \\frac{SWIR_{B6} - NIR_{B5}}{SWIR_{B6} + NIR_{B5}}$$ |\n",
    "| Normalised Difference Snow Index (ice) | $$NDWI_{ice} = \\frac{Red_{B4} - Blue_{B2}}{Red_{B4} + Blue_{B2}}$$ |\n",
    "| Normalised Burn Ratio | $$NBR = \\frac{NIR_{B05} - SWIR_{B6}}{NIR_{B5} + SWIR_{B6}}$$ |\n",
    "\n",
    "I have included the relevant Landsat 8/9 bands as subscript in the equations - note this won't be the same if you start using, e.g., Landsat 1-7 or Sentinel-2 in the future.\n",
    "\n",
    "Google Earth Engine has a [fantastically useful function](https://developers.google.com/earth-engine/apidocs/ee-image-normalizeddifference) to help us simplify this: `ee.Image.normalizedDifference(['r_high', 'r_low'])` (note the American spelling of 'normalized'). This takes the name of two bands - $r_{high}$ and $r_{low}$ - and produces an NDI product.\n",
    "\n",
    "All we have to do is make sure we know the correct names of the bands. They are also listed, alongside detailed information, [here](https://developers.google.com/earth-engine/datasets/catalog/LANDSAT_LC08_C02_T1_TOA#bands). However, we can also extract them from the `image` object as follows (:"
   ]
  },
  {
   "cell_type": "code",
   "execution_count": null,
   "id": "7b736007-2857-4cc0-a97c-043d818cdc8e",
   "metadata": {
    "id": "7b736007-2857-4cc0-a97c-043d818cdc8e"
   },
   "outputs": [],
   "source": [
    "image.bandNames().getInfo()"
   ]
  },
  {
   "cell_type": "markdown",
   "id": "96f9e518-88d2-4fca-96ec-d7fe5e4ed652",
   "metadata": {
    "id": "96f9e518-88d2-4fca-96ec-d7fe5e4ed652"
   },
   "source": [
    "Using this information, we can calculate an NDI. As we're currently looking at an ice cap, it makes sense to calculate NDSI for now. Consulting the table above, this means using the green band (band 3) and the short-wave infrared (SWIR) band (band 6). Let's do this:"
   ]
  },
  {
   "cell_type": "code",
   "execution_count": null,
   "id": "318f7f8c-2bef-4873-8593-b7507e7e4d82",
   "metadata": {
    "id": "318f7f8c-2bef-4873-8593-b7507e7e4d82"
   },
   "outputs": [],
   "source": [
    "\n",
    "type_of_ndi = 'NDSI'  # type of NDI calculated, for filename purposes\n",
    "r_high = 'B3'  # relevant band name for r_high\n",
    "r_low = 'B6'   # relevant band name for r_low\n",
    "\n",
    "ndi = image.normalizedDifference([r_high, r_low]).rename(type_of_ndi)\n",
    "\n",
    "ndi"
   ]
  },
  {
   "cell_type": "markdown",
   "id": "e31e9a8d-7413-4962-ad30-c5815d53e225",
   "metadata": {
    "id": "e31e9a8d-7413-4962-ad30-c5815d53e225"
   },
   "source": [
    "Now, we can visualise the product. Note that I have visualised both the NDSI and the colour image as layers - click the 🔧 symbol in the top right, and then the ☰ button, to open a menu where you can toggle the NDSI layer on and off to compare the two."
   ]
  },
  {
   "cell_type": "code",
   "execution_count": null,
   "id": "84ddf96c-4fc0-431c-9a5d-6c2c216cc48d",
   "metadata": {
    "id": "84ddf96c-4fc0-431c-9a5d-6c2c216cc48d"
   },
   "outputs": [],
   "source": [
    "\n",
    "Map = geemap.Map() # Create empty map\n",
    "\n",
    "# Display colour image\n",
    "max_reflectance = 0.80\n",
    "visParams = {'bands': ['B4', 'B3', 'B2'], 'max': max_reflectance}\n",
    "Map.addLayer(image, visParams, 'True Colour')\n",
    "\n",
    "# Display NDI\n",
    "visParams = {'bands': [type_of_ndi], 'min': -1, 'max': 1, 'palette': ['red', 'white', 'blue']}\n",
    "Map.addLayer(ndi, visParams, type_of_ndi)\n",
    "\n",
    "Map.centerObject(region, zoom=12)\n",
    "Map\n"
   ]
  },
  {
   "cell_type": "markdown",
   "id": "392c9033-e20f-4d7f-a23d-b5c77845b420",
   "metadata": {
    "id": "392c9033-e20f-4d7f-a23d-b5c77845b420"
   },
   "source": [
    "Have a zoom around and see what you think. Overall, this is a good product - there's clear boundaries and not much confusion over shaded areas, etc. However, it's clear that the NDSI is also picking up lakes/water as ice. This is an established weakness of NDSI.\n",
    "\n",
    "> **Task:**\n",
    ">\n",
    "> 1. Go back and calculate NDWI instead of NDSI. Is NDWI better at differentiating water and ice?\n",
    ">\n",
    "> 2. Based on the bands used, why do you think this is?\n",
    ">\n",
    "> 3. Have an explore of other NDIs as well (e.g. NDVI).\n",
    "\n",
    "After you have explored this, return to calculating the NDSI and ensure the cells have run so that the `ndi` variable is storing the NDSI."
   ]
  },
  {
   "cell_type": "markdown",
   "id": "157a01a1-a154-4b70-b464-c8f0942d940d",
   "metadata": {
    "id": "157a01a1-a154-4b70-b464-c8f0942d940d"
   },
   "source": [
    "# Thresholding"
   ]
  },
  {
   "cell_type": "markdown",
   "id": "6JiP7sbdUtuO",
   "metadata": {
    "id": "6JiP7sbdUtuO"
   },
   "source": [
    "One common use of NDIs is to _threshold_ the data, extracting a binary mask of identified features. For instance, we might say that anything with an NDVI value above 0.4 is vegetation. In order to do this, we need to choose a sensible threshold.\n",
    "\n",
    "A good way to begin manually identifying a threshold is to construct a histogram of the computed NDI values in the scene. The short script below samples 10,000 pixels within the NDI scene and presents them as a histogram. Take a look at the code and then run it to see the histogram:"
   ]
  },
  {
   "cell_type": "code",
   "execution_count": null,
   "id": "203585f9-b68c-4a25-bcb0-f46d36361761",
   "metadata": {
    "id": "203585f9-b68c-4a25-bcb0-f46d36361761"
   },
   "outputs": [],
   "source": [
    "\n",
    "# Sample 10,000 pixels within the NDI image\n",
    "sample_pixels = ndi.sample(region, numPixels=10000)\n",
    "\n",
    "# Set labels for the graph\n",
    "labels = {\n",
    "    \"title\": 'Distribution of NDI values within image',\n",
    "    \"xlabel\": f'{type_of_ndi} values',\n",
    "    \"ylabel\": 'Pixel count',\n",
    "}\n",
    "\n",
    "# Construct the histogram\n",
    "chart.feature_histogram(sample_pixels, type_of_ndi, **labels)"
   ]
  },
  {
   "cell_type": "markdown",
   "id": "iiLNFxk0aH0M",
   "metadata": {
    "id": "iiLNFxk0aH0M"
   },
   "source": [
    "We can see that the data has a _strongly bimodal_ distribution, with lots of land surface with NDSI values <0.1 and glaciated surface with NDI values >0.8. As a result, our choice of threshold here is not too important - anything between 0 and 0.8 would probably result in a reasonable ice surface mask. For other environments, the distinction might be harder to call, and you might need to explore different thresholds and see what they look like.\n",
    "\n",
    "For our purposes, let's choose 0.8 to minimise the amount of _false positive_ pixels:"
   ]
  },
  {
   "cell_type": "code",
   "execution_count": null,
   "id": "ef6917d6-1281-4d79-bf8e-2da76efe8b92",
   "metadata": {
    "id": "ef6917d6-1281-4d79-bf8e-2da76efe8b92"
   },
   "outputs": [],
   "source": [
    "# manually set a threshold\n",
    "threshold = 0.8\n",
    "\n",
    "# threshold the image to where greater than threshold.\n",
    "# note that you could change from greater than to less than by\n",
    "# changing 'gt' to 'lt'.\n",
    "ndi_threshold = ndi.gt(threshold)\n",
    "\n",
    "# 'Mask' the data, showing only regions beyond the threshold.\n",
    "ndi_threshold = ndi_threshold.updateMask(ndi_threshold.neq(0))\n"
   ]
  },
  {
   "cell_type": "markdown",
   "id": "OkPxHO_Bc2ZB",
   "metadata": {
    "id": "OkPxHO_Bc2ZB"
   },
   "source": [
    "The above cell creates a new image where values greater than the threshold are set to 1, and values beneath the threshold are set to 0 (and in the background, values of zero are 'masked', so that they are transparent in future visualisations).\n",
    "\n",
    "We can visualise this data semi-transparent over the original data to see how we've done:"
   ]
  },
  {
   "cell_type": "code",
   "execution_count": null,
   "id": "jeAtC5lsb3k8",
   "metadata": {
    "id": "jeAtC5lsb3k8"
   },
   "outputs": [],
   "source": [
    "\n",
    "Map = geemap.Map() # Create empty map\n",
    "\n",
    "# Display colour image\n",
    "max_reflectance = 0.80\n",
    "visParams = {'bands': ['B4', 'B3', 'B2'], 'max': max_reflectance}\n",
    "Map.addLayer(image, visParams, 'True Colour')\n",
    "\n",
    "# Display NDI\n",
    "visParams = {'bands': [type_of_ndi], 'palette': ['white', 'cyan'], 'opacity': 0.3}\n",
    "Map.addLayer(ndi_threshold, visParams, type_of_ndi)\n",
    "\n",
    "Map.centerObject(region, zoom=12)\n",
    "Map\n"
   ]
  },
  {
   "cell_type": "markdown",
   "id": "oj9m0isxdP1f",
   "metadata": {
    "id": "oj9m0isxdP1f"
   },
   "source": [
    "Not bad.\n",
    "<!-- Now that we have a clear mask of snow vs bedrock, we could even begin to calculate quantiative statistics, such as the total area that is snow. We will calculate this in km3: -->"
   ]
  },
  {
   "cell_type": "markdown",
   "id": "hCK9VnL8wegv",
   "metadata": {
    "id": "hCK9VnL8wegv"
   },
   "source": [
    " We could choose to export this image for visualisation, but it is better I think to export this as _vector_ data rather than _raster_ data (recall last year's course which covered the two).\n",
    "\n",
    "We can do this simply with Earth Engine's `.reduceToVectors()` tool. Alongside this, I've written some code to also extract the _area_ of each vector polygon. You'll see what this does in the next step."
   ]
  },
  {
   "cell_type": "code",
   "execution_count": null,
   "id": "yrbJG1BzdkPa",
   "metadata": {
    "id": "yrbJG1BzdkPa"
   },
   "outputs": [],
   "source": [
    "\n",
    "# Calculate the area of each pixel in km2, and add it as a band to the NDI image\n",
    "ndi_and_area = ndi_threshold.addBands(ndi_threshold.multiply(30*30).divide(1e6))\n",
    "\n",
    "# Use the `reduceToVectors()` function to produce vectors, also calculating\n",
    "# the total area using the `sum()` function to sum the pixel areas.\n",
    "vectors = ndi_and_area.reduceToVectors(\n",
    "  scale=30,\n",
    "  geometryType = 'polygon',\n",
    "  eightConnected = False,\n",
    "  reducer = ee.Reducer.sum(),\n",
    ")\n",
    "\n",
    "# Extra line to rename the area column to `area_km2`.\n",
    "vectors = vectors.map(lambda feature: feature.set('area_km2', feature.get('sum')).set('sum', None).set('label', None))\n"
   ]
  },
  {
   "cell_type": "markdown",
   "id": "X__nZWNwtNKR",
   "metadata": {
    "id": "X__nZWNwtNKR"
   },
   "source": [
    "Let's visualise the vector layer over the top of the image:"
   ]
  },
  {
   "cell_type": "code",
   "execution_count": null,
   "id": "VclYY5SUd1KS",
   "metadata": {
    "id": "VclYY5SUd1KS"
   },
   "outputs": [],
   "source": [
    "\n",
    "Map = geemap.Map() # Create empty map\n",
    "\n",
    "# Display colour image\n",
    "max_reflectance = 0.80\n",
    "visParams = {'bands': ['B4', 'B3', 'B2'], 'max': max_reflectance}\n",
    "Map.addLayer(image, visParams, 'True Colour')\n",
    "\n",
    "# Display NDI\n",
    "Map.addLayer(vectors, {'color': 'cyan'}, \"Identified Region\")  # Add our AOI\n",
    "\n",
    "Map.centerObject(region, zoom=12)\n",
    "Map\n"
   ]
  },
  {
   "cell_type": "markdown",
   "id": "LlKhigMXw_Ev",
   "metadata": {
    "id": "LlKhigMXw_Ev"
   },
   "source": [
    "As we have calculated the area, we could even get quantative statistics:"
   ]
  },
  {
   "cell_type": "code",
   "execution_count": null,
   "id": "r7s0MihfxbVL",
   "metadata": {
    "id": "r7s0MihfxbVL"
   },
   "outputs": [],
   "source": [
    "\n",
    "# Get total area of initial search region\n",
    "aoi_area_km2 = region.area(maxError=1).getInfo() / 1e6\n",
    "\n",
    "# Get total area of all vectors\n",
    "vector_area_km2 = vectors.aggregate_sum('area_km2').getInfo()\n",
    "\n",
    "# Print the results\n",
    "print(f'Total scene area: {aoi_area_km2:.2f} km2')\n",
    "print(f'Total classified area: {vector_area_km2:.2f} km2')\n"
   ]
  },
  {
   "cell_type": "markdown",
   "id": "wY2PT9IotWpe",
   "metadata": {
    "id": "wY2PT9IotWpe"
   },
   "source": [
    "However, as you might have noticed in the map, we have a bit of noise going on!\n",
    "\n",
    "We can fix this by filtering the features only to those of a sufficiently large area. It would be nice to just have the ice cap, so let's set a fairly large theshold area of 0.5 km<sup>2</sup>."
   ]
  },
  {
   "cell_type": "code",
   "execution_count": null,
   "id": "OnCMcQPog_Cq",
   "metadata": {
    "id": "OnCMcQPog_Cq"
   },
   "outputs": [],
   "source": [
    "# Set filter threshold value, in km2\n",
    "filter_threshold_km2 = 0.5\n",
    "\n",
    "# Filter polygons smaller than this chosen threshold\n",
    "vectors_filtered = vectors.filter(ee.Filter.gt('area_km2', filter_threshold_km2))\n",
    "\n",
    "vectors_filtered"
   ]
  },
  {
   "cell_type": "markdown",
   "id": "jASseBqhuDfk",
   "metadata": {
    "id": "jASseBqhuDfk"
   },
   "source": [
    "Let's visualise this again..."
   ]
  },
  {
   "cell_type": "code",
   "execution_count": null,
   "id": "slkdX3xPtvXx",
   "metadata": {
    "id": "slkdX3xPtvXx"
   },
   "outputs": [],
   "source": [
    "\n",
    "Map = geemap.Map() # Create empty map\n",
    "\n",
    "# Display colour image\n",
    "max_reflectance = 0.80\n",
    "visParams = {'bands': ['B4', 'B3', 'B2'], 'max': max_reflectance}\n",
    "Map.addLayer(image, visParams, 'True Colour')\n",
    "\n",
    "# Display NDI\n",
    "Map.addLayer(vectors_filtered, {'color': 'cyan'}, \"Identified Region\")  # Add our AOI\n",
    "\n",
    "Map.centerObject(region, zoom=12)\n",
    "Map\n"
   ]
  },
  {
   "cell_type": "markdown",
   "id": "bRb0XUm0uNBU",
   "metadata": {
    "id": "bRb0XUm0uNBU"
   },
   "source": [
    "Beautiful! We can finally calculate the area of the ice cap:"
   ]
  },
  {
   "cell_type": "code",
   "execution_count": null,
   "id": "PGgDP7sI526C",
   "metadata": {
    "id": "PGgDP7sI526C"
   },
   "outputs": [],
   "source": [
    "\n",
    "# Get total area of initial search region\n",
    "aoi_area_km2 = region.area(maxError=1).getInfo() / 1e6\n",
    "\n",
    "# Get total area the filtered vectors\n",
    "vector_area_km2 = vectors_filtered.aggregate_sum('area_km2').getInfo()\n",
    "\n",
    "# Print the results\n",
    "print(f'Total scene area: {aoi_area_km2:.2f} km2')\n",
    "print(f'Total classified area: {vector_area_km2:.2f} km2')\n"
   ]
  },
  {
   "cell_type": "markdown",
   "id": "Dly_RhnruWrP",
   "metadata": {
    "id": "Dly_RhnruWrP"
   },
   "source": [
    "## Download data"
   ]
  },
  {
   "cell_type": "markdown",
   "id": "LnFRNZAKy-Di",
   "metadata": {
    "id": "LnFRNZAKy-Di"
   },
   "source": [
    "Let's set the Google Drive folder we want to export to. This should be the same as last week:"
   ]
  },
  {
   "cell_type": "code",
   "execution_count": null,
   "id": "b449FdakzCWb",
   "metadata": {
    "id": "b449FdakzCWb"
   },
   "outputs": [],
   "source": [
    "# You can edit this variables\n",
    "folder = 'scires_project_2C'\n"
   ]
  },
  {
   "cell_type": "markdown",
   "id": "-32jFQlYy2bY",
   "metadata": {
    "id": "-32jFQlYy2bY"
   },
   "source": [
    "First, let's download the initial scene:"
   ]
  },
  {
   "cell_type": "code",
   "execution_count": null,
   "id": "HeASPMU3uF2f",
   "metadata": {
    "id": "HeASPMU3uF2f"
   },
   "outputs": [],
   "source": [
    "# Construct the filename automatically\n",
    "date_string = image.get('DATE_ACQUIRED').getInfo()\n",
    "filename = location_name + '_' + date_string + '_image'\n",
    "\n",
    "# Print out filename for reference\n",
    "print(\"The image will be saved to your Google Drive at:\\n\" + folder + '/' + filename + '.tif\\n')\n",
    "\n",
    "# Export the image, specifying scale and region.\n",
    "task = ee.batch.Export.image.toDrive(**{\n",
    "    'image': image.select(['B4', 'B3', 'B2', 'B5', 'B6']),\n",
    "    'description': filename,\n",
    "    'folder': folder,\n",
    "    'scale': 30,\n",
    "    'region': region.getInfo()['coordinates']\n",
    "})\n",
    "task.start()\n",
    "\n",
    "while task.active():\n",
    "  print('Task processing ongoing... (id: {}).'.format(task.id))\n",
    "  time.sleep(5)\n",
    "\n",
    "print('Finished processing. Image is exported to your Drive.')\n"
   ]
  },
  {
   "cell_type": "markdown",
   "id": "gNcc0ETsz2q1",
   "metadata": {
    "id": "gNcc0ETsz2q1"
   },
   "source": [
    "Now, let's download the NDI value we produced"
   ]
  },
  {
   "cell_type": "code",
   "execution_count": null,
   "id": "jgrQHcTXz2Du",
   "metadata": {
    "id": "jgrQHcTXz2Du"
   },
   "outputs": [],
   "source": [
    "# Construct the filename automatically\n",
    "date_string = image.get('DATE_ACQUIRED').getInfo()\n",
    "filename = location_name + '_' + date_string + '_' + type_of_ndi\n",
    "\n",
    "# Print out filename for reference\n",
    "print(\"The image will be saved to your Google Drive at:\\n\" + folder + '/' + filename + '.tif\\n')\n",
    "\n",
    "# Export the image, specifying scale and region.\n",
    "task = ee.batch.Export.image.toDrive(**{\n",
    "    'image': ndi,\n",
    "    'description': filename,\n",
    "    'folder': folder,\n",
    "    'scale': 30,\n",
    "    'region': region.getInfo()['coordinates']\n",
    "})\n",
    "task.start()\n",
    "\n",
    "while task.active():\n",
    "  print('Task processing ongoing... (id: {}).'.format(task.id))\n",
    "  time.sleep(5)\n",
    "\n",
    "print('Finished processing. Image is exported to your Drive.')\n"
   ]
  },
  {
   "cell_type": "markdown",
   "id": "0jnRAHbt0S4M",
   "metadata": {
    "id": "0jnRAHbt0S4M"
   },
   "source": [
    "Finally, let's download the vector data. We could download this as either a shapefile or a KML file (which is Google's preferred format for Google Earth and other software, but we can also use it in QGIS). As you may remember from last year, shapefiles are multi-file and slightly unweildy, so for now we'll use KML. KML files aren't as feature-rich but will do fine for our purposes."
   ]
  },
  {
   "cell_type": "code",
   "execution_count": null,
   "id": "zO91KJ5K08Mt",
   "metadata": {
    "id": "zO91KJ5K08Mt"
   },
   "outputs": [],
   "source": [
    "# Construct the filename automatically\n",
    "date_string = image.get('DATE_ACQUIRED').getInfo()\n",
    "filename = location_name + '_' + date_string + '_' + type_of_ndi + '_theshold_' + str(max_reflectance)\n",
    "\n",
    "# Print out filename for reference\n",
    "print(\"The image will be saved to your Google Drive at:\\n\" + folder + '/' + filename + '.kml\\n')\n",
    "\n",
    "# Export the featureCollection, specifying scale and region.\n",
    "task = ee.batch.Export.table.toDrive(**{\n",
    "  'collection': vectors_filtered,\n",
    "  'description': filename,\n",
    "  'folder': folder,\n",
    "  'fileFormat': 'KML'\n",
    "})\n",
    "task.start()\n",
    "\n",
    "while task.active():\n",
    "  print('Task processing ongoing... (id: {}).'.format(task.id))\n",
    "  time.sleep(5)\n",
    "\n",
    "print('Finished processing. Vector file is exported to your Drive.')\n"
   ]
  },
  {
   "cell_type": "markdown",
   "id": "wUaJ9M3m2kFr",
   "metadata": {
    "id": "wUaJ9M3m2kFr"
   },
   "source": [
    "Good job! Download these files from your Google Drive to a sensible place in your local storage, and then move on to the next notebook to visualise these in QGIS."
   ]
  }
 ],
 "metadata": {
  "colab": {
   "provenance": []
  },
  "kernelspec": {
   "display_name": "Python (geospatial)",
   "language": "python",
   "name": "geospatial"
  },
  "language_info": {
   "codemirror_mode": {
    "name": "ipython",
    "version": 3
   },
   "file_extension": ".py",
   "mimetype": "text/x-python",
   "name": "python",
   "nbconvert_exporter": "python",
   "pygments_lexer": "ipython3",
   "version": "3.10.9"
  }
 },
 "nbformat": 4,
 "nbformat_minor": 5
}
