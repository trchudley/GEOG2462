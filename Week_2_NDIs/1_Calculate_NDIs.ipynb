{
  "cells": [
    {
      "cell_type": "markdown",
      "id": "d0217af6-bfa4-4f09-8179-b262aaea3eb6",
      "metadata": {
        "id": "d0217af6-bfa4-4f09-8179-b262aaea3eb6"
      },
      "source": [
        "<a target=\"_blank\" href=\"https://colab.research.google.com/github/trchudley/GEOG2462/blob/main/Week_2_NDIs/1_Calculate_NDIs.ipynb\">\n",
        "  <img src=\"https://colab.research.google.com/assets/colab-badge.svg\" alt=\"Open In Colab\"/>\n",
        "</a>"
      ]
    },
    {
      "cell_type": "markdown",
      "id": "0c4e9125-7321-4e43-a018-bf7da4c3d708",
      "metadata": {
        "id": "0c4e9125-7321-4e43-a018-bf7da4c3d708"
      },
      "source": [
        "# Calculate a normalised difference index in Google Earth Engine"
      ]
    },
    {
      "cell_type": "markdown",
      "id": "60585cf3-13c8-43e8-896d-2de33b1cdc96",
      "metadata": {
        "id": "60585cf3-13c8-43e8-896d-2de33b1cdc96"
      },
      "source": [
        "## Log in to Google Earth Engine"
      ]
    },
    {
      "cell_type": "markdown",
      "id": "67eb1f70-9ad4-4b98-a192-91ed49e869e2",
      "metadata": {
        "id": "67eb1f70-9ad4-4b98-a192-91ed49e869e2"
      },
      "source": [
        "Same as last week, we must log in to Google Earth Engine.\n",
        "<!-- Note that we are importing an additional library this week - `geemap`'s 'chart' library. -->"
      ]
    },
    {
      "cell_type": "code",
      "execution_count": 1,
      "id": "c06194c5-7698-4f92-b1f0-23f17466c65a",
      "metadata": {
        "id": "c06194c5-7698-4f92-b1f0-23f17466c65a"
      },
      "outputs": [],
      "source": [
        "import ee\n",
        "import geemap\n",
        "# import geemap.chart as chart\n",
        "\n",
        "ee.Authenticate()  # Trigger the authentication flow.\n",
        "ee.Initialize(project='ee-trchudley')    # Change to your own default project name."
      ]
    },
    {
      "cell_type": "markdown",
      "id": "bd586952-ae7f-4c0b-b6dc-cc6096b8dca9",
      "metadata": {
        "id": "bd586952-ae7f-4c0b-b6dc-cc6096b8dca9"
      },
      "source": [
        "## Search for a scene"
      ]
    },
    {
      "cell_type": "markdown",
      "id": "211690c7-f8a8-4446-98bf-563908690d94",
      "metadata": {
        "id": "211690c7-f8a8-4446-98bf-563908690d94"
      },
      "source": [
        "Again, as last week, we will outline some search parameters. This week, we will look at Quelcayya Ice Cap (QIC), in Peru:"
      ]
    },
    {
      "cell_type": "code",
      "execution_count": 3,
      "id": "654e83c6-d9b0-4e4d-b328-8f8f00f72948",
      "metadata": {
        "id": "654e83c6-d9b0-4e4d-b328-8f8f00f72948",
        "outputId": "2c3b94b8-8964-422b-c801-f6e988f55c6b",
        "colab": {
          "base_uri": "https://localhost:8080/",
          "height": 17
        }
      },
      "outputs": [
        {
          "output_type": "display_data",
          "data": {
            "text/plain": [
              "<IPython.core.display.HTML object>"
            ],
            "text/html": [
              "\n",
              "            <style>\n",
              "                .geemap-dark {\n",
              "                    --jp-widgets-color: white;\n",
              "                    --jp-widgets-label-color: white;\n",
              "                    --jp-ui-font-color1: white;\n",
              "                    --jp-layout-color2: #454545;\n",
              "                    background-color: #383838;\n",
              "                }\n",
              "                    \n",
              "                .geemap-dark .jupyter-button {\n",
              "                    --jp-layout-color3: #383838;\n",
              "                }\n",
              "                \n",
              "                .geemap-colab {\n",
              "                    background-color: var(--colab-primary-surface-color, white);\n",
              "                }\n",
              "                    \n",
              "                .geemap-colab .jupyter-button {\n",
              "                    --jp-layout-color3: var(--colab-primary-surface-color, white);\n",
              "                }\n",
              "            </style>\n",
              "            "
            ]
          },
          "metadata": {}
        }
      ],
      "source": [
        "\n",
        "# Location - editable\n",
        "latitude = -13.922           # Degrees of latitude\n",
        "longitude = -70.821          # Degrees of longitude\n",
        "size = 15000                 # Size of AOI, in metres\n",
        "location_name = 'quelcayya'  # recognisable name, to create a useful file name\n",
        "\n",
        "# Dates - editable\n",
        "date_start = '2023-05-01'\n",
        "date_end = '2023-09-30'\n",
        "\n",
        "# Set up location geometry\n",
        "point = ee.Geometry.Point(longitude, latitude)  # Create a point\n",
        "region = point.buffer(size/2).bounds()  # Buffer the point to a 2D shape\n"
      ]
    },
    {
      "cell_type": "markdown",
      "id": "69e92748-a218-426b-b948-a25b5dbd203b",
      "metadata": {
        "id": "69e92748-a218-426b-b948-a25b5dbd203b"
      },
      "source": [
        "Let's check we've got a good area. I had to increase the `size` parameter from 10 km to 15 km relative to last week's example to properly capture the full extent of the ice cap. You can explore increasing this as much as you like. The 'swath width' (width of the scene) of Landsat is 185 km, so we can go much larger. However, I wouldn't recommend it -"
      ]
    },
    {
      "cell_type": "code",
      "execution_count": 4,
      "id": "f70f3594-b59e-470c-b948-03598ebed13e",
      "metadata": {
        "id": "f70f3594-b59e-470c-b948-03598ebed13e",
        "outputId": "2b9e0f04-76ca-48e2-ae84-d1713a0ff40d",
        "colab": {
          "base_uri": "https://localhost:8080/",
          "height": 621,
          "referenced_widgets": [
            "8d63c2793eb94ab39730fc156b23dc37",
            "34fed9e2a9a34ed1bf8bb3813069391e",
            "5c84aa0855e64850a6bc6d4969cddf66",
            "0cac6655a5624527b7ad2f7ab207e39e",
            "2bd10f32374d4439803eb9ddd627e43a",
            "d9f9f23189544f2aae0c36496efca7bf",
            "732afebd667a42c2a5c48404b0a5e6fd",
            "f8e2d7ad438d4235ba38509975990f1d",
            "3dc372b4bfc746439af640be135c90b6",
            "23ddb573d8334d75bd9af9c3e99f6fd2",
            "0fe5c06886b44b628af12340e003052e",
            "006af1d74993438583f6907bdac9aa5c",
            "886f16cc1a1c4362b0b790897f9a8d6f",
            "ec8f11429132477bbc438b2d3a762007",
            "e11882a777024d4783d096d8b5300a96",
            "b8f91dc7776d4a53adcabc2f923064c1",
            "9561e6c028614fcfae7724f069ee1c20",
            "b510a148a9914a43b332f830ca62cce2",
            "4e31d4e4726b44e583918f4118f40bdd",
            "f0b80240e24e4ed5aea12b459a884880",
            "dd8622c395ec4e32b68273572b61a53e",
            "b407a83e1beb4de09fb7bf2d91b61401",
            "045986eba4fb4887b77299660de8eb03",
            "a69921c14c6c4a09a0870c71b1b6fa64",
            "fcd7f7d28a864167ae175ba5e9cbe04a"
          ]
        }
      },
      "outputs": [
        {
          "output_type": "display_data",
          "data": {
            "text/plain": [
              "<IPython.core.display.HTML object>"
            ],
            "text/html": [
              "\n",
              "            <style>\n",
              "                .geemap-dark {\n",
              "                    --jp-widgets-color: white;\n",
              "                    --jp-widgets-label-color: white;\n",
              "                    --jp-ui-font-color1: white;\n",
              "                    --jp-layout-color2: #454545;\n",
              "                    background-color: #383838;\n",
              "                }\n",
              "                    \n",
              "                .geemap-dark .jupyter-button {\n",
              "                    --jp-layout-color3: #383838;\n",
              "                }\n",
              "                \n",
              "                .geemap-colab {\n",
              "                    background-color: var(--colab-primary-surface-color, white);\n",
              "                }\n",
              "                    \n",
              "                .geemap-colab .jupyter-button {\n",
              "                    --jp-layout-color3: var(--colab-primary-surface-color, white);\n",
              "                }\n",
              "            </style>\n",
              "            "
            ]
          },
          "metadata": {}
        },
        {
          "output_type": "display_data",
          "data": {
            "text/plain": [
              "Map(center=[0, 0], controls=(WidgetControl(options=['position', 'transparent_bg'], widget=SearchDataGUI(childr…"
            ],
            "application/vnd.jupyter.widget-view+json": {
              "version_major": 2,
              "version_minor": 0,
              "model_id": "8d63c2793eb94ab39730fc156b23dc37"
            }
          },
          "metadata": {
            "application/vnd.jupyter.widget-view+json": {
              "colab": {
                "custom_widget_manager": {
                  "url": "https://ssl.gstatic.com/colaboratory-static/widgets/colab-cdn-widget-manager/b3e629b1971e1542/manager.min.js"
                }
              }
            }
          }
        }
      ],
      "source": [
        "Map = geemap.Map()  # Create an empty Map\n",
        "Map.addLayer(region, {}, \"Search Region\")  # Add our AOI\n",
        "Map.centerObject(region, zoom=12)  # Centre our map on the region of interest\n",
        "Map"
      ]
    },
    {
      "cell_type": "markdown",
      "id": "e015f6fb-9e6c-4fd6-9e62-efc4362b4c95",
      "metadata": {
        "id": "e015f6fb-9e6c-4fd6-9e62-efc4362b4c95"
      },
      "source": [
        "As with last week, we can find the least cloudy image in our search window:"
      ]
    },
    {
      "cell_type": "code",
      "execution_count": 5,
      "id": "719edcac-a07e-4ef1-a91c-0057565dc61d",
      "metadata": {
        "id": "719edcac-a07e-4ef1-a91c-0057565dc61d",
        "outputId": "b78efad4-9e3b-4b8c-961a-01474136791c",
        "colab": {
          "base_uri": "https://localhost:8080/",
          "height": 68
        }
      },
      "outputs": [
        {
          "output_type": "display_data",
          "data": {
            "text/plain": [
              "<IPython.core.display.HTML object>"
            ],
            "text/html": [
              "\n",
              "            <style>\n",
              "                .geemap-dark {\n",
              "                    --jp-widgets-color: white;\n",
              "                    --jp-widgets-label-color: white;\n",
              "                    --jp-ui-font-color1: white;\n",
              "                    --jp-layout-color2: #454545;\n",
              "                    background-color: #383838;\n",
              "                }\n",
              "                    \n",
              "                .geemap-dark .jupyter-button {\n",
              "                    --jp-layout-color3: #383838;\n",
              "                }\n",
              "                \n",
              "                .geemap-colab {\n",
              "                    background-color: var(--colab-primary-surface-color, white);\n",
              "                }\n",
              "                    \n",
              "                .geemap-colab .jupyter-button {\n",
              "                    --jp-layout-color3: var(--colab-primary-surface-color, white);\n",
              "                }\n",
              "            </style>\n",
              "            "
            ]
          },
          "metadata": {}
        },
        {
          "output_type": "execute_result",
          "data": {
            "text/plain": [
              "<ee.image.Image at 0x7d5ff7b1d5d0>"
            ],
            "text/html": [
              "<div><style>:root {\n",
              "  --font-color-primary: var(--jp-content-font-color0, rgba(0, 0, 0, 1));\n",
              "  --font-color-secondary: var(--jp-content-font-color2, rgba(0, 0, 0, 0.6));\n",
              "  --font-color-accent: rgba(123, 31, 162, 1);\n",
              "  --border-color: var(--jp-border-color2, #e0e0e0);\n",
              "  --background-color: var(--jp-layout-color0, white);\n",
              "  --background-color-row-even: var(--jp-layout-color1, white);\n",
              "  --background-color-row-odd: var(--jp-layout-color2, #eeeeee);\n",
              "}\n",
              "\n",
              "html[theme=\"dark\"],\n",
              "body[data-theme=\"dark\"],\n",
              "body.vscode-dark {\n",
              "  --font-color-primary: rgba(255, 255, 255, 1);\n",
              "  --font-color-secondary: rgba(255, 255, 255, 0.6);\n",
              "  --font-color-accent: rgb(173, 132, 190);\n",
              "  --border-color: #2e2e2e;\n",
              "  --background-color: #111111;\n",
              "  --background-color-row-even: #111111;\n",
              "  --background-color-row-odd: #313131;\n",
              "}\n",
              "\n",
              ".ee {\n",
              "  padding: 1em;\n",
              "  line-height: 1.5em;\n",
              "  min-width: 300px;\n",
              "  max-width: 1200px;\n",
              "  overflow-y: scroll;\n",
              "  max-height: 600px;\n",
              "  border: 1px solid var(--border-color);\n",
              "  font-family: monospace;\n",
              "}\n",
              "\n",
              ".ee li {\n",
              "  list-style-type: none;\n",
              "}\n",
              "\n",
              ".ee ul {\n",
              "  padding-left: 1.5em !important;\n",
              "  margin: 0;\n",
              "}\n",
              "\n",
              ".ee > ul {\n",
              "  padding-left: 0 !important;\n",
              "}\n",
              "\n",
              ".ee-open,\n",
              ".ee-shut {\n",
              "  color: var(--font-color-secondary);\n",
              "  cursor: pointer;\n",
              "  margin: 0;\n",
              "}\n",
              "\n",
              ".ee-open:hover,\n",
              ".ee-shut:hover {\n",
              "  color: var(--font-color-primary);\n",
              "}\n",
              "\n",
              ".ee-k {\n",
              "  color: var(--font-color-accent);\n",
              "  margin-right: 6px;\n",
              "}\n",
              "\n",
              ".ee-v {\n",
              "  color: var(--font-color-primary);\n",
              "}\n",
              "\n",
              ".ee-toggle {\n",
              "  display: none;\n",
              "}\n",
              "\n",
              ".ee-shut + ul {\n",
              "  display: none;\n",
              "}\n",
              "\n",
              ".ee-open + ul {\n",
              "  display: block;\n",
              "}\n",
              "\n",
              ".ee-shut::before {\n",
              "  display: inline-block;\n",
              "  content: \"▼\";\n",
              "  margin-right: 6px;\n",
              "  transform: rotate(-90deg);\n",
              "  transition: transform 0.2s;\n",
              "}\n",
              "\n",
              ".ee-open::before {\n",
              "  transform: rotate(0deg);\n",
              "  display: inline-block;\n",
              "  content: \"▼\";\n",
              "  margin-right: 6px;\n",
              "  transition: transform 0.2s;\n",
              "}\n",
              "</style><div class='ee'><ul><li><label class='ee-shut'>Image LANDSAT/LC08/C02/T1_TOA/LC08_003070_20230702 (17 bands)<input type='checkbox' class='ee-toggle'></label><ul><li><span class='ee-k'>type:</span><span class='ee-v'>Image</span></li><li><span class='ee-k'>id:</span><span class='ee-v'>LANDSAT/LC08/C02/T1_TOA/LC08_003070_20230702</span></li><li><span class='ee-k'>version:</span><span class='ee-v'>1704324065237076</span></li><li><label class='ee-shut'>bands: List (17 elements)<input type='checkbox' class='ee-toggle'></label><ul><li><label class='ee-shut'>0: \"B1\", float, EPSG:32619, 503x502 px<input type='checkbox' class='ee-toggle'></label><ul><li><span class='ee-k'>id:</span><span class='ee-v'>B1</span></li><li><span class='ee-k'>crs:</span><span class='ee-v'>EPSG:32619</span></li><li><label class='ee-shut'>crs_transform: [30, 0, 192285, 0, -30, -1483485]<input type='checkbox' class='ee-toggle'></label><ul><li><span class='ee-k'>0:</span><span class='ee-v'>30</span></li><li><span class='ee-k'>1:</span><span class='ee-v'>0</span></li><li><span class='ee-k'>2:</span><span class='ee-v'>192285</span></li><li><span class='ee-k'>3:</span><span class='ee-v'>0</span></li><li><span class='ee-k'>4:</span><span class='ee-v'>-30</span></li><li><span class='ee-k'>5:</span><span class='ee-v'>-1483485</span></li></ul></li><li><label class='ee-shut'>data_type: float<input type='checkbox' class='ee-toggle'></label><ul><li><span class='ee-k'>type:</span><span class='ee-v'>PixelType</span></li><li><span class='ee-k'>precision:</span><span class='ee-v'>float</span></li></ul></li><li><label class='ee-shut'>dimensions: [503, 502]<input type='checkbox' class='ee-toggle'></label><ul><li><span class='ee-k'>0:</span><span class='ee-v'>503</span></li><li><span class='ee-k'>1:</span><span class='ee-v'>502</span></li></ul></li><li><label class='ee-shut'>origin: [3448, 1628]<input type='checkbox' class='ee-toggle'></label><ul><li><span class='ee-k'>0:</span><span class='ee-v'>3448</span></li><li><span class='ee-k'>1:</span><span class='ee-v'>1628</span></li></ul></li></ul></li><li><label class='ee-shut'>1: \"B2\", float, EPSG:32619, 503x502 px<input type='checkbox' class='ee-toggle'></label><ul><li><span class='ee-k'>id:</span><span class='ee-v'>B2</span></li><li><span class='ee-k'>crs:</span><span class='ee-v'>EPSG:32619</span></li><li><label class='ee-shut'>crs_transform: [30, 0, 192285, 0, -30, -1483485]<input type='checkbox' class='ee-toggle'></label><ul><li><span class='ee-k'>0:</span><span class='ee-v'>30</span></li><li><span class='ee-k'>1:</span><span class='ee-v'>0</span></li><li><span class='ee-k'>2:</span><span class='ee-v'>192285</span></li><li><span class='ee-k'>3:</span><span class='ee-v'>0</span></li><li><span class='ee-k'>4:</span><span class='ee-v'>-30</span></li><li><span class='ee-k'>5:</span><span class='ee-v'>-1483485</span></li></ul></li><li><label class='ee-shut'>data_type: float<input type='checkbox' class='ee-toggle'></label><ul><li><span class='ee-k'>type:</span><span class='ee-v'>PixelType</span></li><li><span class='ee-k'>precision:</span><span class='ee-v'>float</span></li></ul></li><li><label class='ee-shut'>dimensions: [503, 502]<input type='checkbox' class='ee-toggle'></label><ul><li><span class='ee-k'>0:</span><span class='ee-v'>503</span></li><li><span class='ee-k'>1:</span><span class='ee-v'>502</span></li></ul></li><li><label class='ee-shut'>origin: [3448, 1628]<input type='checkbox' class='ee-toggle'></label><ul><li><span class='ee-k'>0:</span><span class='ee-v'>3448</span></li><li><span class='ee-k'>1:</span><span class='ee-v'>1628</span></li></ul></li></ul></li><li><label class='ee-shut'>2: \"B3\", float, EPSG:32619, 503x502 px<input type='checkbox' class='ee-toggle'></label><ul><li><span class='ee-k'>id:</span><span class='ee-v'>B3</span></li><li><span class='ee-k'>crs:</span><span class='ee-v'>EPSG:32619</span></li><li><label class='ee-shut'>crs_transform: [30, 0, 192285, 0, -30, -1483485]<input type='checkbox' class='ee-toggle'></label><ul><li><span class='ee-k'>0:</span><span class='ee-v'>30</span></li><li><span class='ee-k'>1:</span><span class='ee-v'>0</span></li><li><span class='ee-k'>2:</span><span class='ee-v'>192285</span></li><li><span class='ee-k'>3:</span><span class='ee-v'>0</span></li><li><span class='ee-k'>4:</span><span class='ee-v'>-30</span></li><li><span class='ee-k'>5:</span><span class='ee-v'>-1483485</span></li></ul></li><li><label class='ee-shut'>data_type: float<input type='checkbox' class='ee-toggle'></label><ul><li><span class='ee-k'>type:</span><span class='ee-v'>PixelType</span></li><li><span class='ee-k'>precision:</span><span class='ee-v'>float</span></li></ul></li><li><label class='ee-shut'>dimensions: [503, 502]<input type='checkbox' class='ee-toggle'></label><ul><li><span class='ee-k'>0:</span><span class='ee-v'>503</span></li><li><span class='ee-k'>1:</span><span class='ee-v'>502</span></li></ul></li><li><label class='ee-shut'>origin: [3448, 1628]<input type='checkbox' class='ee-toggle'></label><ul><li><span class='ee-k'>0:</span><span class='ee-v'>3448</span></li><li><span class='ee-k'>1:</span><span class='ee-v'>1628</span></li></ul></li></ul></li><li><label class='ee-shut'>3: \"B4\", float, EPSG:32619, 503x502 px<input type='checkbox' class='ee-toggle'></label><ul><li><span class='ee-k'>id:</span><span class='ee-v'>B4</span></li><li><span class='ee-k'>crs:</span><span class='ee-v'>EPSG:32619</span></li><li><label class='ee-shut'>crs_transform: [30, 0, 192285, 0, -30, -1483485]<input type='checkbox' class='ee-toggle'></label><ul><li><span class='ee-k'>0:</span><span class='ee-v'>30</span></li><li><span class='ee-k'>1:</span><span class='ee-v'>0</span></li><li><span class='ee-k'>2:</span><span class='ee-v'>192285</span></li><li><span class='ee-k'>3:</span><span class='ee-v'>0</span></li><li><span class='ee-k'>4:</span><span class='ee-v'>-30</span></li><li><span class='ee-k'>5:</span><span class='ee-v'>-1483485</span></li></ul></li><li><label class='ee-shut'>data_type: float<input type='checkbox' class='ee-toggle'></label><ul><li><span class='ee-k'>type:</span><span class='ee-v'>PixelType</span></li><li><span class='ee-k'>precision:</span><span class='ee-v'>float</span></li></ul></li><li><label class='ee-shut'>dimensions: [503, 502]<input type='checkbox' class='ee-toggle'></label><ul><li><span class='ee-k'>0:</span><span class='ee-v'>503</span></li><li><span class='ee-k'>1:</span><span class='ee-v'>502</span></li></ul></li><li><label class='ee-shut'>origin: [3448, 1628]<input type='checkbox' class='ee-toggle'></label><ul><li><span class='ee-k'>0:</span><span class='ee-v'>3448</span></li><li><span class='ee-k'>1:</span><span class='ee-v'>1628</span></li></ul></li></ul></li><li><label class='ee-shut'>4: \"B5\", float, EPSG:32619, 503x502 px<input type='checkbox' class='ee-toggle'></label><ul><li><span class='ee-k'>id:</span><span class='ee-v'>B5</span></li><li><span class='ee-k'>crs:</span><span class='ee-v'>EPSG:32619</span></li><li><label class='ee-shut'>crs_transform: [30, 0, 192285, 0, -30, -1483485]<input type='checkbox' class='ee-toggle'></label><ul><li><span class='ee-k'>0:</span><span class='ee-v'>30</span></li><li><span class='ee-k'>1:</span><span class='ee-v'>0</span></li><li><span class='ee-k'>2:</span><span class='ee-v'>192285</span></li><li><span class='ee-k'>3:</span><span class='ee-v'>0</span></li><li><span class='ee-k'>4:</span><span class='ee-v'>-30</span></li><li><span class='ee-k'>5:</span><span class='ee-v'>-1483485</span></li></ul></li><li><label class='ee-shut'>data_type: float<input type='checkbox' class='ee-toggle'></label><ul><li><span class='ee-k'>type:</span><span class='ee-v'>PixelType</span></li><li><span class='ee-k'>precision:</span><span class='ee-v'>float</span></li></ul></li><li><label class='ee-shut'>dimensions: [503, 502]<input type='checkbox' class='ee-toggle'></label><ul><li><span class='ee-k'>0:</span><span class='ee-v'>503</span></li><li><span class='ee-k'>1:</span><span class='ee-v'>502</span></li></ul></li><li><label class='ee-shut'>origin: [3448, 1628]<input type='checkbox' class='ee-toggle'></label><ul><li><span class='ee-k'>0:</span><span class='ee-v'>3448</span></li><li><span class='ee-k'>1:</span><span class='ee-v'>1628</span></li></ul></li></ul></li><li><label class='ee-shut'>5: \"B6\", float, EPSG:32619, 503x502 px<input type='checkbox' class='ee-toggle'></label><ul><li><span class='ee-k'>id:</span><span class='ee-v'>B6</span></li><li><span class='ee-k'>crs:</span><span class='ee-v'>EPSG:32619</span></li><li><label class='ee-shut'>crs_transform: [30, 0, 192285, 0, -30, -1483485]<input type='checkbox' class='ee-toggle'></label><ul><li><span class='ee-k'>0:</span><span class='ee-v'>30</span></li><li><span class='ee-k'>1:</span><span class='ee-v'>0</span></li><li><span class='ee-k'>2:</span><span class='ee-v'>192285</span></li><li><span class='ee-k'>3:</span><span class='ee-v'>0</span></li><li><span class='ee-k'>4:</span><span class='ee-v'>-30</span></li><li><span class='ee-k'>5:</span><span class='ee-v'>-1483485</span></li></ul></li><li><label class='ee-shut'>data_type: float<input type='checkbox' class='ee-toggle'></label><ul><li><span class='ee-k'>type:</span><span class='ee-v'>PixelType</span></li><li><span class='ee-k'>precision:</span><span class='ee-v'>float</span></li></ul></li><li><label class='ee-shut'>dimensions: [503, 502]<input type='checkbox' class='ee-toggle'></label><ul><li><span class='ee-k'>0:</span><span class='ee-v'>503</span></li><li><span class='ee-k'>1:</span><span class='ee-v'>502</span></li></ul></li><li><label class='ee-shut'>origin: [3448, 1628]<input type='checkbox' class='ee-toggle'></label><ul><li><span class='ee-k'>0:</span><span class='ee-v'>3448</span></li><li><span class='ee-k'>1:</span><span class='ee-v'>1628</span></li></ul></li></ul></li><li><label class='ee-shut'>6: \"B7\", float, EPSG:32619, 503x502 px<input type='checkbox' class='ee-toggle'></label><ul><li><span class='ee-k'>id:</span><span class='ee-v'>B7</span></li><li><span class='ee-k'>crs:</span><span class='ee-v'>EPSG:32619</span></li><li><label class='ee-shut'>crs_transform: [30, 0, 192285, 0, -30, -1483485]<input type='checkbox' class='ee-toggle'></label><ul><li><span class='ee-k'>0:</span><span class='ee-v'>30</span></li><li><span class='ee-k'>1:</span><span class='ee-v'>0</span></li><li><span class='ee-k'>2:</span><span class='ee-v'>192285</span></li><li><span class='ee-k'>3:</span><span class='ee-v'>0</span></li><li><span class='ee-k'>4:</span><span class='ee-v'>-30</span></li><li><span class='ee-k'>5:</span><span class='ee-v'>-1483485</span></li></ul></li><li><label class='ee-shut'>data_type: float<input type='checkbox' class='ee-toggle'></label><ul><li><span class='ee-k'>type:</span><span class='ee-v'>PixelType</span></li><li><span class='ee-k'>precision:</span><span class='ee-v'>float</span></li></ul></li><li><label class='ee-shut'>dimensions: [503, 502]<input type='checkbox' class='ee-toggle'></label><ul><li><span class='ee-k'>0:</span><span class='ee-v'>503</span></li><li><span class='ee-k'>1:</span><span class='ee-v'>502</span></li></ul></li><li><label class='ee-shut'>origin: [3448, 1628]<input type='checkbox' class='ee-toggle'></label><ul><li><span class='ee-k'>0:</span><span class='ee-v'>3448</span></li><li><span class='ee-k'>1:</span><span class='ee-v'>1628</span></li></ul></li></ul></li><li><label class='ee-shut'>7: \"B8\", float, EPSG:32619, 1004x1004 px<input type='checkbox' class='ee-toggle'></label><ul><li><span class='ee-k'>id:</span><span class='ee-v'>B8</span></li><li><span class='ee-k'>crs:</span><span class='ee-v'>EPSG:32619</span></li><li><label class='ee-shut'>crs_transform: [15, 0, 192292.5, 0, -15, -1483492.5]<input type='checkbox' class='ee-toggle'></label><ul><li><span class='ee-k'>0:</span><span class='ee-v'>15</span></li><li><span class='ee-k'>1:</span><span class='ee-v'>0</span></li><li><span class='ee-k'>2:</span><span class='ee-v'>192292.5</span></li><li><span class='ee-k'>3:</span><span class='ee-v'>0</span></li><li><span class='ee-k'>4:</span><span class='ee-v'>-15</span></li><li><span class='ee-k'>5:</span><span class='ee-v'>-1483492.5</span></li></ul></li><li><label class='ee-shut'>data_type: float<input type='checkbox' class='ee-toggle'></label><ul><li><span class='ee-k'>type:</span><span class='ee-v'>PixelType</span></li><li><span class='ee-k'>precision:</span><span class='ee-v'>float</span></li></ul></li><li><label class='ee-shut'>dimensions: [1004, 1004]<input type='checkbox' class='ee-toggle'></label><ul><li><span class='ee-k'>0:</span><span class='ee-v'>1004</span></li><li><span class='ee-k'>1:</span><span class='ee-v'>1004</span></li></ul></li><li><label class='ee-shut'>origin: [6896, 3255]<input type='checkbox' class='ee-toggle'></label><ul><li><span class='ee-k'>0:</span><span class='ee-v'>6896</span></li><li><span class='ee-k'>1:</span><span class='ee-v'>3255</span></li></ul></li></ul></li><li><label class='ee-shut'>8: \"B9\", float, EPSG:32619, 503x502 px<input type='checkbox' class='ee-toggle'></label><ul><li><span class='ee-k'>id:</span><span class='ee-v'>B9</span></li><li><span class='ee-k'>crs:</span><span class='ee-v'>EPSG:32619</span></li><li><label class='ee-shut'>crs_transform: [30, 0, 192285, 0, -30, -1483485]<input type='checkbox' class='ee-toggle'></label><ul><li><span class='ee-k'>0:</span><span class='ee-v'>30</span></li><li><span class='ee-k'>1:</span><span class='ee-v'>0</span></li><li><span class='ee-k'>2:</span><span class='ee-v'>192285</span></li><li><span class='ee-k'>3:</span><span class='ee-v'>0</span></li><li><span class='ee-k'>4:</span><span class='ee-v'>-30</span></li><li><span class='ee-k'>5:</span><span class='ee-v'>-1483485</span></li></ul></li><li><label class='ee-shut'>data_type: float<input type='checkbox' class='ee-toggle'></label><ul><li><span class='ee-k'>type:</span><span class='ee-v'>PixelType</span></li><li><span class='ee-k'>precision:</span><span class='ee-v'>float</span></li></ul></li><li><label class='ee-shut'>dimensions: [503, 502]<input type='checkbox' class='ee-toggle'></label><ul><li><span class='ee-k'>0:</span><span class='ee-v'>503</span></li><li><span class='ee-k'>1:</span><span class='ee-v'>502</span></li></ul></li><li><label class='ee-shut'>origin: [3448, 1628]<input type='checkbox' class='ee-toggle'></label><ul><li><span class='ee-k'>0:</span><span class='ee-v'>3448</span></li><li><span class='ee-k'>1:</span><span class='ee-v'>1628</span></li></ul></li></ul></li><li><label class='ee-shut'>9: \"B10\", float, EPSG:32619, 503x502 px<input type='checkbox' class='ee-toggle'></label><ul><li><span class='ee-k'>id:</span><span class='ee-v'>B10</span></li><li><span class='ee-k'>crs:</span><span class='ee-v'>EPSG:32619</span></li><li><label class='ee-shut'>crs_transform: [30, 0, 192285, 0, -30, -1483485]<input type='checkbox' class='ee-toggle'></label><ul><li><span class='ee-k'>0:</span><span class='ee-v'>30</span></li><li><span class='ee-k'>1:</span><span class='ee-v'>0</span></li><li><span class='ee-k'>2:</span><span class='ee-v'>192285</span></li><li><span class='ee-k'>3:</span><span class='ee-v'>0</span></li><li><span class='ee-k'>4:</span><span class='ee-v'>-30</span></li><li><span class='ee-k'>5:</span><span class='ee-v'>-1483485</span></li></ul></li><li><label class='ee-shut'>data_type: float<input type='checkbox' class='ee-toggle'></label><ul><li><span class='ee-k'>type:</span><span class='ee-v'>PixelType</span></li><li><span class='ee-k'>precision:</span><span class='ee-v'>float</span></li></ul></li><li><label class='ee-shut'>dimensions: [503, 502]<input type='checkbox' class='ee-toggle'></label><ul><li><span class='ee-k'>0:</span><span class='ee-v'>503</span></li><li><span class='ee-k'>1:</span><span class='ee-v'>502</span></li></ul></li><li><label class='ee-shut'>origin: [3448, 1628]<input type='checkbox' class='ee-toggle'></label><ul><li><span class='ee-k'>0:</span><span class='ee-v'>3448</span></li><li><span class='ee-k'>1:</span><span class='ee-v'>1628</span></li></ul></li></ul></li><li><label class='ee-shut'>10: \"B11\", float, EPSG:32619, 503x502 px<input type='checkbox' class='ee-toggle'></label><ul><li><span class='ee-k'>id:</span><span class='ee-v'>B11</span></li><li><span class='ee-k'>crs:</span><span class='ee-v'>EPSG:32619</span></li><li><label class='ee-shut'>crs_transform: [30, 0, 192285, 0, -30, -1483485]<input type='checkbox' class='ee-toggle'></label><ul><li><span class='ee-k'>0:</span><span class='ee-v'>30</span></li><li><span class='ee-k'>1:</span><span class='ee-v'>0</span></li><li><span class='ee-k'>2:</span><span class='ee-v'>192285</span></li><li><span class='ee-k'>3:</span><span class='ee-v'>0</span></li><li><span class='ee-k'>4:</span><span class='ee-v'>-30</span></li><li><span class='ee-k'>5:</span><span class='ee-v'>-1483485</span></li></ul></li><li><label class='ee-shut'>data_type: float<input type='checkbox' class='ee-toggle'></label><ul><li><span class='ee-k'>type:</span><span class='ee-v'>PixelType</span></li><li><span class='ee-k'>precision:</span><span class='ee-v'>float</span></li></ul></li><li><label class='ee-shut'>dimensions: [503, 502]<input type='checkbox' class='ee-toggle'></label><ul><li><span class='ee-k'>0:</span><span class='ee-v'>503</span></li><li><span class='ee-k'>1:</span><span class='ee-v'>502</span></li></ul></li><li><label class='ee-shut'>origin: [3448, 1628]<input type='checkbox' class='ee-toggle'></label><ul><li><span class='ee-k'>0:</span><span class='ee-v'>3448</span></li><li><span class='ee-k'>1:</span><span class='ee-v'>1628</span></li></ul></li></ul></li><li><label class='ee-shut'>11: \"QA_PIXEL\", unsigned int16, EPSG:32619, 503x502 px<input type='checkbox' class='ee-toggle'></label><ul><li><span class='ee-k'>id:</span><span class='ee-v'>QA_PIXEL</span></li><li><span class='ee-k'>crs:</span><span class='ee-v'>EPSG:32619</span></li><li><label class='ee-shut'>crs_transform: [30, 0, 192285, 0, -30, -1483485]<input type='checkbox' class='ee-toggle'></label><ul><li><span class='ee-k'>0:</span><span class='ee-v'>30</span></li><li><span class='ee-k'>1:</span><span class='ee-v'>0</span></li><li><span class='ee-k'>2:</span><span class='ee-v'>192285</span></li><li><span class='ee-k'>3:</span><span class='ee-v'>0</span></li><li><span class='ee-k'>4:</span><span class='ee-v'>-30</span></li><li><span class='ee-k'>5:</span><span class='ee-v'>-1483485</span></li></ul></li><li><label class='ee-shut'>data_type: unsigned int16<input type='checkbox' class='ee-toggle'></label><ul><li><span class='ee-k'>type:</span><span class='ee-v'>PixelType</span></li><li><span class='ee-k'>max:</span><span class='ee-v'>65535</span></li><li><span class='ee-k'>min:</span><span class='ee-v'>0</span></li><li><span class='ee-k'>precision:</span><span class='ee-v'>int</span></li></ul></li><li><label class='ee-shut'>dimensions: [503, 502]<input type='checkbox' class='ee-toggle'></label><ul><li><span class='ee-k'>0:</span><span class='ee-v'>503</span></li><li><span class='ee-k'>1:</span><span class='ee-v'>502</span></li></ul></li><li><label class='ee-shut'>origin: [3448, 1628]<input type='checkbox' class='ee-toggle'></label><ul><li><span class='ee-k'>0:</span><span class='ee-v'>3448</span></li><li><span class='ee-k'>1:</span><span class='ee-v'>1628</span></li></ul></li></ul></li><li><label class='ee-shut'>12: \"QA_RADSAT\", unsigned int16, EPSG:32619, 503x502 px<input type='checkbox' class='ee-toggle'></label><ul><li><span class='ee-k'>id:</span><span class='ee-v'>QA_RADSAT</span></li><li><span class='ee-k'>crs:</span><span class='ee-v'>EPSG:32619</span></li><li><label class='ee-shut'>crs_transform: [30, 0, 192285, 0, -30, -1483485]<input type='checkbox' class='ee-toggle'></label><ul><li><span class='ee-k'>0:</span><span class='ee-v'>30</span></li><li><span class='ee-k'>1:</span><span class='ee-v'>0</span></li><li><span class='ee-k'>2:</span><span class='ee-v'>192285</span></li><li><span class='ee-k'>3:</span><span class='ee-v'>0</span></li><li><span class='ee-k'>4:</span><span class='ee-v'>-30</span></li><li><span class='ee-k'>5:</span><span class='ee-v'>-1483485</span></li></ul></li><li><label class='ee-shut'>data_type: unsigned int16<input type='checkbox' class='ee-toggle'></label><ul><li><span class='ee-k'>type:</span><span class='ee-v'>PixelType</span></li><li><span class='ee-k'>max:</span><span class='ee-v'>65535</span></li><li><span class='ee-k'>min:</span><span class='ee-v'>0</span></li><li><span class='ee-k'>precision:</span><span class='ee-v'>int</span></li></ul></li><li><label class='ee-shut'>dimensions: [503, 502]<input type='checkbox' class='ee-toggle'></label><ul><li><span class='ee-k'>0:</span><span class='ee-v'>503</span></li><li><span class='ee-k'>1:</span><span class='ee-v'>502</span></li></ul></li><li><label class='ee-shut'>origin: [3448, 1628]<input type='checkbox' class='ee-toggle'></label><ul><li><span class='ee-k'>0:</span><span class='ee-v'>3448</span></li><li><span class='ee-k'>1:</span><span class='ee-v'>1628</span></li></ul></li></ul></li><li><label class='ee-shut'>13: \"SAA\", signed int16, EPSG:32619, 503x502 px<input type='checkbox' class='ee-toggle'></label><ul><li><span class='ee-k'>id:</span><span class='ee-v'>SAA</span></li><li><span class='ee-k'>crs:</span><span class='ee-v'>EPSG:32619</span></li><li><label class='ee-shut'>crs_transform: [30, 0, 192285, 0, -30, -1483485]<input type='checkbox' class='ee-toggle'></label><ul><li><span class='ee-k'>0:</span><span class='ee-v'>30</span></li><li><span class='ee-k'>1:</span><span class='ee-v'>0</span></li><li><span class='ee-k'>2:</span><span class='ee-v'>192285</span></li><li><span class='ee-k'>3:</span><span class='ee-v'>0</span></li><li><span class='ee-k'>4:</span><span class='ee-v'>-30</span></li><li><span class='ee-k'>5:</span><span class='ee-v'>-1483485</span></li></ul></li><li><label class='ee-shut'>data_type: signed int16<input type='checkbox' class='ee-toggle'></label><ul><li><span class='ee-k'>type:</span><span class='ee-v'>PixelType</span></li><li><span class='ee-k'>max:</span><span class='ee-v'>32767</span></li><li><span class='ee-k'>min:</span><span class='ee-v'>-32768</span></li><li><span class='ee-k'>precision:</span><span class='ee-v'>int</span></li></ul></li><li><label class='ee-shut'>dimensions: [503, 502]<input type='checkbox' class='ee-toggle'></label><ul><li><span class='ee-k'>0:</span><span class='ee-v'>503</span></li><li><span class='ee-k'>1:</span><span class='ee-v'>502</span></li></ul></li><li><label class='ee-shut'>origin: [3448, 1628]<input type='checkbox' class='ee-toggle'></label><ul><li><span class='ee-k'>0:</span><span class='ee-v'>3448</span></li><li><span class='ee-k'>1:</span><span class='ee-v'>1628</span></li></ul></li></ul></li><li><label class='ee-shut'>14: \"SZA\", signed int16, EPSG:32619, 503x502 px<input type='checkbox' class='ee-toggle'></label><ul><li><span class='ee-k'>id:</span><span class='ee-v'>SZA</span></li><li><span class='ee-k'>crs:</span><span class='ee-v'>EPSG:32619</span></li><li><label class='ee-shut'>crs_transform: [30, 0, 192285, 0, -30, -1483485]<input type='checkbox' class='ee-toggle'></label><ul><li><span class='ee-k'>0:</span><span class='ee-v'>30</span></li><li><span class='ee-k'>1:</span><span class='ee-v'>0</span></li><li><span class='ee-k'>2:</span><span class='ee-v'>192285</span></li><li><span class='ee-k'>3:</span><span class='ee-v'>0</span></li><li><span class='ee-k'>4:</span><span class='ee-v'>-30</span></li><li><span class='ee-k'>5:</span><span class='ee-v'>-1483485</span></li></ul></li><li><label class='ee-shut'>data_type: signed int16<input type='checkbox' class='ee-toggle'></label><ul><li><span class='ee-k'>type:</span><span class='ee-v'>PixelType</span></li><li><span class='ee-k'>max:</span><span class='ee-v'>32767</span></li><li><span class='ee-k'>min:</span><span class='ee-v'>-32768</span></li><li><span class='ee-k'>precision:</span><span class='ee-v'>int</span></li></ul></li><li><label class='ee-shut'>dimensions: [503, 502]<input type='checkbox' class='ee-toggle'></label><ul><li><span class='ee-k'>0:</span><span class='ee-v'>503</span></li><li><span class='ee-k'>1:</span><span class='ee-v'>502</span></li></ul></li><li><label class='ee-shut'>origin: [3448, 1628]<input type='checkbox' class='ee-toggle'></label><ul><li><span class='ee-k'>0:</span><span class='ee-v'>3448</span></li><li><span class='ee-k'>1:</span><span class='ee-v'>1628</span></li></ul></li></ul></li><li><label class='ee-shut'>15: \"VAA\", signed int16, EPSG:32619, 503x502 px<input type='checkbox' class='ee-toggle'></label><ul><li><span class='ee-k'>id:</span><span class='ee-v'>VAA</span></li><li><span class='ee-k'>crs:</span><span class='ee-v'>EPSG:32619</span></li><li><label class='ee-shut'>crs_transform: [30, 0, 192285, 0, -30, -1483485]<input type='checkbox' class='ee-toggle'></label><ul><li><span class='ee-k'>0:</span><span class='ee-v'>30</span></li><li><span class='ee-k'>1:</span><span class='ee-v'>0</span></li><li><span class='ee-k'>2:</span><span class='ee-v'>192285</span></li><li><span class='ee-k'>3:</span><span class='ee-v'>0</span></li><li><span class='ee-k'>4:</span><span class='ee-v'>-30</span></li><li><span class='ee-k'>5:</span><span class='ee-v'>-1483485</span></li></ul></li><li><label class='ee-shut'>data_type: signed int16<input type='checkbox' class='ee-toggle'></label><ul><li><span class='ee-k'>type:</span><span class='ee-v'>PixelType</span></li><li><span class='ee-k'>max:</span><span class='ee-v'>32767</span></li><li><span class='ee-k'>min:</span><span class='ee-v'>-32768</span></li><li><span class='ee-k'>precision:</span><span class='ee-v'>int</span></li></ul></li><li><label class='ee-shut'>dimensions: [503, 502]<input type='checkbox' class='ee-toggle'></label><ul><li><span class='ee-k'>0:</span><span class='ee-v'>503</span></li><li><span class='ee-k'>1:</span><span class='ee-v'>502</span></li></ul></li><li><label class='ee-shut'>origin: [3448, 1628]<input type='checkbox' class='ee-toggle'></label><ul><li><span class='ee-k'>0:</span><span class='ee-v'>3448</span></li><li><span class='ee-k'>1:</span><span class='ee-v'>1628</span></li></ul></li></ul></li><li><label class='ee-shut'>16: \"VZA\", signed int16, EPSG:32619, 503x502 px<input type='checkbox' class='ee-toggle'></label><ul><li><span class='ee-k'>id:</span><span class='ee-v'>VZA</span></li><li><span class='ee-k'>crs:</span><span class='ee-v'>EPSG:32619</span></li><li><label class='ee-shut'>crs_transform: [30, 0, 192285, 0, -30, -1483485]<input type='checkbox' class='ee-toggle'></label><ul><li><span class='ee-k'>0:</span><span class='ee-v'>30</span></li><li><span class='ee-k'>1:</span><span class='ee-v'>0</span></li><li><span class='ee-k'>2:</span><span class='ee-v'>192285</span></li><li><span class='ee-k'>3:</span><span class='ee-v'>0</span></li><li><span class='ee-k'>4:</span><span class='ee-v'>-30</span></li><li><span class='ee-k'>5:</span><span class='ee-v'>-1483485</span></li></ul></li><li><label class='ee-shut'>data_type: signed int16<input type='checkbox' class='ee-toggle'></label><ul><li><span class='ee-k'>type:</span><span class='ee-v'>PixelType</span></li><li><span class='ee-k'>max:</span><span class='ee-v'>32767</span></li><li><span class='ee-k'>min:</span><span class='ee-v'>-32768</span></li><li><span class='ee-k'>precision:</span><span class='ee-v'>int</span></li></ul></li><li><label class='ee-shut'>dimensions: [503, 502]<input type='checkbox' class='ee-toggle'></label><ul><li><span class='ee-k'>0:</span><span class='ee-v'>503</span></li><li><span class='ee-k'>1:</span><span class='ee-v'>502</span></li></ul></li><li><label class='ee-shut'>origin: [3448, 1628]<input type='checkbox' class='ee-toggle'></label><ul><li><span class='ee-k'>0:</span><span class='ee-v'>3448</span></li><li><span class='ee-k'>1:</span><span class='ee-v'>1628</span></li></ul></li></ul></li></ul></li><li><label class='ee-shut'>properties: Object (112 properties)<input type='checkbox' class='ee-toggle'></label><ul><li><span class='ee-k'>CLOUD_COVER:</span><span class='ee-v'>0.29</span></li><li><span class='ee-k'>CLOUD_COVER_LAND:</span><span class='ee-v'>0.29</span></li><li><span class='ee-k'>COLLECTION_CATEGORY:</span><span class='ee-v'>T1</span></li><li><span class='ee-k'>COLLECTION_NUMBER:</span><span class='ee-v'>2</span></li><li><span class='ee-k'>DATA_SOURCE_ELEVATION:</span><span class='ee-v'>GLS2000</span></li><li><span class='ee-k'>DATA_SOURCE_TIRS_STRAY_LIGHT_CORRECTION:</span><span class='ee-v'>TIRS</span></li><li><span class='ee-k'>DATE_ACQUIRED:</span><span class='ee-v'>2023-07-02</span></li><li><span class='ee-k'>DATE_PRODUCT_GENERATED:</span><span class='ee-v'>1689088042000</span></li><li><span class='ee-k'>DATUM:</span><span class='ee-v'>WGS84</span></li><li><span class='ee-k'>EARTH_SUN_DISTANCE:</span><span class='ee-v'>1.0166502</span></li><li><span class='ee-k'>ELLIPSOID:</span><span class='ee-v'>WGS84</span></li><li><span class='ee-k'>GEOMETRIC_RMSE_MODEL:</span><span class='ee-v'>3.482</span></li><li><span class='ee-k'>GEOMETRIC_RMSE_MODEL_X:</span><span class='ee-v'>2.494</span></li><li><span class='ee-k'>GEOMETRIC_RMSE_MODEL_Y:</span><span class='ee-v'>2.429</span></li><li><span class='ee-k'>GEOMETRIC_RMSE_VERIFY:</span><span class='ee-v'>2.261</span></li><li><span class='ee-k'>GRID_CELL_SIZE_PANCHROMATIC:</span><span class='ee-v'>15</span></li><li><span class='ee-k'>GRID_CELL_SIZE_REFLECTIVE:</span><span class='ee-v'>30</span></li><li><span class='ee-k'>GRID_CELL_SIZE_THERMAL:</span><span class='ee-v'>30</span></li><li><span class='ee-k'>GROUND_CONTROL_POINTS_MODEL:</span><span class='ee-v'>928</span></li><li><span class='ee-k'>GROUND_CONTROL_POINTS_VERIFY:</span><span class='ee-v'>282</span></li><li><span class='ee-k'>GROUND_CONTROL_POINTS_VERSION:</span><span class='ee-v'>5</span></li><li><span class='ee-k'>IMAGE_QUALITY_OLI:</span><span class='ee-v'>9</span></li><li><span class='ee-k'>IMAGE_QUALITY_TIRS:</span><span class='ee-v'>9</span></li><li><span class='ee-k'>K1_CONSTANT_BAND_10:</span><span class='ee-v'>774.8853</span></li><li><span class='ee-k'>K1_CONSTANT_BAND_11:</span><span class='ee-v'>480.8883</span></li><li><span class='ee-k'>K2_CONSTANT_BAND_10:</span><span class='ee-v'>1321.0789</span></li><li><span class='ee-k'>K2_CONSTANT_BAND_11:</span><span class='ee-v'>1201.1442</span></li><li><span class='ee-k'>LANDSAT_PRODUCT_ID:</span><span class='ee-v'>LC08_L1TP_003070_20230702_20230711_02_T1</span></li><li><span class='ee-k'>LANDSAT_SCENE_ID:</span><span class='ee-v'>LC80030702023183LGN00</span></li><li><span class='ee-k'>MAP_PROJECTION:</span><span class='ee-v'>UTM</span></li><li><span class='ee-k'>NADIR_OFFNADIR:</span><span class='ee-v'>NADIR</span></li><li><span class='ee-k'>ORIENTATION:</span><span class='ee-v'>NORTH_UP</span></li><li><span class='ee-k'>PANCHROMATIC_LINES:</span><span class='ee-v'>15441</span></li><li><span class='ee-k'>PANCHROMATIC_SAMPLES:</span><span class='ee-v'>15181</span></li><li><span class='ee-k'>PROCESSING_LEVEL:</span><span class='ee-v'>L1TP</span></li><li><span class='ee-k'>PROCESSING_SOFTWARE_VERSION:</span><span class='ee-v'>LPGS_16.3.0</span></li><li><span class='ee-k'>RADIANCE_ADD_BAND_1:</span><span class='ee-v'>-60.73929</span></li><li><span class='ee-k'>RADIANCE_ADD_BAND_10:</span><span class='ee-v'>0.1</span></li><li><span class='ee-k'>RADIANCE_ADD_BAND_11:</span><span class='ee-v'>0.1</span></li><li><span class='ee-k'>RADIANCE_ADD_BAND_2:</span><span class='ee-v'>-62.19778</span></li><li><span class='ee-k'>RADIANCE_ADD_BAND_3:</span><span class='ee-v'>-57.31472</span></li><li><span class='ee-k'>RADIANCE_ADD_BAND_4:</span><span class='ee-v'>-48.331</span></li><li><span class='ee-k'>RADIANCE_ADD_BAND_5:</span><span class='ee-v'>-29.57616</span></li><li><span class='ee-k'>RADIANCE_ADD_BAND_6:</span><span class='ee-v'>-7.35532</span></li><li><span class='ee-k'>RADIANCE_ADD_BAND_7:</span><span class='ee-v'>-2.47914</span></li><li><span class='ee-k'>RADIANCE_ADD_BAND_8:</span><span class='ee-v'>-54.69739</span></li><li><span class='ee-k'>RADIANCE_ADD_BAND_9:</span><span class='ee-v'>-11.55903</span></li><li><span class='ee-k'>RADIANCE_MULT_BAND_1:</span><span class='ee-v'>0.012148</span></li><li><span class='ee-k'>RADIANCE_MULT_BAND_10:</span><span class='ee-v'>0.0003342</span></li><li><span class='ee-k'>RADIANCE_MULT_BAND_11:</span><span class='ee-v'>0.0003342</span></li><li><span class='ee-k'>RADIANCE_MULT_BAND_2:</span><span class='ee-v'>0.01244</span></li><li><span class='ee-k'>RADIANCE_MULT_BAND_3:</span><span class='ee-v'>0.011463</span></li><li><span class='ee-k'>RADIANCE_MULT_BAND_4:</span><span class='ee-v'>0.0096662</span></li><li><span class='ee-k'>RADIANCE_MULT_BAND_5:</span><span class='ee-v'>0.0059152</span></li><li><span class='ee-k'>RADIANCE_MULT_BAND_6:</span><span class='ee-v'>0.0014711</span></li><li><span class='ee-k'>RADIANCE_MULT_BAND_7:</span><span class='ee-v'>0.00049583</span></li><li><span class='ee-k'>RADIANCE_MULT_BAND_8:</span><span class='ee-v'>0.010939</span></li><li><span class='ee-k'>RADIANCE_MULT_BAND_9:</span><span class='ee-v'>0.0023118</span></li><li><span class='ee-k'>REFLECTANCE_ADD_BAND_1:</span><span class='ee-v'>-0.1</span></li><li><span class='ee-k'>REFLECTANCE_ADD_BAND_2:</span><span class='ee-v'>-0.1</span></li><li><span class='ee-k'>REFLECTANCE_ADD_BAND_3:</span><span class='ee-v'>-0.1</span></li><li><span class='ee-k'>REFLECTANCE_ADD_BAND_4:</span><span class='ee-v'>-0.1</span></li><li><span class='ee-k'>REFLECTANCE_ADD_BAND_5:</span><span class='ee-v'>-0.1</span></li><li><span class='ee-k'>REFLECTANCE_ADD_BAND_6:</span><span class='ee-v'>-0.1</span></li><li><span class='ee-k'>REFLECTANCE_ADD_BAND_7:</span><span class='ee-v'>-0.1</span></li><li><span class='ee-k'>REFLECTANCE_ADD_BAND_8:</span><span class='ee-v'>-0.1</span></li><li><span class='ee-k'>REFLECTANCE_ADD_BAND_9:</span><span class='ee-v'>-0.1</span></li><li><span class='ee-k'>REFLECTANCE_MULT_BAND_1:</span><span class='ee-v'>2e-05</span></li><li><span class='ee-k'>REFLECTANCE_MULT_BAND_2:</span><span class='ee-v'>2e-05</span></li><li><span class='ee-k'>REFLECTANCE_MULT_BAND_3:</span><span class='ee-v'>2e-05</span></li><li><span class='ee-k'>REFLECTANCE_MULT_BAND_4:</span><span class='ee-v'>2e-05</span></li><li><span class='ee-k'>REFLECTANCE_MULT_BAND_5:</span><span class='ee-v'>2e-05</span></li><li><span class='ee-k'>REFLECTANCE_MULT_BAND_6:</span><span class='ee-v'>2e-05</span></li><li><span class='ee-k'>REFLECTANCE_MULT_BAND_7:</span><span class='ee-v'>2e-05</span></li><li><span class='ee-k'>REFLECTANCE_MULT_BAND_8:</span><span class='ee-v'>2e-05</span></li><li><span class='ee-k'>REFLECTANCE_MULT_BAND_9:</span><span class='ee-v'>2e-05</span></li><li><span class='ee-k'>REFLECTIVE_LINES:</span><span class='ee-v'>7721</span></li><li><span class='ee-k'>REFLECTIVE_SAMPLES:</span><span class='ee-v'>7591</span></li><li><span class='ee-k'>REQUEST_ID:</span><span class='ee-v'>1757284_00024</span></li><li><span class='ee-k'>RESAMPLING_OPTION:</span><span class='ee-v'>CUBIC_CONVOLUTION</span></li><li><span class='ee-k'>ROLL_ANGLE:</span><span class='ee-v'>-0.001</span></li><li><span class='ee-k'>SATURATION_BAND_1:</span><span class='ee-v'>N</span></li><li><span class='ee-k'>SATURATION_BAND_2:</span><span class='ee-v'>N</span></li><li><span class='ee-k'>SATURATION_BAND_3:</span><span class='ee-v'>N</span></li><li><span class='ee-k'>SATURATION_BAND_4:</span><span class='ee-v'>N</span></li><li><span class='ee-k'>SATURATION_BAND_5:</span><span class='ee-v'>N</span></li><li><span class='ee-k'>SATURATION_BAND_6:</span><span class='ee-v'>N</span></li><li><span class='ee-k'>SATURATION_BAND_7:</span><span class='ee-v'>Y</span></li><li><span class='ee-k'>SATURATION_BAND_8:</span><span class='ee-v'>N</span></li><li><span class='ee-k'>SATURATION_BAND_9:</span><span class='ee-v'>N</span></li><li><span class='ee-k'>SCENE_CENTER_TIME:</span><span class='ee-v'>14:46:39.3320200Z</span></li><li><span class='ee-k'>SENSOR_ID:</span><span class='ee-v'>OLI_TIRS</span></li><li><span class='ee-k'>SPACECRAFT_ID:</span><span class='ee-v'>LANDSAT_8</span></li><li><span class='ee-k'>STATION_ID:</span><span class='ee-v'>LGN</span></li><li><span class='ee-k'>SUN_AZIMUTH:</span><span class='ee-v'>38.68198852</span></li><li><span class='ee-k'>SUN_ELEVATION:</span><span class='ee-v'>42.29489784</span></li><li><span class='ee-k'>TARGET_WRS_PATH:</span><span class='ee-v'>3</span></li><li><span class='ee-k'>TARGET_WRS_ROW:</span><span class='ee-v'>70</span></li><li><span class='ee-k'>THERMAL_LINES:</span><span class='ee-v'>7721</span></li><li><span class='ee-k'>THERMAL_SAMPLES:</span><span class='ee-v'>7591</span></li><li><span class='ee-k'>TIRS_SSM_MODEL:</span><span class='ee-v'>FINAL</span></li><li><span class='ee-k'>TIRS_SSM_POSITION_STATUS:</span><span class='ee-v'>ESTIMATED</span></li><li><span class='ee-k'>TRUNCATION_OLI:</span><span class='ee-v'>UPPER</span></li><li><span class='ee-k'>UTM_ZONE:</span><span class='ee-v'>19</span></li><li><span class='ee-k'>WRS_PATH:</span><span class='ee-v'>3</span></li><li><span class='ee-k'>WRS_ROW:</span><span class='ee-v'>70</span></li><li><span class='ee-k'>WRS_TYPE:</span><span class='ee-v'>2</span></li><li><span class='ee-k'>system:asset_size:</span><span class='ee-v'>1306464292</span></li><li><label class='ee-shut'>system:footprint: Polygon (11 vertices)<input type='checkbox' class='ee-toggle'></label><ul><li><span class='ee-k'>type:</span><span class='ee-v'>Polygon</span></li><li><label class='ee-shut'>coordinates: List (1 element)<input type='checkbox' class='ee-toggle'></label><ul><li><label class='ee-shut'>0: List (11 elements)<input type='checkbox' class='ee-toggle'></label><ul><li><label class='ee-shut'>0: [-70.88997069406413, -13.989465550599332]<input type='checkbox' class='ee-toggle'></label><ul><li><span class='ee-k'>0:</span><span class='ee-v'>-70.88997069406413</span></li><li><span class='ee-k'>1:</span><span class='ee-v'>-13.989465550599332</span></li></ul></li><li><label class='ee-shut'>1: [-70.85543175952773, -13.989465550599332]<input type='checkbox' class='ee-toggle'></label><ul><li><span class='ee-k'>0:</span><span class='ee-v'>-70.85543175952773</span></li><li><span class='ee-k'>1:</span><span class='ee-v'>-13.989465550599332</span></li></ul></li><li><label class='ee-shut'>2: [-70.82089282499133, -13.98946555059933]<input type='checkbox' class='ee-toggle'></label><ul><li><span class='ee-k'>0:</span><span class='ee-v'>-70.82089282499133</span></li><li><span class='ee-k'>1:</span><span class='ee-v'>-13.98946555059933</span></li></ul></li><li><label class='ee-shut'>3: [-70.78635389045493, -13.98946555059933]<input type='checkbox' class='ee-toggle'></label><ul><li><span class='ee-k'>0:</span><span class='ee-v'>-70.78635389045493</span></li><li><span class='ee-k'>1:</span><span class='ee-v'>-13.98946555059933</span></li></ul></li><li><label class='ee-shut'>4: [-70.75181495591853, -13.989465550599332]<input type='checkbox' class='ee-toggle'></label><ul><li><span class='ee-k'>0:</span><span class='ee-v'>-70.75181495591853</span></li><li><span class='ee-k'>1:</span><span class='ee-v'>-13.989465550599332</span></li></ul></li><li><label class='ee-shut'>5: [-70.75181495591853, -13.85450850536386]<input type='checkbox' class='ee-toggle'></label><ul><li><span class='ee-k'>0:</span><span class='ee-v'>-70.75181495591853</span></li><li><span class='ee-k'>1:</span><span class='ee-v'>-13.85450850536386</span></li></ul></li><li><label class='ee-shut'>6: [-70.78635389045493, -13.85450850536386]<input type='checkbox' class='ee-toggle'></label><ul><li><span class='ee-k'>0:</span><span class='ee-v'>-70.78635389045493</span></li><li><span class='ee-k'>1:</span><span class='ee-v'>-13.85450850536386</span></li></ul></li><li><label class='ee-shut'>7: [-70.82089282499133, -13.85450850536386]<input type='checkbox' class='ee-toggle'></label><ul><li><span class='ee-k'>0:</span><span class='ee-v'>-70.82089282499133</span></li><li><span class='ee-k'>1:</span><span class='ee-v'>-13.85450850536386</span></li></ul></li><li><label class='ee-shut'>8: [-70.85543175952773, -13.85450850536386]<input type='checkbox' class='ee-toggle'></label><ul><li><span class='ee-k'>0:</span><span class='ee-v'>-70.85543175952773</span></li><li><span class='ee-k'>1:</span><span class='ee-v'>-13.85450850536386</span></li></ul></li><li><label class='ee-shut'>9: [-70.88997069406413, -13.85450850536386]<input type='checkbox' class='ee-toggle'></label><ul><li><span class='ee-k'>0:</span><span class='ee-v'>-70.88997069406413</span></li><li><span class='ee-k'>1:</span><span class='ee-v'>-13.85450850536386</span></li></ul></li><li><label class='ee-shut'>10: [-70.88997069406413, -13.989465550599332]<input type='checkbox' class='ee-toggle'></label><ul><li><span class='ee-k'>0:</span><span class='ee-v'>-70.88997069406413</span></li><li><span class='ee-k'>1:</span><span class='ee-v'>-13.989465550599332</span></li></ul></li></ul></li></ul></li></ul></li><li><span class='ee-k'>system:index:</span><span class='ee-v'>LC08_003070_20230702</span></li><li><span class='ee-k'>system:time_end:</span><span class='ee-v'>1688309199332</span></li><li><span class='ee-k'>system:time_start:</span><span class='ee-v'>1688309199332</span></li></ul></li></ul></li></ul></div><script>function toggleHeader() {\n",
              "    const parent = this.parentElement;\n",
              "    parent.className = parent.className === \"ee-open\" ? \"ee-shut\" : \"ee-open\";\n",
              "}\n",
              "\n",
              "for (let c of document.getElementsByClassName(\"ee-toggle\")) {\n",
              "    c.onclick = toggleHeader;\n",
              "}</script></div>"
            ]
          },
          "metadata": {},
          "execution_count": 5
        }
      ],
      "source": [
        "# Get Landsat 8 image collection\n",
        "landsat8_collection = ee.ImageCollection(\"LANDSAT/LC08/C02/T1_TOA\")\n",
        "\n",
        "# Filter to desired region and date bounds\n",
        "landsat8_collection = landsat8_collection.filterBounds(region)\n",
        "landsat8_collection = landsat8_collection.filterDate(date_start, date_end)\n",
        "\n",
        "# Get the least cloudy image in the collection, and clip it to our search region\n",
        "image = landsat8_collection.sort('CLOUD_COVER').first()\n",
        "image = image.clip(region)\n",
        "\n",
        "image"
      ]
    },
    {
      "cell_type": "markdown",
      "id": "289287fd-7e82-44ea-b1db-dd47b7776d27",
      "metadata": {
        "id": "289287fd-7e82-44ea-b1db-dd47b7776d27"
      },
      "source": [
        "And below, we visualise it to make sure it's good quality. Note I have increased the `max_reflectance` value to 0.8, so that we can see features of the snow and ice. This has the side effect of making the bare ground look much darker."
      ]
    },
    {
      "cell_type": "code",
      "execution_count": 7,
      "id": "f99d39b9-b7ec-4953-82ca-e9599e309e5e",
      "metadata": {
        "id": "f99d39b9-b7ec-4953-82ca-e9599e309e5e",
        "outputId": "4c0bd1da-0ab1-495f-d6b4-b16ccbf5b1c7",
        "colab": {
          "base_uri": "https://localhost:8080/",
          "height": 621,
          "referenced_widgets": [
            "dd24ca5e6e034379a72279c01d82d260",
            "90a7f3c1c44345e48c22fa44c086f85e",
            "8dd85688cb524925ac375790110f902c",
            "46f30d0802c3429ab94c9c2224e617a8",
            "e2091141c15240a6b421d0b7b06050df",
            "3c9d090bc99d4c5ea58f0fbdf075be1f",
            "b740eab8cb08405aa4490b145df5aeaa",
            "fb3975e0559e4684b443c0a3333aa74b",
            "8c9c6417d3bd4cc6b0d13bc5e2a132aa",
            "1a31c4e724374d248a7b041843ec5445",
            "1e2dd82077354975be746a78e3746946",
            "66ee21c55f9347a59a9ebb68038c6fd5",
            "55dd0cb2fce94af0b1632868165d58d1",
            "9dd1a6d5e86f4bffbc112178f2c62608",
            "c849b8045a124ba080e4765e678e4c76",
            "9a534e83d3944da0bc5222026ad47eb5",
            "b74bad1ea43e46b7baaddc2fd8b33242",
            "03b03da92c4445f4861a604b20d32fd1",
            "6850470ef0c74c129a24f88d609a7056",
            "e5b4708d005348838eaf60a7a6f9e285",
            "7e53cec752984f828465d7c1665e3af4",
            "1420f8f9ce844292885d32ad897273b9",
            "1824ea9657db4ba8ad1c6df0739d99ff",
            "6f61fa0220cd44ef8fa8742a58df3773",
            "5ace7aa3b2a942c79c10808a68bf769d"
          ]
        }
      },
      "outputs": [
        {
          "output_type": "display_data",
          "data": {
            "text/plain": [
              "<IPython.core.display.HTML object>"
            ],
            "text/html": [
              "\n",
              "            <style>\n",
              "                .geemap-dark {\n",
              "                    --jp-widgets-color: white;\n",
              "                    --jp-widgets-label-color: white;\n",
              "                    --jp-ui-font-color1: white;\n",
              "                    --jp-layout-color2: #454545;\n",
              "                    background-color: #383838;\n",
              "                }\n",
              "                    \n",
              "                .geemap-dark .jupyter-button {\n",
              "                    --jp-layout-color3: #383838;\n",
              "                }\n",
              "                \n",
              "                .geemap-colab {\n",
              "                    background-color: var(--colab-primary-surface-color, white);\n",
              "                }\n",
              "                    \n",
              "                .geemap-colab .jupyter-button {\n",
              "                    --jp-layout-color3: var(--colab-primary-surface-color, white);\n",
              "                }\n",
              "            </style>\n",
              "            "
            ]
          },
          "metadata": {}
        },
        {
          "output_type": "display_data",
          "data": {
            "text/plain": [
              "Map(center=[-13.921983704624434, -70.82089282499103], controls=(WidgetControl(options=['position', 'transparen…"
            ],
            "application/vnd.jupyter.widget-view+json": {
              "version_major": 2,
              "version_minor": 0,
              "model_id": "dd24ca5e6e034379a72279c01d82d260"
            }
          },
          "metadata": {
            "application/vnd.jupyter.widget-view+json": {
              "colab": {
                "custom_widget_manager": {
                  "url": "https://ssl.gstatic.com/colaboratory-static/widgets/colab-cdn-widget-manager/b3e629b1971e1542/manager.min.js"
                }
              }
            }
          }
        }
      ],
      "source": [
        "\n",
        "Map = geemap.Map()  # Create empty map\n",
        "\n",
        "max_reflectance = 0.80 # Set the upper limit of reflectance to visualise.\n",
        "                       # Play with this value (between 0-1) to see what it\n",
        "                       # does. It will need to be higher for snowy/icy\n",
        "                       # scenes\n",
        "\n",
        "visParams = {'bands': ['B4', 'B3', 'B2'], 'max': max_reflectance}\n",
        "Map.addLayer(image, visParams, 'Colour Composite Image')\n",
        "\n",
        "Map.centerObject(region, zoom=12)\n",
        "Map"
      ]
    },
    {
      "cell_type": "markdown",
      "id": "d06b6253-d87a-4688-8a1d-55975cc2d09f",
      "metadata": {
        "id": "d06b6253-d87a-4688-8a1d-55975cc2d09f"
      },
      "source": [
        "# Calculating a normalised difference index"
      ]
    },
    {
      "cell_type": "markdown",
      "id": "562d72b5-0816-4ecb-8bae-6f3e8e400df6",
      "metadata": {
        "id": "562d72b5-0816-4ecb-8bae-6f3e8e400df6"
      },
      "source": [
        "Recall from the lecture slides last week that a normalised difference index takes the form\n",
        "\n",
        "$$NDI = \\frac{r_{high} - r_{low}}{r_{high} + r_{low}}$$\n",
        "\n",
        "Where $r_{high}$ is a band that has characteristically high reflectance for our surface of interest, and $r_{low}$ has characteristically low reflectance. From this principle, there are a number of useful normalised difference indices we can use (and more I'm sure you can find):\n",
        "\n",
        "| Name | Equation |\n",
        "| ---- | -------- |\n",
        "| Normalised Difference Vegetation Index | $$NDVI = \\frac{NIR_{B5} - Red_{B4}}{NIR_{B5} + Red_{B4}}$$ |\n",
        "| Normalised Difference Snow Index | $$NDSI = \\frac{Green_{B3} - SWIR_{B6}}{Green_{B3} + SWIR_{B6}}$$ |\n",
        "| Normalised Difference Water Index | $$NDWI = \\frac{Green_{B3} - NIR_{B5}}{Green_{B3} + NIR_{B5}}$$ |\n",
        "| Normalised Difference Built-up Index | $$NDBI = \\frac{SWIR_{B6} - NIR_{B5}}{SWIR_{B6} + NIR_{B5}}$$ |\n",
        "| Normalised Difference Snow Index (ice) | $$NDWI_{ice} = \\frac{Red_{B4} - Blue_{B2}}{Red_{B4} + Blue_{B2}}$$ |\n",
        "| Normalised Burn Ratio | $$NBR = \\frac{NIR_{B05} - SWIR_{B6}}{NIR_{B5} + SWIR_{B6}}$$ |\n",
        "\n",
        "I have included the relevant Landsat 8/9 bands as subscript in the equations - note this won't be the same if you start using, e.g., Landsat 1-7 or Sentinel-2 in the future.\n",
        "\n",
        "Google Earth Engine has a [fantastically useful function](https://developers.google.com/earth-engine/apidocs/ee-image-normalizeddifference) to help us simplify this: `ee.Image.normalizedDifference(['r_high', 'r_low'])` (note the American spelling of 'normalized'). This takes the name of two bands - $r_{high}$ and $r_{low}$ - and produces an NDI product.\n",
        "\n",
        "All we have to do is make sure we know the correct names of the bands, which are as follows (they are also listed, with detailed information, [here](https://developers.google.com/earth-engine/datasets/catalog/LANDSAT_LC08_C02_T1_TOA#bands):"
      ]
    },
    {
      "cell_type": "code",
      "execution_count": 8,
      "id": "7b736007-2857-4cc0-a97c-043d818cdc8e",
      "metadata": {
        "id": "7b736007-2857-4cc0-a97c-043d818cdc8e",
        "outputId": "4759e2a7-5542-4a4c-93d9-4da8a7b861ae",
        "colab": {
          "base_uri": "https://localhost:8080/",
          "height": 321
        }
      },
      "outputs": [
        {
          "output_type": "display_data",
          "data": {
            "text/plain": [
              "<IPython.core.display.HTML object>"
            ],
            "text/html": [
              "\n",
              "            <style>\n",
              "                .geemap-dark {\n",
              "                    --jp-widgets-color: white;\n",
              "                    --jp-widgets-label-color: white;\n",
              "                    --jp-ui-font-color1: white;\n",
              "                    --jp-layout-color2: #454545;\n",
              "                    background-color: #383838;\n",
              "                }\n",
              "                    \n",
              "                .geemap-dark .jupyter-button {\n",
              "                    --jp-layout-color3: #383838;\n",
              "                }\n",
              "                \n",
              "                .geemap-colab {\n",
              "                    background-color: var(--colab-primary-surface-color, white);\n",
              "                }\n",
              "                    \n",
              "                .geemap-colab .jupyter-button {\n",
              "                    --jp-layout-color3: var(--colab-primary-surface-color, white);\n",
              "                }\n",
              "            </style>\n",
              "            "
            ]
          },
          "metadata": {}
        },
        {
          "output_type": "execute_result",
          "data": {
            "text/plain": [
              "['B1',\n",
              " 'B2',\n",
              " 'B3',\n",
              " 'B4',\n",
              " 'B5',\n",
              " 'B6',\n",
              " 'B7',\n",
              " 'B8',\n",
              " 'B9',\n",
              " 'B10',\n",
              " 'B11',\n",
              " 'QA_PIXEL',\n",
              " 'QA_RADSAT',\n",
              " 'SAA',\n",
              " 'SZA',\n",
              " 'VAA',\n",
              " 'VZA']"
            ]
          },
          "metadata": {},
          "execution_count": 8
        }
      ],
      "source": [
        "image.bandNames().getInfo()"
      ]
    },
    {
      "cell_type": "markdown",
      "id": "96f9e518-88d2-4fca-96ec-d7fe5e4ed652",
      "metadata": {
        "id": "96f9e518-88d2-4fca-96ec-d7fe5e4ed652"
      },
      "source": [
        "As we're currently looking at an ice cap, it makes sense to calculate NDSI for now. Consulting the table above, this means using the green band (band 3) and the short-wave infrared (SWIR) band (band 6). Let's do this now:"
      ]
    },
    {
      "cell_type": "code",
      "execution_count": 9,
      "id": "318f7f8c-2bef-4873-8593-b7507e7e4d82",
      "metadata": {
        "id": "318f7f8c-2bef-4873-8593-b7507e7e4d82",
        "outputId": "9e941b5c-421c-41ea-e1f6-20220910b841",
        "colab": {
          "base_uri": "https://localhost:8080/",
          "height": 68
        }
      },
      "outputs": [
        {
          "output_type": "display_data",
          "data": {
            "text/plain": [
              "<IPython.core.display.HTML object>"
            ],
            "text/html": [
              "\n",
              "            <style>\n",
              "                .geemap-dark {\n",
              "                    --jp-widgets-color: white;\n",
              "                    --jp-widgets-label-color: white;\n",
              "                    --jp-ui-font-color1: white;\n",
              "                    --jp-layout-color2: #454545;\n",
              "                    background-color: #383838;\n",
              "                }\n",
              "                    \n",
              "                .geemap-dark .jupyter-button {\n",
              "                    --jp-layout-color3: #383838;\n",
              "                }\n",
              "                \n",
              "                .geemap-colab {\n",
              "                    background-color: var(--colab-primary-surface-color, white);\n",
              "                }\n",
              "                    \n",
              "                .geemap-colab .jupyter-button {\n",
              "                    --jp-layout-color3: var(--colab-primary-surface-color, white);\n",
              "                }\n",
              "            </style>\n",
              "            "
            ]
          },
          "metadata": {}
        },
        {
          "output_type": "execute_result",
          "data": {
            "text/plain": [
              "<ee.image.Image at 0x7d5ff70bef20>"
            ],
            "text/html": [
              "<div><style>:root {\n",
              "  --font-color-primary: var(--jp-content-font-color0, rgba(0, 0, 0, 1));\n",
              "  --font-color-secondary: var(--jp-content-font-color2, rgba(0, 0, 0, 0.6));\n",
              "  --font-color-accent: rgba(123, 31, 162, 1);\n",
              "  --border-color: var(--jp-border-color2, #e0e0e0);\n",
              "  --background-color: var(--jp-layout-color0, white);\n",
              "  --background-color-row-even: var(--jp-layout-color1, white);\n",
              "  --background-color-row-odd: var(--jp-layout-color2, #eeeeee);\n",
              "}\n",
              "\n",
              "html[theme=\"dark\"],\n",
              "body[data-theme=\"dark\"],\n",
              "body.vscode-dark {\n",
              "  --font-color-primary: rgba(255, 255, 255, 1);\n",
              "  --font-color-secondary: rgba(255, 255, 255, 0.6);\n",
              "  --font-color-accent: rgb(173, 132, 190);\n",
              "  --border-color: #2e2e2e;\n",
              "  --background-color: #111111;\n",
              "  --background-color-row-even: #111111;\n",
              "  --background-color-row-odd: #313131;\n",
              "}\n",
              "\n",
              ".ee {\n",
              "  padding: 1em;\n",
              "  line-height: 1.5em;\n",
              "  min-width: 300px;\n",
              "  max-width: 1200px;\n",
              "  overflow-y: scroll;\n",
              "  max-height: 600px;\n",
              "  border: 1px solid var(--border-color);\n",
              "  font-family: monospace;\n",
              "}\n",
              "\n",
              ".ee li {\n",
              "  list-style-type: none;\n",
              "}\n",
              "\n",
              ".ee ul {\n",
              "  padding-left: 1.5em !important;\n",
              "  margin: 0;\n",
              "}\n",
              "\n",
              ".ee > ul {\n",
              "  padding-left: 0 !important;\n",
              "}\n",
              "\n",
              ".ee-open,\n",
              ".ee-shut {\n",
              "  color: var(--font-color-secondary);\n",
              "  cursor: pointer;\n",
              "  margin: 0;\n",
              "}\n",
              "\n",
              ".ee-open:hover,\n",
              ".ee-shut:hover {\n",
              "  color: var(--font-color-primary);\n",
              "}\n",
              "\n",
              ".ee-k {\n",
              "  color: var(--font-color-accent);\n",
              "  margin-right: 6px;\n",
              "}\n",
              "\n",
              ".ee-v {\n",
              "  color: var(--font-color-primary);\n",
              "}\n",
              "\n",
              ".ee-toggle {\n",
              "  display: none;\n",
              "}\n",
              "\n",
              ".ee-shut + ul {\n",
              "  display: none;\n",
              "}\n",
              "\n",
              ".ee-open + ul {\n",
              "  display: block;\n",
              "}\n",
              "\n",
              ".ee-shut::before {\n",
              "  display: inline-block;\n",
              "  content: \"▼\";\n",
              "  margin-right: 6px;\n",
              "  transform: rotate(-90deg);\n",
              "  transition: transform 0.2s;\n",
              "}\n",
              "\n",
              ".ee-open::before {\n",
              "  transform: rotate(0deg);\n",
              "  display: inline-block;\n",
              "  content: \"▼\";\n",
              "  margin-right: 6px;\n",
              "  transition: transform 0.2s;\n",
              "}\n",
              "</style><div class='ee'><ul><li><label class='ee-shut'>Image (1 band)<input type='checkbox' class='ee-toggle'></label><ul><li><span class='ee-k'>type:</span><span class='ee-v'>Image</span></li><li><label class='ee-shut'>bands: List (1 element)<input type='checkbox' class='ee-toggle'></label><ul><li><label class='ee-shut'>0: \"NDSI\", float, EPSG:32619, 503x502 px<input type='checkbox' class='ee-toggle'></label><ul><li><span class='ee-k'>id:</span><span class='ee-v'>NDSI</span></li><li><span class='ee-k'>crs:</span><span class='ee-v'>EPSG:32619</span></li><li><label class='ee-shut'>crs_transform: [30, 0, 192285, 0, -30, -1483485]<input type='checkbox' class='ee-toggle'></label><ul><li><span class='ee-k'>0:</span><span class='ee-v'>30</span></li><li><span class='ee-k'>1:</span><span class='ee-v'>0</span></li><li><span class='ee-k'>2:</span><span class='ee-v'>192285</span></li><li><span class='ee-k'>3:</span><span class='ee-v'>0</span></li><li><span class='ee-k'>4:</span><span class='ee-v'>-30</span></li><li><span class='ee-k'>5:</span><span class='ee-v'>-1483485</span></li></ul></li><li><label class='ee-shut'>data_type: float<input type='checkbox' class='ee-toggle'></label><ul><li><span class='ee-k'>type:</span><span class='ee-v'>PixelType</span></li><li><span class='ee-k'>max:</span><span class='ee-v'>1</span></li><li><span class='ee-k'>min:</span><span class='ee-v'>-1</span></li><li><span class='ee-k'>precision:</span><span class='ee-v'>float</span></li></ul></li><li><label class='ee-shut'>dimensions: [503, 502]<input type='checkbox' class='ee-toggle'></label><ul><li><span class='ee-k'>0:</span><span class='ee-v'>503</span></li><li><span class='ee-k'>1:</span><span class='ee-v'>502</span></li></ul></li><li><label class='ee-shut'>origin: [3448, 1628]<input type='checkbox' class='ee-toggle'></label><ul><li><span class='ee-k'>0:</span><span class='ee-v'>3448</span></li><li><span class='ee-k'>1:</span><span class='ee-v'>1628</span></li></ul></li></ul></li></ul></li><li><label class='ee-shut'>properties: Object (1 property)<input type='checkbox' class='ee-toggle'></label><ul><li><label class='ee-shut'>system:footprint: Polygon (11 vertices)<input type='checkbox' class='ee-toggle'></label><ul><li><span class='ee-k'>type:</span><span class='ee-v'>Polygon</span></li><li><label class='ee-shut'>coordinates: List (1 element)<input type='checkbox' class='ee-toggle'></label><ul><li><label class='ee-shut'>0: List (11 elements)<input type='checkbox' class='ee-toggle'></label><ul><li><label class='ee-shut'>0: [-70.88997069406413, -13.989465550599332]<input type='checkbox' class='ee-toggle'></label><ul><li><span class='ee-k'>0:</span><span class='ee-v'>-70.88997069406413</span></li><li><span class='ee-k'>1:</span><span class='ee-v'>-13.989465550599332</span></li></ul></li><li><label class='ee-shut'>1: [-70.85543175952773, -13.989465550599332]<input type='checkbox' class='ee-toggle'></label><ul><li><span class='ee-k'>0:</span><span class='ee-v'>-70.85543175952773</span></li><li><span class='ee-k'>1:</span><span class='ee-v'>-13.989465550599332</span></li></ul></li><li><label class='ee-shut'>2: [-70.82089282499133, -13.98946555059933]<input type='checkbox' class='ee-toggle'></label><ul><li><span class='ee-k'>0:</span><span class='ee-v'>-70.82089282499133</span></li><li><span class='ee-k'>1:</span><span class='ee-v'>-13.98946555059933</span></li></ul></li><li><label class='ee-shut'>3: [-70.78635389045493, -13.98946555059933]<input type='checkbox' class='ee-toggle'></label><ul><li><span class='ee-k'>0:</span><span class='ee-v'>-70.78635389045493</span></li><li><span class='ee-k'>1:</span><span class='ee-v'>-13.98946555059933</span></li></ul></li><li><label class='ee-shut'>4: [-70.75181495591853, -13.989465550599332]<input type='checkbox' class='ee-toggle'></label><ul><li><span class='ee-k'>0:</span><span class='ee-v'>-70.75181495591853</span></li><li><span class='ee-k'>1:</span><span class='ee-v'>-13.989465550599332</span></li></ul></li><li><label class='ee-shut'>5: [-70.75181495591853, -13.85450850536386]<input type='checkbox' class='ee-toggle'></label><ul><li><span class='ee-k'>0:</span><span class='ee-v'>-70.75181495591853</span></li><li><span class='ee-k'>1:</span><span class='ee-v'>-13.85450850536386</span></li></ul></li><li><label class='ee-shut'>6: [-70.78635389045493, -13.85450850536386]<input type='checkbox' class='ee-toggle'></label><ul><li><span class='ee-k'>0:</span><span class='ee-v'>-70.78635389045493</span></li><li><span class='ee-k'>1:</span><span class='ee-v'>-13.85450850536386</span></li></ul></li><li><label class='ee-shut'>7: [-70.82089282499133, -13.85450850536386]<input type='checkbox' class='ee-toggle'></label><ul><li><span class='ee-k'>0:</span><span class='ee-v'>-70.82089282499133</span></li><li><span class='ee-k'>1:</span><span class='ee-v'>-13.85450850536386</span></li></ul></li><li><label class='ee-shut'>8: [-70.85543175952773, -13.85450850536386]<input type='checkbox' class='ee-toggle'></label><ul><li><span class='ee-k'>0:</span><span class='ee-v'>-70.85543175952773</span></li><li><span class='ee-k'>1:</span><span class='ee-v'>-13.85450850536386</span></li></ul></li><li><label class='ee-shut'>9: [-70.88997069406413, -13.85450850536386]<input type='checkbox' class='ee-toggle'></label><ul><li><span class='ee-k'>0:</span><span class='ee-v'>-70.88997069406413</span></li><li><span class='ee-k'>1:</span><span class='ee-v'>-13.85450850536386</span></li></ul></li><li><label class='ee-shut'>10: [-70.88997069406413, -13.989465550599332]<input type='checkbox' class='ee-toggle'></label><ul><li><span class='ee-k'>0:</span><span class='ee-v'>-70.88997069406413</span></li><li><span class='ee-k'>1:</span><span class='ee-v'>-13.989465550599332</span></li></ul></li></ul></li></ul></li></ul></li></ul></li></ul></li></ul></div><script>function toggleHeader() {\n",
              "    const parent = this.parentElement;\n",
              "    parent.className = parent.className === \"ee-open\" ? \"ee-shut\" : \"ee-open\";\n",
              "}\n",
              "\n",
              "for (let c of document.getElementsByClassName(\"ee-toggle\")) {\n",
              "    c.onclick = toggleHeader;\n",
              "}</script></div>"
            ]
          },
          "metadata": {},
          "execution_count": 9
        }
      ],
      "source": [
        "\n",
        "type_of_ndi = 'NDSI'  # type of NDI calculated, for filename purposes\n",
        "r_high = 'B3'  # relevant band name for r_high\n",
        "r_low = 'B6'   # relevant band name for r_low\n",
        "\n",
        "ndi = image.normalizedDifference([r_high, r_low]).rename(type_of_ndi)\n",
        "\n",
        "ndi"
      ]
    },
    {
      "cell_type": "markdown",
      "id": "e31e9a8d-7413-4962-ad30-c5815d53e225",
      "metadata": {
        "id": "e31e9a8d-7413-4962-ad30-c5815d53e225"
      },
      "source": [
        "Now, we can visualise the product. Note that I have visualised both the NDSI and the colour image - click the 🔧 symbol in the top right, and then the ☰ button, to open a menu where you can toggle the NDWI on an off to compare the two."
      ]
    },
    {
      "cell_type": "code",
      "execution_count": null,
      "id": "84ddf96c-4fc0-431c-9a5d-6c2c216cc48d",
      "metadata": {
        "id": "84ddf96c-4fc0-431c-9a5d-6c2c216cc48d",
        "outputId": "00df80d3-4b8a-4e19-a028-5252bbcf9554",
        "colab": {
          "referenced_widgets": [
            "c12e2f997fbb41ea90c1a0a82648f1ec"
          ]
        }
      },
      "outputs": [
        {
          "data": {
            "text/html": [
              "\n",
              "            <style>\n",
              "                .geemap-dark {\n",
              "                    --jp-widgets-color: white;\n",
              "                    --jp-widgets-label-color: white;\n",
              "                    --jp-ui-font-color1: white;\n",
              "                    --jp-layout-color2: #454545;\n",
              "                    background-color: #383838;\n",
              "                }\n",
              "                    \n",
              "                .geemap-dark .jupyter-button {\n",
              "                    --jp-layout-color3: #383838;\n",
              "                }\n",
              "                \n",
              "                .geemap-colab {\n",
              "                    background-color: var(--colab-primary-surface-color, white);\n",
              "                }\n",
              "                    \n",
              "                .geemap-colab .jupyter-button {\n",
              "                    --jp-layout-color3: var(--colab-primary-surface-color, white);\n",
              "                }\n",
              "            </style>\n",
              "            "
            ],
            "text/plain": [
              "<IPython.core.display.HTML object>"
            ]
          },
          "metadata": {},
          "output_type": "display_data"
        },
        {
          "data": {
            "application/vnd.jupyter.widget-view+json": {
              "model_id": "c12e2f997fbb41ea90c1a0a82648f1ec",
              "version_major": 2,
              "version_minor": 0
            },
            "text/plain": [
              "Map(center=[0, 0], controls=(WidgetControl(options=['position', 'transparent_bg'], widget=SearchDataGUI(childr…"
            ]
          },
          "execution_count": 39,
          "metadata": {},
          "output_type": "execute_result"
        }
      ],
      "source": [
        "\n",
        "Map = geemap.Map() # Create empty map\n",
        "\n",
        "# Display colour image\n",
        "max_reflectance = 0.80\n",
        "visParams = {'bands': ['B4', 'B3', 'B2'], 'max': max_reflectance}\n",
        "Map.addLayer(image, visParams, 'True Colour')\n",
        "\n",
        "# Display NDI\n",
        "visParams = {'bands': [type_of_ndi], 'min': -1, 'max': 1, 'palette': ['red', 'white', 'blue']}\n",
        "Map.addLayer(ndi, visParams, type_of_ndi)\n",
        "\n",
        "Map.centerObject(region)\n",
        "Map\n"
      ]
    },
    {
      "cell_type": "markdown",
      "id": "392c9033-e20f-4d7f-a23d-b5c77845b420",
      "metadata": {
        "id": "392c9033-e20f-4d7f-a23d-b5c77845b420"
      },
      "source": [
        "Have a zoom around and see what you think. Overall, this is a good product - there's clear boundaries and not much confusion over shaded areas, etc. However, it's clear that the NDSI is also picking up lakes/water as ice. This is an established weakness of NDSI.\n",
        "\n",
        "> **Task:**\n",
        ">\n",
        "> 1. Go back and calculate NDWI instead of NDSI. Is NDWI better at differentiating water and ice?\n",
        ">\n",
        "> 2. Based on the bands used, why do you think this is?\n",
        ">\n",
        "> 3. Have an explore of other NDIs as well (e.g. NDVI).\n",
        "\n",
        "After you have explored this, return to calculating the NDSI and ensure the cells have run so that the `ndi` variable is storing NDSI."
      ]
    },
    {
      "cell_type": "markdown",
      "id": "157a01a1-a154-4b70-b464-c8f0942d940d",
      "metadata": {
        "id": "157a01a1-a154-4b70-b464-c8f0942d940d"
      },
      "source": [
        "# Thresholding"
      ]
    },
    {
      "cell_type": "code",
      "execution_count": 11,
      "id": "203585f9-b68c-4a25-bcb0-f46d36361761",
      "metadata": {
        "id": "203585f9-b68c-4a25-bcb0-f46d36361761",
        "outputId": "06efe2d3-7192-46ca-ac86-8fa6007ac7ac",
        "colab": {
          "base_uri": "https://localhost:8080/",
          "height": 553,
          "referenced_widgets": [
            "be06f195e9664f58a9775ae844e17179",
            "23bc2beb76604d7a9f7f025fb8f08773",
            "dd316bddeedf41138904714deaa7eaa0",
            "eb412be5ced04126ab223d5c41bc9df4",
            "ce24a96418644078939dc6b2ab7f1dfb",
            "5332c9c4b2fd406ba8302bd45f468876",
            "8fbd9f68bc7b430681796956f4485996",
            "9885d5756ba4470e8841d316027bb105",
            "090c6c0b6e9944d28f7b45d43b46027b",
            "e1775c72d0ea4a30ab8d98cfd5cde327",
            "4c4f01db222b49f2b7a687bc3ede6389",
            "fba42708070e4e248b4cac869772e8c4",
            "0425521f09444259a0a9db1958b7aa3c",
            "be98f8f074854651b2fc23b5a33e5193",
            "56a605e1745a483588a3fecc65fd1445"
          ]
        }
      },
      "outputs": [
        {
          "output_type": "display_data",
          "data": {
            "text/plain": [
              "<IPython.core.display.HTML object>"
            ],
            "text/html": [
              "\n",
              "            <style>\n",
              "                .geemap-dark {\n",
              "                    --jp-widgets-color: white;\n",
              "                    --jp-widgets-label-color: white;\n",
              "                    --jp-ui-font-color1: white;\n",
              "                    --jp-layout-color2: #454545;\n",
              "                    background-color: #383838;\n",
              "                }\n",
              "                    \n",
              "                .geemap-dark .jupyter-button {\n",
              "                    --jp-layout-color3: #383838;\n",
              "                }\n",
              "                \n",
              "                .geemap-colab {\n",
              "                    background-color: var(--colab-primary-surface-color, white);\n",
              "                }\n",
              "                    \n",
              "                .geemap-colab .jupyter-button {\n",
              "                    --jp-layout-color3: var(--colab-primary-surface-color, white);\n",
              "                }\n",
              "            </style>\n",
              "            "
            ]
          },
          "metadata": {}
        },
        {
          "output_type": "display_data",
          "data": {
            "text/plain": [
              "VBox(children=(Figure(axes=[Axis(orientation='vertical', scale=LinearScale()), Axis(scale=LinearScale())], fig…"
            ],
            "application/vnd.jupyter.widget-view+json": {
              "version_major": 2,
              "version_minor": 0,
              "model_id": "be06f195e9664f58a9775ae844e17179"
            }
          },
          "metadata": {
            "application/vnd.jupyter.widget-view+json": {
              "colab": {
                "custom_widget_manager": {
                  "url": "https://ssl.gstatic.com/colaboratory-static/widgets/colab-cdn-widget-manager/b3e629b1971e1542/manager.min.js"
                }
              }
            }
          }
        }
      ],
      "source": [
        "import geemap.chart as chart\n",
        "\n",
        "my_sample = ndi.sample(region, 5000)\n",
        "\n",
        "chart.feature_histogram(my_sample, type_of_ndi)"
      ]
    },
    {
      "cell_type": "code",
      "execution_count": null,
      "id": "47fb075c-38f0-4ba2-a6e9-df1f2d4b02c3",
      "metadata": {
        "id": "47fb075c-38f0-4ba2-a6e9-df1f2d4b02c3",
        "outputId": "8897b19e-252e-4cf8-b5fe-7a80496ea034"
      },
      "outputs": [
        {
          "data": {
            "text/html": [
              "\n",
              "            <style>\n",
              "                .geemap-dark {\n",
              "                    --jp-widgets-color: white;\n",
              "                    --jp-widgets-label-color: white;\n",
              "                    --jp-ui-font-color1: white;\n",
              "                    --jp-layout-color2: #454545;\n",
              "                    background-color: #383838;\n",
              "                }\n",
              "                    \n",
              "                .geemap-dark .jupyter-button {\n",
              "                    --jp-layout-color3: #383838;\n",
              "                }\n",
              "                \n",
              "                .geemap-colab {\n",
              "                    background-color: var(--colab-primary-surface-color, white);\n",
              "                }\n",
              "                    \n",
              "                .geemap-colab .jupyter-button {\n",
              "                    --jp-layout-color3: var(--colab-primary-surface-color, white);\n",
              "                }\n",
              "            </style>\n",
              "            "
            ],
            "text/plain": [
              "<IPython.core.display.HTML object>"
            ]
          },
          "metadata": {},
          "output_type": "display_data"
        },
        {
          "data": {
            "text/html": [
              "<div><style>:root {\n",
              "  --font-color-primary: var(--jp-content-font-color0, rgba(0, 0, 0, 1));\n",
              "  --font-color-secondary: var(--jp-content-font-color2, rgba(0, 0, 0, 0.6));\n",
              "  --font-color-accent: rgba(123, 31, 162, 1);\n",
              "  --border-color: var(--jp-border-color2, #e0e0e0);\n",
              "  --background-color: var(--jp-layout-color0, white);\n",
              "  --background-color-row-even: var(--jp-layout-color1, white);\n",
              "  --background-color-row-odd: var(--jp-layout-color2, #eeeeee);\n",
              "}\n",
              "\n",
              "html[theme=\"dark\"],\n",
              "body[data-theme=\"dark\"],\n",
              "body.vscode-dark {\n",
              "  --font-color-primary: rgba(255, 255, 255, 1);\n",
              "  --font-color-secondary: rgba(255, 255, 255, 0.6);\n",
              "  --font-color-accent: rgb(173, 132, 190);\n",
              "  --border-color: #2e2e2e;\n",
              "  --background-color: #111111;\n",
              "  --background-color-row-even: #111111;\n",
              "  --background-color-row-odd: #313131;\n",
              "}\n",
              "\n",
              ".ee {\n",
              "  padding: 1em;\n",
              "  line-height: 1.5em;\n",
              "  min-width: 300px;\n",
              "  max-width: 1200px;\n",
              "  overflow-y: scroll;\n",
              "  max-height: 600px;\n",
              "  border: 1px solid var(--border-color);\n",
              "  font-family: monospace;\n",
              "}\n",
              "\n",
              ".ee li {\n",
              "  list-style-type: none;\n",
              "}\n",
              "\n",
              ".ee ul {\n",
              "  padding-left: 1.5em !important;\n",
              "  margin: 0;\n",
              "}\n",
              "\n",
              ".ee > ul {\n",
              "  padding-left: 0 !important;\n",
              "}\n",
              "\n",
              ".ee-open,\n",
              ".ee-shut {\n",
              "  color: var(--font-color-secondary);\n",
              "  cursor: pointer;\n",
              "  margin: 0;\n",
              "}\n",
              "\n",
              ".ee-open:hover,\n",
              ".ee-shut:hover {\n",
              "  color: var(--font-color-primary);\n",
              "}\n",
              "\n",
              ".ee-k {\n",
              "  color: var(--font-color-accent);\n",
              "  margin-right: 6px;\n",
              "}\n",
              "\n",
              ".ee-v {\n",
              "  color: var(--font-color-primary);\n",
              "}\n",
              "\n",
              ".ee-toggle {\n",
              "  display: none;\n",
              "}\n",
              "\n",
              ".ee-shut + ul {\n",
              "  display: none;\n",
              "}\n",
              "\n",
              ".ee-open + ul {\n",
              "  display: block;\n",
              "}\n",
              "\n",
              ".ee-shut::before {\n",
              "  display: inline-block;\n",
              "  content: \"▼\";\n",
              "  margin-right: 6px;\n",
              "  transform: rotate(-90deg);\n",
              "  transition: transform 0.2s;\n",
              "}\n",
              "\n",
              ".ee-open::before {\n",
              "  transform: rotate(0deg);\n",
              "  display: inline-block;\n",
              "  content: \"▼\";\n",
              "  margin-right: 6px;\n",
              "  transition: transform 0.2s;\n",
              "}\n",
              "</style><div class='ee'><ul><li><label class='ee-shut'>Object (1 property)<input type='checkbox' class='ee-toggle'></label><ul><li><label class='ee-shut'>NDSI: Object (4 properties)<input type='checkbox' class='ee-toggle'></label><ul><li><label class='ee-shut'>bucketMeans: List (27 elements)<input type='checkbox' class='ee-toggle'></label><ul><li><span class='ee-k'>0:</span><span class='ee-v'>-0.6364082732618659</span></li><li><span class='ee-k'>1:</span><span class='ee-v'>-0.5809892853615102</span></li><li><span class='ee-k'>2:</span><span class='ee-v'>-0.5241026226365436</span></li><li><span class='ee-k'>3:</span><span class='ee-v'>-0.46904166456874025</span></li><li><span class='ee-k'>4:</span><span class='ee-v'>-0.4084278960561232</span></li><li><span class='ee-k'>5:</span><span class='ee-v'>-0.3453857375317448</span></li><li><span class='ee-k'>6:</span><span class='ee-v'>-0.2827815651039003</span></li><li><span class='ee-k'>7:</span><span class='ee-v'>-0.22080205588426377</span></li><li><span class='ee-k'>8:</span><span class='ee-v'>-0.15898870309754365</span></li><li><span class='ee-k'>9:</span><span class='ee-v'>-0.0970624453752684</span></li><li><span class='ee-k'>10:</span><span class='ee-v'>-0.03337803393062672</span></li><li><span class='ee-k'>11:</span><span class='ee-v'>0.02925707443797145</span></li><li><span class='ee-k'>12:</span><span class='ee-v'>0.09331920333812314</span></li><li><span class='ee-k'>13:</span><span class='ee-v'>0.15546191173563212</span></li><li><span class='ee-k'>14:</span><span class='ee-v'>0.21887176648156545</span></li><li><span class='ee-k'>15:</span><span class='ee-v'>0.2803174842425087</span></li><li><span class='ee-k'>16:</span><span class='ee-v'>0.3434979278118341</span></li><li><span class='ee-k'>17:</span><span class='ee-v'>0.4058490028116362</span></li><li><span class='ee-k'>18:</span><span class='ee-v'>0.4686937433043583</span></li><li><span class='ee-k'>19:</span><span class='ee-v'>0.5315770636793149</span></li><li><span class='ee-k'>20:</span><span class='ee-v'>0.5948039394989383</span></li><li><span class='ee-k'>21:</span><span class='ee-v'>0.6565498427784506</span></li><li><span class='ee-k'>22:</span><span class='ee-v'>0.7185731686219073</span></li><li><span class='ee-k'>23:</span><span class='ee-v'>0.7816114286984918</span></li><li><span class='ee-k'>24:</span><span class='ee-v'>0.846139366935537</span></li><li><span class='ee-k'>25:</span><span class='ee-v'>0.9166859700336214</span></li><li><span class='ee-k'>26:</span><span class='ee-v'>0.9488738935282701</span></li></ul></li><li><span class='ee-k'>bucketMin:</span><span class='ee-v'>-0.6875</span></li><li><span class='ee-k'>bucketWidth:</span><span class='ee-v'>0.0625</span></li><li><label class='ee-shut'>histogram: List (27 elements)<input type='checkbox' class='ee-toggle'></label><ul><li><span class='ee-k'>0:</span><span class='ee-v'>133.87450980392157</span></li><li><span class='ee-k'>1:</span><span class='ee-v'>3236.066666666667</span></li><li><span class='ee-k'>2:</span><span class='ee-v'>29018.43137254905</span></li><li><span class='ee-k'>3:</span><span class='ee-v'>48484.83921568632</span></li><li><span class='ee-k'>4:</span><span class='ee-v'>36202.654901960785</span></li><li><span class='ee-k'>5:</span><span class='ee-v'>25325.392156862752</span></li><li><span class='ee-k'>6:</span><span class='ee-v'>18636.694117647075</span></li><li><span class='ee-k'>7:</span><span class='ee-v'>13235.47843137255</span></li><li><span class='ee-k'>8:</span><span class='ee-v'>8846.274509803921</span></li><li><span class='ee-k'>9:</span><span class='ee-v'>4698.53725490196</span></li><li><span class='ee-k'>10:</span><span class='ee-v'>2614.435294117647</span></li><li><span class='ee-k'>11:</span><span class='ee-v'>1889.0274509803921</span></li><li><span class='ee-k'>12:</span><span class='ee-v'>1502.6745098039216</span></li><li><span class='ee-k'>13:</span><span class='ee-v'>1311.9058823529413</span></li><li><span class='ee-k'>14:</span><span class='ee-v'>1143.1725490196077</span></li><li><span class='ee-k'>15:</span><span class='ee-v'>1094.7490196078431</span></li><li><span class='ee-k'>16:</span><span class='ee-v'>1014.8274509803921</span></li><li><span class='ee-k'>17:</span><span class='ee-v'>967.1098039215686</span></li><li><span class='ee-k'>18:</span><span class='ee-v'>915.4941176470588</span></li><li><span class='ee-k'>19:</span><span class='ee-v'>853</span></li><li><span class='ee-k'>20:</span><span class='ee-v'>913.5647058823529</span></li><li><span class='ee-k'>21:</span><span class='ee-v'>1009.3921568627451</span></li><li><span class='ee-k'>22:</span><span class='ee-v'>989.2392156862745</span></li><li><span class='ee-k'>23:</span><span class='ee-v'>1053.8705882352942</span></li><li><span class='ee-k'>24:</span><span class='ee-v'>1486.235294117647</span></li><li><span class='ee-k'>25:</span><span class='ee-v'>27132.29411764706</span></li><li><span class='ee-k'>26:</span><span class='ee-v'>14019</span></li></ul></li></ul></li></ul></li></ul></div><script>function toggleHeader() {\n",
              "    const parent = this.parentElement;\n",
              "    parent.className = parent.className === \"ee-open\" ? \"ee-shut\" : \"ee-open\";\n",
              "}\n",
              "\n",
              "for (let c of document.getElementsByClassName(\"ee-toggle\")) {\n",
              "    c.onclick = toggleHeader;\n",
              "}</script></div>"
            ],
            "text/plain": [
              "<ee.dictionary.Dictionary at 0x14bb515a0>"
            ]
          },
          "execution_count": 45,
          "metadata": {},
          "output_type": "execute_result"
        }
      ],
      "source": [
        "\n",
        "histogramDictionary = ndi.reduceRegion(**{\n",
        "  'reducer': ee.Reducer.histogram(30),\n",
        "  # 'geometry': region.geometry(),\n",
        "  'scale': 30,\n",
        "  'maxPixels': 1e19\n",
        "})\n",
        "\n",
        "histogramDictionary\n"
      ]
    },
    {
      "cell_type": "code",
      "execution_count": null,
      "id": "cb92b2a0-a2a4-48b3-85fa-06e32f43de77",
      "metadata": {
        "id": "cb92b2a0-a2a4-48b3-85fa-06e32f43de77",
        "outputId": "17cba9c5-3e56-497a-a06c-246858194b97"
      },
      "outputs": [
        {
          "data": {
            "text/html": [
              "\n",
              "            <style>\n",
              "                .geemap-dark {\n",
              "                    --jp-widgets-color: white;\n",
              "                    --jp-widgets-label-color: white;\n",
              "                    --jp-ui-font-color1: white;\n",
              "                    --jp-layout-color2: #454545;\n",
              "                    background-color: #383838;\n",
              "                }\n",
              "                    \n",
              "                .geemap-dark .jupyter-button {\n",
              "                    --jp-layout-color3: #383838;\n",
              "                }\n",
              "                \n",
              "                .geemap-colab {\n",
              "                    background-color: var(--colab-primary-surface-color, white);\n",
              "                }\n",
              "                    \n",
              "                .geemap-colab .jupyter-button {\n",
              "                    --jp-layout-color3: var(--colab-primary-surface-color, white);\n",
              "                }\n",
              "            </style>\n",
              "            "
            ],
            "text/plain": [
              "<IPython.core.display.HTML object>"
            ]
          },
          "metadata": {},
          "output_type": "display_data"
        },
        {
          "ename": "Exception",
          "evalue": "features must be an ee.FeatureCollection",
          "output_type": "error",
          "traceback": [
            "\u001b[0;31m---------------------------------------------------------------------------\u001b[0m",
            "\u001b[0;31mException\u001b[0m                                 Traceback (most recent call last)",
            "Cell \u001b[0;32mIn[46], line 1\u001b[0m\n\u001b[0;32m----> 1\u001b[0m \u001b[43mchart\u001b[49m\u001b[38;5;241;43m.\u001b[39;49m\u001b[43mfeature_histogram\u001b[49m\u001b[43m(\u001b[49m\u001b[43mhistogramDictionary\u001b[49m\u001b[43m,\u001b[49m\u001b[43m \u001b[49m\u001b[43mtype_of_ndi\u001b[49m\u001b[43m)\u001b[49m\n",
            "File \u001b[0;32m~/mambaforge/envs/geospatial/lib/python3.10/site-packages/geemap/chart.py:311\u001b[0m, in \u001b[0;36mfeature_histogram\u001b[0;34m(features, property, maxBuckets, minBucketWidth, show, **kwargs)\u001b[0m\n\u001b[1;32m    308\u001b[0m \u001b[38;5;28;01mimport\u001b[39;00m \u001b[38;5;21;01mmath\u001b[39;00m\n\u001b[1;32m    310\u001b[0m \u001b[38;5;28;01mif\u001b[39;00m \u001b[38;5;129;01mnot\u001b[39;00m \u001b[38;5;28misinstance\u001b[39m(features, ee\u001b[38;5;241m.\u001b[39mFeatureCollection):\n\u001b[0;32m--> 311\u001b[0m     \u001b[38;5;28;01mraise\u001b[39;00m \u001b[38;5;167;01mException\u001b[39;00m(\u001b[38;5;124m\"\u001b[39m\u001b[38;5;124mfeatures must be an ee.FeatureCollection\u001b[39m\u001b[38;5;124m\"\u001b[39m)\n\u001b[1;32m    313\u001b[0m first \u001b[38;5;241m=\u001b[39m features\u001b[38;5;241m.\u001b[39mfirst()\n\u001b[1;32m    314\u001b[0m props \u001b[38;5;241m=\u001b[39m first\u001b[38;5;241m.\u001b[39mpropertyNames()\u001b[38;5;241m.\u001b[39mgetInfo()\n",
            "\u001b[0;31mException\u001b[0m: features must be an ee.FeatureCollection"
          ]
        }
      ],
      "source": [
        "chart.feature_histogram(histogramDictionary, type_of_ndi)"
      ]
    },
    {
      "cell_type": "code",
      "execution_count": null,
      "id": "ef6917d6-1281-4d79-bf8e-2da76efe8b92",
      "metadata": {
        "id": "ef6917d6-1281-4d79-bf8e-2da76efe8b92"
      },
      "outputs": [],
      "source": []
    }
  ],
  "metadata": {
    "kernelspec": {
      "display_name": "Python (geospatial)",
      "language": "python",
      "name": "geospatial"
    },
    "language_info": {
      "codemirror_mode": {
        "name": "ipython",
        "version": 3
      },
      "file_extension": ".py",
      "mimetype": "text/x-python",
      "name": "python",
      "nbconvert_exporter": "python",
      "pygments_lexer": "ipython3",
      "version": "3.10.9"
    },
    "colab": {
      "provenance": []
    },
    "widgets": {
      "application/vnd.jupyter.widget-state+json": {
        "8d63c2793eb94ab39730fc156b23dc37": {
          "model_module": "jupyter-leaflet",
          "model_name": "LeafletMapModel",
          "model_module_version": "^0.18",
          "state": {
            "_dom_classes": [],
            "_model_module": "jupyter-leaflet",
            "_model_module_version": "^0.18",
            "_model_name": "LeafletMapModel",
            "_view_count": null,
            "_view_module": "jupyter-leaflet",
            "_view_module_version": "^0.18",
            "_view_name": "LeafletMapView",
            "bottom": 565546,
            "bounce_at_zoom_limits": true,
            "box_zoom": true,
            "center": [
              -13.922737426085153,
              -70.82061767578126
            ],
            "close_popup_on_click": true,
            "controls": [
              "IPY_MODEL_34fed9e2a9a34ed1bf8bb3813069391e",
              "IPY_MODEL_5c84aa0855e64850a6bc6d4969cddf66",
              "IPY_MODEL_0cac6655a5624527b7ad2f7ab207e39e",
              "IPY_MODEL_2bd10f32374d4439803eb9ddd627e43a",
              "IPY_MODEL_d9f9f23189544f2aae0c36496efca7bf",
              "IPY_MODEL_732afebd667a42c2a5c48404b0a5e6fd",
              "IPY_MODEL_f8e2d7ad438d4235ba38509975990f1d",
              "IPY_MODEL_3dc372b4bfc746439af640be135c90b6"
            ],
            "crs": {
              "name": "EPSG3857",
              "custom": false
            },
            "default_style": "IPY_MODEL_23ddb573d8334d75bd9af9c3e99f6fd2",
            "double_click_zoom": true,
            "dragging": true,
            "dragging_style": "IPY_MODEL_0fe5c06886b44b628af12340e003052e",
            "east": -70.58303833007814,
            "fullscreen": false,
            "inertia": true,
            "inertia_deceleration": 3000,
            "inertia_max_speed": 1500,
            "interpolation": "bilinear",
            "keyboard": true,
            "keyboard_pan_offset": 80,
            "keyboard_zoom_offset": 1,
            "layers": [
              "IPY_MODEL_006af1d74993438583f6907bdac9aa5c",
              "IPY_MODEL_886f16cc1a1c4362b0b790897f9a8d6f"
            ],
            "layout": "IPY_MODEL_ec8f11429132477bbc438b2d3a762007",
            "left": 317316,
            "max_zoom": 24,
            "min_zoom": null,
            "modisdate": "2024-01-03",
            "north": -13.822744963424938,
            "options": [
              "bounce_at_zoom_limits",
              "box_zoom",
              "center",
              "close_popup_on_click",
              "double_click_zoom",
              "dragging",
              "fullscreen",
              "inertia",
              "inertia_deceleration",
              "inertia_max_speed",
              "interpolation",
              "keyboard",
              "keyboard_pan_offset",
              "keyboard_zoom_offset",
              "max_zoom",
              "min_zoom",
              "prefer_canvas",
              "scroll_wheel_zoom",
              "tap",
              "tap_tolerance",
              "touch_zoom",
              "world_copy_jump",
              "zoom",
              "zoom_animation_threshold",
              "zoom_delta",
              "zoom_snap"
            ],
            "panes": {},
            "prefer_canvas": false,
            "right": 318700,
            "scroll_wheel_zoom": true,
            "south": -14.022686647941942,
            "style": "IPY_MODEL_23ddb573d8334d75bd9af9c3e99f6fd2",
            "tap": true,
            "tap_tolerance": 15,
            "top": 564946,
            "touch_zoom": true,
            "west": -71.05819702148439,
            "window_url": "https://9x2nyh9ie2w-496ff2e9c6d22116-0-colab.googleusercontent.com/outputframe.html?vrz=colab_20240102-060009_RC01_595159414",
            "world_copy_jump": false,
            "zoom": 12,
            "zoom_animation_threshold": 4,
            "zoom_delta": 1,
            "zoom_snap": 1
          }
        },
        "34fed9e2a9a34ed1bf8bb3813069391e": {
          "model_module": "jupyter-leaflet",
          "model_name": "LeafletWidgetControlModel",
          "model_module_version": "^0.18",
          "state": {
            "_model_module": "jupyter-leaflet",
            "_model_module_version": "^0.18",
            "_model_name": "LeafletWidgetControlModel",
            "_view_count": null,
            "_view_module": "jupyter-leaflet",
            "_view_module_version": "^0.18",
            "_view_name": "LeafletWidgetControlView",
            "max_height": null,
            "max_width": null,
            "min_height": null,
            "min_width": null,
            "options": [
              "position",
              "transparent_bg"
            ],
            "position": "topleft",
            "transparent_bg": false,
            "widget": "IPY_MODEL_b8f91dc7776d4a53adcabc2f923064c1"
          }
        },
        "5c84aa0855e64850a6bc6d4969cddf66": {
          "model_module": "jupyter-leaflet",
          "model_name": "LeafletZoomControlModel",
          "model_module_version": "^0.18",
          "state": {
            "_model_module": "jupyter-leaflet",
            "_model_module_version": "^0.18",
            "_model_name": "LeafletZoomControlModel",
            "_view_count": null,
            "_view_module": "jupyter-leaflet",
            "_view_module_version": "^0.18",
            "_view_name": "LeafletZoomControlView",
            "options": [
              "position",
              "zoom_in_text",
              "zoom_in_title",
              "zoom_out_text",
              "zoom_out_title"
            ],
            "position": "topleft",
            "zoom_in_text": "+",
            "zoom_in_title": "Zoom in",
            "zoom_out_text": "-",
            "zoom_out_title": "Zoom out"
          }
        },
        "0cac6655a5624527b7ad2f7ab207e39e": {
          "model_module": "jupyter-leaflet",
          "model_name": "LeafletFullScreenControlModel",
          "model_module_version": "^0.18",
          "state": {
            "_model_module": "jupyter-leaflet",
            "_model_module_version": "^0.18",
            "_model_name": "LeafletFullScreenControlModel",
            "_view_count": null,
            "_view_module": "jupyter-leaflet",
            "_view_module_version": "^0.18",
            "_view_name": "LeafletFullScreenControlView",
            "options": [
              "position"
            ],
            "position": "topleft"
          }
        },
        "2bd10f32374d4439803eb9ddd627e43a": {
          "model_module": "jupyter-leaflet",
          "model_name": "LeafletDrawControlModel",
          "model_module_version": "^0.18",
          "state": {
            "_model_module": "jupyter-leaflet",
            "_model_module_version": "^0.18",
            "_model_name": "LeafletDrawControlModel",
            "_view_count": null,
            "_view_module": "jupyter-leaflet",
            "_view_module_version": "^0.18",
            "_view_name": "LeafletDrawControlView",
            "circle": {},
            "circlemarker": {},
            "data": [],
            "edit": true,
            "marker": {
              "shapeOptions": {
                "color": "#3388ff"
              }
            },
            "options": [
              "position"
            ],
            "polygon": {
              "shapeOptions": {}
            },
            "polyline": {
              "shapeOptions": {}
            },
            "position": "topleft",
            "rectangle": {
              "shapeOptions": {
                "color": "#3388ff"
              }
            },
            "remove": true
          }
        },
        "d9f9f23189544f2aae0c36496efca7bf": {
          "model_module": "jupyter-leaflet",
          "model_name": "LeafletScaleControlModel",
          "model_module_version": "^0.18",
          "state": {
            "_model_module": "jupyter-leaflet",
            "_model_module_version": "^0.18",
            "_model_name": "LeafletScaleControlModel",
            "_view_count": null,
            "_view_module": "jupyter-leaflet",
            "_view_module_version": "^0.18",
            "_view_name": "LeafletScaleControlView",
            "imperial": true,
            "max_width": 100,
            "metric": true,
            "options": [
              "imperial",
              "max_width",
              "metric",
              "position",
              "update_when_idle"
            ],
            "position": "bottomleft",
            "update_when_idle": false
          }
        },
        "732afebd667a42c2a5c48404b0a5e6fd": {
          "model_module": "jupyter-leaflet",
          "model_name": "LeafletMeasureControlModel",
          "model_module_version": "^0.18",
          "state": {
            "_custom_units": {},
            "_model_module": "jupyter-leaflet",
            "_model_module_version": "^0.18",
            "_model_name": "LeafletMeasureControlModel",
            "_view_count": null,
            "_view_module": "jupyter-leaflet",
            "_view_module_version": "^0.18",
            "_view_name": "LeafletMeasureControlView",
            "active_color": "orange",
            "capture_z_index": 10000,
            "completed_color": "#C8F2BE",
            "options": [
              "active_color",
              "capture_z_index",
              "completed_color",
              "popup_options",
              "position",
              "primary_area_unit",
              "primary_length_unit",
              "secondary_area_unit",
              "secondary_length_unit"
            ],
            "popup_options": {
              "className": "leaflet-measure-resultpopup",
              "autoPanPadding": [
                10,
                10
              ]
            },
            "position": "bottomleft",
            "primary_area_unit": "acres",
            "primary_length_unit": "kilometers",
            "secondary_area_unit": null,
            "secondary_length_unit": null
          }
        },
        "f8e2d7ad438d4235ba38509975990f1d": {
          "model_module": "jupyter-leaflet",
          "model_name": "LeafletWidgetControlModel",
          "model_module_version": "^0.18",
          "state": {
            "_model_module": "jupyter-leaflet",
            "_model_module_version": "^0.18",
            "_model_name": "LeafletWidgetControlModel",
            "_view_count": null,
            "_view_module": "jupyter-leaflet",
            "_view_module_version": "^0.18",
            "_view_name": "LeafletWidgetControlView",
            "max_height": null,
            "max_width": null,
            "min_height": null,
            "min_width": null,
            "options": [
              "position",
              "transparent_bg"
            ],
            "position": "topright",
            "transparent_bg": false,
            "widget": "IPY_MODEL_9561e6c028614fcfae7724f069ee1c20"
          }
        },
        "3dc372b4bfc746439af640be135c90b6": {
          "model_module": "jupyter-leaflet",
          "model_name": "LeafletAttributionControlModel",
          "model_module_version": "^0.18",
          "state": {
            "_model_module": "jupyter-leaflet",
            "_model_module_version": "^0.18",
            "_model_name": "LeafletAttributionControlModel",
            "_view_count": null,
            "_view_module": "jupyter-leaflet",
            "_view_module_version": "^0.18",
            "_view_name": "LeafletAttributionControlView",
            "options": [
              "position",
              "prefix"
            ],
            "position": "bottomright",
            "prefix": "ipyleaflet"
          }
        },
        "23ddb573d8334d75bd9af9c3e99f6fd2": {
          "model_module": "jupyter-leaflet",
          "model_name": "LeafletMapStyleModel",
          "model_module_version": "^0.18",
          "state": {
            "_model_module": "jupyter-leaflet",
            "_model_module_version": "^0.18",
            "_model_name": "LeafletMapStyleModel",
            "_view_count": null,
            "_view_module": "@jupyter-widgets/base",
            "_view_module_version": "1.2.0",
            "_view_name": "StyleView",
            "cursor": "grab"
          }
        },
        "0fe5c06886b44b628af12340e003052e": {
          "model_module": "jupyter-leaflet",
          "model_name": "LeafletMapStyleModel",
          "model_module_version": "^0.18",
          "state": {
            "_model_module": "jupyter-leaflet",
            "_model_module_version": "^0.18",
            "_model_name": "LeafletMapStyleModel",
            "_view_count": null,
            "_view_module": "@jupyter-widgets/base",
            "_view_module_version": "1.2.0",
            "_view_name": "StyleView",
            "cursor": "move"
          }
        },
        "006af1d74993438583f6907bdac9aa5c": {
          "model_module": "jupyter-leaflet",
          "model_name": "LeafletTileLayerModel",
          "model_module_version": "^0.18",
          "state": {
            "_model_module": "jupyter-leaflet",
            "_model_module_version": "^0.18",
            "_model_name": "LeafletTileLayerModel",
            "_view_count": null,
            "_view_module": "jupyter-leaflet",
            "_view_module_version": "^0.18",
            "_view_name": "LeafletTileLayerView",
            "attribution": "&copy; <a href=\"https://www.openstreetmap.org/copyright\">OpenStreetMap</a> contributors",
            "base": true,
            "bottom": true,
            "bounds": null,
            "detect_retina": false,
            "loading": false,
            "max_native_zoom": null,
            "max_zoom": 19,
            "min_native_zoom": null,
            "min_zoom": 1,
            "name": "OpenStreetMap.Mapnik",
            "no_wrap": false,
            "opacity": 1,
            "options": [
              "attribution",
              "bounds",
              "detect_retina",
              "max_native_zoom",
              "max_zoom",
              "min_native_zoom",
              "min_zoom",
              "no_wrap",
              "tile_size",
              "tms",
              "zoom_offset"
            ],
            "pane": "",
            "popup": null,
            "popup_max_height": null,
            "popup_max_width": 300,
            "popup_min_width": 50,
            "show_loading": false,
            "subitems": [],
            "tile_size": 256,
            "tms": false,
            "url": "https://tile.openstreetmap.org/{z}/{x}/{y}.png",
            "visible": true,
            "zoom_offset": 0
          }
        },
        "886f16cc1a1c4362b0b790897f9a8d6f": {
          "model_module": "jupyter-leaflet",
          "model_name": "LeafletTileLayerModel",
          "model_module_version": "^0.18",
          "state": {
            "_model_module": "jupyter-leaflet",
            "_model_module_version": "^0.18",
            "_model_name": "LeafletTileLayerModel",
            "_view_count": null,
            "_view_module": "jupyter-leaflet",
            "_view_module_version": "^0.18",
            "_view_name": "LeafletTileLayerView",
            "attribution": "Google Earth Engine",
            "base": false,
            "bottom": true,
            "bounds": null,
            "detect_retina": false,
            "loading": false,
            "max_native_zoom": null,
            "max_zoom": 24,
            "min_native_zoom": null,
            "min_zoom": 0,
            "name": "Search Region",
            "no_wrap": false,
            "opacity": 1,
            "options": [
              "attribution",
              "bounds",
              "detect_retina",
              "max_native_zoom",
              "max_zoom",
              "min_native_zoom",
              "min_zoom",
              "no_wrap",
              "tile_size",
              "tms",
              "zoom_offset"
            ],
            "pane": "",
            "popup": null,
            "popup_max_height": null,
            "popup_max_width": 300,
            "popup_min_width": 50,
            "show_loading": false,
            "subitems": [],
            "tile_size": 256,
            "tms": false,
            "url": "https://earthengine.googleapis.com/v1/projects/ee-trchudley/maps/91e46f1c3c4bf32e8a42791ff7fc94b2-bcfdb7c3e5b6e88a8f9d9e727893da84/tiles/{z}/{x}/{y}",
            "visible": true,
            "zoom_offset": 0
          }
        },
        "ec8f11429132477bbc438b2d3a762007": {
          "model_module": "@jupyter-widgets/base",
          "model_name": "LayoutModel",
          "model_module_version": "1.2.0",
          "state": {
            "_model_module": "@jupyter-widgets/base",
            "_model_module_version": "1.2.0",
            "_model_name": "LayoutModel",
            "_view_count": null,
            "_view_module": "@jupyter-widgets/base",
            "_view_module_version": "1.2.0",
            "_view_name": "LayoutView",
            "align_content": null,
            "align_items": null,
            "align_self": null,
            "border": null,
            "bottom": null,
            "display": null,
            "flex": null,
            "flex_flow": null,
            "grid_area": null,
            "grid_auto_columns": null,
            "grid_auto_flow": null,
            "grid_auto_rows": null,
            "grid_column": null,
            "grid_gap": null,
            "grid_row": null,
            "grid_template_areas": null,
            "grid_template_columns": null,
            "grid_template_rows": null,
            "height": "600px",
            "justify_content": null,
            "justify_items": null,
            "left": null,
            "margin": null,
            "max_height": null,
            "max_width": null,
            "min_height": null,
            "min_width": null,
            "object_fit": null,
            "object_position": null,
            "order": null,
            "overflow": null,
            "overflow_x": null,
            "overflow_y": null,
            "padding": null,
            "right": null,
            "top": null,
            "visibility": null,
            "width": null
          }
        },
        "e11882a777024d4783d096d8b5300a96": {
          "model_module": "jupyter-leaflet",
          "model_name": "LeafletMapStyleModel",
          "model_module_version": "^0.18",
          "state": {
            "_model_module": "jupyter-leaflet",
            "_model_module_version": "^0.18",
            "_model_name": "LeafletMapStyleModel",
            "_view_count": null,
            "_view_module": "@jupyter-widgets/base",
            "_view_module_version": "1.2.0",
            "_view_name": "StyleView",
            "cursor": "grab"
          }
        },
        "b8f91dc7776d4a53adcabc2f923064c1": {
          "model_module": "@jupyter-widgets/controls",
          "model_name": "HBoxModel",
          "model_module_version": "1.5.0",
          "state": {
            "_dom_classes": [
              "geemap-colab"
            ],
            "_model_module": "@jupyter-widgets/controls",
            "_model_module_version": "1.5.0",
            "_model_name": "HBoxModel",
            "_view_count": null,
            "_view_module": "@jupyter-widgets/controls",
            "_view_module_version": "1.5.0",
            "_view_name": "HBoxView",
            "box_style": "",
            "children": [
              "IPY_MODEL_b510a148a9914a43b332f830ca62cce2"
            ],
            "layout": "IPY_MODEL_4e31d4e4726b44e583918f4118f40bdd"
          }
        },
        "9561e6c028614fcfae7724f069ee1c20": {
          "model_module": "@jupyter-widgets/controls",
          "model_name": "VBoxModel",
          "model_module_version": "1.5.0",
          "state": {
            "_dom_classes": [
              "geemap-colab"
            ],
            "_model_module": "@jupyter-widgets/controls",
            "_model_module_version": "1.5.0",
            "_model_name": "VBoxModel",
            "_view_count": null,
            "_view_module": "@jupyter-widgets/controls",
            "_view_module_version": "1.5.0",
            "_view_name": "VBoxView",
            "box_style": "",
            "children": [
              "IPY_MODEL_f0b80240e24e4ed5aea12b459a884880"
            ],
            "layout": "IPY_MODEL_dd8622c395ec4e32b68273572b61a53e"
          }
        },
        "b510a148a9914a43b332f830ca62cce2": {
          "model_module": "@jupyter-widgets/controls",
          "model_name": "ToggleButtonModel",
          "model_module_version": "1.5.0",
          "state": {
            "_dom_classes": [],
            "_model_module": "@jupyter-widgets/controls",
            "_model_module_version": "1.5.0",
            "_model_name": "ToggleButtonModel",
            "_view_count": null,
            "_view_module": "@jupyter-widgets/controls",
            "_view_module_version": "1.5.0",
            "_view_name": "ToggleButtonView",
            "button_style": "",
            "description": "",
            "description_tooltip": null,
            "disabled": false,
            "icon": "globe",
            "layout": "IPY_MODEL_b407a83e1beb4de09fb7bf2d91b61401",
            "style": "IPY_MODEL_045986eba4fb4887b77299660de8eb03",
            "tooltip": "Search location/data",
            "value": false
          }
        },
        "4e31d4e4726b44e583918f4118f40bdd": {
          "model_module": "@jupyter-widgets/base",
          "model_name": "LayoutModel",
          "model_module_version": "1.2.0",
          "state": {
            "_model_module": "@jupyter-widgets/base",
            "_model_module_version": "1.2.0",
            "_model_name": "LayoutModel",
            "_view_count": null,
            "_view_module": "@jupyter-widgets/base",
            "_view_module_version": "1.2.0",
            "_view_name": "LayoutView",
            "align_content": null,
            "align_items": null,
            "align_self": null,
            "border": null,
            "bottom": null,
            "display": null,
            "flex": null,
            "flex_flow": null,
            "grid_area": null,
            "grid_auto_columns": null,
            "grid_auto_flow": null,
            "grid_auto_rows": null,
            "grid_column": null,
            "grid_gap": null,
            "grid_row": null,
            "grid_template_areas": null,
            "grid_template_columns": null,
            "grid_template_rows": null,
            "height": null,
            "justify_content": null,
            "justify_items": null,
            "left": null,
            "margin": null,
            "max_height": null,
            "max_width": null,
            "min_height": null,
            "min_width": null,
            "object_fit": null,
            "object_position": null,
            "order": null,
            "overflow": null,
            "overflow_x": null,
            "overflow_y": null,
            "padding": null,
            "right": null,
            "top": null,
            "visibility": null,
            "width": null
          }
        },
        "f0b80240e24e4ed5aea12b459a884880": {
          "model_module": "@jupyter-widgets/controls",
          "model_name": "ToggleButtonModel",
          "model_module_version": "1.5.0",
          "state": {
            "_dom_classes": [],
            "_model_module": "@jupyter-widgets/controls",
            "_model_module_version": "1.5.0",
            "_model_name": "ToggleButtonModel",
            "_view_count": null,
            "_view_module": "@jupyter-widgets/controls",
            "_view_module_version": "1.5.0",
            "_view_name": "ToggleButtonView",
            "button_style": "",
            "description": "",
            "description_tooltip": null,
            "disabled": false,
            "icon": "wrench",
            "layout": "IPY_MODEL_a69921c14c6c4a09a0870c71b1b6fa64",
            "style": "IPY_MODEL_fcd7f7d28a864167ae175ba5e9cbe04a",
            "tooltip": "Toolbar",
            "value": false
          }
        },
        "dd8622c395ec4e32b68273572b61a53e": {
          "model_module": "@jupyter-widgets/base",
          "model_name": "LayoutModel",
          "model_module_version": "1.2.0",
          "state": {
            "_model_module": "@jupyter-widgets/base",
            "_model_module_version": "1.2.0",
            "_model_name": "LayoutModel",
            "_view_count": null,
            "_view_module": "@jupyter-widgets/base",
            "_view_module_version": "1.2.0",
            "_view_name": "LayoutView",
            "align_content": null,
            "align_items": null,
            "align_self": null,
            "border": null,
            "bottom": null,
            "display": null,
            "flex": null,
            "flex_flow": null,
            "grid_area": null,
            "grid_auto_columns": null,
            "grid_auto_flow": null,
            "grid_auto_rows": null,
            "grid_column": null,
            "grid_gap": null,
            "grid_row": null,
            "grid_template_areas": null,
            "grid_template_columns": null,
            "grid_template_rows": null,
            "height": null,
            "justify_content": null,
            "justify_items": null,
            "left": null,
            "margin": null,
            "max_height": null,
            "max_width": null,
            "min_height": null,
            "min_width": null,
            "object_fit": null,
            "object_position": null,
            "order": null,
            "overflow": null,
            "overflow_x": null,
            "overflow_y": null,
            "padding": null,
            "right": null,
            "top": null,
            "visibility": null,
            "width": null
          }
        },
        "b407a83e1beb4de09fb7bf2d91b61401": {
          "model_module": "@jupyter-widgets/base",
          "model_name": "LayoutModel",
          "model_module_version": "1.2.0",
          "state": {
            "_model_module": "@jupyter-widgets/base",
            "_model_module_version": "1.2.0",
            "_model_name": "LayoutModel",
            "_view_count": null,
            "_view_module": "@jupyter-widgets/base",
            "_view_module_version": "1.2.0",
            "_view_name": "LayoutView",
            "align_content": null,
            "align_items": null,
            "align_self": null,
            "border": null,
            "bottom": null,
            "display": null,
            "flex": null,
            "flex_flow": null,
            "grid_area": null,
            "grid_auto_columns": null,
            "grid_auto_flow": null,
            "grid_auto_rows": null,
            "grid_column": null,
            "grid_gap": null,
            "grid_row": null,
            "grid_template_areas": null,
            "grid_template_columns": null,
            "grid_template_rows": null,
            "height": "28px",
            "justify_content": null,
            "justify_items": null,
            "left": null,
            "margin": null,
            "max_height": null,
            "max_width": null,
            "min_height": null,
            "min_width": null,
            "object_fit": null,
            "object_position": null,
            "order": null,
            "overflow": null,
            "overflow_x": null,
            "overflow_y": null,
            "padding": "0px 0px 0px 4px",
            "right": null,
            "top": null,
            "visibility": null,
            "width": "28px"
          }
        },
        "045986eba4fb4887b77299660de8eb03": {
          "model_module": "@jupyter-widgets/controls",
          "model_name": "DescriptionStyleModel",
          "model_module_version": "1.5.0",
          "state": {
            "_model_module": "@jupyter-widgets/controls",
            "_model_module_version": "1.5.0",
            "_model_name": "DescriptionStyleModel",
            "_view_count": null,
            "_view_module": "@jupyter-widgets/base",
            "_view_module_version": "1.2.0",
            "_view_name": "StyleView",
            "description_width": ""
          }
        },
        "a69921c14c6c4a09a0870c71b1b6fa64": {
          "model_module": "@jupyter-widgets/base",
          "model_name": "LayoutModel",
          "model_module_version": "1.2.0",
          "state": {
            "_model_module": "@jupyter-widgets/base",
            "_model_module_version": "1.2.0",
            "_model_name": "LayoutModel",
            "_view_count": null,
            "_view_module": "@jupyter-widgets/base",
            "_view_module_version": "1.2.0",
            "_view_name": "LayoutView",
            "align_content": null,
            "align_items": null,
            "align_self": null,
            "border": null,
            "bottom": null,
            "display": null,
            "flex": null,
            "flex_flow": null,
            "grid_area": null,
            "grid_auto_columns": null,
            "grid_auto_flow": null,
            "grid_auto_rows": null,
            "grid_column": null,
            "grid_gap": null,
            "grid_row": null,
            "grid_template_areas": null,
            "grid_template_columns": null,
            "grid_template_rows": null,
            "height": "28px",
            "justify_content": null,
            "justify_items": null,
            "left": null,
            "margin": null,
            "max_height": null,
            "max_width": null,
            "min_height": null,
            "min_width": null,
            "object_fit": null,
            "object_position": null,
            "order": null,
            "overflow": null,
            "overflow_x": null,
            "overflow_y": null,
            "padding": "0px 0px 0px 4px",
            "right": null,
            "top": null,
            "visibility": null,
            "width": "28px"
          }
        },
        "fcd7f7d28a864167ae175ba5e9cbe04a": {
          "model_module": "@jupyter-widgets/controls",
          "model_name": "DescriptionStyleModel",
          "model_module_version": "1.5.0",
          "state": {
            "_model_module": "@jupyter-widgets/controls",
            "_model_module_version": "1.5.0",
            "_model_name": "DescriptionStyleModel",
            "_view_count": null,
            "_view_module": "@jupyter-widgets/base",
            "_view_module_version": "1.2.0",
            "_view_name": "StyleView",
            "description_width": ""
          }
        },
        "dd24ca5e6e034379a72279c01d82d260": {
          "model_module": "jupyter-leaflet",
          "model_name": "LeafletMapModel",
          "model_module_version": "^0.18",
          "state": {
            "_dom_classes": [],
            "_model_module": "jupyter-leaflet",
            "_model_module_version": "^0.18",
            "_model_name": "LeafletMapModel",
            "_view_count": null,
            "_view_module": "jupyter-leaflet",
            "_view_module_version": "^0.18",
            "_view_name": "LeafletMapView",
            "bottom": 565544,
            "bounce_at_zoom_limits": true,
            "box_zoom": true,
            "center": [
              -13.922070952525154,
              -70.82096099853517
            ],
            "close_popup_on_click": true,
            "controls": [
              "IPY_MODEL_90a7f3c1c44345e48c22fa44c086f85e",
              "IPY_MODEL_8dd85688cb524925ac375790110f902c",
              "IPY_MODEL_46f30d0802c3429ab94c9c2224e617a8",
              "IPY_MODEL_e2091141c15240a6b421d0b7b06050df",
              "IPY_MODEL_3c9d090bc99d4c5ea58f0fbdf075be1f",
              "IPY_MODEL_b740eab8cb08405aa4490b145df5aeaa",
              "IPY_MODEL_fb3975e0559e4684b443c0a3333aa74b",
              "IPY_MODEL_8c9c6417d3bd4cc6b0d13bc5e2a132aa"
            ],
            "crs": {
              "name": "EPSG3857",
              "custom": false
            },
            "default_style": "IPY_MODEL_1a31c4e724374d248a7b041843ec5445",
            "double_click_zoom": true,
            "dragging": true,
            "dragging_style": "IPY_MODEL_1e2dd82077354975be746a78e3746946",
            "east": -70.58338165283205,
            "fullscreen": false,
            "inertia": true,
            "inertia_deceleration": 3000,
            "inertia_max_speed": 1500,
            "interpolation": "bilinear",
            "keyboard": true,
            "keyboard_pan_offset": 80,
            "keyboard_zoom_offset": 1,
            "layers": [
              "IPY_MODEL_66ee21c55f9347a59a9ebb68038c6fd5",
              "IPY_MODEL_55dd0cb2fce94af0b1632868165d58d1"
            ],
            "layout": "IPY_MODEL_9dd1a6d5e86f4bffbc112178f2c62608",
            "left": 317315,
            "max_zoom": 24,
            "min_zoom": null,
            "modisdate": "2024-01-03",
            "north": -13.822078202551783,
            "options": [
              "bounce_at_zoom_limits",
              "box_zoom",
              "center",
              "close_popup_on_click",
              "double_click_zoom",
              "dragging",
              "fullscreen",
              "inertia",
              "inertia_deceleration",
              "inertia_max_speed",
              "interpolation",
              "keyboard",
              "keyboard_pan_offset",
              "keyboard_zoom_offset",
              "max_zoom",
              "min_zoom",
              "prefer_canvas",
              "scroll_wheel_zoom",
              "tap",
              "tap_tolerance",
              "touch_zoom",
              "world_copy_jump",
              "zoom",
              "zoom_animation_threshold",
              "zoom_delta",
              "zoom_snap"
            ],
            "panes": {},
            "prefer_canvas": false,
            "right": 318699,
            "scroll_wheel_zoom": true,
            "south": -14.022020463599421,
            "style": "IPY_MODEL_1a31c4e724374d248a7b041843ec5445",
            "tap": true,
            "tap_tolerance": 15,
            "top": 564944,
            "touch_zoom": true,
            "west": -71.0585403442383,
            "window_url": "https://9x2nyh9ie2w-496ff2e9c6d22116-0-colab.googleusercontent.com/outputframe.html?vrz=colab_20240102-060009_RC01_595159414",
            "world_copy_jump": false,
            "zoom": 12,
            "zoom_animation_threshold": 4,
            "zoom_delta": 1,
            "zoom_snap": 1
          }
        },
        "90a7f3c1c44345e48c22fa44c086f85e": {
          "model_module": "jupyter-leaflet",
          "model_name": "LeafletWidgetControlModel",
          "model_module_version": "^0.18",
          "state": {
            "_model_module": "jupyter-leaflet",
            "_model_module_version": "^0.18",
            "_model_name": "LeafletWidgetControlModel",
            "_view_count": null,
            "_view_module": "jupyter-leaflet",
            "_view_module_version": "^0.18",
            "_view_name": "LeafletWidgetControlView",
            "max_height": null,
            "max_width": null,
            "min_height": null,
            "min_width": null,
            "options": [
              "position",
              "transparent_bg"
            ],
            "position": "topleft",
            "transparent_bg": false,
            "widget": "IPY_MODEL_9a534e83d3944da0bc5222026ad47eb5"
          }
        },
        "8dd85688cb524925ac375790110f902c": {
          "model_module": "jupyter-leaflet",
          "model_name": "LeafletZoomControlModel",
          "model_module_version": "^0.18",
          "state": {
            "_model_module": "jupyter-leaflet",
            "_model_module_version": "^0.18",
            "_model_name": "LeafletZoomControlModel",
            "_view_count": null,
            "_view_module": "jupyter-leaflet",
            "_view_module_version": "^0.18",
            "_view_name": "LeafletZoomControlView",
            "options": [
              "position",
              "zoom_in_text",
              "zoom_in_title",
              "zoom_out_text",
              "zoom_out_title"
            ],
            "position": "topleft",
            "zoom_in_text": "+",
            "zoom_in_title": "Zoom in",
            "zoom_out_text": "-",
            "zoom_out_title": "Zoom out"
          }
        },
        "46f30d0802c3429ab94c9c2224e617a8": {
          "model_module": "jupyter-leaflet",
          "model_name": "LeafletFullScreenControlModel",
          "model_module_version": "^0.18",
          "state": {
            "_model_module": "jupyter-leaflet",
            "_model_module_version": "^0.18",
            "_model_name": "LeafletFullScreenControlModel",
            "_view_count": null,
            "_view_module": "jupyter-leaflet",
            "_view_module_version": "^0.18",
            "_view_name": "LeafletFullScreenControlView",
            "options": [
              "position"
            ],
            "position": "topleft"
          }
        },
        "e2091141c15240a6b421d0b7b06050df": {
          "model_module": "jupyter-leaflet",
          "model_name": "LeafletDrawControlModel",
          "model_module_version": "^0.18",
          "state": {
            "_model_module": "jupyter-leaflet",
            "_model_module_version": "^0.18",
            "_model_name": "LeafletDrawControlModel",
            "_view_count": null,
            "_view_module": "jupyter-leaflet",
            "_view_module_version": "^0.18",
            "_view_name": "LeafletDrawControlView",
            "circle": {},
            "circlemarker": {},
            "data": [],
            "edit": true,
            "marker": {
              "shapeOptions": {
                "color": "#3388ff"
              }
            },
            "options": [
              "position"
            ],
            "polygon": {
              "shapeOptions": {}
            },
            "polyline": {
              "shapeOptions": {}
            },
            "position": "topleft",
            "rectangle": {
              "shapeOptions": {
                "color": "#3388ff"
              }
            },
            "remove": true
          }
        },
        "3c9d090bc99d4c5ea58f0fbdf075be1f": {
          "model_module": "jupyter-leaflet",
          "model_name": "LeafletScaleControlModel",
          "model_module_version": "^0.18",
          "state": {
            "_model_module": "jupyter-leaflet",
            "_model_module_version": "^0.18",
            "_model_name": "LeafletScaleControlModel",
            "_view_count": null,
            "_view_module": "jupyter-leaflet",
            "_view_module_version": "^0.18",
            "_view_name": "LeafletScaleControlView",
            "imperial": true,
            "max_width": 100,
            "metric": true,
            "options": [
              "imperial",
              "max_width",
              "metric",
              "position",
              "update_when_idle"
            ],
            "position": "bottomleft",
            "update_when_idle": false
          }
        },
        "b740eab8cb08405aa4490b145df5aeaa": {
          "model_module": "jupyter-leaflet",
          "model_name": "LeafletMeasureControlModel",
          "model_module_version": "^0.18",
          "state": {
            "_custom_units": {},
            "_model_module": "jupyter-leaflet",
            "_model_module_version": "^0.18",
            "_model_name": "LeafletMeasureControlModel",
            "_view_count": null,
            "_view_module": "jupyter-leaflet",
            "_view_module_version": "^0.18",
            "_view_name": "LeafletMeasureControlView",
            "active_color": "orange",
            "capture_z_index": 10000,
            "completed_color": "#C8F2BE",
            "options": [
              "active_color",
              "capture_z_index",
              "completed_color",
              "popup_options",
              "position",
              "primary_area_unit",
              "primary_length_unit",
              "secondary_area_unit",
              "secondary_length_unit"
            ],
            "popup_options": {
              "className": "leaflet-measure-resultpopup",
              "autoPanPadding": [
                10,
                10
              ]
            },
            "position": "bottomleft",
            "primary_area_unit": "acres",
            "primary_length_unit": "kilometers",
            "secondary_area_unit": null,
            "secondary_length_unit": null
          }
        },
        "fb3975e0559e4684b443c0a3333aa74b": {
          "model_module": "jupyter-leaflet",
          "model_name": "LeafletWidgetControlModel",
          "model_module_version": "^0.18",
          "state": {
            "_model_module": "jupyter-leaflet",
            "_model_module_version": "^0.18",
            "_model_name": "LeafletWidgetControlModel",
            "_view_count": null,
            "_view_module": "jupyter-leaflet",
            "_view_module_version": "^0.18",
            "_view_name": "LeafletWidgetControlView",
            "max_height": null,
            "max_width": null,
            "min_height": null,
            "min_width": null,
            "options": [
              "position",
              "transparent_bg"
            ],
            "position": "topright",
            "transparent_bg": false,
            "widget": "IPY_MODEL_b74bad1ea43e46b7baaddc2fd8b33242"
          }
        },
        "8c9c6417d3bd4cc6b0d13bc5e2a132aa": {
          "model_module": "jupyter-leaflet",
          "model_name": "LeafletAttributionControlModel",
          "model_module_version": "^0.18",
          "state": {
            "_model_module": "jupyter-leaflet",
            "_model_module_version": "^0.18",
            "_model_name": "LeafletAttributionControlModel",
            "_view_count": null,
            "_view_module": "jupyter-leaflet",
            "_view_module_version": "^0.18",
            "_view_name": "LeafletAttributionControlView",
            "options": [
              "position",
              "prefix"
            ],
            "position": "bottomright",
            "prefix": "ipyleaflet"
          }
        },
        "1a31c4e724374d248a7b041843ec5445": {
          "model_module": "jupyter-leaflet",
          "model_name": "LeafletMapStyleModel",
          "model_module_version": "^0.18",
          "state": {
            "_model_module": "jupyter-leaflet",
            "_model_module_version": "^0.18",
            "_model_name": "LeafletMapStyleModel",
            "_view_count": null,
            "_view_module": "@jupyter-widgets/base",
            "_view_module_version": "1.2.0",
            "_view_name": "StyleView",
            "cursor": "grab"
          }
        },
        "1e2dd82077354975be746a78e3746946": {
          "model_module": "jupyter-leaflet",
          "model_name": "LeafletMapStyleModel",
          "model_module_version": "^0.18",
          "state": {
            "_model_module": "jupyter-leaflet",
            "_model_module_version": "^0.18",
            "_model_name": "LeafletMapStyleModel",
            "_view_count": null,
            "_view_module": "@jupyter-widgets/base",
            "_view_module_version": "1.2.0",
            "_view_name": "StyleView",
            "cursor": "move"
          }
        },
        "66ee21c55f9347a59a9ebb68038c6fd5": {
          "model_module": "jupyter-leaflet",
          "model_name": "LeafletTileLayerModel",
          "model_module_version": "^0.18",
          "state": {
            "_model_module": "jupyter-leaflet",
            "_model_module_version": "^0.18",
            "_model_name": "LeafletTileLayerModel",
            "_view_count": null,
            "_view_module": "jupyter-leaflet",
            "_view_module_version": "^0.18",
            "_view_name": "LeafletTileLayerView",
            "attribution": "&copy; <a href=\"https://www.openstreetmap.org/copyright\">OpenStreetMap</a> contributors",
            "base": true,
            "bottom": true,
            "bounds": null,
            "detect_retina": false,
            "loading": false,
            "max_native_zoom": null,
            "max_zoom": 19,
            "min_native_zoom": null,
            "min_zoom": 1,
            "name": "OpenStreetMap.Mapnik",
            "no_wrap": false,
            "opacity": 1,
            "options": [
              "attribution",
              "bounds",
              "detect_retina",
              "max_native_zoom",
              "max_zoom",
              "min_native_zoom",
              "min_zoom",
              "no_wrap",
              "tile_size",
              "tms",
              "zoom_offset"
            ],
            "pane": "",
            "popup": null,
            "popup_max_height": null,
            "popup_max_width": 300,
            "popup_min_width": 50,
            "show_loading": false,
            "subitems": [],
            "tile_size": 256,
            "tms": false,
            "url": "https://tile.openstreetmap.org/{z}/{x}/{y}.png",
            "visible": true,
            "zoom_offset": 0
          }
        },
        "55dd0cb2fce94af0b1632868165d58d1": {
          "model_module": "jupyter-leaflet",
          "model_name": "LeafletTileLayerModel",
          "model_module_version": "^0.18",
          "state": {
            "_model_module": "jupyter-leaflet",
            "_model_module_version": "^0.18",
            "_model_name": "LeafletTileLayerModel",
            "_view_count": null,
            "_view_module": "jupyter-leaflet",
            "_view_module_version": "^0.18",
            "_view_name": "LeafletTileLayerView",
            "attribution": "Google Earth Engine",
            "base": false,
            "bottom": true,
            "bounds": null,
            "detect_retina": false,
            "loading": false,
            "max_native_zoom": null,
            "max_zoom": 24,
            "min_native_zoom": null,
            "min_zoom": 0,
            "name": "Colour Composite Image",
            "no_wrap": false,
            "opacity": 1,
            "options": [
              "attribution",
              "bounds",
              "detect_retina",
              "max_native_zoom",
              "max_zoom",
              "min_native_zoom",
              "min_zoom",
              "no_wrap",
              "tile_size",
              "tms",
              "zoom_offset"
            ],
            "pane": "",
            "popup": null,
            "popup_max_height": null,
            "popup_max_width": 300,
            "popup_min_width": 50,
            "show_loading": false,
            "subitems": [],
            "tile_size": 256,
            "tms": false,
            "url": "https://earthengine.googleapis.com/v1/projects/ee-trchudley/maps/e741610c29cc94778176ce673b10031e-3f41bdff2d6a82ad4e5a6deb6a4c9873/tiles/{z}/{x}/{y}",
            "visible": true,
            "zoom_offset": 0
          }
        },
        "9dd1a6d5e86f4bffbc112178f2c62608": {
          "model_module": "@jupyter-widgets/base",
          "model_name": "LayoutModel",
          "model_module_version": "1.2.0",
          "state": {
            "_model_module": "@jupyter-widgets/base",
            "_model_module_version": "1.2.0",
            "_model_name": "LayoutModel",
            "_view_count": null,
            "_view_module": "@jupyter-widgets/base",
            "_view_module_version": "1.2.0",
            "_view_name": "LayoutView",
            "align_content": null,
            "align_items": null,
            "align_self": null,
            "border": null,
            "bottom": null,
            "display": null,
            "flex": null,
            "flex_flow": null,
            "grid_area": null,
            "grid_auto_columns": null,
            "grid_auto_flow": null,
            "grid_auto_rows": null,
            "grid_column": null,
            "grid_gap": null,
            "grid_row": null,
            "grid_template_areas": null,
            "grid_template_columns": null,
            "grid_template_rows": null,
            "height": "600px",
            "justify_content": null,
            "justify_items": null,
            "left": null,
            "margin": null,
            "max_height": null,
            "max_width": null,
            "min_height": null,
            "min_width": null,
            "object_fit": null,
            "object_position": null,
            "order": null,
            "overflow": null,
            "overflow_x": null,
            "overflow_y": null,
            "padding": null,
            "right": null,
            "top": null,
            "visibility": null,
            "width": null
          }
        },
        "c849b8045a124ba080e4765e678e4c76": {
          "model_module": "jupyter-leaflet",
          "model_name": "LeafletMapStyleModel",
          "model_module_version": "^0.18",
          "state": {
            "_model_module": "jupyter-leaflet",
            "_model_module_version": "^0.18",
            "_model_name": "LeafletMapStyleModel",
            "_view_count": null,
            "_view_module": "@jupyter-widgets/base",
            "_view_module_version": "1.2.0",
            "_view_name": "StyleView",
            "cursor": "grab"
          }
        },
        "9a534e83d3944da0bc5222026ad47eb5": {
          "model_module": "@jupyter-widgets/controls",
          "model_name": "HBoxModel",
          "model_module_version": "1.5.0",
          "state": {
            "_dom_classes": [
              "geemap-colab"
            ],
            "_model_module": "@jupyter-widgets/controls",
            "_model_module_version": "1.5.0",
            "_model_name": "HBoxModel",
            "_view_count": null,
            "_view_module": "@jupyter-widgets/controls",
            "_view_module_version": "1.5.0",
            "_view_name": "HBoxView",
            "box_style": "",
            "children": [
              "IPY_MODEL_03b03da92c4445f4861a604b20d32fd1"
            ],
            "layout": "IPY_MODEL_6850470ef0c74c129a24f88d609a7056"
          }
        },
        "b74bad1ea43e46b7baaddc2fd8b33242": {
          "model_module": "@jupyter-widgets/controls",
          "model_name": "VBoxModel",
          "model_module_version": "1.5.0",
          "state": {
            "_dom_classes": [
              "geemap-colab"
            ],
            "_model_module": "@jupyter-widgets/controls",
            "_model_module_version": "1.5.0",
            "_model_name": "VBoxModel",
            "_view_count": null,
            "_view_module": "@jupyter-widgets/controls",
            "_view_module_version": "1.5.0",
            "_view_name": "VBoxView",
            "box_style": "",
            "children": [
              "IPY_MODEL_e5b4708d005348838eaf60a7a6f9e285"
            ],
            "layout": "IPY_MODEL_7e53cec752984f828465d7c1665e3af4"
          }
        },
        "03b03da92c4445f4861a604b20d32fd1": {
          "model_module": "@jupyter-widgets/controls",
          "model_name": "ToggleButtonModel",
          "model_module_version": "1.5.0",
          "state": {
            "_dom_classes": [],
            "_model_module": "@jupyter-widgets/controls",
            "_model_module_version": "1.5.0",
            "_model_name": "ToggleButtonModel",
            "_view_count": null,
            "_view_module": "@jupyter-widgets/controls",
            "_view_module_version": "1.5.0",
            "_view_name": "ToggleButtonView",
            "button_style": "",
            "description": "",
            "description_tooltip": null,
            "disabled": false,
            "icon": "globe",
            "layout": "IPY_MODEL_1420f8f9ce844292885d32ad897273b9",
            "style": "IPY_MODEL_1824ea9657db4ba8ad1c6df0739d99ff",
            "tooltip": "Search location/data",
            "value": false
          }
        },
        "6850470ef0c74c129a24f88d609a7056": {
          "model_module": "@jupyter-widgets/base",
          "model_name": "LayoutModel",
          "model_module_version": "1.2.0",
          "state": {
            "_model_module": "@jupyter-widgets/base",
            "_model_module_version": "1.2.0",
            "_model_name": "LayoutModel",
            "_view_count": null,
            "_view_module": "@jupyter-widgets/base",
            "_view_module_version": "1.2.0",
            "_view_name": "LayoutView",
            "align_content": null,
            "align_items": null,
            "align_self": null,
            "border": null,
            "bottom": null,
            "display": null,
            "flex": null,
            "flex_flow": null,
            "grid_area": null,
            "grid_auto_columns": null,
            "grid_auto_flow": null,
            "grid_auto_rows": null,
            "grid_column": null,
            "grid_gap": null,
            "grid_row": null,
            "grid_template_areas": null,
            "grid_template_columns": null,
            "grid_template_rows": null,
            "height": null,
            "justify_content": null,
            "justify_items": null,
            "left": null,
            "margin": null,
            "max_height": null,
            "max_width": null,
            "min_height": null,
            "min_width": null,
            "object_fit": null,
            "object_position": null,
            "order": null,
            "overflow": null,
            "overflow_x": null,
            "overflow_y": null,
            "padding": null,
            "right": null,
            "top": null,
            "visibility": null,
            "width": null
          }
        },
        "e5b4708d005348838eaf60a7a6f9e285": {
          "model_module": "@jupyter-widgets/controls",
          "model_name": "ToggleButtonModel",
          "model_module_version": "1.5.0",
          "state": {
            "_dom_classes": [],
            "_model_module": "@jupyter-widgets/controls",
            "_model_module_version": "1.5.0",
            "_model_name": "ToggleButtonModel",
            "_view_count": null,
            "_view_module": "@jupyter-widgets/controls",
            "_view_module_version": "1.5.0",
            "_view_name": "ToggleButtonView",
            "button_style": "",
            "description": "",
            "description_tooltip": null,
            "disabled": false,
            "icon": "wrench",
            "layout": "IPY_MODEL_6f61fa0220cd44ef8fa8742a58df3773",
            "style": "IPY_MODEL_5ace7aa3b2a942c79c10808a68bf769d",
            "tooltip": "Toolbar",
            "value": false
          }
        },
        "7e53cec752984f828465d7c1665e3af4": {
          "model_module": "@jupyter-widgets/base",
          "model_name": "LayoutModel",
          "model_module_version": "1.2.0",
          "state": {
            "_model_module": "@jupyter-widgets/base",
            "_model_module_version": "1.2.0",
            "_model_name": "LayoutModel",
            "_view_count": null,
            "_view_module": "@jupyter-widgets/base",
            "_view_module_version": "1.2.0",
            "_view_name": "LayoutView",
            "align_content": null,
            "align_items": null,
            "align_self": null,
            "border": null,
            "bottom": null,
            "display": null,
            "flex": null,
            "flex_flow": null,
            "grid_area": null,
            "grid_auto_columns": null,
            "grid_auto_flow": null,
            "grid_auto_rows": null,
            "grid_column": null,
            "grid_gap": null,
            "grid_row": null,
            "grid_template_areas": null,
            "grid_template_columns": null,
            "grid_template_rows": null,
            "height": null,
            "justify_content": null,
            "justify_items": null,
            "left": null,
            "margin": null,
            "max_height": null,
            "max_width": null,
            "min_height": null,
            "min_width": null,
            "object_fit": null,
            "object_position": null,
            "order": null,
            "overflow": null,
            "overflow_x": null,
            "overflow_y": null,
            "padding": null,
            "right": null,
            "top": null,
            "visibility": null,
            "width": null
          }
        },
        "1420f8f9ce844292885d32ad897273b9": {
          "model_module": "@jupyter-widgets/base",
          "model_name": "LayoutModel",
          "model_module_version": "1.2.0",
          "state": {
            "_model_module": "@jupyter-widgets/base",
            "_model_module_version": "1.2.0",
            "_model_name": "LayoutModel",
            "_view_count": null,
            "_view_module": "@jupyter-widgets/base",
            "_view_module_version": "1.2.0",
            "_view_name": "LayoutView",
            "align_content": null,
            "align_items": null,
            "align_self": null,
            "border": null,
            "bottom": null,
            "display": null,
            "flex": null,
            "flex_flow": null,
            "grid_area": null,
            "grid_auto_columns": null,
            "grid_auto_flow": null,
            "grid_auto_rows": null,
            "grid_column": null,
            "grid_gap": null,
            "grid_row": null,
            "grid_template_areas": null,
            "grid_template_columns": null,
            "grid_template_rows": null,
            "height": "28px",
            "justify_content": null,
            "justify_items": null,
            "left": null,
            "margin": null,
            "max_height": null,
            "max_width": null,
            "min_height": null,
            "min_width": null,
            "object_fit": null,
            "object_position": null,
            "order": null,
            "overflow": null,
            "overflow_x": null,
            "overflow_y": null,
            "padding": "0px 0px 0px 4px",
            "right": null,
            "top": null,
            "visibility": null,
            "width": "28px"
          }
        },
        "1824ea9657db4ba8ad1c6df0739d99ff": {
          "model_module": "@jupyter-widgets/controls",
          "model_name": "DescriptionStyleModel",
          "model_module_version": "1.5.0",
          "state": {
            "_model_module": "@jupyter-widgets/controls",
            "_model_module_version": "1.5.0",
            "_model_name": "DescriptionStyleModel",
            "_view_count": null,
            "_view_module": "@jupyter-widgets/base",
            "_view_module_version": "1.2.0",
            "_view_name": "StyleView",
            "description_width": ""
          }
        },
        "6f61fa0220cd44ef8fa8742a58df3773": {
          "model_module": "@jupyter-widgets/base",
          "model_name": "LayoutModel",
          "model_module_version": "1.2.0",
          "state": {
            "_model_module": "@jupyter-widgets/base",
            "_model_module_version": "1.2.0",
            "_model_name": "LayoutModel",
            "_view_count": null,
            "_view_module": "@jupyter-widgets/base",
            "_view_module_version": "1.2.0",
            "_view_name": "LayoutView",
            "align_content": null,
            "align_items": null,
            "align_self": null,
            "border": null,
            "bottom": null,
            "display": null,
            "flex": null,
            "flex_flow": null,
            "grid_area": null,
            "grid_auto_columns": null,
            "grid_auto_flow": null,
            "grid_auto_rows": null,
            "grid_column": null,
            "grid_gap": null,
            "grid_row": null,
            "grid_template_areas": null,
            "grid_template_columns": null,
            "grid_template_rows": null,
            "height": "28px",
            "justify_content": null,
            "justify_items": null,
            "left": null,
            "margin": null,
            "max_height": null,
            "max_width": null,
            "min_height": null,
            "min_width": null,
            "object_fit": null,
            "object_position": null,
            "order": null,
            "overflow": null,
            "overflow_x": null,
            "overflow_y": null,
            "padding": "0px 0px 0px 4px",
            "right": null,
            "top": null,
            "visibility": null,
            "width": "28px"
          }
        },
        "5ace7aa3b2a942c79c10808a68bf769d": {
          "model_module": "@jupyter-widgets/controls",
          "model_name": "DescriptionStyleModel",
          "model_module_version": "1.5.0",
          "state": {
            "_model_module": "@jupyter-widgets/controls",
            "_model_module_version": "1.5.0",
            "_model_name": "DescriptionStyleModel",
            "_view_count": null,
            "_view_module": "@jupyter-widgets/base",
            "_view_module_version": "1.2.0",
            "_view_name": "StyleView",
            "description_width": ""
          }
        },
        "be06f195e9664f58a9775ae844e17179": {
          "model_module": "@jupyter-widgets/controls",
          "model_name": "VBoxModel",
          "model_module_version": "1.5.0",
          "state": {
            "_dom_classes": [],
            "_model_module": "@jupyter-widgets/controls",
            "_model_module_version": "1.5.0",
            "_model_name": "VBoxModel",
            "_view_count": null,
            "_view_module": "@jupyter-widgets/controls",
            "_view_module_version": "1.5.0",
            "_view_name": "VBoxView",
            "box_style": "",
            "children": [
              "IPY_MODEL_23bc2beb76604d7a9f7f025fb8f08773",
              "IPY_MODEL_dd316bddeedf41138904714deaa7eaa0"
            ],
            "layout": "IPY_MODEL_eb412be5ced04126ab223d5c41bc9df4"
          }
        },
        "23bc2beb76604d7a9f7f025fb8f08773": {
          "model_module": "bqplot",
          "model_name": "FigureModel",
          "model_module_version": "^0.5",
          "state": {
            "_dom_classes": [],
            "_model_module": "bqplot",
            "_model_module_version": "^0.5",
            "_model_name": "FigureModel",
            "_view_count": null,
            "_view_module": "bqplot",
            "_view_module_version": "^0.5",
            "_view_name": "Figure",
            "animation_duration": 0,
            "axes": [
              "IPY_MODEL_ce24a96418644078939dc6b2ab7f1dfb",
              "IPY_MODEL_5332c9c4b2fd406ba8302bd45f468876"
            ],
            "background_style": {},
            "fig_margin": {
              "top": 60,
              "bottom": 60,
              "left": 60,
              "right": 60
            },
            "interaction": null,
            "layout": "IPY_MODEL_8fbd9f68bc7b430681796956f4485996",
            "legend_location": "top-right",
            "legend_style": {},
            "legend_text": {},
            "marks": [
              "IPY_MODEL_9885d5756ba4470e8841d316027bb105"
            ],
            "max_aspect_ratio": 100,
            "min_aspect_ratio": 0.01,
            "padding_x": 0,
            "padding_y": 0.025,
            "pixel_ratio": null,
            "scale_x": "IPY_MODEL_090c6c0b6e9944d28f7b45d43b46027b",
            "scale_y": "IPY_MODEL_e1775c72d0ea4a30ab8d98cfd5cde327",
            "theme": "classic",
            "title": "",
            "title_style": {}
          }
        },
        "dd316bddeedf41138904714deaa7eaa0": {
          "model_module": "bqplot",
          "model_name": "ToolbarModel",
          "model_module_version": "^0.5",
          "state": {
            "_dom_classes": [],
            "_model_module": "bqplot",
            "_model_module_version": "^0.5",
            "_model_name": "ToolbarModel",
            "_panning": false,
            "_panzoom": null,
            "_view_count": null,
            "_view_module": "bqplot",
            "_view_module_version": "^0.5",
            "_view_name": "Toolbar",
            "figure": "IPY_MODEL_23bc2beb76604d7a9f7f025fb8f08773",
            "layout": "IPY_MODEL_4c4f01db222b49f2b7a687bc3ede6389"
          }
        },
        "eb412be5ced04126ab223d5c41bc9df4": {
          "model_module": "@jupyter-widgets/base",
          "model_name": "LayoutModel",
          "model_module_version": "1.2.0",
          "state": {
            "_model_module": "@jupyter-widgets/base",
            "_model_module_version": "1.2.0",
            "_model_name": "LayoutModel",
            "_view_count": null,
            "_view_module": "@jupyter-widgets/base",
            "_view_module_version": "1.2.0",
            "_view_name": "LayoutView",
            "align_content": null,
            "align_items": null,
            "align_self": null,
            "border": null,
            "bottom": null,
            "display": null,
            "flex": null,
            "flex_flow": null,
            "grid_area": null,
            "grid_auto_columns": null,
            "grid_auto_flow": null,
            "grid_auto_rows": null,
            "grid_column": null,
            "grid_gap": null,
            "grid_row": null,
            "grid_template_areas": null,
            "grid_template_columns": null,
            "grid_template_rows": null,
            "height": null,
            "justify_content": null,
            "justify_items": null,
            "left": null,
            "margin": null,
            "max_height": null,
            "max_width": null,
            "min_height": null,
            "min_width": null,
            "object_fit": null,
            "object_position": null,
            "order": null,
            "overflow": null,
            "overflow_x": null,
            "overflow_y": null,
            "padding": null,
            "right": null,
            "top": null,
            "visibility": null,
            "width": null
          }
        },
        "ce24a96418644078939dc6b2ab7f1dfb": {
          "model_module": "bqplot",
          "model_name": "AxisModel",
          "model_module_version": "^0.5",
          "state": {
            "_model_module": "bqplot",
            "_model_module_version": "^0.5",
            "_model_name": "AxisModel",
            "_view_count": null,
            "_view_module": "bqplot",
            "_view_module_version": "^0.5",
            "_view_name": "Axis",
            "color": null,
            "grid_color": null,
            "grid_lines": "solid",
            "label": "",
            "label_color": null,
            "label_location": "middle",
            "label_offset": null,
            "num_ticks": null,
            "offset": {},
            "orientation": "vertical",
            "scale": "IPY_MODEL_fba42708070e4e248b4cac869772e8c4",
            "side": "left",
            "tick_format": null,
            "tick_labels": {},
            "tick_rotate": 0,
            "tick_style": {},
            "tick_values": null,
            "visible": true
          }
        },
        "5332c9c4b2fd406ba8302bd45f468876": {
          "model_module": "bqplot",
          "model_name": "AxisModel",
          "model_module_version": "^0.5",
          "state": {
            "_model_module": "bqplot",
            "_model_module_version": "^0.5",
            "_model_name": "AxisModel",
            "_view_count": null,
            "_view_module": "bqplot",
            "_view_module_version": "^0.5",
            "_view_name": "Axis",
            "color": null,
            "grid_color": null,
            "grid_lines": "solid",
            "label": "",
            "label_color": null,
            "label_location": "middle",
            "label_offset": null,
            "num_ticks": null,
            "offset": {},
            "orientation": "horizontal",
            "scale": "IPY_MODEL_0425521f09444259a0a9db1958b7aa3c",
            "side": "bottom",
            "tick_format": null,
            "tick_labels": {},
            "tick_rotate": 0,
            "tick_style": {},
            "tick_values": null,
            "visible": true
          }
        },
        "8fbd9f68bc7b430681796956f4485996": {
          "model_module": "@jupyter-widgets/base",
          "model_name": "LayoutModel",
          "model_module_version": "1.2.0",
          "state": {
            "_model_module": "@jupyter-widgets/base",
            "_model_module_version": "1.2.0",
            "_model_name": "LayoutModel",
            "_view_count": null,
            "_view_module": "@jupyter-widgets/base",
            "_view_module_version": "1.2.0",
            "_view_name": "LayoutView",
            "align_content": null,
            "align_items": null,
            "align_self": null,
            "border": null,
            "bottom": null,
            "display": null,
            "flex": null,
            "flex_flow": null,
            "grid_area": null,
            "grid_auto_columns": null,
            "grid_auto_flow": null,
            "grid_auto_rows": null,
            "grid_column": null,
            "grid_gap": null,
            "grid_row": null,
            "grid_template_areas": null,
            "grid_template_columns": null,
            "grid_template_rows": null,
            "height": null,
            "justify_content": null,
            "justify_items": null,
            "left": null,
            "margin": null,
            "max_height": null,
            "max_width": null,
            "min_height": null,
            "min_width": null,
            "object_fit": null,
            "object_position": null,
            "order": null,
            "overflow": null,
            "overflow_x": null,
            "overflow_y": null,
            "padding": null,
            "right": null,
            "top": null,
            "visibility": null,
            "width": null
          }
        },
        "9885d5756ba4470e8841d316027bb105": {
          "model_module": "bqplot",
          "model_name": "HistModel",
          "model_module_version": "^0.5",
          "state": {
            "_model_module": "bqplot",
            "_model_module_version": "^0.5",
            "_model_name": "HistModel",
            "_view_count": null,
            "_view_module": "bqplot",
            "_view_module_version": "^0.5",
            "_view_name": "Hist",
            "apply_clip": true,
            "bins": 146,
            "colors": [
              "steelblue"
            ],
            "count": {
              "dtype": "float64",
              "shape": [
                146
              ],
              "type": null
            },
            "display_legend": false,
            "enable_hover": true,
            "interactions": {
              "hover": "tooltip"
            },
            "labels": [],
            "midpoints": [
              -0.4765625,
              -0.46875,
              -0.4609375,
              -0.453125,
              -0.4453125,
              -0.4375,
              -0.4296875,
              -0.421875,
              -0.4140625,
              -0.40625,
              -0.3984375,
              -0.390625,
              -0.3828125,
              -0.375,
              -0.3671875,
              -0.359375,
              -0.3515625,
              -0.34375,
              -0.3359375,
              -0.328125,
              -0.3203125,
              -0.3125,
              -0.3046875,
              -0.296875,
              -0.2890625,
              -0.28125,
              -0.2734375,
              -0.265625,
              -0.2578125,
              -0.25,
              -0.2421875,
              -0.234375,
              -0.2265625,
              -0.21875,
              -0.2109375,
              -0.203125,
              -0.1953125,
              -0.1875,
              -0.1796875,
              -0.171875,
              -0.1640625,
              -0.15625,
              -0.1484375,
              -0.140625,
              -0.1328125,
              -0.125,
              -0.1171875,
              -0.109375,
              -0.1015625,
              -0.09375,
              -0.0859375,
              -0.078125,
              -0.0703125,
              -0.0625,
              -0.0546875,
              -0.046875,
              -0.0390625,
              -0.03125,
              -0.0234375,
              -0.015625,
              -0.0078125,
              0,
              0.0078125,
              0.015625,
              0.0234375,
              0.03125,
              0.0390625,
              0.046875,
              0.0546875,
              0.0625,
              0.0703125,
              0.078125,
              0.0859375,
              0.09375,
              0.1015625,
              0.109375,
              0.1171875,
              0.125,
              0.1328125,
              0.140625,
              0.1484375,
              0.15625,
              0.1640625,
              0.171875,
              0.1796875,
              0.1875,
              0.1953125,
              0.203125,
              0.2109375,
              0.21875,
              0.2265625,
              0.234375,
              0.2421875,
              0.25,
              0.2578125,
              0.265625,
              0.2734375,
              0.28125,
              0.2890625,
              0.296875,
              0.3046875,
              0.3125,
              0.3203125,
              0.328125,
              0.3359375,
              0.34375,
              0.3515625,
              0.359375,
              0.3671875,
              0.375,
              0.3828125,
              0.390625,
              0.3984375,
              0.40625,
              0.4140625,
              0.421875,
              0.4296875,
              0.4375,
              0.4453125,
              0.453125,
              0.4609375,
              0.46875,
              0.4765625,
              0.484375,
              0.4921875,
              0.5,
              0.5078125,
              0.515625,
              0.5234375,
              0.53125,
              0.5390625,
              0.546875,
              0.5546875,
              0.5625,
              0.5703125,
              0.578125,
              0.5859375,
              0.59375,
              0.6015625,
              0.609375,
              0.6171875,
              0.625,
              0.6328125,
              0.640625,
              0.6484375
            ],
            "normalized": false,
            "opacities": [],
            "preserve_domain": {},
            "sample": {
              "dtype": "float64",
              "shape": [
                11
              ],
              "type": null
            },
            "scales": {
              "count": "IPY_MODEL_fba42708070e4e248b4cac869772e8c4",
              "sample": "IPY_MODEL_0425521f09444259a0a9db1958b7aa3c"
            },
            "scales_metadata": {
              "sample": {
                "orientation": "horizontal",
                "dimension": "x"
              },
              "count": {
                "orientation": "vertical",
                "dimension": "y"
              }
            },
            "selected": null,
            "selected_style": {},
            "stroke": "#ffffff00",
            "tooltip": "IPY_MODEL_be98f8f074854651b2fc23b5a33e5193",
            "tooltip_location": "mouse",
            "tooltip_style": {
              "opacity": 0.9
            },
            "unselected_style": {},
            "visible": true
          }
        },
        "090c6c0b6e9944d28f7b45d43b46027b": {
          "model_module": "bqplot",
          "model_name": "LinearScaleModel",
          "model_module_version": "^0.5",
          "state": {
            "_model_module": "bqplot",
            "_model_module_version": "^0.5",
            "_model_name": "LinearScaleModel",
            "_view_count": null,
            "_view_module": "bqplot",
            "_view_module_version": "^0.5",
            "_view_name": "LinearScale",
            "allow_padding": false,
            "max": 1,
            "mid_range": 0.8,
            "min": 0,
            "min_range": 0.6,
            "reverse": false,
            "stabilized": false
          }
        },
        "e1775c72d0ea4a30ab8d98cfd5cde327": {
          "model_module": "bqplot",
          "model_name": "LinearScaleModel",
          "model_module_version": "^0.5",
          "state": {
            "_model_module": "bqplot",
            "_model_module_version": "^0.5",
            "_model_name": "LinearScaleModel",
            "_view_count": null,
            "_view_module": "bqplot",
            "_view_module_version": "^0.5",
            "_view_name": "LinearScale",
            "allow_padding": false,
            "max": 1,
            "mid_range": 0.8,
            "min": 0,
            "min_range": 0.6,
            "reverse": false,
            "stabilized": false
          }
        },
        "4c4f01db222b49f2b7a687bc3ede6389": {
          "model_module": "@jupyter-widgets/base",
          "model_name": "LayoutModel",
          "model_module_version": "1.2.0",
          "state": {
            "_model_module": "@jupyter-widgets/base",
            "_model_module_version": "1.2.0",
            "_model_name": "LayoutModel",
            "_view_count": null,
            "_view_module": "@jupyter-widgets/base",
            "_view_module_version": "1.2.0",
            "_view_name": "LayoutView",
            "align_content": null,
            "align_items": null,
            "align_self": null,
            "border": null,
            "bottom": null,
            "display": null,
            "flex": null,
            "flex_flow": null,
            "grid_area": null,
            "grid_auto_columns": null,
            "grid_auto_flow": null,
            "grid_auto_rows": null,
            "grid_column": null,
            "grid_gap": null,
            "grid_row": null,
            "grid_template_areas": null,
            "grid_template_columns": null,
            "grid_template_rows": null,
            "height": null,
            "justify_content": null,
            "justify_items": null,
            "left": null,
            "margin": null,
            "max_height": null,
            "max_width": null,
            "min_height": null,
            "min_width": null,
            "object_fit": null,
            "object_position": null,
            "order": null,
            "overflow": null,
            "overflow_x": null,
            "overflow_y": null,
            "padding": null,
            "right": null,
            "top": null,
            "visibility": null,
            "width": null
          }
        },
        "fba42708070e4e248b4cac869772e8c4": {
          "model_module": "bqplot",
          "model_name": "LinearScaleModel",
          "model_module_version": "^0.5",
          "state": {
            "_model_module": "bqplot",
            "_model_module_version": "^0.5",
            "_model_name": "LinearScaleModel",
            "_view_count": null,
            "_view_module": "bqplot",
            "_view_module_version": "^0.5",
            "_view_name": "LinearScale",
            "allow_padding": true,
            "max": null,
            "mid_range": 0.8,
            "min": null,
            "min_range": 0.6,
            "reverse": false,
            "stabilized": false
          }
        },
        "0425521f09444259a0a9db1958b7aa3c": {
          "model_module": "bqplot",
          "model_name": "LinearScaleModel",
          "model_module_version": "^0.5",
          "state": {
            "_model_module": "bqplot",
            "_model_module_version": "^0.5",
            "_model_name": "LinearScaleModel",
            "_view_count": null,
            "_view_module": "bqplot",
            "_view_module_version": "^0.5",
            "_view_name": "LinearScale",
            "allow_padding": true,
            "max": null,
            "mid_range": 0.8,
            "min": null,
            "min_range": 0.6,
            "reverse": false,
            "stabilized": false
          }
        },
        "be98f8f074854651b2fc23b5a33e5193": {
          "model_module": "bqplot",
          "model_name": "TooltipModel",
          "model_module_version": "^0.5",
          "state": {
            "_dom_classes": [],
            "_model_module": "bqplot",
            "_model_module_version": "^0.5",
            "_model_name": "TooltipModel",
            "_view_count": null,
            "_view_module": "bqplot",
            "_view_module_version": "^0.5",
            "_view_name": "Tooltip",
            "fields": [
              "midpoint",
              "count"
            ],
            "formats": [],
            "labels": [],
            "layout": "IPY_MODEL_56a605e1745a483588a3fecc65fd1445",
            "show_labels": true
          }
        },
        "56a605e1745a483588a3fecc65fd1445": {
          "model_module": "@jupyter-widgets/base",
          "model_name": "LayoutModel",
          "model_module_version": "1.2.0",
          "state": {
            "_model_module": "@jupyter-widgets/base",
            "_model_module_version": "1.2.0",
            "_model_name": "LayoutModel",
            "_view_count": null,
            "_view_module": "@jupyter-widgets/base",
            "_view_module_version": "1.2.0",
            "_view_name": "LayoutView",
            "align_content": null,
            "align_items": null,
            "align_self": null,
            "border": null,
            "bottom": null,
            "display": null,
            "flex": null,
            "flex_flow": null,
            "grid_area": null,
            "grid_auto_columns": null,
            "grid_auto_flow": null,
            "grid_auto_rows": null,
            "grid_column": null,
            "grid_gap": null,
            "grid_row": null,
            "grid_template_areas": null,
            "grid_template_columns": null,
            "grid_template_rows": null,
            "height": null,
            "justify_content": null,
            "justify_items": null,
            "left": null,
            "margin": null,
            "max_height": null,
            "max_width": null,
            "min_height": null,
            "min_width": null,
            "object_fit": null,
            "object_position": null,
            "order": null,
            "overflow": null,
            "overflow_x": null,
            "overflow_y": null,
            "padding": null,
            "right": null,
            "top": null,
            "visibility": null,
            "width": null
          }
        }
      }
    }
  },
  "nbformat": 4,
  "nbformat_minor": 5
}