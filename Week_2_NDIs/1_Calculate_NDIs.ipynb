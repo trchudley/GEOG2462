{
 "cells": [
  {
   "cell_type": "markdown",
   "id": "0c4e9125-7321-4e43-a018-bf7da4c3d708",
   "metadata": {},
   "source": [
    "# Calcualte a normalised difference index in Google Earth Engine"
   ]
  },
  {
   "cell_type": "code",
   "execution_count": null,
   "id": "a50c0c13-4605-4088-bda7-27506c1b926c",
   "metadata": {},
   "outputs": [],
   "source": []
  }
 ],
 "metadata": {
  "kernelspec": {
   "display_name": "Python (geospatial)",
   "language": "python",
   "name": "geospatial"
  },
  "language_info": {
   "codemirror_mode": {
    "name": "ipython",
    "version": 3
   },
   "file_extension": ".py",
   "mimetype": "text/x-python",
   "name": "python",
   "nbconvert_exporter": "python",
   "pygments_lexer": "ipython3",
   "version": "3.10.9"
  }
 },
 "nbformat": 4,
 "nbformat_minor": 5
}
