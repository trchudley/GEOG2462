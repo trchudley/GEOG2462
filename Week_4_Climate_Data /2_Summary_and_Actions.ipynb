{
  "nbformat": 4,
  "nbformat_minor": 0,
  "metadata": {
    "colab": {
      "provenance": [],
      "authorship_tag": "ABX9TyPPmTOB1TP7kKKEm4xFFGiL"
    },
    "kernelspec": {
      "name": "python3",
      "display_name": "Python 3"
    },
    "language_info": {
      "name": "python"
    }
  },
  "cells": [
    {
      "cell_type": "markdown",
      "source": [
        "# Week 4 Summary and Actions\n",
        "\n",
        "This week, we learned how to:\n",
        "\n",
        " - How to download ERA5 reanalysis climate data for a point on the Earth of our choosing.\n",
        " - Plot this data in Python.\n",
        " - Export this data for further analysis.\n",
        "\n",
        "\n",
        " We did this for a region of Northern California between 2023-2024, showing how we might use this data to explore potential causes for hypothesised changes (wildfires) revealed in our NDI values from week 3.\n",
        "\n",
        " **Task 1: Exploring other variables**\n",
        "\n",
        " In the session notebook, I hypothesised that `temperature_2m_max` might be a more important control on wildfires than `temperature_2m`. Edit the notebook to plot this instead of `temperature_2m`. You will have to do the following:\n",
        "\n",
        " 1. Add `temperature_2m_max` to the list of variables to download.\n",
        " 2. Correct the `temperature_2m_max` column in the table from Kelvin to Celcius.\n",
        " 3. Set the figure to plot `temperature_2m_max` rather than `temperature_2m`.\n",
        "\n",
        "All of this should be achievable by carefully looking at the code and copying/modifying what is already there!\n",
        "\n",
        "Does the `temperature_2m_max` look more likely to correlate with the 2020 and 2023 wildfire years? What about `temperature_2m_min`? Or any other likely variables from [the documentation](https://developers.google.com/earth-engine/datasets/catalog/ECMWF_ERA5_LAND_MONTHLY_AGGR#bands)?\n",
        "\n",
        "**Task 2: Begin your project!**\n",
        "\n",
        "With the skills you have developed over the past few weeks, you should be in a position to generate data for your own project. Hopefully, the material in this course has sparked your own ideas to assess changes in land surface (vegetation, snow, ice, water, etc...) in a region of your own choosing. You do not have to use _all_ of the methods used -- for instance, it probably makes little sense to perform Week 3's time-series approach to a study mapping changes in _area_ (e.g. glacier size). However, I hope you will be able to introduce a small amount of additional analysis of your own. For instance, if you map the extent of $X$ (where $X$ is a forest, a fire extent, ice, an urban area, a seasonal flood, etc. etc.) over ten years using Week 3's mapping approach, you could plot these extents in a scatter or bar graph, and even perform a linear regression if this is appropriate.\n",
        "\n",
        "**Tips for the Project**\n",
        "\n",
        "The structure of your report (intro, methods, results, dicussion, conclusions) have been made clear elsewhere, so I won't repeat it here. However, some ideas as to figures you could include to aid your analysis include the following:\n",
        "\n",
        " - A location map showing (i) your study area within a larger context (highly recommended: make in QGIS or ArcMap if you like, although if Google Earth gets the job done no one is going to judge you!); and (ii) an example true-colour or false-colour image such as you produced in Week 1. This will pair with your introduction as you introduce your study site.\n",
        " - NDI images (from Week 2) at different periods, showing how NDI is changing across your study site. This could be sequential through time/years if you are showing long-term change, or pre/post event if you are showing the effects of a short-term event.\n",
        " - Climate time-series (if appropriate) from Week 4, showing potential causes factors over\n",
        " - Additional third-party data, if you like!\n",
        "\n",
        "\n",
        " This course has been reading-light, but I would expect you to draw upon literature for your own report. This would include introducing the study site, justifying your choice of NDI, supporting hypotheses and conclusions you make, and situating your work in a larger context.\n",
        "\n",
        " Remember that stripped-down version of the Notebooks (without the explanatory text) are available in the [Short Scripts folder on Github](https://github.com/trchudley/GEOG2462/tree/main/Short_Scripts), allowing you to accelerate your data production.\n",
        "\n",
        " From a decolonisation perspective it is worth considering how the conclusions of your work might affect, aid, or assist local people (e.g. from a policy perspective). It is very easy to sit on a laptop and use large-scale remote sensing data to draw conclusions about a site we have never been to and never will!\n",
        "\n",
        " I look forward to reading your projects, and learning something new through your work. Don't hesitate to ask any questions on the Blackboard Discussion Board."
      ],
      "metadata": {
        "id": "P1uZRGty-HUD"
      }
    }
  ]
}