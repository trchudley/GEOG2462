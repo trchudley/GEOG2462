{
 "cells": [
  {
   "cell_type": "markdown",
   "id": "ce8c6fac-b5c6-41ab-9c51-faae8619ddd3",
   "metadata": {},
   "source": [
    "<a target=\"_blank\" href=\"https://colab.research.google.com/github/trchudley/GEOG2462/blob/main/Week_1_Search_and_Download/0_Using_Jupyter_Notebooks.ipynb\">\n",
    "  <img src=\"https://colab.research.google.com/assets/colab-badge.svg\" alt=\"Open In Colab\"/>\n",
    "</a>\n",
    "\n",
    "> ⚠️ __Note__: At the top of a notebook, where you see an 'Open in Colab' button/link, click it to open an interactive notebook in Google Colaboratory. Some of these notebooks are simply instructional (e.g. QGIS tutorials), and as such will not have 'Open in Colab' buttons."
   ]
  },
  {
   "cell_type": "markdown",
   "id": "5eb7e6f2-7267-4cef-9320-689a351223cc",
   "metadata": {},
   "source": [
    "# Using Python and Jupyter Notebooks"
   ]
  },
  {
   "cell_type": "markdown",
   "id": "2f50a9ed-80bf-4aec-9acb-2215f4249d0a",
   "metadata": {},
   "source": [
    "This module uses the Python programming language to interact with data, but you don't need any prior knowledge of programming and the aim of the module is not to become a programmer. However, scientific programming is becoming more common in academia and industry, so it's good to see it in action!\n",
    "\n",
    "We're running Python within a 'Jupyter Notebook'. That's what this is! A Notebook is made of cells that can contain text (for instance, this cell) or code. We can run code by pressing `SHIFT` and `ENTER`. Try this on the cell below. The first time you run code you may get a popup window saying \"Warning\" - click on \"run anyway\" if this is the case."
   ]
  },
  {
   "cell_type": "code",
   "execution_count": null,
   "id": "014fa2a1-5a0f-4501-8836-d7bb465de066",
   "metadata": {},
   "outputs": [],
   "source": [
    "\n",
    "# Click on this cell and press SHIFT + ENTER to run this code, \n",
    "# which outputs the text 'hello world'.\n",
    "\n",
    "print('hello world!')\n"
   ]
  },
  {
   "cell_type": "markdown",
   "id": "65185757-779f-4fd0-a7e6-2be33a2d701c",
   "metadata": {},
   "source": [
    "You can run code again and again. You can't hurt anything - if you break it, you can reboot the notebook by clicking `Kernel` in the tool bar, and `Restart Kernel and Clear Output of All Cells`.\n",
    "\n",
    "At the most basic level, we can use Python to do operations between the basic data types, which include numeric, string (text), and Boolean (`True`/`False`) data types."
   ]
  },
  {
   "cell_type": "code",
   "execution_count": null,
   "id": "7ae20904-f2a9-4767-95ff-ecb397601bca",
   "metadata": {},
   "outputs": [],
   "source": [
    "\n",
    "# This is called a \"comment\". It's a message to other humans.\n",
    "# Starting with # tells the program not to read this line.\n",
    "# the program will run the next line since it doesn't start with #\n",
    "\n",
    "5 - 4\n"
   ]
  },
  {
   "cell_type": "code",
   "execution_count": null,
   "id": "d27cba57-d1d8-4642-9945-54ee957668ec",
   "metadata": {},
   "outputs": [],
   "source": [
    "\n",
    "8 * 4\n"
   ]
  },
  {
   "cell_type": "code",
   "execution_count": null,
   "id": "93dee70e-8dec-4501-bd9e-eaa22204d943",
   "metadata": {},
   "outputs": [],
   "source": [
    "(7-3) * 5"
   ]
  },
  {
   "cell_type": "code",
   "execution_count": null,
   "id": "aa47d9de-5f34-489e-b0e7-342b52440cf1",
   "metadata": {},
   "outputs": [],
   "source": [
    "\n",
    "5 == (1 + 4)   # Two equals signs ('==') evaluates whether the left \n",
    "               # side is equal to the right side, and returns True/False\n"
   ]
  },
  {
   "cell_type": "markdown",
   "id": "7d285a89-bfbe-4b7d-8fd3-79ddd0162e24",
   "metadata": {},
   "source": [
    "We can string together more complex ideas by 'storing' values as variables:"
   ]
  },
  {
   "cell_type": "code",
   "execution_count": null,
   "id": "945c55f8-2de3-4db5-954f-19f2cc2e902e",
   "metadata": {},
   "outputs": [],
   "source": [
    "\n",
    "# the following lines define variables called \"a\" and \"b\"\n",
    "a = 4\n",
    "b = 3\n",
    "\n",
    "# the next line shows us what a plus b is.\n",
    "a+b\n"
   ]
  },
  {
   "cell_type": "code",
   "execution_count": null,
   "id": "d5cbd0ef-8ad7-44c9-9461-e7009895d6ab",
   "metadata": {},
   "outputs": [],
   "source": [
    "\n",
    "name = 'Tom'\n",
    "\n",
    "print('Hello, my name is ' + name)\n"
   ]
  },
  {
   "cell_type": "markdown",
   "id": "03f4edb8-efcd-4418-8bc4-69647077f8b9",
   "metadata": {},
   "source": [
    "Variables are remembered between cells:"
   ]
  },
  {
   "cell_type": "code",
   "execution_count": null,
   "id": "a9cb6403-cfe6-4137-8af7-876a1b4cd6b1",
   "metadata": {},
   "outputs": [],
   "source": [
    "\n",
    "c = a*a # this line calculates a times a and saves the result as a varialbe called \"c\"\n",
    "c       # this line tells the program to show us what \"c\" is.\n"
   ]
  },
  {
   "cell_type": "markdown",
   "id": "66cb1403-5239-415e-8415-b6d5c77d3db2",
   "metadata": {},
   "source": [
    "However, the cells need to be run in order for Python to work. In the first of the two cells below, we try and use a variable `not_defined_yet` before we define it. It will produce an error message. If you then run the second, where we define the variable, and then return to the first, it will work:"
   ]
  },
  {
   "cell_type": "code",
   "execution_count": null,
   "id": "c56ba30a-048a-4a95-ac41-3207f29d98bc",
   "metadata": {},
   "outputs": [],
   "source": [
    "not_defined_yet ** 2  # Two asterisks raises the variable to a \n",
    "                      # power - here, we're calculating the square."
   ]
  },
  {
   "cell_type": "code",
   "execution_count": null,
   "id": "af3553c6-0d29-4a72-b43c-86ff60e1e488",
   "metadata": {},
   "outputs": [],
   "source": [
    "not_defined_yet = 5"
   ]
  },
  {
   "cell_type": "markdown",
   "id": "14f0bb2f-3a7f-4c38-b987-6e62c1e76b19",
   "metadata": {},
   "source": [
    "We can begin to create more complex proceses using 'functions'. We've already seen one function in this notebook - the `print` function above. However, it's possible to define more functions:\n"
   ]
  },
  {
   "cell_type": "code",
   "execution_count": null,
   "id": "1625b091-5a92-492d-8359-4b58178e74ff",
   "metadata": {},
   "outputs": [],
   "source": [
    "\n",
    "# Define a function that will take a generic variable ('x') and return an output ('y')\n",
    "\n",
    "def multiply_by_two(x):\n",
    "    y = x * 2\n",
    "    return y\n"
   ]
  },
  {
   "cell_type": "markdown",
   "id": "1cae45c4-bf5d-4658-a193-db4a8003d08f",
   "metadata": {},
   "source": [
    "Now, we can use this function elsewhere in the Notebook:"
   ]
  },
  {
   "cell_type": "code",
   "execution_count": null,
   "id": "4059dc61-681b-4a4e-b169-819bd7b4e90f",
   "metadata": {},
   "outputs": [],
   "source": [
    "d = multiply_by_two(4)\n",
    "\n",
    "d"
   ]
  },
  {
   "cell_type": "markdown",
   "id": "544daf71-fcee-4da9-9d07-3df090cd9ff0",
   "metadata": {},
   "source": [
    "We won't be defining many functions in this module - instead, we'll be using those made by others. We can `import` packages made by others, giving us access to new fucntions. Think of this as like loading new apps onto a phone, expanding its functionality.\n",
    "\n",
    "A default package included within Python is `math`, which provides the sort of functions you might expect:"
   ]
  },
  {
   "cell_type": "code",
   "execution_count": null,
   "id": "791d3273-70cf-4e54-932a-0967f3773adf",
   "metadata": {},
   "outputs": [],
   "source": [
    "import math\n",
    "\n",
    "# Now we have `math`, we can call its functions in the form math.function\n",
    "\n",
    "e = math.sqrt(16)  # Calculate the square root\n",
    "\n",
    "e"
   ]
  },
  {
   "cell_type": "markdown",
   "id": "6da9e4ca-3dd9-45ea-9690-9959cbeaf85b",
   "metadata": {},
   "source": [
    "In later notebooks, we will be using specific geospatial and data science packages. This includes `ee` and `geemap`, to interact with Google Earth Engine, `Pandas`, for dealing with tabular data (think Excel!), and `Geopandas`, to deal with vector geospatial data (e.g. shapefiles and geopackages)."
   ]
  },
  {
   "cell_type": "markdown",
   "id": "efcd2bee-c62f-4749-b386-cc5d1aa09e12",
   "metadata": {},
   "source": [
    "This notebook was based on the one [here](https://colab.research.google.com/github/adamlamee/CODINGinK12/blob/master/notebooks/intro.ipynb)."
   ]
  }
 ],
 "metadata": {
  "kernelspec": {
   "display_name": "Python (geospatial)",
   "language": "python",
   "name": "geospatial"
  },
  "language_info": {
   "codemirror_mode": {
    "name": "ipython",
    "version": 3
   },
   "file_extension": ".py",
   "mimetype": "text/x-python",
   "name": "python",
   "nbconvert_exporter": "python",
   "pygments_lexer": "ipython3",
   "version": "3.10.9"
  }
 },
 "nbformat": 4,
 "nbformat_minor": 5
}
