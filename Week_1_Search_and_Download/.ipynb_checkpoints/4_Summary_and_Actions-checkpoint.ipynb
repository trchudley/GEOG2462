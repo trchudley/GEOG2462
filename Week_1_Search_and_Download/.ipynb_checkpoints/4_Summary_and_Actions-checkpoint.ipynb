{
 "cells": [
  {
   "cell_type": "markdown",
   "id": "b9fcfa19-a90d-41a4-9fec-d74c12e4e86d",
   "metadata": {},
   "source": [
    "In these documents, you've learned how to..."
   ]
  },
  {
   "cell_type": "markdown",
   "id": "372d60a9-1eb8-4969-8dca-1837cdf254bf",
   "metadata": {},
   "source": [
    "Your ultimate task is to...\n",
    "\n",
    "So in the next week, think about..."
   ]
  },
  {
   "cell_type": "code",
   "execution_count": null,
   "id": "fa75402a-0a5e-484f-baa7-0e667a88c1ea",
   "metadata": {},
   "outputs": [],
   "source": []
  }
 ],
 "metadata": {
  "kernelspec": {
   "display_name": "Python 3 (ipykernel)",
   "language": "python",
   "name": "python3"
  },
  "language_info": {
   "codemirror_mode": {
    "name": "ipython",
    "version": 3
   },
   "file_extension": ".py",
   "mimetype": "text/x-python",
   "name": "python",
   "nbconvert_exporter": "python",
   "pygments_lexer": "ipython3",
   "version": "3.10.12"
  }
 },
 "nbformat": 4,
 "nbformat_minor": 5
}
