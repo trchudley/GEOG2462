{
 "cells": [
  {
   "cell_type": "markdown",
   "id": "6376d337-2cc9-457a-b3dd-581b6f845229",
   "metadata": {},
   "source": [
    "# Visualise data in QGIS and create a map"
   ]
  },
  {
   "cell_type": "markdown",
   "id": "73c3499e-08a0-4844-8b93-7d42b235b52c",
   "metadata": {},
   "source": [
    "## QGIS"
   ]
  },
  {
   "attachments": {},
   "cell_type": "markdown",
   "id": "706353a5-8885-46b6-bd51-d4760ff9e2dd",
   "metadata": {},
   "source": [
    "For our Desktop GIS software, we will be using QGIS rather than ArcGIS, as you may have used in the past (i.e. in the GEOG2591 _Handling Geographic Information_ module from first year!). QGIS is based around the same basic principles, so it shouldn't be too alien. \n",
    "\n",
    "I'm not just introducing a new software to be difficult. It's good to get to grips with QGIS and well as ArcGIS for a number of reasons:\n",
    "\n",
    " - It's an employable skill. QGIS is open-source (free to access). As a result, smaller firms, NGOs, and government departments often uses QGIS instead of Arc for cost reasons.\n",
    " - QGIS is available for MacOS and Linux operating systems as well as Microsoft Windows, so it is more accessible. You will be able to [download the software for free](https://qgis.org/) on your own laptop regardless of your setup, allowing you to perform this practical (and any future work!) outside of the University system and on your own hardware.\n",
    " - It is easier to access more advanced open-source methods (e.g. AI). You will do this in QGIS if you take Patrice Carbonneau's Remote Sensing course (GEOG3261) next year!\n",
    " - Understanding how to perform operations within both ArcGIS and QGIS will help you to understand the _general_ principles of GIS software, rather than just knowing what buttons to press to get a result!\r\n",
    "> ⚠️ __Note__: Within this course, you are not being marked on your ability to use QGIS. This notebook simply instructs you how to open, visualise, and map data within QGIS - as it will be necessary to present maps of your data within the project report. If, based on the course to date or your own experience, you are more comfortable using ArcGIS to create maps, then that's absolutely fine!\n",
    "\n",
    "For now, open up QGIS within the Durham system using the ‘Geography QGIS’ option within AppsAnywhere. This will open up an interface that won't look too different from your experience with ArcGIS.\r\n",
    "\n"
   ]
  },
  {
   "cell_type": "markdown",
   "id": "f8c1b657-fd5e-41be-a0f2-326ee285a97f",
   "metadata": {},
   "source": [
    "## Adding data"
   ]
  },
  {
   "cell_type": "markdown",
   "id": "37144182-49fc-40e9-99d0-34c53e685d6c",
   "metadata": {},
   "source": [
    "QGIS will take nearly any geospatial data you can throw at it. You can add a raster from the toolbar: `Layer` > `Add Layer` > `Add Raster Layer` (note that there's a lot of other options in this sub-menu...). This will open up an interface where you can find the file location (click the `...` button next to the `Raster dataset(s)` bar) and then add the raster dataset as a layer by clicking `Add`.\n",
    "\n",
    "However, as a quick tip, you can also add (most) data simply by going to the correct folder within your OS file explorer and 'dragging and dropping' the file into QGIS!\n",
    "\n",
    "For now, find and add the file you just exported from Google Earth Engine."
   ]
  },
  {
   "cell_type": "markdown",
   "id": "7db35c89-c4bd-4fe3-903a-663aa243cd01",
   "metadata": {},
   "source": [
    "You may note that our data is not being visualised as a perfect square - it is slightly 'rotated'. This is to do with our projection system (recall this from last year). We defined our AOI using latitude and longitude: within the projection world, this system has the [EPSG code 4326](https://epsg.io/4326). However, this is not a sensible system with which to store satellite imagery. [Landsat data uses the Universal Transverse Mercator grid system](https://www.usgs.gov/faqs/what-does-term-utm-mean-utm-better-or-more-accurate-latitudelongitude). The relevant UTM zone for Durham (and the UK, much of Spain, etc) is UTM 30N ([EPSG code 32630](https://epsg.io/32630)). You can see what UTM grid we're working in by looking at the bottom right corner of the QGIS window. So this is why our AOI looks rotated: we've requested a 'square' of data in lat/lon that doesn't look like a square in UTM coordinates. QGIS is great at reprojecting data on-the-fly to all appear in the same projection, which is very convenient. However, actual operations (clipping, masking, etc.) still requires data to be in the same projection - so if you're ever having issues, this is one of the first things to sanity check!"
   ]
  },
  {
   "cell_type": "markdown",
   "id": "7f031f08-1507-4efd-8a60-aebcd3fb30f6",
   "metadata": {},
   "source": [
    "## Visualising data"
   ]
  },
  {
   "cell_type": "markdown",
   "id": "79c5fb8d-c496-408f-8014-18c3657a9bd4",
   "metadata": {},
   "source": [
    "Once added, our raster will be visualised in colour within the QGIS window. The information will also appear in the `Layers` toolbar, which should be on the left of the QGIS window. Note that, by default, it is visualising the data as a colour image. QGIS will do this when receiving a multi-band raster file: it will assume the first three bands are red, green, and blue respectively. If your first three bands are not red, green, and blue, things may look a little off. However, you may recall that in the previous notebook we exported a specific order of bands in the line\n",
    "`image.select(['B4', 'B3', 'B2', 'B5', 'B6'])`. Bands 4, 3, and 2 are red, green, and blue in Landsat 8, so we are good to go."
   ]
  },
  {
   "cell_type": "markdown",
   "id": "a3b78a28-2867-4a03-9a09-a22fc0d5db00",
   "metadata": {},
   "source": [
    "We can alter how we visualise our image by going into the layer properties. Right-click on the image within the `Layers` toolbar and select `Properties...` (or simply double click!). From here, navigate to the `Symbology` tab. Take some time to explore and understand this page. particularly the `Band Rendering` section. You can see that QGIS has automatically assigned the red, green, and blue channels to the first three bands, and discussed above. You can also see it has set minimum and maximum values, likely somewhere between 0 and 1.0. These values are assigned based on the minimum and maximum values within each band (look into the `Min / Max Value Settings` drop-down option), but you can also set them manually if there's something wrong - e.g. if the image looks too 'bright' or oversaturated, you can always increase the maximum manually, or vice versa.\n",
    "\n",
    "The numbers refer to the quantiative top of atmosphere (TOA) reflectance: the fraction of incoming solar radiation that is reflected from Earth's surface to the Landsat sensor. Reflectance values near 0 are reflecting nearly no incoming light back, whereas reflectance values near 1 are reflecting nearly all light back. [Note it is not impossible for reflectance to be above 1 for bright surfaces](https://labo.obs-mip.fr/multitemp/16885-2/) (e.g. clouds, snow, and ice in optical wavelengths).  \n",
    "\n",
    "We have also downloaded near infrared (NIR) and short-wave infrared (SWIR) bands, so let's have an explore of these too. A common way to do this is to visualise a 'false colour' image. Modify the drop-down options within the `Symbology` tab such that NIR band B05 is the red channel, red band B04 is the green channel, and green band B03 is the blue channel. Now click `Apply`, and see what has happened:"
   ]
  },
  {
   "cell_type": "markdown",
   "id": "6a7a52ec-476f-41cf-9079-4d6a21072b31",
   "metadata": {},
   "source": [
    "NIR/red/green false colour composites are very popular to assess plant density and health. Plants reflect NIR and green light, while absorbing red light. As a result, in this false-colour composite, vegetation appears in red, whilst urban areas are gray and water is blue/black.\n",
    "\n",
    "We can also examine individual bands. Click the `Render type` drop-down menu, and explore `Singleband gray` and `Singleband pseudocolour`. With both, you will be able to pick your own min/max colours, or leave the one automatically selected. Note that within the `Singleband pseudocolour` option you will be able to select your own colour ramp - have a play with this.\n",
    "\n",
    "> ⚠️ __Task__: Examine each band in turn, [recalling what they are](https://landsat.gsfc.nasa.gov/satellites/landsat-8/landsat-8 bands/). In what bands does vegetation appear dark? Does this match your expectation?\n"
   ]
  },
  {
   "cell_type": "markdown",
   "id": "886d7fa1-9ac6-4b27-b4d0-4980069f70ac",
   "metadata": {},
   "source": [
    "## Notes on saving your project"
   ]
  },
  {
   "cell_type": "markdown",
   "id": "bbfc26d8-3309-45c9-864d-0b0b297fa164",
   "metadata": {},
   "source": [
    "Don't forget to do this frequently as you work! You can do this from the toolbar by selecting `Project` > `Save As...`. It will be saved as a `*.qgz` file. Please save it somewhere sensible - likely in a directory you create for this module, and near your data.\n",
    "\n",
    "Note that saving the project will not duplicate the data - it will simply save the _location_ of your data on the hard drive. Hence, if you rename files/folders or move files about, you will have to reload the data next time you open your QGIS project! As a result, I recommend that you sort out a sensible file system early.\n",
    "\n",
    "Here is an example of how I might choose to structure this project initially, within a directory called `scires_project_2c`:\n",
    "\n",
    "```\n",
    "scires_project_2c/\n",
    "├─ activities/\n",
    "│  ├─ week_1/\n",
    "│  │  ├─ data/\n",
    "│  │  │  ├─ raster_data.tif\n",
    "│  │  ├─ week_1_qgis.qgz\n",
    "│  ├─ week_2/\n",
    "│  │  ├─ ...\n",
    "│  ├─ ...\n",
    "├─ project/\n",
    "      ├─ data/\n",
    "      │  ├─ raster_data.tif\n",
    "      ├─ project_qgis.qgz\n",
    "```\n"
   ]
  },
  {
   "cell_type": "markdown",
   "id": "24515278-22f5-434c-bedd-621a5df416f8",
   "metadata": {},
   "source": [
    "## Making a map"
   ]
  },
  {
   "cell_type": "markdown",
   "id": "9a3cbcd0-a914-4c65-ac6c-e19b74202489",
   "metadata": {},
   "source": [
    "Before moving on, return the `Symbology` option to the default `Multiband color` option.\n",
    "\n",
    "We can create a new map from the toolbar by selecting `Project` > `New Print Layout`. You will be prompted to create a name for your 'Print Layout' (i.e. map). Choose something sensible (e.g. `week_1_map`). Even if you close the map, you will be able to reopen it from the toolbar by going to `Project` > `Layouts` and selecting your layer name (hence why it is useful to name it something practical!)"
   ]
  },
  {
   "cell_type": "markdown",
   "id": "f3be2ab7-37ff-4278-b5a2-12ecb3e1b754",
   "metadata": {},
   "source": [
    "This new interface is slightly different to ArcGIS last year, but hopefully still familiar. The `Item Properties` tab on the right is your key. Click it, and then click the background. This will allow you to set the canvas size - it defaults to A4, but we might be better selecting A5 to present on a page (or a size of your choosing!)."
   ]
  },
  {
   "cell_type": "markdown",
   "id": "25a3828c-8e34-43f0-97f9-94d77de9b416",
   "metadata": {},
   "source": [
    "Add a map by selecting the `Add Map` icon on the left-hand toolbar (the empty scroll with the green `+` symbol). Click and drag to create a map. __It will default to what you're seeing in the main QGIS window__. If, in the future, you can alter what is being shown within the map (e.g. different layer visibility or symbology visualisation), then you simply have to edit what is shown in the main window (you may have to click the little 'refresh' button within the `Item Properties` to catch things up though). For now, we're happy with what we've got, so in the `Item Properties` tab (make sure you've selected the Map item using the select tool) we can tick `Lock layers` and `Lock styles for layers` within the `Layers` box. This will lock what is being shown even if the main window changes. \n",
    "\n",
    "Although we are currently only visualising one raster with one map, I hope you can see how this might work for multiple maps within one layout: add a map, visualise it just how you like, lock the layers, then move onto the next, lock the layers, etc etc."
   ]
  },
  {
   "cell_type": "markdown",
   "id": "5341583e-d920-4c74-a9c1-29b3932f5a06",
   "metadata": {},
   "source": [
    "Now, to make it look more like a map by adding some basic options:\n",
    "\n",
    " - First, scroll down to near the bottom of the map `Item Properties` and tick 'Frame'. (you can edit the colour and width of the frame, but the default is usually fine).\n",
    " - Second, use the `Move item content` tool in the left-hand toolbar (the scroll with the four-way arrows on it) to pan and zoom the map 'till it is covering the region you want to show. It doesn't matter what it shows for now, this is just practice.\n",
    " - Within the left-hand tools, you can `Add scale bar`, and then draw it by clicking and dragging. Within the `Item Properties`, there are plenty of options here to play with for visual purposes, which I will leave you to explore. However, the main thing to note is the `Main Properties` > `Map` option, which will be set to 'Map 1'. If you have multiple maps at different zoom levels, this will tell you which map the scale bar is 'tied' to.\n",
    " - Within the tools, you can also `Add north arrow`. Once again, I will leave you to get distracted by the variety of north arrow options to hand within the `Item Properties`, and instead point out the `Image Rotation` options near the bottom, which provides the `Sync with map` drop-down. If you have rotated your map from North (you can do this from within the map `Item Properties` toolbar), this will allow your North arrow to track your option.\n",
    " - There is also an `Add legend` option. Create one just for practice, but as you can see it isn't too relevant for this map. I will add a note in the next section as to how to use it for visualising NDI values. Delete it for now.\n",
    " - Note also within the toolbar other options for annotating your map such as `Add text`, `Add arrows`, etc. Use these to add titles and any other info you might wish to practice.\n",
    "\n",
    "\n",
    "<details>\n",
    "<summary>If you want graticules, open a very brief summary by clicking this sentence.</summary>\n",
    "\n",
    "1. Select your map and go to the `Item Properties` tab.\n",
    "2. Go to / expand the `Grids` section, and add a new grid by pressing the green `+` button.\n",
    "3. Select the new grid in the menu and click `Modify grid`.\n",
    "4. Within 'Appearance', you can select the intervals with which the grid will be visualised. This will be in units of metres if you're using the UTM projection - however, you could equally switch the CRS from `Use Map CRS` to EPSG:4326 (lat/lon), in which case they will need to be a lot smaller!\n",
    "5. I tend to switch the `Grid type` to `Frame an annotations only`, and then change the `Frame style` to `Zebra` or `Exterior ticks`, but have a play and see what works for you.\n",
    "6. Finally, you can tick `Draw coordinates` to add the numbers. Once again, have an explore with formatting: you can choose to show the numbers on only one side of the map, align them vertically, limit the decimal precision, etc.\n",
    "</details>\n",
    "Adding graticules is slightly fiddly to do within QGIS, but not too difficult. For visualising data on this scale, I won't consider them essential so long as you have a scale bar. Instead, make sure you locate your study area within your main project report using a location map (e.g. Google Earth) and by explicitly stating your study area coordinates and region size."
   ]
  },
  {
   "cell_type": "markdown",
   "id": "6de7fd29-e0bc-44c9-aa4d-7a2aa9c4cc8e",
   "metadata": {},
   "source": [
    "Export your map using the `Export as image` (or SVG, or PDF...) buttons in the top ribbon. Take a step back and see what you've got!"
   ]
  }
 ],
 "metadata": {
  "kernelspec": {
   "display_name": "Python (geospatial)",
   "language": "python",
   "name": "geospatial"
  },
  "language_info": {
   "codemirror_mode": {
    "name": "ipython",
    "version": 3
   },
   "file_extension": ".py",
   "mimetype": "text/x-python",
   "name": "python",
   "nbconvert_exporter": "python",
   "pygments_lexer": "ipython3",
   "version": "3.10.9"
  }
 },
 "nbformat": 4,
 "nbformat_minor": 5
}
