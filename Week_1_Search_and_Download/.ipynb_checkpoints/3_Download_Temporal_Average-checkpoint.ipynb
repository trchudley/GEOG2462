{
 "cells": [
  {
   "cell_type": "markdown",
   "id": "c8267cba-6ebb-4f2a-819c-a16507025cd5",
   "metadata": {},
   "source": [
    "# Constructing a long-term average scene in Google Earth Engine"
   ]
  },
  {
   "cell_type": "markdown",
   "id": "8265d813-c5a1-45ed-b5d6-a0a0dbdedf85",
   "metadata": {},
   "source": [
    "in progress"
   ]
  },
  {
   "cell_type": "code",
   "execution_count": null,
   "id": "330044a1-e3d4-4d2d-9e78-1a79fb1cca4b",
   "metadata": {},
   "outputs": [],
   "source": []
  }
 ],
 "metadata": {
  "kernelspec": {
   "display_name": "Python (geospatial)",
   "language": "python",
   "name": "geospatial"
  },
  "language_info": {
   "codemirror_mode": {
    "name": "ipython",
    "version": 3
   },
   "file_extension": ".py",
   "mimetype": "text/x-python",
   "name": "python",
   "nbconvert_exporter": "python",
   "pygments_lexer": "ipython3",
   "version": "3.10.9"
  }
 },
 "nbformat": 4,
 "nbformat_minor": 5
}
