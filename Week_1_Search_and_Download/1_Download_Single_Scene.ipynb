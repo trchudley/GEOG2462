{
  "cells": [
    {
      "cell_type": "markdown",
      "id": "b1aaa4b2-3911-4342-92a4-66c693f4834e",
      "metadata": {
        "id": "b1aaa4b2-3911-4342-92a4-66c693f4834e"
      },
      "source": [
        "<a target=\"_blank\" href=\"https://colab.research.google.com/github/trchudley/GEOG2462/blob/main/Week_1_Search_and_Download/1_Download_Single_Scene.ipynb\">\n",
        "  <img src=\"https://colab.research.google.com/assets/colab-badge.svg\" alt=\"Open In Colab\"/>\n",
        "</a>"
      ]
    },
    {
      "cell_type": "markdown",
      "id": "b70d07d1-0452-4ade-a297-a63acd473816",
      "metadata": {
        "id": "b70d07d1-0452-4ade-a297-a63acd473816"
      },
      "source": [
        "# Downloading a single scene from Google Earth Engine"
      ]
    },
    {
      "cell_type": "markdown",
      "id": "737a5b7c-b689-4853-8df7-6b5d0243d74b",
      "metadata": {
        "id": "737a5b7c-b689-4853-8df7-6b5d0243d74b"
      },
      "source": [
        "## Logging in to Google Earth Engine"
      ]
    },
    {
      "cell_type": "markdown",
      "id": "ecfc1048-57c2-4101-9ff9-0a83c2758000",
      "metadata": {
        "id": "ecfc1048-57c2-4101-9ff9-0a83c2758000"
      },
      "source": [
        "Now that we understand the basics of using Python and Jupyter Notebooks, we will search for and download a satellite scene from Google Earth Engine (GEE).\n",
        "\n",
        "First, we will import the modules `ee` and `geemap`. Both of these are GEE-related Python modules which functions to interact with the GEE processing and data:"
      ]
    },
    {
      "cell_type": "code",
      "execution_count": 1,
      "id": "bfab66a9-0448-43e0-8acc-cb55d9e5552d",
      "metadata": {
        "id": "bfab66a9-0448-43e0-8acc-cb55d9e5552d"
      },
      "outputs": [],
      "source": [
        "import ee\n",
        "import geemap"
      ]
    },
    {
      "cell_type": "markdown",
      "id": "91128968-fdda-4fa4-adac-0bc0b0dd205e",
      "metadata": {
        "id": "91128968-fdda-4fa4-adac-0bc0b0dd205e"
      },
      "source": [
        "Next, we must 'log in' to Google Earth Engine. You must have already registered for Google Earth Engine for this to work. You should have done this based on the instructions I sent before the class started (!), but if you haven't, you can easily register at the [following link](https://code.earthengine.google.com/register) - just make sure to select `Unpaid Usage` > `Academia & Research`.\n",
        "\n",
        "Having done that, you can run the next cell, changing the project name to your own default 'project ID' that you would have created upon registration with GEE. If you don't know what it is, go to [code.earthengine.google.com/](https://code.earthengine.google.com) - your default project ID should appear in the top right hand corner.\n",
        "\n",
        "After running the cell, a pop-up will appear and you wil be prompted to go through some approval screens - you can accept these. On certain setups, you may also be provided with a verification code (a long string of letters and numbers), which you can paste into the box that will appear below the cell."
      ]
    },
    {
      "cell_type": "code",
      "execution_count": 2,
      "id": "206a0742-d14d-4b9f-abfb-9759c4fcf667",
      "metadata": {
        "id": "206a0742-d14d-4b9f-abfb-9759c4fcf667",
        "colab": {
          "base_uri": "https://localhost:8080/",
          "height": 17
        },
        "outputId": "50543bb9-1319-48da-e1aa-e1862260f0a3"
      },
      "outputs": [
        {
          "output_type": "display_data",
          "data": {
            "text/plain": [
              "<IPython.core.display.HTML object>"
            ],
            "text/html": [
              "\n",
              "            <style>\n",
              "                .geemap-dark {\n",
              "                    --jp-widgets-color: white;\n",
              "                    --jp-widgets-label-color: white;\n",
              "                    --jp-ui-font-color1: white;\n",
              "                    --jp-layout-color2: #454545;\n",
              "                    background-color: #383838;\n",
              "                }\n",
              "\n",
              "                .geemap-dark .jupyter-button {\n",
              "                    --jp-layout-color3: #383838;\n",
              "                }\n",
              "\n",
              "                .geemap-colab {\n",
              "                    background-color: var(--colab-primary-surface-color, white);\n",
              "                }\n",
              "\n",
              "                .geemap-colab .jupyter-button {\n",
              "                    --jp-layout-color3: var(--colab-primary-surface-color, white);\n",
              "                }\n",
              "            </style>\n",
              "            "
            ]
          },
          "metadata": {}
        }
      ],
      "source": [
        "ee.Authenticate()  # Trigger the authentication flow.\n",
        "ee.Initialize(project='ee-trchudley')    # Change to your own default project name."
      ]
    },
    {
      "cell_type": "markdown",
      "id": "cba6a9a0-0ea5-406e-b844-a01c4e28af29",
      "metadata": {
        "id": "cba6a9a0-0ea5-406e-b844-a01c4e28af29"
      },
      "source": [
        "Unfortunately, we must do this every time we open a notebook, so get used to this process..."
      ]
    },
    {
      "cell_type": "markdown",
      "id": "67ba2bf0-0197-4eec-b3d0-dabdde9e1f5e",
      "metadata": {
        "id": "67ba2bf0-0197-4eec-b3d0-dabdde9e1f5e"
      },
      "source": [
        "## Define an area of interest"
      ]
    },
    {
      "cell_type": "markdown",
      "id": "77b00f4f-e4b5-4cf1-90a5-c89a6486c5e0",
      "metadata": {
        "id": "77b00f4f-e4b5-4cf1-90a5-c89a6486c5e0"
      },
      "source": [
        "We will now define a square region of the Earth to examine (hereafter our 'area of interest', or 'AOI'). Let's take a look at Durham!\n",
        "\n",
        "In the following cell, we will define variables with a central latitude and longitude, and a length (the length of one side of our AOI, in metres). I've inserted the coordinates for Durham - however, if you're feeling adventurous, there's nothing stopping you changing your search region to your own region of interest now..."
      ]
    },
    {
      "cell_type": "code",
      "execution_count": 3,
      "id": "b5667e74-b0b6-48ac-9e2e-5cc8f44db32e",
      "metadata": {
        "id": "b5667e74-b0b6-48ac-9e2e-5cc8f44db32e",
        "colab": {
          "base_uri": "https://localhost:8080/",
          "height": 17
        },
        "outputId": "962a7275-ea9f-4796-92fc-0654fb888033"
      },
      "outputs": [
        {
          "output_type": "display_data",
          "data": {
            "text/plain": [
              "<IPython.core.display.HTML object>"
            ],
            "text/html": [
              "\n",
              "            <style>\n",
              "                .geemap-dark {\n",
              "                    --jp-widgets-color: white;\n",
              "                    --jp-widgets-label-color: white;\n",
              "                    --jp-ui-font-color1: white;\n",
              "                    --jp-layout-color2: #454545;\n",
              "                    background-color: #383838;\n",
              "                }\n",
              "\n",
              "                .geemap-dark .jupyter-button {\n",
              "                    --jp-layout-color3: #383838;\n",
              "                }\n",
              "\n",
              "                .geemap-colab {\n",
              "                    background-color: var(--colab-primary-surface-color, white);\n",
              "                }\n",
              "\n",
              "                .geemap-colab .jupyter-button {\n",
              "                    --jp-layout-color3: var(--colab-primary-surface-color, white);\n",
              "                }\n",
              "            </style>\n",
              "            "
            ]
          },
          "metadata": {}
        }
      ],
      "source": [
        "latitude = 54.77   # Degrees of latitude\n",
        "longitude = -1.58  # Degrees of longitude\n",
        "size = 10000  # Size of AOI, in metres"
      ]
    },
    {
      "cell_type": "markdown",
      "id": "ab9e78c3-7e97-4f4d-aeb4-edf469577f92",
      "metadata": {
        "id": "ab9e78c3-7e97-4f4d-aeb4-edf469577f92"
      },
      "source": [
        "Now, we can define this as an Earth Engine 'geometry' (the format in which GEE holds geospatial shapes). In the first line, we define a single point, and then we 'buffer' the point to a square of the the size we want."
      ]
    },
    {
      "cell_type": "code",
      "execution_count": 4,
      "id": "bc17f0f2-f281-4649-bbdc-3780b36e66b9",
      "metadata": {
        "id": "bc17f0f2-f281-4649-bbdc-3780b36e66b9",
        "colab": {
          "base_uri": "https://localhost:8080/",
          "height": 17
        },
        "outputId": "dda12d4b-8833-4543-cb24-488aaf46744b"
      },
      "outputs": [
        {
          "output_type": "display_data",
          "data": {
            "text/plain": [
              "<IPython.core.display.HTML object>"
            ],
            "text/html": [
              "\n",
              "            <style>\n",
              "                .geemap-dark {\n",
              "                    --jp-widgets-color: white;\n",
              "                    --jp-widgets-label-color: white;\n",
              "                    --jp-ui-font-color1: white;\n",
              "                    --jp-layout-color2: #454545;\n",
              "                    background-color: #383838;\n",
              "                }\n",
              "\n",
              "                .geemap-dark .jupyter-button {\n",
              "                    --jp-layout-color3: #383838;\n",
              "                }\n",
              "\n",
              "                .geemap-colab {\n",
              "                    background-color: var(--colab-primary-surface-color, white);\n",
              "                }\n",
              "\n",
              "                .geemap-colab .jupyter-button {\n",
              "                    --jp-layout-color3: var(--colab-primary-surface-color, white);\n",
              "                }\n",
              "            </style>\n",
              "            "
            ]
          },
          "metadata": {}
        }
      ],
      "source": [
        "point = ee.Geometry.Point(longitude, latitude)  # Create a point\n",
        "region = point.buffer(size/2).bounds()  # Buffer the point to a 2D shape"
      ]
    },
    {
      "cell_type": "markdown",
      "id": "cfe9d699-2948-4470-a4ec-d609d8814d02",
      "metadata": {
        "id": "cfe9d699-2948-4470-a4ec-d609d8814d02"
      },
      "source": [
        "The `geemap` tool provides an ability for us to visualise our data on a map. Let's plot our AOI and see whether we're happy with it:"
      ]
    },
    {
      "cell_type": "code",
      "execution_count": null,
      "id": "f88aebc0-a17d-4af7-ad3e-d46f369c55e0",
      "metadata": {
        "id": "f88aebc0-a17d-4af7-ad3e-d46f369c55e0"
      },
      "outputs": [],
      "source": [
        "Map = geemap.Map()  # Create an empty Map\n",
        "Map.addLayer(region, {}, \"Search Region\")  # Add our AOI\n",
        "Map.centerObject(region, zoom=12)  # Centre our map on the region of interest\n",
        "Map"
      ]
    },
    {
      "cell_type": "markdown",
      "id": "c911e15e-b4df-420a-b966-d90a51c87085",
      "metadata": {
        "id": "c911e15e-b4df-420a-b966-d90a51c87085"
      },
      "source": [
        "Looking good!"
      ]
    },
    {
      "cell_type": "markdown",
      "id": "ff4fb134-076a-4686-a3b3-0c4dd1d8e7ef",
      "metadata": {
        "id": "ff4fb134-076a-4686-a3b3-0c4dd1d8e7ef"
      },
      "source": [
        "# Search for data"
      ]
    },
    {
      "cell_type": "markdown",
      "id": "b746ad4b-a089-49d8-a688-4d7c7dfd41a5",
      "metadata": {
        "id": "b746ad4b-a089-49d8-a688-4d7c7dfd41a5"
      },
      "source": [
        "We're now going to search for an image in GEE's archive of Landsat 8 data.\n",
        "\n",
        "We've already defined the spatial area of interest - now let's also define our temporal bounds by setting a start and end date for our search."
      ]
    },
    {
      "cell_type": "code",
      "execution_count": 6,
      "id": "bf1b5381-d2a4-427a-8fbe-ff8a9df50f5a",
      "metadata": {
        "id": "bf1b5381-d2a4-427a-8fbe-ff8a9df50f5a",
        "colab": {
          "base_uri": "https://localhost:8080/",
          "height": 17
        },
        "outputId": "6c5da77c-ea28-4687-a07e-65d91afffcca"
      },
      "outputs": [
        {
          "output_type": "display_data",
          "data": {
            "text/plain": [
              "<IPython.core.display.HTML object>"
            ],
            "text/html": [
              "\n",
              "            <style>\n",
              "                .geemap-dark {\n",
              "                    --jp-widgets-color: white;\n",
              "                    --jp-widgets-label-color: white;\n",
              "                    --jp-ui-font-color1: white;\n",
              "                    --jp-layout-color2: #454545;\n",
              "                    background-color: #383838;\n",
              "                }\n",
              "\n",
              "                .geemap-dark .jupyter-button {\n",
              "                    --jp-layout-color3: #383838;\n",
              "                }\n",
              "\n",
              "                .geemap-colab {\n",
              "                    background-color: var(--colab-primary-surface-color, white);\n",
              "                }\n",
              "\n",
              "                .geemap-colab .jupyter-button {\n",
              "                    --jp-layout-color3: var(--colab-primary-surface-color, white);\n",
              "                }\n",
              "            </style>\n",
              "            "
            ]
          },
          "metadata": {}
        }
      ],
      "source": [
        "date_start = '2023-05-01'\n",
        "date_end = '2023-09-30'"
      ]
    },
    {
      "cell_type": "markdown",
      "id": "c0a5cc2a-5861-4083-a620-99542f3fd1a0",
      "metadata": {
        "id": "c0a5cc2a-5861-4083-a620-99542f3fd1a0"
      },
      "source": [
        "Note we've defined the data as a string of the format 'YYYY-MM-DD'. Scientists and programmers working with large quantities of date data often prefer to work in this format, the international standard format (ISO 8601). This is becauase (i) it avoids confusion when working with international colleauges who may have different default ways of writing dates (e.g. DD/MM/YYY vs MM/DD/YYY); and (ii) alphabetically sorting dates of this format will also sort them by time, which is useful if you have large numbers of files with dates included.\n",
        "\n",
        "Now we can search GEE. Google Earth Engine has a number of different Landsat datasets, but for now, we are going to choose [Landsat 8, Collection 2, Tier 1 Top of Atmopshere Reflectance](https://developers.google.com/earth-engine/datasets/catalog/LANDSAT_LC08_C02_T1_TOA) (follow the link for Google's description of the data). Collection 2 is the 'version 2' standard reprocessing of the Landsat archive. Tier 1 is the [highest-quality data](https://www.usgs.gov/landsat-missions/landsat-collection-2-level-1-data), and Top of Atmosphere means that the data has not been corrected to surface reflectance (these data will be appended 'SR' rather than 'TOA'). TOA data makes less assumptions about the atmosphere, so we will be using this for now.\n",
        "\n",
        "Take a good look at the lines of code below - see how we select our desired 'Image Collection' by the link to the data, and then filter it using our region and dates."
      ]
    },
    {
      "cell_type": "code",
      "execution_count": 7,
      "id": "2670f795-7f2a-49e9-8264-7545b1733608",
      "metadata": {
        "id": "2670f795-7f2a-49e9-8264-7545b1733608",
        "colab": {
          "base_uri": "https://localhost:8080/",
          "height": 17
        },
        "outputId": "39385726-5873-4324-b228-562d135be005"
      },
      "outputs": [
        {
          "output_type": "display_data",
          "data": {
            "text/plain": [
              "<IPython.core.display.HTML object>"
            ],
            "text/html": [
              "\n",
              "            <style>\n",
              "                .geemap-dark {\n",
              "                    --jp-widgets-color: white;\n",
              "                    --jp-widgets-label-color: white;\n",
              "                    --jp-ui-font-color1: white;\n",
              "                    --jp-layout-color2: #454545;\n",
              "                    background-color: #383838;\n",
              "                }\n",
              "\n",
              "                .geemap-dark .jupyter-button {\n",
              "                    --jp-layout-color3: #383838;\n",
              "                }\n",
              "\n",
              "                .geemap-colab {\n",
              "                    background-color: var(--colab-primary-surface-color, white);\n",
              "                }\n",
              "\n",
              "                .geemap-colab .jupyter-button {\n",
              "                    --jp-layout-color3: var(--colab-primary-surface-color, white);\n",
              "                }\n",
              "            </style>\n",
              "            "
            ]
          },
          "metadata": {}
        }
      ],
      "source": [
        "# Get Landsat 8 image collection\n",
        "landsat8_collection = ee.ImageCollection(\"LANDSAT/LC08/C02/T1_TOA\")\n",
        "\n",
        "# Filter to desired region and date bounds\n",
        "landsat8_collection = landsat8_collection.filterBounds(region)\n",
        "landsat8_collection = landsat8_collection.filterDate(date_start, date_end)\n"
      ]
    },
    {
      "cell_type": "markdown",
      "id": "6bd54a66-3df5-4e34-97c3-4d6ab20d77a2",
      "metadata": {
        "id": "6bd54a66-3df5-4e34-97c3-4d6ab20d77a2"
      },
      "source": [
        "This returns an 'Image Collection' of the scenes that fit the search parameters. By running the below cell and clicking the drop-down tabs, you can see we have found 13 'features' (images) that have 17 'bands' (e.g. red, blue, near infra-red...). There's also a lot of metadata 'properties' associated with each image, such as acquisition dates/times and geospatial data. You can explore what is included [here](https://developers.google.com/earth-engine/datasets/catalog/LANDSAT_LC08_C02_T1_TOA).\n",
        "\n",
        "Have an explore of the data structure:"
      ]
    },
    {
      "cell_type": "code",
      "execution_count": null,
      "id": "6a84c4cc-6d82-43b3-a63d-ab74e0a0609a",
      "metadata": {
        "id": "6a84c4cc-6d82-43b3-a63d-ab74e0a0609a"
      },
      "outputs": [],
      "source": [
        "landsat8_collection"
      ]
    },
    {
      "cell_type": "markdown",
      "id": "873ac0c4-7614-4dbf-a9ac-950dea4c2c7e",
      "metadata": {
        "id": "873ac0c4-7614-4dbf-a9ac-950dea4c2c7e"
      },
      "source": [
        "Finally, we're going to select the _least cloudy_ scene from the image collection, by sorting the collection from least to most cloudy and selecting the first image. We will also clip this image to our search region, so that we don't download or process unnecessary data:"
      ]
    },
    {
      "cell_type": "code",
      "execution_count": null,
      "id": "727504ed-97db-40d9-8fac-83b1bf17be19",
      "metadata": {
        "id": "727504ed-97db-40d9-8fac-83b1bf17be19"
      },
      "outputs": [],
      "source": [
        "image = landsat8_collection.sort('CLOUD_COVER').first()\n",
        "image = image.clip(region)\n",
        "\n",
        "image"
      ]
    },
    {
      "cell_type": "markdown",
      "id": "84a8164d-eb9b-4f5e-8b93-49661aa6b518",
      "metadata": {
        "id": "84a8164d-eb9b-4f5e-8b93-49661aa6b518"
      },
      "source": [
        "Let's visualise this image. This process is similar to our last map, but now we will include visualisation parameters which tell `geemap` that we want to visualise a colour image from bands 4, 3, and 2 (red, green, and blue respectively)."
      ]
    },
    {
      "cell_type": "code",
      "execution_count": null,
      "id": "5edfdee9-4334-495c-bb96-8a033cf98b95",
      "metadata": {
        "id": "5edfdee9-4334-495c-bb96-8a033cf98b95"
      },
      "outputs": [],
      "source": [
        "\n",
        "Map = geemap.Map()  # Create empty map\n",
        "\n",
        "max_reflectance = 0.25 # Set the upper limit of reflectance to visualise.\n",
        "                       # Play with this value (between 0-1) to see what it\n",
        "                       # does. It will need to be higher for snowy/icy\n",
        "                       # scenes.\n",
        "\n",
        "visParams = {'bands': ['B4', 'B3', 'B2'], 'max': max_reflectance}\n",
        "Map.addLayer(image, visParams, 'Colour Composite Image')\n",
        "\n",
        "Map.centerObject(region, zoom=12)\n",
        "Map"
      ]
    },
    {
      "cell_type": "markdown",
      "id": "d9324a9a-5330-41eb-b285-9114e9f9fa43",
      "metadata": {
        "id": "d9324a9a-5330-41eb-b285-9114e9f9fa43"
      },
      "source": [
        "# Download the image"
      ]
    },
    {
      "cell_type": "markdown",
      "id": "4747edc3-5b9d-44b8-9a4d-742608efc521",
      "metadata": {
        "id": "4747edc3-5b9d-44b8-9a4d-742608efc521"
      },
      "source": [
        "We can export this image to our Google Drive.\n",
        "\n",
        "I've set up a script below that will construct a suitable filename. See if you can figure out what's going on. You can set the folder and file description.\n"
      ]
    },
    {
      "cell_type": "code",
      "execution_count": 11,
      "id": "ba2b0380-339d-47e3-8a6e-36c60d6be582",
      "metadata": {
        "id": "ba2b0380-339d-47e3-8a6e-36c60d6be582",
        "colab": {
          "base_uri": "https://localhost:8080/",
          "height": 54
        },
        "outputId": "83f2f808-69ec-43b9-a1db-17af6a42dc70"
      },
      "outputs": [
        {
          "output_type": "display_data",
          "data": {
            "text/plain": [
              "<IPython.core.display.HTML object>"
            ],
            "text/html": [
              "\n",
              "            <style>\n",
              "                .geemap-dark {\n",
              "                    --jp-widgets-color: white;\n",
              "                    --jp-widgets-label-color: white;\n",
              "                    --jp-ui-font-color1: white;\n",
              "                    --jp-layout-color2: #454545;\n",
              "                    background-color: #383838;\n",
              "                }\n",
              "\n",
              "                .geemap-dark .jupyter-button {\n",
              "                    --jp-layout-color3: #383838;\n",
              "                }\n",
              "\n",
              "                .geemap-colab {\n",
              "                    background-color: var(--colab-primary-surface-color, white);\n",
              "                }\n",
              "\n",
              "                .geemap-colab .jupyter-button {\n",
              "                    --jp-layout-color3: var(--colab-primary-surface-color, white);\n",
              "                }\n",
              "            </style>\n",
              "            "
            ]
          },
          "metadata": {}
        },
        {
          "output_type": "stream",
          "name": "stdout",
          "text": [
            "The image will be saved to your Google Drive at:\n",
            "scires_project_2A/durham_2023-09-04_image.tif\n"
          ]
        }
      ],
      "source": [
        "\n",
        "# You can edit these variables\n",
        "folder = 'scires_project_2A'\n",
        "region_name = 'durham'\n",
        "\n",
        "# Get the data of the image from the metadata\n",
        "date_string = image.get('DATE_ACQUIRED').getInfo()\n",
        "\n",
        "# Now we will construct the filename automatically\n",
        "filename = region_name + '_' + date_string + '_image'\n",
        "\n",
        "# Visualise for testing\n",
        "print(\"The image will be saved to your Google Drive at:\\n\" + folder + '/' + filename + '.tif')"
      ]
    },
    {
      "cell_type": "markdown",
      "id": "b134277c-dfc2-488d-979f-c2d83fcc76ad",
      "metadata": {
        "id": "b134277c-dfc2-488d-979f-c2d83fcc76ad"
      },
      "source": [
        "We will now save the image using the `Export.image.toDrive` function. We will also use a function from the `time` package so that we can print updates every five seconds, just so we know the program is still running / hasn't crashed if it's taking a while."
      ]
    },
    {
      "cell_type": "code",
      "execution_count": 12,
      "id": "f5b30059-72cf-4ddc-9538-1c2580a72f9a",
      "metadata": {
        "id": "f5b30059-72cf-4ddc-9538-1c2580a72f9a",
        "colab": {
          "base_uri": "https://localhost:8080/",
          "height": 109
        },
        "outputId": "7150afea-b191-44e6-df1d-2fa81c2539a5"
      },
      "outputs": [
        {
          "output_type": "display_data",
          "data": {
            "text/plain": [
              "<IPython.core.display.HTML object>"
            ],
            "text/html": [
              "\n",
              "            <style>\n",
              "                .geemap-dark {\n",
              "                    --jp-widgets-color: white;\n",
              "                    --jp-widgets-label-color: white;\n",
              "                    --jp-ui-font-color1: white;\n",
              "                    --jp-layout-color2: #454545;\n",
              "                    background-color: #383838;\n",
              "                }\n",
              "\n",
              "                .geemap-dark .jupyter-button {\n",
              "                    --jp-layout-color3: #383838;\n",
              "                }\n",
              "\n",
              "                .geemap-colab {\n",
              "                    background-color: var(--colab-primary-surface-color, white);\n",
              "                }\n",
              "\n",
              "                .geemap-colab .jupyter-button {\n",
              "                    --jp-layout-color3: var(--colab-primary-surface-color, white);\n",
              "                }\n",
              "            </style>\n",
              "            "
            ]
          },
          "metadata": {}
        },
        {
          "output_type": "stream",
          "name": "stdout",
          "text": [
            "Task processing ongoing... (id: Q5KXCABJ7QJ4AJHYLJSJ27LS).\n",
            "Task processing ongoing... (id: Q5KXCABJ7QJ4AJHYLJSJ27LS).\n",
            "Task processing ongoing... (id: Q5KXCABJ7QJ4AJHYLJSJ27LS).\n",
            "Task processing ongoing... (id: Q5KXCABJ7QJ4AJHYLJSJ27LS).\n",
            "Finished processing. Image is exported to your Drive.\n"
          ]
        }
      ],
      "source": [
        "import time\n",
        "\n",
        "# Export the image, specifying scale and region.\n",
        "task = ee.batch.Export.image.toDrive(**{\n",
        "    'image': image.select(['B4', 'B3', 'B2', 'B5', 'B6']),\n",
        "    'description': filename,\n",
        "    'folder': folder,\n",
        "    'scale': 30,\n",
        "    'region': region.getInfo()['coordinates']\n",
        "})\n",
        "task.start()\n",
        "\n",
        "while task.active():\n",
        "  print('Task processing ongoing... (id: {}).'.format(task.id))\n",
        "  time.sleep(5)\n",
        "\n",
        "print('Finished processing. Image is exported to your Drive.')"
      ]
    },
    {
      "cell_type": "markdown",
      "id": "ffa9e6ae-dfaf-4fbe-9937-26c7e3a614bd",
      "metadata": {
        "id": "ffa9e6ae-dfaf-4fbe-9937-26c7e3a614bd"
      },
      "source": [
        "Download the scene from your Google Drive to your local hard drive (in a sensible location, not just in the `Downloads` folder!), and move onto the next document - `2_Visualise_in_QGIS.md`"
      ]
    },
    {
      "cell_type": "markdown",
      "id": "dfeee690-616c-4a05-9bd4-77149946e3d0",
      "metadata": {
        "id": "dfeee690-616c-4a05-9bd4-77149946e3d0"
      },
      "source": [
        "![Image of the file succesfully exported to Google Drive](https://github.com/trchudley/GEOG2462/blob/main/_images/1_googledrive.png?raw=true)"
      ]
    },
    {
      "cell_type": "code",
      "execution_count": null,
      "id": "294dd7ad-74f4-4af3-8797-18b5ac3a0c66",
      "metadata": {
        "id": "294dd7ad-74f4-4af3-8797-18b5ac3a0c66"
      },
      "outputs": [],
      "source": []
    }
  ],
  "metadata": {
    "kernelspec": {
      "display_name": "Python (geospatial)",
      "language": "python",
      "name": "geospatial"
    },
    "language_info": {
      "codemirror_mode": {
        "name": "ipython",
        "version": 3
      },
      "file_extension": ".py",
      "mimetype": "text/x-python",
      "name": "python",
      "nbconvert_exporter": "python",
      "pygments_lexer": "ipython3",
      "version": "3.10.9"
    },
    "colab": {
      "provenance": []
    }
  },
  "nbformat": 4,
  "nbformat_minor": 5
}