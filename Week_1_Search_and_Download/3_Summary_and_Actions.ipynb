{
 "cells": [
  {
   "cell_type": "markdown",
   "id": "b9fcfa19-a90d-41a4-9fec-d74c12e4e86d",
   "metadata": {},
   "source": [
    "# Week 1 Summary and Actions"
   ]
  },
  {
   "cell_type": "markdown",
   "id": "372d60a9-1eb8-4969-8dca-1837cdf254bf",
   "metadata": {},
   "source": [
    "This week, we learned how to:\n",
    "\n",
    "1. Use Jupyter Notebooks to run Python code and perform analysis.\n",
    "2. Search for Landsat imagery within defined spatial and temporal bounds using Python and Google Earth Engine.\n",
    "3. Export this data to Google Drive.\n",
    "4. Use QGIS to explore the data and create simple maps.\n",
    "\n",
    "We did this for Durham in summer 2023 as a simple worked example.\n",
    "\n",
    "**Task**\n",
    "\n",
    "For your project, you will be using satellite data to assess change over a region and topic of your choice. Landsat 8 data will allow you to detect change between 2013 and the present.\n",
    "\n",
    "The lecture introduced a few ideas. I hope you will be able to draw on concepts introduced across the course to come up with a topic that interests you. You may also need to do some research to find a good 'event' to study (a flood? illegal deforestation? an ice cap? an avalanche? a city's growth?).\n",
    "\n",
    "Take some time now to think about topics that may be of interest to you. A good tool to explore preliminary changes is the Google Earth Timelapse tool, available at https://earthengine.google.com/timelapse/.\n",
    "\n",
    "Once you've found an event that might interest you, return to workbook 1 of this session. Edit the notebook to your new location of interest (you may have to find the latitude/longitude in, e.g., Google Maps or Google Earth).\n",
    "\n",
    "Can you get good imagery? Does exist over the time period you would like? (e.g. before/after a flood, at set dates each year, etc.) Can you observe change qualitatively at the resolution of Landsat 8 imagery?\n",
    "\n",
    "You do not have to decide on a topic now. The notebooks in this course are designed to allow you to rapidly generate data when you come to writing your project, so you should have ample time to explore ideas. However, failing early and often is the best course to success, so I encourage you to have a think and explore about what topic you might like before you continue on with next week's tasks."
   ]
  }
 ],
 "metadata": {
  "kernelspec": {
   "display_name": "Python 3 (ipykernel)",
   "language": "python",
   "name": "python3"
  },
  "language_info": {
   "codemirror_mode": {
    "name": "ipython",
    "version": 3
   },
   "file_extension": ".py",
   "mimetype": "text/x-python",
   "name": "python",
   "nbconvert_exporter": "python",
   "pygments_lexer": "ipython3",
   "version": "3.10.12"
  }
 },
 "nbformat": 4,
 "nbformat_minor": 5
}
