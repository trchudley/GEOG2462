{
 "cells": [
  {
   "cell_type": "markdown",
   "id": "40009b08-8f39-446b-b45a-369721de165d",
   "metadata": {
    "id": "40009b08-8f39-446b-b45a-369721de165d"
   },
   "source": [
    "# Calculate the average NDI over a sample area through time \n",
    "**Option (c): Time-series mean seasonal NDI**"
   ]
  },
  {
   "cell_type": "markdown",
   "id": "bbcc44fd-0056-4816-8140-b5515c265006",
   "metadata": {
    "id": "bbcc44fd-0056-4816-8140-b5515c265006"
   },
   "source": [
    "## Log in to Google Earth Engine"
   ]
  },
  {
   "cell_type": "code",
   "execution_count": null,
   "id": "11c86403-f702-4af6-a620-093910aaa01c",
   "metadata": {
    "id": "11c86403-f702-4af6-a620-093910aaa01c"
   },
   "outputs": [],
   "source": [
    "import ee\n",
    "import geemap\n",
    "import pandas as pd\n",
    "import matplotlib.pyplot as plt\n",
    "from google.colab import drive\n",
    "\n",
    "ee.Authenticate()  # Trigger the authentication flow.\n",
    "ee.Initialize(project='ee-trchudley')    # Change to your own default project name.\n",
    "\n",
    "drive.mount('/content/drive')  # Mount Google Drive onto Colab"
   ]
  },
  {
   "cell_type": "markdown",
   "id": "62377970-776b-4270-ac74-a013732423e4",
   "metadata": {
    "id": "62377970-776b-4270-ac74-a013732423e4"
   },
   "source": [
    "## Identify region and NDI of interest"
   ]
  },
  {
   "cell_type": "code",
   "execution_count": null,
   "id": "13b32fd8-28dc-4704-acf7-7dac74ced72f",
   "metadata": {
    "id": "13b32fd8-28dc-4704-acf7-7dac74ced72f"
   },
   "outputs": [],
   "source": [
    "# Location - editable\n",
    "latitude = 41.017           # Degrees of latitude\n",
    "longitude = -123.611        # Degrees of longitude\n",
    "location_name = 'hoopa'     # recognisable name, to create a useful file name\n",
    "sample_radius = 1000        # radius of sample area around chosen point, in metres\n",
    "\n",
    "# Date range - editable\n",
    "year_begin = 2014\n",
    "year_end = 2023\n",
    "month_begin = 8\n",
    "month_end = 10\n",
    "\n",
    "# NDI - editable\n",
    "type_of_ndi = 'NDVI'  # type of NDI calculated, for filename purposes\n",
    "r_high = 'B5'  # relevant band name for r_high\n",
    "r_low = 'B4'   # relevant band name for r_low\n",
    "\n",
    "# You can edit this variable\n",
    "folder = 'scires_project_2C'\n",
    "\n"
   ]
  },
  {
   "cell_type": "markdown",
   "id": "a80b40de-3d11-42f9-81f9-74b34f84a3cc",
   "metadata": {
    "id": "a80b40de-3d11-42f9-81f9-74b34f84a3cc"
   },
   "source": [
    "Sanity check the sample region"
   ]
  },
  {
   "cell_type": "code",
   "execution_count": null,
   "id": "f8303691-999d-4fe4-aa08-7409925cebe1",
   "metadata": {
    "id": "f8303691-999d-4fe4-aa08-7409925cebe1"
   },
   "outputs": [],
   "source": [
    "# Set up location geometry\n",
    "point = ee.Geometry.Point(longitude, latitude)  # Create a point\n",
    "sample_region = point.buffer(sample_radius)     # Buffer the point\n",
    "\n",
    "Map = geemap.Map()  # Create an empty Map\n",
    "Map.addLayer(sample_region, {}, \"Search Region\")  # Add our AOI\n",
    "Map.centerObject(sample_region, zoom=12)  # Centre our map on the region of interest\n",
    "Map"
   ]
  },
  {
   "cell_type": "code",
   "execution_count": null,
   "id": "ca402026-84b7-4702-8852-0829c7056de4",
   "metadata": {
    "id": "ca402026-84b7-4702-8852-0829c7056de4"
   },
   "outputs": [],
   "source": [
    "# Set up location geometry\n",
    "point = ee.Geometry.Point(longitude, latitude)  # Create a point\n",
    "sample_region = point.buffer(sample_radius)     # Buffer the point\n",
    "\n",
    "# Get Landsat 8 image collection\n",
    "landsat8_collection = ee.ImageCollection(\"LANDSAT/LC08/C02/T1_TOA\")\n",
    "\n",
    "# Filter to desired region and date bounds\n",
    "landsat8_collection = landsat8_collection.filterBounds(sample_region)\n",
    "landsat8_collection = landsat8_collection.sort('system:time_start')  # Sort by image date\n",
    "landsat8_collection = landsat8_collection.filter(ee.Filter.lt('CLOUD_COVER', 70))\n",
    "\n",
    "# Filter cloudy pixels within the images\n",
    "landsat8_collection = landsat8_collection.map(\n",
    "    lambda image: image.updateMask(ee.Algorithms.Landsat.simpleCloudScore(image).select(['cloud']).lte(20))\n",
    ")\n",
    "\n",
    "landsat8_collection"
   ]
  },
  {
   "cell_type": "markdown",
   "id": "45a52f0d-77e9-4766-af0c-d9403f43c35e",
   "metadata": {
    "id": "45a52f0d-77e9-4766-af0c-d9403f43c35e"
   },
   "source": [
    "## Time-series mean seasonal NDI"
   ]
  },
  {
   "cell_type": "code",
   "execution_count": null,
   "id": "1c011349-b458-4e60-87b4-83578c97037d",
   "metadata": {
    "id": "1c011349-b458-4e60-87b4-83578c97037d"
   },
   "outputs": [],
   "source": [
    "\n",
    "# Create an empty table with the relevant columns ('year' and 'ndi')\n",
    "seasonal_ndi_record = pd.DataFrame({'year': [], type_of_ndi: []})\n",
    "\n",
    "# Simple 'loading bar'\n",
    "print('Year')\n",
    "\n",
    "# Loop through years, calculating the mean NDI within the region of interest\n",
    "\n",
    "for year in list(range(year_begin, year_end+1)): # For every year in the range year_begin to year_end...\n",
    "    print(f'{year}... ', end='')  # Another 'loading bar' component\n",
    "\n",
    "    # Filter images only to those within the chosen month and year\n",
    "    month_images = landsat8_collection.filter(ee.Filter.calendarRange(month_begin, month_end, 'month')).filter(ee.Filter.calendarRange(year, year, 'year'))\n",
    "\n",
    "    # If there are no available images, return 'NaN' ('not a number'; blank).\n",
    "    if month_images.size().getInfo() == 0:\n",
    "        mean_ndi = None\n",
    "\n",
    "    # Else (i.e. if there *are* images...)\n",
    "    else:\n",
    "        # Calculate NDI for every image in the image collection (this is called 'mapping')\n",
    "        month_ndis = month_images.map(lambda image: image.normalizedDifference([r_high, r_low]).rename(type_of_ndi))\n",
    "\n",
    "        # Calculate a composite NDI image by calculating the median through the image collection\n",
    "        month_ndi = month_ndis.median()\n",
    "\n",
    "        # Calculate the average NDI of the composite image within the region of interest\n",
    "        mean_ndi = month_ndi.reduceRegion(reducer=ee.Reducer.mean(), geometry=sample_region, scale=30).getInfo()[type_of_ndi]\n",
    "\n",
    "    df = pd.DataFrame({'year': [year], type_of_ndi: [mean_ndi]})\n",
    "    seasonal_ndi_record = pd.concat([seasonal_ndi_record, df])\n",
    "\n",
    "print('Finished!')"
   ]
  },
  {
   "cell_type": "code",
   "execution_count": null,
   "id": "6f53c39d-823d-4a25-939a-e1e8858ed1b4",
   "metadata": {
    "id": "6f53c39d-823d-4a25-939a-e1e8858ed1b4"
   },
   "outputs": [],
   "source": [
    "seasonal_ndi_record"
   ]
  },
  {
   "cell_type": "code",
   "execution_count": null,
   "id": "03eb1a05-1043-4e70-84e1-68485167eb6c",
   "metadata": {
    "id": "03eb1a05-1043-4e70-84e1-68485167eb6c"
   },
   "outputs": [],
   "source": [
    "# create an empty figure\n",
    "fig, ax = plt.subplots(layout='constrained')\n",
    "\n",
    "# plot the NDI record from the pandas DataFrame\n",
    "seasonal_ndi_record.plot('year', type_of_ndi, ax=ax)\n",
    "\n",
    "# Set the x and y labels\n",
    "ax.set_xlabel('Year')\n",
    "ax.set_ylabel(type_of_ndi)"
   ]
  },
  {
   "cell_type": "markdown",
   "id": "72acdcbf-0e35-4f2f-bdb0-f3ba9354ebcc",
   "metadata": {
    "id": "72acdcbf-0e35-4f2f-bdb0-f3ba9354ebcc"
   },
   "source": [
    "## Export data as `.csv` files to Google Drive"
   ]
  },
  {
   "cell_type": "code",
   "execution_count": null,
   "id": "e92708e2-1a77-4be4-a49b-166628322491",
   "metadata": {
    "id": "e92708e2-1a77-4be4-a49b-166628322491"
   },
   "outputs": [],
   "source": [
    "# Construct the filename automatically\n",
    "filename = location_name + '_seasonal_ndi.csv'\n",
    "\n",
    "# Print out filename for reference\n",
    "print(\"The image will be saved to your Google Drive at:\\n\" + folder + '/' + filename + '\\n')\n",
    "\n",
    "# Export the pandas dataframe to a csv file\n",
    "seasonal_ndi_record.to_csv(f'/content/drive/My Drive/{folder}/{filename}', index=False)\n",
    "\n",
    "print('Saved.')"
   ]
  },
  {
   "cell_type": "code",
   "execution_count": null,
   "id": "74b90af7-f477-490d-8df8-e3c0382011b8",
   "metadata": {},
   "outputs": [],
   "source": []
  }
 ],
 "metadata": {
  "colab": {
   "provenance": []
  },
  "kernelspec": {
   "display_name": "Python (geospatial)",
   "language": "python",
   "name": "geospatial"
  },
  "language_info": {
   "codemirror_mode": {
    "name": "ipython",
    "version": 3
   },
   "file_extension": ".py",
   "mimetype": "text/x-python",
   "name": "python",
   "nbconvert_exporter": "python",
   "pygments_lexer": "ipython3",
   "version": "3.10.9"
  }
 },
 "nbformat": 4,
 "nbformat_minor": 5
}
