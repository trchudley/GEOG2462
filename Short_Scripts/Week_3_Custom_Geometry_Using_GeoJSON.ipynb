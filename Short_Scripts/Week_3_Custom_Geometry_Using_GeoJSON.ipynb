{
  "cells": [
    {
      "cell_type": "markdown",
      "metadata": {
        "id": "view-in-github",
        "colab_type": "text"
      },
      "source": [
        "<a href=\"https://colab.research.google.com/github/trchudley/GEOG2462/blob/main/Short_Scripts/Week_3_Custom_Geometry_Using_GeoJSON.ipynb\" target=\"_parent\"><img src=\"https://colab.research.google.com/assets/colab-badge.svg\" alt=\"Open In Colab\"/></a>"
      ]
    },
    {
      "cell_type": "markdown",
      "id": "40009b08-8f39-446b-b45a-369721de165d",
      "metadata": {
        "id": "40009b08-8f39-446b-b45a-369721de165d"
      },
      "source": [
        "# Custom geometries using GeoJSON"
      ]
    },
    {
      "cell_type": "markdown",
      "source": [
        "In Week 3 in particular, some of you have requested the option to use custom geometries rather than a basic circle for sampling NDI. This script provides an example of how to create a custom geometry using a GeoJSON, which is a common storage format for web mapping that stores geospatial information as a simple string. As a result, we can copy and paste the geospatial data into the script directly.\n",
        "\n",
        "Note that, as always, this is an advanced technique and is not necesary to achieve a good grade in this project. You will have to implement these lines of code into the script yourself. When you edit a Notebook, you can save it to your Google Drive (`File` > `Save a copy in Drive`."
      ],
      "metadata": {
        "id": "w3DsP51qJ5Qn"
      },
      "id": "w3DsP51qJ5Qn"
    },
    {
      "cell_type": "markdown",
      "id": "bOCCZlOX-alB",
      "metadata": {
        "id": "bOCCZlOX-alB"
      },
      "source": [
        "## Import GEE"
      ]
    },
    {
      "cell_type": "code",
      "execution_count": null,
      "id": "Ei7kdCOi-XKC",
      "metadata": {
        "id": "Ei7kdCOi-XKC"
      },
      "outputs": [],
      "source": [
        "import ee\n",
        "import geemap\n",
        "\n",
        "ee.Authenticate()  # Trigger the authentication flow.\n",
        "ee.Initialize(project='ee-trchudley')    # Change to your own default project name."
      ]
    },
    {
      "cell_type": "markdown",
      "source": [
        "## Convert a GeoJSON string to a GEE geometry"
      ],
      "metadata": {
        "id": "y4lLIZK1K1hz"
      },
      "id": "y4lLIZK1K1hz"
    },
    {
      "cell_type": "markdown",
      "source": [
        "First, you will need a GeoJSON string. The easiest way to do this is through the online tool https://geojson.io/.\n",
        "\n",
        "Use the `Draw Polygon` tool (the pentagon in the symbol menu on the right-hand side of the map). Draw a polygon to your liking. Make sure you only have one polygon in the GeoJSON - if you're iterating, click the `New` button to open a new, fresh, window.\n",
        "\n",
        "The GeoJSON will appear in the right-hand panel. You can copy this text to the clipboard.\n",
        "\n",
        "Paste the text into the 'geojson_string' variable below. Currently I have a default string showing the Durham bailey.\n",
        "\n",
        "> ⚠️ **Note**: I have stored the GeoJSON string withing 'triple quotes'. For example, \\\n",
        "> ```geojson_string = \"\"\"This string is inside triple quotes\"\"\"``` \\\n",
        ">This stops Python being confused by the quotation marks _inside_ the string. Be sure to retain the triple quotes when pasting your own string inside."
      ],
      "metadata": {
        "id": "4IIuY5qAK7_0"
      },
      "id": "4IIuY5qAK7_0"
    },
    {
      "cell_type": "code",
      "source": [
        "geojson_string = \"\"\"{\n",
        "  \"type\": \"FeatureCollection\",\n",
        "  \"features\": [\n",
        "    {\n",
        "      \"type\": \"Feature\",\n",
        "      \"properties\": {},\n",
        "      \"geometry\": {\n",
        "        \"coordinates\": [\n",
        "          [\n",
        "            [\n",
        "              -1.5768867746485569,\n",
        "              54.77781750881866\n",
        "            ],\n",
        "            [\n",
        "              -1.5778979411236378,\n",
        "              54.775137528259194\n",
        "            ],\n",
        "            [\n",
        "              -1.578668353676676,\n",
        "              54.77286009954349\n",
        "            ],\n",
        "            [\n",
        "              -1.5791739369141737,\n",
        "              54.77154079865727\n",
        "            ],\n",
        "            [\n",
        "              -1.5787405798528766,\n",
        "              54.770290894976426\n",
        "            ],\n",
        "            [\n",
        "              -1.5783794489694003,\n",
        "              54.76990202817879\n",
        "            ],\n",
        "            [\n",
        "              -1.5772960563172944,\n",
        "              54.76990202817879\n",
        "            ],\n",
        "            [\n",
        "              -1.575851532780888,\n",
        "              54.77051310289713\n",
        "            ],\n",
        "            [\n",
        "              -1.5731310134547414,\n",
        "              54.772651791737104\n",
        "            ],\n",
        "            [\n",
        "              -1.5729384103163113,\n",
        "              54.773110067495026\n",
        "            ],\n",
        "            [\n",
        "              -1.5729384103163113,\n",
        "              54.77376275431004\n",
        "            ],\n",
        "            [\n",
        "              -1.573877350615163,\n",
        "              54.77574852390791\n",
        "            ],\n",
        "            [\n",
        "              -1.573660672084884,\n",
        "              54.776026246151844\n",
        "            ],\n",
        "            [\n",
        "              -1.5724328270787566,\n",
        "              54.77666500007808\n",
        "            ],\n",
        "            [\n",
        "              -1.5726735810016237,\n",
        "              54.777053801877514\n",
        "            ],\n",
        "            [\n",
        "              -1.5739014260069268,\n",
        "              54.777303743918\n",
        "            ],\n",
        "            [\n",
        "              -1.5752977987589247,\n",
        "              54.77758145548549\n",
        "            ],\n",
        "            [\n",
        "              -1.57602006052673,\n",
        "              54.77773419603463\n",
        "            ],\n",
        "            [\n",
        "              -1.5768867746485569,\n",
        "              54.77781750881866\n",
        "            ]\n",
        "          ]\n",
        "        ],\n",
        "        \"type\": \"Polygon\"\n",
        "      }\n",
        "    }\n",
        "  ]\n",
        "}\"\"\"\n"
      ],
      "metadata": {
        "id": "9AXPhs1DGiL4"
      },
      "id": "9AXPhs1DGiL4",
      "execution_count": null,
      "outputs": []
    },
    {
      "cell_type": "markdown",
      "source": [
        "Now it's a simple two lines of code to convert this into a GEE geometry, making using of the `json` library, which we also import.\n",
        "\n",
        "Note that I have saved the geometry as `sample_region`. Depending on the script you implement this within, you may have to change this to whatever fits the script."
      ],
      "metadata": {
        "id": "cXhJxazWMlcG"
      },
      "id": "cXhJxazWMlcG"
    },
    {
      "cell_type": "code",
      "source": [
        "import json\n",
        "\n",
        "geojson_object = json.loads(geojson_string)\n",
        "sample_region = ee.Geometry(geojson_object['features'][0]['geometry'])"
      ],
      "metadata": {
        "id": "VpyworarGus0"
      },
      "id": "VpyworarGus0",
      "execution_count": null,
      "outputs": []
    },
    {
      "cell_type": "markdown",
      "source": [
        "Let's prove that this works. Now you can implement this within the other scripts!"
      ],
      "metadata": {
        "id": "uyes6PLONXKH"
      },
      "id": "uyes6PLONXKH"
    },
    {
      "cell_type": "code",
      "source": [
        "Map = geemap.Map()  # Create an empty Map\n",
        "Map.addLayer(sample_region, {}, \"Search Region\")  # Add our AOI\n",
        "Map.centerObject(sample_region, zoom=15)  # Centre our map on the region of interest\n",
        "Map\n"
      ],
      "metadata": {
        "id": "En1e3X5qJHMK"
      },
      "id": "En1e3X5qJHMK",
      "execution_count": null,
      "outputs": []
    }
  ],
  "metadata": {
    "colab": {
      "provenance": [],
      "include_colab_link": true
    },
    "kernelspec": {
      "display_name": "Python (geospatial)",
      "language": "python",
      "name": "geospatial"
    },
    "language_info": {
      "codemirror_mode": {
        "name": "ipython",
        "version": 3
      },
      "file_extension": ".py",
      "mimetype": "text/x-python",
      "name": "python",
      "nbconvert_exporter": "python",
      "pygments_lexer": "ipython3",
      "version": "3.10.9"
    }
  },
  "nbformat": 4,
  "nbformat_minor": 5
}