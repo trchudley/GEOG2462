{
  "cells": [
    {
      "cell_type": "markdown",
      "metadata": {
        "id": "view-in-github",
        "colab_type": "text"
      },
      "source": [
        "<a href=\"https://colab.research.google.com/github/trchudley/GEOG2462/blob/main/Short_Scripts/Week_2_NDI_Difference_Maps_Using_QGIS.ipynb\" target=\"_parent\"><img src=\"https://colab.research.google.com/assets/colab-badge.svg\" alt=\"Open In Colab\"/></a>"
      ]
    },
    {
      "cell_type": "markdown",
      "id": "40009b08-8f39-446b-b45a-369721de165d",
      "metadata": {
        "id": "40009b08-8f39-446b-b45a-369721de165d"
      },
      "source": [
        "# Exploring change in NDI values using QGIS"
      ]
    },
    {
      "cell_type": "markdown",
      "source": [
        "One additional comparison you can perform for NDI rasters of different time periods is to calculate the change in NDI values between images. [Here is an example tutorial](https://www.earthdatascience.org/courses/use-data-open-source-python/multispectral-remote-sensing/vegetation-indices-in-python/calculate-dNBR-Landsat-8/) using NBR (the burn ratio) from a pre- and post-wildfire event to calculate 'dNBR' (the change in NBR) and hence classify the likelihood/severity of the wildfire. You could also do this, for example, before and after a drought to quantify how drought-stressed different vegetation is. Basically, this is a useful tool if you want to compare _how much an NDI has changed over a surface_, rather than just performing a binary classifying and reporting presence/absence of a classified surface.\n",
        "\n",
        "You don't need to worry about doing this in code though (like in the tutorial above). We can simply do in GIS software. I will descibe how do to in QGIS below, but as previously mentioned, if you know how to do it in ArcGIS and you're happy doing it there, that's absolutely fine!\n",
        "\n",
        "## Step-By-Step Instructions\n",
        "\n",
        "1. Use the 'Week 2' script to produce the NDI rasters you like. They will be exported to your Google Drive, so download them locally to a sensible location.\n",
        "2. Add both of these rasters to QGIS, either through the `Layers` > `Add Layer` > `Add Raster Layer...` tool, or by clicking and dragging the files from the folder to the QGIS main window.\n",
        "3. Open the raster calculator by clicking `Raster` > `Raster Toolbar` in the toolbar.\n",
        "4. You will see the list of rasters in your project on the left (the `Raster Bands` box, and mathematical operators below (the `Operators` box). The list of rasters will be followed by `@1`, e.g. `quelcayya_2023-08-19_NDSI@1`. This means you are selecting the first band of the layer `quelcayya_2023-08-19`. For our NDI rasters, there's only one band, so you don't need to worry too much. However, you may also notice the scene rasters if they are loaded, where there will be five layers for five bands.\n",
        "5. You click on the list of rasters and the mathematicals to construct your operation, like a simple calculator. Your operations will appear in the `Raster Calculator Expression` window at the bottom. For instance, I might choose to construct the operation `\"image_date_2_NDVI@1\" - \"image_date_1_NDVI@1\"`. Note that I have subtracted image 1 from image 2 rather than the other way around: this will produce a difference image where positive values indicate an increase in NDVI between period 1 and 2, and negative where a decrease has occurred. When choosing which to substract from which, think carefully about what the produced values will mean.\n",
        "6. Now we will move to the `Result Layer` box in the upper right of the window. Choose a location and filename for your output layer by clicking the `...` button to the right of the `Output layer` box. You shouldn't need to worry about any of the other settings -  simply ensure the `Add result to project` checkbox is ticked so that the output will be automatically imported, and click `OK` in the bottom right to perform the operation.\n",
        "7. Your difference map should be automatically added to the project for analysis and mapping! If it is not, you can add it manually from whereever you chose to export it from."
      ],
      "metadata": {
        "id": "w3DsP51qJ5Qn"
      },
      "id": "w3DsP51qJ5Qn"
    }
  ],
  "metadata": {
    "colab": {
      "provenance": [],
      "include_colab_link": true
    },
    "kernelspec": {
      "display_name": "Python (geospatial)",
      "language": "python",
      "name": "geospatial"
    },
    "language_info": {
      "codemirror_mode": {
        "name": "ipython",
        "version": 3
      },
      "file_extension": ".py",
      "mimetype": "text/x-python",
      "name": "python",
      "nbconvert_exporter": "python",
      "pygments_lexer": "ipython3",
      "version": "3.10.9"
    }
  },
  "nbformat": 4,
  "nbformat_minor": 5
}