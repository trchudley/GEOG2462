{
  "cells": [
    {
      "cell_type": "markdown",
      "metadata": {
        "id": "view-in-github",
        "colab_type": "text"
      },
      "source": [
        "<a href=\"https://colab.research.google.com/github/trchudley/GEOG2462/blob/main/Short_Scripts/Week_2_Calculate_NDIs.ipynb\" target=\"_parent\"><img src=\"https://colab.research.google.com/assets/colab-badge.svg\" alt=\"Open In Colab\"/></a>"
      ]
    },
    {
      "cell_type": "markdown",
      "id": "0c4e9125-7321-4e43-a018-bf7da4c3d708",
      "metadata": {
        "id": "0c4e9125-7321-4e43-a018-bf7da4c3d708"
      },
      "source": [
        "# Calculate a normalised difference index in Google Earth Engine"
      ]
    },
    {
      "cell_type": "markdown",
      "id": "60585cf3-13c8-43e8-896d-2de33b1cdc96",
      "metadata": {
        "id": "60585cf3-13c8-43e8-896d-2de33b1cdc96"
      },
      "source": [
        "## Log in to Google Earth Engine"
      ]
    },
    {
      "cell_type": "code",
      "execution_count": null,
      "id": "c06194c5-7698-4f92-b1f0-23f17466c65a",
      "metadata": {
        "id": "c06194c5-7698-4f92-b1f0-23f17466c65a"
      },
      "outputs": [],
      "source": [
        "import ee\n",
        "import geemap\n",
        "import geemap.chart as chart\n",
        "import time\n",
        "\n",
        "ee.Authenticate()  # Trigger the authentication flow.\n",
        "ee.Initialize(project='ee-trchudley')    # Change to your own default project name."
      ]
    },
    {
      "cell_type": "markdown",
      "id": "bd586952-ae7f-4c0b-b6dc-cc6096b8dca9",
      "metadata": {
        "id": "bd586952-ae7f-4c0b-b6dc-cc6096b8dca9"
      },
      "source": [
        "## Set editable parameters\n",
        "\n",
        "Most editable parameters are in this cell. Thresholding parameters must also be manually selected after the histogram is generated."
      ]
    },
    {
      "cell_type": "code",
      "execution_count": null,
      "id": "654e83c6-d9b0-4e4d-b328-8f8f00f72948",
      "metadata": {
        "id": "654e83c6-d9b0-4e4d-b328-8f8f00f72948"
      },
      "outputs": [],
      "source": [
        "\n",
        "# Location - editable\n",
        "latitude = -13.922           # Degrees of latitude\n",
        "longitude = -70.821          # Degrees of longitude\n",
        "size = 15000                 # Size of AOI, in metres\n",
        "location_name = 'quelcayya'  # recognisable name, to create a useful file name\n",
        "\n",
        "# Dates - editable\n",
        "date_start = '2023-08-15'\n",
        "date_end = '2023-09-30'\n",
        "\n",
        "# Set NDI name and r_high and r_low bands\n",
        "type_of_ndi = 'NDSI'  # type of NDI calculated, for filename purposes\n",
        "r_high = 'B3'  # relevant band name for r_high\n",
        "r_low = 'B6'   # relevant band name for r_low\n",
        "\n",
        "# Google Drive export folder\n",
        "folder = 'scires_project_2A'"
      ]
    },
    {
      "cell_type": "markdown",
      "id": "e015f6fb-9e6c-4fd6-9e62-efc4362b4c95",
      "metadata": {
        "id": "e015f6fb-9e6c-4fd6-9e62-efc4362b4c95"
      },
      "source": [
        "## Search for image and calculate NDI"
      ]
    },
    {
      "cell_type": "code",
      "execution_count": null,
      "id": "719edcac-a07e-4ef1-a91c-0057565dc61d",
      "metadata": {
        "id": "719edcac-a07e-4ef1-a91c-0057565dc61d"
      },
      "outputs": [],
      "source": [
        "# Set up location geometry\n",
        "point = ee.Geometry.Point(longitude, latitude)  # Create a point\n",
        "region = point.buffer(size/2).bounds()  # Buffer the point to a 2D shape\n",
        "\n",
        "# Get Landsat 8 image collection\n",
        "landsat8_collection = ee.ImageCollection(\"LANDSAT/LC08/C02/T1_TOA\")\n",
        "\n",
        "# Filter to desired region and date bounds\n",
        "landsat8_collection = landsat8_collection.filterBounds(region)\n",
        "landsat8_collection = landsat8_collection.filterDate(date_start, date_end)\n",
        "\n",
        "# Get the least cloudy image in the collection, and clip it to our search region\n",
        "image = landsat8_collection.sort('CLOUD_COVER').first()\n",
        "image = image.clip(region)\n",
        "\n",
        "# Print out date, for reference\n",
        "date = image.get('DATE_ACQUIRED').getInfo()\n",
        "print(f'Selected image on date {date}')\n",
        "\n",
        "# Calculate NDI\n",
        "ndi = image.normalizedDifference([r_high, r_low]).rename(type_of_ndi)\n"
      ]
    },
    {
      "cell_type": "markdown",
      "id": "d06b6253-d87a-4688-8a1d-55975cc2d09f",
      "metadata": {
        "id": "d06b6253-d87a-4688-8a1d-55975cc2d09f"
      },
      "source": [
        "Visualise NDI for quality assessment."
      ]
    },
    {
      "cell_type": "code",
      "execution_count": null,
      "id": "84ddf96c-4fc0-431c-9a5d-6c2c216cc48d",
      "metadata": {
        "id": "84ddf96c-4fc0-431c-9a5d-6c2c216cc48d"
      },
      "outputs": [],
      "source": [
        "\n",
        "Map = geemap.Map() # Create empty map\n",
        "\n",
        "# Display colour image\n",
        "max_reflectance = 0.80\n",
        "visParams = {'bands': ['B4', 'B3', 'B2'], 'max': max_reflectance}\n",
        "Map.addLayer(image, visParams, 'True Colour')\n",
        "\n",
        "# Display NDI\n",
        "visParams = {'bands': [type_of_ndi], 'min': -1, 'max': 1, 'palette': ['red', 'white', 'blue']}\n",
        "Map.addLayer(ndi, visParams, type_of_ndi)\n",
        "\n",
        "Map.centerObject(region, zoom=12)\n",
        "Map\n"
      ]
    },
    {
      "cell_type": "markdown",
      "id": "157a01a1-a154-4b70-b464-c8f0942d940d",
      "metadata": {
        "id": "157a01a1-a154-4b70-b464-c8f0942d940d"
      },
      "source": [
        "# Thresholding"
      ]
    },
    {
      "cell_type": "markdown",
      "id": "6JiP7sbdUtuO",
      "metadata": {
        "id": "6JiP7sbdUtuO"
      },
      "source": [
        "Use the below histogram to assess viable threshold."
      ]
    },
    {
      "cell_type": "code",
      "execution_count": null,
      "id": "203585f9-b68c-4a25-bcb0-f46d36361761",
      "metadata": {
        "id": "203585f9-b68c-4a25-bcb0-f46d36361761"
      },
      "outputs": [],
      "source": [
        "\n",
        "# Sample 10,000 pixels within the NDI image\n",
        "sample_pixels = ndi.sample(region, numPixels=10000)\n",
        "\n",
        "# Set labels for the graph\n",
        "labels = {\n",
        "    \"title\": 'Distribution of NDI values within image',\n",
        "    \"xlabel\": f'{type_of_ndi} values',\n",
        "    \"ylabel\": 'Pixel count',\n",
        "}\n",
        "\n",
        "# Construct the histogram\n",
        "chart.feature_histogram(sample_pixels, type_of_ndi, **labels)"
      ]
    },
    {
      "cell_type": "markdown",
      "id": "iiLNFxk0aH0M",
      "metadata": {
        "id": "iiLNFxk0aH0M"
      },
      "source": [
        "Manually set threshold filters below. Note the `direction` variable, which can be set to `'greater_than'` or `'less_than`' depending on whether you want to classify surfaces > or < the NDI threshold.\n",
        "\n",
        "The `filter_threshold_km2` sets a minimum size of classified area to include. It can be set to zero if you don't want to filter."
      ]
    },
    {
      "cell_type": "code",
      "execution_count": null,
      "id": "ef6917d6-1281-4d79-bf8e-2da76efe8b92",
      "metadata": {
        "id": "ef6917d6-1281-4d79-bf8e-2da76efe8b92"
      },
      "outputs": [],
      "source": [
        "# manually set an NDI threshold with which to classify\n",
        "threshold = 0.8\n",
        "\n",
        "# Greater than or less then\n",
        "direction = 'greater_than'\n",
        "# direction = 'less_than'\n",
        "\n",
        "# Set the minimum size of thresholded areas to be included, in km2. Set to zero if you don't want to filter.\n",
        "filter_threshold_km2 = 0.5"
      ]
    },
    {
      "cell_type": "markdown",
      "id": "e537ae0c-668a-48da-a1d0-86c797968a8d",
      "metadata": {
        "id": "e537ae0c-668a-48da-a1d0-86c797968a8d"
      },
      "source": [
        "The rest is automatic:"
      ]
    },
    {
      "cell_type": "code",
      "execution_count": null,
      "id": "50951bb5-2b09-4fc9-8767-95b356695d12",
      "metadata": {
        "id": "50951bb5-2b09-4fc9-8767-95b356695d12"
      },
      "outputs": [],
      "source": [
        "# threshold the image to where greater than or less than threshold.\n",
        "if direction == 'greater_than':\n",
        "    ndi_threshold = ndi.gte(threshold)\n",
        "elif direction == 'less_than':\n",
        "    ndi_threshold = ndi.lte(threshold)\n",
        "else:\n",
        "    raise ValueError(\"`direction` variable must be set to 'greater_than' or 'less_than'\")\n",
        "\n",
        "# 'Mask' the data, showing only regions beyond the threshold.\n",
        "ndi_threshold = ndi_threshold.updateMask(ndi_threshold.neq(0))\n",
        "\n",
        "# Calculate the area of each pixel in km2, and add it as a band to the NDI image\n",
        "ndi_and_area = ndi_threshold.addBands(ndi_threshold.multiply(30*30).divide(1e6))\n",
        "\n",
        "# Use the `reduceToVectors()` function to produce vectors, also calculating\n",
        "# the total area using the `sum()` function to sum the pixel areas.\n",
        "vectors = ndi_and_area.reduceToVectors(\n",
        "  scale=30,\n",
        "  geometryType = 'polygon',\n",
        "  eightConnected = False,\n",
        "  reducer = ee.Reducer.sum(),\n",
        ")\n",
        "\n",
        "# Extra line to rename the area column to `area_km2`.\n",
        "vectors = vectors.map(lambda feature: feature.set('area_km2', feature.get('sum')).set('sum', None).set('label', None))\n",
        "\n",
        "# Filter polygons smaller than this chosen threshold\n",
        "vectors_filtered = vectors.filter(ee.Filter.gte('area_km2', filter_threshold_km2))\n"
      ]
    },
    {
      "cell_type": "markdown",
      "id": "OkPxHO_Bc2ZB",
      "metadata": {
        "id": "OkPxHO_Bc2ZB"
      },
      "source": [
        "Visualise threshold for quality assessment. The unfiltered thresholded region is included as a cyan raster; the area-filtered region is included as a blue vector."
      ]
    },
    {
      "cell_type": "code",
      "execution_count": null,
      "id": "jeAtC5lsb3k8",
      "metadata": {
        "id": "jeAtC5lsb3k8"
      },
      "outputs": [],
      "source": [
        "\n",
        "Map = geemap.Map() # Create empty map\n",
        "\n",
        "# Display colour image\n",
        "max_reflectance = 0.80\n",
        "visParams = {'bands': ['B4', 'B3', 'B2'], 'max': max_reflectance}\n",
        "Map.addLayer(image, visParams, 'True Colour')\n",
        "\n",
        "# Display thresholded NDI as raster\n",
        "visParams = {'bands': [type_of_ndi], 'palette': ['white', 'cyan'], 'opacity': 0.3}\n",
        "Map.addLayer(ndi_threshold, visParams, type_of_ndi)\n",
        "\n",
        "# Display vectors filtered\n",
        "Map.addLayer(vectors_filtered, {'color': 'blue'}, \"Identified Region\")  # Add our AOI\n",
        "\n",
        "Map.centerObject(region, zoom=12)\n",
        "Map\n"
      ]
    },
    {
      "cell_type": "markdown",
      "id": "LlKhigMXw_Ev",
      "metadata": {
        "id": "LlKhigMXw_Ev"
      },
      "source": [
        "Print quantiative statistics:"
      ]
    },
    {
      "cell_type": "code",
      "execution_count": null,
      "id": "r7s0MihfxbVL",
      "metadata": {
        "id": "r7s0MihfxbVL"
      },
      "outputs": [],
      "source": [
        "\n",
        "# Get total area of initial search region\n",
        "aoi_area_km2 = region.area(maxError=1).getInfo() / 1e6\n",
        "\n",
        "# Get total area of all vectors\n",
        "vector_area_km2 = vectors.aggregate_sum('area_km2').getInfo()\n",
        "\n",
        "# Get total area the filtered vectors\n",
        "vector_flt_area_km2 = vectors_filtered.aggregate_sum('area_km2').getInfo()\n",
        "\n",
        "# Print the results\n",
        "print(f'Total scene area: {aoi_area_km2:.2f} km2')\n",
        "print(f'Total classified area: {vector_area_km2:.2f} km2')\n",
        "print(f'Total classified area (filtered): {vector_flt_area_km2:.2f} km2')\n"
      ]
    },
    {
      "cell_type": "markdown",
      "id": "Dly_RhnruWrP",
      "metadata": {
        "id": "Dly_RhnruWrP"
      },
      "source": [
        "## Download data"
      ]
    },
    {
      "cell_type": "markdown",
      "id": "-32jFQlYy2bY",
      "metadata": {
        "id": "-32jFQlYy2bY"
      },
      "source": [
        "Download initial scene:"
      ]
    },
    {
      "cell_type": "code",
      "execution_count": null,
      "id": "HeASPMU3uF2f",
      "metadata": {
        "id": "HeASPMU3uF2f"
      },
      "outputs": [],
      "source": [
        "# Construct the filename automatically\n",
        "date_string = image.get('DATE_ACQUIRED').getInfo()\n",
        "filename = location_name + '_' + date_string + '_image'\n",
        "\n",
        "# Print out filename for reference\n",
        "print(\"The image will be saved to your Google Drive at:\\n\" + folder + '/' + filename + '.tif\\n')\n",
        "\n",
        "# Export the image, specifying scale and region.\n",
        "task = ee.batch.Export.image.toDrive(**{\n",
        "    'image': image.select(['B4', 'B3', 'B2', 'B5', 'B6']),\n",
        "    'description': filename,\n",
        "    'folder': folder,\n",
        "    'scale': 30,\n",
        "    'region': region.getInfo()['coordinates']\n",
        "})\n",
        "task.start()\n",
        "\n",
        "while task.active():\n",
        "  print('Task processing ongoing... (id: {}).'.format(task.id))\n",
        "  time.sleep(5)\n",
        "\n",
        "print('Finished processing. Image is exported to your Drive.')\n"
      ]
    },
    {
      "cell_type": "markdown",
      "id": "gNcc0ETsz2q1",
      "metadata": {
        "id": "gNcc0ETsz2q1"
      },
      "source": [
        "Download NDI:"
      ]
    },
    {
      "cell_type": "code",
      "execution_count": null,
      "id": "jgrQHcTXz2Du",
      "metadata": {
        "id": "jgrQHcTXz2Du"
      },
      "outputs": [],
      "source": [
        "# Construct the filename automatically\n",
        "date_string = image.get('DATE_ACQUIRED').getInfo()\n",
        "filename = location_name + '_' + date_string + '_' + type_of_ndi\n",
        "\n",
        "# Print out filename for reference\n",
        "print(\"The image will be saved to your Google Drive at:\\n\" + folder + '/' + filename + '.tif\\n')\n",
        "\n",
        "# Export the image, specifying scale and region.\n",
        "task = ee.batch.Export.image.toDrive(**{\n",
        "    'image': ndi,\n",
        "    'description': filename,\n",
        "    'folder': folder,\n",
        "    'scale': 30,\n",
        "    'region': region.getInfo()['coordinates']\n",
        "})\n",
        "task.start()\n",
        "\n",
        "while task.active():\n",
        "  print('Task processing ongoing... (id: {}).'.format(task.id))\n",
        "  time.sleep(5)\n",
        "\n",
        "print('Finished processing. Image is exported to your Drive.')\n"
      ]
    },
    {
      "cell_type": "markdown",
      "id": "0jnRAHbt0S4M",
      "metadata": {
        "id": "0jnRAHbt0S4M"
      },
      "source": [
        "Download vector data:"
      ]
    },
    {
      "cell_type": "code",
      "execution_count": null,
      "id": "zO91KJ5K08Mt",
      "metadata": {
        "id": "zO91KJ5K08Mt"
      },
      "outputs": [],
      "source": [
        "# Construct the filename automatically\n",
        "date_string = image.get('DATE_ACQUIRED').getInfo()\n",
        "filename = location_name + '_' + date_string + '_' + type_of_ndi + '_theshold_' + str(max_reflectance)\n",
        "\n",
        "# Print out filename for reference\n",
        "print(\"The image will be saved to your Google Drive at:\\n\" + folder + '/' + filename + '.kml\\n')\n",
        "\n",
        "# Export the featureCollection, specifying scale and region.\n",
        "task = ee.batch.Export.table.toDrive(**{\n",
        "  'collection': vectors_filtered,\n",
        "  'description': filename,\n",
        "  'folder': folder,\n",
        "  # 'fileFormat': 'KML',\n",
        "  'fileFormat': 'SHP',\n",
        "})\n",
        "task.start()\n",
        "\n",
        "while task.active():\n",
        "  print('Task processing ongoing... (id: {}).'.format(task.id))\n",
        "  time.sleep(5)\n",
        "\n",
        "print('Finished processing. Vector file is exported to your Drive.')\n"
      ]
    }
  ],
  "metadata": {
    "colab": {
      "provenance": [],
      "include_colab_link": true
    },
    "kernelspec": {
      "display_name": "Python (geospatial)",
      "language": "python",
      "name": "geospatial"
    },
    "language_info": {
      "codemirror_mode": {
        "name": "ipython",
        "version": 3
      },
      "file_extension": ".py",
      "mimetype": "text/x-python",
      "name": "python",
      "nbconvert_exporter": "python",
      "pygments_lexer": "ipython3",
      "version": "3.10.9"
    }
  },
  "nbformat": 4,
  "nbformat_minor": 5
}