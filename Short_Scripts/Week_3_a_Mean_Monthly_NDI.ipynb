{
  "cells": [
    {
      "cell_type": "markdown",
      "metadata": {
        "id": "view-in-github",
        "colab_type": "text"
      },
      "source": [
        "<a href=\"https://colab.research.google.com/github/trchudley/GEOG2462/blob/main/Short_Scripts/Week_3_a_Mean_Monthly_NDI.ipynb\" target=\"_parent\"><img src=\"https://colab.research.google.com/assets/colab-badge.svg\" alt=\"Open In Colab\"/></a>"
      ]
    },
    {
      "cell_type": "markdown",
      "id": "40009b08-8f39-446b-b45a-369721de165d",
      "metadata": {
        "id": "40009b08-8f39-446b-b45a-369721de165d"
      },
      "source": [
        "# Calculate the average NDI over a sample area through time\n",
        "**Option (a): Mean monthly NDI**"
      ]
    },
    {
      "cell_type": "markdown",
      "id": "bbcc44fd-0056-4816-8140-b5515c265006",
      "metadata": {
        "id": "bbcc44fd-0056-4816-8140-b5515c265006"
      },
      "source": [
        "## Log in to Google Earth Engine"
      ]
    },
    {
      "cell_type": "code",
      "execution_count": null,
      "id": "11c86403-f702-4af6-a620-093910aaa01c",
      "metadata": {
        "id": "11c86403-f702-4af6-a620-093910aaa01c"
      },
      "outputs": [],
      "source": [
        "import ee\n",
        "import geemap\n",
        "import pandas as pd\n",
        "import matplotlib.pyplot as plt\n",
        "from google.colab import drive\n",
        "\n",
        "ee.Authenticate()  # Trigger the authentication flow.\n",
        "ee.Initialize(project='ee-trchudley')    # Change to your own default project name.\n",
        "\n",
        "drive.mount('/content/drive')  # Mount Google Drive onto Colab"
      ]
    },
    {
      "cell_type": "markdown",
      "id": "62377970-776b-4270-ac74-a013732423e4",
      "metadata": {
        "id": "62377970-776b-4270-ac74-a013732423e4"
      },
      "source": [
        "## Identify region and NDI of interest"
      ]
    },
    {
      "cell_type": "code",
      "execution_count": null,
      "id": "13b32fd8-28dc-4704-acf7-7dac74ced72f",
      "metadata": {
        "id": "13b32fd8-28dc-4704-acf7-7dac74ced72f"
      },
      "outputs": [],
      "source": [
        "# Location - editable\n",
        "latitude = 41.017           # Degrees of latitude\n",
        "longitude = -123.611        # Degrees of longitude\n",
        "location_name = 'hoopa'     # recognisable name, to create a useful file name\n",
        "sample_radius = 1000        # radius of sample area around chosen point, in metres\n",
        "\n",
        "# Date range - editable\n",
        "year_begin = 2014\n",
        "year_end = 2023\n",
        "\n",
        "# NDI - editable\n",
        "type_of_ndi = 'NDVI'  # type of NDI calculated, for filename purposes\n",
        "r_high = 'B5'  # relevant band name for r_high\n",
        "r_low = 'B4'   # relevant band name for r_low\n",
        "\n",
        "# You can edit this variable\n",
        "folder = 'scires_project_2C'\n",
        "\n"
      ]
    },
    {
      "cell_type": "markdown",
      "id": "a80b40de-3d11-42f9-81f9-74b34f84a3cc",
      "metadata": {
        "id": "a80b40de-3d11-42f9-81f9-74b34f84a3cc"
      },
      "source": [
        "Sanity check the sample region"
      ]
    },
    {
      "cell_type": "code",
      "execution_count": null,
      "id": "f8303691-999d-4fe4-aa08-7409925cebe1",
      "metadata": {
        "id": "f8303691-999d-4fe4-aa08-7409925cebe1"
      },
      "outputs": [],
      "source": [
        "# Set up location geometry\n",
        "point = ee.Geometry.Point(longitude, latitude)  # Create a point\n",
        "sample_region = point.buffer(sample_radius)     # Buffer the point\n",
        "\n",
        "Map = geemap.Map()  # Create an empty Map\n",
        "Map.addLayer(sample_region, {}, \"Search Region\")  # Add our AOI\n",
        "Map.centerObject(sample_region, zoom=12)  # Centre our map on the region of interest\n",
        "Map"
      ]
    },
    {
      "cell_type": "code",
      "execution_count": null,
      "id": "ca402026-84b7-4702-8852-0829c7056de4",
      "metadata": {
        "id": "ca402026-84b7-4702-8852-0829c7056de4"
      },
      "outputs": [],
      "source": [
        "# Set up location geometry\n",
        "point = ee.Geometry.Point(longitude, latitude)  # Create a point\n",
        "sample_region = point.buffer(sample_radius)     # Buffer the point\n",
        "\n",
        "# Get Landsat 8 image collection\n",
        "landsat8_collection = ee.ImageCollection(\"LANDSAT/LC08/C02/T1_TOA\")\n",
        "\n",
        "# Filter to desired region and date bounds\n",
        "landsat8_collection = landsat8_collection.filterBounds(sample_region)\n",
        "landsat8_collection = landsat8_collection.sort('system:time_start')  # Sort by image date\n",
        "landsat8_collection = landsat8_collection.filter(ee.Filter.lt('CLOUD_COVER', 70))\n",
        "\n",
        "# Filter cloudy pixels within the images\n",
        "landsat8_collection = landsat8_collection.map(\n",
        "    lambda image: image.updateMask(ee.Algorithms.Landsat.simpleCloudScore(image).select(['cloud']).lte(20))\n",
        ")\n",
        "\n",
        "landsat8_collection"
      ]
    },
    {
      "cell_type": "markdown",
      "id": "ea8dc05d-2078-4257-b9aa-01873a2d9998",
      "metadata": {
        "id": "ea8dc05d-2078-4257-b9aa-01873a2d9998"
      },
      "source": [
        "## Mean monthly NDI"
      ]
    },
    {
      "cell_type": "code",
      "execution_count": null,
      "id": "14851367-142d-4af1-878c-f8350c3d5adb",
      "metadata": {
        "id": "14851367-142d-4af1-878c-f8350c3d5adb"
      },
      "outputs": [],
      "source": [
        "\n",
        "# Create an empty table with the columns ('month' and 'ndi')\n",
        "monthly_ndi_record = pd.DataFrame({'month': [], type_of_ndi: []})\n",
        "\n",
        "# Simple 'loading bar' showing the months\n",
        "print('Month:  JFMAMJJASOND\\n        ', end='')\n",
        "\n",
        "# Loop through months, calculating the mean NDI within the region of interest\n",
        "for month in [1, 2, 3, 4, 5, 6, 7, 8, 9, 10, 11, 12]:  # for every month in the range 1 through 12...\n",
        "    print('.', end='')  # Add a point on the 'loading bar'\n",
        "\n",
        "    # Filter images only to those within the chosen month\n",
        "    month_images = landsat8_collection.filter(ee.Filter.calendarRange(month, month, 'month'))\n",
        "\n",
        "    # If there are no available images, return 'NaN' ('not a number'; blank).\n",
        "    if month_images.size().getInfo() == 0:\n",
        "        mean_ndi = None\n",
        "\n",
        "    # Else (i.e. if there *are* images...)\n",
        "    else:\n",
        "        # Calculate NDI for every image in the image collection (this is called 'mapping')\n",
        "        month_ndis = month_images.map(lambda image: image.normalizedDifference([r_high, r_low]).rename(type_of_ndi))\n",
        "\n",
        "        # Calculate a composite NDI image by calculating the median through the image collection\n",
        "        month_ndi = month_ndis.median()\n",
        "\n",
        "        # Calculate the average NDI of the composite image within the region of interest\n",
        "        mean_ndi = month_ndi.reduceRegion(reducer=ee.Reducer.mean(), geometry=sample_region, scale=30).getInfo()[type_of_ndi]\n",
        "\n",
        "    # Add a row to the table containing the relevant data\n",
        "    df = pd.DataFrame({'month': [int(month)], type_of_ndi: [mean_ndi]})\n",
        "    monthly_ndi_record = pd.concat([monthly_ndi_record, df])\n",
        "\n",
        "# DataFrame wrangling to correct errors introduced by concatenating records.\n",
        "monthly_ndi_record = monthly_ndi_record.reset_index().drop(columns='index')\n",
        "\n",
        "# Print 'finished' when we're finished calculating\n",
        "print('\\n        Finished!')"
      ]
    },
    {
      "cell_type": "code",
      "execution_count": null,
      "id": "80ef5511-f16a-4348-a465-347623cb3a1f",
      "metadata": {
        "id": "80ef5511-f16a-4348-a465-347623cb3a1f"
      },
      "outputs": [],
      "source": [
        "monthly_ndi_record"
      ]
    },
    {
      "cell_type": "code",
      "execution_count": null,
      "id": "a88c3519-829d-4db2-b913-debd064ee6da",
      "metadata": {
        "id": "a88c3519-829d-4db2-b913-debd064ee6da"
      },
      "outputs": [],
      "source": [
        "# create an empty figure\n",
        "fig, ax = plt.subplots(layout='constrained')\n",
        "\n",
        "# plot the NDI record from the pandas DataFrame\n",
        "monthly_ndi_record.plot('month', type_of_ndi, ax=ax)\n",
        "\n",
        "# Set the x and y labels\n",
        "ax.set_xlabel('Month')\n",
        "ax.set_ylabel(type_of_ndi)"
      ]
    },
    {
      "cell_type": "markdown",
      "id": "72acdcbf-0e35-4f2f-bdb0-f3ba9354ebcc",
      "metadata": {
        "id": "72acdcbf-0e35-4f2f-bdb0-f3ba9354ebcc"
      },
      "source": [
        "## Export data as `.csv` files to Google Drive"
      ]
    },
    {
      "cell_type": "code",
      "execution_count": null,
      "id": "7474e20f-820c-4a9f-a862-9e34484d4f61",
      "metadata": {
        "id": "7474e20f-820c-4a9f-a862-9e34484d4f61"
      },
      "outputs": [],
      "source": [
        "# Construct the filename automatically\n",
        "filename = location_name + '_monthly_ndi.csv'\n",
        "\n",
        "# Print out filename for reference\n",
        "print(\"The image will be saved to your Google Drive at:\\n\" + folder + '/' + filename + '\\n')\n",
        "\n",
        "# Export the pandas dataframe to a csv file\n",
        "monthly_ndi_record.to_csv(f'/content/drive/My Drive/{folder}/{filename}', index=False)\n",
        "\n",
        "print('Saved.')"
      ]
    }
  ],
  "metadata": {
    "colab": {
      "provenance": [],
      "include_colab_link": true
    },
    "kernelspec": {
      "display_name": "Python (geospatial)",
      "language": "python",
      "name": "geospatial"
    },
    "language_info": {
      "codemirror_mode": {
        "name": "ipython",
        "version": 3
      },
      "file_extension": ".py",
      "mimetype": "text/x-python",
      "name": "python",
      "nbconvert_exporter": "python",
      "pygments_lexer": "ipython3",
      "version": "3.10.9"
    }
  },
  "nbformat": 4,
  "nbformat_minor": 5
}