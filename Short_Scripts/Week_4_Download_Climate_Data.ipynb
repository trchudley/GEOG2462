{
 "cells": [
  {
   "cell_type": "markdown",
   "id": "5a9aed83",
   "metadata": {
    "colab_type": "text",
    "id": "view-in-github"
   },
   "source": [
    "<a href=\"https://colab.research.google.com/github/trchudley/GEOG2462/blob/main/Short_Scripts/Week_4_Download_Climate_Data.ipynb\" target=\"_parent\"><img src=\"https://colab.research.google.com/assets/colab-badge.svg\" alt=\"Open In Colab\"/></a>"
   ]
  },
  {
   "cell_type": "markdown",
   "id": "40009b08-8f39-446b-b45a-369721de165d",
   "metadata": {
    "id": "40009b08-8f39-446b-b45a-369721de165d"
   },
   "source": [
    "# Download and visualise ERA5 climate data"
   ]
  },
  {
   "cell_type": "markdown",
   "id": "bOCCZlOX-alB",
   "metadata": {
    "id": "bOCCZlOX-alB"
   },
   "source": [
    "## Import GEE and relevant tools"
   ]
  },
  {
   "cell_type": "code",
   "execution_count": null,
   "id": "Ei7kdCOi-XKC",
   "metadata": {
    "id": "Ei7kdCOi-XKC"
   },
   "outputs": [],
   "source": [
    "import ee\n",
    "import geemap\n",
    "import pandas as pd\n",
    "import matplotlib.pyplot as plt\n",
    "from google.colab import drive\n",
    "\n",
    "ee.Authenticate()  # Trigger the authentication flow.\n",
    "ee.Initialize(project='ee-trchudley')    # Change to your own default project name."
   ]
  },
  {
   "cell_type": "markdown",
   "id": "5D-cW5IeJvjY",
   "metadata": {
    "id": "5D-cW5IeJvjY"
   },
   "source": [
    "## Download ERA5 time series at a point\n",
    "\n",
    "Set variables here. Additional variables can be downloaded by adding to the `variables` list by consulting the [Earth Engine documentation](https://developers.google.com/earth-engine/datasets/catalog/ECMWF_ERA5_LAND_MONTHLY_AGGR#bands)."
   ]
  },
  {
   "cell_type": "code",
   "execution_count": null,
   "id": "AmfQrOAi-Ruy",
   "metadata": {
    "colab": {
     "base_uri": "https://localhost:8080/",
     "height": 17
    },
    "id": "AmfQrOAi-Ruy",
    "outputId": "3af14b96-b0c9-41eb-b5ac-b1f80de5f915"
   },
   "outputs": [],
   "source": [
    "# Location - editable\n",
    "latitude = 50.614           # Degrees of latitude\n",
    "longitude = -3.984          # Degrees of longitude\n",
    "location_name = 'dartmoor'  # recognisable name, to create a useful file name\n",
    "\n",
    "# Google Drive export folder\n",
    "folder = 'scires_project_2A'\n",
    "\n",
    "# Names of the variables we want to download -- add more if you like!\n",
    "variables = [\n",
    "    'temperature_2m',\n",
    "    'total_precipitation_sum',\n",
    "    ]"
   ]
  },
  {
   "cell_type": "markdown",
   "id": "c92cc9cf-33da-44d5-9708-055b87fc9063",
   "metadata": {},
   "source": [
    "## Download ERA5 data"
   ]
  },
  {
   "cell_type": "code",
   "execution_count": null,
   "id": "aZPhdZjk-Ulu",
   "metadata": {
    "colab": {
     "base_uri": "https://localhost:8080/",
     "height": 17
    },
    "id": "aZPhdZjk-Ulu",
    "outputId": "8232e53b-3db2-409f-9c44-77d0c86d9287"
   },
   "outputs": [],
   "source": [
    "# Create a point geometry at the specified location\n",
    "point = ee.Geometry.Point(longitude, latitude)\n",
    "\n",
    "# Define the dataset as the ERA5 monthly mean data\n",
    "dataset = ee.ImageCollection('ECMWF/ERA5_LAND/MONTHLY_AGGR')\n",
    "\n",
    "# Filter the dataset to the desired time range\n",
    "dataset = dataset.filter(ee.Filter.date('2013-01-01', '2023-12-31'))\n",
    "\n",
    "# Select only the relevant variables\n",
    "dataset = dataset.select(variables)\n",
    "\n",
    "# Go through the collection, finding the nearest values to the set lat/lon\n",
    "dataset = dataset.map(\n",
    "    lambda image: image.set(\n",
    "        'era5',\n",
    "        image.reduceRegion(\n",
    "            reducer=ee.Reducer.first(),\n",
    "            geometry=point,\n",
    "            scale=image.projection().nominalScale()  # Use native resolution\n",
    "        ).set('year', image.date().get('year')).set('month', image.date().get('month'))\n",
    "    )\n",
    ")\n",
    "\n",
    "# Get this data as a dictionary, and turn it into a Pandas dataframe (table)\n",
    "era5_dict = dataset.aggregate_array('era5').getInfo()\n",
    "era5 = pd.DataFrame(era5_dict)\n",
    "\n",
    "# Construct a proper 'date' column from the year and month data.\n",
    "dates = pd.to_datetime(dict(year=era5.year, month=era5.month, day=15))\n",
    "\n",
    "# Drop the 'year' and 'month' columns and insert the 'date' column instead as the first column.\n",
    "era5.drop(labels=['year', 'month'], axis=1,inplace = True)\n",
    "era5.insert(0, 'date', dates)\n",
    "\n",
    "# Visualise table\n",
    "era5"
   ]
  },
  {
   "cell_type": "markdown",
   "id": "0e44dfeb-f8ad-4113-80d5-0099ae53e94c",
   "metadata": {},
   "source": [
    "The below cell 'corrects' the data, converting temperature from K to ˚C and precipitaiton from m to mm. If you add additional variables, you may wish to add to this cell with your own 'corrections'."
   ]
  },
  {
   "cell_type": "code",
   "execution_count": null,
   "id": "60c7d3b7-d1ca-4f08-ad64-c50d7e45c415",
   "metadata": {},
   "outputs": [],
   "source": [
    "# Create new 'corrected' table as a copy of the first.\n",
    "era5_corr = era5.copy()\n",
    "\n",
    "# Transition temperature from Kelvin to Celcius\n",
    "era5_corr['temperature_2m'] = era5_corr['temperature_2m'] - 274.15\n",
    "\n",
    "# Transition total rainfall from m to mm\n",
    "era5_corr['total_precipitation_sum'] = era5_corr['total_precipitation_sum'] * 1000\n",
    "\n",
    "# Visualise new table\n",
    "era5_corr"
   ]
  },
  {
   "cell_type": "markdown",
   "id": "285d4295-8636-46c2-a293-1bacbdc7c960",
   "metadata": {},
   "source": [
    "Visualise temperature and precipitation data for quality assessment."
   ]
  },
  {
   "cell_type": "code",
   "execution_count": null,
   "id": "39c2CmllERI7",
   "metadata": {
    "colab": {
     "base_uri": "https://localhost:8080/",
     "height": 528
    },
    "id": "39c2CmllERI7",
    "outputId": "8ec455c2-0780-46c5-bd5f-c1e68688b0fc"
   },
   "outputs": [],
   "source": [
    "fig, axes = plt.subplots(nrows=2, layout='constrained', figsize=(8, 5))\n",
    "\n",
    "# For the first axis...\n",
    "ax = axes[0]\n",
    "# Plot the temperature in red on the first axis\n",
    "era5_corr.plot('date', 'temperature_2m', ax=ax, color='tab:red', legend=False)\n",
    "# Set the y axis label\n",
    "ax.set_ylabel('2 m Temperature [˚C]')\n",
    "\n",
    "# For the second axis...\n",
    "ax = axes[1]\n",
    "# Plot the total monthly precipitaiton in blue on the second axis\n",
    "era5_corr.plot('date', 'total_precipitation_sum', ax=ax, color='tab:blue', legend=False)\n",
    "# Set the y axis label ('\\n' forces a line break to fit it on the axis)\n",
    "ax.set_ylabel('Total Monthly\\nPrecipitation [mm]')\n",
    "# Set the y lower limit to zero\n",
    "ax.set_ylim(0, None)\n",
    "\n",
    "for ax in axes:  # Loop through both axes, applying the same rules to both\n",
    "\n",
    "  # Apply a grid\n",
    "  ax.grid()\n",
    "\n",
    "  # Set the x axis limits between 2013 and 2024\n",
    "  ax.set_xlim(pd.to_datetime('2013-01-01'), pd.to_datetime('2024-01-01'))\n",
    "\n",
    "  # Set the x axis label to 'Date'\n",
    "  ax.set_xlabel('Date')\n"
   ]
  },
  {
   "cell_type": "markdown",
   "id": "k4RnoNKOKuGC",
   "metadata": {
    "id": "k4RnoNKOKuGC"
   },
   "source": [
    "## Export data to Google Drive"
   ]
  },
  {
   "cell_type": "code",
   "execution_count": null,
   "id": "JxhxjD1QLwH-",
   "metadata": {
    "colab": {
     "base_uri": "https://localhost:8080/",
     "height": 88
    },
    "id": "JxhxjD1QLwH-",
    "outputId": "adae0265-2944-42f1-f192-b296ac52cddf"
   },
   "outputs": [],
   "source": [
    "# Mount google drive\n",
    "drive.mount('/content/drive')\n",
    "\n",
    "# Construct the filename automatically\n",
    "filename = location_name + '_era5.csv'\n",
    "\n",
    "# Print out filename for reference\n",
    "print(\"The image will be saved to your Google Drive at:\\n\" + folder + '/' + filename + '\\n')\n",
    "\n",
    "# Export the pandas dataframe to a csv file\n",
    "era5_corr.to_csv(f'/content/drive/My Drive/{folder}/{filename}', index=False)\n",
    "\n",
    "print('Saved.')"
   ]
  }
 ],
 "metadata": {
  "colab": {
   "include_colab_link": true,
   "provenance": []
  },
  "kernelspec": {
   "display_name": "Python (geospatial)",
   "language": "python",
   "name": "geospatial"
  },
  "language_info": {
   "codemirror_mode": {
    "name": "ipython",
    "version": 3
   },
   "file_extension": ".py",
   "mimetype": "text/x-python",
   "name": "python",
   "nbconvert_exporter": "python",
   "pygments_lexer": "ipython3",
   "version": "3.10.9"
  },
  "widgets": {
   "application/vnd.jupyter.widget-state+json": {
    "1557664d4037453c8d6faba58f09d24b": {
     "model_module": "jupyter-leaflet",
     "model_module_version": "^0.18",
     "model_name": "LeafletMapStyleModel",
     "state": {
      "_model_module": "jupyter-leaflet",
      "_model_module_version": "^0.18",
      "_model_name": "LeafletMapStyleModel",
      "_view_count": null,
      "_view_module": "@jupyter-widgets/base",
      "_view_module_version": "1.2.0",
      "_view_name": "StyleView",
      "cursor": "move"
     }
    },
    "293c5a2655ca4797b60ab0af6af585e4": {
     "model_module": "@jupyter-widgets/base",
     "model_module_version": "1.2.0",
     "model_name": "LayoutModel",
     "state": {
      "_model_module": "@jupyter-widgets/base",
      "_model_module_version": "1.2.0",
      "_model_name": "LayoutModel",
      "_view_count": null,
      "_view_module": "@jupyter-widgets/base",
      "_view_module_version": "1.2.0",
      "_view_name": "LayoutView",
      "align_content": null,
      "align_items": null,
      "align_self": null,
      "border": null,
      "bottom": null,
      "display": null,
      "flex": null,
      "flex_flow": null,
      "grid_area": null,
      "grid_auto_columns": null,
      "grid_auto_flow": null,
      "grid_auto_rows": null,
      "grid_column": null,
      "grid_gap": null,
      "grid_row": null,
      "grid_template_areas": null,
      "grid_template_columns": null,
      "grid_template_rows": null,
      "height": "28px",
      "justify_content": null,
      "justify_items": null,
      "left": null,
      "margin": null,
      "max_height": null,
      "max_width": null,
      "min_height": null,
      "min_width": null,
      "object_fit": null,
      "object_position": null,
      "order": null,
      "overflow": null,
      "overflow_x": null,
      "overflow_y": null,
      "padding": "0px 0px 0px 4px",
      "right": null,
      "top": null,
      "visibility": null,
      "width": "28px"
     }
    },
    "31ccee1658004ff6b621315f05cfb741": {
     "model_module": "jupyter-leaflet",
     "model_module_version": "^0.18",
     "model_name": "LeafletTileLayerModel",
     "state": {
      "_model_module": "jupyter-leaflet",
      "_model_module_version": "^0.18",
      "_model_name": "LeafletTileLayerModel",
      "_view_count": null,
      "_view_module": "jupyter-leaflet",
      "_view_module_version": "^0.18",
      "_view_name": "LeafletTileLayerView",
      "attribution": "Google Earth Engine",
      "base": false,
      "bottom": true,
      "bounds": null,
      "detect_retina": false,
      "loading": false,
      "max_native_zoom": null,
      "max_zoom": 24,
      "min_native_zoom": null,
      "min_zoom": 0,
      "name": "Air temperature [K] at 2m height",
      "no_wrap": false,
      "opacity": 0.8,
      "options": [
       "attribution",
       "bounds",
       "detect_retina",
       "max_native_zoom",
       "max_zoom",
       "min_native_zoom",
       "min_zoom",
       "no_wrap",
       "tile_size",
       "tms",
       "zoom_offset"
      ],
      "pane": "",
      "popup": null,
      "popup_max_height": null,
      "popup_max_width": 300,
      "popup_min_width": 50,
      "show_loading": false,
      "subitems": [],
      "tile_size": 256,
      "tms": false,
      "url": "https://earthengine.googleapis.com/v1/projects/ee-trchudley/maps/a50197be9304811e3451977190840708-ea22566317920db9805ef5099a43b446/tiles/{z}/{x}/{y}",
      "visible": true,
      "zoom_offset": 0
     }
    },
    "390daffff4724923ab2b77e7335ca66e": {
     "model_module": "@jupyter-widgets/controls",
     "model_module_version": "1.5.0",
     "model_name": "DescriptionStyleModel",
     "state": {
      "_model_module": "@jupyter-widgets/controls",
      "_model_module_version": "1.5.0",
      "_model_name": "DescriptionStyleModel",
      "_view_count": null,
      "_view_module": "@jupyter-widgets/base",
      "_view_module_version": "1.2.0",
      "_view_name": "StyleView",
      "description_width": ""
     }
    },
    "4580bb569900477fa4baf4da5269650b": {
     "model_module": "jupyter-leaflet",
     "model_module_version": "^0.18",
     "model_name": "LeafletTileLayerModel",
     "state": {
      "_model_module": "jupyter-leaflet",
      "_model_module_version": "^0.18",
      "_model_name": "LeafletTileLayerModel",
      "_view_count": null,
      "_view_module": "jupyter-leaflet",
      "_view_module_version": "^0.18",
      "_view_name": "LeafletTileLayerView",
      "attribution": "&copy; <a href=\"https://www.openstreetmap.org/copyright\">OpenStreetMap</a> contributors",
      "base": true,
      "bottom": true,
      "bounds": null,
      "detect_retina": false,
      "loading": false,
      "max_native_zoom": null,
      "max_zoom": 19,
      "min_native_zoom": null,
      "min_zoom": 1,
      "name": "OpenStreetMap.Mapnik",
      "no_wrap": false,
      "opacity": 1,
      "options": [
       "attribution",
       "bounds",
       "detect_retina",
       "max_native_zoom",
       "max_zoom",
       "min_native_zoom",
       "min_zoom",
       "no_wrap",
       "tile_size",
       "tms",
       "zoom_offset"
      ],
      "pane": "",
      "popup": null,
      "popup_max_height": null,
      "popup_max_width": 300,
      "popup_min_width": 50,
      "show_loading": false,
      "subitems": [],
      "tile_size": 256,
      "tms": false,
      "url": "https://tile.openstreetmap.org/{z}/{x}/{y}.png",
      "visible": true,
      "zoom_offset": 0
     }
    },
    "4e72d255930b4de7ab0fd46bfc2cdc9e": {
     "model_module": "@jupyter-widgets/controls",
     "model_module_version": "1.5.0",
     "model_name": "VBoxModel",
     "state": {
      "_dom_classes": [
       "geemap-colab"
      ],
      "_model_module": "@jupyter-widgets/controls",
      "_model_module_version": "1.5.0",
      "_model_name": "VBoxModel",
      "_view_count": null,
      "_view_module": "@jupyter-widgets/controls",
      "_view_module_version": "1.5.0",
      "_view_name": "VBoxView",
      "box_style": "",
      "children": [
       "IPY_MODEL_8f8afe1ed4624440b7e42d866e2a4524"
      ],
      "layout": "IPY_MODEL_72eb72e47d1e431ea1214858972c1dcf"
     }
    },
    "54239b5be68744578ce1659c6bc050da": {
     "model_module": "@jupyter-widgets/base",
     "model_module_version": "1.2.0",
     "model_name": "LayoutModel",
     "state": {
      "_model_module": "@jupyter-widgets/base",
      "_model_module_version": "1.2.0",
      "_model_name": "LayoutModel",
      "_view_count": null,
      "_view_module": "@jupyter-widgets/base",
      "_view_module_version": "1.2.0",
      "_view_name": "LayoutView",
      "align_content": null,
      "align_items": null,
      "align_self": null,
      "border": null,
      "bottom": null,
      "display": null,
      "flex": null,
      "flex_flow": null,
      "grid_area": null,
      "grid_auto_columns": null,
      "grid_auto_flow": null,
      "grid_auto_rows": null,
      "grid_column": null,
      "grid_gap": null,
      "grid_row": null,
      "grid_template_areas": null,
      "grid_template_columns": null,
      "grid_template_rows": null,
      "height": "600px",
      "justify_content": null,
      "justify_items": null,
      "left": null,
      "margin": null,
      "max_height": null,
      "max_width": null,
      "min_height": null,
      "min_width": null,
      "object_fit": null,
      "object_position": null,
      "order": null,
      "overflow": null,
      "overflow_x": null,
      "overflow_y": null,
      "padding": null,
      "right": null,
      "top": null,
      "visibility": null,
      "width": null
     }
    },
    "708815201827406280b93a292b849826": {
     "model_module": "jupyter-leaflet",
     "model_module_version": "^0.18",
     "model_name": "LeafletWidgetControlModel",
     "state": {
      "_model_module": "jupyter-leaflet",
      "_model_module_version": "^0.18",
      "_model_name": "LeafletWidgetControlModel",
      "_view_count": null,
      "_view_module": "jupyter-leaflet",
      "_view_module_version": "^0.18",
      "_view_name": "LeafletWidgetControlView",
      "max_height": null,
      "max_width": null,
      "min_height": null,
      "min_width": null,
      "options": [
       "position",
       "transparent_bg"
      ],
      "position": "topright",
      "transparent_bg": false,
      "widget": "IPY_MODEL_4e72d255930b4de7ab0fd46bfc2cdc9e"
     }
    },
    "72eb72e47d1e431ea1214858972c1dcf": {
     "model_module": "@jupyter-widgets/base",
     "model_module_version": "1.2.0",
     "model_name": "LayoutModel",
     "state": {
      "_model_module": "@jupyter-widgets/base",
      "_model_module_version": "1.2.0",
      "_model_name": "LayoutModel",
      "_view_count": null,
      "_view_module": "@jupyter-widgets/base",
      "_view_module_version": "1.2.0",
      "_view_name": "LayoutView",
      "align_content": null,
      "align_items": null,
      "align_self": null,
      "border": null,
      "bottom": null,
      "display": null,
      "flex": null,
      "flex_flow": null,
      "grid_area": null,
      "grid_auto_columns": null,
      "grid_auto_flow": null,
      "grid_auto_rows": null,
      "grid_column": null,
      "grid_gap": null,
      "grid_row": null,
      "grid_template_areas": null,
      "grid_template_columns": null,
      "grid_template_rows": null,
      "height": null,
      "justify_content": null,
      "justify_items": null,
      "left": null,
      "margin": null,
      "max_height": null,
      "max_width": null,
      "min_height": null,
      "min_width": null,
      "object_fit": null,
      "object_position": null,
      "order": null,
      "overflow": null,
      "overflow_x": null,
      "overflow_y": null,
      "padding": null,
      "right": null,
      "top": null,
      "visibility": null,
      "width": null
     }
    },
    "78fafd6fe5b840cab575d3fda24733fc": {
     "model_module": "jupyter-leaflet",
     "model_module_version": "^0.18",
     "model_name": "LeafletDrawControlModel",
     "state": {
      "_model_module": "jupyter-leaflet",
      "_model_module_version": "^0.18",
      "_model_name": "LeafletDrawControlModel",
      "_view_count": null,
      "_view_module": "jupyter-leaflet",
      "_view_module_version": "^0.18",
      "_view_name": "LeafletDrawControlView",
      "circle": {},
      "circlemarker": {},
      "data": [],
      "edit": true,
      "marker": {
       "shapeOptions": {
        "color": "#3388ff"
       }
      },
      "options": [
       "position"
      ],
      "polygon": {
       "shapeOptions": {}
      },
      "polyline": {
       "shapeOptions": {}
      },
      "position": "topleft",
      "rectangle": {
       "shapeOptions": {
        "color": "#3388ff"
       }
      },
      "remove": true
     }
    },
    "790b95f0a48e49a2baf45f7f3ea81364": {
     "model_module": "jupyter-leaflet",
     "model_module_version": "^0.18",
     "model_name": "LeafletMapStyleModel",
     "state": {
      "_model_module": "jupyter-leaflet",
      "_model_module_version": "^0.18",
      "_model_name": "LeafletMapStyleModel",
      "_view_count": null,
      "_view_module": "@jupyter-widgets/base",
      "_view_module_version": "1.2.0",
      "_view_name": "StyleView",
      "cursor": "grab"
     }
    },
    "8db071eaf2bc4a4db4be5a9f6e8de0d6": {
     "model_module": "@jupyter-widgets/controls",
     "model_module_version": "1.5.0",
     "model_name": "DescriptionStyleModel",
     "state": {
      "_model_module": "@jupyter-widgets/controls",
      "_model_module_version": "1.5.0",
      "_model_name": "DescriptionStyleModel",
      "_view_count": null,
      "_view_module": "@jupyter-widgets/base",
      "_view_module_version": "1.2.0",
      "_view_name": "StyleView",
      "description_width": ""
     }
    },
    "8f8afe1ed4624440b7e42d866e2a4524": {
     "model_module": "@jupyter-widgets/controls",
     "model_module_version": "1.5.0",
     "model_name": "ToggleButtonModel",
     "state": {
      "_dom_classes": [],
      "_model_module": "@jupyter-widgets/controls",
      "_model_module_version": "1.5.0",
      "_model_name": "ToggleButtonModel",
      "_view_count": null,
      "_view_module": "@jupyter-widgets/controls",
      "_view_module_version": "1.5.0",
      "_view_name": "ToggleButtonView",
      "button_style": "",
      "description": "",
      "description_tooltip": null,
      "disabled": false,
      "icon": "wrench",
      "layout": "IPY_MODEL_293c5a2655ca4797b60ab0af6af585e4",
      "style": "IPY_MODEL_8db071eaf2bc4a4db4be5a9f6e8de0d6",
      "tooltip": "Toolbar",
      "value": false
     }
    },
    "92201037bf44459d902b0145b2bada3a": {
     "model_module": "@jupyter-widgets/controls",
     "model_module_version": "1.5.0",
     "model_name": "HBoxModel",
     "state": {
      "_dom_classes": [
       "geemap-colab"
      ],
      "_model_module": "@jupyter-widgets/controls",
      "_model_module_version": "1.5.0",
      "_model_name": "HBoxModel",
      "_view_count": null,
      "_view_module": "@jupyter-widgets/controls",
      "_view_module_version": "1.5.0",
      "_view_name": "HBoxView",
      "box_style": "",
      "children": [
       "IPY_MODEL_eb675e7fcd4c4d5aacbc3b344d53ff21"
      ],
      "layout": "IPY_MODEL_c36e50c9ddfd4361ac173256553f853f"
     }
    },
    "9ca78eb68a174ebb85ce0bb0971abce0": {
     "model_module": "jupyter-leaflet",
     "model_module_version": "^0.18",
     "model_name": "LeafletFullScreenControlModel",
     "state": {
      "_model_module": "jupyter-leaflet",
      "_model_module_version": "^0.18",
      "_model_name": "LeafletFullScreenControlModel",
      "_view_count": null,
      "_view_module": "jupyter-leaflet",
      "_view_module_version": "^0.18",
      "_view_name": "LeafletFullScreenControlView",
      "options": [
       "position"
      ],
      "position": "topleft"
     }
    },
    "a5fe1a1fa94a43cfb7018092b317c8cb": {
     "model_module": "jupyter-leaflet",
     "model_module_version": "^0.18",
     "model_name": "LeafletAttributionControlModel",
     "state": {
      "_model_module": "jupyter-leaflet",
      "_model_module_version": "^0.18",
      "_model_name": "LeafletAttributionControlModel",
      "_view_count": null,
      "_view_module": "jupyter-leaflet",
      "_view_module_version": "^0.18",
      "_view_name": "LeafletAttributionControlView",
      "options": [
       "position",
       "prefix"
      ],
      "position": "bottomright",
      "prefix": "ipyleaflet"
     }
    },
    "a9d45d188df94576a4cd2bf88aeef14a": {
     "model_module": "jupyter-leaflet",
     "model_module_version": "^0.18",
     "model_name": "LeafletMapModel",
     "state": {
      "_dom_classes": [],
      "_model_module": "jupyter-leaflet",
      "_model_module_version": "^0.18",
      "_model_name": "LeafletMapModel",
      "_view_count": null,
      "_view_module": "jupyter-leaflet",
      "_view_module_version": "^0.18",
      "_view_name": "LeafletMapView",
      "bottom": 11422,
      "bounce_at_zoom_limits": true,
      "box_zoom": true,
      "center": [
       49.937079756975294,
       -0.42846679687500006
      ],
      "close_popup_on_click": true,
      "controls": [
       "IPY_MODEL_bc30eb8220164c498a65e5b630b9c9ca",
       "IPY_MODEL_f8bf9dc370814b919b6e2e7f8cd1b148",
       "IPY_MODEL_9ca78eb68a174ebb85ce0bb0971abce0",
       "IPY_MODEL_78fafd6fe5b840cab575d3fda24733fc",
       "IPY_MODEL_be9a3a3316a04555958621a73e9eb147",
       "IPY_MODEL_bb975a28679247c0a1fbdeb868511258",
       "IPY_MODEL_708815201827406280b93a292b849826",
       "IPY_MODEL_a5fe1a1fa94a43cfb7018092b317c8cb"
      ],
      "crs": {
       "custom": false,
       "name": "EPSG3857"
      },
      "default_style": "IPY_MODEL_790b95f0a48e49a2baf45f7f3ea81364",
      "double_click_zoom": true,
      "dragging": true,
      "dragging_style": "IPY_MODEL_1557664d4037453c8d6faba58f09d24b",
      "east": 6.723632812500001,
      "fullscreen": false,
      "inertia": true,
      "inertia_deceleration": 3000,
      "inertia_max_speed": 1500,
      "interpolation": "bilinear",
      "keyboard": true,
      "keyboard_pan_offset": 80,
      "keyboard_zoom_offset": 1,
      "layers": [
       "IPY_MODEL_4580bb569900477fa4baf4da5269650b",
       "IPY_MODEL_31ccee1658004ff6b621315f05cfb741"
      ],
      "layout": "IPY_MODEL_54239b5be68744578ce1659c6bc050da",
      "left": 15694,
      "max_zoom": 24,
      "min_zoom": null,
      "modisdate": "2024-01-09",
      "north": 52.01193653675363,
      "options": [
       "bounce_at_zoom_limits",
       "box_zoom",
       "center",
       "close_popup_on_click",
       "double_click_zoom",
       "dragging",
       "fullscreen",
       "inertia",
       "inertia_deceleration",
       "inertia_max_speed",
       "interpolation",
       "keyboard",
       "keyboard_pan_offset",
       "keyboard_zoom_offset",
       "max_zoom",
       "min_zoom",
       "prefer_canvas",
       "scroll_wheel_zoom",
       "tap",
       "tap_tolerance",
       "touch_zoom",
       "world_copy_jump",
       "zoom",
       "zoom_animation_threshold",
       "zoom_delta",
       "zoom_snap"
      ],
      "panes": {},
      "prefer_canvas": false,
      "right": 16996,
      "scroll_wheel_zoom": true,
      "south": 47.76886840424207,
      "style": "IPY_MODEL_790b95f0a48e49a2baf45f7f3ea81364",
      "tap": true,
      "tap_tolerance": 15,
      "top": 10822,
      "touch_zoom": true,
      "west": -7.580566406250001,
      "window_url": "https://xc57hanwv6d-496ff2e9c6d22116-0-colab.googleusercontent.com/outputframe.html?vrz=colab_20240108-060129_RC00_596559337",
      "world_copy_jump": false,
      "zoom": 7,
      "zoom_animation_threshold": 4,
      "zoom_delta": 1,
      "zoom_snap": 1
     }
    },
    "bb975a28679247c0a1fbdeb868511258": {
     "model_module": "jupyter-leaflet",
     "model_module_version": "^0.18",
     "model_name": "LeafletMeasureControlModel",
     "state": {
      "_custom_units": {},
      "_model_module": "jupyter-leaflet",
      "_model_module_version": "^0.18",
      "_model_name": "LeafletMeasureControlModel",
      "_view_count": null,
      "_view_module": "jupyter-leaflet",
      "_view_module_version": "^0.18",
      "_view_name": "LeafletMeasureControlView",
      "active_color": "orange",
      "capture_z_index": 10000,
      "completed_color": "#C8F2BE",
      "options": [
       "active_color",
       "capture_z_index",
       "completed_color",
       "popup_options",
       "position",
       "primary_area_unit",
       "primary_length_unit",
       "secondary_area_unit",
       "secondary_length_unit"
      ],
      "popup_options": {
       "autoPanPadding": [
        10,
        10
       ],
       "className": "leaflet-measure-resultpopup"
      },
      "position": "bottomleft",
      "primary_area_unit": "acres",
      "primary_length_unit": "kilometers",
      "secondary_area_unit": null,
      "secondary_length_unit": null
     }
    },
    "bc30eb8220164c498a65e5b630b9c9ca": {
     "model_module": "jupyter-leaflet",
     "model_module_version": "^0.18",
     "model_name": "LeafletWidgetControlModel",
     "state": {
      "_model_module": "jupyter-leaflet",
      "_model_module_version": "^0.18",
      "_model_name": "LeafletWidgetControlModel",
      "_view_count": null,
      "_view_module": "jupyter-leaflet",
      "_view_module_version": "^0.18",
      "_view_name": "LeafletWidgetControlView",
      "max_height": null,
      "max_width": null,
      "min_height": null,
      "min_width": null,
      "options": [
       "position",
       "transparent_bg"
      ],
      "position": "topleft",
      "transparent_bg": false,
      "widget": "IPY_MODEL_92201037bf44459d902b0145b2bada3a"
     }
    },
    "be9a3a3316a04555958621a73e9eb147": {
     "model_module": "jupyter-leaflet",
     "model_module_version": "^0.18",
     "model_name": "LeafletScaleControlModel",
     "state": {
      "_model_module": "jupyter-leaflet",
      "_model_module_version": "^0.18",
      "_model_name": "LeafletScaleControlModel",
      "_view_count": null,
      "_view_module": "jupyter-leaflet",
      "_view_module_version": "^0.18",
      "_view_name": "LeafletScaleControlView",
      "imperial": true,
      "max_width": 100,
      "metric": true,
      "options": [
       "imperial",
       "max_width",
       "metric",
       "position",
       "update_when_idle"
      ],
      "position": "bottomleft",
      "update_when_idle": false
     }
    },
    "c36e50c9ddfd4361ac173256553f853f": {
     "model_module": "@jupyter-widgets/base",
     "model_module_version": "1.2.0",
     "model_name": "LayoutModel",
     "state": {
      "_model_module": "@jupyter-widgets/base",
      "_model_module_version": "1.2.0",
      "_model_name": "LayoutModel",
      "_view_count": null,
      "_view_module": "@jupyter-widgets/base",
      "_view_module_version": "1.2.0",
      "_view_name": "LayoutView",
      "align_content": null,
      "align_items": null,
      "align_self": null,
      "border": null,
      "bottom": null,
      "display": null,
      "flex": null,
      "flex_flow": null,
      "grid_area": null,
      "grid_auto_columns": null,
      "grid_auto_flow": null,
      "grid_auto_rows": null,
      "grid_column": null,
      "grid_gap": null,
      "grid_row": null,
      "grid_template_areas": null,
      "grid_template_columns": null,
      "grid_template_rows": null,
      "height": null,
      "justify_content": null,
      "justify_items": null,
      "left": null,
      "margin": null,
      "max_height": null,
      "max_width": null,
      "min_height": null,
      "min_width": null,
      "object_fit": null,
      "object_position": null,
      "order": null,
      "overflow": null,
      "overflow_x": null,
      "overflow_y": null,
      "padding": null,
      "right": null,
      "top": null,
      "visibility": null,
      "width": null
     }
    },
    "dc60e0921f924f1cbab03e3b5b2b41dd": {
     "model_module": "jupyter-leaflet",
     "model_module_version": "^0.18",
     "model_name": "LeafletMapStyleModel",
     "state": {
      "_model_module": "jupyter-leaflet",
      "_model_module_version": "^0.18",
      "_model_name": "LeafletMapStyleModel",
      "_view_count": null,
      "_view_module": "@jupyter-widgets/base",
      "_view_module_version": "1.2.0",
      "_view_name": "StyleView",
      "cursor": "grab"
     }
    },
    "eb675e7fcd4c4d5aacbc3b344d53ff21": {
     "model_module": "@jupyter-widgets/controls",
     "model_module_version": "1.5.0",
     "model_name": "ToggleButtonModel",
     "state": {
      "_dom_classes": [],
      "_model_module": "@jupyter-widgets/controls",
      "_model_module_version": "1.5.0",
      "_model_name": "ToggleButtonModel",
      "_view_count": null,
      "_view_module": "@jupyter-widgets/controls",
      "_view_module_version": "1.5.0",
      "_view_name": "ToggleButtonView",
      "button_style": "",
      "description": "",
      "description_tooltip": null,
      "disabled": false,
      "icon": "globe",
      "layout": "IPY_MODEL_ed3ac2030c90462bbcb507a117faf919",
      "style": "IPY_MODEL_390daffff4724923ab2b77e7335ca66e",
      "tooltip": "Search location/data",
      "value": false
     }
    },
    "ed3ac2030c90462bbcb507a117faf919": {
     "model_module": "@jupyter-widgets/base",
     "model_module_version": "1.2.0",
     "model_name": "LayoutModel",
     "state": {
      "_model_module": "@jupyter-widgets/base",
      "_model_module_version": "1.2.0",
      "_model_name": "LayoutModel",
      "_view_count": null,
      "_view_module": "@jupyter-widgets/base",
      "_view_module_version": "1.2.0",
      "_view_name": "LayoutView",
      "align_content": null,
      "align_items": null,
      "align_self": null,
      "border": null,
      "bottom": null,
      "display": null,
      "flex": null,
      "flex_flow": null,
      "grid_area": null,
      "grid_auto_columns": null,
      "grid_auto_flow": null,
      "grid_auto_rows": null,
      "grid_column": null,
      "grid_gap": null,
      "grid_row": null,
      "grid_template_areas": null,
      "grid_template_columns": null,
      "grid_template_rows": null,
      "height": "28px",
      "justify_content": null,
      "justify_items": null,
      "left": null,
      "margin": null,
      "max_height": null,
      "max_width": null,
      "min_height": null,
      "min_width": null,
      "object_fit": null,
      "object_position": null,
      "order": null,
      "overflow": null,
      "overflow_x": null,
      "overflow_y": null,
      "padding": "0px 0px 0px 4px",
      "right": null,
      "top": null,
      "visibility": null,
      "width": "28px"
     }
    },
    "f8bf9dc370814b919b6e2e7f8cd1b148": {
     "model_module": "jupyter-leaflet",
     "model_module_version": "^0.18",
     "model_name": "LeafletZoomControlModel",
     "state": {
      "_model_module": "jupyter-leaflet",
      "_model_module_version": "^0.18",
      "_model_name": "LeafletZoomControlModel",
      "_view_count": null,
      "_view_module": "jupyter-leaflet",
      "_view_module_version": "^0.18",
      "_view_name": "LeafletZoomControlView",
      "options": [
       "position",
       "zoom_in_text",
       "zoom_in_title",
       "zoom_out_text",
       "zoom_out_title"
      ],
      "position": "topleft",
      "zoom_in_text": "+",
      "zoom_in_title": "Zoom in",
      "zoom_out_text": "-",
      "zoom_out_title": "Zoom out"
     }
    }
   }
  }
 },
 "nbformat": 4,
 "nbformat_minor": 5
}
