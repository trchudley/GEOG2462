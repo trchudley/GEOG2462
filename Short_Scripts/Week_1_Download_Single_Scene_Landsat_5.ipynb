{
  "cells": [
    {
      "cell_type": "markdown",
      "metadata": {
        "id": "view-in-github",
        "colab_type": "text"
      },
      "source": [
        "<a href=\"https://colab.research.google.com/github/trchudley/GEOG2462/blob/main/Short_Scripts/Week_1_Download_Single_Scene_Landsat_5.ipynb\" target=\"_parent\"><img src=\"https://colab.research.google.com/assets/colab-badge.svg\" alt=\"Open In Colab\"/></a>"
      ]
    },
    {
      "cell_type": "markdown",
      "id": "b70d07d1-0452-4ade-a297-a63acd473816",
      "metadata": {
        "id": "b70d07d1-0452-4ade-a297-a63acd473816"
      },
      "source": [
        "# Downloading a single scene from Google Earth Engine\n",
        "\n",
        "\n",
        "This script provides an additional opportunity to use Landsat 5, **at your own risk** (it should be perfectly possible to succeed in this assessment using the 10 years of Landsat 8 you have access to!). Landsat 5 was launched in 1984, and the TM sensor failed in 2012. As Landsat 6 did not make orbit, and Landsat 7 developed a scan line corrector issue which made data difficult to use, Landsat 5 was kept going for so long that it holds the title of the longest-operating Earth-observing satellite mission in history.\n",
        "\n",
        "The Thematic Mapper (TM) sensing instrument on board Landsat 5 is not the same Operational Land Imager (OLI) on board Landsat 8. As a result **bands have different radiometric resolutions and number designations**. Note that below, we have visualised the RGB 'true colour' image using bands 3/2/1 for red/green/blue rather than 4/3/2 as we would for Landsat 8. I have also exported the GeoTiff as bands 3/2/1/4/5 rather than 4/3/2/5/6 to keep things consistently ordered as red/green/blue/NIR/SWIR.\n",
        "\n",
        "> ⚠️\n",
        "> **To convert your own NDI equations to the appropriate bands, you will have to consult the following tables for the TM and OLI equivalent bands**:\n",
        "> https://www.usgs.gov/faqs/what-are-band-designations-landsat-satellites\n",
        "\n",
        "\n"
      ]
    },
    {
      "cell_type": "markdown",
      "id": "737a5b7c-b689-4853-8df7-6b5d0243d74b",
      "metadata": {
        "id": "737a5b7c-b689-4853-8df7-6b5d0243d74b"
      },
      "source": [
        "## Logging in to Google Earth Engine\n",
        "\n",
        "Ensure the project name is your own, created upon registration with GEE. You can easily register one at the [following link](https://code.earthengine.google.com/register) - just make sure to select `Unpaid Usage` > `Academia & Research`)."
      ]
    },
    {
      "cell_type": "code",
      "execution_count": null,
      "id": "bfab66a9-0448-43e0-8acc-cb55d9e5552d",
      "metadata": {
        "id": "bfab66a9-0448-43e0-8acc-cb55d9e5552d"
      },
      "outputs": [],
      "source": [
        "import ee\n",
        "import geemap\n",
        "import time\n",
        "\n",
        "ee.Authenticate()  # Trigger the authentication flow.\n",
        "ee.Initialize(project='ee-trchudley')    # Change to your own default project name."
      ]
    },
    {
      "cell_type": "markdown",
      "id": "67ba2bf0-0197-4eec-b3d0-dabdde9e1f5e",
      "metadata": {
        "id": "67ba2bf0-0197-4eec-b3d0-dabdde9e1f5e"
      },
      "source": [
        "## Define editable variables\n",
        "\n",
        "This is the only cell you will need to edit in this notebook."
      ]
    },
    {
      "cell_type": "code",
      "execution_count": null,
      "id": "b5667e74-b0b6-48ac-9e2e-5cc8f44db32e",
      "metadata": {
        "id": "b5667e74-b0b6-48ac-9e2e-5cc8f44db32e"
      },
      "outputs": [],
      "source": [
        "\n",
        "# Define search parameters\n",
        "latitude = 54.77   # Degrees of latitude\n",
        "longitude = -1.58  # Degrees of longitude\n",
        "size = 10000  # Size of AOI, in metres\n",
        "region_name = 'durham'  # AOI name, for filename construction\n",
        "\n",
        "# Define search range, within which the least cloudy image will be found\n",
        "date_start = '1994-05-01'\n",
        "date_end = '1994-09-30'\n",
        "\n",
        "# Google Drive export folder\n",
        "folder = 'scires_project_2C'\n"
      ]
    },
    {
      "cell_type": "markdown",
      "id": "ff4fb134-076a-4686-a3b3-0c4dd1d8e7ef",
      "metadata": {
        "id": "ff4fb134-076a-4686-a3b3-0c4dd1d8e7ef"
      },
      "source": [
        "# Search for data"
      ]
    },
    {
      "cell_type": "code",
      "execution_count": null,
      "id": "2670f795-7f2a-49e9-8264-7545b1733608",
      "metadata": {
        "id": "2670f795-7f2a-49e9-8264-7545b1733608"
      },
      "outputs": [],
      "source": [
        "# Get search region geometry\n",
        "point = ee.Geometry.Point(longitude, latitude)  # Create a point\n",
        "region = point.buffer(size/2).bounds()  # Buffer the point to a 2D shape\n",
        "\n",
        "# Get Landsat 5 image collection\n",
        "landsat5_collection = ee.ImageCollection(\"LANDSAT/LT05/C02/T1_TOA\")\n",
        "\n",
        "# Filter to desired region and date bounds\n",
        "landsat5_collection = landsat5_collection.filterBounds(region)\n",
        "landsat5_collection = landsat5_collection.filterDate(date_start, date_end)\n",
        "\n",
        "# landsat8_collection\n",
        "\n",
        "# Get least cloudy image and clip to search region\n",
        "image = landsat5_collection.sort('CLOUD_COVER').first()\n",
        "image = image.clip(region)\n",
        "\n",
        "image"
      ]
    },
    {
      "cell_type": "markdown",
      "id": "32febce9-6c8f-4e15-99db-c30422e2f45e",
      "metadata": {
        "id": "32febce9-6c8f-4e15-99db-c30422e2f45e"
      },
      "source": [
        "Sanity check image:"
      ]
    },
    {
      "cell_type": "code",
      "execution_count": null,
      "id": "5edfdee9-4334-495c-bb96-8a033cf98b95",
      "metadata": {
        "id": "5edfdee9-4334-495c-bb96-8a033cf98b95"
      },
      "outputs": [],
      "source": [
        "Map = geemap.Map()  # Create empty map\n",
        "\n",
        "max_reflectance = 0.25 # Set the upper limit of reflectance to visualise.\n",
        "                       # Play with this value (between 0-1) to see what it\n",
        "                       # does. It will need to be higher for snowy/icy\n",
        "                       # scenes\n",
        "\n",
        "visParams = {'bands': ['B3', 'B2', 'B1'], 'max': max_reflectance}\n",
        "Map.addLayer(image, visParams, 'Colour Composite Image')\n",
        "\n",
        "Map.centerObject(region, zoom=12)\n",
        "Map"
      ]
    },
    {
      "cell_type": "markdown",
      "id": "d9324a9a-5330-41eb-b285-9114e9f9fa43",
      "metadata": {
        "id": "d9324a9a-5330-41eb-b285-9114e9f9fa43"
      },
      "source": [
        "# Download the image"
      ]
    },
    {
      "cell_type": "code",
      "execution_count": null,
      "id": "ba2b0380-339d-47e3-8a6e-36c60d6be582",
      "metadata": {
        "id": "ba2b0380-339d-47e3-8a6e-36c60d6be582"
      },
      "outputs": [],
      "source": [
        "# Get the data of the image from the metadata\n",
        "date_string = image.get('DATE_ACQUIRED').getInfo()\n",
        "\n",
        "# Now we will construct the filename automatically\n",
        "filename = region_name + '_' + date_string + '_image'\n",
        "\n",
        "# Visualise for testing\n",
        "print(\"The image will be saved to your Google Drive at:\\n\" + folder + '/' + filename + '.tif')\n",
        "\n",
        "# Export the image, specifying scale and region.\n",
        "task = ee.batch.Export.image.toDrive(**{\n",
        "    'image': image.select(['B3', 'B2', 'B1', 'B4', 'B5']),\n",
        "    'description': filename,\n",
        "    'folder': folder,\n",
        "    'scale': 30,\n",
        "    'region': region.getInfo()['coordinates']\n",
        "})\n",
        "task.start()\n",
        "\n",
        "while task.active():\n",
        "  print('Task processing ongoing... (id: {}).'.format(task.id))\n",
        "  time.sleep(5)\n",
        "\n",
        "print('Finished processing. Image is exported to your Drive.')"
      ]
    }
  ],
  "metadata": {
    "kernelspec": {
      "display_name": "Python (geospatial)",
      "language": "python",
      "name": "geospatial"
    },
    "language_info": {
      "codemirror_mode": {
        "name": "ipython",
        "version": 3
      },
      "file_extension": ".py",
      "mimetype": "text/x-python",
      "name": "python",
      "nbconvert_exporter": "python",
      "pygments_lexer": "ipython3",
      "version": "3.10.9"
    },
    "colab": {
      "provenance": [],
      "include_colab_link": true
    }
  },
  "nbformat": 4,
  "nbformat_minor": 5
}