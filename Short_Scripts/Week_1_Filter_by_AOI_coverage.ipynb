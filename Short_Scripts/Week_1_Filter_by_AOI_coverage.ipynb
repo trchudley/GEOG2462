{
  "cells": [
    {
      "cell_type": "markdown",
      "metadata": {
        "id": "view-in-github",
        "colab_type": "text"
      },
      "source": [
        "<a href=\"https://colab.research.google.com/github/trchudley/GEOG2462/blob/main/Short_Scripts/Week_1_Filter_by_AOI_coverage.ipynb\" target=\"_parent\"><img src=\"https://colab.research.google.com/assets/colab-badge.svg\" alt=\"Open In Colab\"/></a>"
      ]
    },
    {
      "cell_type": "markdown",
      "id": "b70d07d1-0452-4ade-a297-a63acd473816",
      "metadata": {
        "id": "b70d07d1-0452-4ade-a297-a63acd473816"
      },
      "source": [
        "# Filtering by the proportional coverage of your AOI"
      ]
    },
    {
      "cell_type": "markdown",
      "source": [
        "The default scripts included within the GitHub leave a little something to be desired in some spatial queries. By default, the code searches as follows:\n",
        "\n",
        "1. Search for all Landsat scenes _intersecting_ the AOI.\n",
        "2. Filter to only those scenes between the start and end dates.\n",
        "3. Pick the least cloudy image.\n",
        "\n",
        "The problem comes with the word 'intersecting'. This will select all images that even slightly cover the AOI, even if they only brush it. Therefore, for some search regions which cover a zone between two different scenes, it might be desireable to include an additional filter that removes images that don't adequately cover your AOI.\n",
        "\n",
        "This script shows how this can be done - you can paste the code into your own scripts to apply it."
      ],
      "metadata": {
        "id": "L8TziLVAknuR"
      },
      "id": "L8TziLVAknuR"
    },
    {
      "cell_type": "markdown",
      "id": "737a5b7c-b689-4853-8df7-6b5d0243d74b",
      "metadata": {
        "id": "737a5b7c-b689-4853-8df7-6b5d0243d74b"
      },
      "source": [
        "## Logging in to Google Earth Engine\n",
        "\n",
        "Ensure the project name is your own, created upon registration with GEE. You can easily register one at the [following link](https://code.earthengine.google.com/register) - just make sure to select `Unpaid Usage` > `Academia & Research`)."
      ]
    },
    {
      "cell_type": "code",
      "execution_count": 2,
      "id": "bfab66a9-0448-43e0-8acc-cb55d9e5552d",
      "metadata": {
        "id": "bfab66a9-0448-43e0-8acc-cb55d9e5552d"
      },
      "outputs": [],
      "source": [
        "import ee\n",
        "import geemap\n",
        "import time\n",
        "\n",
        "ee.Authenticate()  # Trigger the authentication flow.\n",
        "ee.Initialize(project='ee-trchudley')    # Change to your own default project name."
      ]
    },
    {
      "cell_type": "markdown",
      "id": "67ba2bf0-0197-4eec-b3d0-dabdde9e1f5e",
      "metadata": {
        "id": "67ba2bf0-0197-4eec-b3d0-dabdde9e1f5e"
      },
      "source": [
        "## Define editable variables\n",
        "\n",
        "This is the only cell you will need to edit in this notebook."
      ]
    },
    {
      "cell_type": "code",
      "execution_count": 73,
      "id": "b5667e74-b0b6-48ac-9e2e-5cc8f44db32e",
      "metadata": {
        "id": "b5667e74-b0b6-48ac-9e2e-5cc8f44db32e",
        "outputId": "656fd897-ad65-49ea-88b7-e6a363cd5dab",
        "colab": {
          "base_uri": "https://localhost:8080/",
          "height": 17
        }
      },
      "outputs": [
        {
          "output_type": "display_data",
          "data": {
            "text/plain": [
              "<IPython.core.display.HTML object>"
            ],
            "text/html": [
              "\n",
              "            <style>\n",
              "                .geemap-dark {\n",
              "                    --jp-widgets-color: white;\n",
              "                    --jp-widgets-label-color: white;\n",
              "                    --jp-ui-font-color1: white;\n",
              "                    --jp-layout-color2: #454545;\n",
              "                    background-color: #383838;\n",
              "                }\n",
              "\n",
              "                .geemap-dark .jupyter-button {\n",
              "                    --jp-layout-color3: #383838;\n",
              "                }\n",
              "\n",
              "                .geemap-colab {\n",
              "                    background-color: var(--colab-primary-surface-color, white);\n",
              "                }\n",
              "\n",
              "                .geemap-colab .jupyter-button {\n",
              "                    --jp-layout-color3: var(--colab-primary-surface-color, white);\n",
              "                }\n",
              "            </style>\n",
              "            "
            ]
          },
          "metadata": {}
        }
      ],
      "source": [
        "\n",
        "# Define search parameters\n",
        "latitude = 70.405   # Degrees of latitude\n",
        "longitude = -50.519  # Degrees of longitude\n",
        "size = 10000  # Size of AOI, in metres\n",
        "region_name = 'store_glacier_greenland'  # AOI name, for filename construction\n",
        "\n",
        "# Define search range, within which the least cloudy image will be found\n",
        "date_start = '2023-05-01'\n",
        "date_end = '2023-09-30'\n",
        "\n",
        "# Google Drive export folder\n",
        "folder = 'scires_project_2A'\n"
      ]
    },
    {
      "cell_type": "markdown",
      "id": "ff4fb134-076a-4686-a3b3-0c4dd1d8e7ef",
      "metadata": {
        "id": "ff4fb134-076a-4686-a3b3-0c4dd1d8e7ef"
      },
      "source": [
        "# Searching for data without the filter (an example of what's going wrong)"
      ]
    },
    {
      "cell_type": "markdown",
      "source": [
        "Let's visualise what's going wrong with this example:"
      ],
      "metadata": {
        "id": "vk5jqC0_lhFB"
      },
      "id": "vk5jqC0_lhFB"
    },
    {
      "cell_type": "code",
      "execution_count": 74,
      "id": "2670f795-7f2a-49e9-8264-7545b1733608",
      "metadata": {
        "id": "2670f795-7f2a-49e9-8264-7545b1733608",
        "outputId": "6047777c-217c-4708-b4fe-1ce9279985b0",
        "colab": {
          "base_uri": "https://localhost:8080/",
          "height": 35
        }
      },
      "outputs": [
        {
          "output_type": "display_data",
          "data": {
            "text/plain": [
              "<IPython.core.display.HTML object>"
            ],
            "text/html": [
              "\n",
              "            <style>\n",
              "                .geemap-dark {\n",
              "                    --jp-widgets-color: white;\n",
              "                    --jp-widgets-label-color: white;\n",
              "                    --jp-ui-font-color1: white;\n",
              "                    --jp-layout-color2: #454545;\n",
              "                    background-color: #383838;\n",
              "                }\n",
              "\n",
              "                .geemap-dark .jupyter-button {\n",
              "                    --jp-layout-color3: #383838;\n",
              "                }\n",
              "\n",
              "                .geemap-colab {\n",
              "                    background-color: var(--colab-primary-surface-color, white);\n",
              "                }\n",
              "\n",
              "                .geemap-colab .jupyter-button {\n",
              "                    --jp-layout-color3: var(--colab-primary-surface-color, white);\n",
              "                }\n",
              "            </style>\n",
              "            "
            ]
          },
          "metadata": {}
        },
        {
          "output_type": "stream",
          "name": "stdout",
          "text": [
            "Number of images after filtering: 49\n"
          ]
        }
      ],
      "source": [
        "# Get search region geometry\n",
        "point = ee.Geometry.Point(longitude, latitude)  # Create a point\n",
        "region = point.buffer(size/2).bounds()  # Buffer the point to a 2D shape\n",
        "\n",
        "# Get Landsat 8 image collection\n",
        "landsat8_collection = ee.ImageCollection(\"LANDSAT/LC08/C02/T1_TOA\")\n",
        "\n",
        "# Filter to desired region and date bounds\n",
        "landsat8_collection = landsat8_collection.filterBounds(region)\n",
        "landsat8_collection = landsat8_collection.filterDate(date_start, date_end)\n",
        "\n",
        "print('Number of images after filtering:', landsat8_collection.size().getInfo())\n",
        "\n",
        "# Get least cloudy image and clip to search region\n",
        "image = landsat8_collection.sort('CLOUD_COVER').first()\n",
        "image = image.clip(region)\n"
      ]
    },
    {
      "cell_type": "code",
      "source": [
        "image"
      ],
      "metadata": {
        "id": "HewdsxA2vAbj"
      },
      "id": "HewdsxA2vAbj",
      "execution_count": null,
      "outputs": []
    },
    {
      "cell_type": "markdown",
      "id": "32febce9-6c8f-4e15-99db-c30422e2f45e",
      "metadata": {
        "id": "32febce9-6c8f-4e15-99db-c30422e2f45e"
      },
      "source": [
        "When we visualise the image, we can see that the 'ideal' (least cloudy) image doesn't properly cover our AOI!"
      ]
    },
    {
      "cell_type": "code",
      "execution_count": null,
      "id": "5edfdee9-4334-495c-bb96-8a033cf98b95",
      "metadata": {
        "id": "5edfdee9-4334-495c-bb96-8a033cf98b95"
      },
      "outputs": [],
      "source": [
        "Map = geemap.Map()  # Create empty map\n",
        "\n",
        "max_reflectance = 1.00 # Set the upper limit of reflectance to visualise.\n",
        "                       # Play with this value (between 0-1) to see what it\n",
        "                       # does. It will need to be higher for snowy/icy\n",
        "                       # scenes\n",
        "\n",
        "visParams = {'bands': ['B4', 'B3', 'B2'], 'max': max_reflectance}\n",
        "Map.addLayer(region, {}, \"Search Region\")  # Add our AOI\n",
        "Map.addLayer(image, visParams, 'Colour Composite Image')\n",
        "\n",
        "Map.centerObject(region, zoom=11)\n",
        "Map"
      ]
    },
    {
      "cell_type": "markdown",
      "source": [
        "## Employing a simple presence/absence filter to fix this."
      ],
      "metadata": {
        "id": "AqcdBPr4kPL1"
      },
      "id": "AqcdBPr4kPL1"
    },
    {
      "cell_type": "markdown",
      "source": [
        "A relatively simple function can fix this for us. It looks slightly complicated, but you don't need to understand it, just paste it in to the relevant parts of your code. Basically, it counts the proportion of pixels within the final image that are not \"`NaN`\" (programming shorthand for 'Not a Number', indicating an invalid value in a collection of what are otherwise expected to be numbers). It then multiplies this by 30<sup>2</sup> - because our images are 30 m resolution, so the pixel count $\\times$ 30 $\\times$ 30 will give us the area of the valid pixels. Finally, it calculates the proportion of valid pixels from this value and the area of the geometry, which is retrievable via a simple function."
      ],
      "metadata": {
        "id": "q7o1oDsbmMgN"
      },
      "id": "q7o1oDsbmMgN"
    },
    {
      "cell_type": "code",
      "source": [
        "# Function to calculate the proportion of valid pixels in an image\n",
        "def calculate_coverage(image, region=region, band='B4', resolution=30):\n",
        "\n",
        "    # Get the image's count of valid pixels within the geometry\n",
        "    valid_pixel_count = image.updateMask(image.mask()).reduceRegion(\n",
        "        reducer=ee.Reducer.count(),\n",
        "        geometry=region,\n",
        "        scale=resolution,  # Use the resolution suitable for your dataset\n",
        "        maxPixels=1e13\n",
        "    ).values().get(0)  # Dynamically access the first band's valid pixel count\n",
        "\n",
        "    # Calculate the valid area and total area, then work out the propertion.\n",
        "    valid_area = ee.Number(valid_pixel_count).multiply(ee.Number(resolution).pow(2))\n",
        "    total_area = region.area(1)\n",
        "    proportion = valid_area.divide(total_area)\n",
        "\n",
        "    # Add the proportion as metadata to the image\n",
        "    return image.set('valid_proportion', proportion)"
      ],
      "metadata": {
        "id": "jMQSzFMVoGXj",
        "outputId": "878433b0-d50d-4157-9310-fcdc3a011248",
        "colab": {
          "base_uri": "https://localhost:8080/",
          "height": 17
        }
      },
      "id": "jMQSzFMVoGXj",
      "execution_count": 77,
      "outputs": [
        {
          "output_type": "display_data",
          "data": {
            "text/plain": [
              "<IPython.core.display.HTML object>"
            ],
            "text/html": [
              "\n",
              "            <style>\n",
              "                .geemap-dark {\n",
              "                    --jp-widgets-color: white;\n",
              "                    --jp-widgets-label-color: white;\n",
              "                    --jp-ui-font-color1: white;\n",
              "                    --jp-layout-color2: #454545;\n",
              "                    background-color: #383838;\n",
              "                }\n",
              "\n",
              "                .geemap-dark .jupyter-button {\n",
              "                    --jp-layout-color3: #383838;\n",
              "                }\n",
              "\n",
              "                .geemap-colab {\n",
              "                    background-color: var(--colab-primary-surface-color, white);\n",
              "                }\n",
              "\n",
              "                .geemap-colab .jupyter-button {\n",
              "                    --jp-layout-color3: var(--colab-primary-surface-color, white);\n",
              "                }\n",
              "            </style>\n",
              "            "
            ]
          },
          "metadata": {}
        }
      ]
    },
    {
      "cell_type": "markdown",
      "source": [
        "This function creates a new property of the image called `valid_proportion`. Hence, we can apply this function to the imageCollection, and filter based this value. Look at the new code we introduce in the image filtering code here, where we filter to a `min_coverage` fraction of `0.6` (60%):"
      ],
      "metadata": {
        "id": "Aww3CP5Cvwl6"
      },
      "id": "Aww3CP5Cvwl6"
    },
    {
      "cell_type": "code",
      "source": [
        "# Get search region geometry\n",
        "point = ee.Geometry.Point(longitude, latitude)  # Create a point\n",
        "region = point.buffer(size/2).bounds()  # Buffer the point to a 2D shape\n",
        "\n",
        "# Get Landsat 8 image collection\n",
        "landsat8_collection = ee.ImageCollection(\"LANDSAT/LC08/C02/T1_TOA\")\n",
        "\n",
        "# Filter to desired region and date bounds\n",
        "landsat8_collection = landsat8_collection.filterBounds(region)\n",
        "landsat8_collection = landsat8_collection.filterDate(date_start, date_end)\n",
        "\n",
        "# --------------------------------------------------------------------------- #\n",
        "# NEW CODE: FILTER TO ONLY IMAGES COVERING AOI BY A CERTAIN THRESHOLD\n",
        "\n",
        "# Set your minimum coverage threshold\n",
        "min_coverage = 0.6\n",
        "\n",
        "# Apply the function to the image collection\n",
        "landsat8_collection = landsat8_collection.map(calculate_coverage)\n",
        "\n",
        "# Filter the image collection based on a minimum proportion of valid pixels.\n",
        "# NB the `gte()` function: gte = greater than or equal to\n",
        "landsat8_collection = landsat8_collection.filter(\n",
        "    ee.Filter.gte('valid_proportion', min_coverage)\n",
        ")\n",
        "\n",
        "# END OF NEW CODE\n",
        "# --------------------------------------------------------------------------- #\n",
        "\n",
        "print('Number of images after filtering:', landsat8_collection.size().getInfo())\n",
        "\n",
        "# Get least cloudy image and clip to search region\n",
        "image = landsat8_collection.sort('CLOUD_COVER').first()\n",
        "image = image.clip(region)"
      ],
      "metadata": {
        "id": "9L1J4jQIkO4k",
        "colab": {
          "base_uri": "https://localhost:8080/",
          "height": 35
        },
        "outputId": "a7c47152-f8e8-4762-fe25-6ebdc5385a45"
      },
      "id": "9L1J4jQIkO4k",
      "execution_count": 78,
      "outputs": [
        {
          "output_type": "display_data",
          "data": {
            "text/plain": [
              "<IPython.core.display.HTML object>"
            ],
            "text/html": [
              "\n",
              "            <style>\n",
              "                .geemap-dark {\n",
              "                    --jp-widgets-color: white;\n",
              "                    --jp-widgets-label-color: white;\n",
              "                    --jp-ui-font-color1: white;\n",
              "                    --jp-layout-color2: #454545;\n",
              "                    background-color: #383838;\n",
              "                }\n",
              "\n",
              "                .geemap-dark .jupyter-button {\n",
              "                    --jp-layout-color3: #383838;\n",
              "                }\n",
              "\n",
              "                .geemap-colab {\n",
              "                    background-color: var(--colab-primary-surface-color, white);\n",
              "                }\n",
              "\n",
              "                .geemap-colab .jupyter-button {\n",
              "                    --jp-layout-color3: var(--colab-primary-surface-color, white);\n",
              "                }\n",
              "            </style>\n",
              "            "
            ]
          },
          "metadata": {}
        },
        {
          "output_type": "stream",
          "name": "stdout",
          "text": [
            "Number of images after filtering: 44\n"
          ]
        }
      ]
    },
    {
      "cell_type": "markdown",
      "source": [
        "Look, we have fewer images this time around! Does this give us a different image?"
      ],
      "metadata": {
        "id": "GWXNMy8ewexd"
      },
      "id": "GWXNMy8ewexd"
    },
    {
      "cell_type": "code",
      "source": [
        "image"
      ],
      "metadata": {
        "id": "2C15AvsvwXgw"
      },
      "id": "2C15AvsvwXgw",
      "execution_count": null,
      "outputs": []
    },
    {
      "cell_type": "markdown",
      "source": [
        "Yes, it does. We can see what `valid_proportion` we have as well:"
      ],
      "metadata": {
        "id": "NgnIwCHhwiwb"
      },
      "id": "NgnIwCHhwiwb"
    },
    {
      "cell_type": "code",
      "source": [
        "image.get('valid_proportion').getInfo()"
      ],
      "metadata": {
        "id": "WjcgxjdTq2yx",
        "outputId": "9c514bf8-e17a-47f4-e488-3a0c0bcdd5db",
        "colab": {
          "base_uri": "https://localhost:8080/",
          "height": 35
        }
      },
      "id": "WjcgxjdTq2yx",
      "execution_count": 79,
      "outputs": [
        {
          "output_type": "display_data",
          "data": {
            "text/plain": [
              "<IPython.core.display.HTML object>"
            ],
            "text/html": [
              "\n",
              "            <style>\n",
              "                .geemap-dark {\n",
              "                    --jp-widgets-color: white;\n",
              "                    --jp-widgets-label-color: white;\n",
              "                    --jp-ui-font-color1: white;\n",
              "                    --jp-layout-color2: #454545;\n",
              "                    background-color: #383838;\n",
              "                }\n",
              "\n",
              "                .geemap-dark .jupyter-button {\n",
              "                    --jp-layout-color3: #383838;\n",
              "                }\n",
              "\n",
              "                .geemap-colab {\n",
              "                    background-color: var(--colab-primary-surface-color, white);\n",
              "                }\n",
              "\n",
              "                .geemap-colab .jupyter-button {\n",
              "                    --jp-layout-color3: var(--colab-primary-surface-color, white);\n",
              "                }\n",
              "            </style>\n",
              "            "
            ]
          },
          "metadata": {}
        },
        {
          "output_type": "execute_result",
          "data": {
            "text/plain": [
              "1.006490253882831"
            ]
          },
          "metadata": {},
          "execution_count": 79
        }
      ]
    },
    {
      "cell_type": "markdown",
      "source": [
        "Strangely, our `valid_proportion` is slightly greater than 1. This isn't too surprising: it is likely some combination of a [floating point error](https://docs.python.org/3/tutorial/floatingpoint.html) or the fact that our `clip` function is inclusive (meaning it includes pixels that intersect the geometry even if it isn't fully inside the bounds). Either way, it looks like we have a complete image... Let's test:"
      ],
      "metadata": {
        "id": "zBpVc4pKwo-9"
      },
      "id": "zBpVc4pKwo-9"
    },
    {
      "cell_type": "code",
      "source": [
        "Map = geemap.Map()  # Create empty map\n",
        "\n",
        "max_reflectance = 1.00 # Set the upper limit of reflectance to visualise.\n",
        "                       # Play with this value (between 0-1) to see what it\n",
        "                       # does. It will need to be higher for snowy/icy\n",
        "                       # scenes\n",
        "\n",
        "visParams = {'bands': ['B4', 'B3', 'B2'], 'max': max_reflectance}\n",
        "Map.addLayer(region, {}, \"Search Region\")  # Add our AOI\n",
        "Map.addLayer(image, visParams, 'Colour Composite Image')\n",
        "\n",
        "Map.centerObject(region, zoom=11)\n",
        "Map"
      ],
      "metadata": {
        "id": "7GMINX__mit1"
      },
      "id": "7GMINX__mit1",
      "execution_count": null,
      "outputs": []
    },
    {
      "cell_type": "markdown",
      "source": [
        "Brilliant! We have a complete image. You can use this code within other scripts by copy and pasting the `calcualte_coverage` function and the new code block within the imageCollection filtering script.\n",
        "\n",
        "As an aside, it's notable that our new image is clearly taken at sunset, which might not be ideal for NDI operations. For now, I will leave additional time filtering operations as an exercise for you (perhaps in collaboration with ChatGPT or similar...)."
      ],
      "metadata": {
        "id": "6JSfroUjxFUO"
      },
      "id": "6JSfroUjxFUO"
    },
    {
      "cell_type": "markdown",
      "id": "d9324a9a-5330-41eb-b285-9114e9f9fa43",
      "metadata": {
        "id": "d9324a9a-5330-41eb-b285-9114e9f9fa43"
      },
      "source": [
        "# Download the image"
      ]
    },
    {
      "cell_type": "code",
      "execution_count": null,
      "id": "ba2b0380-339d-47e3-8a6e-36c60d6be582",
      "metadata": {
        "id": "ba2b0380-339d-47e3-8a6e-36c60d6be582"
      },
      "outputs": [],
      "source": [
        "# Get the data of the image from the metadata\n",
        "date_string = image.get('DATE_ACQUIRED').getInfo()\n",
        "\n",
        "# Now we will construct the filename automatically\n",
        "filename = region_name + '_' + date_string + '_image'\n",
        "\n",
        "# Visualise for testing\n",
        "print(\"The image will be saved to your Google Drive at:\\n\" + folder + '/' + filename + '.tif')\n",
        "\n",
        "# Export the image, specifying scale and region.\n",
        "task = ee.batch.Export.image.toDrive(**{\n",
        "    'image': image.select(['B4', 'B3', 'B2', 'B5', 'B6']),\n",
        "    'description': filename,\n",
        "    'folder': folder,\n",
        "    'scale': 30,\n",
        "    'region': region.getInfo()['coordinates']\n",
        "})\n",
        "task.start()\n",
        "\n",
        "while task.active():\n",
        "  print('Task processing ongoing... (id: {}).'.format(task.id))\n",
        "  time.sleep(5)\n",
        "\n",
        "print('Finished processing. Image is exported to your Drive.')"
      ]
    }
  ],
  "metadata": {
    "kernelspec": {
      "display_name": "Python (geospatial)",
      "language": "python",
      "name": "geospatial"
    },
    "language_info": {
      "codemirror_mode": {
        "name": "ipython",
        "version": 3
      },
      "file_extension": ".py",
      "mimetype": "text/x-python",
      "name": "python",
      "nbconvert_exporter": "python",
      "pygments_lexer": "ipython3",
      "version": "3.10.9"
    },
    "colab": {
      "provenance": [],
      "include_colab_link": true
    }
  },
  "nbformat": 4,
  "nbformat_minor": 5
}