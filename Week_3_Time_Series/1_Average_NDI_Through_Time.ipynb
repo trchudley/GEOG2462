{
  "cells": [
    {
      "cell_type": "markdown",
      "id": "ff4c665d-47cc-4d61-ae5f-db78ac253e02",
      "metadata": {
        "id": "ff4c665d-47cc-4d61-ae5f-db78ac253e02"
      },
      "source": [
        "<a href=\"https://colab.research.google.com/github/trchudley/GEOG2462/blob/main/Week_3_Time_Series/1_Average_NDI_Through_Time.ipynb\" target=\"_parent\"><img src=\"https://colab.research.google.com/assets/colab-badge.svg\" alt=\"Open In Colab\"/></a>"
      ]
    },
    {
      "cell_type": "markdown",
      "id": "40009b08-8f39-446b-b45a-369721de165d",
      "metadata": {
        "id": "40009b08-8f39-446b-b45a-369721de165d"
      },
      "source": [
        "# Calculate the average NDI over a sample area through time"
      ]
    },
    {
      "cell_type": "markdown",
      "id": "bbcc44fd-0056-4816-8140-b5515c265006",
      "metadata": {
        "id": "bbcc44fd-0056-4816-8140-b5515c265006"
      },
      "source": [
        "## Log in to Google Earth Engine"
      ]
    },
    {
      "cell_type": "markdown",
      "id": "5bafe369-5e11-4937-b7d7-e65f46eaba87",
      "metadata": {
        "id": "5bafe369-5e11-4937-b7d7-e65f46eaba87"
      },
      "source": [
        "As usual, we will import our packages and log in to Google Earth Engine. Note that we are exporting from some new packages this week - `pandas`, `matplotlib.pyplot`, and `google.colab`'s `drive`. `pandas` is a package for dealing with tabular data - think of it as Python's version of Microsoft Excel. `matplotlib` is Python's go-to plotting library for making graphs and figures (so far, we've been doing it all with Google Earth Engine, but now this week we'll plot directly in Python). The `google.colab` package is unique to working within Google Colaboratory - `drive` will allow us to connect directly to our Google Drive and export tabular data as, for instance, a csv or excel file.\n",
        "\n",
        "As always, make sure to replace the `project` name with your own in the `ee.Initialize` function.\n"
      ]
    },
    {
      "cell_type": "code",
      "execution_count": null,
      "id": "11c86403-f702-4af6-a620-093910aaa01c",
      "metadata": {
        "id": "11c86403-f702-4af6-a620-093910aaa01c"
      },
      "outputs": [],
      "source": [
        "import ee\n",
        "import geemap\n",
        "import pandas as pd\n",
        "import matplotlib.pyplot as plt\n",
        "from google.colab import drive\n",
        "\n",
        "ee.Authenticate()  # Trigger the authentication flow.\n",
        "ee.Initialize(project='ee-trchudley')    # Change to your own default project name."
      ]
    },
    {
      "cell_type": "markdown",
      "id": "62377970-776b-4270-ac74-a013732423e4",
      "metadata": {
        "id": "62377970-776b-4270-ac74-a013732423e4"
      },
      "source": [
        "## Identify region and NDI of interest"
      ]
    },
    {
      "cell_type": "markdown",
      "id": "50fad6f6-57d7-4a6a-b1e3-c166af96c0e4",
      "metadata": {
        "id": "50fad6f6-57d7-4a6a-b1e3-c166af96c0e4"
      },
      "source": [
        "We'll frontload our choices this week - setting out lat/lon, location name, sample area, and the type of NDI early.\n",
        "\n",
        "Note that this week, we will not be setting a large area to assess an image, but a smaller plot of land. I've set a 500 m radius here, but this could easily be larger - for example, 1000-2000 m. The important that is that this area represents a _sample_ of a single surface type, so the sample surface should be _homogenous_ (e.g. entirely a forest). I have chosen an spot of forest in Northern California near the town of Hoopa - you will see why later.\n",
        "\n",
        "A great example to show time-series over is NDVI over decidious vegetation, so that is what we will do this week. Note that I have set the NDI settings from last week here as well - NDVI requires an $R_{high}$ in the near infrared (band 5), and an $R_{low}$ in the red (band 4), so that is what I have done below."
      ]
    },
    {
      "cell_type": "code",
      "execution_count": null,
      "id": "13b32fd8-28dc-4704-acf7-7dac74ced72f",
      "metadata": {
        "id": "13b32fd8-28dc-4704-acf7-7dac74ced72f"
      },
      "outputs": [],
      "source": [
        "# Location - editable\n",
        "latitude = 41.017           # Degrees of latitude\n",
        "longitude = -123.611          # Degrees of longitude\n",
        "location_name = 'hoopa'  # recognisable name, to create a useful file name\n",
        "sample_radius = 1000         # radius of sample area around chosen point, in metres\n",
        "\n",
        "# NDI - editable\n",
        "type_of_ndi = 'NDVI'  # type of NDI calculated, for filename purposes\n",
        "r_high = 'B5'  # relevant band name for r_high\n",
        "r_low = 'B4'   # relevant band name for r_low\n",
        "\n",
        "# Set up location geometry\n",
        "point = ee.Geometry.Point(longitude, latitude)  # Create a point\n",
        "sample_region = point.buffer(sample_radius)     # Buffer the point\n"
      ]
    },
    {
      "cell_type": "markdown",
      "id": "a80b40de-3d11-42f9-81f9-74b34f84a3cc",
      "metadata": {
        "id": "a80b40de-3d11-42f9-81f9-74b34f84a3cc"
      },
      "source": [
        "Running the below cell will visualise the sample region. If you would like to ensure you are sampling a consistent surface, you can bring up a quick Landsat layer by clicking 🔧 > 🌐. The layer will appear on top of the search region so you might have to toggle the Landsat layer on and off to get a good idea of what is going on."
      ]
    },
    {
      "cell_type": "code",
      "execution_count": null,
      "id": "f8303691-999d-4fe4-aa08-7409925cebe1",
      "metadata": {
        "id": "f8303691-999d-4fe4-aa08-7409925cebe1"
      },
      "outputs": [],
      "source": [
        "Map = geemap.Map()  # Create an empty Map\n",
        "Map.addLayer(sample_region, {}, \"Search Region\")  # Add our AOI\n",
        "Map.centerObject(sample_region, zoom=12)  # Centre our map on the region of interest\n",
        "Map"
      ]
    },
    {
      "cell_type": "markdown",
      "id": "9b09f4fe-6b38-455d-a91d-c100b60225fa",
      "metadata": {
        "id": "9b09f4fe-6b38-455d-a91d-c100b60225fa"
      },
      "source": [
        "Finally, we will get the complete Landsat 8 record over the sample region. I do not filter by date - we will do that later - but I do a couple of things to filter cloudy pixels. The first is to filter by the `CLOUD_COVER` metadata only to images that have less then 70% cloud cover within an image. The second, which is slightly more complex, uses the `.map()` function. This is a new feature that will allow us to apply a processing routine to every individual image within the image collection. the `lambda image:` tells Python \"_as you go through the image collection, we will pretend that every individual image has the variable name_ `image`_. Then, perform the calculation to the right of the colon to every_ `image`_._\"\n",
        "\n",
        "Don't worry about the details of the lambda function. It takes advantage of Earth Engine's built in `simpleCloudScore` function. This assigns a probability to every single pixel that the image is cloud. I use this to _mask_ the images only to pixels that have a <20% chance of being cloud. Later in the notebook, we will be calculating the median NDVI value within the sample region - masking the cloudy pixels ensures we aren't also including the NDVI of cloudy regions within the median value. Clouds are the bane of optical remote sensors!"
      ]
    },
    {
      "cell_type": "code",
      "execution_count": null,
      "id": "ca402026-84b7-4702-8852-0829c7056de4",
      "metadata": {
        "id": "ca402026-84b7-4702-8852-0829c7056de4"
      },
      "outputs": [],
      "source": [
        "# Get Landsat 8 image collection\n",
        "landsat8_collection = ee.ImageCollection(\"LANDSAT/LC08/C02/T1_TOA\")\n",
        "\n",
        "# Filter to desired region and date bounds\n",
        "landsat8_collection = landsat8_collection.filterBounds(sample_region)\n",
        "landsat8_collection = landsat8_collection.sort('system:time_start')  # Sort by image date\n",
        "landsat8_collection = landsat8_collection.filter(ee.Filter.lt('CLOUD_COVER', 70))\n",
        "\n",
        "# Filter cloudy pixels within the images\n",
        "landsat8_collection = landsat8_collection.map(\n",
        "    lambda image: image.updateMask(ee.Algorithms.Landsat.simpleCloudScore(image).select(['cloud']).lte(20))\n",
        ")\n",
        "\n",
        "landsat8_collection"
      ]
    },
    {
      "cell_type": "markdown",
      "id": "1bdf1e4b-962c-4786-a291-f00f74044f2b",
      "metadata": {
        "id": "1bdf1e4b-962c-4786-a291-f00f74044f2b"
      },
      "source": [
        "Now that we have our cloud-masked image collection, I will show you three different ways we could extract a time-series of NDVI values within the sample region. They are subtly different but may have different uses to you within your project. If you think you aren't being served by the examples I've shown here, then feel free to ask me what you might want - if it's achievable, I'd be happy to write a new script that could extract the data you desire for your project.\n",
        "\n",
        "The three time-series we're going to extract are as follows. I'm going to refer to them as follows, although they aren't formal names:\n",
        "\n",
        "1. __Mean monthly NDI__: Average January-December NDI values across a number of years (e.g. January 2013-23, February 2013-23, `...`, December 2013-23).\n",
        "2. __Time-series mean monthly NDI__: Average monthly NDI values between two time periods (e.g. January 2013, February 2013, `...`, December 2023).\n",
        "3. __Time-series mean seasonal NDI__: Average NDI values over a set period, every year (e.g. June-August 2013, June-August 2014, `...`, June-August 2023)."
      ]
    },
    {
      "cell_type": "markdown",
      "id": "719a20b8-a814-4bca-b9aa-4f23f0dfd194",
      "metadata": {
        "id": "719a20b8-a814-4bca-b9aa-4f23f0dfd194"
      },
      "source": [
        "## Mean monthly NDI"
      ]
    },
    {
      "cell_type": "markdown",
      "id": "63de9e88-1ba0-4076-be4e-ecf27efc15ae",
      "metadata": {
        "id": "63de9e88-1ba0-4076-be4e-ecf27efc15ae"
      },
      "source": [
        "The first of our time-series requires only two input variables to be set: the beginning an end year we wish to collect the mean monthly NDI over. I have set this as a standard between 2014 and 2023. Although Landsat data exists for 2013, it didn't launch untill the 11th February. As a result, it will not have consistent data for the whole of 2013, and it is best to collect annual datasets from 2014 onwards.\n",
        "\n",
        "You might wish to consider breaking up this timespan for your project. For instance, maybe there is a difference between the seasonal NDI variation between 2014-2018 and 2019-2023 following some sort of human interference?"
      ]
    },
    {
      "cell_type": "code",
      "execution_count": null,
      "id": "607b27af-23fb-4041-bd71-604e47ab5395",
      "metadata": {
        "id": "607b27af-23fb-4041-bd71-604e47ab5395"
      },
      "outputs": [],
      "source": [
        "year_begin = 2014\n",
        "year_end = 2023"
      ]
    },
    {
      "cell_type": "markdown",
      "id": "96b4e375-23b7-43e0-83ae-ecab703d6ebb",
      "metadata": {
        "id": "96b4e375-23b7-43e0-83ae-ecab703d6ebb"
      },
      "source": [
        "Now we'll get to the nuts and bolts of the time-series extraction. Once again, you don't have to edit this or worry about the details, although you might be interested in the process. First, we create an empty `pandas` DataFrame (read: a table, like you would create in Excel) with \"month\" and \"NDVI\" columns (we get the \"NDVI\" name from the `type_of_ndi` variable, which we set above. This means that were you run with another type - such as NDWI - the column will be named correctly automatically).\n",
        "\n",
        "After this, we begin a 'loop'. In Python, means we iterate through a list, running the same instructions on every one. For instance, the instruction\n",
        "\n",
        "```python\n",
        "for i  in [1, 2, 3, 4, 5]:\n",
        "    print(i)\n",
        "```\n",
        "Would `print` the numbers `1` to `5` in order. In the cell below, we loop through the numbers `1` through `12` as the `month` variable, `filter`ing our Landsat 8 collection to only that month. If there's no images that month (not impossible), we return `None`. Else, we perform another `map`function, calculating our NDI using the `normalizedDifference` function to calculate the NDI for every image that month based on the `r_high` and `r_low` we set above. We then use the `.median()` function to produce a single composite image that is constructed as the median value from every image in the month. We use a `reduceRegion()` function to calculate the average value in our sample region in this composite image. Finally, we populate our table with this value, before starting again in the next month.\n",
        "\n",
        "Of course, you don't need to worry about all this - just run the cell and see what happens!"
      ]
    },
    {
      "cell_type": "code",
      "execution_count": null,
      "id": "14851367-142d-4af1-878c-f8350c3d5adb",
      "metadata": {
        "id": "14851367-142d-4af1-878c-f8350c3d5adb"
      },
      "outputs": [],
      "source": [
        "\n",
        "# Create an empty table with the columns ('month' and 'ndi')\n",
        "monthly_ndi_record = pd.DataFrame({'month': [], type_of_ndi: []})\n",
        "\n",
        "# Simple 'loading bar' showing the months\n",
        "print('Month:  JFMAMJJASOND\\n        ', end='')\n",
        "\n",
        "# Loop through months, calculating the mean NDI within the region of interest\n",
        "for month in [1, 2, 3, 4, 5, 6, 7, 8, 9, 10, 11, 12]:  # for every month in the range 1 through 12...\n",
        "    print('.', end='')  # Add a point on the 'loading bar'\n",
        "\n",
        "    # Filter images only to those within the chosen month\n",
        "    month_images = landsat8_collection.filter(ee.Filter.calendarRange(month, month, 'month'))\n",
        "\n",
        "    # If there are no available images, return 'NaN' ('not a number'; blank).\n",
        "    if month_images.size().getInfo() == 0:\n",
        "        mean_ndi = None\n",
        "\n",
        "    # Else (i.e. if there *are* images...)\n",
        "    else:\n",
        "        # Calculate NDI for every image in the image collection (this is called 'mapping')\n",
        "        month_ndis = month_images.map(lambda image: image.normalizedDifference([r_high, r_low]).rename(type_of_ndi))\n",
        "\n",
        "        # Calculate a composite NDI image by calculating the median through the image collection\n",
        "        month_ndi = month_ndis.median()\n",
        "\n",
        "        # Calculate the average NDI of the composite image within the region of interest\n",
        "        mean_ndi = month_ndi.reduceRegion(reducer=ee.Reducer.mean(), geometry=sample_region, scale=30).getInfo()[type_of_ndi]\n",
        "\n",
        "    # Add a row to the table containing the relevant data\n",
        "    df = pd.DataFrame({'month': [int(month)], type_of_ndi: [mean_ndi]})\n",
        "    monthly_ndi_record = pd.concat([monthly_ndi_record, df])\n",
        "\n",
        "# DataFrame wrangling to correct errors introduced by concatenating records.\n",
        "monthly_ndi_record = monthly_ndi_record.reset_index().drop(columns='index')\n",
        "\n",
        "# Print 'finished' when we're finished calculating\n",
        "print('\\n        Finished!')"
      ]
    },
    {
      "cell_type": "markdown",
      "id": "a86e19c5-ec7b-47d2-a188-e501231f8a3c",
      "metadata": {
        "id": "a86e19c5-ec7b-47d2-a188-e501231f8a3c"
      },
      "source": [
        "Now that we have the data in a `pandas` DataFrame (a table), we can view the data as such:"
      ]
    },
    {
      "cell_type": "code",
      "execution_count": null,
      "id": "80ef5511-f16a-4348-a465-347623cb3a1f",
      "metadata": {
        "id": "80ef5511-f16a-4348-a465-347623cb3a1f"
      },
      "outputs": [],
      "source": [
        "monthly_ndi_record"
      ]
    },
    {
      "cell_type": "markdown",
      "id": "851a1fc7-54c5-4605-b694-341bc81c875a",
      "metadata": {
        "id": "851a1fc7-54c5-4605-b694-341bc81c875a"
      },
      "source": [
        "This DataFrame also has some nice plotting functions, which we can use in combination with the Python `matplotlib` package to create a graph of our data:"
      ]
    },
    {
      "cell_type": "code",
      "execution_count": null,
      "id": "a88c3519-829d-4db2-b913-debd064ee6da",
      "metadata": {
        "id": "a88c3519-829d-4db2-b913-debd064ee6da"
      },
      "outputs": [],
      "source": [
        "# create an empty figure\n",
        "fig, ax = plt.subplots(layout='constrained')\n",
        "\n",
        "# plot the NDI record from the pandas DataFrame\n",
        "monthly_ndi_record.plot('month', type_of_ndi, ax=ax)\n",
        "\n",
        "# Set the x and y labels\n",
        "ax.set_xlabel('Month')\n",
        "ax.set_ylabel(type_of_ndi)"
      ]
    },
    {
      "cell_type": "markdown",
      "id": "d9dd6a43-d32e-41a6-b881-6f8d608272d5",
      "metadata": {
        "id": "d9dd6a43-d32e-41a6-b881-6f8d608272d5"
      },
      "source": [
        "This NDVI variation makes sense for a deciduous forest: lower in the winter, and higher in the summer.\n",
        "\n",
        "> **Note:** You do not have to worry about being able to plot graphs in Python (unless you feel like learning about it, of course!). At the end of the notebook, we will export these data to your Google Drive as a .csv file, which means you can display the graphs in a software of your choice (Excel, etc.) for your final project. If you feel like learning, LLM AI tools, such as ChatGPT or Google Bard, are a great way to help you learn coding skills. Just ask them what you should do, provide sample code, and give them any errors if things go wrong!"
      ]
    },
    {
      "cell_type": "markdown",
      "id": "159985d0-2749-456b-9d9a-973b544a37b8",
      "metadata": {
        "id": "159985d0-2749-456b-9d9a-973b544a37b8"
      },
      "source": [
        "## Time-series mean monthly NDI"
      ]
    },
    {
      "cell_type": "markdown",
      "id": "9ed8bc21-f801-40c7-8371-e2bd0a66a832",
      "metadata": {
        "id": "9ed8bc21-f801-40c7-8371-e2bd0a66a832"
      },
      "source": [
        "In the section above, we calculate average NDI values for every month based on all years. However, we can also go month-by-month, producing a time-series of NDI behaviour.\n",
        "\n",
        "This is slightly more time-consuming, so for now we will choose a slightly smaller range of years -- 2020 and 2023. You could go all out and set 2013 and 2023 if you like, or just set both years the same (e.g. 2020 and 2020) if you'd only like a single year."
      ]
    },
    {
      "cell_type": "code",
      "execution_count": null,
      "id": "94bde3b5-2214-4d07-828e-25747400f72c",
      "metadata": {
        "id": "94bde3b5-2214-4d07-828e-25747400f72c"
      },
      "outputs": [],
      "source": [
        "year_begin = 2020\n",
        "year_end = 2023"
      ]
    },
    {
      "cell_type": "markdown",
      "id": "aa5f3932-306a-46fc-a866-4ef2575c843d",
      "metadata": {
        "id": "aa5f3932-306a-46fc-a866-4ef2575c843d"
      },
      "source": [
        "The cell below is largely similar to the section above, but notice this time we have two loops: `for year in [years]` and `for month in [months]`. This means we go through ever year in our temporal range, then every month in every one of those years..."
      ]
    },
    {
      "cell_type": "code",
      "execution_count": null,
      "id": "6de3cfba-2bd9-4aa5-af57-c6f0ef1a1721",
      "metadata": {
        "id": "6de3cfba-2bd9-4aa5-af57-c6f0ef1a1721"
      },
      "outputs": [],
      "source": [
        "\n",
        "# Create an empty table with the relevant columns ('date' and 'ndi')\n",
        "timeseries_ndi_record = pd.DataFrame({'date': [], type_of_ndi: []})\n",
        "\n",
        "# Simple 'loading bar'\n",
        "print('Year    JFMAMJJASOND')\n",
        "\n",
        "# Loop through years and months, calculating the mean NDI within the region of interest\n",
        "\n",
        "for year in list(range(year_begin, year_end+1)): # For every year in the range year_begin to year_end...\n",
        "    print(f'{year}    ', end='')  # Another 'loading bar' component\n",
        "\n",
        "    for month in [1, 2, 3, 4, 5, 6, 7, 8, 9, 10, 11, 12]:  # For every month in the range 1 to 12...\n",
        "        print('.', end='')  # Another 'loading bar' component\n",
        "\n",
        "        # Filter images only to those within the chosen month\n",
        "        month_start = f'{year}-{month}-01'\n",
        "        month_end = f'{year}-{month+1}-01' if month != 12 else f'{year+1}-01-01'\n",
        "        month_images = landsat8_collection.filterDate(month_start, month_end)\n",
        "\n",
        "        # If there are no available images, return 'NaN' ('not a number'; blank).\n",
        "        if month_images.size().getInfo() == 0:\n",
        "            mean_ndi = None\n",
        "\n",
        "        # Else (i.e. if there *are* images...)\n",
        "        else:\n",
        "            # Calculate NDI for every image in the image collection (this is called 'mapping')\n",
        "            month_ndis = month_images.map(lambda image: image.normalizedDifference([r_high, r_low]).rename(type_of_ndi))\n",
        "\n",
        "            # Calculate a composite NDI image by calculating the median through the image collection\n",
        "            month_ndi = month_ndis.median()\n",
        "\n",
        "            # Calculate the average NDI of the composite image within the region of interest\n",
        "            mean_ndi = month_ndi.reduceRegion(reducer=ee.Reducer.mean(), geometry=sample_region, scale=30).getInfo()[type_of_ndi]\n",
        "\n",
        "        df = pd.DataFrame({'date': [pd.to_datetime(f'{year}-{month}-15')], type_of_ndi: [mean_ndi]})\n",
        "        timeseries_ndi_record = pd.concat([timeseries_ndi_record, df])\n",
        "    print('')\n",
        "\n",
        "print('Finished!')"
      ]
    },
    {
      "cell_type": "markdown",
      "id": "339fc528-ac32-4c82-937e-d01c98cb76d5",
      "metadata": {
        "id": "339fc528-ac32-4c82-937e-d01c98cb76d5"
      },
      "source": [
        "See what this looks like as a DataFrame:"
      ]
    },
    {
      "cell_type": "code",
      "execution_count": null,
      "id": "3340ca2a-1916-4c91-bf87-a8967e2aed03",
      "metadata": {
        "id": "3340ca2a-1916-4c91-bf87-a8967e2aed03"
      },
      "outputs": [],
      "source": [
        "timeseries_ndi_record"
      ]
    },
    {
      "cell_type": "markdown",
      "id": "034944fb-cbb7-4c43-9ab6-4ae715eee358",
      "metadata": {
        "id": "034944fb-cbb7-4c43-9ab6-4ae715eee358"
      },
      "source": [
        "Note that, as we assign a nominal date to the images, they are set to be the 15th of every month. Just remember that this actually represents a monthly average.\n",
        "\n",
        "And we can plot it:"
      ]
    },
    {
      "cell_type": "code",
      "execution_count": null,
      "id": "2a5edc9d-0301-4075-8004-87e39f026844",
      "metadata": {
        "id": "2a5edc9d-0301-4075-8004-87e39f026844"
      },
      "outputs": [],
      "source": [
        "# create an empty figure\n",
        "fig, ax = plt.subplots(layout='constrained')\n",
        "\n",
        "# plot the NDI record from the pandas DataFrame\n",
        "timeseries_ndi_record.plot('date', type_of_ndi, ax=ax)\n",
        "\n",
        "# Set the x and y labels\n",
        "ax.set_xlabel('Date')\n",
        "ax.set_ylabel(type_of_ndi)"
      ]
    },
    {
      "cell_type": "markdown",
      "id": "a47fe746-42fa-48f2-9f7d-b96b2a39e246",
      "metadata": {
        "id": "a47fe746-42fa-48f2-9f7d-b96b2a39e246"
      },
      "source": [
        "Notice that our dataset isn't quite as pretty as before. Theoretically, we can get a Landsat image every two weeks (and more so as we get closer to the poles, as the satellite tracks begin to converge and parallel images begin to overlap). However, cloud is a big problem: if there are only a few scenes in a month, then there is a likelihood that a lot of these scenes are cloud-covered.\n",
        "\n",
        "It will be up to your to critically assess your data in your project. Is a spike in your data likely real or an anomaly? This is important to explicitly discuss when weighing up the strengths of your conclusions in your project report.\n",
        "\n",
        "For instance, in the dataset above it is unlikely that the single-month large negative spikes are realistic. However, the large decline from July 2023? Those are the [visible effects of wildfires](https://www.times-standard.com/2023/08/19/hoopa-area-fire-more-than-doubles-in-size-as-another-storm-system-moves-in/)! In your project, hopefully you are motivated to assess known events. A wildfire project might involve using the week 2 script to quantify the areal extent of a wildfire, and the time-series to track recovery rates."
      ]
    },
    {
      "cell_type": "markdown",
      "id": "45a52f0d-77e9-4766-af0c-d9403f43c35e",
      "metadata": {
        "id": "45a52f0d-77e9-4766-af0c-d9403f43c35e"
      },
      "source": [
        "## Time-series mean seasonal NDI"
      ]
    },
    {
      "cell_type": "markdown",
      "id": "74421678-862d-47f7-a43e-1d0a3b495fc7",
      "metadata": {
        "id": "74421678-862d-47f7-a43e-1d0a3b495fc7"
      },
      "source": [
        "For the final method, we are going to extract a single NDI value per year. However, we will extract this value over a number of months. In the cell below, we set our `month_begin` and `month_end` value to 6 (June) and 8 (August) respectively. This means we will be assessing NDVI over the three summer months. However, you could just as easily set the values to 1 and 12 to assess mean NDVI over the entire year, or 10 and 10 to assess only over October (for example)."
      ]
    },
    {
      "cell_type": "code",
      "execution_count": null,
      "id": "389f4e2a-d1eb-44e5-95d6-8778d11f0c6a",
      "metadata": {
        "id": "389f4e2a-d1eb-44e5-95d6-8778d11f0c6a"
      },
      "outputs": [],
      "source": [
        "year_begin = 2014\n",
        "year_end = 2023\n",
        "\n",
        "month_begin = 6\n",
        "month_end = 8"
      ]
    },
    {
      "cell_type": "markdown",
      "id": "3eacb197-f425-4235-bc25-5259a09d149b",
      "metadata": {
        "id": "3eacb197-f425-4235-bc25-5259a09d149b"
      },
      "source": [
        "The cell below will look familiar by this point, with some minor changes (try and find them if you like, and think about what they are doing)."
      ]
    },
    {
      "cell_type": "code",
      "execution_count": null,
      "id": "1c011349-b458-4e60-87b4-83578c97037d",
      "metadata": {
        "id": "1c011349-b458-4e60-87b4-83578c97037d"
      },
      "outputs": [],
      "source": [
        "\n",
        "# Create an empty table with the relevant columns ('year' and 'ndi')\n",
        "seasonal_ndi_record = pd.DataFrame({'year': [], type_of_ndi: []})\n",
        "\n",
        "# Simple 'loading bar'\n",
        "print('Year')\n",
        "\n",
        "# Loop through years, calculating the mean NDI within the region of interest\n",
        "\n",
        "for year in list(range(year_begin, year_end+1)): # For every year in the range year_begin to year_end...\n",
        "    print(f'{year}... ', end='')  # Another 'loading bar' component\n",
        "\n",
        "    # Filter images only to those within the chosen month and year\n",
        "    month_images = landsat8_collection.filter(ee.Filter.calendarRange(month_begin, month_end, 'month')).filter(ee.Filter.calendarRange(year, year, 'year'))\n",
        "\n",
        "    # If there are no available images, return 'NaN' ('not a number'; blank).\n",
        "    if month_images.size().getInfo() == 0:\n",
        "        mean_ndi = None\n",
        "\n",
        "    # Else (i.e. if there *are* images...)\n",
        "    else:\n",
        "        # Calculate NDI for every image in the image collection (this is called 'mapping')\n",
        "        month_ndis = month_images.map(lambda image: image.normalizedDifference([r_high, r_low]).rename(type_of_ndi))\n",
        "\n",
        "        # Calculate a composite NDI image by calculating the median through the image collection\n",
        "        month_ndi = month_ndis.median()\n",
        "\n",
        "        # Calculate the average NDI of the composite image within the region of interest\n",
        "        mean_ndi = month_ndi.reduceRegion(reducer=ee.Reducer.mean(), geometry=sample_region, scale=30).getInfo()[type_of_ndi]\n",
        "\n",
        "    df = pd.DataFrame({'year': [year], type_of_ndi: [mean_ndi]})\n",
        "    seasonal_ndi_record = pd.concat([seasonal_ndi_record, df])\n",
        "\n",
        "print('Finished!')"
      ]
    },
    {
      "cell_type": "markdown",
      "id": "401dc72a-9826-4583-9a13-a563299a872f",
      "metadata": {
        "id": "401dc72a-9826-4583-9a13-a563299a872f"
      },
      "source": [
        "This gives us our final record:"
      ]
    },
    {
      "cell_type": "code",
      "execution_count": null,
      "id": "6f53c39d-823d-4a25-939a-e1e8858ed1b4",
      "metadata": {
        "id": "6f53c39d-823d-4a25-939a-e1e8858ed1b4"
      },
      "outputs": [],
      "source": [
        "seasonal_ndi_record"
      ]
    },
    {
      "cell_type": "markdown",
      "id": "9abf193d-113a-48fd-b89a-cf30f5fb17be",
      "metadata": {
        "id": "9abf193d-113a-48fd-b89a-cf30f5fb17be"
      },
      "source": [
        "Which we can plot again:"
      ]
    },
    {
      "cell_type": "code",
      "execution_count": null,
      "id": "03eb1a05-1043-4e70-84e1-68485167eb6c",
      "metadata": {
        "id": "03eb1a05-1043-4e70-84e1-68485167eb6c"
      },
      "outputs": [],
      "source": [
        "# create an empty figure\n",
        "fig, ax = plt.subplots(layout='constrained')\n",
        "\n",
        "# plot the NDI record from the pandas DataFrame\n",
        "seasonal_ndi_record.plot('year', type_of_ndi, ax=ax)\n",
        "\n",
        "# Set the x and y labels\n",
        "ax.set_xlabel('Year')\n",
        "ax.set_ylabel(type_of_ndi)"
      ]
    },
    {
      "cell_type": "markdown",
      "id": "00835082-cb15-420b-924f-be55410295e1",
      "metadata": {
        "id": "00835082-cb15-420b-924f-be55410295e1"
      },
      "source": [
        "Expanding our range from a monthly assessment to a seasonal assessment gives us more images to draw from, increase chance we obtain consistent, reliable sample."
      ]
    },
    {
      "cell_type": "markdown",
      "id": "72acdcbf-0e35-4f2f-bdb0-f3ba9354ebcc",
      "metadata": {
        "id": "72acdcbf-0e35-4f2f-bdb0-f3ba9354ebcc"
      },
      "source": [
        "## Export data as `.csv` files to Google Drive"
      ]
    },
    {
      "cell_type": "markdown",
      "id": "8ff25520-f58b-407d-96be-4e62b85c2f02",
      "metadata": {
        "id": "8ff25520-f58b-407d-96be-4e62b85c2f02"
      },
      "source": [
        "Now, we must export our data to Google Drive. We will do this slightly differently to previously - before, we were telling Google Earth Engine to export data to our Google Drive. Now, we have our data with us as `pandas` DataFrames, which have their own export function.\n",
        "\n",
        "First, we must 'mount' our Google Drive onto the Google Colab. This is done using the custom `drive.mount()` function."
      ]
    },
    {
      "cell_type": "code",
      "execution_count": null,
      "id": "318fba67-a804-409a-a7cd-8f3352d455b8",
      "metadata": {
        "id": "318fba67-a804-409a-a7cd-8f3352d455b8"
      },
      "outputs": [],
      "source": [
        "drive.mount('/content/drive')"
      ]
    },
    {
      "cell_type": "markdown",
      "id": "b5862ab0-a3d4-49b2-bf63-b96f9e02a8cc",
      "metadata": {
        "id": "b5862ab0-a3d4-49b2-bf63-b96f9e02a8cc"
      },
      "source": [
        "Now, we can proceed as though our Google Drive is part of the current filesystem.\n",
        "\n",
        "First, choose a top-level directory to set as your export location. For now, I've kept it the same as previous weeks, although you are free to change this if you wish."
      ]
    },
    {
      "cell_type": "code",
      "execution_count": null,
      "id": "5068e032-93fd-43b7-861d-4d81d15f19f0",
      "metadata": {
        "id": "5068e032-93fd-43b7-861d-4d81d15f19f0"
      },
      "outputs": [],
      "source": [
        "# You can edit this variable\n",
        "folder = 'scires_project_2C'"
      ]
    },
    {
      "cell_type": "markdown",
      "id": "5b264cb5-95c1-40cd-9368-abcd62f07dc8",
      "metadata": {
        "id": "5b264cb5-95c1-40cd-9368-abcd62f07dc8"
      },
      "source": [
        "Then, we can export our data using the `pandas` DataFrame `.to_csv()` function. As in previous weeks, I have set the filename to generate automatically based on the location name we have set at the top of the notebook."
      ]
    },
    {
      "cell_type": "code",
      "execution_count": null,
      "id": "7474e20f-820c-4a9f-a862-9e34484d4f61",
      "metadata": {
        "id": "7474e20f-820c-4a9f-a862-9e34484d4f61"
      },
      "outputs": [],
      "source": [
        "# Construct the filename automatically\n",
        "filename = location_name + '_monthly_ndi.csv'\n",
        "\n",
        "# Print out filename for reference\n",
        "print(\"The image will be saved to your Google Drive at:\\n\" + folder + '/' + filename + '\\n')\n",
        "\n",
        "# Export the pandas dataframe to a csv file\n",
        "monthly_ndi_record.to_csv(f'/content/drive/My Drive/{folder}/{filename}', index=False)\n",
        "\n",
        "print('Saved.')"
      ]
    },
    {
      "cell_type": "markdown",
      "id": "1fa7bb5e-84dd-49dd-812d-b37e88532892",
      "metadata": {
        "id": "1fa7bb5e-84dd-49dd-812d-b37e88532892"
      },
      "source": [
        "Note that, compared to Google Earth Engine, this is a lot quicker. This is because we're just exporting a very small text file, rather than processing and exporting large images!\n",
        "\n",
        "The next two cells will export the other two time-series we have constructed."
      ]
    },
    {
      "cell_type": "code",
      "execution_count": null,
      "id": "40f681fc-b52b-4560-a76a-41ca6dfdf59e",
      "metadata": {
        "id": "40f681fc-b52b-4560-a76a-41ca6dfdf59e"
      },
      "outputs": [],
      "source": [
        "# Construct the filename automatically\n",
        "filename = location_name + '_timeseries_ndi.csv'\n",
        "\n",
        "# Print out filename for reference\n",
        "print(\"The image will be saved to your Google Drive at:\\n\" + folder + '/' + filename + '\\n')\n",
        "\n",
        "# Export the pandas dataframe to a csv file\n",
        "timeseries_ndi_record.to_csv(f'/content/drive/My Drive/{folder}/{filename}', index=False)\n",
        "\n",
        "print('Saved.')"
      ]
    },
    {
      "cell_type": "code",
      "execution_count": null,
      "id": "e92708e2-1a77-4be4-a49b-166628322491",
      "metadata": {
        "id": "e92708e2-1a77-4be4-a49b-166628322491"
      },
      "outputs": [],
      "source": [
        "# Construct the filename automatically\n",
        "filename = location_name + '_seasonal_ndi.csv'\n",
        "\n",
        "# Print out filename for reference\n",
        "print(\"The image will be saved to your Google Drive at:\\n\" + folder + '/' + filename + '\\n')\n",
        "\n",
        "# Export the pandas dataframe to a csv file\n",
        "seasonal_ndi_record.to_csv(f'/content/drive/My Drive/{folder}/{filename}', index=False)\n",
        "\n",
        "print('Saved.')"
      ]
    },
    {
      "cell_type": "markdown",
      "id": "1fb8c47b-f7ee-49cd-b657-cf65c40055ab",
      "metadata": {
        "id": "1fb8c47b-f7ee-49cd-b657-cf65c40055ab"
      },
      "source": [
        "Check your Google Drive to confirm they have appeared. You can now open them in software of your choosing. Unlike previously, this week won't include a section on analysing these data. I will leave it up to you how you might wish to analyse these data for your project (if you choose to use this approach). It might be as simple as presenting them as a graph in Excel -- or you might wish to perform a statistical test, such as a linear regression, to show change over time. If you're at a loss, things might be clearer next week, when we download and visualise complementary climate records."
      ]
    }
  ],
  "metadata": {
    "kernelspec": {
      "display_name": "Python (geospatial)",
      "language": "python",
      "name": "geospatial"
    },
    "language_info": {
      "codemirror_mode": {
        "name": "ipython",
        "version": 3
      },
      "file_extension": ".py",
      "mimetype": "text/x-python",
      "name": "python",
      "nbconvert_exporter": "python",
      "pygments_lexer": "ipython3",
      "version": "3.10.9"
    },
    "colab": {
      "provenance": []
    }
  },
  "nbformat": 4,
  "nbformat_minor": 5
}