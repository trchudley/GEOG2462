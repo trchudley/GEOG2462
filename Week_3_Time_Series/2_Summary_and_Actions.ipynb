{
  "nbformat": 4,
  "nbformat_minor": 0,
  "metadata": {
    "colab": {
      "provenance": [],
      "authorship_tag": "ABX9TyOLZIqBpbrBiv0BUN1WV6Wg"
    },
    "kernelspec": {
      "name": "python3",
      "display_name": "Python 3"
    },
    "language_info": {
      "name": "python"
    }
  },
  "cells": [
    {
      "cell_type": "markdown",
      "source": [
        "# Week 3 Summary and Actions\n",
        "\n",
        "This week, we learned how to:\n",
        "\n",
        " - Generate time-series of NDI values for a small sample plot region under a variety of context.\n",
        "  - Long-term average monthly data.\n",
        "  - Time-series monthly data.\n",
        "  - Time-series mean seasonal data.\n",
        " - Plot this data in Python.\n",
        " - Export this data for further analysis.\n",
        "\n",
        "\n",
        " We did this for a region of Northern California between 2023-2024, showing how can visualise seasonal NDVI in decidious forests (as well as wildfires!).\n",
        "\n",
        " **Task 1: Offline Data Analysis**\n",
        "\n",
        "1. Download the `.csv` file from your Google Drive into a sensible offline location.\n",
        "2. Explore the data in software you are previous with from elsewhere in your degree programme (e.g. Excel and Stata). Are you confident performing simple data analyses (e.g. graphing, means/medians, linear regressions) that could be useful for your project? If not, take this opportunity to revisit the Blackboard sessions from last year, or ask us for help.\n",
        "\n",
        "**Task 2: Transferring knowledge elsewhere**\n",
        "\n",
        "As in previous weeks, adapt the code to apply to a study site of your choosing! (NDWI over a flood plain? NDSI over a mountaintop? NDVI over different types of vegetation?) If you're already confident about a study area for your final project, all the better. See if you can extract useful or interesting relationships over your chosen surface.\n",
        "\n",
        "Remember that stripped-down version of the Notebooks (without the explanatory text) are available in the [Short Scripts folder on Github](https://github.com/trchudley/GEOG2462/tree/main/Short_Scripts), allowing you to accelerate your data production."
      ],
      "metadata": {
        "id": "P1uZRGty-HUD"
      }
    }
  ]
}